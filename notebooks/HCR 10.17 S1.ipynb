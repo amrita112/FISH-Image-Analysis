{
 "cells": [
  {
   "cell_type": "markdown",
   "metadata": {
    "heading_collapsed": true
   },
   "source": [
    "# Imports"
   ]
  },
  {
   "cell_type": "code",
   "execution_count": 35,
   "metadata": {
    "ExecuteTime": {
     "end_time": "2020-03-06T19:04:31.205728Z",
     "start_time": "2020-03-06T19:04:31.189771Z"
    },
    "hidden": true
   },
   "outputs": [],
   "source": [
    "%matplotlib qt\n",
    "\n",
    "from IPython import get_ipython\n",
    "ipython = get_ipython()\n",
    "ipython.magic(\"gui qt5\") \n",
    "\n",
    "import napari\n",
    "from PIL import Image\n",
    "\n",
    "import numpy as np\n",
    "import cv2\n",
    "\n",
    "import matplotlib.pyplot as plt\n",
    "from mpl_toolkits import mplot3d\n",
    "import matplotlib.colors as colors\n",
    "\n",
    "import time\n",
    "\n",
    "import pickle as pkl\n",
    "from os.path import sep\n",
    "\n",
    "import Cell\n",
    "import pixels_in_roi\n",
    "import diff_gauss\n",
    "import scatter_channels\n",
    "import hist_channels\n",
    "import m_dist"
   ]
  },
  {
   "cell_type": "markdown",
   "metadata": {
    "heading_collapsed": true
   },
   "source": [
    "# Load images"
   ]
  },
  {
   "cell_type": "markdown",
   "metadata": {
    "heading_collapsed": true,
    "hidden": true
   },
   "source": [
    "## Raw images"
   ]
  },
  {
   "cell_type": "code",
   "execution_count": 3,
   "metadata": {
    "ExecuteTime": {
     "end_time": "2020-03-04T03:04:43.320259Z",
     "start_time": "2020-03-04T03:02:16.966847Z"
    },
    "hidden": true
   },
   "outputs": [
    {
     "name": "stdout",
     "output_type": "stream",
     "text": [
      "Number of planes: 15\n",
      "Size of image in pixels: 15 X 2866 X 11160\n",
      "Loading image 1, 1.0 seconds\n",
      "Loading image 2, 9.0 seconds\n",
      "Loading image 3, 19.0 seconds\n",
      "Loading image 4, 29.0 seconds\n",
      "Loading image 5, 38.0 seconds\n",
      "Loading image 6, 48.0 seconds\n",
      "Loading image 7, 58.0 seconds\n",
      "Loading image 8, 68.0 seconds\n",
      "Loading image 9, 78.0 seconds\n",
      "Loading image 10, 88.0 seconds\n",
      "Loading image 11, 98.0 seconds\n",
      "Loading image 12, 107.0 seconds\n",
      "Loading image 13, 117.0 seconds\n",
      "Loading image 14, 126.0 seconds\n",
      "Loading image 15, 136.0 seconds\n"
     ]
    }
   ],
   "source": [
    "# %% Load images\n",
    "t0 = time.time()\n",
    "folder = 'G:\\\\Shared drives\\\\as_share\\\\HCR\\\\HCR_10.17\\\\S1_DAPI_546_647_514_594'\n",
    "plane_nos = range(1, 16)\n",
    "\n",
    "# base_filename2 = 'S1_dapi_546_488_647_s2z'\n",
    "base_filename = 'S1_DAPI_546_647_514_594_z'\n",
    "n = len(plane_nos)\n",
    "print('Number of planes: {0}'.format(n))\n",
    "\n",
    "# Create 4D array to store images\n",
    "img = Image.open('{0}\\\\{1}{2}c4_ORG.tif'.format(folder, base_filename, str(plane_nos[0]).zfill(2)))\n",
    "\n",
    "h = img.height\n",
    "w = img.width\n",
    "im_array_gad1 = np.zeros([n, h, w])\n",
    "im_array_vip = np.zeros([n, h, w])\n",
    "im_array_sst = np.zeros([n, h, w])\n",
    "im_array_ndnf = np.zeros([n, h, w])\n",
    "print('Size of image in pixels: {0} X {1} X {2}'.format(n, h, w))\n",
    "\n",
    "for i in range(n):\n",
    "    print('Loading image {0}, {1} seconds'.format(i + 1, np.round(time.time() - t0)))\n",
    "    p = plane_nos[i]\n",
    "    img_gad1 = Image.open('{0}\\{1}{2}c4_ORG.tif'.format(folder, base_filename, str(p).zfill(2)))\n",
    "    img_vip = Image.open('{0}\\{1}{2}c2_ORG.tif'.format(folder, base_filename, str(p).zfill(2)))\n",
    "    img_sst = Image.open('{0}\\{1}{2}c5_ORG.tif'.format(folder, base_filename, str(p).zfill(2)))\n",
    "    img_ndnf = Image.open('{0}\\{1}{2}c3_ORG.tif'.format(folder, base_filename, str(p).zfill(2)))\n",
    "    try:\n",
    "        im_array_gad1[i, :, :] = np.array(img_gad1)\n",
    "        im_array_vip[i, :, :] = np.array(img_vip)\n",
    "        im_array_sst[i, :, :] = np.array(img_sst)\n",
    "        im_array_ndnf[i, :, :] = np.array(img_ndnf)\n",
    "    except:\n",
    "        print('Plane {0} could not be loaded'.format(p))\n",
    "        print('Size of plane {0} in pixels: {0} X {1}'.format(img.height, img.width))\n",
    "        im_array_gad1 = np.delete(im_array_gad1, i, axis = 0)\n",
    "        im_array_vip = np.delete(im_array_vip, i, axis = 0)\n",
    "        im_array_sst = np.delete(im_array_sst, i, axis = 0)\n",
    "        im_array_ndnf = np.delete(im_array_ndnf, i, axis = 0)\n",
    "        plane_nos.remove(p)\n",
    "        i -= 1\n",
    "        n = len(plane_nos)\n",
    "        continue\n",
    "\n",
    "del img_gad1\n",
    "del img_vip\n",
    "del img_sst\n",
    "del img_ndnf"
   ]
  },
  {
   "cell_type": "markdown",
   "metadata": {
    "heading_collapsed": true,
    "hidden": true
   },
   "source": [
    "## Background subtracted (rolling ball)"
   ]
  },
  {
   "cell_type": "code",
   "execution_count": null,
   "metadata": {
    "hidden": true
   },
   "outputs": [],
   "source": [
    "# Background subtracted (using rolling ball background subtraction in Fiji)\n",
    "print('Ndnf')\n",
    "im_array_ndnf = np.zeros([n, h, w])\n",
    "img_file = 'S2_Ndnf_bg_sub2'\n",
    "img = Image.open('{0}\\{1}.tif'.format(folder, img_file))\n",
    "for i in range(n):\n",
    "    print('Loading image {0}'.format(i + 1))\n",
    "    p = plane_nos[i]\n",
    "    try:\n",
    "        img.seek(p - 1)\n",
    "        im_array_ndnf[i, :, :] = np.array(img)\n",
    "        \n",
    "    except:\n",
    "        print('Plane {0} could not be loaded'.format(p))\n",
    "        print('Size of plane {0} in pixels: {0} X {1}'.format(img.height, img.width))\n",
    "        im_array_ndnf = np.delete(im_array_ndnf, i, axis = 0)\n",
    "        plane_nos.remove(p)\n",
    "        i -= 1\n",
    "        n = len(plane_nos)\n",
    "        continue\n",
    "\n",
    "print('Vip')\n",
    "im_array_vip = np.zeros([n, h, w])\n",
    "img_file = 'S2_Vip_bg_sub2'\n",
    "img = Image.open('{0}\\{1}.tif'.format(folder, img_file))\n",
    "for i in range(n):\n",
    "    print('Loading image {0}'.format(i + 1))\n",
    "    p = plane_nos[i]\n",
    "    try:\n",
    "        img.seek(p - 1)\n",
    "        im_array_vip[i, :, :] = np.array(img)\n",
    "        \n",
    "    except:\n",
    "        print('Plane {0} could not be loaded'.format(p))\n",
    "        print('Size of plane {0} in pixels: {0} X {1}'.format(img.height, img.width))\n",
    "        im_array_vip = np.delete(im_array_vip, i, axis = 0)\n",
    "        plane_nos.remove(p)\n",
    "        i -= 1\n",
    "        n = len(plane_nos)\n",
    "        continue\n",
    "        \n",
    "        \n",
    "print('Sst')\n",
    "im_array_sst = np.zeros([n, h, w])\n",
    "img_file = 'S2_Sst_bg_sub2'\n",
    "img = Image.open('{0}\\{1}.tif'.format(folder, img_file))\n",
    "for i in range(n):\n",
    "    print('Loading image {0}'.format(i + 1))\n",
    "    p = plane_nos[i]\n",
    "    try:\n",
    "        img.seek(p - 1)\n",
    "        im_array_sst[i, :, :] = np.array(img)\n",
    "        \n",
    "    except:\n",
    "        print('Plane {0} could not be loaded'.format(p))\n",
    "        print('Size of plane {0} in pixels: {0} X {1}'.format(img.height, img.width))\n",
    "        im_array_sst = np.delete(im_array_sst, i, axis = 0)\n",
    "        plane_nos.remove(p)\n",
    "        i -= 1\n",
    "        n = len(plane_nos)\n",
    "        continue    "
   ]
  },
  {
   "cell_type": "markdown",
   "metadata": {
    "heading_collapsed": true
   },
   "source": [
    "# Render images in napari GUI"
   ]
  },
  {
   "cell_type": "markdown",
   "metadata": {
    "heading_collapsed": true,
    "hidden": true
   },
   "source": [
    "## Raw images"
   ]
  },
  {
   "cell_type": "code",
   "execution_count": 4,
   "metadata": {
    "ExecuteTime": {
     "end_time": "2020-03-04T03:05:11.903314Z",
     "start_time": "2020-03-04T03:04:51.878746Z"
    },
    "hidden": true
   },
   "outputs": [
    {
     "data": {
      "text/plain": [
       "<Image layer 'Sst' at 0x131f06e4f48>"
      ]
     },
     "execution_count": 4,
     "metadata": {},
     "output_type": "execute_result"
    }
   ],
   "source": [
    "viewer = napari.Viewer()\n",
    "viewer.add_image(im_array_gad1, name = 'Gad1', colormap = 'cyan', blending = 'additive')\n",
    "viewer.add_image(im_array_ndnf, name = 'Ndnf', colormap = 'magenta', blending = 'additive')\n",
    "viewer.add_image(im_array_vip, name = 'Vip', colormap = 'yellow', blending = 'additive')\n",
    "viewer.add_image(im_array_sst, name = 'Sst', colormap = 'green', blending = 'additive')"
   ]
  },
  {
   "cell_type": "markdown",
   "metadata": {
    "heading_collapsed": true,
    "hidden": true
   },
   "source": [
    "## Cell masks"
   ]
  },
  {
   "cell_type": "code",
   "execution_count": 6,
   "metadata": {
    "ExecuteTime": {
     "end_time": "2020-03-04T03:06:48.821099Z",
     "start_time": "2020-03-04T03:06:31.710872Z"
    },
    "hidden": true
   },
   "outputs": [
    {
     "name": "stdout",
     "output_type": "stream",
     "text": [
      "Cell 10\n",
      "Cell 20\n",
      "Cell 30\n",
      "Cell 40\n",
      "Cell 50\n",
      "Cell 60\n",
      "Cell 70\n",
      "Cell 80\n",
      "Cell 90\n",
      "Cell 100\n",
      "Cell 110\n",
      "Cell 120\n",
      "Cell 130\n",
      "Cell 140\n",
      "Cell 150\n",
      "Cell 160\n",
      "Cell 170\n",
      "Cell 180\n",
      "Cell 190\n",
      "Cell 200\n",
      "Cell 210\n",
      "Cell 220\n",
      "Cell 230\n",
      "Cell 240\n",
      "Cell 250\n",
      "Cell 260\n",
      "Cell 270\n",
      "Cell 280\n",
      "Cell 290\n"
     ]
    }
   ],
   "source": [
    "mask_layer = viewer.add_shapes(name = 'Cell masks')\n",
    "\n",
    "indices = list(Cell.cell_data.keys())\n",
    "for cell in indices:\n",
    "    if np.mod(cell, 10) == 0:\n",
    "        print('Cell {0}'.format(cell))\n",
    "    planes = Cell.cell_data[cell]['z_planes']\n",
    "    for plane in planes:\n",
    "        mask = Cell.cell_data[cell]['masks'][plane]\n",
    "        mask = np.concatenate((np.ones([mask.shape[0], 1])*plane, mask), axis = 1)\n",
    "        mask_layer.add(mask, shape_type = 'polygon', opacity = 0.2, face_color = 'white', edge_color = 'red', edge_width = 3)"
   ]
  },
  {
   "cell_type": "markdown",
   "metadata": {
    "heading_collapsed": true,
    "hidden": true
   },
   "source": [
    "## Lipofuscin ROIs (annotated)"
   ]
  },
  {
   "cell_type": "code",
   "execution_count": 80,
   "metadata": {
    "ExecuteTime": {
     "end_time": "2020-03-03T21:42:01.213605Z",
     "start_time": "2020-03-03T21:42:00.934353Z"
    },
    "hidden": true
   },
   "outputs": [
    {
     "name": "stdout",
     "output_type": "stream",
     "text": [
      "11 rois found\n"
     ]
    },
    {
     "data": {
      "text/plain": [
       "<Shapes layer 'Lipofuscin ROIs [1]' at 0x1ce6a65db88>"
      ]
     },
     "execution_count": 80,
     "metadata": {},
     "output_type": "execute_result"
    }
   ],
   "source": [
    "n_rois = len(l_rois)\n",
    "print('{0} rois found'.format(n_rois))\n",
    "viewer.add_shapes(l_rois, name = 'Lipofuscin ROIs',\n",
    "                   shape_type = 'polygon', opacity = 1, face_color = 'white', \n",
    "                   edge_color = 'blue', edge_width = 3)"
   ]
  },
  {
   "cell_type": "markdown",
   "metadata": {
    "heading_collapsed": true,
    "hidden": true
   },
   "source": [
    "## Filtered images"
   ]
  },
  {
   "cell_type": "code",
   "execution_count": null,
   "metadata": {
    "hidden": true
   },
   "outputs": [],
   "source": [
    "viewer.add_image(data = im_diff_ndnf, name = 'Diff ndnf', colormap = 'magenta', blending = 'additive')\n",
    "viewer.add_image(data = im_diff_sst, name = 'Diff Sst', colormap = 'green', blending = 'additive')\n",
    "viewer.add_image(data = im_diff_vip, name = 'Diff Vip', colormap = 'yellow', blending = 'additive')"
   ]
  },
  {
   "cell_type": "markdown",
   "metadata": {
    "heading_collapsed": true,
    "hidden": true
   },
   "source": [
    "## Binarized images"
   ]
  },
  {
   "cell_type": "code",
   "execution_count": 84,
   "metadata": {
    "ExecuteTime": {
     "end_time": "2020-03-03T22:55:22.505484Z",
     "start_time": "2020-03-03T22:55:04.972381Z"
    },
    "hidden": true
   },
   "outputs": [
    {
     "data": {
      "text/plain": [
       "<Image layer 'Binary Vip' at 0x1ce6ae6bcc8>"
      ]
     },
     "execution_count": 84,
     "metadata": {},
     "output_type": "execute_result"
    }
   ],
   "source": [
    "viewer.add_image(data = im_bin_ndnf, name = 'Binary ndnf', colormap = 'magenta', blending = 'additive')\n",
    "viewer.add_image(data = im_bin_sst, name = 'Binary Sst', colormap = 'green', blending = 'additive')\n",
    "viewer.add_image(data = im_bin_vip, name = 'Binary Vip', colormap = 'yellow', blending = 'additive')"
   ]
  },
  {
   "cell_type": "markdown",
   "metadata": {
    "heading_collapsed": true,
    "hidden": true
   },
   "source": [
    "## Detected lipofuscin pixels"
   ]
  },
  {
   "cell_type": "code",
   "execution_count": 51,
   "metadata": {
    "ExecuteTime": {
     "end_time": "2020-03-06T19:21:33.588059Z",
     "start_time": "2020-03-06T19:21:27.427741Z"
    },
    "hidden": true
   },
   "outputs": [
    {
     "data": {
      "text/plain": [
       "<Image layer 'Detected lipofuscin' at 0x1380499a088>"
      ]
     },
     "execution_count": 51,
     "metadata": {},
     "output_type": "execute_result"
    }
   ],
   "source": [
    "viewer.add_image(data = im_array_lipo, name = 'Detected lipofuscin', colormap = 'gray', blending = 'additive')"
   ]
  },
  {
   "cell_type": "markdown",
   "metadata": {
    "heading_collapsed": true,
    "hidden": true
   },
   "source": [
    "## Cell masks after removing lipofuscin (check)"
   ]
  },
  {
   "cell_type": "code",
   "execution_count": 52,
   "metadata": {
    "ExecuteTime": {
     "end_time": "2020-03-06T19:35:33.038446Z",
     "start_time": "2020-03-06T19:35:26.352332Z"
    },
    "hidden": true
   },
   "outputs": [
    {
     "name": "stdout",
     "output_type": "stream",
     "text": [
      "Cell 10\n",
      "Cell 20\n",
      "Cell 30\n",
      "Cell 40\n",
      "Cell 50\n",
      "Cell 60\n",
      "Cell 70\n",
      "Cell 80\n",
      "Cell 90\n",
      "Cell 100\n",
      "Cell 110\n",
      "Cell 120\n",
      "Cell 130\n",
      "Cell 140\n",
      "Cell 150\n",
      "Cell 160\n",
      "Cell 170\n",
      "Cell 180\n",
      "Cell 190\n",
      "Cell 200\n",
      "Cell 210\n",
      "Cell 220\n",
      "Cell 230\n",
      "Cell 240\n",
      "Cell 250\n",
      "Cell 260\n",
      "Cell 270\n",
      "Cell 280\n",
      "Cell 290\n"
     ]
    },
    {
     "data": {
      "text/plain": [
       "<Image layer 'Cell pixels' at 0x138047427c8>"
      ]
     },
     "execution_count": 52,
     "metadata": {},
     "output_type": "execute_result"
    }
   ],
   "source": [
    "im_array_cells = np.zeros(im_array_gad1.shape)\n",
    "\n",
    "\n",
    "indices = list(Cell.cell_data.keys())\n",
    "for cell in indices:\n",
    "    if np.mod(cell, 10) == 0:\n",
    "        print('Cell {0}'.format(cell))\n",
    "    planes = Cell.cell_data[cell]['z_planes']\n",
    "    for plane in planes:\n",
    "        mask = cell_pixels_no_lipo[cell][plane]\n",
    "        mask = np.concatenate((np.ones([1, mask.shape[1]])*plane, mask))\n",
    "        mask = mask.astype(int)\n",
    "        im_array_cells[mask[0, :], mask[1, :], mask[2, :]] = np.ones(mask.shape[1])\n",
    "        \n",
    "\n",
    "viewer.add_image(data = im_array_cells, name = 'Cell pixels', colormap = 'blue', blending = 'additive')"
   ]
  },
  {
   "cell_type": "markdown",
   "metadata": {
    "heading_collapsed": true,
    "hidden": true
   },
   "source": [
    "## Cells with significant expression"
   ]
  },
  {
   "cell_type": "code",
   "execution_count": 102,
   "metadata": {
    "ExecuteTime": {
     "end_time": "2020-03-06T21:02:04.305669Z",
     "start_time": "2020-03-06T21:02:01.420386Z"
    },
    "hidden": true
   },
   "outputs": [],
   "source": [
    "ndnf_mask_layer = viewer.add_shapes(name = 'Ndnf+ cells')\n",
    "\n",
    "indices = list(Cell.cell_data.keys())\n",
    "for cell in indices:\n",
    "    \n",
    "    if pv_ndnf[cell - 1] < 0.05:\n",
    "        planes = Cell.cell_data[cell]['z_planes']\n",
    "        for plane in planes:\n",
    "            mask = Cell.cell_data[cell]['masks'][plane]\n",
    "            mask = np.concatenate((np.ones([mask.shape[0], 1])*plane, mask), axis = 1)\n",
    "            ndnf_mask_layer.add(mask, shape_type = 'polygon', opacity = 0.2, face_color = 'white', edge_color = 'magenta', edge_width = 3)"
   ]
  },
  {
   "cell_type": "code",
   "execution_count": 103,
   "metadata": {
    "ExecuteTime": {
     "end_time": "2020-03-06T21:02:30.632261Z",
     "start_time": "2020-03-06T21:02:29.091383Z"
    },
    "hidden": true
   },
   "outputs": [],
   "source": [
    "vip_mask_layer = viewer.add_shapes(name = 'Vip+ cells')\n",
    "\n",
    "indices = list(Cell.cell_data.keys())\n",
    "for cell in indices:\n",
    "    \n",
    "    if pv_vip[cell - 1] < 0.05:\n",
    "        planes = Cell.cell_data[cell]['z_planes']\n",
    "        for plane in planes:\n",
    "            mask = Cell.cell_data[cell]['masks'][plane]\n",
    "            mask = np.concatenate((np.ones([mask.shape[0], 1])*plane, mask), axis = 1)\n",
    "            vip_mask_layer.add(mask, shape_type = 'polygon', opacity = 0.2, face_color = 'white', edge_color = 'yellow', edge_width = 3)"
   ]
  },
  {
   "cell_type": "code",
   "execution_count": 104,
   "metadata": {
    "ExecuteTime": {
     "end_time": "2020-03-06T21:02:56.135477Z",
     "start_time": "2020-03-06T21:02:55.157094Z"
    },
    "hidden": true
   },
   "outputs": [],
   "source": [
    "sst_mask_layer = viewer.add_shapes(name = 'Sst+ cells')\n",
    "\n",
    "indices = list(Cell.cell_data.keys())\n",
    "for cell in indices:\n",
    "    \n",
    "    if pv_sst[cell - 1] < 0.05:\n",
    "        planes = Cell.cell_data[cell]['z_planes']\n",
    "        for plane in planes:\n",
    "            mask = Cell.cell_data[cell]['masks'][plane]\n",
    "            mask = np.concatenate((np.ones([mask.shape[0], 1])*plane, mask), axis = 1)\n",
    "            sst_mask_layer.add(mask, shape_type = 'polygon', opacity = 0.2, face_color = 'white', edge_color = 'green', edge_width = 3)"
   ]
  },
  {
   "cell_type": "markdown",
   "metadata": {},
   "source": [
    "# Cell segmentation"
   ]
  },
  {
   "cell_type": "markdown",
   "metadata": {},
   "source": [
    "## Load existing masks"
   ]
  },
  {
   "cell_type": "code",
   "execution_count": 5,
   "metadata": {
    "ExecuteTime": {
     "end_time": "2020-03-04T03:06:23.831957Z",
     "start_time": "2020-03-04T03:06:23.391985Z"
    }
   },
   "outputs": [
    {
     "name": "stdout",
     "output_type": "stream",
     "text": [
      "290 cells found\n"
     ]
    }
   ],
   "source": [
    "save_loc = 'G:\\\\Shared drives\\\\as_share\\\\HCR\\\\HCR_10.17'\n",
    "save_file= 'S1_data.pkl'\n",
    "try:\n",
    "    with open('{0}\\{1}'.format(save_loc, save_file), 'rb') as f:\n",
    "        Cell.cell_data = pkl.load(f)\n",
    "        indices = list(Cell.cell_data.keys())\n",
    "        if not np.max(indices) == len(indices):\n",
    "            print('Re-numbering cells to be consecutive')\n",
    "            Cell.cell_data_temp = {}\n",
    "            for i in range(len(indices)):\n",
    "                Cell.cell_data_temp[i + 1] = Cell.cell_data[indices[i]]\n",
    "                Cell.cell_data_temp[i + 1]['cell_id'] = i + 1\n",
    "            Cell.cell_data = Cell.cell_data_temp \n",
    "            with open('{0}\\{1}'.format(save_loc, save_file), 'wb') as f:\n",
    "                pkl.dump(Cell.cell_data, f)\n",
    "            Cell.n_cells = i + 1\n",
    "        else:\n",
    "            Cell.n_cells = len(indices)\n",
    "    print('{0} cells found'.format(Cell.n_cells))\n",
    "except:\n",
    "    print('No data found')"
   ]
  },
  {
   "cell_type": "markdown",
   "metadata": {},
   "source": [
    "## Get pixels in cell masks"
   ]
  },
  {
   "cell_type": "code",
   "execution_count": 8,
   "metadata": {
    "ExecuteTime": {
     "end_time": "2020-03-04T03:09:08.305981Z",
     "start_time": "2020-03-04T03:09:03.351775Z"
    }
   },
   "outputs": [
    {
     "name": "stdout",
     "output_type": "stream",
     "text": [
      "Data loaded\n"
     ]
    }
   ],
   "source": [
    "save_loc = 'G:\\\\Shared drives\\\\as_share\\\\HCR\\\\HCR_10.17'\n",
    "#save_file = 'S2_cell_pixels.pkl'\n",
    "save_file = 'S1_mask_vertices.pkl'\n",
    "\n",
    "try:\n",
    "    with open('{0}\\\\{1}'.format(save_loc, save_file), 'rb') as f:\n",
    "        mask_vertices = pkl.load(f)\n",
    "        cells = mask_vertices.keys()\n",
    "        x = 0\n",
    "        all_cell_pixels = np.zeros([1, 3])\n",
    "        for cell in cells:\n",
    "            data = Cell.cell_data[cell]\n",
    "            planes = data['z_planes']\n",
    "            for plane in planes:\n",
    "                xvals = np.reshape(mask_vertices[cell][plane][0], [-1, 1])\n",
    "                yvals = np.reshape(mask_vertices[cell][plane][1], [-1, 1])\n",
    "                zvals = np.ones([len(xvals), 1])*plane\n",
    "                coords = np.concatenate((zvals, xvals, yvals), axis = 1)\n",
    "                all_cell_pixels = np.concatenate((all_cell_pixels, coords), axis = 0)\n",
    "        \n",
    "        all_cell_pixels = all_cell_pixels[1:, :].astype(int)\n",
    "            \n",
    "        print('Data loaded')\n",
    "        \n",
    "except IOError:\n",
    "    print('No saved data found, calculating mask pixels')\n",
    "    xv = range(w)\n",
    "    yv = range(h)\n",
    "    coord_array = np.array(np.meshgrid(xv, yv))\n",
    "\n",
    "    points = np.zeros([h*w, 2])\n",
    "    p = 0\n",
    "    for i in range(h):\n",
    "        for j in range(w):\n",
    "            points[p, 1] = coord_array[0, i, j]\n",
    "            points[p, 0] = coord_array[1, i, j]\n",
    "            p += 1\n",
    "\n",
    "    no_cells = len(Cell.cell_data.keys())\n",
    "    mask_vertices = {}\n",
    "    for cell in range(no_cells):\n",
    "        if np.mod(cell, 10) == 0:\n",
    "            print('Cell {0}'.format(cell))\n",
    "        cell_no = cell + 1\n",
    "        mask_vertices[cell_no] = {}\n",
    "        cell_dict = Cell.cell_data[cell_no]\n",
    "        masks = cell_dict['masks']\n",
    "        z_planes = cell_dict['z_planes']\n",
    "        for plane in z_planes:\n",
    "\n",
    "            vertices = masks[plane]\n",
    "            path = mpltpath.Path(vertices)\n",
    "            mask = path.contains_points(points)\n",
    "            mask = np.reshape(mask, [h, w])\n",
    "            mask_vertices[cell_no][plane] = np.where(mask)\n",
    "    "
   ]
  },
  {
   "cell_type": "markdown",
   "metadata": {
    "heading_collapsed": true
   },
   "source": [
    "## Manual segmentation using Gad1 channel"
   ]
  },
  {
   "cell_type": "markdown",
   "metadata": {
    "heading_collapsed": true,
    "hidden": true
   },
   "source": [
    "### Napari keybindings"
   ]
  },
  {
   "cell_type": "code",
   "execution_count": 5,
   "metadata": {
    "ExecuteTime": {
     "end_time": "2020-03-03T18:50:36.631515Z",
     "start_time": "2020-03-03T18:50:36.616555Z"
    },
    "hidden": true
   },
   "outputs": [],
   "source": [
    "@viewer.bind_key('n')\n",
    "def new_cell(viewer):\n",
    "    global cell1 \n",
    "    Cell.n_cells += 1\n",
    "    cell1 = Cell(Cell.n_cells)\n",
    "    print(Cell.n_cells)\n",
    "\n",
    "@viewer.bind_key('d')\n",
    "def get_disc_roi(viewer):\n",
    "    center = point_layer.data[-1, 1:] # Last drawn point\n",
    "    seg_layer = viewer.layers[seg_channel]\n",
    "    z_plane = seg_layer.coordinates[0]\n",
    "    image = im_array[z_plane, :, :]\n",
    "    cell_radius_px = 40\n",
    "\n",
    "    boundary = disc_roi(image, center, cell_radius_px)\n",
    "\n",
    "    n_theta = boundary.shape[1]\n",
    "    mask = np.zeros([n_theta, 3])\n",
    "    mask[:, 0] = np.ones(n_theta)*z_plane\n",
    "    mask[:, 1:] = np.transpose(boundary)\n",
    "    mask_layer.add(mask, shape_type= 'polygon')\n",
    "    \n",
    "@viewer.bind_key('m')\n",
    "def add_mask(viewer):\n",
    "    seg_layer = viewer.layers[seg_channel]\n",
    "    z_plane = seg_layer.coordinates[0]\n",
    "    mask = viewer.layers['masks'].data[-1]\n",
    "    cell1.add_mask(z_plane, mask)\n",
    "    \n",
    "@viewer.bind_key('k')\n",
    "def save_cell(viewer):\n",
    "    cell1.save_cell()\n",
    "    \n",
    "@viewer.bind_key('Control-s')\n",
    "def save_all(viewer):\n",
    "    with open('{0}\\{1}'.format(save_loc, save_file), 'wb') as f:\n",
    "                pkl.dump(Cell.cell_data, f)"
   ]
  },
  {
   "cell_type": "markdown",
   "metadata": {
    "hidden": true
   },
   "source": [
    "### One click segmentation"
   ]
  },
  {
   "cell_type": "markdown",
   "metadata": {
    "heading_collapsed": true
   },
   "source": [
    "# Lipofuscin exlcusion"
   ]
  },
  {
   "cell_type": "markdown",
   "metadata": {
    "heading_collapsed": true,
    "hidden": true
   },
   "source": [
    "## Load existing lipofuscin ROIs"
   ]
  },
  {
   "cell_type": "code",
   "execution_count": 16,
   "metadata": {
    "ExecuteTime": {
     "end_time": "2020-03-06T18:29:57.749350Z",
     "start_time": "2020-03-06T18:29:57.735389Z"
    },
    "hidden": true
   },
   "outputs": [],
   "source": [
    "save_loc = 'G:\\\\Shared drives\\\\as_share\\\\HCR\\\\HCR_10.17'\n",
    "save_file = 'HCR_10.17_S1_lipofuscin_rois_in_cells.pkl'\n",
    "\n",
    "with open('{0}\\\\{1}'.format(save_loc, save_file), 'rb') as f:\n",
    "    l_rois = pkl.load(f)    "
   ]
  },
  {
   "cell_type": "markdown",
   "metadata": {
    "heading_collapsed": true,
    "hidden": true
   },
   "source": [
    "## Save lipofuscin rois from napari viewer"
   ]
  },
  {
   "cell_type": "code",
   "execution_count": 15,
   "metadata": {
    "ExecuteTime": {
     "end_time": "2020-03-06T18:29:55.372011Z",
     "start_time": "2020-03-06T18:29:55.350073Z"
    },
    "hidden": true
   },
   "outputs": [
    {
     "name": "stdout",
     "output_type": "stream",
     "text": [
      "15 lipofuscin rois\n"
     ]
    }
   ],
   "source": [
    "save_loc = 'G:\\\\Shared drives\\\\as_share\\\\HCR\\\\HCR_10.17'\n",
    "save_file = 'HCR_10.17_S1_lipofuscin_rois_in_cells.pkl'\n",
    "\n",
    "l_rois = viewer.layers['Lipofuscin ROIs'].data\n",
    "with open('{0}\\\\{1}'.format(save_loc, save_file), 'wb') as f:\n",
    "    pkl.dump(l_rois, f) \n",
    "    \n",
    "n_rois = len(l_rois)\n",
    "print('{0} lipofuscin rois'.format(n_rois))"
   ]
  },
  {
   "cell_type": "markdown",
   "metadata": {
    "heading_collapsed": true,
    "hidden": true
   },
   "source": [
    "## Get pixels in annotated lipofuscin ROIs"
   ]
  },
  {
   "cell_type": "code",
   "execution_count": 17,
   "metadata": {
    "ExecuteTime": {
     "end_time": "2020-03-06T18:31:11.595693Z",
     "start_time": "2020-03-06T18:30:23.430541Z"
    },
    "hidden": true
   },
   "outputs": [
    {
     "name": "stdout",
     "output_type": "stream",
     "text": [
      "No saved data found, calculating mask pixels\n",
      "Calculated grid coordinates, 18.0 seconds\n",
      "ROI 0\n",
      "ROI 1\n",
      "ROI 2\n",
      "ROI 3\n",
      "ROI 4\n",
      "ROI 5\n",
      "ROI 6\n",
      "ROI 7\n",
      "ROI 8\n",
      "ROI 9\n",
      "ROI 10\n",
      "ROI 11\n",
      "ROI 12\n",
      "ROI 13\n",
      "ROI 14\n"
     ]
    }
   ],
   "source": [
    "save_loc = 'G:\\\\Shared drives\\\\as_share\\\\HCR\\\\HCR_10.17'\n",
    "save_file = 'HCR_10.17_S1_lipofuscin_pixels_in_cells.pkl'\n",
    "    \n",
    "try:\n",
    "    with open('{0}{1}{2}'.format(save_loc, sep, save_file), 'rb') as f:\n",
    "        data_dict = pkl.load(f)\n",
    "        all_lipo_pixels = data_dict['all_lipo_pixels']\n",
    "        lipo_pixels_roi = data_dict['lipo_pixels_roi']\n",
    "        print('Data loaded')\n",
    "        \n",
    "except IOError:\n",
    "    print('No saved data found, calculating mask pixels')\n",
    "    px = pixels_in_roi.pixels_in_roi(h, w, n, l_rois)\n",
    "    all_lipo_pixels = px['all_pixels']\n",
    "    lipo_pixels_roi = px['pixels_roi']\n",
    "    with open('{0}{1}{2}'.format(save_loc, sep, save_file), 'wb') as f:\n",
    "        pkl.dump({'all_lipo_pixels': all_lipo_pixels, 'lipo_pixels_roi': lipo_pixels_roi}, f)"
   ]
  },
  {
   "cell_type": "markdown",
   "metadata": {
    "heading_collapsed": true,
    "hidden": true
   },
   "source": [
    "## Filter images using difference of gaussians"
   ]
  },
  {
   "cell_type": "code",
   "execution_count": 106,
   "metadata": {
    "ExecuteTime": {
     "end_time": "2020-03-08T03:21:58.208667Z",
     "start_time": "2020-03-08T03:18:54.970845Z"
    },
    "hidden": true
   },
   "outputs": [
    {
     "name": "stdout",
     "output_type": "stream",
     "text": [
      "61 seconds\n",
      "122 seconds\n",
      "183 seconds\n"
     ]
    }
   ],
   "source": [
    "sigma_small = 2\n",
    "sigma_large = 5\n",
    "\n",
    "t0 = time.time()    \n",
    "\n",
    "img = im_array_ndnf\n",
    "im_diff_ndnf = diff_gauss.diff_gauss(sigma_small, sigma_large, img, do_plot = 1)\n",
    "t1 = time.time() - t0\n",
    "print('{0} seconds'.format(int(t1)))\n",
    "\n",
    "img = im_array_sst\n",
    "im_diff_sst = diff_gauss.diff_gauss(sigma_small, sigma_large, img, do_plot = 0)\n",
    "t1 = time.time() - t0\n",
    "print('{0} seconds'.format(int(t1)))\n",
    "\n",
    "img = im_array_vip\n",
    "im_diff_vip = diff_gauss.diff_gauss(sigma_small, sigma_large, img, do_plot = 0)\n",
    "t1 = time.time() - t0\n",
    "print('{0} seconds'.format(int(t1)))"
   ]
  },
  {
   "cell_type": "markdown",
   "metadata": {
    "heading_collapsed": true,
    "hidden": true
   },
   "source": [
    "## Binarize filtered images and plot threshold"
   ]
  },
  {
   "cell_type": "code",
   "execution_count": 107,
   "metadata": {
    "ExecuteTime": {
     "end_time": "2020-03-08T03:22:55.697695Z",
     "start_time": "2020-03-08T03:22:46.078429Z"
    },
    "hidden": true
   },
   "outputs": [
    {
     "name": "stdout",
     "output_type": "stream",
     "text": [
      "Finding threshold for binarizing\n",
      "Finding threshold for binarizing\n",
      "Finding threshold for binarizing\n"
     ]
    }
   ],
   "source": [
    "img_dict = {'Ndnf': im_diff_ndnf, 'Sst': im_diff_sst, 'Vip': im_diff_vip}\n",
    "#img_dict = {'Ndnf': im_array_ndnf, 'Sst': im_array_sst, 'Vip': im_array_vip}\n",
    "\n",
    "pixels_dict = {'Cells': all_cell_pixels, 'Lipofuscin': all_lipo_pixels}\n",
    "#pixels_dict = {'Cells': all_cell_pixels}\n",
    "\n",
    "colors_dict = {'Cells': 'b', 'Lipofuscin': 'k'}\n",
    "\n",
    "title = 'Diff gauss sigma = ({0}, {1})'.format(sigma_small, sigma_large)\n",
    "#title = 'Raw images'\n",
    "save_loc = 'G:\\\\Shared drives\\\\as_share\\\\HCR\\\\HCR_10.17\\\\S1_scatter_plots'\n",
    "save_file = '{0} hist lipo + cells.png'.format(title)\n",
    "#save_file = '{0} hist cells.png'.format(title)\n",
    "\n",
    "thresh_scale = 1\n",
    "\n",
    "thresh = hist_channels.hist_channels(img_dict, pixels_dict, max_per_group= 100000, \n",
    "                                     do_bin = True, bin_group = 'Cells', thresh_scale = thresh_scale,\n",
    "                                     colors_dict = colors_dict, \n",
    "                                     title = title, save = True, save_loc = save_loc, save_file = save_file)\n",
    "\n",
    "del img_dict\n",
    "del pixels_dict\n",
    "\n",
    "im_bin_ndnf = np.zeros(im_diff_ndnf.shape)\n",
    "im_bin_sst = np.zeros(im_diff_ndnf.shape)\n",
    "im_bin_vip = np.zeros(im_diff_ndnf.shape)\n",
    "\n",
    "ix_ndnf = np.where(im_diff_ndnf > thresh['Ndnf'])\n",
    "ix_sst = np.where(im_diff_sst > thresh['Sst'])\n",
    "ix_vip = np.where(im_diff_vip > thresh['Vip'])\n",
    "\n",
    "im_bin_ndnf[ix_ndnf] = im_diff_ndnf[ix_ndnf]\n",
    "im_bin_sst[ix_sst] = im_diff_sst[ix_sst]\n",
    "im_bin_vip[ix_vip] = im_diff_vip[ix_vip]"
   ]
  },
  {
   "cell_type": "markdown",
   "metadata": {
    "heading_collapsed": true,
    "hidden": true
   },
   "source": [
    "## Find mahalanobis distance of pixels from lipofuscin cloud"
   ]
  },
  {
   "cell_type": "code",
   "execution_count": 108,
   "metadata": {
    "ExecuteTime": {
     "end_time": "2020-03-08T03:23:38.787179Z",
     "start_time": "2020-03-08T03:23:28.770974Z"
    },
    "hidden": true
   },
   "outputs": [
    {
     "ename": "KeyError",
     "evalue": "'cov'",
     "output_type": "error",
     "traceback": [
      "\u001b[1;31m---------------------------------------------------------------------------\u001b[0m",
      "\u001b[1;31mKeyError\u001b[0m                                  Traceback (most recent call last)",
      "\u001b[1;32m<ipython-input-108-416a11be4d3b>\u001b[0m in \u001b[0;36m<module>\u001b[1;34m\u001b[0m\n\u001b[0;32m     21\u001b[0m \u001b[0mm_dist_vals\u001b[0m \u001b[1;33m=\u001b[0m \u001b[0moutput\u001b[0m\u001b[1;33m[\u001b[0m\u001b[1;34m'm_dist'\u001b[0m\u001b[1;33m]\u001b[0m\u001b[1;33m\u001b[0m\u001b[1;33m\u001b[0m\u001b[0m\n\u001b[0;32m     22\u001b[0m \u001b[0mthresh\u001b[0m \u001b[1;33m=\u001b[0m \u001b[0moutput\u001b[0m\u001b[1;33m[\u001b[0m\u001b[1;34m'thresh'\u001b[0m\u001b[1;33m]\u001b[0m\u001b[1;33m\u001b[0m\u001b[1;33m\u001b[0m\u001b[0m\n\u001b[1;32m---> 23\u001b[1;33m \u001b[0mcov\u001b[0m \u001b[1;33m=\u001b[0m \u001b[0moutput\u001b[0m\u001b[1;33m[\u001b[0m\u001b[1;34m'cov'\u001b[0m\u001b[1;33m]\u001b[0m\u001b[1;33m\u001b[0m\u001b[1;33m\u001b[0m\u001b[0m\n\u001b[0m\u001b[0;32m     24\u001b[0m \u001b[1;33m\u001b[0m\u001b[0m\n\u001b[0;32m     25\u001b[0m \u001b[1;32mdel\u001b[0m \u001b[0mimg_dict\u001b[0m\u001b[1;33m\u001b[0m\u001b[1;33m\u001b[0m\u001b[0m\n",
      "\u001b[1;31mKeyError\u001b[0m: 'cov'"
     ]
    }
   ],
   "source": [
    "img_dict = {'Ndnf': im_bin_ndnf, 'Sst': im_bin_sst, 'Vip': im_bin_vip}\n",
    "#img_dict = {'Ndnf': im_diff_ndnf, 'Sst': im_diff_sst, 'Vip': im_diff_vip}\n",
    "#img_dict = {'Ndnf': im_array_ndnf, 'Sst': im_array_sst, 'Vip': im_array_vip}\n",
    "\n",
    "pixels_dict = {'Cells': all_cell_pixels, 'Lipofuscin': all_lipo_pixels}\n",
    "\n",
    "origin_group = 'Lipofuscin'\n",
    "bin_group = 'Cells'\n",
    "\n",
    "colors_dict = {'Cells': 'b', 'Lipofuscin': 'k'}\n",
    "\n",
    "title = 'Diff gauss sigma = ({0}, {1}); binarized above {2} std from median'.format(sigma_small, sigma_large, thresh_scale)\n",
    "#title = 'Raw images'\n",
    "save_loc = 'G:\\\\Shared drives\\\\as_share\\\\HCR\\\\HCR_10.17\\\\S1_scatter_plots'\n",
    "save_file = '{0} hist lipo + cells.png'.format(title)\n",
    "#save_file = '{0} hist cells.png'.format(title)\n",
    "\n",
    "output = m_dist.m_dist(img_dict, pixels_dict, origin_group, bin_group, colors_dict = colors_dict, thresh_scale = 0,\n",
    "                            title = title, save = True, save_loc = save_loc, save_file = save_file)\n",
    "\n",
    "m_dist_vals = output['m_dist']\n",
    "thresh = output['thresh']\n",
    "cov = output['cov']\n",
    "\n",
    "del img_dict\n",
    "del pixels_dict"
   ]
  },
  {
   "cell_type": "code",
   "execution_count": 109,
   "metadata": {
    "ExecuteTime": {
     "end_time": "2020-03-08T03:23:44.076524Z",
     "start_time": "2020-03-08T03:23:44.065553Z"
    },
    "hidden": true
   },
   "outputs": [
    {
     "data": {
      "text/plain": [
       "3.6693125592980986"
      ]
     },
     "execution_count": 109,
     "metadata": {},
     "output_type": "execute_result"
    }
   ],
   "source": [
    "thresh"
   ]
  },
  {
   "cell_type": "code",
   "execution_count": 37,
   "metadata": {
    "ExecuteTime": {
     "end_time": "2020-03-06T19:05:39.435881Z",
     "start_time": "2020-03-06T19:05:39.343130Z"
    },
    "hidden": true
   },
   "outputs": [],
   "source": [
    "channel_names = list(img_dict.keys())\n",
    "n_channels = len(channel_names)\n",
    "\n",
    "px_groups = list(pixels_dict.keys())\n",
    "\n",
    "\n",
    "# %% Get values for each channel for each pixel group\n",
    "px_vals = {}\n",
    "\n",
    "for group in px_groups:\n",
    "\n",
    "    px = pixels_dict[group]\n",
    "\n",
    "\n",
    "    px_vals[group] = {}\n",
    "\n",
    "    for channel in channel_names:\n",
    "        px_vals[group][channel] = img_dict[channel][(px[:, 0], px[:, 1], px[:, 2])]\n",
    "\n",
    "\n",
    "# %% Get mean and covariance matrix of origin group\n",
    "mu = np.zeros(n_channels)\n",
    "origin_px = np.zeros([n_channels, px_vals[origin_group][channel_names[0]].shape[0]])\n",
    "for c in range(n_channels):\n",
    "    mu[c] = np.mean(px_vals[origin_group][channel_names[c]])\n",
    "    origin_px[c, :] = px_vals[origin_group][channel_names[c]]\n",
    "\n",
    "cov = np.cov(origin_px) \n",
    "VI = np.linalg.inv(cov)     "
   ]
  },
  {
   "cell_type": "code",
   "execution_count": 41,
   "metadata": {
    "ExecuteTime": {
     "end_time": "2020-03-06T19:06:49.399129Z",
     "start_time": "2020-03-06T19:06:49.333303Z"
    },
    "hidden": true
   },
   "outputs": [
    {
     "data": {
      "text/plain": [
       "<matplotlib.colorbar.Colorbar at 0x13803da6508>"
      ]
     },
     "execution_count": 41,
     "metadata": {},
     "output_type": "execute_result"
    }
   ],
   "source": [
    "plt.figure()\n",
    "plt.imshow(np.log(cov))\n",
    "plt.colorbar(label = 'Log covariance')"
   ]
  },
  {
   "cell_type": "markdown",
   "metadata": {
    "heading_collapsed": true,
    "hidden": true
   },
   "source": [
    "## Use mahalanobis distance to label all lipofuscin pixels "
   ]
  },
  {
   "cell_type": "code",
   "execution_count": 111,
   "metadata": {
    "ExecuteTime": {
     "end_time": "2020-03-08T03:24:19.741845Z",
     "start_time": "2020-03-08T03:24:19.676022Z"
    },
    "hidden": true
   },
   "outputs": [],
   "source": [
    "lipo_pixels = all_cell_pixels[m_dist_vals['Cells'] < thresh, :]\n",
    "cell_pixels = all_cell_pixels[m_dist_vals['Cells'] > thresh, :]\n",
    "\n",
    "im_array_lipo = np.zeros(im_array_ndnf.shape)\n",
    "im_array_lipo[lipo_pixels[:, 0], lipo_pixels[:, 1], lipo_pixels[:, 2]] = np.ones(lipo_pixels.shape[0])\n"
   ]
  },
  {
   "cell_type": "markdown",
   "metadata": {
    "heading_collapsed": true,
    "hidden": true
   },
   "source": [
    "## Re-calculate cell masks excluding lipofuscin pixels"
   ]
  },
  {
   "cell_type": "code",
   "execution_count": 112,
   "metadata": {
    "ExecuteTime": {
     "end_time": "2020-03-08T03:24:43.317778Z",
     "start_time": "2020-03-08T03:24:43.264918Z"
    },
    "hidden": true
   },
   "outputs": [],
   "source": [
    "cell_pixels_no_lipo = {}\n",
    "\n",
    "cells = mask_vertices.keys()\n",
    "n_px_total = 0\n",
    "for cell in cells:\n",
    "    \n",
    "    data = Cell.cell_data[cell]\n",
    "    planes = data['z_planes']\n",
    "    cell_pixels_no_lipo[cell] = {}\n",
    "    \n",
    "    for plane in planes:\n",
    "        \n",
    "        cell_pixels_no_lipo[cell][plane] = {}\n",
    "        n_px = mask_vertices[cell][plane][0].shape[0]\n",
    "        m = m_dist_vals['Cells'][n_px_total:n_px_total + n_px] # Mahalanobis distance values for pixels in cell mask\n",
    "        px_coords = np.array(mask_vertices[cell][plane])\n",
    "        cell_pixels_no_lipo[cell][plane] = px_coords[:, m >= thresh]\n",
    "        #cell_pixels_no_lipo[cell][plane] = px_coords[:, m ]\n",
    "        n_px_total += n_px\n",
    "\n",
    "if not n_px_total == all_cell_pixels.shape[0]:\n",
    "    print('Total number of pixels incorrect, could have removed incorrect pixels for cell')"
   ]
  },
  {
   "cell_type": "markdown",
   "metadata": {
    "heading_collapsed": true,
    "hidden": true
   },
   "source": [
    "## Delete large arrays"
   ]
  },
  {
   "cell_type": "code",
   "execution_count": 113,
   "metadata": {
    "ExecuteTime": {
     "end_time": "2020-03-08T03:25:07.883062Z",
     "start_time": "2020-03-08T03:25:06.630414Z"
    },
    "hidden": true
   },
   "outputs": [],
   "source": [
    "del im_diff_ndnf\n",
    "del im_diff_sst\n",
    "del im_diff_vip\n",
    "# del im_bin_ndnf\n",
    "# del im_bin_vip\n",
    "# del im_bin_sst"
   ]
  },
  {
   "cell_type": "markdown",
   "metadata": {},
   "source": [
    "# Classify cells by gene expression"
   ]
  },
  {
   "cell_type": "markdown",
   "metadata": {
    "heading_collapsed": true
   },
   "source": [
    "## Calculate intensity for each gene in each cell "
   ]
  },
  {
   "cell_type": "markdown",
   "metadata": {
    "heading_collapsed": true,
    "hidden": true
   },
   "source": [
    "### Average intensity in all pixels in cell mask"
   ]
  },
  {
   "cell_type": "code",
   "execution_count": 53,
   "metadata": {
    "ExecuteTime": {
     "end_time": "2020-03-06T19:36:21.434031Z",
     "start_time": "2020-03-06T19:36:14.755319Z"
    },
    "code_folding": [],
    "hidden": true
   },
   "outputs": [
    {
     "name": "stdout",
     "output_type": "stream",
     "text": [
      "Data not found, calculating intensities\n",
      "Cell 0\n",
      "Cell 10\n",
      "Cell 20\n",
      "Cell 30\n",
      "Cell 40\n",
      "Cell 50\n",
      "Cell 60\n",
      "Cell 70\n",
      "Cell 80\n",
      "Cell 90\n",
      "Cell 100\n",
      "Cell 110\n",
      "Cell 120\n",
      "Cell 130\n",
      "Cell 140\n",
      "Cell 150\n",
      "Cell 160\n",
      "Cell 170\n",
      "Cell 180\n",
      "Cell 190\n",
      "Cell 200\n",
      "Cell 210\n",
      "Cell 220\n",
      "Cell 230\n",
      "Cell 240\n",
      "Cell 250\n",
      "Cell 260\n",
      "Cell 270\n",
      "Cell 280\n"
     ]
    }
   ],
   "source": [
    "save_loc = 'G:\\\\Shared drives\\\\as_share\\\\HCR\\\\HCR_10.17'\n",
    "save_file = 'S1_data_ndnf_sst_vip.pkl'\n",
    "\n",
    "try:\n",
    "    with open('{0}\\\\{1}'.format(save_loc, save_file), 'rb') as f:\n",
    "        sig = pkl.load(f)\n",
    "    avg_intensity_ndnf = sig['Ndnf']\n",
    "    avg_intensity_sst = sig['Sst'] \n",
    "    avg_intensity_vip = sig['Vip']\n",
    "    print('Data loaded')\n",
    "\n",
    "except:\n",
    "    print('Data not found, calculating intensities')\n",
    "    no_cells = len(Cell.cell_data.keys())\n",
    "    avg_intensity_ndnf = np.zeros(no_cells)\n",
    "    avg_intensity_vip = np.zeros(no_cells)\n",
    "    avg_intensity_sst = np.zeros(no_cells)\n",
    "\n",
    "    for cell in range(no_cells):\n",
    "\n",
    "        if np.mod(cell, 10) == 0:\n",
    "            print('Cell {0}'.format(cell))\n",
    "        cell_no = cell + 1\n",
    "        cell_dict = Cell.cell_data[cell_no]\n",
    "        z_planes = cell_dict['z_planes']\n",
    "\n",
    "        intensity_ndnf = np.zeros(cell_dict['no_planes'])\n",
    "        intensity_vip = np.zeros(cell_dict['no_planes'])\n",
    "        intensity_sst = np.zeros(cell_dict['no_planes'])\n",
    "\n",
    "        i = 0\n",
    "        for plane in z_planes:\n",
    "\n",
    "            xy_coord = mask_vertices[cell_no][plane]\n",
    "            x = xy_coord[0]\n",
    "            y = xy_coord[1]\n",
    "            intensity_ndnf[i] = np.mean(im_array_ndnf[plane, x, y])\n",
    "            intensity_vip[i] = np.mean(im_array_vip[plane, x, y])\n",
    "            intensity_sst[i] = np.mean(im_array_sst[plane, x, y])\n",
    "            i += 1\n",
    "\n",
    "        avg_intensity_ndnf[cell] = np.mean(intensity_ndnf)\n",
    "        avg_intensity_vip[cell] = np.mean(intensity_vip)\n",
    "        avg_intensity_sst[cell] = np.mean(intensity_sst)\n",
    "\n",
    "        with open('{0}\\\\{1}'.format(save_loc, save_file), 'wb') as f:\n",
    "            pkl.dump({'Ndnf': avg_intensity_ndnf, 'Sst': avg_intensity_sst, 'Vip':avg_intensity_vip}, f)\n"
   ]
  },
  {
   "cell_type": "markdown",
   "metadata": {
    "heading_collapsed": true,
    "hidden": true
   },
   "source": [
    "### Intensity in masks excluding lipofuscin pixels"
   ]
  },
  {
   "cell_type": "code",
   "execution_count": 55,
   "metadata": {
    "ExecuteTime": {
     "end_time": "2020-03-06T19:37:29.562360Z",
     "start_time": "2020-03-06T19:37:22.461357Z"
    },
    "code_folding": [],
    "hidden": true
   },
   "outputs": [
    {
     "name": "stdout",
     "output_type": "stream",
     "text": [
      "Data not found, calculating intensities\n",
      "Cell 0\n",
      "Cell 10\n",
      "Cell 20\n",
      "Cell 30\n",
      "Cell 40\n",
      "Cell 50\n",
      "Cell 60\n",
      "Cell 70\n",
      "Cell 80\n",
      "Cell 90\n",
      "Cell 100\n",
      "Cell 110\n",
      "Cell 120\n",
      "Cell 130\n",
      "Cell 140\n",
      "Cell 150\n",
      "Cell 160\n",
      "Cell 170\n",
      "Cell 180\n",
      "Cell 190\n",
      "Cell 200\n",
      "Cell 210\n",
      "Cell 220\n",
      "Cell 230\n",
      "Cell 240\n",
      "Cell 250\n",
      "Cell 260\n",
      "Cell 270\n",
      "Cell 280\n"
     ]
    }
   ],
   "source": [
    "save_loc = 'G:\\\\Shared drives\\\\as_share\\\\HCR\\\\HCR_10.17'\n",
    "save_file = 'S1_data_ndnf_sst_vip.pkl'\n",
    "\n",
    "try:\n",
    "    with open('{0}\\\\{1}'.format(save_loc, save_file), 'rb') as f:\n",
    "        sig = pkl.load(f)\n",
    "    int_ndnf = sig['Ndnf_lipo_excl']\n",
    "    int_sst = sig['Sst_lipo_excl'] \n",
    "    int_vip = sig['Vip_lipo_excl']\n",
    "    print('Data loaded')\n",
    "\n",
    "except:\n",
    "    print('Data not found, calculating intensities')\n",
    "    no_cells = len(Cell.cell_data.keys())\n",
    "    int_ndnf = np.zeros(no_cells)\n",
    "    int_vip = np.zeros(no_cells)\n",
    "    int_sst = np.zeros(no_cells)\n",
    "\n",
    "    for cell in range(no_cells):\n",
    "\n",
    "        if np.mod(cell, 10) == 0:\n",
    "            print('Cell {0}'.format(cell))\n",
    "        cell_no = cell + 1\n",
    "        cell_dict = Cell.cell_data[cell_no]\n",
    "        z_planes = cell_dict['z_planes']\n",
    "\n",
    "        intensity_ndnf = np.zeros(cell_dict['no_planes'])\n",
    "        intensity_vip = np.zeros(cell_dict['no_planes'])\n",
    "        intensity_sst = np.zeros(cell_dict['no_planes'])\n",
    "\n",
    "        i = 0\n",
    "        for plane in z_planes:\n",
    "\n",
    "            xy_coord = cell_pixels_no_lipo[cell_no][plane]\n",
    "            x = xy_coord[0, :]\n",
    "            y = xy_coord[1, :]\n",
    "            intensity_ndnf[i] = np.mean(im_array_ndnf[plane, x, y])\n",
    "            intensity_vip[i] = np.mean(im_array_vip[plane, x, y])\n",
    "            intensity_sst[i] = np.mean(im_array_sst[plane, x, y])\n",
    "            i += 1\n",
    "\n",
    "        int_ndnf[cell] = np.mean(intensity_ndnf)\n",
    "        int_vip[cell] = np.mean(intensity_vip)\n",
    "        int_sst[cell] = np.mean(intensity_sst)\n",
    "        \n",
    "        sig['Ndnf_lipo_excl'] = int_ndnf\n",
    "        sig['Sst_lipo_excl'] = int_sst \n",
    "        sig['Vip_lipo_excl'] = int_vip \n",
    "\n",
    "        with open('{0}\\\\{1}'.format(save_loc, save_file), 'wb') as f:\n",
    "            pkl.dump(sig, f)\n"
   ]
  },
  {
   "cell_type": "markdown",
   "metadata": {
    "heading_collapsed": true,
    "hidden": true
   },
   "source": [
    "### Intensity in masks excluding lipofuscin pixels in binarized images (essentially spot counting)"
   ]
  },
  {
   "cell_type": "code",
   "execution_count": 114,
   "metadata": {
    "ExecuteTime": {
     "end_time": "2020-03-08T03:25:40.456179Z",
     "start_time": "2020-03-08T03:25:40.329519Z"
    },
    "hidden": true
   },
   "outputs": [
    {
     "name": "stdout",
     "output_type": "stream",
     "text": [
      "Data not found, calculating intensities\n",
      "Cell 0\n",
      "Cell 10\n",
      "Cell 20\n",
      "Cell 30\n",
      "Cell 40\n",
      "Cell 50\n",
      "Cell 60\n",
      "Cell 70\n",
      "Cell 80\n",
      "Cell 90\n",
      "Cell 100\n",
      "Cell 110\n",
      "Cell 120\n",
      "Cell 130\n",
      "Cell 140\n",
      "Cell 150\n",
      "Cell 160\n",
      "Cell 170\n",
      "Cell 180\n",
      "Cell 190\n",
      "Cell 200\n",
      "Cell 210\n",
      "Cell 220\n",
      "Cell 230\n",
      "Cell 240\n",
      "Cell 250\n",
      "Cell 260\n",
      "Cell 270\n",
      "Cell 280\n"
     ]
    }
   ],
   "source": [
    "# Note: size of spot is also relevant here. \n",
    "save_loc = 'G:\\\\Shared drives\\\\as_share\\\\HCR\\\\HCR_10.17'\n",
    "save_file = 'S1_data_ndnf_sst_vip.pkl'\n",
    "\n",
    "try:\n",
    "    with open('{0}\\\\{1}'.format(save_loc, save_file), 'rb') as f:\n",
    "        sig = pkl.load(f)\n",
    "    int_ndnf_bin = sig['Ndnf_lipo_excl_bin']\n",
    "    int_sst_bin = sig['Sst_lipo_excl_bin'] \n",
    "    int_vip_bin = sig['Vip_lipo_excl_bin']\n",
    "    print('Data loaded')\n",
    "\n",
    "except:\n",
    "    print('Data not found, calculating intensities')\n",
    "    no_cells = len(Cell.cell_data.keys())\n",
    "    int_ndnf_bin = np.zeros(no_cells)\n",
    "    int_vip_bin = np.zeros(no_cells)\n",
    "    int_sst_bin = np.zeros(no_cells)\n",
    "\n",
    "    for cell in range(no_cells):\n",
    "\n",
    "        if np.mod(cell, 10) == 0:\n",
    "            print('Cell {0}'.format(cell))\n",
    "        cell_no = cell + 1\n",
    "        cell_dict = Cell.cell_data[cell_no]\n",
    "        z_planes = cell_dict['z_planes']\n",
    "\n",
    "        intensity_ndnf = np.zeros(cell_dict['no_planes'])\n",
    "        intensity_vip = np.zeros(cell_dict['no_planes'])\n",
    "        intensity_sst = np.zeros(cell_dict['no_planes'])\n",
    "\n",
    "        i = 0\n",
    "        for plane in z_planes:\n",
    "\n",
    "            xy_coord = cell_pixels_no_lipo[cell_no][plane]\n",
    "            x = xy_coord[0, :]\n",
    "            y = xy_coord[1, :]\n",
    "            intensity_ndnf[i] = np.mean(im_bin_ndnf[plane, x, y])\n",
    "            intensity_vip[i] = np.mean(im_bin_vip[plane, x, y])\n",
    "            intensity_sst[i] = np.mean(im_bin_sst[plane, x, y])\n",
    "            i += 1\n",
    "\n",
    "        int_ndnf_bin[cell] = np.mean(intensity_ndnf)\n",
    "        int_vip_bin[cell] = np.mean(intensity_vip)\n",
    "        int_sst_bin[cell] = np.mean(intensity_sst)\n",
    "        \n",
    "    sig['Ndnf_lipo_excl_bin'] = int_ndnf_bin\n",
    "    sig['Sst_lipo_excl_bin'] = int_sst_bin \n",
    "    sig['Vip_lipo_excl_bin'] = int_vip_bin \n",
    "\n",
    "    with open('{0}\\\\{1}'.format(save_loc, save_file), 'wb') as f:\n",
    "        pkl.dump(sig, f)\n",
    "\n"
   ]
  },
  {
   "cell_type": "markdown",
   "metadata": {
    "heading_collapsed": true
   },
   "source": [
    "## Local background"
   ]
  },
  {
   "cell_type": "markdown",
   "metadata": {
    "heading_collapsed": true,
    "hidden": true
   },
   "source": [
    "### Raw images"
   ]
  },
  {
   "cell_type": "code",
   "execution_count": 92,
   "metadata": {
    "ExecuteTime": {
     "end_time": "2020-03-06T19:50:31.171714Z",
     "start_time": "2020-03-06T19:50:31.139796Z"
    },
    "code_folding": [
     17
    ],
    "hidden": true
   },
   "outputs": [
    {
     "name": "stdout",
     "output_type": "stream",
     "text": [
      "Data loaded\n"
     ]
    }
   ],
   "source": [
    "\n",
    "save_loc = 'G:\\\\Shared drives\\\\as_share\\\\HCR\\\\HCR_10.17'\n",
    "save_file = 'S1_background_ndnf_sst_vip.pkl'\n",
    "\n",
    "try:\n",
    "    with open('{0}\\\\{1}'.format(save_loc, save_file), 'rb') as f:\n",
    "        dict = pkl.load(f)\n",
    "    \n",
    "    avg_bg_ndnf = dict['Ndnf'] \n",
    "    avg_bg_sst = dict['Sst']  \n",
    "    avg_bg_vip = dict['Vip']\n",
    "    centers = dict['Centers']\n",
    "    n_vert_all = dict['n_vert_all']\n",
    "    bg_all = dict['bg_all']\n",
    "    \n",
    "    print('Data loaded')\n",
    "\n",
    "except:\n",
    "    \n",
    "    print('Data not found, calculating background values')\n",
    "    bg_all = np.ones([n, h, w])\n",
    "    n_vert_all = {}\n",
    "    centers = {}\n",
    "\n",
    "    no_cells = len(Cell.cell_data.keys())\n",
    "    for cell in range(no_cells):\n",
    "\n",
    "        cell_no = cell + 1\n",
    "        cell_dict = Cell.cell_data[cell_no]\n",
    "        z_planes = cell_dict['z_planes']\n",
    "        n_vert_all[cell] = {}\n",
    "        centers[cell] = {}\n",
    "\n",
    "        for plane in z_planes:\n",
    "\n",
    "            xy_coord = mask_vertices[cell_no][plane]\n",
    "            x = xy_coord[0]\n",
    "            y = xy_coord[1]\n",
    "            z = plane\n",
    "            centers[cell][plane] = np.array([np.mean(x), np.mean(y)]).astype(int)\n",
    "\n",
    "\n",
    "            bg_all[z, x, y] = np.zeros([1, len(x)])\n",
    "\n",
    "            n_vert_all[cell][plane] = len(x) \n",
    "            \n",
    "    # fig, ax = plt.subplots(nrows = 3, ncols = 20)\n",
    "    um_per_px = 0.19\n",
    "    no_cells = len(Cell.cell_data.keys())\n",
    "    avg_bg_ndnf = np.zeros(no_cells)\n",
    "    avg_bg_vip = np.zeros(no_cells)\n",
    "    avg_bg_sst = np.zeros(no_cells)\n",
    "\n",
    "    local_region = 50 # in um\n",
    "    local_px = int(local_region/um_per_px/2)\n",
    "\n",
    "    min_dist = 10 # in um\n",
    "    min_dist_px = min_dist/um_per_px\n",
    "\n",
    "    for cell in range(no_cells):\n",
    "        cell_no = cell + 1\n",
    "        cell_dict = Cell.cell_data[cell_no]\n",
    "        z_planes = cell_dict['z_planes']\n",
    "\n",
    "        bg_ndnf = np.zeros(len(z_planes))\n",
    "        bg_vip = np.zeros(len(z_planes))\n",
    "        bg_sst = np.zeros(len(z_planes))\n",
    "\n",
    "        p = 0\n",
    "        for plane in z_planes:\n",
    "\n",
    "            center = centers[cell][plane]\n",
    "            n_verts = n_vert_all[cell][plane]\n",
    "\n",
    "            x1 = np.max([0, center[0] - local_px])\n",
    "            x2 = np.min([h, center[0] + local_px])\n",
    "            y1 = np.max([0, center[1] - local_px])\n",
    "            y2 = np.min([w, center[1] + local_px])\n",
    "\n",
    "            center_local = [local_px, local_px]\n",
    "\n",
    "            local_bg = bg_all[plane, x1:x2, y1:y2].astype(bool)\n",
    "            local_im_ndnf = im_array_ndnf[plane, x1:x2, y1:y2]\n",
    "            local_im_sst = im_array_sst[plane, x1:x2, y1:y2]\n",
    "            local_im_vip = im_array_vip[plane, x1:x2, y1:y2]\n",
    "\n",
    "    #         ax[0, cell].imshow(local_im, vmin = np.min(local_im), vmax = np.max(local_im)/2)\n",
    "\n",
    "    #         ax[1, cell].imshow(local_bg)\n",
    "\n",
    "            verts = np.array(np.where(local_bg))\n",
    "            dist_from_center = np.linalg.norm(verts - np.reshape(center_local, [2, 1]), axis = 0)\n",
    "            verts = verts[:, dist_from_center > min_dist_px]\n",
    "            dist_from_center = dist_from_center[dist_from_center > min_dist_px]\n",
    "\n",
    "            order = np.argsort(dist_from_center)\n",
    "            n_verts = np.min([n_verts, len(order)])\n",
    "\n",
    "            x_bg = verts[0][order[0:n_verts]]\n",
    "            y_bg = verts[1][order[0:n_verts]]\n",
    "\n",
    "            local_bg = np.zeros(local_bg.shape).astype(bool)\n",
    "            local_bg[x_bg, y_bg] = np.ones(n_verts)\n",
    "\n",
    "    #         ax[2, cell].imshow(local_bg)\n",
    "\n",
    "            bg_ndnf[p] = np.mean(local_im_ndnf[local_bg])\n",
    "            bg_vip[p] = np.mean(local_im_vip[local_bg])\n",
    "            bg_sst[p] = np.mean(local_im_sst[local_bg])\n",
    "\n",
    "            p += 1\n",
    "\n",
    "\n",
    "\n",
    "        avg_bg_ndnf[cell] = np.mean(bg_ndnf)\n",
    "        avg_bg_vip[cell] = np.mean(bg_vip)\n",
    "        avg_bg_sst[cell] = np.mean(bg_sst)\n",
    "\n",
    "        with open('{0}\\\\{1}'.format(save_loc, save_file), 'wb') as f:\n",
    "            pkl.dump({'Ndnf': avg_bg_ndnf, 'Sst': avg_bg_sst, 'Vip':avg_bg_vip, 'Centers': centers, \n",
    "                      'n_vert_all':n_vert_all, 'bg_all': bg_all}, f)\n",
    "            \n",
    "        del bg_all"
   ]
  },
  {
   "cell_type": "markdown",
   "metadata": {
    "heading_collapsed": true,
    "hidden": true
   },
   "source": [
    "### Binarized images"
   ]
  },
  {
   "cell_type": "code",
   "execution_count": 119,
   "metadata": {
    "ExecuteTime": {
     "end_time": "2020-03-08T03:30:39.801174Z",
     "start_time": "2020-03-08T03:30:30.048265Z"
    },
    "code_folding": [
     17
    ],
    "hidden": true
   },
   "outputs": [
    {
     "name": "stdout",
     "output_type": "stream",
     "text": [
      "Data loaded\n"
     ]
    }
   ],
   "source": [
    "\n",
    "save_loc = 'G:\\\\Shared drives\\\\as_share\\\\HCR\\\\HCR_10.17'\n",
    "save_file = 'S1_background_ndnf_sst_vip.pkl'\n",
    "\n",
    "try:\n",
    "    with open('{0}\\\\{1}'.format(save_loc, save_file), 'rb') as f:\n",
    "        bg_dict = pkl.load(f)   \n",
    "    \n",
    "    centers = bg_dict['Centers']\n",
    "    n_vert_all = bg_dict['n_vert_all']\n",
    "    bg_all = bg_dict['bg_all']\n",
    "    avg_bg_ndnf_bin = bg_dict['Ndnf_bin'] \n",
    "    avg_bg_sst_bin = bg_dict['Sst_bin']  \n",
    "    avg_bg_vip_bin = bg_dict['Vip_bin']\n",
    "\n",
    "    print('Data loaded')\n",
    "\n",
    "except:\n",
    "    \n",
    "    print('Data not found, calculating background values')\n",
    "    bg_all = np.ones([n, h, w])\n",
    "    n_vert_all = {}\n",
    "    centers = {}\n",
    "\n",
    "    no_cells = len(Cell.cell_data.keys())\n",
    "    for cell in range(no_cells):\n",
    "\n",
    "        cell_no = cell + 1\n",
    "        cell_dict = Cell.cell_data[cell_no]\n",
    "        z_planes = cell_dict['z_planes']\n",
    "        n_vert_all[cell] = {}\n",
    "        centers[cell] = {}\n",
    "\n",
    "        for plane in z_planes:\n",
    "\n",
    "            xy_coord = mask_vertices[cell_no][plane]\n",
    "            x = xy_coord[0]\n",
    "            y = xy_coord[1]\n",
    "            z = plane\n",
    "            centers[cell][plane] = np.array([np.mean(x), np.mean(y)]).astype(int)\n",
    "\n",
    "\n",
    "            bg_all[z, x, y] = np.zeros([1, len(x)])\n",
    "\n",
    "            n_vert_all[cell][plane] = len(x) \n",
    "            \n",
    "    # fig, ax = plt.subplots(nrows = 3, ncols = 20)\n",
    "    um_per_px = 0.19\n",
    "    no_cells = len(Cell.cell_data.keys())\n",
    "    avg_bg_ndnf_bin = np.zeros(no_cells)\n",
    "    avg_bg_vip_bin = np.zeros(no_cells)\n",
    "    avg_bg_sst_bin = np.zeros(no_cells)\n",
    "\n",
    "    local_region = 50 # in um\n",
    "    local_px = int(local_region/um_per_px/2)\n",
    "\n",
    "    min_dist = 10 # in um\n",
    "    min_dist_px = min_dist/um_per_px\n",
    "\n",
    "    for cell in range(no_cells):\n",
    "        cell_no = cell + 1\n",
    "        if np.mod(cell, 10) == 0:\n",
    "            print('Cell {0}'.format(cell))\n",
    "        cell_dict = Cell.cell_data[cell_no]\n",
    "        z_planes = cell_dict['z_planes']\n",
    "\n",
    "        bg_ndnf = np.zeros(len(z_planes))\n",
    "        bg_vip = np.zeros(len(z_planes))\n",
    "        bg_sst = np.zeros(len(z_planes))\n",
    "\n",
    "        p = 0\n",
    "        for plane in z_planes:\n",
    "\n",
    "            center = centers[cell][plane]\n",
    "            n_verts = n_vert_all[cell][plane]\n",
    "\n",
    "            x1 = np.max([0, center[0] - local_px])\n",
    "            x2 = np.min([h, center[0] + local_px])\n",
    "            y1 = np.max([0, center[1] - local_px])\n",
    "            y2 = np.min([w, center[1] + local_px])\n",
    "\n",
    "            center_local = [local_px, local_px]\n",
    "\n",
    "            local_bg = bg_all[plane, x1:x2, y1:y2].astype(bool)\n",
    "            local_im_ndnf = im_bin_ndnf[plane, x1:x2, y1:y2]\n",
    "            local_im_sst = im_bin_sst[plane, x1:x2, y1:y2]\n",
    "            local_im_vip = im_bin_vip[plane, x1:x2, y1:y2]\n",
    "\n",
    "    #         ax[0, cell].imshow(local_im, vmin = np.min(local_im), vmax = np.max(local_im)/2)\n",
    "\n",
    "    #         ax[1, cell].imshow(local_bg)\n",
    "\n",
    "            verts = np.array(np.where(local_bg))\n",
    "            dist_from_center = np.linalg.norm(verts - np.reshape(center_local, [2, 1]), axis = 0)\n",
    "            verts = verts[:, dist_from_center > min_dist_px]\n",
    "            dist_from_center = dist_from_center[dist_from_center > min_dist_px]\n",
    "\n",
    "            order = np.argsort(dist_from_center)\n",
    "            n_verts = np.min([n_verts, len(order)])\n",
    "\n",
    "            x_bg = verts[0][order[0:n_verts]]\n",
    "            y_bg = verts[1][order[0:n_verts]]\n",
    "\n",
    "            local_bg = np.zeros(local_bg.shape).astype(bool)\n",
    "            local_bg[x_bg, y_bg] = np.ones(n_verts)\n",
    "\n",
    "    #         ax[2, cell].imshow(local_bg)\n",
    "\n",
    "            bg_ndnf[p] = np.mean(local_im_ndnf[local_bg])\n",
    "            bg_vip[p] = np.mean(local_im_vip[local_bg])\n",
    "            bg_sst[p] = np.mean(local_im_sst[local_bg])\n",
    "\n",
    "            p += 1\n",
    "\n",
    "\n",
    "\n",
    "        avg_bg_ndnf_bin[cell] = np.mean(bg_ndnf)\n",
    "        avg_bg_vip_bin[cell] = np.mean(bg_vip)\n",
    "        avg_bg_sst_bin[cell] = np.mean(bg_sst)\n",
    "        \n",
    "    bg_dict['Ndnf_bin'] = avg_bg_ndnf_bin \n",
    "    bg_dict['Sst_bin'] = avg_bg_sst_bin \n",
    "    bg_dict['Vip_bin'] = avg_bg_vip_bin \n",
    "\n",
    "    with open('{0}\\\\{1}'.format(save_loc, save_file), 'wb') as f:\n",
    "        pkl.dump(bg_dict, f)\n",
    "            \n",
    "    del bg_all"
   ]
  },
  {
   "cell_type": "markdown",
   "metadata": {
    "heading_collapsed": true,
    "hidden": true
   },
   "source": [
    "### Calculate mask centers"
   ]
  },
  {
   "cell_type": "code",
   "execution_count": 93,
   "metadata": {
    "ExecuteTime": {
     "end_time": "2020-03-06T19:50:35.772592Z",
     "start_time": "2020-03-06T19:50:34.002329Z"
    },
    "hidden": true
   },
   "outputs": [],
   "source": [
    "bg_all = np.ones([n, h, w])\n",
    "n_vert_all = {}\n",
    "centers = {}\n",
    "\n",
    "no_cells = len(Cell.cell_data.keys())\n",
    "for cell in range(no_cells):\n",
    "\n",
    "    cell_no = cell + 1\n",
    "    cell_dict = Cell.cell_data[cell_no]\n",
    "    z_planes = cell_dict['z_planes']\n",
    "    n_vert_all[cell] = {}\n",
    "    centers[cell] = {}\n",
    "\n",
    "    for plane in z_planes:\n",
    "\n",
    "        xy_coord = mask_vertices[cell_no][plane]\n",
    "        x = xy_coord[0]\n",
    "        y = xy_coord[1]\n",
    "        z = plane\n",
    "        centers[cell][plane] = np.array([np.mean(x), np.mean(y)]).astype(int)\n",
    "\n",
    "\n",
    "        bg_all[z, x, y] = np.zeros([1, len(x)])\n",
    "\n",
    "        n_vert_all[cell][plane] = len(x) "
   ]
  },
  {
   "cell_type": "code",
   "execution_count": 78,
   "metadata": {
    "ExecuteTime": {
     "end_time": "2020-03-06T19:44:47.565092Z",
     "start_time": "2020-03-06T19:44:47.555118Z"
    },
    "hidden": true
   },
   "outputs": [
    {
     "data": {
      "text/plain": [
       "'S1_background_ndnf_sst_vip.pkl'"
      ]
     },
     "execution_count": 78,
     "metadata": {},
     "output_type": "execute_result"
    }
   ],
   "source": [
    "save_file"
   ]
  },
  {
   "cell_type": "code",
   "execution_count": 94,
   "metadata": {
    "ExecuteTime": {
     "end_time": "2020-03-06T19:50:50.105003Z",
     "start_time": "2020-03-06T19:50:37.025307Z"
    },
    "hidden": true
   },
   "outputs": [],
   "source": [
    "with open('{0}\\\\{1}'.format(save_loc, save_file), 'wb') as f:\n",
    "            pkl.dump({'Ndnf': avg_bg_ndnf, 'Sst': avg_bg_sst, 'Vip':avg_bg_vip, 'Centers': centers,\n",
    "                     'n_vert_all': n_vert_all, 'bg_all': bg_all}, f)"
   ]
  },
  {
   "cell_type": "code",
   "execution_count": 127,
   "metadata": {
    "ExecuteTime": {
     "end_time": "2020-03-03T23:52:44.060292Z",
     "start_time": "2020-03-03T23:52:44.055303Z"
    },
    "hidden": true
   },
   "outputs": [],
   "source": [
    "del all_cell_pixels"
   ]
  },
  {
   "cell_type": "markdown",
   "metadata": {},
   "source": [
    "## Use background to estimate significance of signal"
   ]
  },
  {
   "cell_type": "markdown",
   "metadata": {
    "heading_collapsed": true
   },
   "source": [
    "### Get bootstrap sample means from background"
   ]
  },
  {
   "cell_type": "markdown",
   "metadata": {
    "heading_collapsed": true,
    "hidden": true
   },
   "source": [
    "#### Raw images"
   ]
  },
  {
   "cell_type": "code",
   "execution_count": 96,
   "metadata": {
    "ExecuteTime": {
     "end_time": "2020-03-06T19:53:32.289339Z",
     "start_time": "2020-03-06T19:51:16.853326Z"
    },
    "code_folding": [
     19
    ],
    "hidden": true
   },
   "outputs": [
    {
     "name": "stdout",
     "output_type": "stream",
     "text": [
      "No data found, calculating p values\n",
      "Cell 0\n",
      "Cell 10\n",
      "Cell 20\n",
      "Cell 30\n",
      "Cell 40\n",
      "Cell 50\n",
      "Cell 60\n",
      "Cell 70\n",
      "Cell 80\n",
      "Cell 90\n",
      "Cell 100\n",
      "Cell 110\n",
      "Cell 120\n",
      "Cell 130\n",
      "Cell 140\n",
      "Cell 150\n",
      "Cell 160\n",
      "Cell 170\n",
      "Cell 180\n",
      "Cell 190\n",
      "Cell 200\n",
      "Cell 210\n",
      "Cell 220\n",
      "Cell 230\n",
      "Cell 240\n",
      "Cell 250\n",
      "Cell 260\n",
      "Cell 270\n",
      "Cell 280\n"
     ]
    }
   ],
   "source": [
    "save_loc = 'G:\\\\Shared drives\\\\as_share\\\\HCR\\\\HCR_10.17'\n",
    "save_file = 'S1_bootstrap.pkl'\n",
    "\n",
    "# Parameters\n",
    "n_sample = 1000 # Number of samples to calculate bootstrap confidence interval\n",
    "um_per_px = 0.19\n",
    "local_region = 50 # in um\n",
    "min_dist = 10 # in um\n",
    "bg_factor = 4 # Take 4x the number of pixels in the mask of the cell, for local background - it will still be local but you'll\n",
    "            # get a better estimate of background by averaging over more pixels.\n",
    "\n",
    "try:\n",
    "    with open('{0}\\\\{1}'.format(save_loc, save_file), 'rb') as f:\n",
    "        d = pkl.load(f)\n",
    "    bg_bs_ndnf = d['Ndnf']\n",
    "    bg_bs_sst = d['Sst']\n",
    "    bg_bs_vip = d['Vip']\n",
    "    print('Data loaded')\n",
    "    \n",
    "except:\n",
    "    print('No data found, calculating p values')\n",
    "\n",
    "    no_cells = len(Cell.cell_data.keys())\n",
    "    bg_bs_ndnf = {}\n",
    "    bg_bs_sst = {}\n",
    "    bg_bs_vip = {}\n",
    "\n",
    "    local_px = int(local_region/um_per_px/2)\n",
    "    min_dist_px = min_dist/um_per_px\n",
    "\n",
    "    for cell in range(no_cells):\n",
    "\n",
    "        if np.mod(cell, 10) == 0:\n",
    "            print('Cell {0}'.format(cell))\n",
    "\n",
    "        cell_no = cell + 1\n",
    "        cell_dict = Cell.cell_data[cell_no]\n",
    "        z_planes = cell_dict['z_planes']\n",
    "\n",
    "        bg_bs_ndnf[cell] = {}\n",
    "        bg_bs_sst[cell] = {}\n",
    "        bg_bs_vip[cell] = {}\n",
    "        \n",
    "        p = 0\n",
    "\n",
    "        for plane in z_planes:\n",
    "\n",
    "            bg_bs_ndnf[cell][plane] = np.zeros(n_sample)\n",
    "            bg_bs_sst[cell][plane] = np.zeros(n_sample)\n",
    "            bg_bs_vip[cell][plane] = np.zeros(n_sample)\n",
    "            \n",
    "            center = centers[cell][plane]\n",
    "            n_verts = n_vert_all[cell][plane]\n",
    "\n",
    "            x1 = np.max([0, center[0] - local_px])\n",
    "            x2 = np.min([h, center[0] + local_px])\n",
    "            y1 = np.max([0, center[1] - local_px])\n",
    "            y2 = np.min([w, center[1] + local_px])\n",
    "\n",
    "            center_local = [local_px, local_px]\n",
    "\n",
    "            local_bg = bg_all[plane, x1:x2, y1:y2].astype(bool)\n",
    "\n",
    "            verts = np.array(np.where(local_bg))\n",
    "            dist_from_center = np.linalg.norm(verts - np.reshape(center_local, [2, 1]), \n",
    "                                              axis = 0)\n",
    "            verts = verts[:, dist_from_center > min_dist_px]\n",
    "            dist_from_center = dist_from_center[dist_from_center > min_dist_px]\n",
    "\n",
    "            order = np.argsort(dist_from_center)\n",
    "            n_verts_bg = np.min([bg_factor*n_verts, len(order)])\n",
    "\n",
    "            verts = verts[:, order[0:n_verts_bg]]\n",
    "            samples = np.random.choice(np.linspace(0, n_verts_bg - 1, n_verts_bg).astype(int), \n",
    "                                       (n_verts, n_sample), replace = True)\n",
    "            x_bs = verts[0][samples]\n",
    "            y_bs = verts[1][samples]\n",
    "\n",
    "            local_im_ndnf = im_array_ndnf[plane, x1:x2, y1:y2]\n",
    "            local_im_sst = im_array_sst[plane, x1:x2, y1:y2]\n",
    "            local_im_vip = im_array_vip[plane, x1:x2, y1:y2]\n",
    "\n",
    "\n",
    "            local_bg_bs = np.zeros([x2 - x1, y2 - y1]).astype(bool)\n",
    "            for s in range(n_sample):\n",
    "                local_bg_bs[x_bs[:, s], y_bs[:, s]] = np.ones(n_verts)\n",
    "                bg_bs_ndnf[cell][plane][s] = np.mean(local_im_ndnf[local_bg_bs])\n",
    "                bg_bs_vip[cell][plane][s] = np.mean(local_im_vip[local_bg_bs])\n",
    "                bg_bs_sst[cell][plane][s] = np.mean(local_im_sst[local_bg_bs])\n",
    "\n",
    "            p += 1\n",
    "\n",
    "    with open('{0}\\\\{1}'.format(save_loc, save_file), 'wb') as f:\n",
    "        pkl.dump({'Ndnf': bg_bs_ndnf, 'Vip': bg_bs_vip, 'Sst': bg_bs_sst}, f)     \n",
    "    "
   ]
  },
  {
   "cell_type": "markdown",
   "metadata": {
    "heading_collapsed": true,
    "hidden": true
   },
   "source": [
    "#### Binarized images"
   ]
  },
  {
   "cell_type": "code",
   "execution_count": 120,
   "metadata": {
    "ExecuteTime": {
     "end_time": "2020-03-08T03:34:14.003769Z",
     "start_time": "2020-03-08T03:31:26.243094Z"
    },
    "hidden": true
   },
   "outputs": [
    {
     "name": "stdout",
     "output_type": "stream",
     "text": [
      "No data found, calculating p values\n",
      "Cell 0, 1.0 seconds\n",
      "Cell 10, 6.0 seconds\n",
      "Cell 20, 12.0 seconds\n",
      "Cell 30, 18.0 seconds\n",
      "Cell 40, 23.0 seconds\n",
      "Cell 50, 30.0 seconds\n",
      "Cell 60, 36.0 seconds\n",
      "Cell 70, 43.0 seconds\n",
      "Cell 80, 50.0 seconds\n",
      "Cell 90, 57.0 seconds\n",
      "Cell 100, 63.0 seconds\n",
      "Cell 110, 69.0 seconds\n",
      "Cell 120, 75.0 seconds\n",
      "Cell 130, 82.0 seconds\n",
      "Cell 140, 86.0 seconds\n",
      "Cell 150, 92.0 seconds\n",
      "Cell 160, 97.0 seconds\n",
      "Cell 170, 102.0 seconds\n",
      "Cell 180, 106.0 seconds\n",
      "Cell 190, 111.0 seconds\n",
      "Cell 200, 116.0 seconds\n",
      "Cell 210, 121.0 seconds\n",
      "Cell 220, 129.0 seconds\n",
      "Cell 230, 134.0 seconds\n",
      "Cell 240, 138.0 seconds\n",
      "Cell 250, 143.0 seconds\n",
      "Cell 260, 151.0 seconds\n",
      "Cell 270, 157.0 seconds\n",
      "Cell 280, 162.0 seconds\n"
     ]
    }
   ],
   "source": [
    "save_loc = 'G:\\\\Shared drives\\\\as_share\\\\HCR\\\\HCR_10.17'\n",
    "save_file = 'S1_bootstrap.pkl'\n",
    "\n",
    "# Parameters\n",
    "n_sample = 1000 # Number of samples to calculate bootstrap confidence interval\n",
    "um_per_px = 0.19\n",
    "local_region = 50 # in um\n",
    "min_dist = 10 # in um\n",
    "bg_factor = 10 # Take 10x the number of pixels in the mask of the cell, for local background - it will still be local but you'll\n",
    "            # get a better estimate of background by averaging over more pixels.\n",
    "\n",
    "t0 = time.time()\n",
    "try:\n",
    "    with open('{0}\\\\{1}'.format(save_loc, save_file), 'rb') as f:\n",
    "        d = pkl.load(f)\n",
    "    bg_bs_ndnf_bin = d['Ndnf_bin']\n",
    "    bg_bs_sst_bin = d['Sst_bin']\n",
    "    bg_bs_vip_bin = d['Vip_bin']\n",
    "    print('Data loaded')\n",
    "    \n",
    "except:\n",
    "    print('No data found, calculating p values')\n",
    "\n",
    "    no_cells = len(Cell.cell_data.keys())\n",
    "    bg_bs_ndnf_bin = {}\n",
    "    bg_bs_sst_bin = {}\n",
    "    bg_bs_vip_bin = {}\n",
    "\n",
    "    local_px = int(local_region/um_per_px/2)\n",
    "    min_dist_px = min_dist/um_per_px\n",
    "\n",
    "    for cell in range(no_cells):\n",
    "\n",
    "        if np.mod(cell, 10) == 0:\n",
    "            t1 = np.round(time.time() - t0)\n",
    "            print('Cell {0}, {1} seconds'.format(cell, t1))\n",
    "\n",
    "        cell_no = cell + 1\n",
    "        cell_dict = Cell.cell_data[cell_no]\n",
    "        z_planes = cell_dict['z_planes']\n",
    "\n",
    "        bg_bs_ndnf_bin[cell] = {}\n",
    "        bg_bs_sst_bin[cell] = {}\n",
    "        bg_bs_vip_bin[cell] = {}\n",
    "        \n",
    "        p = 0\n",
    "\n",
    "        for plane in z_planes:\n",
    "\n",
    "            bg_bs_ndnf_bin[cell][plane] = np.zeros(n_sample)\n",
    "            bg_bs_sst_bin[cell][plane] = np.zeros(n_sample)\n",
    "            bg_bs_vip_bin[cell][plane] = np.zeros(n_sample)\n",
    "            \n",
    "            center = centers[cell][plane]\n",
    "            n_verts = n_vert_all[cell][plane]\n",
    "\n",
    "            x1 = np.max([0, center[0] - local_px])\n",
    "            x2 = np.min([h, center[0] + local_px])\n",
    "            y1 = np.max([0, center[1] - local_px])\n",
    "            y2 = np.min([w, center[1] + local_px])\n",
    "\n",
    "            center_local = [local_px, local_px]\n",
    "\n",
    "            local_bg = bg_all[plane, x1:x2, y1:y2].astype(bool)\n",
    "\n",
    "            verts = np.array(np.where(local_bg))\n",
    "            dist_from_center = np.linalg.norm(verts - np.reshape(center_local, [2, 1]), \n",
    "                                              axis = 0)\n",
    "            verts = verts[:, dist_from_center > min_dist_px]\n",
    "            dist_from_center = dist_from_center[dist_from_center > min_dist_px]\n",
    "\n",
    "            order = np.argsort(dist_from_center)\n",
    "            n_verts_bg = np.min([bg_factor*n_verts, len(order)])\n",
    "\n",
    "            verts = verts[:, order[0:n_verts_bg]]\n",
    "            samples = np.random.choice(np.linspace(0, n_verts_bg - 1, n_verts_bg).astype(int), \n",
    "                                       (n_verts, n_sample), replace = True)\n",
    "            x_bs = verts[0][samples]\n",
    "            y_bs = verts[1][samples]\n",
    "\n",
    "            local_im_ndnf = im_bin_ndnf[plane, x1:x2, y1:y2]\n",
    "            local_im_sst = im_bin_sst[plane, x1:x2, y1:y2]\n",
    "            local_im_vip = im_bin_vip[plane, x1:x2, y1:y2]\n",
    "\n",
    "\n",
    "            local_bg_bs = np.zeros([x2 - x1, y2 - y1]).astype(bool)\n",
    "            for s in range(n_sample):\n",
    "                local_bg_bs[x_bs[:, s], y_bs[:, s]] = np.ones(n_verts)\n",
    "                bg_bs_ndnf_bin[cell][plane][s] = np.mean(local_im_ndnf[local_bg_bs])\n",
    "                bg_bs_vip_bin[cell][plane][s] = np.mean(local_im_vip[local_bg_bs])\n",
    "                bg_bs_sst_bin[cell][plane][s] = np.mean(local_im_sst[local_bg_bs])\n",
    "\n",
    "            p += 1\n",
    "            \n",
    "    d['Ndnf_bin'] = bg_bs_ndnf_bin \n",
    "    d['Sst_bin'] = bg_bs_sst_bin \n",
    "    d['Vip_bin'] = bg_bs_vip_bin \n",
    "\n",
    "    with open('{0}\\\\{1}'.format(save_loc, save_file), 'wb') as f:\n",
    "        pkl.dump(d, f)     \n",
    "    "
   ]
  },
  {
   "cell_type": "markdown",
   "metadata": {
    "heading_collapsed": true
   },
   "source": [
    "### Calculate p-value  and confidence interval"
   ]
  },
  {
   "cell_type": "code",
   "execution_count": 121,
   "metadata": {
    "ExecuteTime": {
     "end_time": "2020-03-08T03:35:44.621349Z",
     "start_time": "2020-03-08T03:35:44.345088Z"
    },
    "code_folding": [],
    "hidden": true
   },
   "outputs": [
    {
     "name": "stdout",
     "output_type": "stream",
     "text": [
      "Loaded p values for raw images\n",
      "Loaded confidence intervals\n",
      "Loaded p values for lipofuscin excluded masks\n",
      "Data not found; calculating\n",
      "Cell 0\n",
      "Cell 10\n",
      "Cell 20\n",
      "Cell 30\n",
      "Cell 40\n",
      "Cell 50\n",
      "Cell 60\n",
      "Cell 70\n",
      "Cell 80\n",
      "Cell 90\n",
      "Cell 100\n",
      "Cell 110\n",
      "Cell 120\n",
      "Cell 130\n",
      "Cell 140\n",
      "Cell 150\n",
      "Cell 160\n",
      "Cell 170\n",
      "Cell 180\n",
      "Cell 190\n",
      "Cell 200\n",
      "Cell 210\n",
      "Cell 220\n",
      "Cell 230\n",
      "Cell 240\n",
      "Cell 250\n",
      "Cell 260\n",
      "Cell 270\n",
      "Cell 280\n",
      "\n",
      "With raw images:\n",
      "Ndnf: 78 cells are significant\n",
      "Vip: 60 cells are significant\n",
      "Sst: 36 cells are significant\n",
      "\n",
      "Ndnf & Sst: 17 cells are significant\n",
      "Vip & Sst: 19 cells are significant\n",
      "Ndnf & Vip: 7 cells are significant\n",
      "\n",
      "With lipofuscin pixels exluded:\n",
      "Ndnf: 68 cells are significant\n",
      "Vip: 60 cells are significant\n",
      "Sst: 29 cells are significant\n",
      "\n",
      "Ndnf & Sst: 14 cells are significant\n",
      "Vip & Sst: 18 cells are significant\n",
      "Ndnf & Vip: 7 cells are significant\n",
      "\n",
      "With lipofuscin pixels exluded, in binarized images:\n",
      "Ndnf: 107 cells are significant\n",
      "Vip: 158 cells are significant\n",
      "Sst: 84 cells are significant\n",
      "\n",
      "Ndnf & Sst: 62 cells are significant\n",
      "Vip & Sst: 73 cells are significant\n",
      "Ndnf & Vip: 68 cells are significant\n"
     ]
    }
   ],
   "source": [
    "save_loc = 'G:\\\\Shared drives\\\\as_share\\\\HCR\\\\HCR_10.17'\n",
    "save_file1 = 'S1_pvals.pkl'\n",
    "save_file2 = 'S1_conf_intvls.pkl'\n",
    "save_file3 = 'S1_pvals_lipo_excl.pkl'\n",
    "save_file4 = 'S1_pvals_lipo_excl_bin.pkl'\n",
    "\n",
    "p_value = 0.05 # Threshold for calling signal significantly different from background\n",
    "\n",
    "try:\n",
    "    with open('{0}\\\\{1}'.format(save_loc, save_file1), 'rb') as f:\n",
    "        p_vals = pkl.load(f)\n",
    "        pv_ndnf = p_vals['Ndnf']\n",
    "        pv_sst = p_vals['Sst']\n",
    "        pv_vip = p_vals['Vip']\n",
    "    print('Loaded p values for raw images')\n",
    "    \n",
    "    with open('{0}\\\\{1}'.format(save_loc, save_file2), 'rb') as f:\n",
    "        ci = pkl.load(f)\n",
    "        ci_ndnf = ci['Ndnf']\n",
    "        ci_sst = ci['Sst']\n",
    "        ci_vip = ci['Vip']\n",
    "    print('Loaded confidence intervals')\n",
    "    \n",
    "    with open('{0}\\\\{1}'.format(save_loc, save_file3), 'rb') as f:\n",
    "        p_vals = pkl.load(f)\n",
    "        pv_ndnf2 = p_vals['Ndnf']\n",
    "        pv_sst2 = p_vals['Sst']\n",
    "        pv_vip2 = p_vals['Vip']\n",
    "    print('Loaded p values for lipofuscin excluded masks')\n",
    "    \n",
    "    with open('{0}\\\\{1}'.format(save_loc, save_file4), 'rb') as f:\n",
    "        p_vals = pkl.load(f)\n",
    "        pv_ndnf3 = p_vals['Ndnf']\n",
    "        pv_sst3 = p_vals['Sst']\n",
    "        pv_vip3 = p_vals['Vip']\n",
    "    print('Loaded p values for lipofuscin excluded masks in binarized images')\n",
    "\n",
    "\n",
    "except:\n",
    "    print('Data not found; calculating')\n",
    "    \n",
    "    ci_ndnf = np.zeros(no_cells)\n",
    "    ci_vip = np.zeros(no_cells)\n",
    "    ci_sst = np.zeros(no_cells)\n",
    "\n",
    "    pv_ndnf = np.zeros(no_cells)\n",
    "    pv_vip = np.zeros(no_cells)\n",
    "    pv_sst = np.zeros(no_cells)\n",
    "    \n",
    "    pv_ndnf2 = np.zeros(no_cells)\n",
    "    pv_vip2 = np.zeros(no_cells)\n",
    "    pv_sst2 = np.zeros(no_cells)\n",
    "    \n",
    "    pv_ndnf3 = np.zeros(no_cells)\n",
    "    pv_vip3 = np.zeros(no_cells)\n",
    "    pv_sst3 = np.zeros(no_cells)\n",
    "    \n",
    "    for cell in range(no_cells):\n",
    "\n",
    "        if np.mod(cell, 10) == 0:\n",
    "            print('Cell {0}'.format(cell))\n",
    "\n",
    "        cell_no = cell + 1\n",
    "        cell_dict = Cell.cell_data[cell_no]\n",
    "        z_planes = cell_dict['z_planes']\n",
    "\n",
    "        bs_means = bg_bs_ndnf[cell][z_planes[0]]\n",
    "        for plane in z_planes[1:]:\n",
    "            bs_means = np.concatenate([bs_means, bg_bs_ndnf[cell][plane]])\n",
    "        pv_ndnf[cell] = np.sum(bs_means > avg_intensity_ndnf[cell] - avg_bg_ndnf[cell])/len(bs_means)\n",
    "        ci_ndnf[cell] = np.mean(np.percentile(bs_means, (1 - p_value)*100, axis = 0))\n",
    "        pv_ndnf2[cell] = np.sum(bs_means > int_ndnf[cell] - avg_bg_ndnf[cell])/len(bs_means)\n",
    "        \n",
    "        bs_means = bg_bs_ndnf_bin[cell][z_planes[0]]\n",
    "        for plane in z_planes[1:]:\n",
    "            bs_means = np.concatenate([bs_means, bg_bs_ndnf_bin[cell][plane]])\n",
    "        pv_ndnf3[cell] = np.sum(bs_means >= int_ndnf_bin[cell] - avg_bg_ndnf_bin[cell])/len(bs_means)\n",
    "        \n",
    "        bs_means = bg_bs_vip[cell][z_planes[0]]\n",
    "        for plane in z_planes[1:]:\n",
    "            bs_means = np.concatenate([bs_means, bg_bs_vip[cell][plane]])\n",
    "        pv_vip[cell] = np.sum(bs_means > avg_intensity_vip[cell] - avg_bg_vip[cell])/len(bs_means)\n",
    "        pv_vip2[cell] = np.sum(bs_means > int_vip[cell] - avg_bg_vip[cell])/len(bs_means)\n",
    "        ci_vip[cell] = np.mean(np.percentile(bs_means, (1 - p_value)*100, axis = 0))\n",
    "\n",
    "        bs_means = bg_bs_vip_bin[cell][z_planes[0]]\n",
    "        for plane in z_planes[1:]:\n",
    "            bs_means = np.concatenate([bs_means, bg_bs_vip_bin[cell][plane]])\n",
    "        pv_vip3[cell] = np.sum(bs_means >= int_vip_bin[cell] - avg_bg_vip_bin[cell])/len(bs_means)\n",
    "\n",
    "        \n",
    "        bs_means = bg_bs_sst[cell][z_planes[0]]\n",
    "        for plane in z_planes[1:]:\n",
    "            bs_means = np.concatenate([bs_means, bg_bs_sst[cell][plane]])\n",
    "        pv_sst[cell] = np.sum(bs_means > avg_intensity_sst[cell] - avg_bg_sst[cell])/len(bs_means)\n",
    "        pv_sst2[cell] = np.sum(bs_means > int_sst[cell] - avg_bg_sst[cell])/len(bs_means)\n",
    "        ci_sst[cell] = np.mean(np.percentile(bs_means, (1 - p_value)*100, axis = 0))\n",
    "        \n",
    "        bs_means = bg_bs_sst_bin[cell][z_planes[0]]\n",
    "        for plane in z_planes[1:]:\n",
    "            bs_means = np.concatenate([bs_means, bg_bs_sst_bin[cell][plane]])\n",
    "        pv_sst3[cell] = np.sum(bs_means >= int_sst_bin[cell] - avg_bg_sst_bin[cell])/len(bs_means)\n",
    "\n",
    "\n",
    "    with open('{0}\\\\{1}'.format(save_loc, save_file1), 'wb') as f:\n",
    "        pkl.dump({'Ndnf': pv_ndnf, 'Sst': pv_sst, 'Vip':pv_vip}, f)\n",
    "\n",
    "    with open('{0}\\\\{1}'.format(save_loc, save_file2), 'wb') as f:\n",
    "        pkl.dump({'Ndnf': ci_ndnf, 'Sst': ci_sst, 'Vip':ci_vip}, f)\n",
    "\n",
    "    with open('{0}\\\\{1}'.format(save_loc, save_file3), 'wb') as f:\n",
    "        pkl.dump({'Ndnf': pv_ndnf2, 'Sst': pv_sst2, 'Vip':pv_vip2}, f)\n",
    "\n",
    "    with open('{0}\\\\{1}'.format(save_loc, save_file4), 'wb') as f:\n",
    "        pkl.dump({'Ndnf': pv_ndnf3, 'Sst': pv_sst3, 'Vip':pv_vip3}, f)\n",
    "\n",
    "    \n",
    "print('')\n",
    "print('With raw images:')\n",
    "\n",
    "print('Ndnf: {0} cells are significant'.format(np.sum(pv_ndnf < 0.05)))\n",
    "print('Vip: {0} cells are significant'.format(np.sum(pv_vip < 0.05)))\n",
    "print('Sst: {0} cells are significant'.format(np.sum(pv_sst < 0.05)))\n",
    "\n",
    "print('')\n",
    "\n",
    "print('Ndnf & Sst: {0} cells are significant'.format(np.sum(np.logical_and(pv_ndnf < 0.05, pv_sst < 0.05))))\n",
    "print('Vip & Sst: {0} cells are significant'.format(np.sum(np.logical_and(pv_vip < 0.05, pv_sst < 0.05))))\n",
    "print('Ndnf & Vip: {0} cells are significant'.format(np.sum(np.logical_and(pv_ndnf < 0.05, pv_vip < 0.05))))\n",
    "\n",
    "print('')\n",
    "print('With lipofuscin pixels exluded:')\n",
    "\n",
    "print('Ndnf: {0} cells are significant'.format(np.sum(pv_ndnf2 < 0.05)))\n",
    "print('Vip: {0} cells are significant'.format(np.sum(pv_vip2 < 0.05)))\n",
    "print('Sst: {0} cells are significant'.format(np.sum(pv_sst2 < 0.05)))\n",
    "\n",
    "print('')\n",
    "\n",
    "print('Ndnf & Sst: {0} cells are significant'.format(np.sum(np.logical_and(pv_ndnf2 < 0.05, pv_sst2 < 0.05))))\n",
    "print('Vip & Sst: {0} cells are significant'.format(np.sum(np.logical_and(pv_vip2 < 0.05, pv_sst2 < 0.05))))\n",
    "print('Ndnf & Vip: {0} cells are significant'.format(np.sum(np.logical_and(pv_ndnf2 < 0.05, pv_vip2 < 0.05))))\n",
    "\n",
    "print('')\n",
    "print('With lipofuscin pixels exluded, in binarized images:')\n",
    "\n",
    "print('Ndnf: {0} cells are significant'.format(np.sum(pv_ndnf3 < 0.05)))\n",
    "print('Vip: {0} cells are significant'.format(np.sum(pv_vip3 < 0.05)))\n",
    "print('Sst: {0} cells are significant'.format(np.sum(pv_sst3 < 0.05)))\n",
    "\n",
    "print('')\n",
    "\n",
    "print('Ndnf & Sst: {0} cells are significant'.format(np.sum(np.logical_and(pv_ndnf3 < 0.05, pv_sst3 < 0.05))))\n",
    "print('Vip & Sst: {0} cells are significant'.format(np.sum(np.logical_and(pv_vip3 < 0.05, pv_sst3 < 0.05))))\n",
    "print('Ndnf & Vip: {0} cells are significant'.format(np.sum(np.logical_and(pv_ndnf3 < 0.05, pv_vip3 < 0.05))))"
   ]
  },
  {
   "cell_type": "markdown",
   "metadata": {
    "heading_collapsed": true
   },
   "source": [
    "# Find cortex surface and calculate depths"
   ]
  },
  {
   "cell_type": "code",
   "execution_count": 98,
   "metadata": {
    "ExecuteTime": {
     "end_time": "2020-03-06T20:00:06.784627Z",
     "start_time": "2020-03-06T20:00:06.560611Z"
    },
    "hidden": true
   },
   "outputs": [
    {
     "name": "stdout",
     "output_type": "stream",
     "text": [
      "Depths loaded\n"
     ]
    }
   ],
   "source": [
    "save_loc = 'G:\\\\Shared drives\\\\as_share\\\\HCR\\\\HCR_10.17'\n",
    "save_file = 'S1_depths.pkl'\n",
    "\n",
    "try:\n",
    "    with open('{0}\\\\{1}'.format(save_loc, save_file), 'rb') as f:\n",
    "        depths = pkl.load(f)\n",
    "        print('Depths loaded')\n",
    "except:\n",
    "    print('Data not found, draw cortex surface and execute lower cell')"
   ]
  },
  {
   "cell_type": "code",
   "execution_count": null,
   "metadata": {
    "hidden": true
   },
   "outputs": [],
   "source": [
    "um_per_px = 0.19\n",
    "\n",
    "def find_depth(d1, d2, cell_center): #d1 and d2 are two points on the surface closest to the cell center\n",
    "    \n",
    "    dx = d2[0] - d1[0]\n",
    "    dy = d2[1] - d1[1]\n",
    "    d1_cell_x = cell_center[0] - d1[0]\n",
    "    d1_cell_y = cell_center[1] - d1[1]\n",
    "    t = (dx * d1_cell_x + dy * d1_cell_y) / (dx * dx + dy * dy)\n",
    "    px = d1[0] + t * dx # Projection of cell center onto line joining d1 and d2\n",
    "    py = d1[1] + t * dy\n",
    "    depth = np.linalg.norm([px - cell_center[0], py - cell_center[1]])\n",
    "    return depth\n",
    "\n",
    "# Draw surface and calculate depths\n",
    "surface = viewer.layers['Cell masks'].data[-1]\n",
    "depths = np.zeros(Cell.n_cells)\n",
    "\n",
    "for cell in range(Cell.n_cells):\n",
    "    distances = np.linalg.norm(centers[cell, :] - surface, axis = 1)\n",
    "    order = np.argsort(distances)\n",
    "    [p1, p2] = order[0:2]\n",
    "    d1 = surface[p1]\n",
    "    d2 = surface[p2]\n",
    "    depths[cell] = find_depth(d1, d2, centers[cell, :])\n",
    "depths = depths*um_per_px"
   ]
  },
  {
   "cell_type": "markdown",
   "metadata": {},
   "source": [
    "# Plots"
   ]
  },
  {
   "cell_type": "markdown",
   "metadata": {
    "heading_collapsed": true
   },
   "source": [
    "## 2D scatter plot of pixel values (pairs of channels)"
   ]
  },
  {
   "cell_type": "code",
   "execution_count": 26,
   "metadata": {
    "ExecuteTime": {
     "end_time": "2020-03-06T18:50:43.160543Z",
     "start_time": "2020-03-06T18:50:40.722043Z"
    },
    "hidden": true
   },
   "outputs": [],
   "source": [
    "img_dict = {'Ndnf': im_bin_ndnf, 'Sst': im_bin_sst, 'Vip': im_bin_vip}\n",
    "#img_dict = {'Ndnf': im_diff_ndnf, 'Sst': im_diff_sst, 'Vip': im_diff_vip}\n",
    "#img_dict = {'Ndnf': im_array_ndnf, 'Sst': im_array_sst, 'Vip': im_array_vip}\n",
    "\n",
    "pixels_dict = {'Cells': all_cell_pixels, 'Lipofuscin': all_lipo_pixels}\n",
    "#pixels_dict = {'Cells': all_cell_pixels}\n",
    "\n",
    "colors_dict = {'Cells': 'b', 'Lipofuscin': 'k'}\n",
    "title = 'Diff gauss sigma = ({0}, {1}); binarized above {2} std from median'.format(sigma_small, sigma_large, thresh_scale)\n",
    "#title = 'Raw images'\n",
    "save_loc = 'G:\\\\Shared drives\\\\as_share\\\\HCR\\\\HCR_10.17\\\\S1_scatter_plots'\n",
    "save_file = '{0} scatter lipo + cells.png'.format(title)\n",
    "#save_file = '{0} scatter cells.png'.format(title)\n",
    "\n",
    "scatter_channels.scatter_channels(img_dict, pixels_dict, max_per_group= 100000, colors_dict = colors_dict, \n",
    "                                  title = title, save = True, save_loc = save_loc, save_file = save_file)\n",
    "\n",
    "del img_dict\n",
    "del pixels_dict"
   ]
  },
  {
   "cell_type": "markdown",
   "metadata": {
    "heading_collapsed": true
   },
   "source": [
    "## 3D scatter plot of pixel values (3 channels)"
   ]
  },
  {
   "cell_type": "code",
   "execution_count": 44,
   "metadata": {
    "ExecuteTime": {
     "end_time": "2020-03-06T19:15:54.031523Z",
     "start_time": "2020-03-06T19:15:51.262930Z"
    },
    "hidden": true
   },
   "outputs": [],
   "source": [
    "img_dict = {'Ndnf': im_bin_ndnf, 'Sst': im_bin_sst, 'Vip': im_bin_vip}\n",
    "#img_dict = {'Ndnf': im_diff_ndnf, 'Sst': im_diff_sst, 'Vip': im_diff_vip}\n",
    "#img_dict = {'Ndnf': im_array_ndnf, 'Sst': im_array_sst, 'Vip': im_array_vip}\n",
    "\n",
    "pixels_dict = {'Cells': all_cell_pixels, 'Lipofuscin': all_lipo_pixels}\n",
    "#pixels_dict = {'Cells': all_cell_pixels}\n",
    "#pixels_dict = {'Lipofuscin': all_lipo_pixels}\n",
    "\n",
    "\n",
    "#colors_dict = {'Cells': 'b', 'Lipofuscin': 'k'}\n",
    "#colors_dict = {'Cells': m_dist_vals['Cells'], 'Lipofuscin': m_dist_vals['Lipofuscin']}\n",
    "colors_dict = {'Cells': np.log(m_dist_vals['Cells']), 'Lipofuscin': 'r'}\n",
    "\n",
    "title = 'Sub-sampled diff gauss sigma = ({0}, {1}) \\n binarized above {2} std from median \\n color = log mahalanobis distance from lipofuscin pixels'.format(sigma_small, sigma_large, thresh_scale)\n",
    "#title = 'Raw images'\n",
    "\n",
    "save_loc = 'G:\\\\Shared drives\\\\as_share\\\\HCR\\\\HCR_10.17\\\\S1_scatter_plots'\n",
    "save_file = '3D scatter lipo + cells mahalanobis distance.png'\n",
    "#save_file = '{0} 3D scatter cells.png'.format(title)\n",
    "#save_file = '{0} 3D scatter lipo.png'.format(title)\n",
    "#save_file=  '3D scatter lipo.png'\n",
    "\n",
    "scatter_channels.scatter_channels(img_dict, pixels_dict, max_per_group= 100000, colors_dict = colors_dict,\n",
    "                                  make_3D = True,\n",
    "                                  title = title, save = True, save_loc = save_loc, save_file = save_file)\n",
    "\n",
    "del img_dict\n",
    "del pixels_dict"
   ]
  },
  {
   "cell_type": "code",
   "execution_count": 47,
   "metadata": {
    "ExecuteTime": {
     "end_time": "2020-03-06T19:19:01.083705Z",
     "start_time": "2020-03-06T19:19:01.060765Z"
    },
    "hidden": true
   },
   "outputs": [
    {
     "data": {
      "text/plain": [
       "5.031541064199322"
      ]
     },
     "execution_count": 47,
     "metadata": {},
     "output_type": "execute_result"
    }
   ],
   "source": [
    "np.max(np.log(m_dist_vals['Cells']))"
   ]
  },
  {
   "cell_type": "markdown",
   "metadata": {
    "hidden": true
   },
   "source": [
    "### Simple"
   ]
  },
  {
   "cell_type": "code",
   "execution_count": 30,
   "metadata": {
    "ExecuteTime": {
     "end_time": "2020-03-06T19:00:11.442458Z",
     "start_time": "2020-03-06T19:00:11.420517Z"
    },
    "hidden": true
   },
   "outputs": [],
   "source": [
    "ax = plt.axes(projection = '3d')\n",
    "ax.scatter3D()\n",
    "\n"
   ]
  },
  {
   "cell_type": "markdown",
   "metadata": {
    "heading_collapsed": true
   },
   "source": [
    "## Histogram of pixel values in each channel"
   ]
  },
  {
   "cell_type": "code",
   "execution_count": 25,
   "metadata": {
    "ExecuteTime": {
     "end_time": "2020-03-06T18:48:47.078858Z",
     "start_time": "2020-03-06T18:48:45.453207Z"
    },
    "hidden": true
   },
   "outputs": [],
   "source": [
    "#img_dict = {'Ndnf': im_diff_ndnf, 'Sst': im_diff_sst, 'Vip': im_diff_vip}\n",
    "img_dict = {'Ndnf': im_array_ndnf, 'Sst': im_array_sst, 'Vip': im_array_vip}\n",
    "\n",
    "pixels_dict = {'Cells': all_cell_pixels, 'Lipofuscin': all_lipo_pixels}\n",
    "#pixels_dict = {'Cells': all_cell_pixels}\n",
    "colors_dict = {'Cells': 'b', 'Lipofuscin': 'k'}\n",
    "#title = 'Diff gauss sigma = ({0}, {1})'.format(sigma_small, sigma_large)\n",
    "title = 'Raw images'\n",
    "save_loc = 'G:\\\\Shared drives\\\\as_share\\\\HCR\\\\HCR_10.17\\\\S1_scatter_plots'\n",
    "save_file = '{0} hist lipo + cells.png'.format(title)\n",
    "#save_file = '{0} hist cells.png'.format(title)\n",
    "\n",
    "hist_channels.hist_channels(img_dict, pixels_dict, max_per_group= 100000, colors_dict = colors_dict, \n",
    "                            title = title, save = True, save_loc = save_loc, save_file = save_file)\n",
    "\n",
    "del img_dict\n",
    "del pixels_dict"
   ]
  },
  {
   "cell_type": "markdown",
   "metadata": {},
   "source": [
    "## Signal vs depth"
   ]
  },
  {
   "cell_type": "markdown",
   "metadata": {},
   "source": [
    "### Using p-value for significance"
   ]
  },
  {
   "cell_type": "code",
   "execution_count": 125,
   "metadata": {
    "ExecuteTime": {
     "end_time": "2020-03-09T01:30:08.129146Z",
     "start_time": "2020-03-09T01:30:07.943623Z"
    }
   },
   "outputs": [
    {
     "data": {
      "text/plain": [
       "Text(0.5, 1.0, 'Sst: lipofuscin pixels excluded; Binarized images')"
      ]
     },
     "execution_count": 125,
     "metadata": {},
     "output_type": "execute_result"
    }
   ],
   "source": [
    "# Plot intensity vs depth for all channels\n",
    "fig, ax = plt.subplots(nrows = 3, ncols = 3)\n",
    "    \n",
    "d = depths\n",
    "\n",
    "npos = pv_ndnf < 0.05\n",
    "vpos = pv_vip < 0.05\n",
    "spos = pv_sst < 0.05\n",
    "\n",
    "n = avg_intensity_ndnf\n",
    "v = avg_intensity_vip\n",
    "s = avg_intensity_sst\n",
    "\n",
    "bn = avg_bg_ndnf\n",
    "bv = avg_bg_vip\n",
    "bs = avg_bg_sst\n",
    "\n",
    "ax[0, 0].scatter(d, n - bn, color = 'b', alpha = 0.1, marker = '.')\n",
    "ax[0, 0].scatter(d[npos], n[npos] - bn[npos], color = 'b', marker = '.')\n",
    "#ax[0, 0].set_xlabel('Depth from pia (um)')\n",
    "ax[0, 0].set_ylabel('Intensity in channel (bold => p < 0.05)')\n",
    "ax[0, 0].set_title('Ndnf: all pixels')\n",
    "\n",
    "ax[0, 1].scatter(d, v - bv, color = 'r', alpha = 0.1, marker = '.')\n",
    "ax[0, 1].scatter(d[vpos], v[vpos] - bv[vpos], color = 'r', marker = '.')\n",
    "#ax[0, 1].set_xlabel('Depth from pia (um)')\n",
    "ax[0, 1].set_title('Vip: all pixels')\n",
    "\n",
    "ax[0, 2].scatter(d, s - bs, color = 'g', alpha = 0.1, marker = '.')\n",
    "ax[0, 2].scatter(d[spos], s[spos] - bs[spos], color = 'g', marker = '.')\n",
    "#ax[0, 2].set_xlabel('Depth from pia (um)')\n",
    "ax[0, 2].set_title('Sst: all pixels')\n",
    "\n",
    "n = int_ndnf\n",
    "v = int_vip\n",
    "s = int_sst\n",
    "\n",
    "npos2 = pv_ndnf2 < 0.05\n",
    "vpos2 = pv_vip2 < 0.05\n",
    "spos2 = pv_sst2 < 0.05\n",
    "\n",
    "ax[1, 0].scatter(d, n - bn, color = 'b', alpha = 0.1, marker = '.')\n",
    "ax[1, 0].scatter(d[npos2], n[npos2] - bn[npos2], color = 'b', marker = '.')\n",
    "#ax[1, 0].set_xlabel('Depth from pia (um)')\n",
    "ax[1, 0].set_ylabel('Intensity in channel (bold => p < 0.05)')\n",
    "ax[1, 0].set_title('Ndnf: lipofuscin pixels excluded')\n",
    "\n",
    "ax[1, 1].scatter(d, v - bv, color = 'r', alpha = 0.1, marker = '.')\n",
    "ax[1, 1].scatter(d[vpos2], v[vpos2] - bv[vpos2], color = 'r', marker = '.')\n",
    "#ax[1, 1].set_xlabel('Depth from pia (um)')\n",
    "ax[1, 1].set_title('Vip: lipofuscin pixels excluded')\n",
    "\n",
    "ax[1, 2].scatter(d, s - bs, color = 'g', alpha = 0.1, marker = '.')\n",
    "ax[1, 2].scatter(d[spos2], s[spos2] - bs[spos2], color = 'g', marker = '.')\n",
    "#ax[1, 2].set_xlabel('Depth from pia (um)')\n",
    "ax[1, 2].set_title('Sst: lipofuscin pixels excluded')\n",
    "\n",
    "n = int_ndnf_bin\n",
    "v = int_vip_bin\n",
    "s = int_sst_bin\n",
    "\n",
    "bn = avg_bg_ndnf_bin\n",
    "bv = avg_bg_vip_bin\n",
    "bs = avg_bg_sst_bin\n",
    "\n",
    "npos3 = pv_ndnf3 < 0.05\n",
    "#vpos3 = pv_vip3 < 0.05\n",
    "#spos3 = pv_sst3 < 0.05\n",
    "\n",
    "vpos3 = int_vip_bin - avg_bg_vip_bin > 200\n",
    "spos3 = int_sst_bin - avg_bg_sst_bin > 500\n",
    "\n",
    "\n",
    "ax[2, 0].scatter(d, n - bn, color = 'b', alpha = 0.1, marker = '.')\n",
    "ax[2, 0].scatter(d[npos3], n[npos3] - bn[npos3], color = 'b', marker = '.')\n",
    "ax[2, 0].set_xlabel('Depth from pia (um)')\n",
    "ax[2, 0].set_ylabel('Intensity in channel (bold => p < 0.05)')\n",
    "ax[2, 0].set_title('Ndnf: lipofuscin pixels excluded; Binarized images')\n",
    "\n",
    "ax[2, 1].scatter(d, v - bv, color = 'r', alpha = 0.1, marker = '.')\n",
    "ax[2, 1].scatter(d[vpos3], v[vpos3] - bv[vpos3], color = 'r', marker = '.')\n",
    "ax[2, 1].set_xlabel('Depth from pia (um)')\n",
    "ax[2, 1].set_title('Vip: lipofuscin pixels excluded; Binarized images')\n",
    "\n",
    "ax[2, 2].scatter(d, s - bs, color = 'g', alpha = 0.1, marker = '.')\n",
    "ax[2, 2].scatter(d[spos3], s[spos3] - bs[spos3], color = 'g', marker = '.')\n",
    "ax[2, 2].set_xlabel('Depth from pia (um)')\n",
    "ax[2, 2].set_title('Sst: lipofuscin pixels excluded; Binarized images')\n"
   ]
  },
  {
   "cell_type": "markdown",
   "metadata": {
    "heading_collapsed": true
   },
   "source": [
    "### Using 95% confidence interval for significance"
   ]
  },
  {
   "cell_type": "code",
   "execution_count": 100,
   "metadata": {
    "ExecuteTime": {
     "end_time": "2020-03-06T20:02:19.128895Z",
     "start_time": "2020-03-06T20:02:18.987274Z"
    },
    "hidden": true
   },
   "outputs": [
    {
     "data": {
      "text/plain": [
       "Text(0.5, 1.0, 'Sst: lipofuscin pixels excluded')"
      ]
     },
     "execution_count": 100,
     "metadata": {},
     "output_type": "execute_result"
    }
   ],
   "source": [
    "# Plot intensity vs depth for all channels\n",
    "fig, ax = plt.subplots(nrows = 2, ncols = 3)\n",
    "    \n",
    "d = depths\n",
    "\n",
    "n = avg_intensity_ndnf\n",
    "v = avg_intensity_vip\n",
    "s = avg_intensity_sst\n",
    "\n",
    "bn = avg_bg_ndnf\n",
    "bv = avg_bg_vip\n",
    "bs = avg_bg_sst\n",
    "\n",
    "npos = n - bn > ci_ndnf\n",
    "vpos = v - bv > ci_vip\n",
    "spos = s - bs > ci_sst\n",
    "\n",
    "ax[0, 0].scatter(d, n - bn, color = 'b', alpha = 0.1, marker = '.')\n",
    "ax[0, 0].scatter(d[npos], n[npos] - bn[npos], color = 'b', marker = '.')\n",
    "ax[0, 0].set_xlabel('Depth from pia (um)')\n",
    "ax[0, 0].set_ylabel('Intensity in channel (bold => 95% CI)')\n",
    "ax[0, 0].set_title('Ndnf: all pixels')\n",
    "\n",
    "ax[0, 1].scatter(d, v - bv, color = 'r', alpha = 0.1, marker = '.')\n",
    "ax[0, 1].scatter(d[vpos], v[vpos] - bv[vpos], color = 'r', marker = '.')\n",
    "ax[0, 1].set_xlabel('Depth from pia (um)')\n",
    "ax[0, 1].set_title('Vip: all pixels')\n",
    "\n",
    "ax[0, 2].scatter(d, s - bs, color = 'g', alpha = 0.1, marker = '.')\n",
    "ax[0, 2].scatter(d[spos], s[spos] - bs[spos], color = 'g', marker = '.')\n",
    "ax[0, 2].set_xlabel('Depth from pia (um)')\n",
    "ax[0, 2].set_title('Sst: all pixels')\n",
    "\n",
    "n = int_ndnf\n",
    "v = int_vip\n",
    "s = int_sst\n",
    "\n",
    "npos = n - bn > ci_ndnf\n",
    "vpos = v - bv > ci_vip\n",
    "spos = s - bs > ci_sst\n",
    "\n",
    "ax[1, 0].scatter(d, n - bn, color = 'b', alpha = 0.1, marker = '.')\n",
    "ax[1, 0].scatter(d[npos2], n[npos2] - bn[npos2], color = 'b', marker = '.')\n",
    "ax[1, 0].set_xlabel('Depth from pia (um)')\n",
    "ax[1, 0].set_ylabel('Intensity in channel (bold => 95% CI)')\n",
    "ax[1, 0].set_title('Ndnf: lipofuscin pixels excluded')\n",
    "\n",
    "ax[1, 1].scatter(d, v - bv, color = 'r', alpha = 0.1, marker = '.')\n",
    "ax[1, 1].scatter(d[vpos2], v[vpos2] - bv[vpos2], color = 'r', marker = '.')\n",
    "ax[1, 1].set_xlabel('Depth from pia (um)')\n",
    "ax[1, 1].set_title('Vip: lipofuscin pixels excluded')\n",
    "\n",
    "ax[1, 2].scatter(d, s - bs, color = 'g', alpha = 0.1, marker = '.')\n",
    "ax[1, 2].scatter(d[spos2], s[spos2] - bs[spos2], color = 'g', marker = '.')\n",
    "ax[1, 2].set_xlabel('Depth from pia (um)')\n",
    "ax[1, 2].set_title('Sst: lipofuscin pixels excluded')\n"
   ]
  },
  {
   "cell_type": "code",
   "execution_count": null,
   "metadata": {
    "hidden": true
   },
   "outputs": [],
   "source": []
  }
 ],
 "metadata": {
  "kernelspec": {
   "display_name": "Python 3",
   "language": "python",
   "name": "python3"
  },
  "language_info": {
   "codemirror_mode": {
    "name": "ipython",
    "version": 3
   },
   "file_extension": ".py",
   "mimetype": "text/x-python",
   "name": "python",
   "nbconvert_exporter": "python",
   "pygments_lexer": "ipython3",
   "version": "3.5.6"
  },
  "toc": {
   "nav_menu": {},
   "number_sections": true,
   "sideBar": true,
   "skip_h1_title": false,
   "toc_cell": false,
   "toc_position": {},
   "toc_section_display": true,
   "toc_window_display": false
  },
  "varInspector": {
   "cols": {
    "lenName": 16,
    "lenType": 16,
    "lenVar": 40
   },
   "kernels_config": {
    "python": {
     "delete_cmd_postfix": "",
     "delete_cmd_prefix": "del ",
     "library": "var_list.py",
     "varRefreshCmd": "print(var_dic_list())"
    },
    "r": {
     "delete_cmd_postfix": ") ",
     "delete_cmd_prefix": "rm(",
     "library": "var_list.r",
     "varRefreshCmd": "cat(var_dic_list()) "
    }
   },
   "oldHeight": 731.4,
   "position": {
    "height": "40px",
    "left": "1431px",
    "right": "20px",
    "top": "120px",
    "width": "451px"
   },
   "types_to_exclude": [
    "module",
    "function",
    "builtin_function_or_method",
    "instance",
    "_Feature"
   ],
   "varInspector_section_display": "none",
   "window_display": true
  }
 },
 "nbformat": 4,
 "nbformat_minor": 2
}
