{
 "cells": [
  {
   "cell_type": "markdown",
   "metadata": {
    "heading_collapsed": true
   },
   "source": [
    "# Setup"
   ]
  },
  {
   "cell_type": "code",
   "execution_count": 1,
   "metadata": {
    "ExecuteTime": {
     "end_time": "2020-03-27T14:13:40.393953Z",
     "start_time": "2020-03-27T14:13:39.849953Z"
    },
    "hidden": true
   },
   "outputs": [],
   "source": [
    "from IPython.display import display\n",
    "from PIL import Image, ImageDraw\n",
    "import numpy as np\n",
    "import pickle as pkl\n",
    "import matplotlib.path as mpltpath\n",
    "import matplotlib.pyplot as plt"
   ]
  },
  {
   "cell_type": "markdown",
   "metadata": {},
   "source": [
    "# Load data"
   ]
  },
  {
   "cell_type": "code",
   "execution_count": 2,
   "metadata": {
    "ExecuteTime": {
     "end_time": "2020-03-27T14:13:44.101953Z",
     "start_time": "2020-03-27T14:13:44.098953Z"
    }
   },
   "outputs": [],
   "source": [
    "n_sections = 1\n",
    "signal = {}\n",
    "bg = {}\n",
    "ci = {}\n",
    "depth = {}\n",
    "pv = {}"
   ]
  },
  {
   "cell_type": "code",
   "execution_count": 3,
   "metadata": {
    "ExecuteTime": {
     "end_time": "2020-03-27T14:13:50.505953Z",
     "start_time": "2020-03-27T14:13:50.481953Z"
    }
   },
   "outputs": [],
   "source": [
    "# Signal\n",
    "# with open('G:\\\\Shared drives\\\\as_share\\\\HCR\\\\HCR 3.11\\\\S3\\\\S3_data_npy2r_tac2_car4.pkl', 'rb') as f:\n",
    "#     signal[1] = pkl.load(f)\n",
    "with open('G:\\\\Shared drives\\\\as_share\\\\HCR\\\\HCR 3.12\\\\S3\\\\S3_data_npy2r_tac2_car4.pkl', 'rb') as f:\n",
    "    signal[2] = pkl.load(f)\n",
    "\n"
   ]
  },
  {
   "cell_type": "code",
   "execution_count": 4,
   "metadata": {
    "ExecuteTime": {
     "end_time": "2020-03-27T14:13:55.143953Z",
     "start_time": "2020-03-27T14:13:55.088953Z"
    }
   },
   "outputs": [],
   "source": [
    "# Background\n",
    "# with open('G:\\\\Shared drives\\\\as_share\\\\HCR\\\\HCR 3.11\\\\S3\\\\S3_background_npy2r_tac2_car4.pkl', 'rb') as f:\n",
    "#     bg[1] = pkl.load(f)\n",
    "with open('G:\\\\Shared drives\\\\as_share\\\\HCR\\\\HCR 3.12\\\\S3\\\\S3_background_npy2r_tac2_car4.pkl', 'rb') as f:\n",
    "    bg[2] = pkl.load(f)\n"
   ]
  },
  {
   "cell_type": "code",
   "execution_count": 14,
   "metadata": {
    "ExecuteTime": {
     "end_time": "2020-03-22T17:09:10.991800Z",
     "start_time": "2020-03-22T17:09:10.986814Z"
    }
   },
   "outputs": [],
   "source": [
    "# 95% confidence interval from background\n",
    "# with open('F:/HCR/HCR_10.17/S1_confidence_intervals_npy2r_tac2_car4.pkl', 'rb') as f:\n",
    "#     ci[1] = pkl.load(f)\n",
    "# with open('F:/HCR/HCR_10.17/S2_confidence_intervals_npy2r_tac2_car4.pkl', 'rb') as f:\n",
    "#     ci[2] = pkl.load(f)"
   ]
  },
  {
   "cell_type": "code",
   "execution_count": 9,
   "metadata": {
    "ExecuteTime": {
     "end_time": "2020-03-27T14:18:14.440953Z",
     "start_time": "2020-03-27T14:18:14.433953Z"
    }
   },
   "outputs": [],
   "source": [
    "# P-value from bootstrapping background\n",
    "# Binarized images\n",
    "\n",
    "# with open('G:\\\\Shared drives\\\\as_share\\HCR\\\\HCR 3.11\\\\S3\\\\S3_pvals_lipo_excl_bin.pkl', 'rb') as f:\n",
    "#     pv[1] = pkl.load(f)\n",
    "with open('G:\\\\Shared drives\\\\as_share\\HCR\\\\HCR 3.12\\\\S3\\\\S3_pvals_lipo_excl_bin.pkl', 'rb') as f:\n",
    "    pv[2] = pkl.load(f)"
   ]
  },
  {
   "cell_type": "code",
   "execution_count": 66,
   "metadata": {
    "ExecuteTime": {
     "end_time": "2020-03-27T08:17:37.173953Z",
     "start_time": "2020-03-27T08:17:37.161953Z"
    }
   },
   "outputs": [],
   "source": [
    "# P-value from bootstrapping background\n",
    "# Raw images, lipofuscin excluded\n",
    "\n",
    "with open('G:\\\\Shared drives\\\\as_share\\HCR\\\\HCR 3.11\\\\S3\\\\S3_pvals_lipo_excl.pkl', 'rb') as f:\n",
    "    pv[1] = pkl.load(f)\n",
    "with open('G:\\\\Shared drives\\\\as_share\\HCR\\\\HCR 3.12\\\\S3\\\\S3_pvals_lipo_excl.pkl', 'rb') as f:\n",
    "    pv[2] = pkl.load(f)"
   ]
  },
  {
   "cell_type": "code",
   "execution_count": 16,
   "metadata": {
    "ExecuteTime": {
     "end_time": "2020-03-27T14:19:45.608953Z",
     "start_time": "2020-03-27T14:19:45.601953Z"
    }
   },
   "outputs": [],
   "source": [
    "# Depths\n",
    "# with open('G:\\\\Shared drives\\\\as_share\\HCR\\\\HCR 3.11\\\\S3\\\\S3_depths.pkl', 'rb') as f:\n",
    "#     depth[1] = pkl.load(f)\n",
    "with open('G:\\\\Shared drives\\\\as_share\\HCR\\\\HCR 3.12\\\\S3\\\\S3_depths.pkl', 'rb') as f:\n",
    "    depth[2] = pkl.load(f)\n"
   ]
  },
  {
   "cell_type": "code",
   "execution_count": null,
   "metadata": {},
   "outputs": [],
   "source": [
    "colors = ['r', 'r', 'r']"
   ]
  },
  {
   "cell_type": "code",
   "execution_count": 21,
   "metadata": {
    "ExecuteTime": {
     "end_time": "2020-03-27T14:20:29.940953Z",
     "start_time": "2020-03-27T14:20:29.937953Z"
    }
   },
   "outputs": [],
   "source": [
    "colors = ['r', 'b', 'limegreen', 'k']"
   ]
  },
  {
   "cell_type": "code",
   "execution_count": 18,
   "metadata": {
    "ExecuteTime": {
     "end_time": "2020-03-27T14:19:52.675953Z",
     "start_time": "2020-03-27T14:19:52.673953Z"
    }
   },
   "outputs": [],
   "source": [
    "colors = ['k', 'k', 'k']"
   ]
  },
  {
   "cell_type": "code",
   "execution_count": 50,
   "metadata": {
    "ExecuteTime": {
     "end_time": "2020-03-23T17:23:14.934751Z",
     "start_time": "2020-03-23T17:23:14.917798Z"
    }
   },
   "outputs": [],
   "source": [
    "plt.close('all')"
   ]
  },
  {
   "cell_type": "markdown",
   "metadata": {
    "ExecuteTime": {
     "end_time": "2019-11-26T11:53:23.032698Z",
     "start_time": "2019-11-26T11:53:23.021698Z"
    }
   },
   "source": [
    "# Plot signal vs depth with confidence intervals from background"
   ]
  },
  {
   "cell_type": "markdown",
   "metadata": {},
   "source": [
    "## P value from bootstrapping background"
   ]
  },
  {
   "cell_type": "code",
   "execution_count": 19,
   "metadata": {
    "ExecuteTime": {
     "end_time": "2020-03-27T14:19:55.959953Z",
     "start_time": "2020-03-27T14:19:55.808953Z"
    }
   },
   "outputs": [],
   "source": [
    "%matplotlib qt"
   ]
  },
  {
   "cell_type": "code",
   "execution_count": 22,
   "metadata": {
    "ExecuteTime": {
     "end_time": "2020-03-27T14:20:32.273953Z",
     "start_time": "2020-03-27T14:20:32.160953Z"
    }
   },
   "outputs": [],
   "source": [
    "# Plot intensity vs depth for all channels\n",
    "fig, ax = plt.subplots(nrows = 1, ncols = 3)\n",
    "\n",
    "\n",
    "\n",
    "for section in range(1, 2):\n",
    "    \n",
    "    sig = signal[section + 1]\n",
    "#     n = sig['npy2r_lipo_excl_bin']\n",
    "#     v = sig['car4_lipo_excl_bin']\n",
    "#     s = sig['tac2_lipo_excl_bin']\n",
    "\n",
    "    n = sig['npy2r_lipo_excl']\n",
    "    v = sig['car4_lipo_excl']\n",
    "    s = sig['tac2_lipo_excl']\n",
    "    \n",
    "    b = bg[section + 1]\n",
    "    bn = b['npy2r_bin']\n",
    "    bv = b['car4_bin']\n",
    "    bs = b['tac2_bin']\n",
    "\n",
    "#     bn = b['npy2r']\n",
    "#     bs = b['tac2']\n",
    "#     bv = b['car4']\n",
    "    \n",
    "    p = pv[section + 1]\n",
    "    pv_npy2r = p['npy2r']\n",
    "    pv_car4 = p['car4']\n",
    "    pv_tac2 = p['tac2']\n",
    "    \n",
    "    d = depth[section + 1]\n",
    "    \n",
    "    npos = pv_npy2r < 0.05\n",
    "    vpos = pv_car4 < 0.05\n",
    "    spos = pv_tac2 < 0.05\n",
    "\n",
    "#     npos = n - bn > 150\n",
    "#     vpos = v - bv > 400\n",
    "#     spos = s - bs > 100\n",
    "\n",
    "\n",
    "######### npy2r\n",
    "\n",
    "    ax[0].scatter(d, n - bn, color = 'k', \n",
    "#                   alpha = 0.1, \n",
    "                  marker = 'o')\n",
    "    ax[0].scatter(d[npos], n[npos] - bn[npos], color = colors[0], marker = 'o')\n",
    "\n",
    "    \n",
    "    \n",
    "    ax[0].set_xlabel('Depth from pia (um)', fontsize = 25)\n",
    "#     ax[0].set_ylabel('Intensity in npy2r channel (bold => p < 0.05)')\n",
    "\n",
    "    ax[0].set_ylabel('Signal in cell - background in raw images', fontsize = 25)\n",
    "#     ax[0].set_yscale('log')\n",
    "#     ax[0].set_ylim([np.min(n[n - bn > 0] - bn[n - bn > 0]), np.max(n - bn)])\n",
    "    ax[0].xaxis.set_tick_params(which = 'both', labelsize = 20)\n",
    "    ax[0].yaxis.set_tick_params(which = 'both', labelsize = 20)\n",
    "\n",
    "    \n",
    "########### car4\n",
    "\n",
    "\n",
    "    ax[1].scatter(d, v - bv, color = 'k', \n",
    "#                   alpha = 0.1, \n",
    "                  marker = 'o')\n",
    "    ax[1].scatter(d[vpos], v[vpos] - bv[vpos], color = colors[1], marker = 'o')\n",
    "\n",
    "\n",
    "    ax[1].set_xlabel('Depth from pia (um)', fontsize = 25)\n",
    "#     ax[1].set_ylabel('Intensity in car4 channel (bold => p < 0.05)')\n",
    "#     ax[1].set_yscale('log')\n",
    "#     ax[1].set_ylim([np.min(v[v - bv > 0] - bv[v - bv > 0]), np.max(v - bv)])\n",
    "    ax[1].xaxis.set_tick_params(which = 'both', labelsize = 20)\n",
    "    ax[1].yaxis.set_tick_params(which = 'both', labelsize = 20)\n",
    "\n",
    "\n",
    "# tac2\n",
    "\n",
    "\n",
    "    ax[2].scatter(d, s - bs, color = 'k', \n",
    "#                   alpha = 0.02, \n",
    "                  marker = 'o')\n",
    "    ax[2].scatter(d[spos], s[spos] - bs[spos], color = colors[2], marker = 'o')\n",
    "\n",
    "    \n",
    "    ax[2].set_xlabel('Depth from pia (um)', fontsize = 25)\n",
    "#     ax[2].set_ylabel('Intensity in tac2 channel (bold => p < 0.05)')\n",
    "#     ax[2].set_yscale('log')\n",
    "#     ax[2].set_ylim([np.min(s[s - bs > 0] - bs[s - bs > 0]), np.max(s - bs)])\n",
    "    ax[2].xaxis.set_tick_params(which = 'both', labelsize = 20)\n",
    "    ax[2].yaxis.set_tick_params(which = 'both', labelsize = 20)\n"
   ]
  },
  {
   "cell_type": "code",
   "execution_count": 12,
   "metadata": {
    "ExecuteTime": {
     "end_time": "2020-03-27T14:18:46.244953Z",
     "start_time": "2020-03-27T14:18:46.241953Z"
    }
   },
   "outputs": [
    {
     "data": {
      "text/plain": [
       "101"
      ]
     },
     "execution_count": 12,
     "metadata": {},
     "output_type": "execute_result"
    }
   ],
   "source": [
    "len(d)"
   ]
  },
  {
   "cell_type": "code",
   "execution_count": 13,
   "metadata": {
    "ExecuteTime": {
     "end_time": "2020-03-27T14:18:48.885953Z",
     "start_time": "2020-03-27T14:18:48.881953Z"
    }
   },
   "outputs": [
    {
     "data": {
      "text/plain": [
       "100"
      ]
     },
     "execution_count": 13,
     "metadata": {},
     "output_type": "execute_result"
    }
   ],
   "source": [
    "len(n)"
   ]
  },
  {
   "cell_type": "code",
   "execution_count": 61,
   "metadata": {
    "ExecuteTime": {
     "end_time": "2020-03-27T08:14:41.716953Z",
     "start_time": "2020-03-27T08:14:41.700953Z"
    },
    "run_control": {
     "marked": true
    }
   },
   "outputs": [],
   "source": [
    "plt.close('all')"
   ]
  },
  {
   "cell_type": "markdown",
   "metadata": {},
   "source": [
    "# Classify cells"
   ]
  },
  {
   "cell_type": "code",
   "execution_count": 23,
   "metadata": {
    "ExecuteTime": {
     "end_time": "2020-03-27T14:22:33.140953Z",
     "start_time": "2020-03-27T14:22:33.137953Z"
    }
   },
   "outputs": [],
   "source": [
    "def moving_average(a, n=3) :\n",
    "    ret = np.cumsum(a, dtype=float)\n",
    "    ret[n:] = ret[n:] - ret[:-n]\n",
    "    return ret / n"
   ]
  },
  {
   "cell_type": "code",
   "execution_count": 25,
   "metadata": {
    "ExecuteTime": {
     "end_time": "2020-03-27T14:22:43.775953Z",
     "start_time": "2020-03-27T14:22:43.699953Z"
    },
    "run_control": {
     "marked": true
    }
   },
   "outputs": [],
   "source": [
    "fig, ax = plt.subplots(nrows = 1, ncols = 2)\n",
    "\n",
    "for section in range(1, 2):\n",
    "    \n",
    "    sig = signal[section + 1]\n",
    "    n = sig['npy2r_lipo_excl']\n",
    "    v = sig['car4_lipo_excl']\n",
    "    s = sig['tac2_lipo_excl']\n",
    "    \n",
    "    b = bg[section + 1]\n",
    "    n1 = b['npy2r']\n",
    "    v1 = b['car4']\n",
    "    s1 = b['tac2']\n",
    "    \n",
    "    d = depth[section + 1]\n",
    "        \n",
    "    #npos = n > np.mean(n1) + 2*np.std(n1)\n",
    "#     npos = n > 1000\n",
    "#     vpos = v > np.mean(v1) + 2*np.std(v1)\n",
    "#     spos = s > np.mean(s1) + 2*np.std(s1)\n",
    "\n",
    "    p = pv[section + 1]\n",
    "    pv_npy2r = p['npy2r']\n",
    "    pv_car4 = p['car4']\n",
    "    pv_tac2 = p['tac2']\n",
    "    \n",
    "    d = depth[section + 1]\n",
    "    \n",
    "    npos = pv_npy2r < 0.05\n",
    "    vpos = pv_car4 < 0.05\n",
    "    spos = pv_tac2 < 0.05\n",
    "    \n",
    "#     row = int(section/2)\n",
    "    row = np.mod(section, 2)\n",
    "    col = np.mod(section, 2)\n",
    "    \n",
    "    order = np.argsort(d)\n",
    "    \n",
    "    ax[row].plot(d[order], moving_average(npos[order], n = 20)*10, color = 'gold', label = 'npy2r')\n",
    "    ax[row].plot(d[order], moving_average(vpos[order], n = 20)*10, color = 'g', label = 'car4')\n",
    "    ax[row].plot(d[order], moving_average(spos[order], n = 20)*10, color = 'r', label = 'tac2')\n",
    "    \n",
    "    plt.legend()\n",
    "    \n",
    "    #ax[row].set_title('Section {0}'.format(section + 1))\n",
    "    if row == 1:\n",
    "        ax[row].set_xlabel('Depth from pia (um)')\n",
    "    \n",
    "    if col == 0:\n",
    "        ax[row].set_ylabel('# of cells positive for gene')"
   ]
  },
  {
   "cell_type": "code",
   "execution_count": 26,
   "metadata": {
    "ExecuteTime": {
     "end_time": "2020-03-27T14:24:11.236953Z",
     "start_time": "2020-03-27T14:24:11.232953Z"
    }
   },
   "outputs": [
    {
     "name": "stdout",
     "output_type": "stream",
     "text": [
      "Number of npy2r+ cells: 24\n",
      "Number of car4+ cells: 26\n",
      "Number of tac2+ cells: 13\n",
      "\n",
      "Number of npy2r+ car4+ cells: 13\n",
      "Number of npy2r+ tac2+ cells: 7\n",
      "Number of tac2+ car4+ cells: 5\n"
     ]
    }
   ],
   "source": [
    "print('Number of npy2r+ cells: {0}'.format(np.sum(npos)))\n",
    "print('Number of car4+ cells: {0}'.format(np.sum(vpos)))\n",
    "print('Number of tac2+ cells: {0}'.format(np.sum(spos)))\n",
    "\n",
    "print('')\n",
    "print('Number of npy2r+ car4+ cells: {0}'.format(np.sum(np.logical_and(npos, vpos))))\n",
    "print('Number of npy2r+ tac2+ cells: {0}'.format(np.sum(np.logical_and(npos, spos))))\n",
    "print('Number of tac2+ car4+ cells: {0}'.format(np.sum(np.logical_and(spos, vpos))))"
   ]
  },
  {
   "cell_type": "code",
   "execution_count": 87,
   "metadata": {
    "ExecuteTime": {
     "end_time": "2020-03-27T14:02:45.398953Z",
     "start_time": "2020-03-27T14:02:45.395953Z"
    }
   },
   "outputs": [],
   "source": [
    "section = 0\n",
    "p = pv[section + 1]\n",
    "pv_npy2r = p['npy2r']\n",
    "pv_car4 = p['car4']\n",
    "pv_tac2 = p['tac2']\n",
    "\n",
    "d = depth[section + 1]\n",
    "\n",
    "npos = pv_npy2r < 0.05\n",
    "vpos = pv_car4 < 0.05\n",
    "spos = pv_tac2 < 0.05"
   ]
  },
  {
   "cell_type": "code",
   "execution_count": 88,
   "metadata": {
    "ExecuteTime": {
     "end_time": "2020-03-27T14:02:52.583953Z",
     "start_time": "2020-03-27T14:02:52.578953Z"
    }
   },
   "outputs": [
    {
     "name": "stdout",
     "output_type": "stream",
     "text": [
      "Number of Ndnf+ cells: 73\n",
      "Number of Vip+ cells: 60\n",
      "Number of Sst+ cells: 33\n",
      "\n",
      "Number of Ndnf+ Vip+ cells: 21\n",
      "Number of Ndnf+ Sst+ cells: 9\n",
      "Number of Sst+ Vip+ cells: 14\n"
     ]
    }
   ],
   "source": [
    "print('Number of npy2r+ cells: {0}'.format(np.sum(npos)))\n",
    "print('Number of car4+ cells: {0}'.format(np.sum(vpos)))\n",
    "print('Number of tac2+ cells: {0}'.format(np.sum(spos)))\n",
    "\n",
    "print('')\n",
    "print('Number of npy2r+ car4+ cells: {0}'.format(np.sum(np.logical_and(npos, vpos))))\n",
    "print('Number of npy2r+ tac2+ cells: {0}'.format(np.sum(np.logical_and(npos, spos))))\n",
    "print('Number of tac2+ car4+ cells: {0}'.format(np.sum(np.logical_and(spos, vpos))))"
   ]
  },
  {
   "cell_type": "code",
   "execution_count": 76,
   "metadata": {
    "ExecuteTime": {
     "end_time": "2020-03-27T13:57:06.424953Z",
     "start_time": "2020-03-27T13:57:06.404953Z"
    }
   },
   "outputs": [
    {
     "data": {
      "text/plain": [
       "array([ True,  True,  True,  True,  True,  True,  True, False, False,\n",
       "       False, False, False, False,  True,  True,  True,  True, False,\n",
       "        True,  True, False, False, False, False, False,  True, False,\n",
       "        True, False,  True, False, False,  True, False, False, False,\n",
       "       False, False, False,  True,  True, False,  True, False, False,\n",
       "       False, False, False, False, False, False, False, False, False,\n",
       "       False, False,  True, False, False, False,  True, False, False,\n",
       "       False, False, False,  True,  True,  True, False, False,  True,\n",
       "        True,  True, False, False, False, False, False, False, False,\n",
       "       False, False, False, False, False, False, False, False, False,\n",
       "       False, False, False, False, False,  True, False,  True, False,\n",
       "       False, False, False, False, False, False, False, False, False,\n",
       "        True,  True, False, False, False, False, False, False, False,\n",
       "       False, False, False, False, False, False, False, False,  True,\n",
       "       False, False, False, False, False, False, False, False, False,\n",
       "       False,  True,  True,  True,  True,  True, False, False, False,\n",
       "       False,  True,  True, False, False, False, False,  True, False,\n",
       "       False,  True, False, False, False, False, False,  True, False,\n",
       "        True, False, False,  True,  True,  True, False, False, False,\n",
       "       False, False,  True,  True,  True,  True, False, False,  True,\n",
       "        True, False, False, False,  True,  True, False,  True, False,\n",
       "       False, False, False, False, False, False, False, False,  True,\n",
       "       False, False, False, False, False, False, False, False, False,\n",
       "       False, False, False,  True, False, False, False,  True, False,\n",
       "        True, False, False,  True, False, False, False, False, False,\n",
       "        True, False,  True, False, False, False,  True, False, False,\n",
       "       False, False, False,  True, False, False, False, False, False,\n",
       "       False, False,  True, False, False,  True, False, False, False,\n",
       "       False, False, False, False, False, False, False, False, False,\n",
       "        True, False, False, False, False, False,  True, False, False,\n",
       "       False, False, False,  True,  True,  True,  True,  True, False,\n",
       "        True, False, False, False, False, False, False,  True, False,\n",
       "       False,  True, False,  True, False, False, False,  True, False,\n",
       "       False, False, False, False, False, False, False,  True,  True,\n",
       "       False, False, False, False, False, False, False, False, False,\n",
       "       False, False, False, False, False, False, False, False], dtype=bool)"
      ]
     },
     "execution_count": 76,
     "metadata": {},
     "output_type": "execute_result"
    }
   ],
   "source": [
    "npos"
   ]
  },
  {
   "cell_type": "code",
   "execution_count": null,
   "metadata": {},
   "outputs": [],
   "source": []
  }
 ],
 "metadata": {
  "kernelspec": {
   "display_name": "Python 3",
   "language": "python",
   "name": "python3"
  },
  "language_info": {
   "codemirror_mode": {
    "name": "ipython",
    "version": 3
   },
   "file_extension": ".py",
   "mimetype": "text/x-python",
   "name": "python",
   "nbconvert_exporter": "python",
   "pygments_lexer": "ipython3",
   "version": "3.5.6"
  },
  "toc": {
   "nav_menu": {},
   "number_sections": true,
   "sideBar": true,
   "skip_h1_title": false,
   "toc_cell": false,
   "toc_position": {
    "height": "690px",
    "left": "0px",
    "right": "1020.33px",
    "top": "110px",
    "width": "171px"
   },
   "toc_section_display": "block",
   "toc_window_display": true
  },
  "varInspector": {
   "cols": {
    "lenName": 16,
    "lenType": 16,
    "lenVar": 40
   },
   "kernels_config": {
    "python": {
     "delete_cmd_postfix": "",
     "delete_cmd_prefix": "del ",
     "library": "var_list.py",
     "varRefreshCmd": "print(var_dic_list())"
    },
    "r": {
     "delete_cmd_postfix": ") ",
     "delete_cmd_prefix": "rm(",
     "library": "var_list.r",
     "varRefreshCmd": "cat(var_dic_list()) "
    }
   },
   "oldHeight": 580.656,
   "position": {
    "height": "40px",
    "left": "1592px",
    "right": "20px",
    "top": "200px",
    "width": "622.656px"
   },
   "types_to_exclude": [
    "module",
    "function",
    "builtin_function_or_method",
    "instance",
    "_Feature"
   ],
   "varInspector_section_display": "none",
   "window_display": true
  }
 },
 "nbformat": 4,
 "nbformat_minor": 2
}
