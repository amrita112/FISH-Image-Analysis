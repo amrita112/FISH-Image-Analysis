{
 "cells": [
  {
   "cell_type": "markdown",
   "metadata": {
    "heading_collapsed": true
   },
   "source": [
    "# Setup"
   ]
  },
  {
   "cell_type": "code",
   "execution_count": 1,
   "metadata": {
    "ExecuteTime": {
     "end_time": "2020-03-27T05:36:24.800953Z",
     "start_time": "2020-03-27T05:36:24.202953Z"
    },
    "hidden": true
   },
   "outputs": [],
   "source": [
    "from IPython.display import display\n",
    "from PIL import Image, ImageDraw\n",
    "import numpy as np\n",
    "import pickle as pkl\n",
    "import matplotlib.path as mpltpath\n",
    "import matplotlib.pyplot as plt"
   ]
  },
  {
   "cell_type": "markdown",
   "metadata": {},
   "source": [
    "# Load data"
   ]
  },
  {
   "cell_type": "code",
   "execution_count": 2,
   "metadata": {
    "ExecuteTime": {
     "end_time": "2020-03-27T05:36:37.141953Z",
     "start_time": "2020-03-27T05:36:37.138953Z"
    }
   },
   "outputs": [],
   "source": [
    "n_sections = 2\n",
    "signal = {}\n",
    "bg = {}\n",
    "ci = {}\n",
    "depth = {}\n",
    "pv = {}"
   ]
  },
  {
   "cell_type": "code",
   "execution_count": 3,
   "metadata": {
    "ExecuteTime": {
     "end_time": "2020-03-27T05:37:13.467953Z",
     "start_time": "2020-03-27T05:37:13.441953Z"
    }
   },
   "outputs": [],
   "source": [
    "# Signal\n",
    "with open('G:\\\\Shared drives\\\\as_share\\\\HCR\\\\HCR 3.11\\\\S5\\\\S5_data_ndnf_sst_vip.pkl', 'rb') as f:\n",
    "    signal[1] = pkl.load(f)\n",
    "with open('G:\\\\Shared drives\\\\as_share\\\\HCR\\\\HCR 3.12\\\\S5\\\\S5_data_ndnf_sst_vip.pkl', 'rb') as f:\n",
    "    signal[2] = pkl.load(f)\n",
    "\n"
   ]
  },
  {
   "cell_type": "code",
   "execution_count": 4,
   "metadata": {
    "ExecuteTime": {
     "end_time": "2020-03-27T05:37:30.393953Z",
     "start_time": "2020-03-27T05:37:30.369953Z"
    }
   },
   "outputs": [],
   "source": [
    "# Background\n",
    "with open('G:\\\\Shared drives\\\\as_share\\\\HCR\\\\HCR 3.11\\\\S5\\\\S5_background_ndnf_sst_vip.pkl', 'rb') as f:\n",
    "    bg[1] = pkl.load(f)\n",
    "with open('G:\\\\Shared drives\\\\as_share\\\\HCR\\\\HCR 3.12\\\\S5\\\\S5_background_ndnf_sst_vip.pkl', 'rb') as f:\n",
    "    bg[2] = pkl.load(f)\n"
   ]
  },
  {
   "cell_type": "code",
   "execution_count": 14,
   "metadata": {
    "ExecuteTime": {
     "end_time": "2020-03-22T17:09:10.991800Z",
     "start_time": "2020-03-22T17:09:10.986814Z"
    }
   },
   "outputs": [],
   "source": [
    "# 95% confidence interval from background\n",
    "# with open('F:/HCR/HCR_10.17/S1_confidence_intervals_ndnf_sst_vip.pkl', 'rb') as f:\n",
    "#     ci[1] = pkl.load(f)\n",
    "# with open('F:/HCR/HCR_10.17/S2_confidence_intervals_ndnf_sst_vip.pkl', 'rb') as f:\n",
    "#     ci[2] = pkl.load(f)"
   ]
  },
  {
   "cell_type": "code",
   "execution_count": 73,
   "metadata": {
    "ExecuteTime": {
     "end_time": "2020-03-27T13:43:20.061953Z",
     "start_time": "2020-03-27T13:43:19.986953Z"
    }
   },
   "outputs": [],
   "source": [
    "# P-value from bootstrapping background\n",
    "# Binarized images\n",
    "\n",
    "with open('G:\\\\Shared drives\\\\as_share\\HCR\\\\HCR 3.11\\\\S5\\\\S5_pvals_lipo_excl_bin.pkl', 'rb') as f:\n",
    "    pv[1] = pkl.load(f)\n",
    "with open('G:\\\\Shared drives\\\\as_share\\HCR\\\\HCR 3.12\\\\S5\\\\S5_pvals_lipo_excl_bin.pkl', 'rb') as f:\n",
    "    pv[2] = pkl.load(f)"
   ]
  },
  {
   "cell_type": "code",
   "execution_count": 66,
   "metadata": {
    "ExecuteTime": {
     "end_time": "2020-03-27T08:17:37.173953Z",
     "start_time": "2020-03-27T08:17:37.161953Z"
    }
   },
   "outputs": [],
   "source": [
    "# P-value from bootstrapping background\n",
    "# Raw images, lipofuscin excluded\n",
    "\n",
    "with open('G:\\\\Shared drives\\\\as_share\\HCR\\\\HCR 3.11\\\\S5\\\\S5_pvals_lipo_excl.pkl', 'rb') as f:\n",
    "    pv[1] = pkl.load(f)\n",
    "with open('G:\\\\Shared drives\\\\as_share\\HCR\\\\HCR 3.12\\\\S5\\\\S5_pvals_lipo_excl.pkl', 'rb') as f:\n",
    "    pv[2] = pkl.load(f)"
   ]
  },
  {
   "cell_type": "code",
   "execution_count": 55,
   "metadata": {
    "ExecuteTime": {
     "end_time": "2020-03-27T08:01:59.210953Z",
     "start_time": "2020-03-27T08:01:59.186953Z"
    }
   },
   "outputs": [],
   "source": [
    "# Depths\n",
    "with open('G:\\\\Shared drives\\\\as_share\\HCR\\\\HCR 3.11\\\\S5\\\\S5_depths.pkl', 'rb') as f:\n",
    "    depth[1] = pkl.load(f)\n",
    "with open('G:\\\\Shared drives\\\\as_share\\HCR\\\\HCR 3.12\\\\S5\\\\S5_depths.pkl', 'rb') as f:\n",
    "    depth[2] = pkl.load(f)\n"
   ]
  },
  {
   "cell_type": "code",
   "execution_count": null,
   "metadata": {},
   "outputs": [],
   "source": [
    "colors = ['r', 'r', 'r']"
   ]
  },
  {
   "cell_type": "code",
   "execution_count": 64,
   "metadata": {
    "ExecuteTime": {
     "end_time": "2020-03-27T08:16:47.092953Z",
     "start_time": "2020-03-27T08:16:47.089953Z"
    }
   },
   "outputs": [],
   "source": [
    "colors = ['r', 'b', 'limegreen', 'k']"
   ]
  },
  {
   "cell_type": "code",
   "execution_count": 53,
   "metadata": {
    "ExecuteTime": {
     "end_time": "2020-03-27T07:59:46.710953Z",
     "start_time": "2020-03-27T07:59:46.707953Z"
    }
   },
   "outputs": [],
   "source": [
    "colors = ['k', 'k', 'k']"
   ]
  },
  {
   "cell_type": "code",
   "execution_count": 50,
   "metadata": {
    "ExecuteTime": {
     "end_time": "2020-03-23T17:23:14.934751Z",
     "start_time": "2020-03-23T17:23:14.917798Z"
    }
   },
   "outputs": [],
   "source": [
    "plt.close('all')"
   ]
  },
  {
   "cell_type": "markdown",
   "metadata": {
    "heading_collapsed": true
   },
   "source": [
    "# Plot signal intensity vs depth"
   ]
  },
  {
   "cell_type": "code",
   "execution_count": 54,
   "metadata": {
    "ExecuteTime": {
     "end_time": "2019-11-26T12:36:28.729698Z",
     "start_time": "2019-11-26T12:36:28.685698Z"
    },
    "hidden": true
   },
   "outputs": [],
   "source": [
    "%matplotlib qt"
   ]
  },
  {
   "cell_type": "code",
   "execution_count": 19,
   "metadata": {
    "ExecuteTime": {
     "end_time": "2020-03-22T17:09:47.462257Z",
     "start_time": "2020-03-22T17:09:47.164055Z"
    },
    "hidden": true,
    "run_control": {
     "marked": true
    }
   },
   "outputs": [
    {
     "data": {
      "image/png": "[encoded data removed]",
      "text/plain": [
       "<Figure size 432x288 with 3 Axes>"
      ]
     },
     "metadata": {
      "needs_background": "light"
     },
     "output_type": "display_data"
    }
   ],
   "source": [
    "# Plot intensity vs depth for all channels\n",
    "fig, ax = plt.subplots(nrows = 1, ncols = 3)\n",
    "\n",
    "\n",
    "for section in range(n_sections):\n",
    "    \n",
    "    sig = signal[section + 1]\n",
    "    n = sig['Ndnf']\n",
    "    v = sig['Vip']\n",
    "    s = sig['Sst']\n",
    "    \n",
    "    d = depth[section + 1]\n",
    "    \n",
    "    ax[0].scatter(d, n, color = colors[1], alpha = 0.5, marker = '.')\n",
    "    ax[0].set_xlabel('Depth from pia (um)')\n",
    "    ax[0].set_ylabel('Intensity in Ndnf channel')\n",
    "    #ax[0].set_title('Max intensity = {0}'.format(int(np.max(n))))\n",
    "\n",
    "    ax[1].scatter(d, v, color = colors[2], alpha = 0.5, marker = '.')\n",
    "    ax[1].set_xlabel('Depth from pia (um)')\n",
    "    ax[1].set_ylabel('Intensity in Vip channel')\n",
    "    #ax[1].set_title('Max intensity = {0}'.format(int(np.max(avg_intensity_vip))))\n",
    "\n",
    "    ax[2].scatter(d, s, color = colors[3], alpha = 0.5, marker = '.')\n",
    "    ax[2].set_xlabel('Depth from pia (um)')\n",
    "    ax[2].set_ylabel('Intensity in Sst channel')\n",
    "    #ax[2].set_title('Max intensity = {0}'.format(int(np.max(avg_intensity_sst))))"
   ]
  },
  {
   "cell_type": "markdown",
   "metadata": {
    "ExecuteTime": {
     "end_time": "2019-11-26T11:53:23.032698Z",
     "start_time": "2019-11-26T11:53:23.021698Z"
    }
   },
   "source": [
    "# Plot signal vs depth with confidence intervals from background"
   ]
  },
  {
   "cell_type": "markdown",
   "metadata": {
    "heading_collapsed": true
   },
   "source": [
    "## Confidence interval from bootstrapping background (95th percentile)"
   ]
  },
  {
   "cell_type": "code",
   "execution_count": 207,
   "metadata": {
    "ExecuteTime": {
     "end_time": "2019-12-03T21:24:35.748698Z",
     "start_time": "2019-12-03T21:24:35.637698Z"
    },
    "hidden": true
   },
   "outputs": [],
   "source": [
    "# Plot intensity vs depth for all channels\n",
    "fig, ax = plt.subplots(nrows = 1, ncols = 3)\n",
    "\n",
    "\n",
    "for section in range(2):\n",
    "    \n",
    "    sig = signal[section + 1]\n",
    "    n = sig['Ndnf']\n",
    "    v = sig['Vip']\n",
    "    s = sig['Sst']\n",
    "    \n",
    "    b = bg[section + 1]\n",
    "    bn = b['Ndnf']\n",
    "    bv = b['Vip']\n",
    "    bs = b['Sst']\n",
    "    \n",
    "    c = ci[section + 1]\n",
    "    cn = c['Ndnf']\n",
    "    cv = c['Vip']\n",
    "    cs = c['Sst']\n",
    "    \n",
    "    d = depth[section + 1]\n",
    "    \n",
    "    npos = n - bn > cn\n",
    "    vpos = v - bv > cv\n",
    "    spos = s - bs > cs\n",
    "    \n",
    "    ax[0].scatter(d, n, color = colors[section], alpha = 0.3, marker = 'o')\n",
    "    ax[0].scatter(d[npos], n[npos], color = 'k', marker = '.')\n",
    "    ax[0].set_xlabel('Depth from pia (um)')\n",
    "    ax[0].set_ylabel('Intensity in Ndnf channel (black => p < 0.05)')\n",
    "\n",
    "    ax[1].scatter(d, v, color = colors[section], alpha = 0.3, marker = 'o')\n",
    "    ax[1].scatter(d[vpos], v[vpos], color = 'k', marker = '.')\n",
    "    ax[1].set_xlabel('Depth from pia (um)')\n",
    "    ax[1].set_ylabel('Intensity in Vip channel (black => p < 0.05)')\n",
    "\n",
    "    ax[2].scatter(d, s, color = colors[section], alpha = 0.3, marker = 'o')\n",
    "    ax[2].scatter(d[spos], s[spos], color = 'k', marker = '.')\n",
    "    ax[2].set_xlabel('Depth from pia (um)')\n",
    "    ax[2].set_ylabel('Intensity in Sst channel (black => p < 0.05)')"
   ]
  },
  {
   "cell_type": "markdown",
   "metadata": {},
   "source": [
    "## P value from bootstrapping background"
   ]
  },
  {
   "cell_type": "code",
   "execution_count": 15,
   "metadata": {
    "ExecuteTime": {
     "end_time": "2020-03-27T05:42:53.325953Z",
     "start_time": "2020-03-27T05:42:53.073953Z"
    }
   },
   "outputs": [],
   "source": [
    "%matplotlib qt"
   ]
  },
  {
   "cell_type": "code",
   "execution_count": 74,
   "metadata": {
    "ExecuteTime": {
     "end_time": "2020-03-27T13:43:23.641953Z",
     "start_time": "2020-03-27T13:43:23.505953Z"
    }
   },
   "outputs": [],
   "source": [
    "# Plot intensity vs depth for all channels\n",
    "fig, ax = plt.subplots(nrows = 1, ncols = 3)\n",
    "\n",
    "\n",
    "\n",
    "for section in range(2):\n",
    "    \n",
    "    sig = signal[section + 1]\n",
    "#     n = sig['Ndnf_lipo_excl_bin']\n",
    "#     v = sig['Vip_lipo_excl_bin']\n",
    "#     s = sig['Sst_lipo_excl_bin']\n",
    "\n",
    "    n = sig['Ndnf_lipo_excl']\n",
    "    v = sig['Vip_lipo_excl']\n",
    "    s = sig['Sst_lipo_excl']\n",
    "    \n",
    "    b = bg[section + 1]\n",
    "    bn = b['Ndnf_bin']\n",
    "    bv = b['Vip_bin']\n",
    "    bs = b['Sst_bin']\n",
    "\n",
    "#     bn = b['Ndnf']\n",
    "#     bs = b['Sst']\n",
    "#     bv = b['Vip']\n",
    "    \n",
    "    p = pv[section + 1]\n",
    "    pv_ndnf = p['Ndnf']\n",
    "    pv_vip = p['Vip']\n",
    "    pv_sst = p['Sst']\n",
    "    \n",
    "    d = depth[section + 1]\n",
    "    \n",
    "    npos = pv_ndnf < 0.05\n",
    "    vpos = pv_vip < 0.05\n",
    "    spos = pv_sst < 0.05\n",
    "\n",
    "#     npos = n - bn > 150\n",
    "#     vpos = v - bv > 400\n",
    "#     spos = s - bs > 100\n",
    "\n",
    "\n",
    "######### Ndnf\n",
    "\n",
    "    ax[0].scatter(d, n - bn, color = 'k', \n",
    "#                   alpha = 0.1, \n",
    "                  marker = 'o')\n",
    "    ax[0].scatter(d[npos], n[npos] - bn[npos], color = colors[0], marker = 'o')\n",
    "\n",
    "    \n",
    "    \n",
    "    ax[0].set_xlabel('Depth from pia (um)', fontsize = 25)\n",
    "#     ax[0].set_ylabel('Intensity in Ndnf channel (bold => p < 0.05)')\n",
    "\n",
    "    ax[0].set_ylabel('Signal in cell - background in raw images', fontsize = 25)\n",
    "#     ax[0].set_yscale('log')\n",
    "#     ax[0].set_ylim([np.min(n[n - bn > 0] - bn[n - bn > 0]), np.max(n - bn)])\n",
    "    ax[0].xaxis.set_tick_params(which = 'both', labelsize = 20)\n",
    "    ax[0].yaxis.set_tick_params(which = 'both', labelsize = 20)\n",
    "\n",
    "    \n",
    "########### Vip\n",
    "\n",
    "\n",
    "    ax[1].scatter(d, v - bv, color = 'k', \n",
    "#                   alpha = 0.1, \n",
    "                  marker = 'o')\n",
    "    ax[1].scatter(d[vpos], v[vpos] - bv[vpos], color = colors[1], marker = 'o')\n",
    "\n",
    "\n",
    "    ax[1].set_xlabel('Depth from pia (um)', fontsize = 25)\n",
    "#     ax[1].set_ylabel('Intensity in Vip channel (bold => p < 0.05)')\n",
    "#     ax[1].set_yscale('log')\n",
    "#     ax[1].set_ylim([np.min(v[v - bv > 0] - bv[v - bv > 0]), np.max(v - bv)])\n",
    "    ax[1].xaxis.set_tick_params(which = 'both', labelsize = 20)\n",
    "    ax[1].yaxis.set_tick_params(which = 'both', labelsize = 20)\n",
    "\n",
    "\n",
    "# Sst\n",
    "\n",
    "\n",
    "    ax[2].scatter(d, s - bs, color = 'k', \n",
    "#                   alpha = 0.02, \n",
    "                  marker = 'o')\n",
    "    ax[2].scatter(d[spos], s[spos] - bs[spos], color = colors[2], marker = 'o')\n",
    "\n",
    "    \n",
    "    ax[2].set_xlabel('Depth from pia (um)', fontsize = 25)\n",
    "#     ax[2].set_ylabel('Intensity in Sst channel (bold => p < 0.05)')\n",
    "#     ax[2].set_yscale('log')\n",
    "#     ax[2].set_ylim([np.min(s[s - bs > 0] - bs[s - bs > 0]), np.max(s - bs)])\n",
    "    ax[2].xaxis.set_tick_params(which = 'both', labelsize = 20)\n",
    "    ax[2].yaxis.set_tick_params(which = 'both', labelsize = 20)\n"
   ]
  },
  {
   "cell_type": "code",
   "execution_count": 61,
   "metadata": {
    "ExecuteTime": {
     "end_time": "2020-03-27T08:14:41.716953Z",
     "start_time": "2020-03-27T08:14:41.700953Z"
    },
    "run_control": {
     "marked": true
    }
   },
   "outputs": [],
   "source": [
    "plt.close('all')"
   ]
  },
  {
   "cell_type": "markdown",
   "metadata": {
    "heading_collapsed": true
   },
   "source": [
    "## Confidence interval = 2*std(background)"
   ]
  },
  {
   "cell_type": "code",
   "execution_count": 109,
   "metadata": {
    "ExecuteTime": {
     "end_time": "2019-11-28T03:53:29.837698Z",
     "start_time": "2019-11-28T03:53:29.653698Z"
    },
    "hidden": true
   },
   "outputs": [],
   "source": [
    "# Plot intensity vs depth for all channels\n",
    "fig, ax = plt.subplots(nrows = 2, ncols = 3)\n",
    "\n",
    "\n",
    "for section in range(2):\n",
    "    \n",
    "    sig = signal[section + 1]\n",
    "    n = sig['Ndnf']\n",
    "    v = sig['Vip']\n",
    "    s = sig['Sst']\n",
    "    \n",
    "    b = bg[section + 1]\n",
    "    bn = b['Ndnf']\n",
    "    bv = b['Vip']\n",
    "    bs = b['Sst']\n",
    "    \n",
    "    d = depth[section + 1]\n",
    "    \n",
    "    section = section\n",
    "    \n",
    "    ax[section, 0].scatter(d, n, color = colors[section], alpha = 0.5, marker = '.')\n",
    "    [x1, x2] = ax[section, 0].get_xlim()\n",
    "    ax[section, 0].plot(np.linspace(x1, x2, 10), np.ones(10)*(np.mean(bn) + 2*np.std(bn)), linestyle = '--', color = 'k')\n",
    "    ax[section, 0].plot(np.linspace(x1, x2, 10), np.ones(10)*(np.mean(bn) - 2*np.std(bn)), linestyle = '--', color = 'k')\n",
    "    \n",
    "    ax[section, 0].set_xlabel('Depth from pia (um)')\n",
    "    ax[section, 0].set_ylabel('Intensity in Ndnf channel')\n",
    "    #ax[0].set_title('Max intensity = {0}'.format(int(np.max(n))))\n",
    "\n",
    "    ax[section, 1].scatter(d, v, color = colors[section], alpha = 0.5, marker = '.')\n",
    "    ax[section, 1].plot(np.linspace(x1, x2, 10), np.ones(10)*(np.mean(bv) + 2*np.std(bv)), linestyle = '--', color = 'k')\n",
    "    ax[section, 1].plot(np.linspace(x1, x2, 10), np.ones(10)*(np.mean(bv) - 2*np.std(bv)), linestyle = '--', color = 'k')\n",
    "    ax[section, 1].set_xlabel('Depth from pia (um)')\n",
    "    ax[section, 1].set_ylabel('Intensity in Vip channel')\n",
    "    #ax[1].set_title('Max intensity = {0}'.format(int(np.max(avg_intensity_vip))))\n",
    "\n",
    "    ax[section, 2].scatter(d, s, color = colors[section], alpha = 0.5, marker = '.')\n",
    "    ax[section ,2].plot(np.linspace(x1, x2, 10), np.ones(10)*(np.mean(bs) + 2*np.std(bs)), linestyle = '--', color = 'k')\n",
    "    ax[section, 2].plot(np.linspace(x1, x2, 10), np.ones(10)*(np.mean(bs) - 2*np.std(bs)), linestyle = '--', color = 'k')\n",
    "    ax[section, 2].set_xlabel('Depth from pia (um)')\n",
    "    ax[section, 2].set_ylabel('Intensity in Sst channel')\n",
    "    #ax[2].set_title('Max intensity = {0}'.format(int(np.max(avg_intensity_sst))))"
   ]
  },
  {
   "cell_type": "markdown",
   "metadata": {
    "heading_collapsed": true
   },
   "source": [
    "# Plot signal vs background"
   ]
  },
  {
   "cell_type": "code",
   "execution_count": 103,
   "metadata": {
    "ExecuteTime": {
     "end_time": "2019-11-28T03:50:12.962698Z",
     "start_time": "2019-11-28T03:50:12.837698Z"
    },
    "hidden": true
   },
   "outputs": [],
   "source": [
    "# Plot intensity vs depth for all channels\n",
    "fig, ax = plt.subplots(nrows = 1, ncols = 3, figsize = (20, 10))\n",
    "# colors = ['r', 'b', 'g']\n",
    "\n",
    "for section in range(n_sections):\n",
    "    \n",
    "    sig = signal[section + 1]\n",
    "    n = sig['Ndnf']\n",
    "    v = sig['Vip']\n",
    "    s = sig['Sst']\n",
    "    \n",
    "    b = bg[section + 1]\n",
    "    n1 = b['Ndnf']\n",
    "    v1 = b['Vip']\n",
    "    s1 = b['Sst']\n",
    "    \n",
    "    ax[0].scatter(n, n1, color = colors[section], alpha = 0.5, marker = '.')\n",
    "    ax[0].set_ylabel('Local background in Ndnf channel')\n",
    "    ax[0].set_xlabel('Intensity in Ndnf channel')\n",
    "\n",
    "    ax[1].scatter(v, v1, color = colors[section], alpha = 0.5, marker = '.')\n",
    "    ax[1].set_ylabel('Local background in Vip channel')\n",
    "    ax[1].set_xlabel('Intensity in Vip channel')\n",
    "    \n",
    "    ax[2].scatter(s, s1, color = colors[section], alpha = 0.5, marker = '.')\n",
    "    ax[2].set_ylabel('Local background in Sst channel')\n",
    "    ax[2].set_xlabel('Intensity in Sst channel')"
   ]
  },
  {
   "cell_type": "code",
   "execution_count": 48,
   "metadata": {
    "ExecuteTime": {
     "end_time": "2019-11-26T11:59:02.834698Z",
     "start_time": "2019-11-26T11:59:02.815698Z"
    },
    "hidden": true
   },
   "outputs": [],
   "source": [
    "plt.close('all')"
   ]
  },
  {
   "cell_type": "markdown",
   "metadata": {
    "heading_collapsed": true
   },
   "source": [
    "# Plot true signal (raw - bg) vs bg"
   ]
  },
  {
   "cell_type": "code",
   "execution_count": 122,
   "metadata": {
    "ExecuteTime": {
     "end_time": "2019-11-28T04:44:18.685698Z",
     "start_time": "2019-11-28T04:44:18.568698Z"
    },
    "hidden": true
   },
   "outputs": [],
   "source": [
    "# Plot intensity vs depth for all channels\n",
    "fig, ax = plt.subplots(nrows = 1, ncols = 3, figsize = (20, 10))\n",
    "#colors = ['r', 'b', 'g']\n",
    "\n",
    "for section in range(n_sections):\n",
    "    \n",
    "    sig = signal[section + 1]\n",
    "    n = sig['Ndnf']\n",
    "    v = sig['Vip']\n",
    "    s = sig['Sst']\n",
    "    \n",
    "    b = bg[section + 1]\n",
    "    n1 = b['Ndnf']\n",
    "    v1 = b['Vip']\n",
    "    s1 = b['Sst']\n",
    "    \n",
    "    ax[0].scatter(n1, n - n1, color = colors[section], alpha = 0.5, marker = '.')\n",
    "    ax[0].set_ylabel('Signal - local background in Ndnf channel')\n",
    "    ax[0].set_xlabel('Local background in Ndnf channel')\n",
    "\n",
    "    ax[1].scatter(v1, v - v1, color = colors[section], alpha = 0.5, marker = '.')\n",
    "    ax[1].set_ylabel('Signal - local background in Vip channel')\n",
    "    ax[1].set_xlabel('Local background in Vip channel')\n",
    "    \n",
    "    ax[2].scatter(s1, s - s1, color = colors[section], alpha = 0.5, marker = '.')\n",
    "    ax[2].set_ylabel('Signal - local background in Sst channel')\n",
    "    ax[2].set_xlabel('Local background in Sst channel')"
   ]
  },
  {
   "cell_type": "markdown",
   "metadata": {
    "heading_collapsed": true
   },
   "source": [
    "# Plot signal - background vs p value"
   ]
  },
  {
   "cell_type": "code",
   "execution_count": 209,
   "metadata": {
    "ExecuteTime": {
     "end_time": "2019-12-03T21:26:09.216698Z",
     "start_time": "2019-12-03T21:26:09.110698Z"
    },
    "hidden": true
   },
   "outputs": [],
   "source": [
    "# Plot intensity vs depth for all channels\n",
    "fig, ax = plt.subplots(nrows = 1, ncols = 3, figsize = (20, 10))\n",
    "#colors = ['r', 'b', 'g']\n",
    "\n",
    "for section in range(2):\n",
    "    \n",
    "    sig = signal[section + 1]\n",
    "    n = sig['Ndnf']\n",
    "    v = sig['Vip']\n",
    "    s = sig['Sst']\n",
    "    \n",
    "    b = bg[section + 1]\n",
    "    n1 = b['Ndnf']\n",
    "    v1 = b['Vip']\n",
    "    s1 = b['Sst']\n",
    "    \n",
    "    p = pv[section + 1]\n",
    "    pv_ndnf = p['Ndnf']\n",
    "    pv_vip = p['Vip']\n",
    "    pv_sst = p['Sst']\n",
    "    \n",
    "    ax[0].scatter(pv_ndnf, n - n1, color = colors[section], alpha = 0.5, marker = '.')\n",
    "    ax[0].set_ylabel('Signal - local background in Ndnf channel')\n",
    "    ax[0].set_xlabel('p value of signal in Ndnf channel')\n",
    "\n",
    "    ax[1].scatter(pv_vip, v - v1, color = colors[section], alpha = 0.5, marker = '.')\n",
    "    ax[1].set_ylabel('Signal - local background in Vip channel')\n",
    "    ax[1].set_xlabel('p value of signal in Vip channel')\n",
    "    \n",
    "    ax[2].scatter(pv_sst, s - s1, color = colors[section], alpha = 0.5, marker = '.')\n",
    "    ax[2].set_ylabel('Signal - local background in Sst channel')\n",
    "    ax[2].set_xlabel('p value of signal in Sst channel')"
   ]
  },
  {
   "cell_type": "markdown",
   "metadata": {
    "heading_collapsed": true
   },
   "source": [
    "# Plot signal - background vs depth"
   ]
  },
  {
   "cell_type": "code",
   "execution_count": 104,
   "metadata": {
    "ExecuteTime": {
     "end_time": "2019-11-28T03:51:13.517698Z",
     "start_time": "2019-11-28T03:51:13.381698Z"
    },
    "hidden": true
   },
   "outputs": [],
   "source": [
    "# Plot intensity vs depth for all channels\n",
    "fig, ax = plt.subplots(nrows = 1, ncols = 3, figsize = (20, 10))\n",
    "# colors = ['r', 'b', 'g']\n",
    "\n",
    "for section in range(n_sections):\n",
    "    \n",
    "    sig = signal[section + 1]\n",
    "    b = bg[section + 1]\n",
    "    n = sig['Ndnf'] - b['Ndnf']\n",
    "    v = sig['Vip'] - b['Vip']\n",
    "    s = sig['Sst'] - b['Sst']\n",
    "    \n",
    "    d = depth[section + 1]\n",
    "    \n",
    "    ax[0].scatter(d, n, color = colors[section], alpha = 0.5, marker = '.')\n",
    "    ax[0].set_xlabel('Depth from pia (um)')\n",
    "    ax[0].set_ylabel('Signal - background in Ndnf channel')\n",
    "    #ax[0].set_title('Max intensity = {0}'.format(int(np.max(n))))\n",
    "\n",
    "    ax[1].scatter(d, v, color = colors[section], alpha = 0.5, marker = '.')\n",
    "    ax[1].set_xlabel('Depth from pia (um)')\n",
    "    ax[1].set_ylabel('Signal - background in Vip channel')\n",
    "    #ax[1].set_title('Max intensity = {0}'.format(int(np.max(avg_intensity_vip))))\n",
    "\n",
    "    ax[2].scatter(d, s, color = colors[section], alpha = 0.5, marker = '.')\n",
    "    ax[2].set_xlabel('Depth from pia (um)')\n",
    "    ax[2].set_ylabel('Signal - background in Sst channel')\n",
    "    #ax[2].set_title('Max intensity = {0}'.format(int(np.max(avg_intensity_sst))))"
   ]
  },
  {
   "cell_type": "markdown",
   "metadata": {
    "heading_collapsed": true
   },
   "source": [
    "# Plot background vs depth"
   ]
  },
  {
   "cell_type": "code",
   "execution_count": 105,
   "metadata": {
    "ExecuteTime": {
     "end_time": "2019-11-28T03:51:40.784698Z",
     "start_time": "2019-11-28T03:51:40.661698Z"
    },
    "hidden": true
   },
   "outputs": [],
   "source": [
    "# Plot intensity vs depth for all channels\n",
    "fig, ax = plt.subplots(nrows = 1, ncols = 3, figsize = (20, 10))\n",
    "# colors = ['r', 'b', 'g']\n",
    "\n",
    "for section in range(n_sections):\n",
    "    \n",
    "    b = bg[section + 1]\n",
    "    n = b['Ndnf']\n",
    "    v = b['Vip']\n",
    "    s = b['Sst']\n",
    "    \n",
    "    d = depth[section + 1]\n",
    "    \n",
    "    ax[0].scatter(d, n, color = colors[section], alpha = 0.5, marker = '.')\n",
    "    ax[0].set_xlabel('Depth from pia (um)')\n",
    "    ax[0].set_ylabel('Background in Ndnf channel')\n",
    "    #ax[0].set_title('Max intensity = {0}'.format(int(np.max(n))))\n",
    "\n",
    "    ax[1].scatter(d, v, color = colors[section], alpha = 0.5, marker = '.')\n",
    "    ax[1].set_xlabel('Depth from pia (um)')\n",
    "    ax[1].set_ylabel('Background in Vip channel')\n",
    "    #ax[1].set_title('Max intensity = {0}'.format(int(np.max(avg_intensity_vip))))\n",
    "\n",
    "    ax[2].scatter(d, s, color = colors[section], alpha = 0.5, marker = '.')\n",
    "    ax[2].set_xlabel('Depth from pia (um)')\n",
    "    ax[2].set_ylabel('Background in Sst channel')\n",
    "    #ax[2].set_title('Max intensity = {0}'.format(int(np.max(avg_intensity_sst))))"
   ]
  },
  {
   "cell_type": "markdown",
   "metadata": {
    "heading_collapsed": true
   },
   "source": [
    "# Plot gene1 vs gene2"
   ]
  },
  {
   "cell_type": "code",
   "execution_count": 27,
   "metadata": {
    "ExecuteTime": {
     "end_time": "2019-11-26T11:34:12.394698Z",
     "start_time": "2019-11-26T11:34:12.253698Z"
    },
    "hidden": true
   },
   "outputs": [],
   "source": [
    "# Plot intensity vs depth for all channels\n",
    "fig, ax = plt.subplots(nrows = 1, ncols = 3, figsize = (20, 10))\n",
    "colors = ['r', 'b', 'g']\n",
    "\n",
    "for section in range(n_sections):\n",
    "    \n",
    "    sig = signal[section + 1]\n",
    "    n = sig['Ndnf']\n",
    "    v = sig['Vip']\n",
    "    s = sig['Sst']\n",
    "    \n",
    "    d = depth[section + 1]\n",
    "    \n",
    "    ax[0].scatter(v, n, color = colors[section], alpha = 0.5)\n",
    "    ax[0].set_xlabel('Intensity in Vip channel')\n",
    "    ax[0].set_ylabel('Intensity in Ndnf channel')\n",
    "    #ax[0].set_title('Max intensity = {0}'.format(int(np.max(n))))\n",
    "\n",
    "    ax[1].scatter(v, s, color = colors[section], alpha = 0.5)\n",
    "    ax[1].set_xlabel('Intensity in Vip channel')\n",
    "    ax[1].set_ylabel('Intensity in Sst channel')\n",
    "    #ax[1].set_title('Max intensity = {0}'.format(int(np.max(avg_intensity_vip))))\n",
    "\n",
    "    ax[2].scatter(s, n, color = colors[section], alpha = 0.5)\n",
    "    ax[2].set_xlabel('Intensity in Sst channel')\n",
    "    ax[2].set_ylabel('Intensity in Ndnf channel')\n",
    "    #ax[2].set_title('Max intensity = {0}'.format(int(np.max(avg_intensity_sst))))"
   ]
  },
  {
   "cell_type": "markdown",
   "metadata": {},
   "source": [
    "# Classify cells"
   ]
  },
  {
   "cell_type": "code",
   "execution_count": 68,
   "metadata": {
    "ExecuteTime": {
     "end_time": "2020-03-27T13:23:22.692953Z",
     "start_time": "2020-03-27T13:23:22.686953Z"
    }
   },
   "outputs": [],
   "source": [
    "def moving_average(a, n=3) :\n",
    "    ret = np.cumsum(a, dtype=float)\n",
    "    ret[n:] = ret[n:] - ret[:-n]\n",
    "    return ret / n"
   ]
  },
  {
   "cell_type": "code",
   "execution_count": 75,
   "metadata": {
    "ExecuteTime": {
     "end_time": "2020-03-27T13:48:22.180953Z",
     "start_time": "2020-03-27T13:48:22.037953Z"
    },
    "run_control": {
     "marked": true
    }
   },
   "outputs": [
    {
     "name": "stderr",
     "output_type": "stream",
     "text": [
      "No handles with labels found to put in legend.\n"
     ]
    }
   ],
   "source": [
    "fig, ax = plt.subplots(nrows = 1, ncols = 2)\n",
    "\n",
    "for section in range(n_sections):\n",
    "    \n",
    "    sig = signal[section + 1]\n",
    "    n = sig['Ndnf_lipo_excl']\n",
    "    v = sig['Vip_lipo_excl']\n",
    "    s = sig['Sst_lipo_excl']\n",
    "    \n",
    "    b = bg[section + 1]\n",
    "    n1 = b['Ndnf']\n",
    "    v1 = b['Vip']\n",
    "    s1 = b['Sst']\n",
    "    \n",
    "    d = depth[section + 1]\n",
    "        \n",
    "    #npos = n > np.mean(n1) + 2*np.std(n1)\n",
    "#     npos = n > 1000\n",
    "#     vpos = v > np.mean(v1) + 2*np.std(v1)\n",
    "#     spos = s > np.mean(s1) + 2*np.std(s1)\n",
    "\n",
    "    p = pv[section + 1]\n",
    "    pv_ndnf = p['Ndnf']\n",
    "    pv_vip = p['Vip']\n",
    "    pv_sst = p['Sst']\n",
    "    \n",
    "    d = depth[section + 1]\n",
    "    \n",
    "    npos = pv_ndnf < 0.05\n",
    "    vpos = pv_vip < 0.05\n",
    "    spos = pv_sst < 0.05\n",
    "    \n",
    "#     row = int(section/2)\n",
    "    row = np.mod(section, 2)\n",
    "    col = np.mod(section, 2)\n",
    "    \n",
    "    order = np.argsort(d)\n",
    "    \n",
    "    ax[row].plot(d[order], moving_average(npos[order], n = 20)*10, color = 'gold', label = 'Ndnf')\n",
    "    ax[row].plot(d[order], moving_average(vpos[order], n = 20)*10, color = 'g', label = 'Vip')\n",
    "    ax[row].plot(d[order], moving_average(spos[order], n = 20)*10, color = 'r', label = 'Sst')\n",
    "    \n",
    "    plt.legend()\n",
    "    \n",
    "    #ax[row].set_title('Section {0}'.format(section + 1))\n",
    "    if row == 1:\n",
    "        ax[row].set_xlabel('Depth from pia (um)')\n",
    "    \n",
    "    if col == 0:\n",
    "        ax[row].set_ylabel('# of cells positive for gene')"
   ]
  },
  {
   "cell_type": "code",
   "execution_count": 86,
   "metadata": {
    "ExecuteTime": {
     "end_time": "2020-03-27T14:02:34.032953Z",
     "start_time": "2020-03-27T14:02:33.763953Z"
    }
   },
   "outputs": [
    {
     "name": "stdout",
     "output_type": "stream",
     "text": [
      "Number of Ndnf+ cells: 81\n",
      "Number of Vip+ cells: 51\n",
      "Number of Sst+ cells: 13\n",
      "\n",
      "Number of Ndnf+ Vip+ cells: 7\n",
      "Number of Ndnf+ Sst+ cells: 0\n",
      "Number of Sst+ Vip+ cells: 2\n"
     ]
    }
   ],
   "source": [
    "print('Number of Ndnf+ cells: {0}'.format(np.sum(npos)))\n",
    "print('Number of Vip+ cells: {0}'.format(np.sum(vpos)))\n",
    "print('Number of Sst+ cells: {0}'.format(np.sum(spos)))\n",
    "\n",
    "print('')\n",
    "print('Number of Ndnf+ Vip+ cells: {0}'.format(np.sum(np.logical_and(npos, vpos))))\n",
    "print('Number of Ndnf+ Sst+ cells: {0}'.format(np.sum(np.logical_and(npos, spos))))\n",
    "print('Number of Sst+ Vip+ cells: {0}'.format(np.sum(np.logical_and(spos, vpos))))"
   ]
  },
  {
   "cell_type": "code",
   "execution_count": 87,
   "metadata": {
    "ExecuteTime": {
     "end_time": "2020-03-27T14:02:45.398953Z",
     "start_time": "2020-03-27T14:02:45.395953Z"
    }
   },
   "outputs": [],
   "source": [
    "section = 0\n",
    "p = pv[section + 1]\n",
    "pv_ndnf = p['Ndnf']\n",
    "pv_vip = p['Vip']\n",
    "pv_sst = p['Sst']\n",
    "\n",
    "d = depth[section + 1]\n",
    "\n",
    "npos = pv_ndnf < 0.05\n",
    "vpos = pv_vip < 0.05\n",
    "spos = pv_sst < 0.05"
   ]
  },
  {
   "cell_type": "code",
   "execution_count": 88,
   "metadata": {
    "ExecuteTime": {
     "end_time": "2020-03-27T14:02:52.583953Z",
     "start_time": "2020-03-27T14:02:52.578953Z"
    }
   },
   "outputs": [
    {
     "name": "stdout",
     "output_type": "stream",
     "text": [
      "Number of Ndnf+ cells: 73\n",
      "Number of Vip+ cells: 60\n",
      "Number of Sst+ cells: 33\n",
      "\n",
      "Number of Ndnf+ Vip+ cells: 21\n",
      "Number of Ndnf+ Sst+ cells: 9\n",
      "Number of Sst+ Vip+ cells: 14\n"
     ]
    }
   ],
   "source": [
    "print('Number of Ndnf+ cells: {0}'.format(np.sum(npos)))\n",
    "print('Number of Vip+ cells: {0}'.format(np.sum(vpos)))\n",
    "print('Number of Sst+ cells: {0}'.format(np.sum(spos)))\n",
    "\n",
    "print('')\n",
    "print('Number of Ndnf+ Vip+ cells: {0}'.format(np.sum(np.logical_and(npos, vpos))))\n",
    "print('Number of Ndnf+ Sst+ cells: {0}'.format(np.sum(np.logical_and(npos, spos))))\n",
    "print('Number of Sst+ Vip+ cells: {0}'.format(np.sum(np.logical_and(spos, vpos))))"
   ]
  },
  {
   "cell_type": "code",
   "execution_count": 76,
   "metadata": {
    "ExecuteTime": {
     "end_time": "2020-03-27T13:57:06.424953Z",
     "start_time": "2020-03-27T13:57:06.404953Z"
    }
   },
   "outputs": [
    {
     "data": {
      "text/plain": [
       "array([ True,  True,  True,  True,  True,  True,  True, False, False,\n",
       "       False, False, False, False,  True,  True,  True,  True, False,\n",
       "        True,  True, False, False, False, False, False,  True, False,\n",
       "        True, False,  True, False, False,  True, False, False, False,\n",
       "       False, False, False,  True,  True, False,  True, False, False,\n",
       "       False, False, False, False, False, False, False, False, False,\n",
       "       False, False,  True, False, False, False,  True, False, False,\n",
       "       False, False, False,  True,  True,  True, False, False,  True,\n",
       "        True,  True, False, False, False, False, False, False, False,\n",
       "       False, False, False, False, False, False, False, False, False,\n",
       "       False, False, False, False, False,  True, False,  True, False,\n",
       "       False, False, False, False, False, False, False, False, False,\n",
       "        True,  True, False, False, False, False, False, False, False,\n",
       "       False, False, False, False, False, False, False, False,  True,\n",
       "       False, False, False, False, False, False, False, False, False,\n",
       "       False,  True,  True,  True,  True,  True, False, False, False,\n",
       "       False,  True,  True, False, False, False, False,  True, False,\n",
       "       False,  True, False, False, False, False, False,  True, False,\n",
       "        True, False, False,  True,  True,  True, False, False, False,\n",
       "       False, False,  True,  True,  True,  True, False, False,  True,\n",
       "        True, False, False, False,  True,  True, False,  True, False,\n",
       "       False, False, False, False, False, False, False, False,  True,\n",
       "       False, False, False, False, False, False, False, False, False,\n",
       "       False, False, False,  True, False, False, False,  True, False,\n",
       "        True, False, False,  True, False, False, False, False, False,\n",
       "        True, False,  True, False, False, False,  True, False, False,\n",
       "       False, False, False,  True, False, False, False, False, False,\n",
       "       False, False,  True, False, False,  True, False, False, False,\n",
       "       False, False, False, False, False, False, False, False, False,\n",
       "        True, False, False, False, False, False,  True, False, False,\n",
       "       False, False, False,  True,  True,  True,  True,  True, False,\n",
       "        True, False, False, False, False, False, False,  True, False,\n",
       "       False,  True, False,  True, False, False, False,  True, False,\n",
       "       False, False, False, False, False, False, False,  True,  True,\n",
       "       False, False, False, False, False, False, False, False, False,\n",
       "       False, False, False, False, False, False, False, False], dtype=bool)"
      ]
     },
     "execution_count": 76,
     "metadata": {},
     "output_type": "execute_result"
    }
   ],
   "source": [
    "npos"
   ]
  },
  {
   "cell_type": "code",
   "execution_count": null,
   "metadata": {},
   "outputs": [],
   "source": []
  }
 ],
 "metadata": {
  "kernelspec": {
   "display_name": "Python 3",
   "language": "python",
   "name": "python3"
  },
  "language_info": {
   "codemirror_mode": {
    "name": "ipython",
    "version": 3
   },
   "file_extension": ".py",
   "mimetype": "text/x-python",
   "name": "python",
   "nbconvert_exporter": "python",
   "pygments_lexer": "ipython3",
   "version": "3.5.6"
  },
  "toc": {
   "nav_menu": {},
   "number_sections": true,
   "sideBar": true,
   "skip_h1_title": false,
   "toc_cell": false,
   "toc_position": {
    "height": "690px",
    "left": "0px",
    "right": "1020.33px",
    "top": "110px",
    "width": "171px"
   },
   "toc_section_display": "block",
   "toc_window_display": true
  },
  "varInspector": {
   "cols": {
    "lenName": 16,
    "lenType": 16,
    "lenVar": 40
   },
   "kernels_config": {
    "python": {
     "delete_cmd_postfix": "",
     "delete_cmd_prefix": "del ",
     "library": "var_list.py",
     "varRefreshCmd": "print(var_dic_list())"
    },
    "r": {
     "delete_cmd_postfix": ") ",
     "delete_cmd_prefix": "rm(",
     "library": "var_list.r",
     "varRefreshCmd": "cat(var_dic_list()) "
    }
   },
   "oldHeight": 580.656,
   "position": {
    "height": "40px",
    "left": "1592px",
    "right": "20px",
    "top": "200px",
    "width": "622.656px"
   },
   "types_to_exclude": [
    "module",
    "function",
    "builtin_function_or_method",
    "instance",
    "_Feature"
   ],
   "varInspector_section_display": "none",
   "window_display": true
  }
 },
 "nbformat": 4,
 "nbformat_minor": 2
}
