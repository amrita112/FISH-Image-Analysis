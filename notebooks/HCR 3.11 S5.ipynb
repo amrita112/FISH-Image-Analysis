{
 "cells": [
  {
   "cell_type": "markdown",
   "metadata": {},
   "source": [
    "# Imports"
   ]
  },
  {
   "cell_type": "code",
   "execution_count": 4,
   "metadata": {
    "ExecuteTime": {
     "end_time": "2020-04-01T23:59:55.087467Z",
     "start_time": "2020-04-01T23:59:54.884467Z"
    }
   },
   "outputs": [],
   "source": [
    "%matplotlib inline\n",
    "\n",
    "from IPython import get_ipython\n",
    "ipython = get_ipython()\n",
    "ipython.magic(\"gui qt5\") \n",
    "\n",
    "import napari\n",
    "from PIL import Image\n",
    "\n",
    "import numpy as np\n",
    "import cv2\n",
    "\n",
    "import matplotlib.pyplot as plt\n",
    "from mpl_toolkits import mplot3d\n",
    "import matplotlib.colors as colors\n",
    "import matplotlib.path as mpltpath\n",
    "\n",
    "import time\n",
    "\n",
    "import pickle as pkl\n",
    "#import h5py\n",
    "from os.path import sep\n",
    "\n",
    "from bisect import bisect_left\n",
    "\n",
    "# import Cell\n",
    "# import pixels_in_roi\n",
    "# import diff_gauss\n",
    "# import scatter_channels\n",
    "# import hist_channels\n",
    "# import m_dist\n",
    "\n",
    "from skimage.measure import profile_line\n",
    "from skimage.filters import gaussian\n"
   ]
  },
  {
   "cell_type": "markdown",
   "metadata": {
    "heading_collapsed": true
   },
   "source": [
    "# Load images"
   ]
  },
  {
   "cell_type": "markdown",
   "metadata": {
    "hidden": true
   },
   "source": [
    "## Raw images"
   ]
  },
  {
   "cell_type": "markdown",
   "metadata": {
    "heading_collapsed": true,
    "hidden": true
   },
   "source": [
    "### Specify planes"
   ]
  },
  {
   "cell_type": "code",
   "execution_count": 49,
   "metadata": {
    "ExecuteTime": {
     "end_time": "2020-03-27T03:58:38.194953Z",
     "start_time": "2020-03-27T03:58:38.156953Z"
    },
    "hidden": true
   },
   "outputs": [
    {
     "name": "stdout",
     "output_type": "stream",
     "text": [
      "Number of planes: 10\n"
     ]
    }
   ],
   "source": [
    "t0 = time.time()\n",
    "folder = 'G:{0}Shared drives{0}as_share{0}HCR{0}HCR 3.11{0}S5{0}S5_raw_tiff_images'.format(sep)\n",
    "plane_nos = range(1, 11)\n",
    "\n",
    "# base_filename2 = 'S1_dapi_546_488_647_s2z'\n",
    "base_filename = 'S5__z'\n",
    "n = len(plane_nos)\n",
    "print('Number of planes: {0}'.format(n))\n",
    "\n",
    "# Create 4D array to store images\n",
    "img = Image.open('{0}{1}{2}{3}_ChS1-T3_ORG.tif'.format(folder, sep, base_filename, str(plane_nos[0]).zfill(2)))\n",
    "\n",
    "h = img.height\n",
    "w = img.width"
   ]
  },
  {
   "cell_type": "markdown",
   "metadata": {
    "hidden": true
   },
   "source": [
    "### Load images"
   ]
  },
  {
   "cell_type": "code",
   "execution_count": 110,
   "metadata": {
    "ExecuteTime": {
     "end_time": "2020-03-27T12:20:34.069953Z",
     "start_time": "2020-03-27T12:20:32.932953Z"
    },
    "hidden": true,
    "run_control": {
     "marked": true
    }
   },
   "outputs": [
    {
     "name": "stdout",
     "output_type": "stream",
     "text": [
      "Number of planes: 1\n",
      "Size of image in pixels: 1 X 3788 X 14847\n",
      "Loading image 1, 0.0 seconds\n"
     ]
    }
   ],
   "source": [
    "t0 = time.time()\n",
    "folder = 'G:{0}Shared drives{0}as_share{0}HCR{0}HCR 3.11{0}S5{0}S5_raw_tiff_images'.format(sep)\n",
    "plane_nos = range(1, 2)\n",
    "\n",
    "# base_filename2 = 'S1_dapi_546_488_647_s2z'\n",
    "base_filename = 'S5__z'\n",
    "n = len(plane_nos)\n",
    "print('Number of planes: {0}'.format(n))\n",
    "\n",
    "# Create 4D array to store images\n",
    "img = Image.open('{0}{1}{2}{3}_ChS1-T3_ORG.tif'.format(folder, sep, base_filename, str(plane_nos[0]).zfill(2)))\n",
    "\n",
    "h = img.height\n",
    "w = img.width\n",
    "im_array_gad1 = np.zeros([n, h, w])\n",
    "# im_array_vip = np.zeros([n, h, w])\n",
    "# im_array_sst = np.zeros([n, h, w])\n",
    "# im_array_ndnf = np.zeros([n, h, w])\n",
    "#im_array_dapi = np.zeros([n, h, w])\n",
    "\n",
    "print('Size of image in pixels: {0} X {1} X {2}'.format(n, h, w))\n",
    "\n",
    "for i in range(n):\n",
    "    print('Loading image {0}, {1} seconds'.format(i + 1, np.round(time.time() - t0)))\n",
    "    p = plane_nos[i]\n",
    "    img_gad1 = Image.open('{0}{1}{2}{3}_ChS1-T3_ORG.tif'.format(folder, sep, base_filename, str(p).zfill(2)))\n",
    "#     img_vip = Image.open('{0}{1}{2}{3}_ChS2-T3_ORG.tif'.format(folder, sep, base_filename, str(p).zfill(2)))\n",
    "#     img_sst = Image.open('{0}{1}{2}{3}_ChS2-T2_ORG.tif'.format(folder, sep, base_filename, str(p).zfill(2)))\n",
    "#     img_ndnf = Image.open('{0}{1}{2}{3}_ChS2-T1_ORG.tif'.format(folder, sep, base_filename, str(p).zfill(2)))\n",
    "    #img_dapi = Image.open('{0}{1}{2}{3}_ChS1-T1_ORG.tif'.format(folder, sep, base_filename, str(p).zfill(2)))\n",
    "\n",
    "    try:\n",
    "        im_array_gad1[i, :, :] = np.array(img_gad1)\n",
    "#         im_array_vip[i, :, :] = np.array(img_vip)\n",
    "#         im_array_sst[i, :, :] = np.array(img_sst)\n",
    "#         im_array_ndnf[i, :, :] = np.array(img_ndnf)\n",
    "        #im_array_dapi[i, :, :] = np.array(img_dapi)\n",
    "    except:\n",
    "        print('Plane {0} could not be loaded'.format(p))\n",
    "        print('Size of plane {0} in pixels: {0} X {1}'.format(img.height, img.width))\n",
    "        im_array_gad1 = np.delete(im_array_gad1, i, axis = 0)\n",
    "        im_array_vip = np.delete(im_array_vip, i, axis = 0)\n",
    "        im_array_sst = np.delete(im_array_sst, i, axis = 0)\n",
    "        im_array_ndnf = np.delete(im_array_ndnf, i, axis = 0)\n",
    "        plane_nos.remove(p)\n",
    "        i -= 1\n",
    "        n = len(plane_nos)\n",
    "        continue\n",
    "\n",
    "del img_gad1\n",
    "# del img_vip\n",
    "# del img_sst\n",
    "# del img_ndnf\n",
    "#del img_dapi"
   ]
  },
  {
   "cell_type": "markdown",
   "metadata": {
    "heading_collapsed": true,
    "hidden": true
   },
   "source": [
    "## Gaussian blurred images"
   ]
  },
  {
   "cell_type": "code",
   "execution_count": 3,
   "metadata": {
    "ExecuteTime": {
     "end_time": "2020-03-21T03:01:14.908570Z",
     "start_time": "2020-03-21T03:01:03.296570Z"
    },
    "hidden": true
   },
   "outputs": [
    {
     "name": "stdout",
     "output_type": "stream",
     "text": [
      "Number of planes: 10\n",
      "Size of image in pixels: 10 X 3788 X 14847\n",
      "Loading image 1, 0.0 seconds\n",
      "Loading image 2, 1.0 seconds\n",
      "Loading image 3, 2.0 seconds\n",
      "Loading image 4, 4.0 seconds\n",
      "Loading image 5, 5.0 seconds\n",
      "Loading image 6, 6.0 seconds\n",
      "Loading image 7, 7.0 seconds\n",
      "Loading image 8, 8.0 seconds\n",
      "Loading image 9, 9.0 seconds\n",
      "Loading image 10, 11.0 seconds\n"
     ]
    }
   ],
   "source": [
    "# %% Load images\n",
    "t0 = time.time()\n",
    "folder = 'G:{0}Shared drives{0}as_share{0}HCR{0}HCR 3.11{0}S5{0}S5_blurred_tiff_images'.format(sep)\n",
    "plane_nos = range(1, 11)\n",
    "\n",
    "# base_filename2 = 'S1_dapi_546_488_647_s2z'\n",
    "base_filename = 'S5_z'\n",
    "n = len(plane_nos)\n",
    "print('Number of planes: {0}'.format(n))\n",
    "\n",
    "# Create 4D array to store images\n",
    "img = Image.open('{0}{1}{2}{3}_Gad1_5px_gauss_blur.tif'.format(folder, sep, base_filename, str(plane_nos[0]).zfill(2)))\n",
    "\n",
    "h = img.height\n",
    "w = img.width\n",
    "im_array_gad1_blur = np.zeros([n, h, w])\n",
    "# im_array_vip = np.zeros([n, h, w])\n",
    "# im_array_sst = np.zeros([n, h, w])\n",
    "# im_array_ndnf = np.zeros([n, h, w])\n",
    "# im_array_dapi = np.zeros([n, h, w])\n",
    "\n",
    "print('Size of image in pixels: {0} X {1} X {2}'.format(n, h, w))\n",
    "\n",
    "for i in range(n):\n",
    "    print('Loading image {0}, {1} seconds'.format(i + 1, np.round(time.time() - t0)))\n",
    "    p = plane_nos[i]\n",
    "    img_gad1 = Image.open('{0}{1}{2}{3}_Gad1_5px_gauss_blur.tif'.format(folder, sep, base_filename, str(p).zfill(2)))\n",
    "#     img_vip = Image.open('{0}{1}{2}{3}_ChS2-T3_ORG.tif'.format(folder, sep, base_filename, str(p).zfill(2)))\n",
    "#     img_sst = Image.open('{0}{1}{2}{3}_ChS2-T2_ORG.tif'.format(folder, sep, base_filename, str(p).zfill(2)))\n",
    "#     img_ndnf = Image.open('{0}{1}{2}{3}_ChS2-T1_ORG.tif'.format(folder, sep, base_filename, str(p).zfill(2)))\n",
    "#     img_dapi = Image.open('{0}{1}{2}{3}_ChS1-T1_ORG.tif'.format(folder, sep, base_filename, str(p).zfill(2)))\n",
    "\n",
    "    try:\n",
    "        im_array_gad1_blur[i, :, :] = np.array(img_gad1)\n",
    "#         im_array_vip[i, :, :] = np.array(img_vip)\n",
    "#         im_array_sst[i, :, :] = np.array(img_sst)\n",
    "#         im_array_ndnf[i, :, :] = np.array(img_ndnf)\n",
    "#         im_array_dapi[i, :, :] = np.array(img_dapi)\n",
    "    except:\n",
    "        print('Plane {0} could not be loaded'.format(p))\n",
    "        print('Size of plane {0} in pixels: {0} X {1}'.format(img.height, img.width))\n",
    "        im_array_gad1 = np.delete(im_array_gad1, i, axis = 0)\n",
    "        im_array_vip = np.delete(im_array_vip, i, axis = 0)\n",
    "        im_array_sst = np.delete(im_array_sst, i, axis = 0)\n",
    "        im_array_ndnf = np.delete(im_array_ndnf, i, axis = 0)\n",
    "        plane_nos.remove(p)\n",
    "        i -= 1\n",
    "        n = len(plane_nos)\n",
    "        continue\n",
    "\n",
    "del img_gad1\n",
    "# del img_vip\n",
    "# del img_sst\n",
    "# del img_ndnf\n",
    "# del img_dapi"
   ]
  },
  {
   "cell_type": "markdown",
   "metadata": {
    "heading_collapsed": true,
    "hidden": true
   },
   "source": [
    "## Background subtracted (rolling ball)"
   ]
  },
  {
   "cell_type": "code",
   "execution_count": null,
   "metadata": {
    "hidden": true
   },
   "outputs": [],
   "source": [
    "# Background subtracted (using rolling ball background subtraction in Fiji)\n",
    "print('Ndnf')\n",
    "im_array_ndnf = np.zeros([n, h, w])\n",
    "img_file = 'S2_Ndnf_bg_sub2'\n",
    "img = Image.open('{0}\\{1}.tif'.format(folder, img_file))\n",
    "for i in range(n):\n",
    "    print('Loading image {0}'.format(i + 1))\n",
    "    p = plane_nos[i]\n",
    "    try:\n",
    "        img.seek(p - 1)\n",
    "        im_array_ndnf[i, :, :] = np.array(img)\n",
    "        \n",
    "    except:\n",
    "        print('Plane {0} could not be loaded'.format(p))\n",
    "        print('Size of plane {0} in pixels: {0} X {1}'.format(img.height, img.width))\n",
    "        im_array_ndnf = np.delete(im_array_ndnf, i, axis = 0)\n",
    "        plane_nos.remove(p)\n",
    "        i -= 1\n",
    "        n = len(plane_nos)\n",
    "        continue\n",
    "\n",
    "print('Vip')\n",
    "im_array_vip = np.zeros([n, h, w])\n",
    "img_file = 'S2_Vip_bg_sub2'\n",
    "img = Image.open('{0}\\{1}.tif'.format(folder, img_file))\n",
    "for i in range(n):\n",
    "    print('Loading image {0}'.format(i + 1))\n",
    "    p = plane_nos[i]\n",
    "    try:\n",
    "        img.seek(p - 1)\n",
    "        im_array_vip[i, :, :] = np.array(img)\n",
    "        \n",
    "    except:\n",
    "        print('Plane {0} could not be loaded'.format(p))\n",
    "        print('Size of plane {0} in pixels: {0} X {1}'.format(img.height, img.width))\n",
    "        im_array_vip = np.delete(im_array_vip, i, axis = 0)\n",
    "        plane_nos.remove(p)\n",
    "        i -= 1\n",
    "        n = len(plane_nos)\n",
    "        continue\n",
    "        \n",
    "        \n",
    "print('Sst')\n",
    "im_array_sst = np.zeros([n, h, w])\n",
    "img_file = 'S2_Sst_bg_sub2'\n",
    "img = Image.open('{0}\\{1}.tif'.format(folder, img_file))\n",
    "for i in range(n):\n",
    "    print('Loading image {0}'.format(i + 1))\n",
    "    p = plane_nos[i]\n",
    "    try:\n",
    "        img.seek(p - 1)\n",
    "        im_array_sst[i, :, :] = np.array(img)\n",
    "        \n",
    "    except:\n",
    "        print('Plane {0} could not be loaded'.format(p))\n",
    "        print('Size of plane {0} in pixels: {0} X {1}'.format(img.height, img.width))\n",
    "        im_array_sst = np.delete(im_array_sst, i, axis = 0)\n",
    "        plane_nos.remove(p)\n",
    "        i -= 1\n",
    "        n = len(plane_nos)\n",
    "        continue    "
   ]
  },
  {
   "cell_type": "markdown",
   "metadata": {
    "heading_collapsed": true
   },
   "source": [
    "# Render images in napari GUI"
   ]
  },
  {
   "cell_type": "markdown",
   "metadata": {
    "heading_collapsed": true,
    "hidden": true
   },
   "source": [
    "## Raw images"
   ]
  },
  {
   "cell_type": "code",
   "execution_count": 111,
   "metadata": {
    "ExecuteTime": {
     "end_time": "2020-03-27T12:20:52.509953Z",
     "start_time": "2020-03-27T12:20:51.683953Z"
    },
    "hidden": true,
    "run_control": {
     "marked": true
    }
   },
   "outputs": [
    {
     "name": "stdout",
     "output_type": "stream",
     "text": [
      "1.0 seconds\n"
     ]
    }
   ],
   "source": [
    "# Full images\n",
    "t0 = time.time()\n",
    "\n",
    "# viewer = napari.Viewer()\n",
    "viewer.add_image(im_array_gad1, name = 'Gad1', colormap = 'cyan', blending = 'additive')\n",
    "# viewer.add_image(im_array_ndnf, name = 'Ndnf', colormap = 'red', blending = 'additive')\n",
    "# viewer.add_image(im_array_vip, name = 'Vip', colormap = 'green', blending = 'additive')\n",
    "# viewer.add_image(im_array_sst, name = 'Sst', colormap = 'blue', blending = 'additive')\n",
    "\n",
    "t1 = time.time() - t0\n",
    "print('{0} seconds'.format(np.round(t1)))"
   ]
  },
  {
   "cell_type": "markdown",
   "metadata": {
    "heading_collapsed": true,
    "hidden": true
   },
   "source": [
    "## Blurred images"
   ]
  },
  {
   "cell_type": "code",
   "execution_count": 9,
   "metadata": {
    "ExecuteTime": {
     "end_time": "2020-03-18T17:24:22.736641Z",
     "start_time": "2020-03-18T17:23:33.718841Z"
    },
    "hidden": true
   },
   "outputs": [
    {
     "data": {
      "text/plain": [
       "<Image layer 'Gad1_blur' at 0x15913608>"
      ]
     },
     "execution_count": 9,
     "metadata": {},
     "output_type": "execute_result"
    }
   ],
   "source": [
    "viewer.add_image(im_array_gad1_blur, name = 'Gad1_blur', colormap = 'cyan', blending = 'additive')"
   ]
  },
  {
   "cell_type": "markdown",
   "metadata": {
    "heading_collapsed": true,
    "hidden": true
   },
   "source": [
    "## Cell masks"
   ]
  },
  {
   "cell_type": "code",
   "execution_count": null,
   "metadata": {
    "ExecuteTime": {
     "end_time": "2020-03-24T02:28:58.508953Z",
     "start_time": "2020-03-24T02:28:55.326Z"
    },
    "hidden": true
   },
   "outputs": [],
   "source": [
    "# Cells with high mask variance\n",
    "var_thresh = 600\n",
    "indices = np.where(np.logical_or(var_masks[:, 0] > var_thresh, var_masks[:, 1] > var_thresh))[0] + 1\n",
    "print(indices)"
   ]
  },
  {
   "cell_type": "code",
   "execution_count": 112,
   "metadata": {
    "ExecuteTime": {
     "end_time": "2020-03-27T12:21:07.276953Z",
     "start_time": "2020-03-27T12:21:00.916953Z"
    },
    "hidden": true,
    "run_control": {
     "marked": true
    }
   },
   "outputs": [
    {
     "name": "stdout",
     "output_type": "stream",
     "text": [
      "Cell 10, 0.0 seconds\n",
      "Cell 20, 0.0 seconds\n",
      "Cell 30, 1.0 seconds\n",
      "Cell 40, 2.0 seconds\n",
      "Cell 50, 2.0 seconds\n",
      "Cell 60, 3.0 seconds\n",
      "Cell 70, 3.0 seconds\n",
      "Cell 80, 4.0 seconds\n",
      "Cell 90, 5.0 seconds\n",
      "Cell 100, 6.0 seconds\n"
     ]
    }
   ],
   "source": [
    "mask_layer2 = viewer.add_shapes(name = 'Cell masks individual')\n",
    "mask_cell_nos = []\n",
    "cell_mask_nos = {}\n",
    "t0 = time.time()\n",
    "\n",
    "#indices = list(Cell.cell_data.keys())\n",
    "indices = list(Cell.cell_data.keys())[1:100]\n",
    "for cell in indices:\n",
    "    if np.mod(cell, 10) == 0:\n",
    "        print('Cell {0}, {1} seconds'.format(cell, np.round(time.time() - t0)))\n",
    "    planes = Cell.cell_data[cell]['z_planes']\n",
    "    cell_mask_nos[cell] = []\n",
    "    for plane in planes:\n",
    "        mask = Cell.cell_data[cell]['masks'][plane]\n",
    "        mask = np.concatenate((np.ones([mask.shape[0], 1])*plane, mask), axis = 1)\n",
    "        mask_layer2.add(mask, shape_type = 'polygon', opacity = 0.4, \n",
    "                        face_color = 'white', edge_color = 'red', edge_width = 5)\n",
    "        cell_mask_nos[cell] = np.append(cell_mask_nos[cell], len(mask_cell_nos) - 1)\n",
    "        mask_cell_nos = np.append(mask_cell_nos, cell)"
   ]
  },
  {
   "cell_type": "markdown",
   "metadata": {
    "heading_collapsed": true,
    "hidden": true
   },
   "source": [
    "## Lipofuscin ROIs (annotated)"
   ]
  },
  {
   "cell_type": "code",
   "execution_count": 9,
   "metadata": {
    "ExecuteTime": {
     "end_time": "2020-03-26T13:56:31.577953Z",
     "start_time": "2020-03-26T13:56:31.426953Z"
    },
    "hidden": true
   },
   "outputs": [
    {
     "name": "stdout",
     "output_type": "stream",
     "text": [
      "14 rois found\n"
     ]
    },
    {
     "data": {
      "text/plain": [
       "<Shapes layer 'Lipofuscin ROIs' at 0x4bf3eb48>"
      ]
     },
     "execution_count": 9,
     "metadata": {},
     "output_type": "execute_result"
    }
   ],
   "source": [
    "n_rois = len(l_rois)\n",
    "print('{0} rois found'.format(n_rois))\n",
    "viewer.add_shapes(l_rois, name = 'Lipofuscin ROIs',\n",
    "                   shape_type = 'polygon', opacity = 1, face_color = 'white', \n",
    "                   edge_color = 'blue', edge_width = 3)"
   ]
  },
  {
   "cell_type": "markdown",
   "metadata": {
    "heading_collapsed": true,
    "hidden": true
   },
   "source": [
    "## Filtered images"
   ]
  },
  {
   "cell_type": "markdown",
   "metadata": {
    "heading_collapsed": true,
    "hidden": true
   },
   "source": [
    "### Filtering for intensity calculation"
   ]
  },
  {
   "cell_type": "code",
   "execution_count": 46,
   "metadata": {
    "ExecuteTime": {
     "end_time": "2020-03-25T03:15:11.572953Z",
     "start_time": "2020-03-25T03:15:07.754953Z"
    },
    "hidden": true
   },
   "outputs": [
    {
     "data": {
      "text/plain": [
       "<Image layer 'Diff Vip' at 0x16e118c8>"
      ]
     },
     "execution_count": 46,
     "metadata": {},
     "output_type": "execute_result"
    }
   ],
   "source": [
    "viewer.add_image(data = im_diff_ndnf, name = 'Diff ndnf', colormap = 'green', blending = 'additive')\n",
    "viewer.add_image(data = im_diff_sst, name = 'Diff Sst', colormap = 'magenta', blending = 'additive')\n",
    "viewer.add_image(data = im_diff_vip, name = 'Diff Vip', colormap = 'cyan', blending = 'additive')\n",
    "# viewer.add_image(data = im_diff_gad1, name = 'Diff Gad1', colormap = 'cyan', blending = 'additive')\n",
    "\n",
    "# viewer.add_image(data = im_diff_ndnf[0, :, :], name = 'Diff ndnf', colormap = 'magenta', blending = 'additive')\n",
    "# viewer.add_image(data = im_diff_sst[0, :, :], name = 'Diff Sst', colormap = 'green', blending = 'additive')\n",
    "# viewer.add_image(data = im_diff_vip[0, :, :], name = 'Diff Vip', colormap = 'yellow', blending = 'additive')\n",
    "# #viewer.add_image(data = im_diff_gad1[0, :, :], name = 'Diff Gad1', colormap = 'cyan', blending = 'additive')"
   ]
  },
  {
   "cell_type": "markdown",
   "metadata": {
    "hidden": true
   },
   "source": [
    "### Filtering for lipofuscin detection (larger mexican hat filter)"
   ]
  },
  {
   "cell_type": "code",
   "execution_count": 85,
   "metadata": {
    "ExecuteTime": {
     "end_time": "2020-03-26T16:44:25.671953Z",
     "start_time": "2020-03-26T16:44:21.443953Z"
    },
    "hidden": true
   },
   "outputs": [
    {
     "data": {
      "text/plain": [
       "<Image layer 'Diff Vip_lipo' at 0x6736e1c8>"
      ]
     },
     "execution_count": 85,
     "metadata": {},
     "output_type": "execute_result"
    }
   ],
   "source": [
    "viewer.add_image(data = im_diff_ndnf_lipo, name = 'Diff ndnf_lipo', colormap = 'magenta', blending = 'additive')\n",
    "viewer.add_image(data = im_diff_sst_lipo, name = 'Diff Sst_lipo', colormap = 'green', blending = 'additive')\n",
    "viewer.add_image(data = im_diff_vip_lipo, name = 'Diff Vip_lipo', colormap = 'yellow', blending = 'additive')"
   ]
  },
  {
   "cell_type": "markdown",
   "metadata": {
    "heading_collapsed": true,
    "hidden": true
   },
   "source": [
    "## Binarized images"
   ]
  },
  {
   "cell_type": "markdown",
   "metadata": {
    "heading_collapsed": true,
    "hidden": true
   },
   "source": [
    "### For intensity calculation"
   ]
  },
  {
   "cell_type": "code",
   "execution_count": 66,
   "metadata": {
    "ExecuteTime": {
     "end_time": "2020-03-27T07:41:47.876953Z",
     "start_time": "2020-03-27T07:41:43.272953Z"
    },
    "hidden": true
   },
   "outputs": [
    {
     "data": {
      "text/plain": [
       "<Image layer 'Binary Vip' at 0x1998bc88>"
      ]
     },
     "execution_count": 66,
     "metadata": {},
     "output_type": "execute_result"
    }
   ],
   "source": [
    "viewer.add_image(data = im_bin_ndnf[4, :, :], name = 'Binary ndnf', colormap = 'green', blending = 'additive')\n",
    "viewer.add_image(data = im_bin_sst[4, :, :], name = 'Binary Sst', colormap = 'magenta', blending = 'additive')\n",
    "viewer.add_image(data = im_bin_vip[4, :, :], name = 'Binary Vip', colormap = 'cyan', blending = 'additive')"
   ]
  },
  {
   "cell_type": "markdown",
   "metadata": {
    "heading_collapsed": true,
    "hidden": true
   },
   "source": [
    "### For lipofuscin detection"
   ]
  },
  {
   "cell_type": "code",
   "execution_count": 86,
   "metadata": {
    "ExecuteTime": {
     "end_time": "2020-03-26T16:44:58.664953Z",
     "start_time": "2020-03-26T16:44:53.876953Z"
    },
    "hidden": true
   },
   "outputs": [
    {
     "data": {
      "text/plain": [
       "<Image layer 'Binary Vip lipo' at 0x604debc8>"
      ]
     },
     "execution_count": 86,
     "metadata": {},
     "output_type": "execute_result"
    }
   ],
   "source": [
    "viewer.add_image(data = im_bin_ndnf_lipo, name = 'Binary ndnf lipo', colormap = 'magenta', blending = 'additive')\n",
    "viewer.add_image(data = im_bin_sst_lipo, name = 'Binary Sst lipo', colormap = 'green', blending = 'additive')\n",
    "viewer.add_image(data = im_bin_vip_lipo, name = 'Binary Vip lipo', colormap = 'yellow', blending = 'additive')"
   ]
  },
  {
   "cell_type": "markdown",
   "metadata": {
    "heading_collapsed": true,
    "hidden": true
   },
   "source": [
    "## Detected lipofuscin pixels"
   ]
  },
  {
   "cell_type": "code",
   "execution_count": 84,
   "metadata": {
    "ExecuteTime": {
     "end_time": "2020-03-26T16:40:32.549953Z",
     "start_time": "2020-03-26T16:40:30.824953Z"
    },
    "hidden": true
   },
   "outputs": [
    {
     "data": {
      "text/plain": [
       "<Image layer 'Detected lipofuscin [1]' at 0x51297dc8>"
      ]
     },
     "execution_count": 84,
     "metadata": {},
     "output_type": "execute_result"
    }
   ],
   "source": [
    "viewer.add_image(data = im_array_lipo, name = 'Detected lipofuscin', colormap = 'gray', blending = 'additive')"
   ]
  },
  {
   "cell_type": "markdown",
   "metadata": {
    "heading_collapsed": true,
    "hidden": true
   },
   "source": [
    "## Cell masks after removing lipofuscin (check)"
   ]
  },
  {
   "cell_type": "code",
   "execution_count": 41,
   "metadata": {
    "ExecuteTime": {
     "end_time": "2020-03-24T19:42:54.540953Z",
     "start_time": "2020-03-24T19:42:53.064953Z"
    },
    "hidden": true,
    "scrolled": true
   },
   "outputs": [
    {
     "name": "stdout",
     "output_type": "stream",
     "text": [
      "Cell 10\n",
      "Cell 20\n",
      "Cell 30\n",
      "Cell 40\n",
      "Cell 50\n",
      "Cell 60\n",
      "Cell 70\n",
      "Cell 80\n",
      "Cell 90\n",
      "Cell 100\n",
      "Cell 110\n",
      "Cell 120\n",
      "Cell 130\n",
      "Cell 140\n",
      "Cell 150\n",
      "Cell 160\n",
      "Cell 170\n",
      "Cell 180\n",
      "Cell 190\n",
      "Cell 200\n",
      "Cell 210\n",
      "Cell 220\n",
      "Cell 230\n",
      "Cell 240\n",
      "Cell 250\n",
      "Cell 260\n",
      "Cell 270\n",
      "Cell 280\n",
      "Cell 290\n",
      "Cell 300\n",
      "Cell 310\n",
      "Cell 320\n",
      "Cell 330\n",
      "Cell 340\n",
      "Cell 350\n"
     ]
    },
    {
     "data": {
      "text/plain": [
       "<Image layer 'Cell pixels' at 0x608a8208>"
      ]
     },
     "execution_count": 41,
     "metadata": {},
     "output_type": "execute_result"
    }
   ],
   "source": [
    "im_array_cells = np.zeros(im_array_ndnf.shape)\n",
    "\n",
    "\n",
    "indices = list(Cell.cell_data.keys())\n",
    "for cell in indices:\n",
    "    if np.mod(cell, 10) == 0:\n",
    "        print('Cell {0}'.format(cell))\n",
    "    planes = Cell.cell_data[cell]['z_planes']\n",
    "    for plane in planes:\n",
    "        if plane + 1 in list(plane_nos):\n",
    "            mask = cell_pixels_no_lipo[cell][plane]\n",
    "            mask = np.concatenate((np.ones([1, mask.shape[1]])*plane, mask))\n",
    "            mask = mask.astype(int)\n",
    "            im_array_cells[mask[0, :], mask[1, :], mask[2, :]] = np.ones(mask.shape[1])\n",
    "        \n",
    "\n",
    "viewer.add_image(data = im_array_cells, name = 'Cell pixels', colormap = 'blue', blending = 'additive')"
   ]
  },
  {
   "cell_type": "code",
   "execution_count": 39,
   "metadata": {
    "ExecuteTime": {
     "end_time": "2020-03-24T19:42:11.549953Z",
     "start_time": "2020-03-24T19:42:11.546953Z"
    },
    "hidden": true
   },
   "outputs": [
    {
     "data": {
      "text/plain": [
       "[1, 2]"
      ]
     },
     "execution_count": 39,
     "metadata": {},
     "output_type": "execute_result"
    }
   ],
   "source": [
    "list(plane_nos)"
   ]
  },
  {
   "cell_type": "markdown",
   "metadata": {
    "hidden": true
   },
   "source": [
    "## Cells with significant expression"
   ]
  },
  {
   "cell_type": "code",
   "execution_count": 93,
   "metadata": {
    "ExecuteTime": {
     "end_time": "2020-03-27T11:19:08.535953Z",
     "start_time": "2020-03-27T11:19:08.406953Z"
    },
    "hidden": true,
    "run_control": {
     "marked": true
    }
   },
   "outputs": [],
   "source": [
    "ndnf_mask_layer = viewer.add_shapes(name = 'Ndnf+ cells')\n",
    "\n",
    "#indices = list(Cell.cell_data.keys())\n",
    "indices = [120]\n",
    "for cell in indices:\n",
    "    \n",
    "    if pv_ndnf3[cell] > 0.05:\n",
    "        planes = Cell.cell_data[cell + 1]['z_planes']\n",
    "        for plane in planes:\n",
    "            mask = Cell.cell_data[cell + 1]['masks'][plane]\n",
    "            mask = np.concatenate((np.ones([mask.shape[0], 1])*plane, mask), axis = 1)\n",
    "            ndnf_mask_layer.add(mask, shape_type = 'polygon', opacity = 0.2, face_color = 'white', edge_color = 'magenta', edge_width = 3)"
   ]
  },
  {
   "cell_type": "code",
   "execution_count": 101,
   "metadata": {
    "ExecuteTime": {
     "end_time": "2020-03-27T12:04:58.520953Z",
     "start_time": "2020-03-27T12:04:58.406953Z"
    },
    "hidden": true
   },
   "outputs": [],
   "source": [
    "indices = [82]\n",
    "vip_mask_layer = viewer.add_shapes(name = 'Vip+ cells')\n",
    "\n",
    "#indices = list(Cell.cell_data.keys())\n",
    "\n",
    "for cell in indices:\n",
    "    \n",
    "    if pv_vip3[cell] > 0.05:\n",
    "        planes = Cell.cell_data[cell + 1]['z_planes']\n",
    "        for plane in planes:\n",
    "            mask = Cell.cell_data[cell + 1]['masks'][plane]\n",
    "            mask = np.concatenate((np.ones([mask.shape[0], 1])*plane, mask), axis = 1)\n",
    "            vip_mask_layer.add(mask, shape_type = 'polygon', opacity = 0.2, face_color = 'white', edge_color = 'yellow', edge_width = 3)"
   ]
  },
  {
   "cell_type": "code",
   "execution_count": 98,
   "metadata": {
    "ExecuteTime": {
     "end_time": "2020-03-27T11:33:37.636953Z",
     "start_time": "2020-03-27T11:33:37.543953Z"
    },
    "hidden": true
   },
   "outputs": [],
   "source": [
    "indices = [132]\n",
    "sst_mask_layer = viewer.add_shapes(name = 'Sst+ cells')\n",
    "\n",
    "#indices = list(Cell.cell_data.keys())\n",
    "\n",
    "for cell in indices:\n",
    "    \n",
    "    if pv_sst3[cell] < 0.05:\n",
    "        planes = Cell.cell_data[cell + 1]['z_planes']\n",
    "        for plane in planes:\n",
    "            mask = Cell.cell_data[cell + 1]['masks'][plane]\n",
    "            mask = np.concatenate((np.ones([mask.shape[0], 1])*plane, mask), axis = 1)\n",
    "            sst_mask_layer.add(mask, shape_type = 'polygon', opacity = 0.2, face_color = 'white', edge_color = 'green', edge_width = 3)"
   ]
  },
  {
   "cell_type": "markdown",
   "metadata": {
    "heading_collapsed": true
   },
   "source": [
    "# Cell segmentation"
   ]
  },
  {
   "cell_type": "markdown",
   "metadata": {
    "heading_collapsed": true,
    "hidden": true
   },
   "source": [
    "## Load existing masks"
   ]
  },
  {
   "cell_type": "code",
   "execution_count": 3,
   "metadata": {
    "ExecuteTime": {
     "end_time": "2020-03-27T02:58:54.885953Z",
     "start_time": "2020-03-27T02:58:54.854953Z"
    },
    "hidden": true
   },
   "outputs": [
    {
     "name": "stdout",
     "output_type": "stream",
     "text": [
      "357 cells found\n"
     ]
    }
   ],
   "source": [
    "save_loc = 'G:\\\\Shared drives\\\\as_share\\\\HCR\\\\HCR 3.11'\n",
    "save_file= 'S5_data.pkl'\n",
    "try:\n",
    "    with open('{0}\\{1}'.format(save_loc, save_file), 'rb') as f:\n",
    "        Cell.cell_data = pkl.load(f)\n",
    "        indices = list(Cell.cell_data.keys())\n",
    "        if not np.max(indices) == len(indices):\n",
    "            print('Re-numbering cells to be consecutive')\n",
    "            Cell.cell_data_temp = {}\n",
    "            for i in range(len(indices)):\n",
    "                Cell.cell_data_temp[i + 1] = Cell.cell_data[indices[i]]\n",
    "                Cell.cell_data_temp[i + 1]['cell_id'] = i + 1\n",
    "            Cell.cell_data = Cell.cell_data_temp \n",
    "            with open('{0}\\{1}'.format(save_loc, save_file), 'wb') as f:\n",
    "                pkl.dump(Cell.cell_data, f)\n",
    "            Cell.n_cells = i + 1\n",
    "        else:\n",
    "            Cell.n_cells = len(indices)\n",
    "    print('{0} cells found'.format(Cell.n_cells))\n",
    "except:\n",
    "    print('No data found')"
   ]
  },
  {
   "cell_type": "markdown",
   "metadata": {
    "heading_collapsed": true,
    "hidden": true
   },
   "source": [
    "## If loading a subset of planes, sub-select cells"
   ]
  },
  {
   "cell_type": "code",
   "execution_count": 5,
   "metadata": {
    "ExecuteTime": {
     "end_time": "2020-03-26T13:55:47.257953Z",
     "start_time": "2020-03-26T13:55:47.250953Z"
    },
    "hidden": true
   },
   "outputs": [
    {
     "name": "stdout",
     "output_type": "stream",
     "text": [
      "[  0   1   2   3   4   5   6   7   8   9  11  12  13  14  15  16  17  18\n",
      "  19  20  21  22  23  24  25  26  28  30  31  32  33  34  35  37  38  39\n",
      "  40  41  42  43  44  48  49  50  51  52  53  54  55  56  57  58  59  60\n",
      "  61  62  63  64  65  66  67  68  69  70  71  72  73  74  75  76  77  78\n",
      "  80  81  82  83  84  85  86  87  88  89  90  91  92  93  95  96  97  99\n",
      " 102 104 105 106 110 111 120 125 132 140 141 143 145 146 165]\n"
     ]
    }
   ],
   "source": [
    "cells_sub = []\n",
    "for cell in range(Cell.n_cells):\n",
    "    flag = 0\n",
    "    cell_no = cell + 1\n",
    "    cp = Cell.cell_data[cell_no]['z_planes']\n",
    "    for p in cp:\n",
    "        if p + 1 not in list(plane_nos):\n",
    "            flag = 1\n",
    "    if flag == 0:\n",
    "        cells_sub = np.append(cells_sub, cell)\n",
    "\n",
    "cells_sub = np.array(cells_sub)\n",
    "cells_sub = cells_sub.astype(int)\n",
    "print(cells_sub)"
   ]
  },
  {
   "cell_type": "markdown",
   "metadata": {
    "heading_collapsed": true,
    "hidden": true
   },
   "source": [
    "## Get pixels in cell masks"
   ]
  },
  {
   "cell_type": "code",
   "execution_count": 6,
   "metadata": {
    "ExecuteTime": {
     "end_time": "2020-04-02T00:00:15.063467Z",
     "start_time": "2020-04-02T00:00:14.658467Z"
    },
    "hidden": true,
    "run_control": {
     "marked": true
    }
   },
   "outputs": [
    {
     "ename": "NameError",
     "evalue": "name 'Cell' is not defined",
     "output_type": "error",
     "traceback": [
      "\u001b[1;31m---------------------------------------------------------------------------\u001b[0m",
      "\u001b[1;31mNameError\u001b[0m                                 Traceback (most recent call last)",
      "\u001b[1;32m<ipython-input-6-23aa76d25bc1>\u001b[0m in \u001b[0;36m<module>\u001b[1;34m\u001b[0m\n\u001b[0;32m     15\u001b[0m             \u001b[0mcell_no\u001b[0m \u001b[1;33m=\u001b[0m \u001b[0mcell\u001b[0m\u001b[1;33m\u001b[0m\u001b[1;33m\u001b[0m\u001b[0m\n\u001b[0;32m     16\u001b[0m \u001b[1;31m#             cell_no = cell + 1\u001b[0m\u001b[1;33m\u001b[0m\u001b[1;33m\u001b[0m\u001b[1;33m\u001b[0m\u001b[0m\n\u001b[1;32m---> 17\u001b[1;33m             \u001b[0mdata\u001b[0m \u001b[1;33m=\u001b[0m \u001b[0mCell\u001b[0m\u001b[1;33m.\u001b[0m\u001b[0mcell_data\u001b[0m\u001b[1;33m[\u001b[0m\u001b[0mcell_no\u001b[0m\u001b[1;33m]\u001b[0m\u001b[1;33m\u001b[0m\u001b[1;33m\u001b[0m\u001b[0m\n\u001b[0m\u001b[0;32m     18\u001b[0m             \u001b[0mplanes\u001b[0m \u001b[1;33m=\u001b[0m \u001b[0mdata\u001b[0m\u001b[1;33m[\u001b[0m\u001b[1;34m'z_planes'\u001b[0m\u001b[1;33m]\u001b[0m\u001b[1;33m\u001b[0m\u001b[1;33m\u001b[0m\u001b[0m\n\u001b[0;32m     19\u001b[0m             \u001b[1;32mfor\u001b[0m \u001b[0mplane\u001b[0m \u001b[1;32min\u001b[0m \u001b[0mplanes\u001b[0m\u001b[1;33m:\u001b[0m\u001b[1;33m\u001b[0m\u001b[1;33m\u001b[0m\u001b[0m\n",
      "\u001b[1;31mNameError\u001b[0m: name 'Cell' is not defined"
     ]
    }
   ],
   "source": [
    "save_loc = 'G:\\\\Shared drives\\\\as_share\\\\HCR\\\\HCR 3.11\\S5'\n",
    "#save_file = 'S2_cell_pixels.pkl'\n",
    "save_file = 'S5_mask_vertices.pkl'\n",
    "\n",
    "t0 = time.time()\n",
    "\n",
    "try:\n",
    "    with open('{0}\\\\{1}'.format(save_loc, save_file), 'rb') as f:\n",
    "        mask_vertices = pkl.load(f)\n",
    "        cells = mask_vertices.keys()\n",
    "#         cells = cells_sub\n",
    "        x = 0\n",
    "        all_cell_pixels = np.zeros([1, 3])\n",
    "        for cell in cells:\n",
    "            cell_no = cell\n",
    "#             cell_no = cell + 1\n",
    "            data = Cell.cell_data[cell_no]\n",
    "            planes = data['z_planes']\n",
    "            for plane in planes:\n",
    "                xvals = np.reshape(mask_vertices[cell_no][plane][0], [-1, 1])\n",
    "                yvals = np.reshape(mask_vertices[cell_no][plane][1], [-1, 1])\n",
    "                zvals = np.ones([len(xvals), 1])*plane\n",
    "                coords = np.concatenate((zvals, xvals, yvals), axis = 1)\n",
    "                all_cell_pixels = np.concatenate((all_cell_pixels, coords), axis = 0)\n",
    "        \n",
    "        all_cell_pixels = all_cell_pixels[1:, :].astype(int)\n",
    "            \n",
    "        print('Data loaded')\n",
    "        \n",
    "except IOError:\n",
    "    print('No saved data found, calculating mask pixels')\n",
    "#     xv = range(w)\n",
    "#     yv = range(h)\n",
    "#     coord_array = np.array(np.meshgrid(xv, yv))\n",
    "\n",
    "#     points = np.zeros([h*w, 2])\n",
    "#     p = 0\n",
    "#     for i in range(h):\n",
    "#         for j in range(w):\n",
    "#             points[p, 1] = coord_array[0, i, j]\n",
    "#             points[p, 0] = coord_array[1, i, j]\n",
    "#             p += 1\n",
    "\n",
    "    no_cells = len(Cell.cell_data.keys())\n",
    "    mask_vertices = {}\n",
    "    for cell in range(no_cells):\n",
    "        if np.mod(cell, 2) == 0:\n",
    "            print('Cell {0}: {1} seconds'.format(cell, np.round(time.time() - t0)))\n",
    "        cell_no = cell + 1\n",
    "        mask_vertices[cell_no] = {}\n",
    "        cell_dict = Cell.cell_data[cell_no]\n",
    "        masks = cell_dict['masks']\n",
    "        z_planes = cell_dict['z_planes']\n",
    "        for plane in z_planes:\n",
    "\n",
    "            vertices = masks[plane]\n",
    "            path = mpltpath.Path(vertices)\n",
    "            mask = path.contains_points(points)\n",
    "            mask = np.reshape(mask, [h, w])\n",
    "            mask_vertices[cell_no][plane] = np.where(mask)\n",
    "    \n",
    "    with open('{0}\\\\{1}'.format(save_loc, save_file), 'wb') as f:\n",
    "        pkl.dump(mask_vertices, f)"
   ]
  },
  {
   "cell_type": "code",
   "execution_count": 35,
   "metadata": {
    "ExecuteTime": {
     "end_time": "2020-03-21T19:56:50.282418Z",
     "start_time": "2020-03-21T19:56:49.744618Z"
    },
    "hidden": true
   },
   "outputs": [],
   "source": [
    "with open('{0}\\\\{1}'.format(save_loc, save_file), 'wb') as f:\n",
    "    pkl.dump(mask_vertices, f)"
   ]
  },
  {
   "cell_type": "markdown",
   "metadata": {
    "heading_collapsed": true,
    "hidden": true
   },
   "source": [
    "## Semi-manual segmentation using Gad1 channel"
   ]
  },
  {
   "cell_type": "markdown",
   "metadata": {
    "heading_collapsed": true,
    "hidden": true
   },
   "source": [
    "### Data structure to store cell masks"
   ]
  },
  {
   "cell_type": "code",
   "execution_count": 5,
   "metadata": {
    "ExecuteTime": {
     "end_time": "2020-03-21T21:20:54.889062Z",
     "start_time": "2020-03-21T21:20:54.875099Z"
    },
    "hidden": true
   },
   "outputs": [],
   "source": [
    "class Cell:\n",
    "    n_cells = 1\n",
    "    cell_data = {}\n",
    "    \n",
    "    def __init__(self, cell_no):\n",
    "        \n",
    "        self.cell_no = cell_no\n",
    "        self.z_planes = []\n",
    "        self.no_planes = 0\n",
    "        self.masks = {}\n",
    "        self.c_vals = np.zeros(1)\n",
    "        print('Cell #{0} created'.format(Cell.n_cells))\n",
    "        \n",
    "    def add_mask(self, z_plane, mask):\n",
    "        self.z_planes.append(z_plane)\n",
    "        self.no_planes += 1\n",
    "        self.masks[z_plane] = mask\n",
    "            \n",
    "    def save_cell(self):\n",
    "        Cell.cell_data[self.cell_no] = {'cell_id': self.cell_no,\n",
    "                                 'z_planes': self.z_planes,\n",
    "                                 'masks': self.masks,\n",
    "                                 'no_planes': self.no_planes,\n",
    "                                 'c_vals':self.c_vals}"
   ]
  },
  {
   "cell_type": "markdown",
   "metadata": {
    "heading_collapsed": true,
    "hidden": true
   },
   "source": [
    "### Napari keybindings"
   ]
  },
  {
   "cell_type": "code",
   "execution_count": 10,
   "metadata": {
    "ExecuteTime": {
     "end_time": "2020-03-21T13:51:38.953392Z",
     "start_time": "2020-03-21T13:51:38.677592Z"
    },
    "hidden": true,
    "run_control": {
     "marked": true
    }
   },
   "outputs": [],
   "source": [
    "mask_layer = viewer.add_shapes(data = None, shape_type = 'polygon', opacity = 0.2, face_color = 'white', edge_color = 'red', edge_width = 3)\n",
    "point_layer = viewer.add_points(data = None)\n",
    "save_loc = 'G:{0}Shared drives{0}as_share{0}HCR{0}HCR 3.11'.format(sep)\n",
    "save_file = 'S5_data.pkl'\n",
    "\n",
    "@viewer.bind_key('n', overwrite = True)\n",
    "def new_cell(viewer):\n",
    "    global cell1 \n",
    "    cell1 = Cell(Cell.n_cells)\n",
    "    print(Cell.n_cells)\n",
    "    Cell.n_cells += 1\n",
    "    \n",
    "    \n",
    "@viewer.bind_key('d', overwrite = True)\n",
    "def get_mask(viewer):\n",
    "    center = point_layer.data[-1, 1:] # Last drawn point\n",
    "    z_plane = point_layer.data[-1, 0].astype(int)\n",
    "    image = im_array_ndnf_blur[z_plane, :, :]\n",
    "    cell_radius_px = 70\n",
    "\n",
    "    boundary = disc_roi(image, center, z_plane, cell_radius_px)\n",
    "\n",
    "    mask_layer.add(boundary, shape_type= 'polygon')\n",
    "    \n",
    "    \n",
    "@viewer.bind_key('m', overwrite = True)\n",
    "def add_mask(viewer):\n",
    "    \n",
    "    z_plane = mask_layer.data[-1][0, 0]\n",
    "    mask = mask_layer.data[-1][:, 1:]\n",
    "    cell1.add_mask(z_plane, mask)\n",
    "    \n",
    "@viewer.bind_key('y', overwrite = True)\n",
    "def del_cell(viewer):\n",
    "    \n",
    "    mask_no = mask_layer2.selected_data[0]\n",
    "    cell = mask_cell_nos[mask_no]\n",
    "    z_plane = mask_layer2.coordinates[0]\n",
    "    \n",
    "    Cell.cell_data[cell]['masks'][z_plane] = mask_layer2.data[mask_no][:, 1:]\n",
    "    with open('{0}\\{1}'.format(save_loc, save_file), 'wb') as f:\n",
    "                pkl.dump(Cell.cell_data, f)\n",
    "    \n",
    "    mask = Cell.cell_data[cell]['masks'][z_plane]\n",
    "    n_vertices = mask.shape[0]\n",
    "    mask = np.concatenate([np.ones([n_vertices, 1])*z_plane, mask], axis = 1)\n",
    "    mask_layer2.add(mask, shape_type = 'polygon', opacity = 0.4, \n",
    "                    face_color = 'white', edge_color = 'yellow', edge_width = 5)\n",
    "    \n",
    "    \n",
    "@viewer.bind_key('k', overwrite = True)\n",
    "def save_cell(viewer):\n",
    "    cell1.save_cell()\n",
    "    \n",
    "@viewer.bind_key('Control-s', overwrite = True)\n",
    "def save_all(viewer):\n",
    "    with open('{0}\\{1}'.format(save_loc, save_file), 'wb') as f:\n",
    "                pkl.dump(Cell.cell_data, f)"
   ]
  },
  {
   "cell_type": "code",
   "execution_count": 12,
   "metadata": {
    "ExecuteTime": {
     "end_time": "2020-03-21T13:56:21.655994Z",
     "start_time": "2020-03-21T13:56:21.604994Z"
    },
    "hidden": true
   },
   "outputs": [
    {
     "ename": "IndexError",
     "evalue": "list index out of range",
     "output_type": "error",
     "traceback": [
      "\u001b[1;31m---------------------------------------------------------------------------\u001b[0m",
      "\u001b[1;31mIndexError\u001b[0m                                Traceback (most recent call last)",
      "\u001b[1;32m<ipython-input-12-1827c3883581>\u001b[0m in \u001b[0;36m<module>\u001b[1;34m\u001b[0m\n\u001b[1;32m----> 1\u001b[1;33m \u001b[0mdel_cell\u001b[0m\u001b[1;33m(\u001b[0m\u001b[0mviewer\u001b[0m\u001b[1;33m)\u001b[0m\u001b[1;33m\u001b[0m\u001b[1;33m\u001b[0m\u001b[0m\n\u001b[0m",
      "\u001b[1;32m<ipython-input-10-ee168cdb9dcb>\u001b[0m in \u001b[0;36mdel_cell\u001b[1;34m(viewer)\u001b[0m\n\u001b[0;32m     34\u001b[0m \u001b[1;32mdef\u001b[0m \u001b[0mdel_cell\u001b[0m\u001b[1;33m(\u001b[0m\u001b[0mviewer\u001b[0m\u001b[1;33m)\u001b[0m\u001b[1;33m:\u001b[0m\u001b[1;33m\u001b[0m\u001b[1;33m\u001b[0m\u001b[0m\n\u001b[0;32m     35\u001b[0m \u001b[1;33m\u001b[0m\u001b[0m\n\u001b[1;32m---> 36\u001b[1;33m     \u001b[0mmask_no\u001b[0m \u001b[1;33m=\u001b[0m \u001b[0mmask_layer2\u001b[0m\u001b[1;33m.\u001b[0m\u001b[0mselected_data\u001b[0m\u001b[1;33m[\u001b[0m\u001b[1;36m0\u001b[0m\u001b[1;33m]\u001b[0m\u001b[1;33m\u001b[0m\u001b[1;33m\u001b[0m\u001b[0m\n\u001b[0m\u001b[0;32m     37\u001b[0m     \u001b[0mcell\u001b[0m \u001b[1;33m=\u001b[0m \u001b[0mmask_cell_nos\u001b[0m\u001b[1;33m[\u001b[0m\u001b[0mmask_no\u001b[0m\u001b[1;33m]\u001b[0m\u001b[1;33m\u001b[0m\u001b[1;33m\u001b[0m\u001b[0m\n\u001b[0;32m     38\u001b[0m     \u001b[0mz_plane\u001b[0m \u001b[1;33m=\u001b[0m \u001b[0mmask_layer2\u001b[0m\u001b[1;33m.\u001b[0m\u001b[0mcoordinates\u001b[0m\u001b[1;33m[\u001b[0m\u001b[1;36m0\u001b[0m\u001b[1;33m]\u001b[0m\u001b[1;33m\u001b[0m\u001b[1;33m\u001b[0m\u001b[0m\n",
      "\u001b[1;31mIndexError\u001b[0m: list index out of range"
     ]
    }
   ],
   "source": [
    "del_cell(viewer)"
   ]
  },
  {
   "cell_type": "markdown",
   "metadata": {
    "heading_collapsed": true,
    "hidden": true
   },
   "source": [
    "### One click segmentation"
   ]
  },
  {
   "cell_type": "markdown",
   "metadata": {
    "hidden": true
   },
   "source": [
    "#### View saved masks"
   ]
  },
  {
   "cell_type": "code",
   "execution_count": 161,
   "metadata": {
    "ExecuteTime": {
     "end_time": "2020-03-19T23:51:48.243570Z",
     "start_time": "2020-03-19T23:51:48.230570Z"
    },
    "hidden": true
   },
   "outputs": [
    {
     "data": {
      "text/plain": [
       "357"
      ]
     },
     "execution_count": 161,
     "metadata": {},
     "output_type": "execute_result"
    }
   ],
   "source": [
    "Cell.n_cells"
   ]
  },
  {
   "cell_type": "code",
   "execution_count": 72,
   "metadata": {
    "ExecuteTime": {
     "end_time": "2020-03-18T21:26:30.455529Z",
     "start_time": "2020-03-18T21:26:30.419329Z"
    },
    "hidden": true
   },
   "outputs": [],
   "source": [
    "with open('{0}\\{1}'.format(save_loc, save_file), 'wb') as f:\n",
    "        pkl.dump(Cell.cell_data, f)"
   ]
  },
  {
   "cell_type": "code",
   "execution_count": 13,
   "metadata": {
    "ExecuteTime": {
     "end_time": "2020-03-21T14:23:04.306803Z",
     "start_time": "2020-03-21T14:23:04.236203Z"
    },
    "hidden": true,
    "run_control": {
     "marked": true
    }
   },
   "outputs": [],
   "source": [
    "# Check number of masks per cell, and variance of mask centers\n",
    "indices = list(Cell.cell_data.keys())\n",
    "n_planes = np.zeros(len(indices)).astype(int)\n",
    "var_masks = np.zeros([len(indices), 2])\n",
    "\n",
    "if not np.max(indices) == len(indices):\n",
    "    print('{0} cells not recorded'.format(np.max(indices) - len(indices)))\n",
    "    print('Re-numbering cells to be consecutive')\n",
    "    Cell.cell_data_temp = {}\n",
    "    for i in range(len(indices)):\n",
    "        Cell.cell_data_temp[i + 1] = Cell.cell_data[indices[i]]\n",
    "        Cell.cell_data_temp[i + 1]['cell_id'] = i + 1\n",
    "    Cell.cell_data = Cell.cell_data_temp \n",
    "    with open('{0}\\{1}'.format(save_loc, save_file), 'wb') as f:\n",
    "        pkl.dump(Cell.cell_data, f)\n",
    "        \n",
    "Cell.n_cells = len(indices)\n",
    "        \n",
    "for i in range(len(indices)):\n",
    "    z_planes = Cell.cell_data[i + 1]['z_planes']\n",
    "    n_planes[i] = len(z_planes)\n",
    "    masks = Cell.cell_data[i + 1]['masks']\n",
    "    centers = np.zeros([n_planes[i], 2])\n",
    "    for j in range(n_planes[i]):\n",
    "        centers[j, 0] = np.mean(masks[z_planes[j]][:, 0])\n",
    "        centers[j, 1] = np.mean(masks[z_planes[j]][:, 1])\n",
    "    var_masks[i, 0] = np.var(centers[:, 0])\n",
    "    var_masks[i, 1] = np.var(centers[:, 1])\n",
    "    \n",
    "    "
   ]
  },
  {
   "cell_type": "code",
   "execution_count": 14,
   "metadata": {
    "ExecuteTime": {
     "end_time": "2020-03-21T14:23:05.464403Z",
     "start_time": "2020-03-21T14:23:05.368803Z"
    },
    "hidden": true
   },
   "outputs": [
    {
     "data": {
      "text/plain": [
       "<matplotlib.legend.Legend at 0x16780248>"
      ]
     },
     "execution_count": 14,
     "metadata": {},
     "output_type": "execute_result"
    }
   ],
   "source": [
    "fig, ax = plt.subplots(nrows = 2, ncols = 1, sharex = True, figsize = [15, 5])\n",
    "ax[0].plot(n_planes)\n",
    "ax[0].set_xlabel('Cell number')\n",
    "ax[0].set_ylabel('Number of masks')\n",
    "ax[1].plot(var_masks[:, 0], label = 'y_values')\n",
    "ax[1].plot(var_masks[:, 1], label = 'x_values')\n",
    "ax[1].set_ylabel('Variance of centers')\n",
    "ax[1].plot(range(len(indices)), np.ones(len(indices))*8, '--', color = 'k')\n",
    "ax[1].legend()"
   ]
  },
  {
   "cell_type": "markdown",
   "metadata": {
    "hidden": true
   },
   "source": [
    "#### Functions"
   ]
  },
  {
   "cell_type": "code",
   "execution_count": 9,
   "metadata": {
    "ExecuteTime": {
     "end_time": "2020-03-21T03:04:25.932570Z",
     "start_time": "2020-03-21T03:04:25.895570Z"
    },
    "hidden": true
   },
   "outputs": [],
   "source": [
    "def disc_roi(image, center, z_plane, cell_radius_px, n_theta = 30, thresh = 0.5):\n",
    "    \n",
    "    full_radius = round(1.3*cell_radius_px)\n",
    "    thetas = np.linspace(0, 2*np.pi, n_theta)\n",
    "    [x, y] = center\n",
    "    \n",
    "    \n",
    "    line_profiles = np.zeros([full_radius, n_theta])\n",
    "    \n",
    "    r_threshold_cross = np.zeros(n_theta)\n",
    "    \n",
    "    for t in range(n_theta):\n",
    "        theta = thetas[t]\n",
    "        f = profile_line(image, (x, y), (x + full_radius*np.cos(theta), y + full_radius*np.sin(theta)))\n",
    "        r_threshold_cross[t] = find_first_cross(f, thresh)\n",
    "        line_profiles[:, t] = -1*np.abs(np.array(range(full_radius)) - r_threshold_cross[t]) + full_radius;\n",
    "        \n",
    "    #path = find_path(line_profiles)\n",
    "   \n",
    "    #boundary = np.zeros([2, n_theta])\n",
    "    #boundary[0, :] = x + np.multiply(path, np.cos(thetas))\n",
    "    #boundary[1, :] = y + np.multiply(path, np.sin(thetas))\n",
    "    #boundary = boundary.astype(int)\n",
    "    \n",
    "    angular_dist = np.argmax(line_profiles, axis = 0)\n",
    "    boundary = np.zeros([n_theta, 3])\n",
    "    boundary[:, 0] = np.ones(n_theta)*z_plane\n",
    "    boundary[:, 1] = x + np.multiply(angular_dist, np.cos(thetas))\n",
    "    boundary[:, 2] = y + np.multiply(angular_dist, np.sin(thetas))\n",
    "    \n",
    "    \n",
    "    \n",
    "    return boundary\n",
    "\n",
    "def find_first_cross(line_profile, thresh):\n",
    "    \n",
    "    # Assumes line profile goes from inside cell to outside\n",
    "    max_val = np.max(line_profile)\n",
    "    max_idx = np.argmax(line_profile)\n",
    "    min_val_out = np.min(line_profile[max_idx:]) # Minimum intensity outside cell\n",
    "    \n",
    "    thresh_val = min_val_out + thresh*(max_val - min_val_out)\n",
    "    r_cross = max_idx + np.where(line_profile[max_idx:] < thresh_val)[0][0]\n",
    "    \n",
    "    return r_cross\n",
    "\n",
    "def find_path(line_profiles):\n",
    "    \n",
    "    # line_profiles should be of shape radius X n_theta\n",
    "    radius = line_profiles.shape[0]\n",
    "    n_theta = line_profiles.shape[1]\n",
    "    \n",
    "    pointer = np.zeros([radius, n_theta])\n",
    "    value = np.zeros([radius, n_theta])\n",
    "    value[:, 0] = line_profiles[:, 0]\n",
    "    \n",
    "    for i in range(1, n_theta):\n",
    "        for j in range(1, radius - 1):\n",
    "            \n",
    "            M = np.max(value[j-1:j+1, i-1])\n",
    "            ind = np.argmax(value[j-1:j+1, i-1])\n",
    "            \n",
    "            value[j, i] = M + line_profiles[j, i]\n",
    "            pointer[j,i] = j + ind - 1\n",
    "            \n",
    "    # Second traverse to minimize boundary effect\n",
    "    pointer = np.zeros([radius, n_theta])\n",
    "    value[:, 1] = value[:, -1]\n",
    "    \n",
    "    for i in range(1, n_theta):\n",
    "        for j in range(1, radius - 1):\n",
    "            \n",
    "            M = np.max(value[j-1:j+1, i-1])\n",
    "            ind = np.argmax(value[j-1:j+1, i-1])\n",
    "            \n",
    "            value[j, i] = M + line_profiles[j, i]\n",
    "            pointer[j,i] = j + ind - 1\n",
    "    \n",
    "    path = np.zeros(n_theta).astype(int)\n",
    "    \n",
    "    M = np.max(value[:, -1])\n",
    "    ind = np.argmax(value[:, -1])\n",
    "    path[-1] = ind\n",
    "    \n",
    "    for j in np.flip(range(1, n_theta)):\n",
    "        path[j-1] = pointer[path[j], j]\n",
    "        \n",
    "    return path"
   ]
  },
  {
   "cell_type": "markdown",
   "metadata": {
    "hidden": true
   },
   "source": [
    "#### Find intensity profile at a line joining two points"
   ]
  },
  {
   "cell_type": "code",
   "execution_count": 77,
   "metadata": {
    "ExecuteTime": {
     "end_time": "2020-03-18T03:20:46.644971Z",
     "start_time": "2020-03-18T03:20:46.422567Z"
    },
    "hidden": true
   },
   "outputs": [],
   "source": [
    "point_layer = viewer.add_points(data = None)"
   ]
  },
  {
   "cell_type": "code",
   "execution_count": 85,
   "metadata": {
    "ExecuteTime": {
     "end_time": "2020-03-18T03:21:59.843777Z",
     "start_time": "2020-03-18T03:21:59.827822Z"
    },
    "hidden": true
   },
   "outputs": [
    {
     "name": "stdout",
     "output_type": "stream",
     "text": [
      "Pixel distance = 58.0, number of points in profile = (60,)\n",
      "x1 = 1124.5762199044127, y1 = 10278.852064061517, x2 = 1083.8527461351187, y2 = 10320.211842108456\n"
     ]
    }
   ],
   "source": [
    "image = im_array_gad1_blur[0, :, :]\n",
    "\n",
    "[x1, y1] = point_layer.data[0, 1:]\n",
    "[x2, y2] = point_layer.data[1, 1:]\n",
    "z = point_layer.data[0, 0]\n",
    "\n",
    "profile = profile_line(image, (x1, y1), (x2, y2))\n",
    "n_points = profile.shape\n",
    "px_dist = np.floor(np.linalg.norm(np.array([x1, y1]) - np.array([x2, y2])))\n",
    "print('Pixel distance = {0}, number of points in profile = {1}'.format(px_dist, n_points))\n",
    "\n",
    "print('x1 = {0}, y1 = {1}, x2 = {2}, y2 = {3}'.format(x1, y1, x2, y2))"
   ]
  },
  {
   "cell_type": "markdown",
   "metadata": {
    "hidden": true
   },
   "source": [
    "#### Find point where intensity falls below threshold"
   ]
  },
  {
   "cell_type": "code",
   "execution_count": 86,
   "metadata": {
    "ExecuteTime": {
     "end_time": "2020-03-18T03:22:05.035618Z",
     "start_time": "2020-03-18T03:22:05.025645Z"
    },
    "hidden": true
   },
   "outputs": [],
   "source": [
    "thresh = 0.1\n",
    "line_profile = profile\n",
    "max_val = np.max(line_profile)\n",
    "max_idx = np.argmax(line_profile)\n",
    "min_val_out = np.min(line_profile[max_idx:]) # Minimum intensity outside cell\n",
    "thresh_val = min_val_out + thresh*(max_val - min_val_out)\n",
    "r_cross = max_idx + np.where(line_profile[max_idx:] < thresh_val)[0][0]"
   ]
  },
  {
   "cell_type": "code",
   "execution_count": 87,
   "metadata": {
    "ExecuteTime": {
     "end_time": "2020-03-18T03:22:05.597148Z",
     "start_time": "2020-03-18T03:22:05.537309Z"
    },
    "hidden": true
   },
   "outputs": [
    {
     "data": {
      "text/plain": [
       "[<matplotlib.lines.Line2D at 0x1f7124a7b08>]"
      ]
     },
     "execution_count": 87,
     "metadata": {},
     "output_type": "execute_result"
    }
   ],
   "source": [
    "plt.figure()\n",
    "plt.plot(line_profile, color = 'k')\n",
    "\n",
    "xl = np.array(plt.gca().get_xlim())\n",
    "yl = np.array(plt.gca().get_ylim())\n",
    "xi = np.linspace(xl[0], xl[1], 10)\n",
    "yi = np.linspace(yl[0], yl[1], 10)\n",
    "\n",
    "plt.plot(xi, np.ones(10)*max_val, color = 'r', linestyle = '--')\n",
    "plt.plot(xi, np.ones(10)*min_val_out, color = 'r', linestyle = '--')\n",
    "plt.plot(xi, np.ones(10)*thresh_val, color = 'b', linestyle = '--')\n",
    "plt.plot(np.ones(10)*r_cross, yi, color = 'b', linestyle = '--')"
   ]
  },
  {
   "cell_type": "markdown",
   "metadata": {
    "hidden": true
   },
   "source": [
    "#### Find intensity profile at several angles"
   ]
  },
  {
   "cell_type": "code",
   "execution_count": 92,
   "metadata": {
    "ExecuteTime": {
     "end_time": "2020-03-18T03:23:57.969064Z",
     "start_time": "2020-03-18T03:23:57.838412Z"
    },
    "hidden": true
   },
   "outputs": [
    {
     "data": {
      "text/plain": [
       "Text(0.5, 1.0, 'Pixel intensity')"
      ]
     },
     "execution_count": 92,
     "metadata": {},
     "output_type": "execute_result"
    }
   ],
   "source": [
    "center = [x1, y1]\n",
    "cell_radius_px = 70\n",
    "n_theta = 30\n",
    "thresh = 0.2\n",
    "\n",
    "full_radius = round(1.3*cell_radius_px)\n",
    "thetas = np.linspace(0, 2*np.pi, n_theta)\n",
    "[h, w] = image.shape\n",
    "[x, y] = center\n",
    "\n",
    "\n",
    "line_profiles = np.zeros([full_radius, n_theta])\n",
    "line_profiles_mod = np.zeros([full_radius, n_theta])\n",
    "\n",
    "r_threshold_cross = np.zeros(n_theta)\n",
    "\n",
    "for t in range(n_theta):\n",
    "    theta = thetas[t]\n",
    "    f = profile_line(image, (x, y), (x + full_radius*np.cos(theta), y + full_radius*np.sin(theta)))\n",
    "    line_profiles[:, t] = f[:full_radius]\n",
    "    r_threshold_cross[t] = find_first_cross(f, thresh)\n",
    "    line_profiles_mod[:, t] = -1*np.abs(np.array(range(full_radius)) - r_threshold_cross[t]) + full_radius;\n",
    "    \n",
    "plt.figure()\n",
    "plt.imshow(line_profiles_mod)\n",
    "plt.xlabel('Theta/4')\n",
    "plt.ylabel('Distance from center (px)')\n",
    "plt.title('Pixel intensity')"
   ]
  },
  {
   "cell_type": "code",
   "execution_count": 67,
   "metadata": {
    "ExecuteTime": {
     "end_time": "2020-03-18T03:18:10.396994Z",
     "start_time": "2020-03-18T03:18:10.315211Z"
    },
    "hidden": true
   },
   "outputs": [
    {
     "data": {
      "text/plain": [
       "<matplotlib.image.AxesImage at 0x1f983f58e48>"
      ]
     },
     "execution_count": 67,
     "metadata": {},
     "output_type": "execute_result"
    }
   ],
   "source": [
    "fig, ax = plt.subplots(nrows = 1, ncols = 2)\n",
    "ax[0].imshow(line_profiles)\n",
    "ax[1].imshow(line_profiles_mod)"
   ]
  },
  {
   "cell_type": "code",
   "execution_count": 93,
   "metadata": {
    "ExecuteTime": {
     "end_time": "2020-03-18T03:24:10.190996Z",
     "start_time": "2020-03-18T03:24:10.182020Z"
    },
    "hidden": true
   },
   "outputs": [],
   "source": [
    "angular_dist = np.argmax(line_profiles_mod, axis = 0)\n",
    "boundary = np.zeros([n_theta, 3])\n",
    "boundary[:, 0] = np.ones(n_theta)*z\n",
    "boundary[:, 1] = x + np.multiply(angular_dist, np.cos(thetas))\n",
    "boundary[:, 2] = y + np.multiply(angular_dist, np.sin(thetas))"
   ]
  },
  {
   "cell_type": "markdown",
   "metadata": {
    "hidden": true
   },
   "source": [
    "#### Find boundary of cell from intensity profiles"
   ]
  },
  {
   "cell_type": "code",
   "execution_count": 39,
   "metadata": {
    "ExecuteTime": {
     "end_time": "2020-03-18T01:15:10.496818Z",
     "start_time": "2020-03-18T01:15:10.167699Z"
    },
    "hidden": true
   },
   "outputs": [
    {
     "data": {
      "text/plain": [
       "[<matplotlib.lines.Line2D at 0x1f714371648>]"
      ]
     },
     "execution_count": 39,
     "metadata": {},
     "output_type": "execute_result"
    }
   ],
   "source": [
    "radius = line_profiles.shape[0]\n",
    "n_theta = line_profiles.shape[1]\n",
    "\n",
    "pointer = np.zeros([radius, n_theta])\n",
    "value = np.zeros([radius, n_theta])\n",
    "value[:, 0] = line_profiles_mod[:, 0]\n",
    "\n",
    "for i in range(1, n_theta):\n",
    "    for j in range(1, radius - 1):\n",
    "\n",
    "        M = np.max(value[j-1:j+1, i-1])\n",
    "        ind = np.argmax(value[j-1:j+1, i-1])\n",
    "\n",
    "        value[j, i] = M + line_profiles_mod[j, i]\n",
    "        pointer[j,i] = j + ind - 1\n",
    "        \n",
    "fig, ax = plt.subplots(nrows = 2, ncols = 2, figsize = (20, 10))\n",
    "ax[0, 0].imshow(value)\n",
    "ax[0, 0].set_xlabel('Theta/4')\n",
    "ax[0, 0].set_ylabel('Distance from center (px)')\n",
    "ax[0, 0].set_title('Value - first iteration')\n",
    "\n",
    "ax[0, 1].imshow(pointer)\n",
    "ax[0, 1].set_xlabel('Theta/4')\n",
    "ax[0, 1].set_ylabel('Distance from center (px)')\n",
    "ax[0, 1].set_title('Pointer - first iteration')\n",
    "\n",
    "# Second traverse to minimize boundary effect\n",
    "pointer = np.zeros([radius, n_theta])\n",
    "value[:, 1] = value[:, -1]\n",
    "\n",
    "for i in range(1, n_theta):\n",
    "    for j in range(1, radius - 1):\n",
    "\n",
    "        M = np.max(value[j-1:j+1, i-1])\n",
    "        ind = np.argmax(value[j-1:j+1, i-1])\n",
    "\n",
    "        value[j, i] = M + line_profiles[j, i]\n",
    "        pointer[j,i] = j + ind - 1\n",
    "\n",
    "ax[1, 0].imshow(value)\n",
    "ax[1, 0].set_xlabel('Theta/4')\n",
    "ax[1, 0].set_ylabel('Distance from center (px)')\n",
    "ax[1, 0].set_title('Value - second iteration')\n",
    "\n",
    "ax[1, 1].imshow(pointer)\n",
    "ax[1, 1].set_xlabel('Theta/4')\n",
    "ax[1, 1].set_ylabel('Distance from center (px)')\n",
    "ax[1, 1].set_title('Pointer - second iteration')\n",
    "\n",
    "path = np.zeros(n_theta).astype(int)\n",
    "    \n",
    "M = np.max(value[:, -1])\n",
    "ind = np.argmax(value[:, -1])\n",
    "path[-1] = ind\n",
    "\n",
    "for j in np.flip(range(1, n_theta)):\n",
    "    path[j-1] = pointer[path[j], j]\n",
    "    \n",
    "boundary = np.zeros([n_theta, 3])\n",
    "boundary[:, 0] = np.ones(n_theta)*z\n",
    "boundary[:, 1] = x + np.multiply(path, np.cos(thetas))\n",
    "boundary[:, 2] = y + np.multiply(path, np.sin(thetas))\n",
    "\n",
    "# boundary = np.zeros([2, n_theta])\n",
    "# boundary[0, :] = x + np.multiply(path, np.cos(thetas))\n",
    "# boundary[1, :] = y + np.multiply(path, np.sin(thetas))\n",
    "\n",
    "boundary = boundary.astype(int)\n",
    "    \n",
    "ax[1, 1].plot(path, color = 'r', linestyle = '--')"
   ]
  },
  {
   "cell_type": "markdown",
   "metadata": {},
   "source": [
    "# Lipofuscin exlcusion"
   ]
  },
  {
   "cell_type": "markdown",
   "metadata": {
    "heading_collapsed": true
   },
   "source": [
    "## Load existing lipofuscin ROIs"
   ]
  },
  {
   "cell_type": "code",
   "execution_count": 6,
   "metadata": {
    "ExecuteTime": {
     "end_time": "2020-03-27T03:00:32.928953Z",
     "start_time": "2020-03-27T03:00:32.914953Z"
    },
    "hidden": true
   },
   "outputs": [
    {
     "name": "stdout",
     "output_type": "stream",
     "text": [
      "14 rois\n"
     ]
    }
   ],
   "source": [
    "save_loc = 'G:\\\\Shared drives\\\\as_share\\\\HCR\\\\HCR 3.11\\S5'\n",
    "save_file = 'HCR_3.11_S5_lipofuscin_rois_in_cells.pkl'\n",
    "\n",
    "with open('{0}\\\\{1}'.format(save_loc, save_file), 'rb') as f:\n",
    "    l_rois = pkl.load(f)    \n",
    "    print('{0} rois'.format(len(l_rois)))"
   ]
  },
  {
   "cell_type": "markdown",
   "metadata": {
    "heading_collapsed": true
   },
   "source": [
    "## Save lipofuscin rois from napari viewer"
   ]
  },
  {
   "cell_type": "code",
   "execution_count": 59,
   "metadata": {
    "ExecuteTime": {
     "end_time": "2020-03-25T03:50:02.642953Z",
     "start_time": "2020-03-25T03:50:02.568953Z"
    },
    "hidden": true
   },
   "outputs": [
    {
     "data": {
      "text/plain": [
       "<Shapes layer 'Lipofuscin ROIs' at 0x16b16848>"
      ]
     },
     "execution_count": 59,
     "metadata": {},
     "output_type": "execute_result"
    }
   ],
   "source": [
    "viewer.add_shapes(data = None, name = 'Lipofuscin ROIs')"
   ]
  },
  {
   "cell_type": "code",
   "execution_count": 61,
   "metadata": {
    "ExecuteTime": {
     "end_time": "2020-03-25T03:56:01.891953Z",
     "start_time": "2020-03-25T03:56:01.864953Z"
    },
    "hidden": true
   },
   "outputs": [
    {
     "name": "stdout",
     "output_type": "stream",
     "text": [
      "14 lipofuscin rois\n"
     ]
    }
   ],
   "source": [
    "save_loc = 'G:\\\\Shared drives\\\\as_share\\\\HCR\\\\HCR 3.11\\S5'\n",
    "save_file = 'HCR_3.11_S5_lipofuscin_rois_in_cells.pkl'\n",
    "\n",
    "l_rois = viewer.layers['Lipofuscin ROIs'].data\n",
    "with open('{0}\\\\{1}'.format(save_loc, save_file), 'wb') as f:\n",
    "    pkl.dump(l_rois, f) \n",
    "    \n",
    "n_rois = len(l_rois)\n",
    "print('{0} lipofuscin rois'.format(n_rois))"
   ]
  },
  {
   "cell_type": "markdown",
   "metadata": {
    "heading_collapsed": true
   },
   "source": [
    "## Get pixels in annotated lipofuscin ROIs"
   ]
  },
  {
   "cell_type": "code",
   "execution_count": 7,
   "metadata": {
    "ExecuteTime": {
     "end_time": "2020-03-27T03:02:30.370953Z",
     "start_time": "2020-03-27T03:01:05.238953Z"
    },
    "hidden": true
   },
   "outputs": [
    {
     "name": "stdout",
     "output_type": "stream",
     "text": [
      "No saved data found, calculating mask pixels\n",
      "Calculated grid coordinates, 38.0 seconds\n",
      "ROI 0\n",
      "ROI 1\n",
      "ROI 2\n",
      "ROI 3\n",
      "ROI 4\n",
      "ROI 5\n",
      "ROI 6\n",
      "ROI 7\n",
      "ROI 8\n",
      "ROI 9\n",
      "ROI 10\n",
      "ROI 11\n",
      "ROI 12\n",
      "ROI 13\n"
     ]
    }
   ],
   "source": [
    "save_loc = 'G:\\\\Shared drives\\\\as_share\\\\HCR\\\\HCR 3.11\\S5'\n",
    "save_file = 'HCR_3.11_S5_lipofuscin_pixels_in_cells.pkl'\n",
    "    \n",
    "try:\n",
    "    with open('{0}{1}{2}'.format(save_loc, sep, save_file), 'rb') as f:\n",
    "        data_dict = pkl.load(f)\n",
    "        all_lipo_pixels = data_dict['all_lipo_pixels']\n",
    "        lipo_pixels_roi = data_dict['lipo_pixels_roi']\n",
    "        print('Data loaded')\n",
    "        \n",
    "        \n",
    "except IOError:\n",
    "    print('No saved data found, calculating mask pixels')\n",
    "    px = pixels_in_roi.pixels_in_roi(h, w, n, l_rois)\n",
    "    all_lipo_pixels = px['all_pixels']\n",
    "    lipo_pixels_roi = px['pixels_roi']\n",
    "    with open('{0}{1}{2}'.format(save_loc, sep, save_file), 'wb') as f:\n",
    "        pkl.dump({'all_lipo_pixels': all_lipo_pixels, 'lipo_pixels_roi': lipo_pixels_roi}, f)"
   ]
  },
  {
   "cell_type": "markdown",
   "metadata": {},
   "source": [
    "## Filter images using difference of gaussians"
   ]
  },
  {
   "cell_type": "markdown",
   "metadata": {
    "heading_collapsed": true
   },
   "source": [
    "### Compare different filters"
   ]
  },
  {
   "cell_type": "code",
   "execution_count": 88,
   "metadata": {
    "ExecuteTime": {
     "end_time": "2020-03-26T20:20:23.693953Z",
     "start_time": "2020-03-26T20:20:23.215953Z"
    },
    "hidden": true
   },
   "outputs": [
    {
     "data": {
      "text/plain": [
       "<matplotlib.legend.Legend at 0x65cb6c88>"
      ]
     },
     "execution_count": 88,
     "metadata": {},
     "output_type": "execute_result"
    }
   ],
   "source": [
    "plt.figure()\n",
    "\n",
    "sigma_small = 2\n",
    "sigma_large = 5\n",
    "x = np.linspace(-sigma_large*5, sigma_large*5, 1000)\n",
    "small = norm.pdf(x, scale = sigma_small)\n",
    "large = norm.pdf(x, scale = sigma_large)\n",
    "diff = small - large\n",
    "plt.plot(x, diff, label = '(2, 5)')\n",
    "\n",
    "sigma_small = 3\n",
    "sigma_large = 10\n",
    "x = np.linspace(-sigma_large*5, sigma_large*5, 1000)\n",
    "small = norm.pdf(x, scale = sigma_small)\n",
    "large = norm.pdf(x, scale = sigma_large)\n",
    "diff = small - large\n",
    "plt.plot(x, diff, label = '(3, 10)')\n",
    "\n",
    "sigma_small = 5\n",
    "sigma_large = 10\n",
    "x = np.linspace(-sigma_large*5, sigma_large*5, 1000)\n",
    "small = norm.pdf(x, scale = sigma_small)\n",
    "large = norm.pdf(x, scale = sigma_large)\n",
    "diff = small - large\n",
    "plt.plot(x, diff, label = '(5, 10)')\n",
    "\n",
    "# sigma_small = 1.5\n",
    "# sigma_large = 3.75\n",
    "# x = np.linspace(-sigma_large*5, sigma_large*5, 1000)\n",
    "# small = norm.pdf(x, scale = sigma_small)\n",
    "# large = norm.pdf(x, scale = sigma_large)\n",
    "# diff = small - large\n",
    "# plt.plot(x, diff, label = '(1.5, 3.75)')\n",
    "\n",
    "# sigma_small = 1\n",
    "# sigma_large = 2\n",
    "# x = np.linspace(-sigma_large*5, sigma_large*5, 1000)\n",
    "# small = norm.pdf(x, scale = sigma_small)\n",
    "# large = norm.pdf(x, scale = sigma_large)\n",
    "# diff = small - large\n",
    "# plt.plot(x, diff, label = '(1, 2)')\n",
    "\n",
    "sigma_small = 10\n",
    "sigma_large = 15\n",
    "x = np.linspace(-sigma_large*5, sigma_large*5, 1000)\n",
    "small = norm.pdf(x, scale = sigma_small)\n",
    "large = norm.pdf(x, scale = sigma_large)\n",
    "diff = small - large\n",
    "plt.plot(x, diff, label = '(10, 15)')\n",
    "\n",
    "sigma_small = 7\n",
    "sigma_large = 10\n",
    "x = np.linspace(-sigma_large*5, sigma_large*5, 1000)\n",
    "small = norm.pdf(x, scale = sigma_small)\n",
    "large = norm.pdf(x, scale = sigma_large)\n",
    "diff = small - large\n",
    "plt.plot(x, diff, label = '(7, 10)')\n",
    "\n",
    "plt.legend()"
   ]
  },
  {
   "cell_type": "markdown",
   "metadata": {
    "heading_collapsed": true
   },
   "source": [
    "### Diff_gauss2"
   ]
  },
  {
   "cell_type": "code",
   "execution_count": 9,
   "metadata": {
    "ExecuteTime": {
     "end_time": "2020-03-27T03:03:18.873953Z",
     "start_time": "2020-03-27T03:03:18.866953Z"
    },
    "hidden": true,
    "run_control": {
     "marked": true
    }
   },
   "outputs": [],
   "source": [
    "from scipy.stats import norm\n",
    "from skimage.filters import gaussian\n",
    "\n",
    "def diff_gauss2(sigma_small, sigma_large, img, do_plot = 1):\n",
    "\n",
    "    #sigma_large = 10 # In pixels\n",
    "    #sigma_small = 3 # In pixels\n",
    "\n",
    "    #x = np.linspace(norm.ppf(0.01), norm.ppf(0.99), 1000)\n",
    "    x = np.linspace(-sigma_large*5, sigma_large*5, 1000)\n",
    "    small = norm.pdf(x, scale = sigma_small)\n",
    "    large = norm.pdf(x, scale = sigma_large)\n",
    "    diff = small - large\n",
    "\n",
    "    n = img.shape[0]\n",
    "    im_diff = np.zeros(img.shape)\n",
    "\n",
    "    for plane in range(n):\n",
    "        im_filt_large = gaussian(img[plane, :, :], sigma = sigma_large)\n",
    "        im_filt_small = gaussian(img[plane, :, :], sigma = sigma_small)\n",
    "        im_diff[plane, :, :] = im_filt_small - im_filt_large\n",
    "\n",
    "    if do_plot:\n",
    "\n",
    "        plt.figure()\n",
    "        plt.plot(x, diff, label = 'diff')\n",
    "        plt.plot(x, small, label = 'Small sigma filter')\n",
    "        plt.plot(x, large, label = 'Large sigma filter')\n",
    "        plt.xlabel('Distance from center of kernel (px)')\n",
    "        plt.ylabel('Kernel')\n",
    "        plt.title('Difference of gaussians filter')\n",
    "        plt.legend()\n",
    "\n",
    "    return im_diff\n"
   ]
  },
  {
   "cell_type": "markdown",
   "metadata": {},
   "source": [
    "### Do filtering"
   ]
  },
  {
   "cell_type": "markdown",
   "metadata": {
    "heading_collapsed": true
   },
   "source": [
    "#### Diff_gauss2"
   ]
  },
  {
   "cell_type": "code",
   "execution_count": 10,
   "metadata": {
    "ExecuteTime": {
     "end_time": "2020-03-27T03:07:54.861953Z",
     "start_time": "2020-03-27T03:03:22.323953Z"
    },
    "hidden": true
   },
   "outputs": [
    {
     "name": "stdout",
     "output_type": "stream",
     "text": [
      "Filtering images (~5 minutes)\n",
      "85 seconds\n",
      "169 seconds\n",
      "272 seconds\n"
     ]
    }
   ],
   "source": [
    "t0 = time.time()    \n",
    "\n",
    "print('Filtering images (~5 minutes)')\n",
    "sigma_small = 5\n",
    "sigma_large = 10\n",
    "\n",
    "\n",
    "img = im_array_ndnf\n",
    "im_diff_ndnf_lipo = diff_gauss2(sigma_small, sigma_large, img, do_plot = 1)\n",
    "t1 = time.time() - t0\n",
    "print('{0} seconds'.format(int(t1)))\n",
    "\n",
    "img = im_array_sst\n",
    "im_diff_sst_lipo = diff_gauss2(sigma_small, sigma_large, img, do_plot = 0)\n",
    "t1 = time.time() - t0\n",
    "print('{0} seconds'.format(int(t1)))\n",
    "\n",
    "img = im_array_vip\n",
    "im_diff_vip_lipo = diff_gauss2(sigma_small, sigma_large, img, do_plot = 0)\n",
    "t1 = time.time() - t0\n",
    "print('{0} seconds'.format(int(t1)))\n",
    "\n",
    "# img = im_array_gad1\n",
    "# im_diff_gad1_lipo = diff_gauss.diff_gauss(sigma_small, sigma_large, img, do_plot = 1)\n",
    "# t1 = time.time() - t0\n",
    "# print('{0} seconds'.format(int(t1)))\n",
    "\n",
    "del img"
   ]
  },
  {
   "cell_type": "markdown",
   "metadata": {
    "heading_collapsed": true
   },
   "source": [
    "#### Simple gaussian filter"
   ]
  },
  {
   "cell_type": "code",
   "execution_count": 17,
   "metadata": {
    "ExecuteTime": {
     "end_time": "2020-03-26T14:00:57.066953Z",
     "start_time": "2020-03-26T14:00:35.923953Z"
    },
    "hidden": true
   },
   "outputs": [
    {
     "name": "stdout",
     "output_type": "stream",
     "text": [
      "Filtering images (~5 minutes)\n",
      "7 seconds\n",
      "14 seconds\n",
      "21 seconds\n"
     ]
    }
   ],
   "source": [
    "t0 = time.time()    \n",
    "\n",
    "print('Filtering images (~5 minutes)')\n",
    "sigma = 3\n",
    "\n",
    "\n",
    "img = im_array_ndnf\n",
    "im_ndnf_lipo = gaussian(img, sigma)\n",
    "t1 = time.time() - t0\n",
    "print('{0} seconds'.format(int(t1)))\n",
    "\n",
    "img = im_array_sst\n",
    "im_sst_lipo = gaussian(img, sigma)\n",
    "t1 = time.time() - t0\n",
    "print('{0} seconds'.format(int(t1)))\n",
    "\n",
    "img = im_array_vip\n",
    "im_vip_lipo = gaussian(img, sigma)\n",
    "t1 = time.time() - t0\n",
    "print('{0} seconds'.format(int(t1)))\n",
    "\n",
    "# img = im_array_gad1\n",
    "# im_diff_gad1_lipo = diff_gauss.diff_gauss(sigma_small, sigma_large, img, do_plot = 1)\n",
    "# t1 = time.time() - t0\n",
    "# print('{0} seconds'.format(int(t1)))\n",
    "\n",
    "del img"
   ]
  },
  {
   "cell_type": "markdown",
   "metadata": {
    "heading_collapsed": true
   },
   "source": [
    "### Save filtered images using h5py"
   ]
  },
  {
   "cell_type": "code",
   "execution_count": 55,
   "metadata": {
    "ExecuteTime": {
     "end_time": "2020-03-22T01:49:45.732023Z",
     "start_time": "2020-03-22T01:48:48.224986Z"
    },
    "code_folding": [],
    "hidden": true
   },
   "outputs": [
    {
     "name": "stdout",
     "output_type": "stream",
     "text": [
      "im_diff_gad1 saved: 13.0 seconds\n",
      "im_diff_ndnf saved: 27.0 seconds\n",
      "im_diff_sst saved: 41.0 seconds\n",
      "im_diff_vip saved: 57.0 seconds\n"
     ]
    }
   ],
   "source": [
    "t0 = time.time()\n",
    "save_loc = 'G:\\\\Shared drives\\\\as_share\\\\HCR\\\\HCR 3.11\\\\S5'\n",
    "\n",
    "save_file = 'Gad1_im_diff_sigma_small = {0}, sigma_large = {1}'.format(sigma_small, sigma_large)\n",
    "h5f = h5py.File('{0}{1}{2}.h5'.format(save_loc, sep, save_file), 'w')\n",
    "h5f.create_dataset('dataset_1', data=im_diff_gad1)\n",
    "h5f.close()\n",
    "\n",
    "print('im_diff_gad1 saved: {0} seconds'.format(np.round(time.time() - t0)))\n",
    "    \n",
    "save_file = 'Ndnf_im_diff_sigma_small = {0}, sigma_large = {1}'.format(sigma_small, sigma_large)\n",
    "h5f = h5py.File('{0}{1}{2}.h5'.format(save_loc, sep, save_file), 'w')\n",
    "h5f.create_dataset('dataset_1', data=im_diff_ndnf)\n",
    "h5f.close()\n",
    "\n",
    "print('im_diff_ndnf saved: {0} seconds'.format(np.round(time.time() - t0)))\n",
    "    \n",
    "save_file = 'Sst_im_diff_sigma_small = {0}, sigma_large = {1}'.format(sigma_small, sigma_large)\n",
    "h5f = h5py.File('{0}{1}{2}.h5'.format(save_loc, sep, save_file), 'w')\n",
    "h5f.create_dataset('dataset_1', data=im_diff_sst)\n",
    "h5f.close()\n",
    "\n",
    "print('im_diff_sst saved: {0} seconds'.format(np.round(time.time() - t0)))\n",
    "    \n",
    "save_file = 'Vip_im_diff_sigma_small = {0}, sigma_large = {1}'.format(sigma_small, sigma_large)\n",
    "h5f = h5py.File('{0}{1}{2}.h5'.format(save_loc, sep, save_file), 'w')\n",
    "h5f.create_dataset('dataset_1', data=im_diff_vip)\n",
    "h5f.close()\n",
    "\n",
    "print('im_diff_vip saved: {0} seconds'.format(np.round(time.time() - t0)))"
   ]
  },
  {
   "cell_type": "markdown",
   "metadata": {
    "heading_collapsed": true
   },
   "source": [
    "## Binarize filtered images and plot threshold"
   ]
  },
  {
   "cell_type": "code",
   "execution_count": 12,
   "metadata": {
    "ExecuteTime": {
     "end_time": "2020-03-27T03:10:08.793953Z",
     "start_time": "2020-03-27T03:09:42.645953Z"
    },
    "hidden": true,
    "run_control": {
     "marked": true
    }
   },
   "outputs": [
    {
     "name": "stdout",
     "output_type": "stream",
     "text": [
      "Finding threshold for binarizing\n",
      "Finding threshold for binarizing\n",
      "Finding threshold for binarizing\n"
     ]
    }
   ],
   "source": [
    "img_dict = {'Ndnf': im_diff_ndnf_lipo, 'Vip': im_diff_vip_lipo, 'Sst': im_diff_sst_lipo}\n",
    "# img_dict = {'Ndnf': im_array_ndnf, 'Sst': im_array_sst, 'Vip': im_array_vip}\n",
    "#img_dict = {'Ndnf': im_ndnf_lipo, 'Sst': im_sst_lipo, 'Vip': im_vip_lipo}\n",
    "\n",
    "pixels_dict = {'Cells': all_cell_pixels, 'Lipofuscin': all_lipo_pixels}\n",
    "#pixels_dict = {'Cells': all_cell_pixels}\n",
    "\n",
    "colors_dict = {'Cells': 'b', 'Lipofuscin': 'k'}\n",
    "\n",
    "title = 'Diff gauss sigma = ({0}, {1})'.format(sigma_small, sigma_large)\n",
    "#title = 'Raw images'\n",
    "save_loc = 'G:\\\\Shared drives\\\\as_share\\\\HCR\\\\HCR 3.11\\\\S5\\\\Plots'\n",
    "save_file = '{0} hist lipo + cells.png'.format(title)\n",
    "#save_file = '{0} hist cells.png'.format(title)\n",
    "\n",
    "thresh_scale = 1\n",
    "\n",
    "thresh = hist_channels.hist_channels(img_dict, pixels_dict, max_per_group= 100000, \n",
    "                                     do_bin = True, bin_group = 'Cells', thresh_scale = thresh_scale,\n",
    "                                     colors_dict = colors_dict, \n",
    "                                     title = title, save = True, save_loc = save_loc, save_file = save_file)\n",
    "\n",
    "del img_dict\n",
    "del pixels_dict\n",
    "\n",
    "im_bin_ndnf_lipo = np.zeros(im_diff_ndnf_lipo.shape)\n",
    "im_bin_sst_lipo = np.zeros(im_diff_ndnf_lipo.shape)\n",
    "im_bin_vip_lipo = np.zeros(im_diff_ndnf_lipo.shape)\n",
    "#im_bin_gad1 = np.zeros(im_diff_gad1_lipo.shape)\n",
    "\n",
    "ix_ndnf = np.where(im_diff_ndnf_lipo > thresh['Ndnf'])\n",
    "ix_sst = np.where(im_diff_sst_lipo > thresh['Sst'])\n",
    "ix_vip = np.where(im_diff_vip_lipo > thresh['Vip'])\n",
    "# ix_ndnf = np.where(im_ndnf_lipo > thresh['Ndnf'])\n",
    "# ix_sst = np.where(im_sst_lipo > thresh['Sst'])\n",
    "# ix_vip = np.where(im_vip_lipo > thresh['Vip'])\n",
    "\n",
    "# ix_gad1 = np.where(im_diff_gad1_lipo > thresh['Gad1'])\n",
    "\n",
    "im_bin_ndnf_lipo[ix_ndnf] = im_diff_ndnf_lipo[ix_ndnf]\n",
    "im_bin_sst_lipo[ix_sst] = im_diff_sst_lipo[ix_sst]\n",
    "im_bin_vip_lipo[ix_vip] = im_diff_vip_lipo[ix_vip]\n",
    "# im_bin_ndnf_lipo[ix_ndnf] = im_ndnf_lipo[ix_ndnf]\n",
    "# im_bin_sst_lipo[ix_sst] = im_sst_lipo[ix_sst]\n",
    "# im_bin_vip_lipo[ix_vip] = im_vip_lipo[ix_vip]\n",
    "\n",
    "\n",
    "\n",
    "#im_bin_gad1_lipo[ix_gad1] = im_diff_gad1_lipo[ix_gad1]"
   ]
  },
  {
   "cell_type": "code",
   "execution_count": 80,
   "metadata": {
    "ExecuteTime": {
     "end_time": "2020-03-26T16:38:21.224953Z",
     "start_time": "2020-03-26T16:38:21.204953Z"
    },
    "hidden": true
   },
   "outputs": [],
   "source": [
    "plt.close('all')"
   ]
  },
  {
   "cell_type": "code",
   "execution_count": 63,
   "metadata": {
    "ExecuteTime": {
     "end_time": "2020-03-26T04:03:41.313953Z",
     "start_time": "2020-03-26T04:03:41.174953Z"
    },
    "hidden": true
   },
   "outputs": [],
   "source": [
    "del im_array_lipo"
   ]
  },
  {
   "cell_type": "code",
   "execution_count": 61,
   "metadata": {
    "ExecuteTime": {
     "end_time": "2020-03-26T04:01:18.298953Z",
     "start_time": "2020-03-26T04:01:17.426953Z"
    },
    "hidden": true
   },
   "outputs": [],
   "source": [
    "del im_diff_ndnf\n",
    "del im_diff_vip\n",
    "del im_diff_sst"
   ]
  },
  {
   "cell_type": "code",
   "execution_count": 60,
   "metadata": {
    "ExecuteTime": {
     "end_time": "2020-03-26T04:00:53.007953Z",
     "start_time": "2020-03-26T04:00:52.994953Z"
    },
    "hidden": true
   },
   "outputs": [
    {
     "ename": "NameError",
     "evalue": "name 'im_bin_ndnf_lipo' is not defined",
     "output_type": "error",
     "traceback": [
      "\u001b[1;31m---------------------------------------------------------------------------\u001b[0m",
      "\u001b[1;31mNameError\u001b[0m                                 Traceback (most recent call last)",
      "\u001b[1;32m<ipython-input-60-258f8f187df7>\u001b[0m in \u001b[0;36m<module>\u001b[1;34m\u001b[0m\n\u001b[1;32m----> 1\u001b[1;33m \u001b[1;32mdel\u001b[0m \u001b[0mim_bin_ndnf_lipo\u001b[0m\u001b[1;33m\u001b[0m\u001b[1;33m\u001b[0m\u001b[0m\n\u001b[0m",
      "\u001b[1;31mNameError\u001b[0m: name 'im_bin_ndnf_lipo' is not defined"
     ]
    }
   ],
   "source": [
    "del im_bin_ndnf_lipo"
   ]
  },
  {
   "cell_type": "code",
   "execution_count": 58,
   "metadata": {
    "ExecuteTime": {
     "end_time": "2020-03-26T03:59:40.229953Z",
     "start_time": "2020-03-26T03:59:40.226953Z"
    },
    "hidden": true
   },
   "outputs": [],
   "source": [
    "del im_bin_vip_lipo\n",
    "del im_bin_sst_lipo"
   ]
  },
  {
   "cell_type": "code",
   "execution_count": 255,
   "metadata": {
    "ExecuteTime": {
     "end_time": "2020-03-25T01:07:08.716953Z",
     "start_time": "2020-03-25T01:07:08.713953Z"
    },
    "hidden": true
   },
   "outputs": [],
   "source": [
    "im_bin_gad1_lipo = im_bin_gad1\n",
    "del im_bin_gad1"
   ]
  },
  {
   "cell_type": "code",
   "execution_count": 242,
   "metadata": {
    "ExecuteTime": {
     "end_time": "2020-03-25T00:48:08.593953Z",
     "start_time": "2020-03-25T00:48:08.587953Z"
    },
    "hidden": true,
    "run_control": {
     "marked": true
    }
   },
   "outputs": [],
   "source": [
    "plt.close('all')"
   ]
  },
  {
   "cell_type": "markdown",
   "metadata": {
    "heading_collapsed": true
   },
   "source": [
    "## Select lipofuscin cloud"
   ]
  },
  {
   "cell_type": "markdown",
   "metadata": {
    "heading_collapsed": true,
    "hidden": true
   },
   "source": [
    "### Plot lipofuscin pixels in 2D scatter (2 channels)"
   ]
  },
  {
   "cell_type": "code",
   "execution_count": 22,
   "metadata": {
    "ExecuteTime": {
     "end_time": "2020-03-26T14:04:09.305953Z",
     "start_time": "2020-03-26T14:04:09.267953Z"
    },
    "hidden": true,
    "run_control": {
     "marked": true
    }
   },
   "outputs": [],
   "source": [
    "fig = plt.figure()\n",
    "x_vals = [im_ndnf_lipo[a[0], a[1], a[2]] for a in all_lipo_pixels]\n",
    "y_vals = [im_vip_lipo[a[0], a[1], a[2]] for a in all_lipo_pixels]\n",
    "\n",
    "plt.scatter(x_vals, y_vals)\n",
    "roi = roipoly()"
   ]
  },
  {
   "cell_type": "code",
   "execution_count": 23,
   "metadata": {
    "ExecuteTime": {
     "end_time": "2020-03-26T14:05:26.059953Z",
     "start_time": "2020-03-26T14:04:30.501953Z"
    },
    "hidden": true
   },
   "outputs": [
    {
     "name": "stdout",
     "output_type": "stream",
     "text": [
      "56.0\n"
     ]
    }
   ],
   "source": [
    "t0 = time.time()\n",
    "mask = roi.getMask()[0]\n",
    "t1 = time.time() - t0\n",
    "print(np.round(t1))"
   ]
  },
  {
   "cell_type": "markdown",
   "metadata": {
    "heading_collapsed": true,
    "hidden": true
   },
   "source": [
    "### Draw polygon to select lipofuscin cloud"
   ]
  },
  {
   "cell_type": "code",
   "execution_count": 25,
   "metadata": {
    "ExecuteTime": {
     "end_time": "2020-03-26T14:06:52.751953Z",
     "start_time": "2020-03-26T14:06:52.711953Z"
    },
    "hidden": true
   },
   "outputs": [
    {
     "name": "stdout",
     "output_type": "stream",
     "text": [
      "0\n",
      "10\n",
      "20\n",
      "30\n",
      "40\n",
      "50\n",
      "60\n",
      "70\n",
      "80\n",
      "90\n",
      "100\n",
      "110\n",
      "120\n",
      "130\n",
      "140\n",
      "150\n",
      "160\n",
      "170\n",
      "180\n",
      "190\n",
      "200\n",
      "210\n",
      "220\n",
      "230\n",
      "240\n",
      "250\n",
      "260\n",
      "270\n",
      "280\n",
      "290\n",
      "300\n",
      "310\n",
      "320\n",
      "330\n",
      "340\n",
      "350\n",
      "360\n",
      "370\n",
      "380\n",
      "390\n",
      "400\n",
      "410\n",
      "420\n",
      "430\n",
      "440\n",
      "450\n",
      "460\n",
      "470\n",
      "480\n",
      "490\n",
      "500\n",
      "510\n",
      "520\n",
      "530\n",
      "540\n",
      "550\n",
      "560\n",
      "570\n",
      "580\n",
      "590\n",
      "600\n",
      "610\n",
      "620\n",
      "630\n",
      "640\n",
      "650\n",
      "660\n",
      "670\n",
      "680\n",
      "690\n",
      "700\n",
      "710\n",
      "720\n",
      "730\n",
      "740\n",
      "750\n",
      "760\n",
      "770\n",
      "780\n",
      "790\n",
      "800\n",
      "810\n",
      "820\n",
      "830\n",
      "840\n",
      "850\n",
      "860\n",
      "870\n",
      "880\n",
      "890\n",
      "900\n",
      "910\n"
     ]
    },
    {
     "data": {
      "text/plain": [
       "<matplotlib.collections.PathCollection at 0x4e25e3c8>"
      ]
     },
     "execution_count": 25,
     "metadata": {},
     "output_type": "execute_result"
    }
   ],
   "source": [
    "n_lipo_px = len(all_lipo_pixels)\n",
    "xi = np.zeros(n_lipo_px, dtype = int)\n",
    "yi = np.zeros(n_lipo_px, dtype = int)\n",
    "\n",
    "ix = np.zeros(n_lipo_px, dtype = bool)\n",
    "x0, x1 = fig.axes[0].get_xlim()\n",
    "y0, y1 = fig.axes[0].get_ylim()\n",
    "x = np.linspace(x0, x1, mask.shape[1])\n",
    "y = np.linspace(y0, y1, mask.shape[0])\n",
    "\n",
    "for i in range(n_lipo_px):\n",
    "    if np.mod(i, 10) == 0:\n",
    "        print(i)\n",
    "    px = all_lipo_pixels[i]\n",
    "    xi[i] = bisect_left(x, im_ndnf_lipo[px[0], px[1], px[2]])\n",
    "    yi[i] = bisect_left(y, im_vip_lipo[px[0], px[1], px[2]])\n",
    "    if mask[yi[i], xi[i]] > 0:\n",
    "        ix[i] = True\n",
    "\n",
    "all_lipo_pixels = all_lipo_pixels[ix]\n",
    "\n",
    "x_vals = [im_ndnf_lipo[a[0], a[1], a[2]] for a in all_lipo_pixels]\n",
    "y_vals = [im_vip_lipo[a[0], a[1], a[2]] for a in all_lipo_pixels]\n",
    "\n",
    "plt.scatter(x_vals, y_vals, color = 'r')"
   ]
  },
  {
   "cell_type": "markdown",
   "metadata": {
    "heading_collapsed": true,
    "hidden": true
   },
   "source": [
    "#### Roipoly"
   ]
  },
  {
   "cell_type": "code",
   "execution_count": 21,
   "metadata": {
    "ExecuteTime": {
     "end_time": "2020-03-26T14:03:48.343953Z",
     "start_time": "2020-03-26T14:03:48.325953Z"
    },
    "hidden": true
   },
   "outputs": [],
   "source": [
    "# This code is from https://github.com/jdoepfert, \n",
    "# which can be used without permission\n",
    "import matplotlib.path as mplPath\n",
    "\n",
    "class roipoly:\n",
    "    def __init__(self, fig=[], ax=[], roicolor='b'):\n",
    "        if fig == []:\n",
    "            fig = plt.gcf()\n",
    "\n",
    "        if ax == []:\n",
    "            ax = plt.gca()\n",
    "\n",
    "        self.previous_point = []\n",
    "        self.allxpoints = []\n",
    "        self.allypoints = []\n",
    "        self.start_point = []\n",
    "        self.end_point = []\n",
    "        self.line = None\n",
    "        self.roicolor = roicolor\n",
    "        self.fig = fig\n",
    "        self.ax = ax\n",
    "        self.mask = []\n",
    "\n",
    "        self.__ID1 = self.fig.canvas.mpl_connect(\n",
    "            'motion_notify_event', self.__motion_notify_callback)\n",
    "        self.__ID2 = self.fig.canvas.mpl_connect(\n",
    "            'button_press_event', self.__button_press_callback)\n",
    "#         self.__ID3 = self.fig.canvas.mpl_connect(\n",
    "#             'key_press_event', self.__key_press_callback)\n",
    "\n",
    "    def getMask(self):\n",
    "        \n",
    "        ny = 20000\n",
    "        nx = 20000\n",
    "        poly_verts = [(self.allxpoints[0], self.allypoints[0])]\n",
    "        for i in range(len(self.allxpoints)-1, -1, -1):\n",
    "            poly_verts.append((self.allxpoints[i], self.allypoints[i]))\n",
    "\n",
    "        # Create vertex coordinates for each grid cell...\n",
    "        # (<0,0> is at the top left of the grid in this system)\n",
    "        x0, x1 = self.ax.get_xlim()\n",
    "        y0, y1 = self.ax.get_ylim()\n",
    "        x, y = np.meshgrid(np.linspace(x0, x1, nx), np.linspace(y0, y1, ny))\n",
    "        x, y = x.flatten(), y.flatten()\n",
    "        points = np.vstack((x,y)).T\n",
    "\n",
    "        ROIpath = mplPath.Path(poly_verts)\n",
    "        grid = ROIpath.contains_points(points).reshape((ny,nx)), 0\n",
    "        return grid\n",
    "\n",
    "    def __motion_notify_callback(self, event):\n",
    "        if event.inaxes:\n",
    "            ax = event.inaxes\n",
    "            x, y = event.xdata, event.ydata\n",
    "            # Move line around\n",
    "            if (event.button == None or event.button == 1) and self.line != None: \n",
    "                self.line.set_data([self.previous_point[0], x],\n",
    "                                   [self.previous_point[1], y])\n",
    "                self.fig.canvas.draw()\n",
    "\n",
    "\n",
    "#     def __key_press_callback(self, event):\n",
    "            \n",
    "        \n",
    "    def __button_press_callback(self, event):\n",
    "        if event.inaxes:\n",
    "            x, y = event.xdata, event.ydata\n",
    "            ax = event.inaxes\n",
    "            # If you press the left button, single click\n",
    "            if event.button == 1 and event.dblclick == False:  \n",
    "                if self.line == None: # if there is no line, create a line\n",
    "                    self.line = plt.Line2D([x, x],\n",
    "                                           [y, y],\n",
    "                                           marker='o',\n",
    "                                           color=self.roicolor)\n",
    "                    self.start_point = [x,y]\n",
    "                    self.previous_point =  self.start_point\n",
    "                    self.allxpoints=[x]\n",
    "                    self.allypoints=[y]\n",
    "\n",
    "                    ax.add_line(self.line)\n",
    "                    self.fig.canvas.draw()\n",
    "                    # add a segment\n",
    "                else: # if there is a line, create a segment\n",
    "                    self.line = plt.Line2D([self.previous_point[0], x],\n",
    "                                           [self.previous_point[1], y],\n",
    "                                           marker = 'o',\n",
    "                                           color=self.roicolor)\n",
    "                    self.previous_point = [x,y]\n",
    "                    self.allxpoints.append(x)\n",
    "                    self.allypoints.append(y)\n",
    "\n",
    "                    event.inaxes.add_line(self.line)\n",
    "                    self.fig.canvas.draw()\n",
    "            elif ((event.button == 1 and event.dblclick==True) or (event.button == 3 and event.dblclick==False)) and self.line != None: # close the loop and disconnect\n",
    "                    \n",
    "                    self.fig.canvas.mpl_disconnect(self.__ID1) #joerg\n",
    "                    self.fig.canvas.mpl_disconnect(self.__ID2) #joerg\n",
    "\n",
    "                    self.line.set_data([self.previous_point[0],\n",
    "                                    self.start_point[0]],\n",
    "                                   [self.previous_point[1],\n",
    "                                    self.start_point[1]])\n",
    "                    self.last_line = ax.add_line(self.line)\n",
    "                    self.fig.canvas.draw()\n",
    "                    self.line = None\n",
    "\n",
    "                    if sys.flags.interactive:\n",
    "                        pass\n",
    "                    \n"
   ]
  },
  {
   "cell_type": "markdown",
   "metadata": {},
   "source": [
    "## Find mahalanobis distance of pixels from lipofuscin cloud"
   ]
  },
  {
   "cell_type": "code",
   "execution_count": 190,
   "metadata": {
    "ExecuteTime": {
     "end_time": "2020-03-25T21:30:12.298953Z",
     "start_time": "2020-03-25T21:30:12.292953Z"
    }
   },
   "outputs": [
    {
     "data": {
      "text/plain": [
       "7.38905609893065"
      ]
     },
     "execution_count": 190,
     "metadata": {},
     "output_type": "execute_result"
    }
   ],
   "source": [
    "np.exp(2)"
   ]
  },
  {
   "cell_type": "code",
   "execution_count": 39,
   "metadata": {
    "ExecuteTime": {
     "end_time": "2020-03-27T03:32:23.327953Z",
     "start_time": "2020-03-27T03:31:53.349953Z"
    }
   },
   "outputs": [
    {
     "name": "stdout",
     "output_type": "stream",
     "text": [
      "Threshold log mahalanobis distance = 0.7522689464693758\n"
     ]
    }
   ],
   "source": [
    "#img_dict = {'Ndnf': im_bin_ndnf_lipo, 'Vip': im_bin_vip_lipo}\n",
    "img_dict = {'Ndnf': im_bin_ndnf_lipo, 'Sst': im_bin_sst_lipo, 'Vip': im_bin_vip_lipo}\n",
    "#img_dict = {'Ndnf': im_diff_ndnf, 'Sst': im_diff_sst, 'Vip': im_diff_vip}\n",
    "#img_dict = {'Ndnf': im_array_ndnf, 'Sst': im_array_sst, 'Vip': im_array_vip}\n",
    "#img_dict = {'Ndnf': im_ndnf_lipo, 'Sst': im_sst_lipo, 'Vip': im_vip_lipo}\n",
    "\n",
    "pixels_dict = {'Cells': all_cell_pixels, 'Lipofuscin': all_lipo_pixels}\n",
    "\n",
    "origin_group = 'Lipofuscin'\n",
    "bin_group = 'Cells'\n",
    "\n",
    "colors_dict = {'Cells': 'b', 'Lipofuscin': 'k'}\n",
    "\n",
    "#title = 'Diff gauss sigma = ({0}, {1}); binarized above {2} std from median'.format(sigma_small, sigma_large, thresh_scale)\n",
    "#title = 'Raw images'\n",
    "save_loc = 'G:\\\\Shared drives\\\\as_share\\\\HCR\\\\HCR 3.11\\\\S5\\\\Plots'\n",
    "#save_file = '{0} hist lipo + cells.png'.format(title)\n",
    "save_file = 'Gauss blur sigma = 3px'\n",
    "#save_file = '{0} hist cells.png'.format(title)\n",
    "\n",
    "output = m_dist.m_dist(img_dict, pixels_dict, origin_group, bin_group, colors_dict = colors_dict, thresh_scale = 0,\n",
    "#                             title = title, \n",
    "                       save = True, save_loc = save_loc, save_file = save_file)\n",
    "\n",
    "m_dist_vals = output['m_dist']\n",
    "thresh = output['thresh']\n",
    "cov = output['cov']\n",
    "\n",
    "print('Threshold log mahalanobis distance = {0}'.format(np.log(thresh)))\n",
    "\n",
    "del img_dict\n",
    "del pixels_dict"
   ]
  },
  {
   "cell_type": "markdown",
   "metadata": {
    "heading_collapsed": true
   },
   "source": [
    "##### Not necessary to run this cell - it's a part of m_dist.py"
   ]
  },
  {
   "cell_type": "code",
   "execution_count": 37,
   "metadata": {
    "ExecuteTime": {
     "end_time": "2020-03-06T19:05:39.435881Z",
     "start_time": "2020-03-06T19:05:39.343130Z"
    },
    "hidden": true
   },
   "outputs": [],
   "source": [
    "\n",
    "channel_names = list(img_dict.keys())\n",
    "n_channels = len(channel_names)\n",
    "\n",
    "px_groups = list(pixels_dict.keys())\n",
    "\n",
    "\n",
    "# %% Get values for each channel for each pixel group\n",
    "px_vals = {}\n",
    "\n",
    "for group in px_groups:\n",
    "\n",
    "    px = pixels_dict[group]\n",
    "\n",
    "\n",
    "    px_vals[group] = {}\n",
    "\n",
    "    for channel in channel_names:\n",
    "        px_vals[group][channel] = img_dict[channel][(px[:, 0], px[:, 1], px[:, 2])]\n",
    "\n",
    "\n",
    "# %% Get mean and covariance matrix of origin group\n",
    "mu = np.zeros(n_channels)\n",
    "origin_px = np.zeros([n_channels, px_vals[origin_group][channel_names[0]].shape[0]])\n",
    "for c in range(n_channels):\n",
    "    mu[c] = np.mean(px_vals[origin_group][channel_names[c]])\n",
    "    origin_px[c, :] = px_vals[origin_group][channel_names[c]]\n",
    "\n",
    "cov = np.cov(origin_px) \n",
    "VI = np.linalg.inv(cov)     "
   ]
  },
  {
   "cell_type": "code",
   "execution_count": 196,
   "metadata": {
    "ExecuteTime": {
     "end_time": "2020-03-25T21:38:09.667953Z",
     "start_time": "2020-03-25T21:38:09.653953Z"
    },
    "hidden": true
   },
   "outputs": [],
   "source": [
    "all_points = m_dist_vals['Cells']\n",
    "center = np.median(all_points)\n",
    "neg_points = all_points[all_points < center]\n",
    "pos_points = neg_points + center\n",
    "all_points = np.concatenate([neg_points, pos_points])\n",
    "s = np.std(all_points)"
   ]
  },
  {
   "cell_type": "code",
   "execution_count": 197,
   "metadata": {
    "ExecuteTime": {
     "end_time": "2020-03-25T21:38:19.704953Z",
     "start_time": "2020-03-25T21:38:19.699953Z"
    },
    "hidden": true
   },
   "outputs": [
    {
     "data": {
      "text/plain": [
       "1.3070425864249915"
      ]
     },
     "execution_count": 197,
     "metadata": {},
     "output_type": "execute_result"
    }
   ],
   "source": [
    "s"
   ]
  },
  {
   "cell_type": "code",
   "execution_count": 198,
   "metadata": {
    "ExecuteTime": {
     "end_time": "2020-03-25T21:38:38.697953Z",
     "start_time": "2020-03-25T21:38:38.691953Z"
    },
    "hidden": true
   },
   "outputs": [
    {
     "data": {
      "text/plain": [
       "3.712910596417829"
      ]
     },
     "execution_count": 198,
     "metadata": {},
     "output_type": "execute_result"
    }
   ],
   "source": [
    "(np.exp(2) - center)/s"
   ]
  },
  {
   "cell_type": "code",
   "execution_count": 200,
   "metadata": {
    "ExecuteTime": {
     "end_time": "2020-03-25T21:39:31.416953Z",
     "start_time": "2020-03-25T21:39:31.412953Z"
    },
    "hidden": true
   },
   "outputs": [
    {
     "data": {
      "text/plain": [
       "1.997713646069735"
      ]
     },
     "execution_count": 200,
     "metadata": {},
     "output_type": "execute_result"
    }
   ],
   "source": [
    "np.log(thresh)"
   ]
  },
  {
   "cell_type": "code",
   "execution_count": 41,
   "metadata": {
    "ExecuteTime": {
     "end_time": "2020-03-06T19:06:49.399129Z",
     "start_time": "2020-03-06T19:06:49.333303Z"
    },
    "hidden": true
   },
   "outputs": [
    {
     "data": {
      "text/plain": [
       "<matplotlib.colorbar.Colorbar at 0x13803da6508>"
      ]
     },
     "execution_count": 41,
     "metadata": {},
     "output_type": "execute_result"
    }
   ],
   "source": [
    "plt.figure()\n",
    "plt.imshow(np.log(cov))\n",
    "plt.colorbar(label = 'Log covariance')"
   ]
  },
  {
   "cell_type": "markdown",
   "metadata": {
    "heading_collapsed": true
   },
   "source": [
    "## Use mahalanobis distance to label all lipofuscin pixels "
   ]
  },
  {
   "cell_type": "code",
   "execution_count": 32,
   "metadata": {
    "ExecuteTime": {
     "end_time": "2020-03-27T03:29:42.092953Z",
     "start_time": "2020-03-27T03:29:42.066953Z"
    },
    "hidden": true
   },
   "outputs": [],
   "source": [
    "lipo_pixels = all_cell_pixels[m_dist_vals['Cells'] < thresh, :]"
   ]
  },
  {
   "cell_type": "markdown",
   "metadata": {
    "heading_collapsed": true
   },
   "source": [
    "## Don't exclude pixels below some average intensity"
   ]
  },
  {
   "cell_type": "code",
   "execution_count": 33,
   "metadata": {
    "ExecuteTime": {
     "end_time": "2020-03-27T03:29:46.761953Z",
     "start_time": "2020-03-27T03:29:44.722953Z"
    },
    "hidden": true
   },
   "outputs": [
    {
     "name": "stdout",
     "output_type": "stream",
     "text": [
      "(757295,)\n"
     ]
    }
   ],
   "source": [
    "lipo_vals = np.zeros([3, len(lipo_pixels)])\n",
    "lipo_vals[0, :] = np.array([im_bin_ndnf_lipo[a[0], a[1], a[2]] for a in lipo_pixels])\n",
    "lipo_vals[1, :] = np.array([im_bin_vip_lipo[a[0], a[1], a[2]] for a in lipo_pixels])\n",
    "lipo_vals[2, :] = np.array([im_bin_sst_lipo[a[0], a[1], a[2]] for a in lipo_pixels])\n",
    "\n",
    "mean_vals = np.mean(lipo_vals, axis = 0)\n",
    "print(mean_vals.shape)\n",
    "\n",
    "lipo_low_cutoff = np.exp(5)\n",
    "lipo_pixels = lipo_pixels[mean_vals > lipo_low_cutoff] \n",
    "\n",
    "im_array_lipo = np.zeros(im_array_ndnf.shape)\n",
    "im_array_lipo[lipo_pixels[:, 0], lipo_pixels[:, 1], lipo_pixels[:, 2]] = np.ones(lipo_pixels.shape[0])\n"
   ]
  },
  {
   "cell_type": "markdown",
   "metadata": {
    "heading_collapsed": true
   },
   "source": [
    "## Re-calculate cell masks excluding lipofuscin pixels"
   ]
  },
  {
   "cell_type": "code",
   "execution_count": 34,
   "metadata": {
    "ExecuteTime": {
     "end_time": "2020-03-27T03:29:56.369953Z",
     "start_time": "2020-03-27T03:29:51.250953Z"
    },
    "hidden": true
   },
   "outputs": [
    {
     "name": "stdout",
     "output_type": "stream",
     "text": [
      "Data loaded\n",
      "Calculating\n",
      "Total number of pixels incorrect, could have removed incorrect pixels for cell\n"
     ]
    }
   ],
   "source": [
    "save_loc = 'G:\\\\Shared drives\\\\as_share\\\\HCR\\\\HCR 3.11\\S5'\n",
    "save_file = 'HCR_3.11_S5_cell_masks_without_lipofuscin.pkl'\n",
    "\n",
    "try:\n",
    "    with open('{0}{1}{2}'.format(save_loc, sep, save_file), 'rb') as f:\n",
    "        cell_pixels_no_lipo = pkl.load(f)\n",
    "        print('Data loaded')\n",
    "        jhk\n",
    "except:\n",
    "    \n",
    "    print('Calculating')\n",
    "    cell_pixels_no_lipo = {}\n",
    "\n",
    "    cells = mask_vertices.keys()\n",
    "#     cells = cells_sub + 1\n",
    "    n_px_total = 0\n",
    "    for cell in cells:\n",
    "\n",
    "        data = Cell.cell_data[cell]\n",
    "        planes = data['z_planes']\n",
    "        cell_pixels_no_lipo[cell] = {}\n",
    "\n",
    "        for plane in planes:\n",
    "\n",
    "            x = mask_vertices[cell][plane][0]\n",
    "            y = mask_vertices[cell][plane][1]\n",
    "            n = len(x)\n",
    "            cell_pixels_no_lipo[cell][plane] = np.array([[x[i], y[i]] for i in range(n) if im_array_lipo[plane, x[i], y[i]] == 0])\n",
    "            cell_pixels_no_lipo[cell][plane] = np.transpose(cell_pixels_no_lipo[cell][plane])\n",
    "#             cell_pixels_no_lipo[cell][plane] = {}\n",
    "#             n_px = mask_vertices[cell][plane][0].shape[0]\n",
    "#             m = m_dist_vals['Cells'][n_px_total:n_px_total + n_px] # Mahalanobis distance values for pixels in cell mask\n",
    "#             px_coords = np.array(mask_vertices[cell][plane])\n",
    "#             cell_pixels_no_lipo[cell][plane] = px_coords[:, m >= thresh]\n",
    "#             #cell_pixels_no_lipo[cell][plane] = px_coords[:, m ]\n",
    "#             n_px_total += n_px\n",
    "            \n",
    "\n",
    "\n",
    "    if not n_px_total == all_cell_pixels.shape[0]:\n",
    "        print('Total number of pixels incorrect, could have removed incorrect pixels for cell')\\\n",
    "\n",
    "    with open('{0}{1}{2}'.format(save_loc, sep, save_file), 'wb') as f:\n",
    "        pkl.dump(cell_pixels_no_lipo, f)"
   ]
  },
  {
   "cell_type": "code",
   "execution_count": 180,
   "metadata": {
    "ExecuteTime": {
     "end_time": "2020-03-24T23:19:20.928953Z",
     "start_time": "2020-03-24T23:19:20.922953Z"
    },
    "hidden": true
   },
   "outputs": [
    {
     "data": {
      "text/plain": [
       "array([  0,   1,   2,   3,   4,   5,   6,   7,   8,   9,  11,  12,  13,\n",
       "        14,  15,  16,  17,  18,  19,  20,  21,  22,  23,  24,  25,  26,\n",
       "        28,  30,  31,  32,  33,  34,  35,  37,  38,  39,  40,  41,  42,\n",
       "        43,  44,  48,  49,  50,  51,  52,  53,  54,  55,  56,  57,  58,\n",
       "        59,  60,  61,  62,  63,  64,  65,  66,  67,  68,  69,  70,  71,\n",
       "        72,  73,  74,  75,  76,  77,  78,  80,  81,  82,  83,  84,  85,\n",
       "        86,  87,  88,  89,  90,  91,  92,  93,  95,  96,  97,  99, 102,\n",
       "       104, 105, 106, 110, 111, 120, 125, 132, 140, 141, 143, 145, 146,\n",
       "       165])"
      ]
     },
     "execution_count": 180,
     "metadata": {},
     "output_type": "execute_result"
    }
   ],
   "source": [
    "cells"
   ]
  },
  {
   "cell_type": "code",
   "execution_count": 177,
   "metadata": {
    "ExecuteTime": {
     "end_time": "2020-03-24T23:11:42.540953Z",
     "start_time": "2020-03-24T23:11:42.537953Z"
    },
    "hidden": true
   },
   "outputs": [
    {
     "data": {
      "text/plain": [
       "dict_keys([1, 2, 3, 4, 5, 6, 7, 8, 9, 10, 12, 13, 14, 15, 16, 17, 18, 19, 20, 21, 22, 23, 24, 25, 26, 27, 29, 31, 32, 33, 34, 35, 36, 38, 39, 40, 41, 42, 43, 44, 45, 49, 50, 51, 52, 53, 54, 55, 56, 57, 58, 59, 60, 61, 62, 63, 64, 65, 66, 67, 68, 69, 70, 71, 72, 73, 74, 75, 76, 77, 78, 79, 81, 82, 83, 84, 85, 86, 87, 88, 89, 90, 91, 92, 93, 94, 96, 97, 98, 100, 103, 105, 106, 107, 111, 112, 121, 126, 133, 141, 142, 144, 146, 147, 166])"
      ]
     },
     "execution_count": 177,
     "metadata": {},
     "output_type": "execute_result"
    }
   ],
   "source": [
    "cell_pixels_no_lipo.keys()"
   ]
  },
  {
   "cell_type": "markdown",
   "metadata": {
    "heading_collapsed": true
   },
   "source": [
    "## Delete large arrays"
   ]
  },
  {
   "cell_type": "code",
   "execution_count": null,
   "metadata": {
    "ExecuteTime": {
     "start_time": "2020-03-22T01:53:44.424Z"
    },
    "hidden": true
   },
   "outputs": [],
   "source": [
    "del im_diff_ndnf\n",
    "del im_diff_sst\n",
    "del im_diff_vip\n",
    "del im_bin_ndnf\n",
    "del im_bin_vip\n",
    "del im_bin_sst\n"
   ]
  },
  {
   "cell_type": "code",
   "execution_count": null,
   "metadata": {
    "ExecuteTime": {
     "start_time": "2020-03-22T01:54:48.476Z"
    },
    "hidden": true
   },
   "outputs": [],
   "source": [
    "del im_bin_gad1\n",
    "del im_diff_gad1"
   ]
  },
  {
   "cell_type": "code",
   "execution_count": null,
   "metadata": {
    "ExecuteTime": {
     "start_time": "2020-03-22T01:54:48.929Z"
    },
    "hidden": true
   },
   "outputs": [],
   "source": [
    "del im_array_ndnf\n",
    "del im_array_sst\n",
    "del im_array_vip\n",
    "del im_array_gad1\n",
    "del im_array_dapi"
   ]
  },
  {
   "cell_type": "code",
   "execution_count": null,
   "metadata": {
    "hidden": true
   },
   "outputs": [],
   "source": []
  },
  {
   "cell_type": "markdown",
   "metadata": {
    "heading_collapsed": true
   },
   "source": [
    "# Classify cells by gene expression"
   ]
  },
  {
   "cell_type": "markdown",
   "metadata": {
    "heading_collapsed": true,
    "hidden": true
   },
   "source": [
    "## Calculate intensity for each gene in each cell "
   ]
  },
  {
   "cell_type": "markdown",
   "metadata": {
    "heading_collapsed": true,
    "hidden": true
   },
   "source": [
    "### Average intensity in all pixels in cell mask"
   ]
  },
  {
   "cell_type": "code",
   "execution_count": 40,
   "metadata": {
    "ExecuteTime": {
     "end_time": "2020-03-27T03:34:23.357953Z",
     "start_time": "2020-03-27T03:34:23.283953Z"
    },
    "code_folding": [],
    "hidden": true
   },
   "outputs": [
    {
     "name": "stdout",
     "output_type": "stream",
     "text": [
      "Data loaded\n"
     ]
    }
   ],
   "source": [
    "save_loc = 'G:\\\\Shared drives\\\\as_share\\\\HCR\\\\HCR 3.11\\\\S5'\n",
    "save_file = 'S5_data_ndnf_sst_vip.pkl'\n",
    "\n",
    "try:\n",
    "    with open('{0}\\\\{1}'.format(save_loc, save_file), 'rb') as f:\n",
    "        sig = pkl.load(f)\n",
    "    avg_intensity_ndnf = sig['Ndnf']\n",
    "    avg_intensity_sst = sig['Sst'] \n",
    "    avg_intensity_vip = sig['Vip']\n",
    "    print('Data loaded')\n",
    "\n",
    "except:\n",
    "    print('Data not found, calculating intensities')\n",
    "    no_cells = len(Cell.cell_data.keys())\n",
    "    avg_intensity_ndnf = np.zeros(no_cells)\n",
    "    avg_intensity_vip = np.zeros(no_cells)\n",
    "    avg_intensity_sst = np.zeros(no_cells)\n",
    "\n",
    "    for cell in range(no_cells):\n",
    "\n",
    "        if np.mod(cell, 10) == 0:\n",
    "            print('Cell {0}'.format(cell))\n",
    "        cell_no = cell + 1\n",
    "        cell_dict = Cell.cell_data[cell_no]\n",
    "        z_planes = cell_dict['z_planes']\n",
    "\n",
    "        intensity_ndnf = np.zeros(cell_dict['no_planes'])\n",
    "        intensity_vip = np.zeros(cell_dict['no_planes'])\n",
    "        intensity_sst = np.zeros(cell_dict['no_planes'])\n",
    "\n",
    "        i = 0\n",
    "        for plane in z_planes:\n",
    "\n",
    "            xy_coord = mask_vertices[cell_no][plane]\n",
    "            x = xy_coord[0]\n",
    "            y = xy_coord[1]\n",
    "            intensity_ndnf[i] = np.mean(im_array_ndnf[plane, x, y])\n",
    "            intensity_vip[i] = np.mean(im_array_vip[plane, x, y])\n",
    "            intensity_sst[i] = np.mean(im_array_sst[plane, x, y])\n",
    "            i += 1\n",
    "\n",
    "        avg_intensity_ndnf[cell] = np.mean(intensity_ndnf)\n",
    "        avg_intensity_vip[cell] = np.mean(intensity_vip)\n",
    "        avg_intensity_sst[cell] = np.mean(intensity_sst)\n",
    "\n",
    "        with open('{0}\\\\{1}'.format(save_loc, save_file), 'wb') as f:\n",
    "            pkl.dump({'Ndnf': avg_intensity_ndnf, 'Sst': avg_intensity_sst, 'Vip':avg_intensity_vip}, f)\n"
   ]
  },
  {
   "cell_type": "markdown",
   "metadata": {
    "heading_collapsed": true,
    "hidden": true
   },
   "source": [
    "### Intensity in masks excluding lipofuscin pixels"
   ]
  },
  {
   "cell_type": "code",
   "execution_count": 46,
   "metadata": {
    "ExecuteTime": {
     "end_time": "2020-03-27T03:56:29.201953Z",
     "start_time": "2020-03-27T03:55:48.582953Z"
    },
    "code_folding": [],
    "hidden": true
   },
   "outputs": [
    {
     "name": "stdout",
     "output_type": "stream",
     "text": [
      "Data loaded\n",
      "Data not found, calculating intensities\n",
      "Cell 0\n",
      "Cell 10\n",
      "Cell 20\n",
      "Cell 30\n",
      "Cell 40\n",
      "Cell 50\n",
      "Cell 60\n",
      "Cell 70\n",
      "Cell 80\n",
      "Cell 90\n",
      "Cell 100\n",
      "Cell 110\n",
      "Cell 120\n",
      "Cell 130\n",
      "Cell 140\n",
      "Cell 150\n",
      "Cell 160\n",
      "Cell 170\n",
      "Cell 180\n",
      "Cell 190\n",
      "Cell 200\n",
      "Cell 210\n",
      "Cell 220\n",
      "Cell 230\n",
      "Cell 240\n",
      "Cell 250\n",
      "Cell 260\n",
      "Cell 270\n",
      "Cell 280\n",
      "Cell 290\n",
      "Cell 300\n",
      "Cell 310\n",
      "Cell 320\n",
      "Cell 330\n",
      "Cell 340\n",
      "Cell 350\n"
     ]
    }
   ],
   "source": [
    "save_loc = 'G:\\\\Shared drives\\\\as_share\\\\HCR\\\\HCR 3.11\\\\S5'\n",
    "save_file = 'S5_data_ndnf_sst_vip.pkl'\n",
    "\n",
    "try:\n",
    "    with open('{0}\\\\{1}'.format(save_loc, save_file), 'rb') as f:\n",
    "        sig = pkl.load(f)\n",
    "    int_ndnf = sig['Ndnf_lipo_excl']\n",
    "    int_sst = sig['Sst_lipo_excl'] \n",
    "    int_vip = sig['Vip_lipo_excl']\n",
    "    print('Data loaded')\n",
    "    ejkl\n",
    "\n",
    "except:\n",
    "    print('Data not found, calculating intensities')\n",
    "    no_cells = len(Cell.cell_data.keys())\n",
    "    int_ndnf = np.zeros(no_cells)\n",
    "    int_vip = np.zeros(no_cells)\n",
    "    int_sst = np.zeros(no_cells)\n",
    "\n",
    "    for cell in range(no_cells):\n",
    "    #for cell in cells_sub:\n",
    "\n",
    "        if np.mod(cell, 10) == 0:\n",
    "            print('Cell {0}'.format(cell))\n",
    "        cell_no = cell + 1\n",
    "        cell_dict = Cell.cell_data[cell_no]\n",
    "        z_planes = cell_dict['z_planes']\n",
    "\n",
    "        intensity_ndnf = np.zeros(cell_dict['no_planes'])\n",
    "        intensity_vip = np.zeros(cell_dict['no_planes'])\n",
    "        intensity_sst = np.zeros(cell_dict['no_planes'])\n",
    "\n",
    "        i = 0\n",
    "        for plane in z_planes:\n",
    "\n",
    "            xy_coord = cell_pixels_no_lipo[cell_no][plane]\n",
    "            \n",
    "            if xy_coord.shape[1] == 0: # all pixels are lipofuscin pixels\n",
    "                intensity_ndnf[i] = 0\n",
    "                intensity_vip[i] = 0\n",
    "                intensity_sst[i] = 0\n",
    "                continue\n",
    "                \n",
    "            x = xy_coord[0, :]\n",
    "            y = xy_coord[1, :]\n",
    "            intensity_ndnf[i] = np.mean(im_array_ndnf[plane, x, y])\n",
    "            intensity_vip[i] = np.mean(im_array_vip[plane, x, y])\n",
    "            intensity_sst[i] = np.mean(im_array_sst[plane, x, y])\n",
    "            i += 1\n",
    "\n",
    "        int_ndnf[cell] = np.mean(intensity_ndnf)\n",
    "        int_vip[cell] = np.mean(intensity_vip)\n",
    "        int_sst[cell] = np.mean(intensity_sst)\n",
    "        \n",
    "        sig['Ndnf_lipo_excl'] = int_ndnf\n",
    "        sig['Sst_lipo_excl'] = int_sst \n",
    "        sig['Vip_lipo_excl'] = int_vip \n",
    "\n",
    "        with open('{0}\\\\{1}'.format(save_loc, save_file), 'wb') as f:\n",
    "            pkl.dump(sig, f)\n"
   ]
  },
  {
   "cell_type": "markdown",
   "metadata": {
    "heading_collapsed": true,
    "hidden": true
   },
   "source": [
    "### Intensity in masks excluding lipofuscin pixels in binarized images (essentially spot counting)"
   ]
  },
  {
   "cell_type": "markdown",
   "metadata": {
    "heading_collapsed": true,
    "hidden": true
   },
   "source": [
    "#### Filter images (smaller filter than for finding lipofuscin pixels)"
   ]
  },
  {
   "cell_type": "code",
   "execution_count": 42,
   "metadata": {
    "ExecuteTime": {
     "end_time": "2020-03-27T03:44:32.476953Z",
     "start_time": "2020-03-27T03:35:34.563953Z"
    },
    "code_folding": [
     2
    ],
    "hidden": true,
    "run_control": {
     "marked": true
    }
   },
   "outputs": [
    {
     "name": "stdout",
     "output_type": "stream",
     "text": [
      "No images found, filtering images (~5 minutes)\n",
      "147 seconds\n",
      "283 seconds\n",
      "537 seconds\n"
     ]
    }
   ],
   "source": [
    "t0 = time.time()    \n",
    "\n",
    "print('No images found, filtering images (~5 minutes)')\n",
    "sigma_small = 1\n",
    "sigma_large = 2\n",
    "\n",
    "\n",
    "img = im_array_ndnf\n",
    "im_diff_ndnf = diff_gauss.diff_gauss(sigma_small, sigma_large, img, do_plot = 1)\n",
    "t1 = time.time() - t0\n",
    "print('{0} seconds'.format(int(t1)))\n",
    "\n",
    "img = im_array_sst\n",
    "im_diff_sst = diff_gauss.diff_gauss(sigma_small, sigma_large, img, do_plot = 0)\n",
    "t1 = time.time() - t0\n",
    "print('{0} seconds'.format(int(t1)))\n",
    "\n",
    "img = im_array_vip\n",
    "im_diff_vip = diff_gauss.diff_gauss(sigma_small, sigma_large, img, do_plot = 0)\n",
    "t1 = time.time() - t0\n",
    "print('{0} seconds'.format(int(t1)))\n",
    "\n",
    "#     img = im_array_gad1\n",
    "#     im_diff_gad1 = diff_gauss.diff_gauss(sigma_small, sigma_large, img, do_plot = 1)\n",
    "#     t1 = time.time() - t0\n",
    "#     print('{0} seconds'.format(int(t1)))\n",
    "\n",
    "del img"
   ]
  },
  {
   "cell_type": "markdown",
   "metadata": {
    "heading_collapsed": true,
    "hidden": true
   },
   "source": [
    "##### Save filtered images"
   ]
  },
  {
   "cell_type": "code",
   "execution_count": null,
   "metadata": {
    "hidden": true
   },
   "outputs": [],
   "source": [
    "t0 = time.time()\n",
    "save_loc = 'G:\\\\Shared drives\\\\as_share\\\\HCR\\\\HCR 3.11\\\\S5'\n",
    "\n",
    "save_file = 'Gad1_im_diff_sigma_small = {0}, sigma_large = {1}'.format(sigma_small, sigma_large)\n",
    "h5f = h5py.File('{0}{1}{2}.h5'.format(save_loc, sep, save_file), 'w')\n",
    "h5f.create_dataset('dataset_1', data=im_diff_gad1)\n",
    "h5f.close()\n",
    "\n",
    "print('im_diff_gad1 saved: {0} seconds'.format(np.round(time.time() - t0)))\n",
    "    \n",
    "save_file = 'Ndnf_im_diff_sigma_small = {0}, sigma_large = {1}'.format(sigma_small, sigma_large)\n",
    "h5f = h5py.File('{0}{1}{2}.h5'.format(save_loc, sep, save_file), 'w')\n",
    "h5f.create_dataset('dataset_1', data=im_diff_ndnf)\n",
    "h5f.close()\n",
    "\n",
    "print('im_diff_ndnf saved: {0} seconds'.format(np.round(time.time() - t0)))\n",
    "    \n",
    "save_file = 'Sst_im_diff_sigma_small = {0}, sigma_large = {1}'.format(sigma_small, sigma_large)\n",
    "h5f = h5py.File('{0}{1}{2}.h5'.format(save_loc, sep, save_file), 'w')\n",
    "h5f.create_dataset('dataset_1', data=im_diff_sst)\n",
    "h5f.close()\n",
    "\n",
    "print('im_diff_sst saved: {0} seconds'.format(np.round(time.time() - t0)))\n",
    "    \n",
    "save_file = 'Vip_im_diff_sigma_small = {0}, sigma_large = {1}'.format(sigma_small, sigma_large)\n",
    "h5f = h5py.File('{0}{1}{2}.h5'.format(save_loc, sep, save_file), 'w')\n",
    "h5f.create_dataset('dataset_1', data=im_diff_vip)\n",
    "h5f.close()\n",
    "\n",
    "print('im_diff_vip saved: {0} seconds'.format(np.round(time.time() - t0)))"
   ]
  },
  {
   "cell_type": "markdown",
   "metadata": {
    "heading_collapsed": true,
    "hidden": true
   },
   "source": [
    "#### Binarize"
   ]
  },
  {
   "cell_type": "code",
   "execution_count": 59,
   "metadata": {
    "ExecuteTime": {
     "end_time": "2020-03-27T05:15:38.121953Z",
     "start_time": "2020-03-27T05:14:56.627953Z"
    },
    "hidden": true,
    "run_control": {
     "marked": true
    }
   },
   "outputs": [
    {
     "name": "stdout",
     "output_type": "stream",
     "text": [
      "Finding threshold for binarizing\n",
      "Finding threshold for binarizing\n",
      "Finding threshold for binarizing\n"
     ]
    }
   ],
   "source": [
    "img_dict = {'Ndnf': im_diff_ndnf, 'Sst': im_diff_sst, 'Vip': im_diff_vip}\n",
    "#img_dict = {'Ndnf': im_array_ndnf, 'Sst': im_array_sst, 'Vip': im_array_vip}\n",
    "\n",
    "pixels_dict = {'Cells': all_cell_pixels, 'Lipofuscin': all_lipo_pixels}\n",
    "#pixels_dict = {'Cells': all_cell_pixels}\n",
    "\n",
    "colors_dict = {'Cells': 'b', 'Lipofuscin': 'k'}\n",
    "\n",
    "title = 'Diff gauss sigma = ({0}, {1})'.format(sigma_small, sigma_large)\n",
    "#title = 'Raw images'\n",
    "save_loc = 'G:\\\\Shared drives\\\\as_share\\\\HCR\\\\HCR 3.11\\\\S5\\\\Plots'\n",
    "save_file = '{0} hist lipo + cells.png'.format(title)\n",
    "#save_file = '{0} hist cells.png'.format(title)\n",
    "\n",
    "thresh_scale = 12\n",
    "\n",
    "thresh = hist_channels.hist_channels(img_dict, pixels_dict, max_per_group= 100000, \n",
    "                                     do_bin = True, bin_group = 'Cells', thresh_scale = thresh_scale,\n",
    "                                     colors_dict = colors_dict, \n",
    "                                     title = title, save = True, save_loc = save_loc, save_file = save_file)\n",
    "\n",
    "del img_dict\n",
    "del pixels_dict\n",
    "\n",
    "im_bin_ndnf = np.zeros(im_diff_ndnf.shape)\n",
    "im_bin_sst = np.zeros(im_diff_ndnf.shape)\n",
    "im_bin_vip = np.zeros(im_diff_ndnf.shape)\n",
    "#im_bin_gad1 = np.zeros(im_diff_gad1.shape)\n",
    "\n",
    "ix_ndnf = np.where(im_diff_ndnf > thresh['Ndnf'])\n",
    "ix_sst = np.where(im_diff_sst > thresh['Sst'])\n",
    "ix_vip = np.where(im_diff_vip > thresh['Vip'])\n",
    "#ix_gad1 = np.where(im_diff_gad1 > thresh['Gad1'])\n",
    "\n",
    "im_bin_ndnf[ix_ndnf] = im_diff_ndnf[ix_ndnf]\n",
    "im_bin_sst[ix_sst] = im_diff_sst[ix_sst]\n",
    "im_bin_vip[ix_vip] = im_diff_vip[ix_vip]\n",
    "#im_bin_gad1[ix_gad1] = im_diff_gad1[ix_gad1]"
   ]
  },
  {
   "cell_type": "markdown",
   "metadata": {
    "heading_collapsed": true,
    "hidden": true
   },
   "source": [
    "#### Calculate intensities"
   ]
  },
  {
   "cell_type": "code",
   "execution_count": 60,
   "metadata": {
    "ExecuteTime": {
     "end_time": "2020-03-27T05:16:08.923953Z",
     "start_time": "2020-03-27T05:16:04.371953Z"
    },
    "hidden": true
   },
   "outputs": [
    {
     "name": "stdout",
     "output_type": "stream",
     "text": [
      "Data loaded\n",
      "Data not found, calculating intensities\n",
      "Cell 0\n",
      "Cell 10\n",
      "Cell 20\n",
      "Cell 30\n",
      "Cell 40\n",
      "Cell 50\n",
      "Cell 60\n",
      "Cell 70\n",
      "Cell 80\n",
      "Cell 90\n",
      "Cell 100\n",
      "Cell 110\n",
      "Cell 120\n",
      "Cell 130\n",
      "Cell 140\n",
      "Cell 150\n",
      "Cell 160\n",
      "Cell 170\n",
      "Cell 180\n",
      "Cell 190\n",
      "Cell 200\n",
      "Cell 210\n",
      "Cell 220\n",
      "Cell 230\n",
      "Cell 240\n",
      "Cell 250\n",
      "Cell 260\n",
      "Cell 270\n",
      "Cell 280\n",
      "Cell 290\n",
      "Cell 300\n",
      "Cell 310\n",
      "Cell 320\n",
      "Cell 330\n",
      "Cell 340\n",
      "Cell 350\n"
     ]
    }
   ],
   "source": [
    "# Note: size of spot is also relevant here. \n",
    "save_loc = 'G:\\\\Shared drives\\\\as_share\\\\HCR\\\\HCR 3.11\\\\S5'\n",
    "save_file = 'S5_data_ndnf_sst_vip.pkl'\n",
    "\n",
    "try:\n",
    "    with open('{0}\\\\{1}'.format(save_loc, save_file), 'rb') as f:\n",
    "        sig = pkl.load(f)\n",
    "    int_ndnf_bin = sig['Ndnf_lipo_excl_bin']\n",
    "    int_sst_bin = sig['Sst_lipo_excl_bin'] \n",
    "    int_vip_bin = sig['Vip_lipo_excl_bin']\n",
    "    print('Data loaded')\n",
    "    jfio\n",
    "\n",
    "except:\n",
    "    print('Data not found, calculating intensities')\n",
    "    no_cells = len(Cell.cell_data.keys())\n",
    "    int_ndnf_bin = np.zeros(no_cells)\n",
    "    int_vip_bin = np.zeros(no_cells)\n",
    "    int_sst_bin = np.zeros(no_cells)\n",
    "\n",
    "    for cell in range(no_cells):\n",
    "#     for cell in cells_sub:\n",
    "        \n",
    "        if np.mod(cell, 10) == 0:\n",
    "            print('Cell {0}'.format(cell))\n",
    "        cell_no = cell + 1\n",
    "        cell_dict = Cell.cell_data[cell_no]\n",
    "        z_planes = cell_dict['z_planes']\n",
    "\n",
    "        intensity_ndnf = np.zeros(cell_dict['no_planes'])\n",
    "        intensity_vip = np.zeros(cell_dict['no_planes'])\n",
    "        intensity_sst = np.zeros(cell_dict['no_planes'])\n",
    "\n",
    "        i = 0\n",
    "        for plane in z_planes:\n",
    "\n",
    "            xy_coord = cell_pixels_no_lipo[cell_no][plane]\n",
    "            \n",
    "            if xy_coord.shape[1] == 0: # all pixels are lipofuscin pixels\n",
    "                intensity_ndnf[i] = 0\n",
    "                intensity_vip[i] = 0\n",
    "                intensity_sst[i] = 0\n",
    "                continue\n",
    "                \n",
    "            x = xy_coord[0, :]\n",
    "            y = xy_coord[1, :]\n",
    "            intensity_ndnf[i] = np.mean(im_bin_ndnf[plane, x, y])\n",
    "            intensity_vip[i] = np.mean(im_bin_vip[plane, x, y])\n",
    "            intensity_sst[i] = np.mean(im_bin_sst[plane, x, y])\n",
    "            i += 1\n",
    "\n",
    "        int_ndnf_bin[cell] = np.mean(intensity_ndnf)\n",
    "        int_vip_bin[cell] = np.mean(intensity_vip)\n",
    "        int_sst_bin[cell] = np.mean(intensity_sst)\n",
    "        \n",
    "    sig['Ndnf_lipo_excl_bin'] = int_ndnf_bin\n",
    "    sig['Sst_lipo_excl_bin'] = int_sst_bin \n",
    "    sig['Vip_lipo_excl_bin'] = int_vip_bin \n",
    "\n",
    "    with open('{0}\\\\{1}'.format(save_loc, save_file), 'wb') as f:\n",
    "        pkl.dump(sig, f)\n",
    "\n"
   ]
  },
  {
   "cell_type": "markdown",
   "metadata": {
    "heading_collapsed": true,
    "hidden": true
   },
   "source": [
    "### Intensity in masks excluding lipofuscin pixels in diff images"
   ]
  },
  {
   "cell_type": "code",
   "execution_count": 23,
   "metadata": {
    "ExecuteTime": {
     "end_time": "2020-03-23T19:42:02.911953Z",
     "start_time": "2020-03-23T19:41:59.257953Z"
    },
    "hidden": true
   },
   "outputs": [
    {
     "name": "stdout",
     "output_type": "stream",
     "text": [
      "Data not found, calculating intensities\n",
      "Cell 0\n",
      "Cell 10\n",
      "Cell 20\n",
      "Cell 30\n",
      "Cell 40\n",
      "Cell 50\n",
      "Cell 60\n",
      "Cell 70\n",
      "Cell 80\n",
      "Cell 90\n",
      "Cell 100\n",
      "Cell 110\n",
      "Cell 120\n",
      "Cell 130\n",
      "Cell 140\n",
      "Cell 150\n",
      "Cell 160\n",
      "Cell 170\n",
      "Cell 180\n",
      "Cell 190\n",
      "Cell 200\n",
      "Cell 210\n",
      "Cell 220\n",
      "Cell 230\n",
      "Cell 240\n",
      "Cell 250\n",
      "Cell 260\n",
      "Cell 270\n",
      "Cell 280\n",
      "Cell 290\n",
      "Cell 300\n",
      "Cell 310\n",
      "Cell 320\n",
      "Cell 330\n",
      "Cell 340\n",
      "Cell 350\n"
     ]
    }
   ],
   "source": [
    "# Note: size of spot is also relevant here. \n",
    "\n",
    "save_loc = 'G:\\\\Shared drives\\\\as_share\\\\HCR\\\\HCR 3.11\\\\S5'\n",
    "save_file = 'S5_data2_ndnf_sst_vip.pkl'\n",
    "\n",
    "try:\n",
    "    with open('{0}\\\\{1}'.format(save_loc, save_file), 'rb') as f:\n",
    "        sig = pkl.load(f)\n",
    "    int_ndnf_diff = sig['ndnf_lipo_excl_diff']\n",
    "    int_sst_diff = sig['sst_lipo_excl_diff'] \n",
    "    int_vip_diff = sig['vip_lipo_excl_diff']\n",
    "    print('Data loaded')\n",
    "\n",
    "except:\n",
    "    print('Data not found, calculating intensities')\n",
    "    no_cells = len(Cell.cell_data.keys())\n",
    "    int_ndnf_diff = np.zeros(no_cells)\n",
    "    int_vip_diff = np.zeros(no_cells)\n",
    "    int_sst_diff = np.zeros(no_cells)\n",
    "\n",
    "    for cell in range(no_cells):\n",
    "\n",
    "        if np.mod(cell, 10) == 0:\n",
    "            print('Cell {0}'.format(cell))\n",
    "        cell_no = cell + 1\n",
    "        cell_dict = Cell.cell_data[cell_no]\n",
    "        z_planes = cell_dict['z_planes']\n",
    "\n",
    "        intensity_ndnf = np.zeros(cell_dict['no_planes'])\n",
    "        intensity_vip = np.zeros(cell_dict['no_planes'])\n",
    "        intensity_sst = np.zeros(cell_dict['no_planes'])\n",
    "\n",
    "        i = 0\n",
    "        for plane in np.array(z_planes).astype(int):\n",
    "\n",
    "            xy_coord = cell_pixels_no_lipo[cell_no][plane]\n",
    "            x = xy_coord[0]\n",
    "            y = xy_coord[1]\n",
    "            intensity_ndnf[i] = np.mean(im_diff_ndnf[plane, x, y])\n",
    "            intensity_vip[i] = np.mean(im_diff_vip[plane, x, y])\n",
    "            intensity_sst[i] = np.mean(im_diff_sst[plane, x, y])\n",
    "            i += 1\n",
    "\n",
    "        int_ndnf_diff[cell] = np.mean(intensity_ndnf)\n",
    "        int_vip_diff[cell] = np.mean(intensity_vip)\n",
    "        int_sst_diff[cell] = np.mean(intensity_sst)\n",
    "        \n",
    "        sig['ndnf_lipo_excl_bin'] = int_ndnf_diff\n",
    "        sig['sst_lipo_excl_bin'] = int_sst_diff\n",
    "        sig['vip_lipo_excl_bin'] = int_vip_diff\n",
    "\n",
    "    with open('{0}\\\\{1}'.format(save_loc, save_file), 'wb') as f:\n",
    "            pkl.dump(sig, f)\n"
   ]
  },
  {
   "cell_type": "markdown",
   "metadata": {
    "heading_collapsed": true,
    "hidden": true
   },
   "source": [
    "## Local background"
   ]
  },
  {
   "cell_type": "markdown",
   "metadata": {
    "heading_collapsed": true,
    "hidden": true
   },
   "source": [
    "### Raw images"
   ]
  },
  {
   "cell_type": "code",
   "execution_count": 53,
   "metadata": {
    "ExecuteTime": {
     "end_time": "2020-03-27T04:34:53.878953Z",
     "start_time": "2020-03-27T04:34:04.960953Z"
    },
    "code_folding": [],
    "hidden": true
   },
   "outputs": [
    {
     "name": "stdout",
     "output_type": "stream",
     "text": [
      "Data not found, calculating background values\n"
     ]
    }
   ],
   "source": [
    "save_loc = 'G:\\\\Shared drives\\\\as_share\\\\HCR\\\\HCR 3.11\\\\S5'\n",
    "save_file = 'S5_background_ndnf_sst_vip.pkl'\n",
    "\n",
    "try:\n",
    "    with open('{0}\\\\{1}'.format(save_loc, save_file), 'rb') as f:\n",
    "        dict = pkl.load(f)\n",
    "    \n",
    "    avg_bg_ndnf = dict['Ndnf'] \n",
    "    avg_bg_sst = dict['Sst']  \n",
    "    avg_bg_vip = dict['Vip']\n",
    "    centers = dict['Centers']\n",
    "    n_vert_all = dict['n_vert_all']\n",
    "    #bg_all = dict['bg_all']\n",
    "    ghj\n",
    "    print('Data loaded')\n",
    "\n",
    "except:\n",
    "    \n",
    "    print('Data not found, calculating background values')\n",
    "    bg_all = np.ones([n, h, w])\n",
    "    n_vert_all = {}\n",
    "    centers = {}\n",
    "\n",
    "    no_cells = len(Cell.cell_data.keys())\n",
    "    for cell in range(no_cells):\n",
    "\n",
    "        cell_no = cell + 1\n",
    "        cell_dict = Cell.cell_data[cell_no]\n",
    "        z_planes = cell_dict['z_planes']\n",
    "        n_vert_all[cell] = {}\n",
    "        centers[cell] = {}\n",
    "\n",
    "        for plane in z_planes:\n",
    "\n",
    "            xy_coord = mask_vertices[cell_no][plane]\n",
    "            x = xy_coord[0]\n",
    "            y = xy_coord[1]\n",
    "            z = plane\n",
    "            centers[cell][plane] = np.array([np.mean(x), np.mean(y)]).astype(int)\n",
    "\n",
    "\n",
    "            bg_all[z, x, y] = np.zeros([1, len(x)])\n",
    "\n",
    "            n_vert_all[cell][plane] = len(x) \n",
    "            \n",
    "    # fig, ax = plt.subplots(nrows = 3, ncols = 20)\n",
    "    um_per_px = 0.13\n",
    "    no_cells = len(Cell.cell_data.keys())\n",
    "    avg_bg_ndnf = np.zeros(no_cells)\n",
    "    avg_bg_vip = np.zeros(no_cells)\n",
    "    avg_bg_sst = np.zeros(no_cells)\n",
    "\n",
    "    local_region = 50 # in um\n",
    "    local_px = int(local_region/um_per_px/2)\n",
    "\n",
    "    min_dist = 10 # in um\n",
    "    min_dist_px = min_dist/um_per_px\n",
    "\n",
    "    for cell in range(no_cells):\n",
    "        cell_no = cell + 1\n",
    "        cell_dict = Cell.cell_data[cell_no]\n",
    "        z_planes = cell_dict['z_planes']\n",
    "\n",
    "        bg_ndnf = np.zeros(len(z_planes))\n",
    "        bg_vip = np.zeros(len(z_planes))\n",
    "        bg_sst = np.zeros(len(z_planes))\n",
    "\n",
    "        p = 0\n",
    "        for plane in z_planes:\n",
    "\n",
    "            center = centers[cell][plane]\n",
    "            n_verts = n_vert_all[cell][plane]\n",
    "\n",
    "            x1 = np.max([0, center[0] - local_px])\n",
    "            x2 = np.min([h, center[0] + local_px])\n",
    "            y1 = np.max([0, center[1] - local_px])\n",
    "            y2 = np.min([w, center[1] + local_px])\n",
    "\n",
    "            center_local = [local_px, local_px]\n",
    "\n",
    "            local_bg = bg_all[plane, x1:x2, y1:y2].astype(bool)\n",
    "            local_im_ndnf = im_array_ndnf[plane, x1:x2, y1:y2]\n",
    "            local_im_sst = im_array_sst[plane, x1:x2, y1:y2]\n",
    "            local_im_vip = im_array_vip[plane, x1:x2, y1:y2]\n",
    "\n",
    "    #         ax[0, cell].imshow(local_im, vmin = np.min(local_im), vmax = np.max(local_im)/2)\n",
    "\n",
    "    #         ax[1, cell].imshow(local_bg)\n",
    "\n",
    "            verts = np.array(np.where(local_bg))\n",
    "            dist_from_center = np.linalg.norm(verts - np.reshape(center_local, [2, 1]), axis = 0)\n",
    "            verts = verts[:, dist_from_center > min_dist_px]\n",
    "            dist_from_center = dist_from_center[dist_from_center > min_dist_px]\n",
    "\n",
    "            order = np.argsort(dist_from_center)\n",
    "            n_verts = np.min([n_verts, len(order)])\n",
    "\n",
    "            x_bg = verts[0][order[0:n_verts]]\n",
    "            y_bg = verts[1][order[0:n_verts]]\n",
    "\n",
    "            local_bg = np.zeros(local_bg.shape).astype(bool)\n",
    "            local_bg[x_bg, y_bg] = np.ones(n_verts)\n",
    "\n",
    "    #         ax[2, cell].imshow(local_bg)\n",
    "\n",
    "            bg_ndnf[p] = np.mean(local_im_ndnf[local_bg])\n",
    "            bg_vip[p] = np.mean(local_im_vip[local_bg])\n",
    "            bg_sst[p] = np.mean(local_im_sst[local_bg])\n",
    "\n",
    "            p += 1\n",
    "\n",
    "\n",
    "\n",
    "        avg_bg_ndnf[cell] = np.mean(bg_ndnf)\n",
    "        avg_bg_vip[cell] = np.mean(bg_vip)\n",
    "        avg_bg_sst[cell] = np.mean(bg_sst)\n",
    "\n",
    "    with open('{0}\\\\{1}'.format(save_loc, save_file), 'wb') as f:\n",
    "        pkl.dump({'Ndnf': avg_bg_ndnf, 'Sst': avg_bg_sst, 'Vip':avg_bg_vip, 'Centers': centers, \n",
    "                  'n_vert_all':n_vert_all, \n",
    "                  #'bg_all': bg_all\n",
    "                 }, f)\n",
    "            \n",
    "    #del bg_all"
   ]
  },
  {
   "cell_type": "markdown",
   "metadata": {
    "heading_collapsed": true,
    "hidden": true
   },
   "source": [
    "### Binarized images"
   ]
  },
  {
   "cell_type": "code",
   "execution_count": 26,
   "metadata": {
    "ExecuteTime": {
     "end_time": "2020-03-23T19:42:38.546953Z",
     "start_time": "2020-03-23T19:42:38.527953Z"
    },
    "hidden": true
   },
   "outputs": [],
   "source": [
    "save_loc = 'G:\\\\Shared drives\\\\as_share\\\\HCR\\\\HCR 3.11\\\\S5'\n",
    "save_file = 'S5_background_ndnf_sst_vip.pkl'\n",
    "\n",
    "with open('{0}\\\\{1}'.format(save_loc, save_file), 'rb') as f:\n",
    "        bg_dict = pkl.load(f)  "
   ]
  },
  {
   "cell_type": "code",
   "execution_count": 61,
   "metadata": {
    "ExecuteTime": {
     "end_time": "2020-03-27T05:17:16.903953Z",
     "start_time": "2020-03-27T05:16:33.828953Z"
    },
    "code_folding": [],
    "hidden": true
   },
   "outputs": [
    {
     "name": "stdout",
     "output_type": "stream",
     "text": [
      "Data loaded\n",
      "Data not found, calculating background values\n",
      "Cell 0\n",
      "Cell 10\n",
      "Cell 20\n",
      "Cell 30\n",
      "Cell 40\n",
      "Cell 50\n",
      "Cell 60\n",
      "Cell 70\n",
      "Cell 80\n",
      "Cell 90\n",
      "Cell 100\n",
      "Cell 110\n",
      "Cell 120\n",
      "Cell 130\n",
      "Cell 140\n",
      "Cell 150\n",
      "Cell 160\n",
      "Cell 170\n",
      "Cell 180\n",
      "Cell 190\n",
      "Cell 200\n",
      "Cell 210\n",
      "Cell 220\n",
      "Cell 230\n",
      "Cell 240\n",
      "Cell 250\n",
      "Cell 260\n",
      "Cell 270\n",
      "Cell 280\n",
      "Cell 290\n",
      "Cell 300\n",
      "Cell 310\n",
      "Cell 320\n",
      "Cell 330\n",
      "Cell 340\n",
      "Cell 350\n"
     ]
    }
   ],
   "source": [
    "save_loc = 'G:\\\\Shared drives\\\\as_share\\\\HCR\\\\HCR 3.11\\\\S5'\n",
    "save_file = 'S5_background_ndnf_sst_vip.pkl'\n",
    "\n",
    "try:\n",
    "    with open('{0}\\\\{1}'.format(save_loc, save_file), 'rb') as f:\n",
    "        bg_dict = pkl.load(f)   \n",
    "    \n",
    "    centers = bg_dict['Centers']\n",
    "    n_vert_all = bg_dict['n_vert_all']\n",
    "    #bg_all = bg_dict['bg_all']\n",
    "    avg_bg_ndnf_bin = bg_dict['Ndnf_bin'] \n",
    "    avg_bg_sst_bin = bg_dict['Sst_bin']  \n",
    "    avg_bg_vip_bin = bg_dict['Vip_bin']\n",
    "    print('Data loaded')\n",
    "    fdjkl\n",
    "\n",
    "except:\n",
    "    \n",
    "    print('Data not found, calculating background values')\n",
    "    bg_all = np.ones([n, h, w])\n",
    "    n_vert_all = {}\n",
    "    centers = {}\n",
    "\n",
    "    no_cells = len(Cell.cell_data.keys())\n",
    "    for cell in range(no_cells):\n",
    "#     for cell in cells_sub:\n",
    "\n",
    "        cell_no = cell + 1\n",
    "        cell_dict = Cell.cell_data[cell_no]\n",
    "        z_planes = cell_dict['z_planes']\n",
    "        n_vert_all[cell] = {}\n",
    "        centers[cell] = {}\n",
    "\n",
    "        for plane in z_planes:\n",
    "\n",
    "            xy_coord = mask_vertices[cell_no][plane]\n",
    "            x = xy_coord[0]\n",
    "            y = xy_coord[1]\n",
    "            z = plane\n",
    "            centers[cell][plane] = np.array([np.mean(x), np.mean(y)]).astype(int)\n",
    "\n",
    "\n",
    "            bg_all[z, x, y] = np.zeros([1, len(x)])\n",
    "\n",
    "            n_vert_all[cell][plane] = len(x) \n",
    "            \n",
    "    # fig, ax = plt.subplots(nrows = 3, ncols = 20)\n",
    "    um_per_px = 0.13\n",
    "    no_cells = len(Cell.cell_data.keys())\n",
    "    avg_bg_ndnf_bin = np.zeros(no_cells)\n",
    "    avg_bg_vip_bin = np.zeros(no_cells)\n",
    "    avg_bg_sst_bin = np.zeros(no_cells)\n",
    "\n",
    "    local_region = 50 # in um\n",
    "    local_px = int(local_region/um_per_px/2)\n",
    "\n",
    "    min_dist = 10 # in um\n",
    "    min_dist_px = min_dist/um_per_px\n",
    "\n",
    "    for cell in range(no_cells):\n",
    "#     for cell in cells_sub:\n",
    "        cell_no = cell + 1\n",
    "        if np.mod(cell, 10) == 0:\n",
    "            print('Cell {0}'.format(cell))\n",
    "        cell_dict = Cell.cell_data[cell_no]\n",
    "        z_planes = cell_dict['z_planes']\n",
    "\n",
    "        bg_ndnf = np.zeros(len(z_planes))\n",
    "        bg_vip = np.zeros(len(z_planes))\n",
    "        bg_sst = np.zeros(len(z_planes))\n",
    "\n",
    "        p = 0\n",
    "        for plane in z_planes:\n",
    "\n",
    "            center = centers[cell][plane]\n",
    "            n_verts = n_vert_all[cell][plane]\n",
    "\n",
    "            x1 = np.max([0, center[0] - local_px])\n",
    "            x2 = np.min([h, center[0] + local_px])\n",
    "            y1 = np.max([0, center[1] - local_px])\n",
    "            y2 = np.min([w, center[1] + local_px])\n",
    "\n",
    "            center_local = [local_px, local_px]\n",
    "\n",
    "            local_bg = bg_all[plane, x1:x2, y1:y2].astype(bool)\n",
    "            local_im_ndnf = im_bin_ndnf[plane, x1:x2, y1:y2]\n",
    "            local_im_sst = im_bin_sst[plane, x1:x2, y1:y2]\n",
    "            local_im_vip = im_bin_vip[plane, x1:x2, y1:y2]\n",
    "\n",
    "    #         ax[0, cell].imshow(local_im, vmin = np.min(local_im), vmax = np.max(local_im)/2)\n",
    "\n",
    "    #         ax[1, cell].imshow(local_bg)\n",
    "\n",
    "            verts = np.array(np.where(local_bg))\n",
    "            dist_from_center = np.linalg.norm(verts - np.reshape(center_local, [2, 1]), axis = 0)\n",
    "            verts = verts[:, dist_from_center > min_dist_px]\n",
    "            dist_from_center = dist_from_center[dist_from_center > min_dist_px]\n",
    "\n",
    "            order = np.argsort(dist_from_center)\n",
    "            n_verts = np.min([n_verts, len(order)])\n",
    "\n",
    "            x_bg = verts[0][order[0:n_verts]]\n",
    "            y_bg = verts[1][order[0:n_verts]]\n",
    "\n",
    "            local_bg = np.zeros(local_bg.shape).astype(bool)\n",
    "            local_bg[x_bg, y_bg] = np.ones(n_verts)\n",
    "\n",
    "    #         ax[2, cell].imshow(local_bg)\n",
    "\n",
    "            bg_ndnf[p] = np.mean(local_im_ndnf[local_bg])\n",
    "            bg_vip[p] = np.mean(local_im_vip[local_bg])\n",
    "            bg_sst[p] = np.mean(local_im_sst[local_bg])\n",
    "\n",
    "            p += 1\n",
    "\n",
    "\n",
    "\n",
    "        avg_bg_ndnf_bin[cell] = np.mean(bg_ndnf)\n",
    "        avg_bg_vip_bin[cell] = np.mean(bg_vip)\n",
    "        avg_bg_sst_bin[cell] = np.mean(bg_sst)\n",
    "        \n",
    "    bg_dict['Ndnf_bin'] = avg_bg_ndnf_bin \n",
    "    bg_dict['Sst_bin'] = avg_bg_sst_bin \n",
    "    bg_dict['Vip_bin'] = avg_bg_vip_bin \n",
    "\n",
    "    with open('{0}\\\\{1}'.format(save_loc, save_file), 'wb') as f:\n",
    "        pkl.dump(bg_dict, f)\n",
    "            \n",
    "    #del bg_all"
   ]
  },
  {
   "cell_type": "markdown",
   "metadata": {
    "heading_collapsed": true,
    "hidden": true
   },
   "source": [
    "### Background in diff images"
   ]
  },
  {
   "cell_type": "code",
   "execution_count": 27,
   "metadata": {
    "ExecuteTime": {
     "end_time": "2020-03-23T19:43:36.467953Z",
     "start_time": "2020-03-23T19:42:46.113953Z"
    },
    "hidden": true
   },
   "outputs": [
    {
     "name": "stdout",
     "output_type": "stream",
     "text": [
      "Data not found, calculating background values\n",
      "Cell 0\n",
      "Cell 10\n",
      "Cell 20\n",
      "Cell 30\n",
      "Cell 40\n",
      "Cell 50\n",
      "Cell 60\n",
      "Cell 70\n",
      "Cell 80\n",
      "Cell 90\n",
      "Cell 100\n",
      "Cell 110\n",
      "Cell 120\n",
      "Cell 130\n",
      "Cell 140\n",
      "Cell 150\n",
      "Cell 160\n",
      "Cell 170\n",
      "Cell 180\n",
      "Cell 190\n",
      "Cell 200\n",
      "Cell 210\n",
      "Cell 220\n",
      "Cell 230\n",
      "Cell 240\n",
      "Cell 250\n",
      "Cell 260\n",
      "Cell 270\n",
      "Cell 280\n",
      "Cell 290\n",
      "Cell 300\n",
      "Cell 310\n",
      "Cell 320\n",
      "Cell 330\n",
      "Cell 340\n",
      "Cell 350\n"
     ]
    }
   ],
   "source": [
    "save_loc = 'G:\\\\Shared drives\\\\as_share\\\\HCR\\\\HCR 3.12\\\\S5'\n",
    "save_file = 'S5_background2_ndnf_sst_vip.pkl'\n",
    "\n",
    "try:\n",
    "    with open('{0}\\\\{1}'.format(save_loc, save_file), 'rb') as f:\n",
    "        bg_dict = pkl.load(f)   \n",
    "    \n",
    "    centers = bg_dict['Centers']\n",
    "    n_vert_all = bg_dict['n_vert_all']\n",
    "    bg_all = bg_dict['bg_all']\n",
    "    avg_bg_ndnf_diff = bg_dict['ndnf_diff'] \n",
    "    avg_bg_sst_diff = bg_dict['sst_diff']  \n",
    "    avg_bg_vip_diff = bg_dict['vip_diff']\n",
    "\n",
    "    print('Data loaded')\n",
    "\n",
    "except:\n",
    "    \n",
    "    print('Data not found, calculating background values')\n",
    "    bg_all = np.ones([n, h, w])\n",
    "    n_vert_all = {}\n",
    "    centers = {}\n",
    "\n",
    "    no_cells = len(Cell.cell_data.keys())\n",
    "    for cell in range(no_cells):\n",
    "\n",
    "        cell_no = cell + 1\n",
    "        cell_dict = Cell.cell_data[cell_no]\n",
    "        z_planes = cell_dict['z_planes']\n",
    "        n_vert_all[cell] = {}\n",
    "        centers[cell] = {}\n",
    "\n",
    "        for plane in np.array(z_planes).astype(int):\n",
    "\n",
    "            xy_coord = mask_vertices[cell_no][plane]\n",
    "            x = xy_coord[0]\n",
    "            y = xy_coord[1]\n",
    "            z = plane\n",
    "            centers[cell][plane] = np.array([np.mean(x), np.mean(y)]).astype(int)\n",
    "\n",
    "\n",
    "            bg_all[z, x, y] = np.zeros([1, len(x)])\n",
    "\n",
    "            n_vert_all[cell][plane] = len(x) \n",
    "            \n",
    "    # fig, ax = plt.subplots(nrows = 3, ncols = 20)\n",
    "    um_per_px = 0.19\n",
    "    no_cells = len(Cell.cell_data.keys())\n",
    "    avg_bg_ndnf_diff = np.zeros(no_cells)\n",
    "    avg_bg_vip_diff = np.zeros(no_cells)\n",
    "    avg_bg_sst_diff = np.zeros(no_cells)\n",
    "\n",
    "    local_region = 50 # in um\n",
    "    local_px = int(local_region/um_per_px/2)\n",
    "\n",
    "    min_dist = 10 # in um\n",
    "    min_dist_px = min_dist/um_per_px\n",
    "\n",
    "    for cell in range(no_cells):\n",
    "        cell_no = cell + 1\n",
    "        if np.mod(cell, 10) == 0:\n",
    "            print('Cell {0}'.format(cell))\n",
    "        cell_dict = Cell.cell_data[cell_no]\n",
    "        z_planes = cell_dict['z_planes']\n",
    "\n",
    "        bg_ndnf = np.zeros(len(z_planes))\n",
    "        bg_vip = np.zeros(len(z_planes))\n",
    "        bg_sst = np.zeros(len(z_planes))\n",
    "\n",
    "        p = 0\n",
    "        for plane in np.array(z_planes).astype(int):\n",
    "\n",
    "            center = centers[cell][plane]\n",
    "            n_verts = n_vert_all[cell][plane]\n",
    "\n",
    "            x1 = np.max([0, center[0] - local_px])\n",
    "            x2 = np.min([h, center[0] + local_px])\n",
    "            y1 = np.max([0, center[1] - local_px])\n",
    "            y2 = np.min([w, center[1] + local_px])\n",
    "\n",
    "            center_local = [local_px, local_px]\n",
    "\n",
    "            local_bg = bg_all[plane, x1:x2, y1:y2].astype(bool)\n",
    "            local_im_ndnf = im_diff_ndnf[plane, x1:x2, y1:y2]\n",
    "            local_im_sst = im_diff_sst[plane, x1:x2, y1:y2]\n",
    "            local_im_vip = im_diff_vip[plane, x1:x2, y1:y2]\n",
    "\n",
    "    #         ax[0, cell].imshow(local_im, vmin = np.min(local_im), vmax = np.max(local_im)/2)\n",
    "\n",
    "    #         ax[1, cell].imshow(local_bg)\n",
    "\n",
    "            verts = np.array(np.where(local_bg))\n",
    "            dist_from_center = np.linalg.norm(verts - np.reshape(center_local, [2, 1]), axis = 0)\n",
    "            verts = verts[:, dist_from_center > min_dist_px]\n",
    "            dist_from_center = dist_from_center[dist_from_center > min_dist_px]\n",
    "\n",
    "            order = np.argsort(dist_from_center)\n",
    "            n_verts = np.min([n_verts, len(order)])\n",
    "\n",
    "            x_bg = verts[0][order[0:n_verts]]\n",
    "            y_bg = verts[1][order[0:n_verts]]\n",
    "\n",
    "            local_bg = np.zeros(local_bg.shape).astype(bool)\n",
    "            local_bg[x_bg, y_bg] = np.ones(n_verts)\n",
    "\n",
    "    #         ax[2, cell].imshow(local_bg)\n",
    "\n",
    "            bg_ndnf[p] = np.mean(local_im_ndnf[local_bg])\n",
    "            bg_vip[p] = np.mean(local_im_vip[local_bg])\n",
    "            bg_sst[p] = np.mean(local_im_sst[local_bg])\n",
    "\n",
    "            p += 1\n",
    "\n",
    "\n",
    "\n",
    "        avg_bg_ndnf_diff[cell] = np.mean(bg_ndnf)\n",
    "        avg_bg_vip_diff[cell] = np.mean(bg_vip)\n",
    "        avg_bg_sst_diff[cell] = np.mean(bg_sst)\n",
    "        \n",
    "    bg_dict['ndnf_bin'] = avg_bg_ndnf_diff \n",
    "    bg_dict['sst_bin'] = avg_bg_sst_diff \n",
    "    bg_dict['vip_bin'] = avg_bg_vip_diff \n",
    "\n",
    "    with open('{0}\\\\{1}'.format(save_loc, save_file), 'wb') as f:\n",
    "        pkl.dump(bg_dict, f)\n",
    "            \n",
    "    del bg_all"
   ]
  },
  {
   "cell_type": "markdown",
   "metadata": {
    "heading_collapsed": true,
    "hidden": true
   },
   "source": [
    "### Calculate mask centers"
   ]
  },
  {
   "cell_type": "code",
   "execution_count": 123,
   "metadata": {
    "ExecuteTime": {
     "end_time": "2020-03-24T03:33:12.762953Z",
     "start_time": "2020-03-24T03:33:10.933953Z"
    },
    "hidden": true
   },
   "outputs": [],
   "source": [
    "bg_all = np.ones([n, h, w])\n",
    "n_vert_all = {}\n",
    "centers = {}\n",
    "\n",
    "no_cells = len(Cell.cell_data.keys())\n",
    "for cell in range(no_cells):\n",
    "\n",
    "    cell_no = cell + 1\n",
    "    cell_dict = Cell.cell_data[cell_no]\n",
    "    z_planes = cell_dict['z_planes']\n",
    "    n_vert_all[cell] = {}\n",
    "    centers[cell] = {}\n",
    "\n",
    "    for plane in z_planes:\n",
    "\n",
    "        xy_coord = mask_vertices[cell_no][plane]\n",
    "        x = xy_coord[0]\n",
    "        y = xy_coord[1]\n",
    "        z = plane\n",
    "        centers[cell][plane] = np.array([np.mean(x), np.mean(y)]).astype(int)\n",
    "\n",
    "\n",
    "        bg_all[z, x, y] = np.zeros([1, len(x)])\n",
    "\n",
    "        n_vert_all[cell][plane] = len(x) "
   ]
  },
  {
   "cell_type": "code",
   "execution_count": 78,
   "metadata": {
    "ExecuteTime": {
     "end_time": "2020-03-06T19:44:47.565092Z",
     "start_time": "2020-03-06T19:44:47.555118Z"
    },
    "hidden": true
   },
   "outputs": [
    {
     "data": {
      "text/plain": [
       "'S1_background_ndnf_sst_vip.pkl'"
      ]
     },
     "execution_count": 78,
     "metadata": {},
     "output_type": "execute_result"
    }
   ],
   "source": [
    "save_file"
   ]
  },
  {
   "cell_type": "code",
   "execution_count": 94,
   "metadata": {
    "ExecuteTime": {
     "end_time": "2020-03-06T19:50:50.105003Z",
     "start_time": "2020-03-06T19:50:37.025307Z"
    },
    "hidden": true
   },
   "outputs": [],
   "source": [
    "with open('{0}\\\\{1}'.format(save_loc, save_file), 'wb') as f:\n",
    "            pkl.dump({'Ndnf': avg_bg_ndnf, 'Sst': avg_bg_sst, 'Vip':avg_bg_vip, 'Centers': centers,\n",
    "                     'n_vert_all': n_vert_all, 'bg_all': bg_all}, f)"
   ]
  },
  {
   "cell_type": "code",
   "execution_count": 127,
   "metadata": {
    "ExecuteTime": {
     "end_time": "2020-03-03T23:52:44.060292Z",
     "start_time": "2020-03-03T23:52:44.055303Z"
    },
    "hidden": true
   },
   "outputs": [],
   "source": [
    "del all_cell_pixels"
   ]
  },
  {
   "cell_type": "markdown",
   "metadata": {
    "heading_collapsed": true,
    "hidden": true
   },
   "source": [
    "## Use background to estimate significance of signal"
   ]
  },
  {
   "cell_type": "markdown",
   "metadata": {
    "heading_collapsed": true,
    "hidden": true
   },
   "source": [
    "### Get bootstrap sample means from background"
   ]
  },
  {
   "cell_type": "markdown",
   "metadata": {
    "heading_collapsed": true,
    "hidden": true
   },
   "source": [
    "#### Raw images"
   ]
  },
  {
   "cell_type": "markdown",
   "metadata": {
    "heading_collapsed": true,
    "hidden": true
   },
   "source": [
    "##### Check bootstrap samples"
   ]
  },
  {
   "cell_type": "code",
   "execution_count": null,
   "metadata": {
    "ExecuteTime": {
     "end_time": "2020-03-24T00:37:05.169953Z",
     "start_time": "2020-03-24T00:37:02.704Z"
    },
    "hidden": true
   },
   "outputs": [],
   "source": [
    "x - 1"
   ]
  },
  {
   "cell_type": "code",
   "execution_count": 73,
   "metadata": {
    "ExecuteTime": {
     "end_time": "2020-03-24T00:36:55.463953Z",
     "start_time": "2020-03-24T00:36:55.365953Z"
    },
    "hidden": true,
    "run_control": {
     "marked": true
    }
   },
   "outputs": [
    {
     "name": "stdout",
     "output_type": "stream",
     "text": [
      "Signal = 2998.144271880649\n",
      "Background = 2096.792077073065\n",
      "Signal - background = 901.352194807584\n",
      "Planes: dict_keys([1, 0])\n",
      "p value = 1.0\n"
     ]
    },
    {
     "data": {
      "text/plain": [
       "(array([  1.,   1.,   0.,   2.,   1.,   3.,   1.,   1.,   1.,   0., 983.,\n",
       "          6.,   0.,   0.,   0.,   0.,   0.,   0.,   0.,   0.,   0.,   0.,\n",
       "          0.,   0.,   0.,   0.,   0.,   0.,   0.,   0.,   0.,   0.,   0.,\n",
       "          0.,   0.,   0.,   0.,   0.,   0.,   0.,   0.,   0.,   0.,   0.,\n",
       "          0.,   0.,   0.,   0.,   0.,   0.,   0.,   0.,   0.,   0.,   0.,\n",
       "          0.,   0.,   0.,   0.,   0.,   0.,   0.,   0.,   0.,   0.,   0.,\n",
       "          0.,   0.,   0.,   0.,   0.,   0.,   0.,   0.,   0.,   0.,   0.,\n",
       "          0.,   1.,   0., 983.,   8.,   4.,   1.,   1.,   1.,   0.,   0.,\n",
       "          0.,   0.,   0.,   0.,   0.,   0.,   0.,   0.,   0.,   0.,   0.,\n",
       "          1.]),\n",
       " array([2063.36904418, 2064.200055  , 2065.03106583, 2065.86207665,\n",
       "        2066.69308747, 2067.5240983 , 2068.35510912, 2069.18611994,\n",
       "        2070.01713076, 2070.84814159, 2071.67915241, 2072.51016323,\n",
       "        2073.34117406, 2074.17218488, 2075.0031957 , 2075.83420652,\n",
       "        2076.66521735, 2077.49622817, 2078.32723899, 2079.15824982,\n",
       "        2079.98926064, 2080.82027146, 2081.65128229, 2082.48229311,\n",
       "        2083.31330393, 2084.14431475, 2084.97532558, 2085.8063364 ,\n",
       "        2086.63734722, 2087.46835805, 2088.29936887, 2089.13037969,\n",
       "        2089.96139051, 2090.79240134, 2091.62341216, 2092.45442298,\n",
       "        2093.28543381, 2094.11644463, 2094.94745545, 2095.77846627,\n",
       "        2096.6094771 , 2097.44048792, 2098.27149874, 2099.10250957,\n",
       "        2099.93352039, 2100.76453121, 2101.59554203, 2102.42655286,\n",
       "        2103.25756368, 2104.0885745 , 2104.91958533, 2105.75059615,\n",
       "        2106.58160697, 2107.4126178 , 2108.24362862, 2109.07463944,\n",
       "        2109.90565026, 2110.73666109, 2111.56767191, 2112.39868273,\n",
       "        2113.22969356, 2114.06070438, 2114.8917152 , 2115.72272602,\n",
       "        2116.55373685, 2117.38474767, 2118.21575849, 2119.04676932,\n",
       "        2119.87778014, 2120.70879096, 2121.53980178, 2122.37081261,\n",
       "        2123.20182343, 2124.03283425, 2124.86384508, 2125.6948559 ,\n",
       "        2126.52586672, 2127.35687755, 2128.18788837, 2129.01889919,\n",
       "        2129.84991001, 2130.68092084, 2131.51193166, 2132.34294248,\n",
       "        2133.17395331, 2134.00496413, 2134.83597495, 2135.66698577,\n",
       "        2136.4979966 , 2137.32900742, 2138.16001824, 2138.99102907,\n",
       "        2139.82203989, 2140.65305071, 2141.48406153, 2142.31507236,\n",
       "        2143.14608318, 2143.977094  , 2144.80810483, 2145.63911565,\n",
       "        2146.47012647]),\n",
       " <a list of 100 Patch objects>)"
      ]
     },
     "execution_count": 73,
     "metadata": {},
     "output_type": "execute_result"
    }
   ],
   "source": [
    "signal = int_ndnf - avg_bg_ndnf\n",
    "order = np.argsort(signal)\n",
    "npos = pv_ndnf2 < 0.05\n",
    "indices = order[np.logical_not(npos[order])]\n",
    "indices = indices[-20:]\n",
    "\n",
    "cell = indices[0]\n",
    "bg_bs = bg_bs_ndnf[cell]\n",
    "planes = bg_bs.keys()\n",
    "bs_means = []\n",
    "for plane in planes:\n",
    "    bs_means = np.concatenate([bs_means, bg_bs[plane]])\n",
    "    \n",
    "print('Signal = {0}'.format(int_ndnf[cell]))\n",
    "print('Background = {0}'.format(avg_bg_ndnf[cell]))\n",
    "print('Signal - background = {0}'.format(int_ndnf[cell] - avg_bg_ndnf[cell]))\n",
    "print('Planes: {0}'.format(planes))\n",
    "print('p value = {0}'.format(pv_ndnf2[cell]))\n",
    "\n",
    "plt.figure()\n",
    "plt.hist(bs_means, 100)"
   ]
  },
  {
   "cell_type": "markdown",
   "metadata": {
    "heading_collapsed": true,
    "hidden": true
   },
   "source": [
    "##### Get bootstrap values"
   ]
  },
  {
   "cell_type": "code",
   "execution_count": 52,
   "metadata": {
    "ExecuteTime": {
     "end_time": "2020-03-27T04:31:22.501953Z",
     "start_time": "2020-03-27T04:31:21.563953Z"
    },
    "code_folding": [],
    "hidden": true
   },
   "outputs": [
    {
     "name": "stdout",
     "output_type": "stream",
     "text": [
      "Data loaded\n"
     ]
    }
   ],
   "source": [
    "t0 = time.time()\n",
    "\n",
    "save_loc = 'G:\\\\Shared drives\\\\as_share\\\\HCR\\\\HCR 3.11\\\\S5'\n",
    "save_file = 'S5_bootstrap.pkl'\n",
    "\n",
    "# Parameters\n",
    "n_sample = 1000 # Number of samples to calculate bootstrap confidence interval\n",
    "um_per_px = 0.19\n",
    "local_region = 50 # in um\n",
    "min_dist = 10 # in um\n",
    "bg_factor = 4 # Take 4x the number of pixels in the mask of the cell, for local background - it will still be local but you'll\n",
    "            # get a better estimate of background by averaging over more pixels.\n",
    "\n",
    "try:\n",
    "    with open('{0}\\\\{1}'.format(save_loc, save_file), 'rb') as f:\n",
    "        d = pkl.load(f)\n",
    "    bg_bs_ndnf = d['Ndnf']\n",
    "    bg_bs_sst = d['Sst']\n",
    "    bg_bs_vip = d['Vip']\n",
    "    print('Data loaded')\n",
    "    \n",
    "except:\n",
    "    print('No data found, calculating p values')\n",
    "\n",
    "    no_cells = len(Cell.cell_data.keys())\n",
    "    bg_bs_ndnf = {}\n",
    "    bg_bs_sst = {}\n",
    "    bg_bs_vip = {}\n",
    "\n",
    "    local_px = int(local_region/um_per_px/2)\n",
    "    min_dist_px = min_dist/um_per_px\n",
    "\n",
    "    for cell in range(no_cells):\n",
    "\n",
    "        if np.mod(cell, 10) == 0:\n",
    "            print('Cell {0}: {1} seconds'.format(cell, np.round(time.time() - t0)))\n",
    "\n",
    "        cell_no = cell + 1\n",
    "        cell_dict = Cell.cell_data[cell_no]\n",
    "        z_planes = cell_dict['z_planes']\n",
    "\n",
    "        bg_bs_ndnf[cell] = {}\n",
    "        bg_bs_sst[cell] = {}\n",
    "        bg_bs_vip[cell] = {}\n",
    "        \n",
    "        p = 0\n",
    "\n",
    "        for plane in z_planes:\n",
    "\n",
    "            bg_bs_ndnf[cell][plane] = np.zeros(n_sample)\n",
    "            bg_bs_sst[cell][plane] = np.zeros(n_sample)\n",
    "            bg_bs_vip[cell][plane] = np.zeros(n_sample)\n",
    "            \n",
    "            center = centers[cell][plane]\n",
    "            n_verts = n_vert_all[cell][plane]\n",
    "\n",
    "            x1 = np.max([0, center[0] - local_px])\n",
    "            x2 = np.min([h, center[0] + local_px])\n",
    "            y1 = np.max([0, center[1] - local_px])\n",
    "            y2 = np.min([w, center[1] + local_px])\n",
    "\n",
    "            center_local = [local_px, local_px]\n",
    "\n",
    "            local_bg = bg_all[plane, x1:x2, y1:y2].astype(bool)\n",
    "\n",
    "            verts = np.array(np.where(local_bg))\n",
    "            dist_from_center = np.linalg.norm(verts - np.reshape(center_local, [2, 1]), \n",
    "                                              axis = 0)\n",
    "            verts = verts[:, dist_from_center > min_dist_px]\n",
    "            dist_from_center = dist_from_center[dist_from_center > min_dist_px]\n",
    "\n",
    "            order = np.argsort(dist_from_center)\n",
    "            n_verts_bg = np.min([bg_factor*n_verts, len(order)])\n",
    "\n",
    "            verts = verts[:, order[0:n_verts_bg]]\n",
    "            samples = np.random.choice(np.linspace(0, n_verts_bg - 1, n_verts_bg).astype(int), \n",
    "                                       (n_verts, n_sample), replace = True)\n",
    "            x_bs = verts[0][samples]\n",
    "            y_bs = verts[1][samples]\n",
    "\n",
    "            local_im_ndnf = im_array_ndnf[plane, x1:x2, y1:y2]\n",
    "            local_im_sst = im_array_sst[plane, x1:x2, y1:y2]\n",
    "            local_im_vip = im_array_vip[plane, x1:x2, y1:y2]\n",
    "\n",
    "\n",
    "            local_bg_bs = np.zeros([x2 - x1, y2 - y1]).astype(bool)\n",
    "            for s in range(n_sample):\n",
    "                local_bg_bs[x_bs[:, s], y_bs[:, s]] = np.ones(n_verts)\n",
    "                bg_bs_ndnf[cell][plane][s] = np.mean(local_im_ndnf[local_bg_bs])\n",
    "                bg_bs_vip[cell][plane][s] = np.mean(local_im_vip[local_bg_bs])\n",
    "                bg_bs_sst[cell][plane][s] = np.mean(local_im_sst[local_bg_bs])\n",
    "\n",
    "            p += 1\n",
    "\n",
    "    with open('{0}\\\\{1}'.format(save_loc, save_file), 'wb') as f:\n",
    "        pkl.dump({'Ndnf': bg_bs_ndnf, 'Vip': bg_bs_vip, 'Sst': bg_bs_sst}, f)     \n",
    "    "
   ]
  },
  {
   "cell_type": "markdown",
   "metadata": {
    "heading_collapsed": true,
    "hidden": true
   },
   "source": [
    "#### Binarized images"
   ]
  },
  {
   "cell_type": "code",
   "execution_count": 62,
   "metadata": {
    "ExecuteTime": {
     "end_time": "2020-03-27T05:29:56.537953Z",
     "start_time": "2020-03-27T05:19:09.956953Z"
    },
    "hidden": true,
    "scrolled": true
   },
   "outputs": [
    {
     "name": "stdout",
     "output_type": "stream",
     "text": [
      "Data loaded\n",
      "No data found, calculating p values\n",
      "Cell 0, 1.0 seconds\n",
      "Cell 10, 15.0 seconds\n",
      "Cell 20, 30.0 seconds\n",
      "Cell 30, 49.0 seconds\n",
      "Cell 40, 65.0 seconds\n",
      "Cell 50, 84.0 seconds\n",
      "Cell 60, 98.0 seconds\n",
      "Cell 70, 112.0 seconds\n",
      "Cell 80, 129.0 seconds\n",
      "Cell 90, 144.0 seconds\n",
      "Cell 100, 167.0 seconds\n",
      "Cell 110, 182.0 seconds\n",
      "Cell 120, 201.0 seconds\n",
      "Cell 130, 222.0 seconds\n",
      "Cell 140, 244.0 seconds\n",
      "Cell 150, 259.0 seconds\n",
      "Cell 160, 276.0 seconds\n",
      "Cell 170, 300.0 seconds\n",
      "Cell 180, 319.0 seconds\n",
      "Cell 190, 338.0 seconds\n",
      "Cell 200, 362.0 seconds\n",
      "Cell 210, 385.0 seconds\n",
      "Cell 220, 403.0 seconds\n",
      "Cell 230, 418.0 seconds\n",
      "Cell 240, 434.0 seconds\n",
      "Cell 250, 450.0 seconds\n",
      "Cell 260, 469.0 seconds\n",
      "Cell 270, 488.0 seconds\n",
      "Cell 280, 506.0 seconds\n",
      "Cell 290, 528.0 seconds\n",
      "Cell 300, 546.0 seconds\n",
      "Cell 310, 561.0 seconds\n",
      "Cell 320, 582.0 seconds\n",
      "Cell 330, 599.0 seconds\n",
      "Cell 340, 616.0 seconds\n",
      "Cell 350, 633.0 seconds\n"
     ]
    }
   ],
   "source": [
    "save_loc = 'G:\\\\Shared drives\\\\as_share\\\\HCR\\\\HCR 3.11\\\\S5'\n",
    "save_file = 'S5_bootstrap.pkl'\n",
    "\n",
    "# Parameters\n",
    "n_sample = 1000 # Number of samples to calculate bootstrap confidence interval\n",
    "um_per_px = 0.13\n",
    "local_region = 50 # in um\n",
    "min_dist = 10 # in um\n",
    "bg_factor = 10 # Take 10x the number of pixels in the mask of the cell, for local background - it will still be local but you'll\n",
    "            # get a better estimate of background by averaging over more pixels.\n",
    "\n",
    "t0 = time.time()\n",
    "try:\n",
    "    with open('{0}\\\\{1}'.format(save_loc, save_file), 'rb') as f:\n",
    "        d = pkl.load(f)\n",
    "    bg_bs_ndnf_bin = d['Ndnf_bin']\n",
    "    bg_bs_sst_bin = d['Sst_bin']\n",
    "    bg_bs_vip_bin = d['Vip_bin']\n",
    "    print('Data loaded')\n",
    "    jil\n",
    "    \n",
    "except:\n",
    "    print('No data found, calculating p values')\n",
    "\n",
    "    no_cells = len(Cell.cell_data.keys())\n",
    "    bg_bs_ndnf_bin = {}\n",
    "    bg_bs_sst_bin = {}\n",
    "    bg_bs_vip_bin = {}\n",
    "\n",
    "    local_px = int(local_region/um_per_px/2)\n",
    "    min_dist_px = min_dist/um_per_px\n",
    "\n",
    "    for cell in range(no_cells):\n",
    "#     for cell in cells_sub:\n",
    "\n",
    "        if np.mod(cell, 10) == 0:\n",
    "            t1 = np.round(time.time() - t0)\n",
    "            print('Cell {0}, {1} seconds'.format(cell, t1))\n",
    "\n",
    "        cell_no = cell + 1\n",
    "        cell_dict = Cell.cell_data[cell_no]\n",
    "        z_planes = cell_dict['z_planes']\n",
    "\n",
    "        bg_bs_ndnf_bin[cell] = {}\n",
    "        bg_bs_sst_bin[cell] = {}\n",
    "        bg_bs_vip_bin[cell] = {}\n",
    "        \n",
    "        p = 0\n",
    "\n",
    "        for plane in z_planes:\n",
    "\n",
    "            bg_bs_ndnf_bin[cell][plane] = np.zeros(n_sample)\n",
    "            bg_bs_sst_bin[cell][plane] = np.zeros(n_sample)\n",
    "            bg_bs_vip_bin[cell][plane] = np.zeros(n_sample)\n",
    "            \n",
    "            center = centers[cell][plane]\n",
    "            n_verts = n_vert_all[cell][plane]\n",
    "\n",
    "            x1 = np.max([0, center[0] - local_px])\n",
    "            x2 = np.min([h, center[0] + local_px])\n",
    "            y1 = np.max([0, center[1] - local_px])\n",
    "            y2 = np.min([w, center[1] + local_px])\n",
    "\n",
    "            center_local = [local_px, local_px]\n",
    "\n",
    "            local_bg = bg_all[plane, x1:x2, y1:y2].astype(bool)\n",
    "\n",
    "            verts = np.array(np.where(local_bg))\n",
    "            dist_from_center = np.linalg.norm(verts - np.reshape(center_local, [2, 1]), \n",
    "                                              axis = 0)\n",
    "            verts = verts[:, dist_from_center > min_dist_px]\n",
    "            dist_from_center = dist_from_center[dist_from_center > min_dist_px]\n",
    "\n",
    "            order = np.argsort(dist_from_center)\n",
    "            n_verts_bg = np.min([bg_factor*n_verts, len(order)])\n",
    "\n",
    "            verts = verts[:, order[0:n_verts_bg]]\n",
    "            samples = np.random.choice(np.linspace(0, n_verts_bg - 1, n_verts_bg).astype(int), \n",
    "                                       (n_verts, n_sample), replace = True)\n",
    "            x_bs = verts[0][samples]\n",
    "            y_bs = verts[1][samples]\n",
    "\n",
    "            local_im_ndnf = im_bin_ndnf[plane, x1:x2, y1:y2]\n",
    "            local_im_sst = im_bin_sst[plane, x1:x2, y1:y2]\n",
    "            local_im_vip = im_bin_vip[plane, x1:x2, y1:y2]\n",
    "\n",
    "\n",
    "            local_bg_bs = np.zeros([x2 - x1, y2 - y1]).astype(bool)\n",
    "            for s in range(n_sample):\n",
    "                local_bg_bs[x_bs[:, s], y_bs[:, s]] = np.ones(n_verts)\n",
    "                bg_bs_ndnf_bin[cell][plane][s] = np.mean(local_im_ndnf[local_bg_bs])\n",
    "                bg_bs_vip_bin[cell][plane][s] = np.mean(local_im_vip[local_bg_bs])\n",
    "                bg_bs_sst_bin[cell][plane][s] = np.mean(local_im_sst[local_bg_bs])\n",
    "\n",
    "            p += 1\n",
    "            \n",
    "    d['Ndnf_bin'] = bg_bs_ndnf_bin \n",
    "    d['Sst_bin'] = bg_bs_sst_bin \n",
    "    d['Vip_bin'] = bg_bs_vip_bin \n",
    "\n",
    "    with open('{0}\\\\{1}'.format(save_loc, save_file), 'wb') as f:\n",
    "        pkl.dump(d, f)     \n",
    "    "
   ]
  },
  {
   "cell_type": "markdown",
   "metadata": {
    "heading_collapsed": true,
    "hidden": true
   },
   "source": [
    "### Calculate p-value  and confidence interval"
   ]
  },
  {
   "cell_type": "code",
   "execution_count": 63,
   "metadata": {
    "ExecuteTime": {
     "end_time": "2020-03-27T05:30:41.590953Z",
     "start_time": "2020-03-27T05:30:41.110953Z"
    },
    "code_folding": [],
    "hidden": true
   },
   "outputs": [
    {
     "name": "stdout",
     "output_type": "stream",
     "text": [
      "Loaded p values for raw images\n",
      "Loaded confidence intervals\n",
      "Loaded p values for lipofuscin excluded masks\n",
      "Loaded p values for lipofuscin excluded masks in binarized images\n",
      "Data not found; calculating\n",
      "Cell 0\n",
      "Cell 10\n",
      "Cell 20\n",
      "Cell 30\n",
      "Cell 40\n",
      "Cell 50\n",
      "Cell 60\n",
      "Cell 70\n",
      "Cell 80\n",
      "Cell 90\n",
      "Cell 100\n",
      "Cell 110\n",
      "Cell 120\n",
      "Cell 130\n",
      "Cell 140\n",
      "Cell 150\n",
      "Cell 160\n",
      "Cell 170\n",
      "Cell 180\n",
      "Cell 190\n",
      "Cell 200\n",
      "Cell 210\n",
      "Cell 220\n",
      "Cell 230\n",
      "Cell 240\n",
      "Cell 250\n",
      "Cell 260\n",
      "Cell 270\n",
      "Cell 280\n",
      "Cell 290\n",
      "Cell 300\n",
      "Cell 310\n",
      "Cell 320\n",
      "Cell 330\n",
      "Cell 340\n",
      "Cell 350\n",
      "\n",
      "With raw images:\n",
      "Ndnf: 21 cells are significant\n",
      "Vip: 32 cells are significant\n",
      "Sst: 49 cells are significant\n",
      "\n",
      "Ndnf & Sst: 1 cells are significant\n",
      "Vip & Sst: 2 cells are significant\n",
      "Ndnf & Vip: 2 cells are significant\n",
      "\n",
      "With lipofuscin pixels exluded:\n",
      "Ndnf: 312 cells are significant\n",
      "Vip: 323 cells are significant\n",
      "Sst: 227 cells are significant\n",
      "\n",
      "Ndnf & Sst: 211 cells are significant\n",
      "Vip & Sst: 213 cells are significant\n",
      "Ndnf & Vip: 294 cells are significant\n",
      "\n",
      "With lipofuscin pixels exluded, in binarized images:\n",
      "Ndnf: 73 cells are significant\n",
      "Vip: 60 cells are significant\n",
      "Sst: 33 cells are significant\n",
      "\n",
      "Ndnf & Sst: 9 cells are significant\n",
      "Vip & Sst: 14 cells are significant\n",
      "Ndnf & Vip: 21 cells are significant\n"
     ]
    }
   ],
   "source": [
    "save_loc = 'G:\\\\Shared drives\\\\as_share\\\\HCR\\\\HCR 3.11\\\\S5'\n",
    "save_file1 = 'S5_pvals.pkl'\n",
    "save_file2 = 'S5_conf_intvls.pkl'\n",
    "save_file3 = 'S5_pvals_lipo_excl.pkl'\n",
    "save_file4 = 'S5_pvals_lipo_excl_bin.pkl'\n",
    "\n",
    "p_value = 0.05 # Threshold for calling signal significantly different from background\n",
    "\n",
    "try:\n",
    "    with open('{0}\\\\{1}'.format(save_loc, save_file1), 'rb') as f:\n",
    "        p_vals = pkl.load(f)\n",
    "        pv_ndnf = p_vals['Ndnf']\n",
    "        pv_sst = p_vals['Sst']\n",
    "        pv_vip = p_vals['Vip']\n",
    "    print('Loaded p values for raw images')\n",
    "    \n",
    "    with open('{0}\\\\{1}'.format(save_loc, save_file2), 'rb') as f:\n",
    "        ci = pkl.load(f)\n",
    "        ci_ndnf = ci['Ndnf']\n",
    "        ci_sst = ci['Sst']\n",
    "        ci_vip = ci['Vip']\n",
    "    print('Loaded confidence intervals')\n",
    "    \n",
    "    with open('{0}\\\\{1}'.format(save_loc, save_file3), 'rb') as f:\n",
    "        p_vals = pkl.load(f)\n",
    "        pv_ndnf2 = p_vals['Ndnf']\n",
    "        pv_sst2 = p_vals['Sst']\n",
    "        pv_vip2 = p_vals['Vip']\n",
    "    print('Loaded p values for lipofuscin excluded masks')\n",
    "    \n",
    "    with open('{0}\\\\{1}'.format(save_loc, save_file4), 'rb') as f:\n",
    "        p_vals = pkl.load(f)\n",
    "        pv_ndnf3 = p_vals['Ndnf']\n",
    "        pv_sst3 = p_vals['Sst']\n",
    "        pv_vip3 = p_vals['Vip']\n",
    "    print('Loaded p values for lipofuscin excluded masks in binarized images')\n",
    "    hu\n",
    "    \n",
    "except:\n",
    "    print('Data not found; calculating')\n",
    "    \n",
    "    ci_ndnf = np.zeros(no_cells)\n",
    "    ci_vip = np.zeros(no_cells)\n",
    "    ci_sst = np.zeros(no_cells)\n",
    "\n",
    "    pv_ndnf = np.zeros(no_cells)\n",
    "    pv_vip = np.zeros(no_cells)\n",
    "    pv_sst = np.zeros(no_cells)\n",
    "    \n",
    "    pv_ndnf2 = np.zeros(no_cells)\n",
    "    pv_vip2 = np.zeros(no_cells)\n",
    "    pv_sst2 = np.zeros(no_cells)\n",
    "    \n",
    "    pv_ndnf3 = np.ones(no_cells)\n",
    "    pv_vip3 = np.ones(no_cells)\n",
    "    pv_sst3 = np.ones(no_cells)\n",
    "    \n",
    "    for cell in range(no_cells):\n",
    "#     for cell in cells_sub:\n",
    "        \n",
    "        if np.mod(cell, 10) == 0:\n",
    "            print('Cell {0}'.format(cell))\n",
    "\n",
    "        cell_no = cell + 1\n",
    "        cell_dict = Cell.cell_data[cell_no]\n",
    "        z_planes = cell_dict['z_planes']\n",
    "\n",
    "        # Ndnf\n",
    "        \n",
    "        bs_means = bg_bs_ndnf[cell][z_planes[0]]\n",
    "        for plane in z_planes[1:]:\n",
    "            bs_means = np.concatenate([bs_means, bg_bs_ndnf[cell][plane]])\n",
    "        pv_ndnf[cell] = np.sum(bs_means > avg_intensity_ndnf[cell] - avg_bg_ndnf[cell])/len(bs_means)\n",
    "        ci_ndnf[cell] = np.mean(np.percentile(bs_means, (1 - p_value)*100, axis = 0))\n",
    "#         pv_ndnf2[cell] = np.sum(bs_means > int_ndnf[cell] - avg_bg_ndnf[cell])/len(bs_means)\n",
    "        pv_ndnf2[cell] = np.sum(bs_means >= int_ndnf[cell])/len(bs_means)\n",
    "        \n",
    "        bs_means = bg_bs_ndnf_bin[cell][z_planes[0]]\n",
    "        for plane in z_planes[1:]:\n",
    "            bs_means = np.concatenate([bs_means, bg_bs_ndnf_bin[cell][plane]])\n",
    "#         pv_ndnf3[cell] = np.sum(bs_means >= int_ndnf_bin[cell] - avg_bg_ndnf_bin[cell])/len(bs_means)\n",
    "        pv_ndnf3[cell] = np.sum(bs_means >= int_ndnf_bin[cell])/len(bs_means)\n",
    "        \n",
    "        # Vip\n",
    "        \n",
    "        bs_means = bg_bs_vip[cell][z_planes[0]]\n",
    "        for plane in z_planes[1:]:\n",
    "            bs_means = np.concatenate([bs_means, bg_bs_vip[cell][plane]])\n",
    "        pv_vip[cell] = np.sum(bs_means > avg_intensity_vip[cell] - avg_bg_vip[cell])/len(bs_means)\n",
    "#         pv_vip2[cell] = np.sum(bs_means > int_vip[cell] - avg_bg_vip[cell])/len(bs_means)\n",
    "        pv_vip2[cell] = np.sum(bs_means >= int_vip[cell])/len(bs_means)\n",
    "        \n",
    "        ci_vip[cell] = np.mean(np.percentile(bs_means, (1 - p_value)*100, axis = 0))\n",
    "\n",
    "        bs_means = bg_bs_vip_bin[cell][z_planes[0]]\n",
    "        for plane in z_planes[1:]:\n",
    "            bs_means = np.concatenate([bs_means, bg_bs_vip_bin[cell][plane]])\n",
    "#         pv_vip3[cell] = np.sum(bs_means >= int_vip_bin[cell] - avg_bg_vip_bin[cell])/len(bs_means)\n",
    "        pv_vip3[cell] = np.sum(bs_means >= int_vip_bin[cell])/len(bs_means)\n",
    "        \n",
    "        # Sst\n",
    "        \n",
    "        bs_means = bg_bs_sst[cell][z_planes[0]]\n",
    "        for plane in z_planes[1:]:\n",
    "            bs_means = np.concatenate([bs_means, bg_bs_sst[cell][plane]])\n",
    "        pv_sst[cell] = np.sum(bs_means > avg_intensity_sst[cell] - avg_bg_sst[cell])/len(bs_means)\n",
    "#         pv_sst2[cell] = np.sum(bs_means > int_sst[cell] - avg_bg_sst[cell])/len(bs_means)\n",
    "        pv_sst2[cell] = np.sum(bs_means >= int_sst[cell])/len(bs_means)\n",
    "        \n",
    "        ci_sst[cell] = np.mean(np.percentile(bs_means, (1 - p_value)*100, axis = 0))\n",
    "        \n",
    "        bs_means = bg_bs_sst_bin[cell][z_planes[0]]\n",
    "        for plane in z_planes[1:]:\n",
    "            bs_means = np.concatenate([bs_means, bg_bs_sst_bin[cell][plane]])\n",
    "#         pv_sst3[cell] = np.sum(bs_means >= int_sst_bin[cell] - avg_bg_sst_bin[cell])/len(bs_means)\n",
    "        pv_sst3[cell] = np.sum(bs_means >= int_sst_bin[cell])/len(bs_means)\n",
    "\n",
    "\n",
    "    with open('{0}\\\\{1}'.format(save_loc, save_file1), 'wb') as f:\n",
    "        pkl.dump({'Ndnf': pv_ndnf, 'Sst': pv_sst, 'Vip':pv_vip}, f)\n",
    "\n",
    "    with open('{0}\\\\{1}'.format(save_loc, save_file2), 'wb') as f:\n",
    "        pkl.dump({'Ndnf': ci_ndnf, 'Sst': ci_sst, 'Vip':ci_vip}, f)\n",
    "\n",
    "    with open('{0}\\\\{1}'.format(save_loc, save_file3), 'wb') as f:\n",
    "        pkl.dump({'Ndnf': pv_ndnf2, 'Sst': pv_sst2, 'Vip':pv_vip2}, f)\n",
    "\n",
    "    with open('{0}\\\\{1}'.format(save_loc, save_file4), 'wb') as f:\n",
    "        pkl.dump({'Ndnf': pv_ndnf3, 'Sst': pv_sst3, 'Vip':pv_vip3}, f)\n",
    "\n",
    "    \n",
    "print('')\n",
    "print('With raw images:')\n",
    "\n",
    "print('Ndnf: {0} cells are significant'.format(np.sum(pv_ndnf < 0.05)))\n",
    "print('Vip: {0} cells are significant'.format(np.sum(pv_vip < 0.05)))\n",
    "print('Sst: {0} cells are significant'.format(np.sum(pv_sst < 0.05)))\n",
    "\n",
    "print('')\n",
    "\n",
    "print('Ndnf & Sst: {0} cells are significant'.format(np.sum(np.logical_and(pv_ndnf < 0.05, pv_sst < 0.05))))\n",
    "print('Vip & Sst: {0} cells are significant'.format(np.sum(np.logical_and(pv_vip < 0.05, pv_sst < 0.05))))\n",
    "print('Ndnf & Vip: {0} cells are significant'.format(np.sum(np.logical_and(pv_ndnf < 0.05, pv_vip < 0.05))))\n",
    "\n",
    "print('')\n",
    "print('With lipofuscin pixels exluded:')\n",
    "\n",
    "print('Ndnf: {0} cells are significant'.format(np.sum(pv_ndnf2 < 0.05)))\n",
    "print('Vip: {0} cells are significant'.format(np.sum(pv_vip2 < 0.05)))\n",
    "print('Sst: {0} cells are significant'.format(np.sum(pv_sst2 < 0.05)))\n",
    "\n",
    "print('')\n",
    "\n",
    "print('Ndnf & Sst: {0} cells are significant'.format(np.sum(np.logical_and(pv_ndnf2 < 0.05, pv_sst2 < 0.05))))\n",
    "print('Vip & Sst: {0} cells are significant'.format(np.sum(np.logical_and(pv_vip2 < 0.05, pv_sst2 < 0.05))))\n",
    "print('Ndnf & Vip: {0} cells are significant'.format(np.sum(np.logical_and(pv_ndnf2 < 0.05, pv_vip2 < 0.05))))\n",
    "\n",
    "print('')\n",
    "print('With lipofuscin pixels exluded, in binarized images:')\n",
    "\n",
    "print('Ndnf: {0} cells are significant'.format(np.sum(pv_ndnf3 < 0.05)))\n",
    "print('Vip: {0} cells are significant'.format(np.sum(pv_vip3 < 0.05)))\n",
    "print('Sst: {0} cells are significant'.format(np.sum(pv_sst3 < 0.05)))\n",
    "\n",
    "print('')\n",
    "\n",
    "print('Ndnf & Sst: {0} cells are significant'.format(np.sum(np.logical_and(pv_ndnf3 < 0.05, pv_sst3 < 0.05))))\n",
    "print('Vip & Sst: {0} cells are significant'.format(np.sum(np.logical_and(pv_vip3 < 0.05, pv_sst3 < 0.05))))\n",
    "print('Ndnf & Vip: {0} cells are significant'.format(np.sum(np.logical_and(pv_ndnf3 < 0.05, pv_vip3 < 0.05))))"
   ]
  },
  {
   "cell_type": "markdown",
   "metadata": {
    "heading_collapsed": true,
    "hidden": true
   },
   "source": [
    "## Check classification against manual labels"
   ]
  },
  {
   "cell_type": "code",
   "execution_count": 213,
   "metadata": {
    "ExecuteTime": {
     "end_time": "2020-03-24T23:40:56.462953Z",
     "start_time": "2020-03-24T23:40:56.458953Z"
    },
    "hidden": true
   },
   "outputs": [
    {
     "data": {
      "text/plain": [
       "array([ 18., 115., 107.,   7.,  30., 113., 146.,  54.,   1.,  53.,  21.,\n",
       "        98.,  57., 124.,   0.,  42.,  13., 118.,  20.])"
      ]
     },
     "execution_count": 213,
     "metadata": {},
     "output_type": "execute_result"
    }
   ],
   "source": [
    "ndnf_pos2"
   ]
  },
  {
   "cell_type": "code",
   "execution_count": 64,
   "metadata": {
    "ExecuteTime": {
     "end_time": "2020-03-27T05:33:05.225953Z",
     "start_time": "2020-03-27T05:33:05.204953Z"
    },
    "hidden": true,
    "scrolled": true
   },
   "outputs": [
    {
     "name": "stdout",
     "output_type": "stream",
     "text": [
      "Ndnf\n",
      "43 true positives\n",
      "30 false positives\n",
      "281 true negative\n",
      "3 false negative\n",
      "Vip\n",
      "33 true positives\n",
      "27 false positives\n",
      "295 true negative\n",
      "2 false negative\n",
      "Sst\n",
      "29 true positives\n",
      "4 false positives\n",
      "324 true negative\n",
      "0 false negative\n"
     ]
    }
   ],
   "source": [
    "# Ndnf\n",
    "#detected = pv_ndnf < 0.05\n",
    "cells = list(range(Cell.n_cells))\n",
    "detected = [i for i in cells if pv_ndnf3[i] < 0.05]\n",
    "manual = ndnf_pos\n",
    "\n",
    "true_pos = [i for i in detected if i in manual]\n",
    "false_pos = [i for i in detected if not i in manual]\n",
    "true_neg = [i for i in cells if np.logical_and(not i in detected, not i in manual)]\n",
    "false_neg = [i for i in manual if not i in detected]\n",
    "\n",
    "print('Ndnf')\n",
    "print('{0} true positives'.format(len(true_pos)))\n",
    "print('{0} false positives'.format(len(false_pos)))\n",
    "print('{0} true negative'.format(len(true_neg)))\n",
    "print('{0} false negative'.format(len(false_neg)))\n",
    "\n",
    "# Vip\n",
    "#detected = pv_vip < 0.05\n",
    "detected = [i for i in cells if pv_vip3[i] < 0.05]\n",
    "manual = vip_pos\n",
    "\n",
    "true_pos = [i for i in detected if i in manual]\n",
    "false_pos = [i for i in detected if not i in manual]\n",
    "true_neg = [i for i in cells if np.logical_and(not i in detected, not i in manual)]\n",
    "false_neg = [i for i in manual if not i in detected]\n",
    "\n",
    "print('Vip')\n",
    "print('{0} true positives'.format(len(true_pos)))\n",
    "print('{0} false positives'.format(len(false_pos)))\n",
    "print('{0} true negative'.format(len(true_neg)))\n",
    "print('{0} false negative'.format(len(false_neg)))\n",
    "\n",
    "\n",
    "# Sst\n",
    "#detected = pv_sst < 0.05\n",
    "detected = [i for i in cells if pv_sst3[i] < 0.05]\n",
    "manual = sst_pos\n",
    "\n",
    "true_pos = [i for i in detected if i in manual]\n",
    "false_pos = [i for i in detected if not i in manual]\n",
    "true_neg = [i for i in cells if np.logical_and(not i in detected, not i in manual)]\n",
    "false_neg = [i for i in manual if not i in detected]\n",
    "\n",
    "print('Sst')\n",
    "print('{0} true positives'.format(len(true_pos)))\n",
    "print('{0} false positives'.format(len(false_pos)))\n",
    "print('{0} true negative'.format(len(true_neg)))\n",
    "print('{0} false negative'.format(len(false_neg)))\n",
    "\n",
    "\n"
   ]
  },
  {
   "cell_type": "code",
   "execution_count": 100,
   "metadata": {
    "ExecuteTime": {
     "end_time": "2020-03-24T20:53:59.711953Z",
     "start_time": "2020-03-24T20:53:59.706953Z"
    },
    "hidden": true
   },
   "outputs": [
    {
     "data": {
      "text/plain": [
       "105"
      ]
     },
     "execution_count": 100,
     "metadata": {},
     "output_type": "execute_result"
    }
   ],
   "source": [
    "len(cells)"
   ]
  },
  {
   "cell_type": "markdown",
   "metadata": {
    "heading_collapsed": true,
    "hidden": true
   },
   "source": [
    "## Plot signal and bootstrap for selected cells"
   ]
  },
  {
   "cell_type": "code",
   "execution_count": null,
   "metadata": {
    "hidden": true
   },
   "outputs": [],
   "source": [
    "fig, ax = plt.subplots(nrows = 2, ncols = 3)\n",
    "\n",
    "# Ndnf - positive cells\n",
    "a = ax[0, 0]\n",
    "signal = int_ndnf_bin\n",
    "\n",
    "for cell in ndnf_pos2:\n",
    "    a.scatter()"
   ]
  },
  {
   "cell_type": "markdown",
   "metadata": {
    "heading_collapsed": true
   },
   "source": [
    "# Find cortex surface and calculate depths"
   ]
  },
  {
   "cell_type": "code",
   "execution_count": 70,
   "metadata": {
    "ExecuteTime": {
     "end_time": "2020-03-27T10:31:06.205953Z",
     "start_time": "2020-03-27T10:31:06.195953Z"
    },
    "hidden": true
   },
   "outputs": [
    {
     "name": "stdout",
     "output_type": "stream",
     "text": [
      "Depths loaded\n"
     ]
    }
   ],
   "source": [
    "save_loc = 'G:\\\\Shared drives\\\\as_share\\\\HCR\\\\HCR 3.11\\\\S5'\n",
    "save_file = 'S5_depths.pkl'\n",
    "\n",
    "try:\n",
    "    with open('{0}\\\\{1}'.format(save_loc, save_file), 'rb') as f:\n",
    "        depths = pkl.load(f)\n",
    "        print('Depths loaded')\n",
    "except:\n",
    "    print('Data not found, draw cortex surface and execute lower cell')"
   ]
  },
  {
   "cell_type": "code",
   "execution_count": 46,
   "metadata": {
    "ExecuteTime": {
     "end_time": "2020-03-21T22:45:41.321518Z",
     "start_time": "2020-03-21T22:45:41.270654Z"
    },
    "hidden": true
   },
   "outputs": [],
   "source": [
    "um_per_px = 0.13\n",
    "save_loc = 'G:\\\\Shared drives\\\\as_share\\\\HCR\\\\HCR 3.11\\\\S5'\n",
    "save_file = 'S5_depths.pkl'\n",
    "\n",
    "def find_depth(d1, d2, cell_center): #d1 and d2 are two points on the surface closest to the cell center\n",
    "    \n",
    "    dx = d2[0] - d1[0]\n",
    "    dy = d2[1] - d1[1]\n",
    "    d1_cell_x = cell_center[0] - d1[0]\n",
    "    d1_cell_y = cell_center[1] - d1[1]\n",
    "    t = (dx * d1_cell_x + dy * d1_cell_y) / (dx * dx + dy * dy)\n",
    "    px = d1[0] + t * dx # Projection of cell center onto line joining d1 and d2\n",
    "    py = d1[1] + t * dy\n",
    "    depth = np.linalg.norm([px - cell_center[0], py - cell_center[1]])\n",
    "    return depth\n",
    "\n",
    "# Draw surface and calculate depths\n",
    "surface = viewer.layers['surface'].data[-1][:, 1:]\n",
    "depths = np.zeros(Cell.n_cells)\n",
    "\n",
    "for cell in range(Cell.n_cells):\n",
    "    pls = centers[cell].keys()\n",
    "    cx = []\n",
    "    cy = []\n",
    "    for pl in pls:\n",
    "        cx = np.append(cx, centers[cell][pl][0])\n",
    "        cy = np.append(cy, centers[cell][pl][1])\n",
    "    c = [np.mean(cx), np.mean(cy)]\n",
    "    distances = np.linalg.norm(c - surface, axis = 1)\n",
    "    order = np.argsort(distances)\n",
    "    [p1, p2] = order[0:2]\n",
    "    d1 = surface[p1]\n",
    "    d2 = surface[p2]\n",
    "    depths[cell] = find_depth(d1, d2, c)\n",
    "depths = depths*um_per_px\n",
    "\n",
    "with open('{0}\\\\{1}'.format(save_loc, save_file), 'wb') as f:\n",
    "        pkl.dump(depths, f)\n"
   ]
  },
  {
   "cell_type": "code",
   "execution_count": 55,
   "metadata": {
    "ExecuteTime": {
     "end_time": "2020-03-23T20:52:33.283953Z",
     "start_time": "2020-03-23T20:52:33.265953Z"
    },
    "hidden": true
   },
   "outputs": [],
   "source": [
    "save_loc = 'G:\\\\Shared drives\\\\as_share\\\\HCR\\\\HCR 3.11\\\\S5'\n",
    "save_file = 'S5_depths.pkl'\n",
    "\n",
    "with open('{0}\\\\{1}'.format(save_loc, save_file), 'wb') as f:\n",
    "        pkl.dump(depths, f)"
   ]
  },
  {
   "cell_type": "markdown",
   "metadata": {
    "heading_collapsed": true
   },
   "source": [
    "# Plots"
   ]
  },
  {
   "cell_type": "markdown",
   "metadata": {
    "heading_collapsed": true,
    "hidden": true
   },
   "source": [
    "## 2D scatter plot of pixel values (pairs of channels)"
   ]
  },
  {
   "cell_type": "code",
   "execution_count": 65,
   "metadata": {
    "ExecuteTime": {
     "end_time": "2020-03-25T03:59:48.550953Z",
     "start_time": "2020-03-25T03:59:47.608953Z"
    },
    "hidden": true
   },
   "outputs": [],
   "source": [
    "img_dict = {'Ndnf': im_bin_ndnf_lipo, 'Vip': im_bin_vip_lipo}\n",
    "# img_dict = {'Ndnf': im_bin_ndnf_lipo, 'Sst': im_bin_sst_lipo, 'Vip': im_bin_vip_lipo}\n",
    "#img_dict = {'Ndnf': im_diff_ndnf, 'Sst': im_diff_sst, 'Vip': im_diff_vip}\n",
    "#img_dict = {'Ndnf': im_array_ndnf, 'Sst': im_array_sst, 'Vip': im_array_vip}\n",
    "\n",
    "pixels_dict = {'Cells': all_cell_pixels, 'Lipofuscin': all_lipo_pixels}\n",
    "#pixels_dict = {'Cells': all_cell_pixels}\n",
    "\n",
    "colors_dict = {'Cells': 'b', 'Lipofuscin': 'k'}\n",
    "title = 'Diff gauss sigma = ({0}, {1}); binarized above {2} std from median'.format(sigma_small, sigma_large, thresh_scale)\n",
    "#title = 'Raw images'\n",
    "save_loc = 'G:\\\\Shared drives\\\\as_share\\\\HCR\\\\HCR 3.11\\\\S5\\\\Plots'\n",
    "save_file = '{0} scatter lipo + cells.png'.format(title)\n",
    "#save_file = '{0} scatter cells.png'.format(title)\n",
    "\n",
    "scatter_channels.scatter_channels(img_dict, pixels_dict, max_per_group= 100000, colors_dict = colors_dict, \n",
    "                                  title = title, save = True, save_loc = save_loc, save_file = save_file)\n",
    "\n",
    "del img_dict\n",
    "del pixels_dict"
   ]
  },
  {
   "cell_type": "markdown",
   "metadata": {
    "heading_collapsed": true,
    "hidden": true
   },
   "source": [
    "## 3D scatter plot of pixel values (3 channels)"
   ]
  },
  {
   "cell_type": "code",
   "execution_count": 253,
   "metadata": {
    "ExecuteTime": {
     "end_time": "2020-03-25T22:52:38.329953Z",
     "start_time": "2020-03-25T22:52:38.322953Z"
    },
    "hidden": true
   },
   "outputs": [
    {
     "data": {
      "text/plain": [
       "724480"
      ]
     },
     "execution_count": 253,
     "metadata": {},
     "output_type": "execute_result"
    }
   ],
   "source": [
    "len(m_dist_vals['Cells'] > thresh)"
   ]
  },
  {
   "cell_type": "code",
   "execution_count": 54,
   "metadata": {
    "ExecuteTime": {
     "end_time": "2020-03-26T03:55:21.759953Z",
     "start_time": "2020-03-26T03:55:21.756953Z"
    },
    "hidden": true
   },
   "outputs": [
    {
     "data": {
      "text/plain": [
       "854"
      ]
     },
     "execution_count": 54,
     "metadata": {},
     "output_type": "execute_result"
    }
   ],
   "source": [
    "len(all_lipo_pixels)"
   ]
  },
  {
   "cell_type": "code",
   "execution_count": 35,
   "metadata": {
    "ExecuteTime": {
     "end_time": "2020-03-27T03:30:04.149953Z",
     "start_time": "2020-03-27T03:30:00.738953Z"
    },
    "hidden": true
   },
   "outputs": [],
   "source": [
    "t0 = time.time()\n",
    "n = len(all_cell_pixels)\n",
    "cell_px_is_lipo = np.zeros(n)\n",
    "for px in range(n):\n",
    "    pc = all_cell_pixels[px]\n",
    "    if im_array_lipo[pc[0], pc[1], pc[2]] == 1:\n",
    "        cell_px_is_lipo[px] = 1"
   ]
  },
  {
   "cell_type": "code",
   "execution_count": 38,
   "metadata": {
    "ExecuteTime": {
     "end_time": "2020-03-27T03:30:27.592953Z",
     "start_time": "2020-03-27T03:30:27.426953Z"
    },
    "hidden": true,
    "run_control": {
     "marked": true
    }
   },
   "outputs": [],
   "source": [
    "#img_dict = {'Ndnf': im_bin_ndnf, 'Gad1': im_bin_gad1, 'Vip': im_bin_vip}\n",
    "img_dict = {'546': im_bin_ndnf_lipo, '647': im_bin_sst_lipo, '594': im_bin_vip_lipo}\n",
    "#img_dict = {'Ndnf': im_diff_ndnf_lipo, 'Sst': im_diff_sst_lipo, 'Vip': im_diff_vip_lipo}\n",
    "#img_dict = {'Ndnf': im_bin_ndnf, 'Sst': im_bin_sst, 'Vip': im_bin_vip}\n",
    "#img_dict = {'546': im_array_ndnf, '647': im_array_sst, '594': im_array_vip}\n",
    "#img_dict = {'546': im_ndnf_lipo, '647': im_sst_lipo, '594': im_vip_lipo}\n",
    "\n",
    "\n",
    "#pixels_dict = {'Cells': all_cell_pixels, 'Lipofuscin': all_lipo_pixels}\n",
    "pixels_dict = {'Cells': all_cell_pixels}\n",
    "#pixels_dict = {'Cells': lipo_pixels, 'Lipofuscin': all_lipo_pixels}\n",
    "#pixels_dict = {'Lipofuscin': all_lipo_pixels}\n",
    "\n",
    "\n",
    "#colors_dict = {'Cells': 'k', 'Lipofuscin': 'b'}\n",
    "#colors_dict = {'Cells': m_dist_vals['Cells'], 'Lipofuscin': m_dist_vals['Lipofuscin']}\n",
    "#colors_dict = {'Cells': np.log(m_dist_vals['Cells']), 'Lipofuscin': 'r'}\n",
    "#colors_dict ={'Cells': np.logical_not(m_dist_vals['Cells'] > thresh), 'Lipofuscin': 'r'}\n",
    "#colors_dict = {'Cells': np.logical_not(np.log(mean_vals) < 5), 'Lipofuscin': 'r'}\n",
    "#colors_dict = {'Cells': np.logical_not([a in lipo_pixels for a in all_cell_pixels])}\n",
    "colors_dict = {'Cells': cell_px_is_lipo}\n",
    "\n",
    "alpha_dict = {'Cells': 0.4, 'Lipofuscin': 1}\n",
    "\n",
    "#title = 'Sub-sampled diff gauss sigma = ({0}, {1}) \\n binarized above {2} std from median \\n color = log mahalanobis distance from lipofuscin pixels'.format(sigma_small, sigma_large, thresh_scale)\n",
    "#title = 'Raw images'\n",
    "\n",
    "save_loc = 'G:\\\\Shared drives\\\\as_share\\\\HCR\\\\HCR 3.11\\\\S5\\\\Plots'\n",
    "#save_file = '3D scatter lipo + cells mahalanobis distance2.png'\n",
    "#save_file = '{0} 3D scatter cells + lipo.png'.format(title)\n",
    "#save_file = '{0} 3D scatter lipo.png'.format(title)\n",
    "save_file=  '3D scatter lipo + cells.png'\n",
    "\n",
    "scatter_channels2(img_dict, pixels_dict, max_per_group= 100000, colors_dict = colors_dict,\n",
    "                                  alpha_dict = alpha_dict,\n",
    "                                  make_3D = True,\n",
    "#                                   title = title, \n",
    "#                                   save = True, \n",
    "                                  save_loc = save_loc, save_file = save_file)\n",
    "\n",
    "del img_dict\n",
    "del pixels_dict"
   ]
  },
  {
   "cell_type": "code",
   "execution_count": 47,
   "metadata": {
    "ExecuteTime": {
     "end_time": "2020-03-26T14:54:06.567953Z",
     "start_time": "2020-03-26T14:54:06.564953Z"
    },
    "hidden": true
   },
   "outputs": [
    {
     "data": {
      "text/plain": [
       "'3D scatter lipo + cells mahalanobis distance2.png'"
      ]
     },
     "execution_count": 47,
     "metadata": {},
     "output_type": "execute_result"
    }
   ],
   "source": [
    "save_file"
   ]
  },
  {
   "cell_type": "code",
   "execution_count": 41,
   "metadata": {
    "ExecuteTime": {
     "end_time": "2020-03-26T14:46:42.757953Z",
     "start_time": "2020-03-26T14:46:42.739953Z"
    },
    "hidden": true
   },
   "outputs": [],
   "source": [
    "plt.close('all')"
   ]
  },
  {
   "cell_type": "markdown",
   "metadata": {
    "hidden": true
   },
   "source": [
    "#### Function definition"
   ]
  },
  {
   "cell_type": "code",
   "execution_count": 37,
   "metadata": {
    "ExecuteTime": {
     "end_time": "2020-03-27T03:30:22.696953Z",
     "start_time": "2020-03-27T03:30:22.677953Z"
    },
    "hidden": true
   },
   "outputs": [],
   "source": [
    "# -*- coding: utf-8 -*-\n",
    "\"\"\"\n",
    "Created on Thu Feb 27 15:36:38 2020\n",
    "\n",
    "Input:\n",
    "    img_dict: Dictionary in which each key is the name of a channel and\n",
    "              the corresponding value is the image of shape [n_planes, height, width] for that channel\n",
    "    pixels_dict: Dictionary in which each key is the name of a group of pixels and\n",
    "                 the corresponding value is an array of pixel coordinates of shape [n_pixels, 3]\n",
    "    colors_dict: (optional) Dictionary in which each key is the name of a group of pixels and\n",
    "                 the corresponding value is a color\n",
    "    max_per_group: Default 10000. Maximum number of pixels per group to plot.\n",
    "                   If number of pixels exceeds this, pixels will be randomly sub-sampled.\n",
    "\n",
    "\n",
    "@author: Amrita Singh\n",
    "\"\"\"\n",
    "\n",
    "from itertools import combinations\n",
    "import matplotlib.pyplot as plt\n",
    "import numpy as np\n",
    "from os.path import sep\n",
    "\n",
    "\n",
    "def scatter_channels2(img_dict, pixels_dict, max_per_group = 10000, colors_dict = None,\n",
    "                     make_3D = False, alpha_dict = None,\n",
    "                     title = None, save = False, save_loc = None, save_file = None, log_scale = False):\n",
    "\n",
    "\n",
    "    # %%\n",
    "    channel_names = list(img_dict.keys())\n",
    "    n_channels = len(channel_names)\n",
    "    channels = range(n_channels)\n",
    "\n",
    "    if make_3D:\n",
    "        combos = list(combinations(channels, 3))\n",
    "    else:\n",
    "        combos = list(combinations(channels, 2))\n",
    "\n",
    "    n_combos = len(combos)\n",
    "\n",
    "    px_groups = list(pixels_dict.keys())\n",
    "\n",
    "\n",
    "    # %% Get values for each channel for each pixel group\n",
    "    px_vals = {}\n",
    "\n",
    "    for group in px_groups:\n",
    "\n",
    "        px = pixels_dict[group]\n",
    "        n_px = px.shape[0]\n",
    "\n",
    "        # Sub-sample if too many pixels to plot\n",
    "        if n_px > max_per_group:\n",
    "            idx = np.random.randint(int(n_px/max_per_group), size = n_px)\n",
    "            px = px[idx == 0, :]\n",
    "            if type(colors_dict[group]) is np.ndarray:\n",
    "                if colors_dict[group].shape[0] > max_per_group:\n",
    "                    colors_dict[group] = colors_dict[group][idx == 0]\n",
    "\n",
    "        px_vals[group] = {}\n",
    "\n",
    "        for channel in channel_names:\n",
    "            px_vals[group][channel] = img_dict[channel][(px[:, 0], px[:, 1], px[:, 2])]\n",
    "\n",
    "    # %%\n",
    "    fig, ax = plt.subplots(nrows = n_combos if n_combos > 1 else 2, ncols = 1, figsize = (20, 20))\n",
    "    for combo in range(n_combos):\n",
    "\n",
    "        if make_3D:\n",
    "            c3 = channel_names[combos[combo][2]]\n",
    "            ax[combo] = plt.axes(projection='3d')\n",
    "            ax[combo].set_zlabel(c3, fontsize = 18)\n",
    "\n",
    "        c1 = channel_names[combos[combo][0]]\n",
    "        c2 = channel_names[combos[combo][1]]\n",
    "\n",
    "        ax[combo].set_xlabel(c1, fontsize = 18)\n",
    "        ax[combo].set_ylabel(c2, fontsize = 18)\n",
    "\n",
    "\n",
    "\n",
    "        for group in px_groups:\n",
    "\n",
    "            if log_scale:\n",
    "                ax[combo].set_xscale('log')\n",
    "                ax[combo].set_yscale('log')\n",
    "                if make_3D:\n",
    "                    ax[combo].set_zscale('log')\n",
    "\n",
    "            if colors_dict == None:\n",
    "                if make_3D:\n",
    "                    p = ax[combo].scatter3D(px_vals[group][c1], px_vals[group][c2], px_vals[group][c3], label = group,\n",
    "                      marker = '.', alpha = alpha_dict[group])\n",
    "                    fig.colorbar(p)\n",
    "                else:\n",
    "                    ax[combo].scatter(px_vals[group][c1], px_vals[group][c2], label = group, marker = '.', alpha = alpha_dict[group])\n",
    "            else:\n",
    "                if make_3D:\n",
    "                    ax[combo].scatter3D(px_vals[group][c1], px_vals[group][c2], px_vals[group][c3], label = group,\n",
    "                      marker = '.', alpha = alpha_dict[group], c = colors_dict[group],\n",
    "                                       cmap = 'bwr'\n",
    "                                       )\n",
    "                else:\n",
    "                    ax[combo].scatter(px_vals[group][c1], px_vals[group][c2], label = group, c = colors_dict[group], marker = '.', alpha = alpha_dict[group])\n",
    "\n",
    "\n",
    "        ax[combo].legend(fontsize = 18)\n",
    "\n",
    "\n",
    "    if not title == None:\n",
    "        ax[0].set_title(title, fontsize = 18)\n",
    "\n",
    "    if save:\n",
    "        if save_loc == None:\n",
    "            print('Please provide save location')\n",
    "        else:\n",
    "            if save_file == None:\n",
    "                print('Please provide save file name')\n",
    "            else:\n",
    "                plt.savefig('{0}{1}{2}'.format(save_loc, sep, save_file))\n"
   ]
  },
  {
   "cell_type": "markdown",
   "metadata": {
    "hidden": true
   },
   "source": [
    "### Get colorbar (has to be in a different figure)"
   ]
  },
  {
   "cell_type": "code",
   "execution_count": 24,
   "metadata": {
    "ExecuteTime": {
     "end_time": "2020-03-27T03:25:42.038953Z",
     "start_time": "2020-03-27T03:25:41.925953Z"
    },
    "hidden": true
   },
   "outputs": [
    {
     "data": {
      "text/plain": [
       "<matplotlib.colorbar.Colorbar at 0x16587848>"
      ]
     },
     "execution_count": 24,
     "metadata": {},
     "output_type": "execute_result"
    }
   ],
   "source": [
    "plt.figure()\n",
    "a = np.zeros([4, 4])\n",
    "a[0, 0] = np.max(np.log(m_dist_vals['Cells']))\n",
    "a[0, 1] = np.min(np.log(m_dist_vals['Cells']))\n",
    "plt.imshow(a)\n",
    "plt.colorbar(label = 'Log of mahalanobis distance from lipofuscin pixels')"
   ]
  },
  {
   "cell_type": "markdown",
   "metadata": {
    "heading_collapsed": true,
    "hidden": true
   },
   "source": [
    "## Histogram of pixel values in each channel"
   ]
  },
  {
   "cell_type": "code",
   "execution_count": 25,
   "metadata": {
    "ExecuteTime": {
     "end_time": "2020-03-06T18:48:47.078858Z",
     "start_time": "2020-03-06T18:48:45.453207Z"
    },
    "hidden": true
   },
   "outputs": [],
   "source": [
    "#img_dict = {'Ndnf': im_diff_ndnf, 'Sst': im_diff_sst, 'Vip': im_diff_vip}\n",
    "img_dict = {'Ndnf': im_array_ndnf, 'Sst': im_array_sst, 'Vip': im_array_vip}\n",
    "\n",
    "pixels_dict = {'Cells': all_cell_pixels, 'Lipofuscin': all_lipo_pixels}\n",
    "#pixels_dict = {'Cells': all_cell_pixels}\n",
    "colors_dict = {'Cells': 'b', 'Lipofuscin': 'k'}\n",
    "#title = 'Diff gauss sigma = ({0}, {1})'.format(sigma_small, sigma_large)\n",
    "title = 'Raw images'\n",
    "save_loc = 'G:\\\\Shared drives\\\\as_share\\\\HCR\\\\HCR_10.17\\\\S1_scatter_plots'\n",
    "save_file = '{0} hist lipo + cells.png'.format(title)\n",
    "#save_file = '{0} hist cells.png'.format(title)\n",
    "\n",
    "hist_channels.hist_channels(img_dict, pixels_dict, max_per_group= 100000, colors_dict = colors_dict, \n",
    "                            title = title, save = True, save_loc = save_loc, save_file = save_file)\n",
    "\n",
    "del img_dict\n",
    "del pixels_dict"
   ]
  },
  {
   "cell_type": "markdown",
   "metadata": {
    "heading_collapsed": true,
    "hidden": true
   },
   "source": [
    "## Signal vs depth"
   ]
  },
  {
   "cell_type": "markdown",
   "metadata": {
    "heading_collapsed": true,
    "hidden": true
   },
   "source": [
    "### Using p-value for significance"
   ]
  },
  {
   "cell_type": "code",
   "execution_count": 78,
   "metadata": {
    "ExecuteTime": {
     "end_time": "2020-03-24T00:39:20.063953Z",
     "start_time": "2020-03-24T00:39:19.874953Z"
    },
    "hidden": true
   },
   "outputs": [
    {
     "data": {
      "text/plain": [
       "Text(0.5, 1.0, 'Sst: lipofuscin pixels excluded; Binarized images')"
      ]
     },
     "execution_count": 78,
     "metadata": {},
     "output_type": "execute_result"
    }
   ],
   "source": [
    "# Plot intensity vs depth for all channels\n",
    "fig, ax = plt.subplots(nrows = 3, ncols = 3)\n",
    "    \n",
    "d = depths\n",
    "\n",
    "# npos = pv_ndnf < 0.05\n",
    "# vpos = pv_vip < 0.05\n",
    "# spos = pv_sst < 0.05\n",
    "\n",
    "# n = avg_intensity_ndnf\n",
    "# v = avg_intensity_vip\n",
    "# s = avg_intensity_sst\n",
    "\n",
    "# bn = avg_bg_ndnf\n",
    "# bv = avg_bg_vip\n",
    "# bs = avg_bg_sst\n",
    "\n",
    "# ax[0, 0].scatter(d, n - bn, color = 'b', alpha = 0.1, marker = '.')\n",
    "# ax[0, 0].scatter(d[npos], n[npos] - bn[npos], color = 'b', marker = '.')\n",
    "# #ax[0, 0].set_xlabel('Depth from pia (um)')\n",
    "# ax[0, 0].set_ylabel('Intensity in channel (bold => p < 0.05)')\n",
    "# ax[0, 0].set_title('Ndnf: all pixels')\n",
    "\n",
    "# ax[0, 1].scatter(d, v - bv, color = 'r', alpha = 0.1, marker = '.')\n",
    "# ax[0, 1].scatter(d[vpos], v[vpos] - bv[vpos], color = 'r', marker = '.')\n",
    "# #ax[0, 1].set_xlabel('Depth from pia (um)')\n",
    "# ax[0, 1].set_title('Vip: all pixels')\n",
    "\n",
    "# ax[0, 2].scatter(d, s - bs, color = 'g', alpha = 0.1, marker = '.')\n",
    "# ax[0, 2].scatter(d[spos], s[spos] - bs[spos], color = 'g', marker = '.')\n",
    "# #ax[0, 2].set_xlabel('Depth from pia (um)')\n",
    "# ax[0, 2].set_title('Sst: all pixels')\n",
    "\n",
    "# n = int_ndnf\n",
    "# v = int_vip\n",
    "# s = int_sst\n",
    "\n",
    "# npos2 = pv_ndnf2 < 0.05\n",
    "# vpos2 = pv_vip2 < 0.05\n",
    "# spos2 = pv_sst2 < 0.05\n",
    "\n",
    "# ax[1, 0].scatter(d, n - bn, color = 'b', alpha = 0.1, marker = '.')\n",
    "# ax[1, 0].scatter(d[npos2], n[npos2] - bn[npos2], color = 'b', marker = '.')\n",
    "# #ax[1, 0].set_xlabel('Depth from pia (um)')\n",
    "# ax[1, 0].set_ylabel('Intensity in channel (bold => p < 0.05)')\n",
    "# ax[1, 0].set_title('Ndnf: lipofuscin pixels excluded')\n",
    "\n",
    "# ax[1, 1].scatter(d, v - bv, color = 'r', alpha = 0.1, marker = '.')\n",
    "# ax[1, 1].scatter(d[vpos2], v[vpos2] - bv[vpos2], color = 'r', marker = '.')\n",
    "# #ax[1, 1].set_xlabel('Depth from pia (um)')\n",
    "# ax[1, 1].set_title('Vip: lipofuscin pixels excluded')\n",
    "\n",
    "# ax[1, 2].scatter(d, s - bs, color = 'g', alpha = 0.1, marker = '.')\n",
    "# ax[1, 2].scatter(d[spos2], s[spos2] - bs[spos2], color = 'g', marker = '.')\n",
    "# #ax[1, 2].set_xlabel('Depth from pia (um)')\n",
    "# ax[1, 2].set_title('Sst: lipofuscin pixels excluded')\n",
    "\n",
    "n = int_ndnf_bin\n",
    "v = int_vip_bin\n",
    "s = int_sst_bin\n",
    "\n",
    "bn = avg_bg_ndnf_bin\n",
    "bv = avg_bg_vip_bin\n",
    "bs = avg_bg_sst_bin\n",
    "\n",
    "npos3 = pv_ndnf3 < 0.05\n",
    "vpos3 = pv_vip3 < 0.05\n",
    "spos3 = pv_sst3 < 0.05\n",
    "\n",
    "# vpos3 = int_vip_bin - avg_bg_vip_bin > 200\n",
    "# spos3 = int_sst_bin - avg_bg_sst_bin > 500\n",
    "\n",
    "\n",
    "ax[2, 0].scatter(d, n - bn, color = 'b', alpha = 0.1, marker = '.')\n",
    "ax[2, 0].scatter(d[npos3], n[npos3] - bn[npos3], color = 'b', marker = '.')\n",
    "ax[2, 0].set_xlabel('Depth from pia (um)')\n",
    "ax[2, 0].set_ylabel('Intensity in channel (bold => p < 0.05)')\n",
    "ax[2, 0].set_title('Ndnf: lipofuscin pixels excluded; Binarized images')\n",
    "\n",
    "ax[2, 1].scatter(d, v - bv, color = 'r', alpha = 0.1, marker = '.')\n",
    "ax[2, 1].scatter(d[vpos3], v[vpos3] - bv[vpos3], color = 'r', marker = '.')\n",
    "ax[2, 1].set_xlabel('Depth from pia (um)')\n",
    "ax[2, 1].set_title('Vip: lipofuscin pixels excluded; Binarized images')\n",
    "\n",
    "ax[2, 2].scatter(d, s - bs, color = 'g', alpha = 0.1, marker = '.')\n",
    "ax[2, 2].scatter(d[spos3], s[spos3] - bs[spos3], color = 'g', marker = '.')\n",
    "ax[2, 2].set_xlabel('Depth from pia (um)')\n",
    "ax[2, 2].set_title('Sst: lipofuscin pixels excluded; Binarized images')\n"
   ]
  },
  {
   "cell_type": "markdown",
   "metadata": {
    "heading_collapsed": true,
    "hidden": true
   },
   "source": [
    "### Using 95% confidence interval for significance"
   ]
  },
  {
   "cell_type": "code",
   "execution_count": 100,
   "metadata": {
    "ExecuteTime": {
     "end_time": "2020-03-06T20:02:19.128895Z",
     "start_time": "2020-03-06T20:02:18.987274Z"
    },
    "hidden": true
   },
   "outputs": [
    {
     "data": {
      "text/plain": [
       "Text(0.5, 1.0, 'Sst: lipofuscin pixels excluded')"
      ]
     },
     "execution_count": 100,
     "metadata": {},
     "output_type": "execute_result"
    }
   ],
   "source": [
    "# Plot intensity vs depth for all channels\n",
    "fig, ax = plt.subplots(nrows = 2, ncols = 3)\n",
    "    \n",
    "d = depths\n",
    "\n",
    "n = avg_intensity_ndnf\n",
    "v = avg_intensity_vip\n",
    "s = avg_intensity_sst\n",
    "\n",
    "bn = avg_bg_ndnf\n",
    "bv = avg_bg_vip\n",
    "bs = avg_bg_sst\n",
    "\n",
    "npos = n - bn > ci_ndnf\n",
    "vpos = v - bv > ci_vip\n",
    "spos = s - bs > ci_sst\n",
    "\n",
    "ax[0, 0].scatter(d, n - bn, color = 'b', alpha = 0.1, marker = '.')\n",
    "ax[0, 0].scatter(d[npos], n[npos] - bn[npos], color = 'b', marker = '.')\n",
    "ax[0, 0].set_xlabel('Depth from pia (um)')\n",
    "ax[0, 0].set_ylabel('Intensity in channel (bold => 95% CI)')\n",
    "ax[0, 0].set_title('Ndnf: all pixels')\n",
    "\n",
    "ax[0, 1].scatter(d, v - bv, color = 'r', alpha = 0.1, marker = '.')\n",
    "ax[0, 1].scatter(d[vpos], v[vpos] - bv[vpos], color = 'r', marker = '.')\n",
    "ax[0, 1].set_xlabel('Depth from pia (um)')\n",
    "ax[0, 1].set_title('Vip: all pixels')\n",
    "\n",
    "ax[0, 2].scatter(d, s - bs, color = 'g', alpha = 0.1, marker = '.')\n",
    "ax[0, 2].scatter(d[spos], s[spos] - bs[spos], color = 'g', marker = '.')\n",
    "ax[0, 2].set_xlabel('Depth from pia (um)')\n",
    "ax[0, 2].set_title('Sst: all pixels')\n",
    "\n",
    "n = int_ndnf\n",
    "v = int_vip\n",
    "s = int_sst\n",
    "\n",
    "npos = n - bn > ci_ndnf\n",
    "vpos = v - bv > ci_vip\n",
    "spos = s - bs > ci_sst\n",
    "\n",
    "ax[1, 0].scatter(d, n - bn, color = 'b', alpha = 0.1, marker = '.')\n",
    "ax[1, 0].scatter(d[npos2], n[npos2] - bn[npos2], color = 'b', marker = '.')\n",
    "ax[1, 0].set_xlabel('Depth from pia (um)')\n",
    "ax[1, 0].set_ylabel('Intensity in channel (bold => 95% CI)')\n",
    "ax[1, 0].set_title('Ndnf: lipofuscin pixels excluded')\n",
    "\n",
    "ax[1, 1].scatter(d, v - bv, color = 'r', alpha = 0.1, marker = '.')\n",
    "ax[1, 1].scatter(d[vpos2], v[vpos2] - bv[vpos2], color = 'r', marker = '.')\n",
    "ax[1, 1].set_xlabel('Depth from pia (um)')\n",
    "ax[1, 1].set_title('Vip: lipofuscin pixels excluded')\n",
    "\n",
    "ax[1, 2].scatter(d, s - bs, color = 'g', alpha = 0.1, marker = '.')\n",
    "ax[1, 2].scatter(d[spos2], s[spos2] - bs[spos2], color = 'g', marker = '.')\n",
    "ax[1, 2].set_xlabel('Depth from pia (um)')\n",
    "ax[1, 2].set_title('Sst: lipofuscin pixels excluded')\n"
   ]
  },
  {
   "cell_type": "markdown",
   "metadata": {
    "hidden": true
   },
   "source": [
    "## Raw images of all cells"
   ]
  },
  {
   "cell_type": "markdown",
   "metadata": {
    "hidden": true
   },
   "source": [
    "### Function for plotting"
   ]
  },
  {
   "cell_type": "code",
   "execution_count": 102,
   "metadata": {
    "ExecuteTime": {
     "end_time": "2020-03-27T12:11:00.158953Z",
     "start_time": "2020-03-27T12:11:00.127953Z"
    },
    "hidden": true
   },
   "outputs": [],
   "source": [
    "def view_all_cells(n_cells, n_rows, n_cols, signal, im_array, cell_data, size_um, um_per_px, h, w, \n",
    "                  save_loc, title, max_intensity = None, spine_color_pos = 'r', pos_cells = [], spine_width = 2,\n",
    "                  show_masks = False):\n",
    "\n",
    "    cell_ids = np.array(list(cell_data.keys()))\n",
    "    cell_order = cell_ids[np.flip(np.argsort(signal)).astype(int)]\n",
    "    \n",
    "    size_px = int(size_um/um_per_px/2)\n",
    "    mask_dil =  np.zeros([h, w]).astype(bool)\n",
    "    \n",
    "    if max_intensity == None:\n",
    "        max_intensity = np.max(signal)\n",
    "    min_intensity = np.min(im_array)\n",
    "\n",
    "    t0 = time.time()\n",
    "    fig, ax = plt.subplots(nrows = n_rows, ncols = n_cols, figsize = (30, 20))\n",
    "\n",
    "    for cell in range(n_cells):   \n",
    "\n",
    "        if np.mod(cell, 10) == 0:\n",
    "            print('Cell {0}: {1} seconds'.format(cell, np.round(time.time() - t0)))\n",
    "\n",
    "        row = int(cell/n_cols)\n",
    "        col = np.mod(cell, n_cols)\n",
    "\n",
    "        cell_id = cell_order[cell]\n",
    "\n",
    "        planes = cell_data[cell_id]['z_planes']\n",
    "        med_plane = int(np.median(planes))\n",
    "\n",
    "        mask = cell_data[cell_id]['masks'][med_plane]\n",
    "        [x_center, y_center] = np.mean(mask, 0).astype(int)\n",
    "        [x1, y1] = [np.max([0, x_center - size_px]), np.max([0, y_center - size_px])]\n",
    "        [x2, y2] = [np.min([h, x_center + size_px]), np.min([w, y_center + size_px])]\n",
    "        mask_dil[x1:x2, y1:y2] = np.ones([x2 - x1, y2 - y1])\n",
    "\n",
    "        small_im = np.reshape(im_array[med_plane, mask_dil], [np.min([x2 - x1, size_px*2]), np.min([y2 - y1, size_px*2])])\n",
    "        ax[row, col].imshow(small_im, vmin = min_intensity, vmax = max_intensity)\n",
    "\n",
    "        mask_dil[x1:x2, y1:y2] = np.zeros([x2 - x1, y2 - y1])\n",
    "        \n",
    "        if show_masks:\n",
    "            \n",
    "            cell_px = cell_pixels_no_lipo[cell_id][med_plane]\n",
    "            cell_mask = np.zeros(small_im.shape)\n",
    "            x = cell_px[0, :] - x1\n",
    "            y = cell_px[1, :] - y1\n",
    "#             for i in range(len(x)):\n",
    "#                 cell_mask[x[i], y[i]] = 1\n",
    "            cell_mask[x, y] = np.ones(len(x))\n",
    "            ax[row, col].imshow(cell_mask, vmin = 0, vmax = 1, cmap = 'gray', alpha = 0.2)\n",
    "            \n",
    "\n",
    "#         ax[row, col].axis('off')\n",
    "        if col == 0:\n",
    "            ax[row, col].set_ylabel('{0}'.format(np.round(signal[cell], 2)))\n",
    "#             ax[row, col].axis('on')\n",
    "        \n",
    "        if len(pos_cells) > 0:\n",
    "            if pos_cells[cell] == 1:\n",
    "                ax[row, col].axis('on')\n",
    "                ax[row, col].spines['bottom'].set_color(spine_color_pos)\n",
    "                ax[row, col].spines['top'].set_color(spine_color_pos)\n",
    "                ax[row, col].spines['left'].set_color(spine_color_pos)\n",
    "                ax[row, col].spines['right'].set_color(spine_color_pos)\n",
    "                ax[row, col].spines['bottom'].set_linewidth(spine_width)\n",
    "                ax[row, col].spines['top'].set_linewidth(spine_width)\n",
    "                ax[row, col].spines['left'].set_linewidth(spine_width)\n",
    "                ax[row, col].spines['right'].set_linewidth(spine_width)\n",
    "        \n",
    "        ax[row, col].tick_params(axis = 'both', which = 'both', bottom = False, top = False, left = False, \n",
    "                                 right = False, labeltop = False, labelright = False, labelleft = False,\n",
    "                                labelbottom = False)\n",
    "                \n",
    "                \n",
    "#         plt.tick_params(\n",
    "#     axis='x',          # changes apply to the x-axis\n",
    "#     which='both',      # both major and minor ticks are affected\n",
    "#     bottom=False,      # ticks along the bottom edge are off\n",
    "#     top=False,         # ticks along the top edge are off\n",
    "#     labelbottom=False) # labels along the bottom edge are off\n",
    "\n",
    "    \n",
    "    plt.savefig('{0}{1}{2}.png'.format(save_loc, sep, title))\n"
   ]
  },
  {
   "cell_type": "markdown",
   "metadata": {
    "heading_collapsed": true,
    "hidden": true
   },
   "source": [
    "### Get centers and med planes"
   ]
  },
  {
   "cell_type": "code",
   "execution_count": 103,
   "metadata": {
    "ExecuteTime": {
     "end_time": "2020-03-27T12:11:07.694953Z",
     "start_time": "2020-03-27T12:11:07.651953Z"
    },
    "hidden": true
   },
   "outputs": [
    {
     "name": "stdout",
     "output_type": "stream",
     "text": [
      "0\n",
      "10\n",
      "20\n",
      "30\n",
      "40\n",
      "50\n",
      "60\n",
      "70\n",
      "80\n",
      "90\n",
      "100\n",
      "110\n",
      "120\n",
      "130\n",
      "140\n",
      "150\n",
      "160\n",
      "170\n",
      "180\n",
      "190\n",
      "200\n",
      "210\n",
      "220\n",
      "230\n",
      "240\n",
      "250\n",
      "260\n",
      "270\n",
      "280\n",
      "290\n",
      "300\n",
      "310\n",
      "320\n",
      "330\n",
      "340\n",
      "350\n"
     ]
    }
   ],
   "source": [
    "# All cells\n",
    "centers_med_planes = np.zeros([Cell.n_cells, 2])\n",
    "med_planes = np.zeros(Cell.n_cells)\n",
    "\n",
    "for cell in range(Cell.n_cells):\n",
    "    if np.mod(cell, 10) == 0:\n",
    "        print(cell)\n",
    "    cell_id = cell + 1\n",
    "    planes = Cell.cell_data[cell_id]['z_planes']\n",
    "    med_planes[cell] = int(np.median(planes))\n",
    "    \n",
    "    mask = Cell.cell_data[cell_id]['masks'][med_planes[cell]]\n",
    "    centers_med_planes[cell, :] = np.mean(mask, 0).astype(int)"
   ]
  },
  {
   "cell_type": "code",
   "execution_count": 121,
   "metadata": {
    "ExecuteTime": {
     "end_time": "2020-03-24T21:21:34.441953Z",
     "start_time": "2020-03-24T21:21:34.425953Z"
    },
    "hidden": true
   },
   "outputs": [
    {
     "name": "stdout",
     "output_type": "stream",
     "text": [
      "0\n",
      "10\n",
      "20\n",
      "30\n",
      "40\n",
      "50\n",
      "60\n",
      "70\n",
      "80\n",
      "90\n",
      "100\n"
     ]
    }
   ],
   "source": [
    "# Selected cells\n",
    "centers_med_planes = np.zeros([len(cells), 2])\n",
    "med_planes = np.zeros(len(cells))\n",
    "\n",
    "for cell in range(len(cells)):\n",
    "    if np.mod(cell, 10) == 0:\n",
    "        print(cell)\n",
    "    cell_id = cells[cell] + 1\n",
    "    planes = Cell.cell_data[cell_id]['z_planes']\n",
    "    med_planes[cell] = int(np.median(planes))\n",
    "    \n",
    "    mask = Cell.cell_data[cell_id]['masks'][med_planes[cell]]\n",
    "    centers_med_planes[cell, :] = np.mean(mask, 0).astype(int)"
   ]
  },
  {
   "cell_type": "markdown",
   "metadata": {
    "hidden": true
   },
   "source": [
    "### Run for different conditions"
   ]
  },
  {
   "cell_type": "code",
   "execution_count": 108,
   "metadata": {
    "ExecuteTime": {
     "end_time": "2020-03-27T12:18:17.059953Z",
     "start_time": "2020-03-27T12:15:12.868953Z"
    },
    "hidden": true
   },
   "outputs": [
    {
     "name": "stdout",
     "output_type": "stream",
     "text": [
      "Ndnf_raw_images_all_cells2\n",
      "Cell 0: 4.0 seconds\n",
      "Cell 10: 5.0 seconds\n",
      "Cell 20: 6.0 seconds\n",
      "Cell 30: 7.0 seconds\n",
      "Cell 40: 8.0 seconds\n",
      "Cell 50: 9.0 seconds\n",
      "Cell 60: 10.0 seconds\n",
      "Cell 70: 11.0 seconds\n",
      "Cell 80: 12.0 seconds\n",
      "Cell 90: 13.0 seconds\n",
      "Cell 100: 14.0 seconds\n",
      "Cell 110: 15.0 seconds\n",
      "Cell 120: 16.0 seconds\n",
      "Cell 130: 17.0 seconds\n",
      "Cell 140: 18.0 seconds\n",
      "Cell 150: 19.0 seconds\n",
      "Cell 160: 20.0 seconds\n",
      "Cell 170: 21.0 seconds\n",
      "Cell 180: 22.0 seconds\n",
      "Cell 190: 23.0 seconds\n",
      "Cell 200: 24.0 seconds\n",
      "Cell 210: 25.0 seconds\n",
      "Cell 220: 26.0 seconds\n",
      "Cell 230: 27.0 seconds\n",
      "Cell 240: 28.0 seconds\n",
      "Cell 250: 29.0 seconds\n",
      "Cell 260: 30.0 seconds\n",
      "Cell 270: 31.0 seconds\n",
      "Cell 280: 32.0 seconds\n",
      "Cell 290: 33.0 seconds\n",
      "Cell 300: 34.0 seconds\n",
      "Cell 310: 35.0 seconds\n",
      "Cell 320: 36.0 seconds\n",
      "Cell 330: 37.0 seconds\n",
      "Cell 340: 38.0 seconds\n",
      "Cell 350: 39.0 seconds\n",
      "Sst_raw_images_all_cells2\n",
      "Cell 0: 4.0 seconds\n",
      "Cell 10: 5.0 seconds\n",
      "Cell 20: 6.0 seconds\n",
      "Cell 30: 7.0 seconds\n",
      "Cell 40: 8.0 seconds\n",
      "Cell 50: 9.0 seconds\n",
      "Cell 60: 10.0 seconds\n",
      "Cell 70: 11.0 seconds\n",
      "Cell 80: 12.0 seconds\n",
      "Cell 90: 13.0 seconds\n",
      "Cell 100: 14.0 seconds\n",
      "Cell 110: 15.0 seconds\n",
      "Cell 120: 16.0 seconds\n",
      "Cell 130: 17.0 seconds\n",
      "Cell 140: 18.0 seconds\n",
      "Cell 150: 19.0 seconds\n",
      "Cell 160: 20.0 seconds\n",
      "Cell 170: 21.0 seconds\n",
      "Cell 180: 22.0 seconds\n",
      "Cell 190: 23.0 seconds\n",
      "Cell 200: 24.0 seconds\n",
      "Cell 210: 25.0 seconds\n",
      "Cell 220: 26.0 seconds\n",
      "Cell 230: 27.0 seconds\n",
      "Cell 240: 28.0 seconds\n",
      "Cell 250: 29.0 seconds\n",
      "Cell 260: 30.0 seconds\n",
      "Cell 270: 31.0 seconds\n",
      "Cell 280: 32.0 seconds\n",
      "Cell 290: 33.0 seconds\n",
      "Cell 300: 34.0 seconds\n",
      "Cell 310: 35.0 seconds\n",
      "Cell 320: 36.0 seconds\n",
      "Cell 330: 37.0 seconds\n",
      "Cell 340: 38.0 seconds\n",
      "Cell 350: 39.0 seconds\n",
      "Vip_raw_images_all_cells2\n",
      "Cell 0: 4.0 seconds\n",
      "Cell 10: 5.0 seconds\n",
      "Cell 20: 6.0 seconds\n",
      "Cell 30: 7.0 seconds\n",
      "Cell 40: 8.0 seconds\n",
      "Cell 50: 9.0 seconds\n",
      "Cell 60: 10.0 seconds\n",
      "Cell 70: 11.0 seconds\n",
      "Cell 80: 12.0 seconds\n",
      "Cell 90: 13.0 seconds\n",
      "Cell 100: 14.0 seconds\n",
      "Cell 110: 15.0 seconds\n",
      "Cell 120: 16.0 seconds\n",
      "Cell 130: 17.0 seconds\n",
      "Cell 140: 18.0 seconds\n",
      "Cell 150: 19.0 seconds\n",
      "Cell 160: 21.0 seconds\n",
      "Cell 170: 22.0 seconds\n",
      "Cell 180: 23.0 seconds\n",
      "Cell 190: 24.0 seconds\n",
      "Cell 200: 25.0 seconds\n",
      "Cell 210: 26.0 seconds\n",
      "Cell 220: 27.0 seconds\n",
      "Cell 230: 28.0 seconds\n",
      "Cell 240: 28.0 seconds\n",
      "Cell 250: 29.0 seconds\n",
      "Cell 260: 30.0 seconds\n",
      "Cell 270: 31.0 seconds\n",
      "Cell 280: 32.0 seconds\n",
      "Cell 290: 33.0 seconds\n",
      "Cell 300: 34.0 seconds\n",
      "Cell 310: 35.0 seconds\n",
      "Cell 320: 36.0 seconds\n",
      "Cell 330: 37.0 seconds\n",
      "Cell 340: 38.0 seconds\n",
      "Cell 350: 39.0 seconds\n"
     ]
    }
   ],
   "source": [
    "save_loc = 'G:{0}Shared drives{0}as_share{0}HCR{0}HCR 3.11{0}S5{0}Plots'.format(sep)\n",
    "\n",
    "titles = {\n",
    "            1: 'Ndnf_raw_images_all_cells2',\n",
    "#           2: 'Ndnf_diff_images_all_cells',\n",
    "#           3: 'Ndnf_bin_images_all_cells2',\n",
    "          4: 'Sst_raw_images_all_cells2',\n",
    "#           5: 'Sst_diff_images_all_cells',\n",
    "#           6: 'Sst_bin_images_all_cells2',\n",
    "          7: 'Vip_raw_images_all_cells2',\n",
    "#           8: 'Vip_diff_images_all_cells',\n",
    "#           9: 'Vip_bin_images_all_cells2',\n",
    "         }\n",
    "\n",
    "im_arrays = {\n",
    "             1: im_array_ndnf,\n",
    "#              2: im_diff_ndnf,\n",
    "#              3: im_bin_ndnf,\n",
    "             4: im_array_sst,\n",
    "#              5: im_diff_sst,\n",
    "#              6: im_bin_sst,\n",
    "             7: im_array_vip,\n",
    "#              8: im_diff_vip,\n",
    "#              9: im_bin_vip,\n",
    "            }\n",
    "             \n",
    "signals = {\n",
    "             1: int_ndnf_bin - avg_bg_ndnf_bin,\n",
    "#            1: avg_intensity_ndnf - avg_bg_ndnf,\n",
    "#            2: int_ndnf_diff - avg_bg_ndnf_diff,\n",
    "#            3: int_ndnf_bin[cells] - avg_bg_ndnf_bin[cells],\n",
    "           4: int_sst_bin - avg_bg_sst_bin,\n",
    "#             4: avg_intensity_sst - avg_bg_sst,\n",
    "#            5: int_sst_diff - avg_bg_sst_diff,\n",
    "#            6: int_sst_bin[cells] - avg_bg_sst_bin[cells],\n",
    "            7: int_vip_bin - avg_bg_vip_bin,\n",
    "#            7: avg_intensity_vip - avg_bg_vip,\n",
    "#            8: int_vip_diff - avg_bg_vip_diff,\n",
    "#            9: int_vip_bin[cells] - avg_bg_vip_bin[cells],\n",
    "          }\n",
    "\n",
    "pos = {\n",
    "        1: pv_ndnf3 < 0.05,\n",
    "        3: pv_ndnf3 < 0.05,\n",
    "        4: pv_sst3 < 0.05,\n",
    "        6: pv_sst3 < 0.05,\n",
    "        7: pv_vip3 < 0.05,\n",
    "        9: pv_vip3 < 0.05\n",
    "    \n",
    "}\n",
    "\n",
    "n_rows = 12\n",
    "n_cols = 30\n",
    "\n",
    "size_um = 30 # In um\n",
    "um_per_px = 0.13 # Size of a pixel in um\n",
    "\n",
    "conds = [1, 4, 7]\n",
    "#conds = [3, 6, 9]\n",
    "order = {}\n",
    "\n",
    "#c_data = {cells[i] + 1: Cell.cell_data[cells[i] + 1] for i in range(len(cells))}\n",
    "c_data = Cell.cell_data\n",
    "\n",
    "for cond in conds:\n",
    "    print(titles[cond])\n",
    "    view_all_cells(Cell.n_cells, n_rows, n_cols, signals[cond], im_arrays[cond],\n",
    "                   c_data, size_um, um_per_px,\n",
    "                    h, w, save_loc, titles[cond], \n",
    "                   max_intensity = np.max(avg_intensity_ndnf[cells] - avg_bg_ndnf_bin[cells]),\n",
    "                  pos_cells = pos[cond],\n",
    "                  spine_color_pos = 'r',\n",
    "                  spine_width = 5, show_masks = True)\n",
    "    \n",
    "    \n",
    "\n",
    "\n"
   ]
  },
  {
   "cell_type": "code",
   "execution_count": 212,
   "metadata": {
    "ExecuteTime": {
     "end_time": "2020-03-24T23:35:23.733953Z",
     "start_time": "2020-03-24T23:35:23.722953Z"
    },
    "hidden": true
   },
   "outputs": [],
   "source": [
    "plt.close('all')"
   ]
  },
  {
   "cell_type": "markdown",
   "metadata": {
    "heading_collapsed": true,
    "hidden": true
   },
   "source": [
    "### Select positive and negative cells for each gene"
   ]
  },
  {
   "cell_type": "code",
   "execution_count": 142,
   "metadata": {
    "ExecuteTime": {
     "end_time": "2020-03-24T16:58:21.841953Z",
     "start_time": "2020-03-24T16:58:21.836953Z"
    },
    "hidden": true,
    "run_control": {
     "marked": true
    }
   },
   "outputs": [
    {
     "name": "stdout",
     "output_type": "stream",
     "text": [
      "315\n"
     ]
    }
   ],
   "source": [
    "ind = np.flip(np.argsort(signals[7]))\n",
    "cell = ind[46]\n",
    "print(cell)"
   ]
  },
  {
   "cell_type": "code",
   "execution_count": 57,
   "metadata": {
    "ExecuteTime": {
     "end_time": "2020-03-27T05:11:20.761953Z",
     "start_time": "2020-03-27T05:11:20.740953Z"
    },
    "hidden": true
   },
   "outputs": [
    {
     "name": "stdout",
     "output_type": "stream",
     "text": [
      "Data loaded\n"
     ]
    }
   ],
   "source": [
    "save_loc = 'G:{0}Shared drives{0}as_share{0}HCR{0}HCR 3.11{0}S5'.format(sep)\n",
    "save_file = 'Ndnf_sst_vip_pos_cells.pkl'\n",
    "\n",
    "try:\n",
    "    with open('{0}{1}{2}'.format(save_loc, sep, save_file), 'rb') as f:\n",
    "        pos = pkl.load(f)\n",
    "        ndnf_pos = pos['Ndnf_pos']\n",
    "        sst_pos = pos['Sst_pos']\n",
    "        vip_pos = pos['Vip_pos']\n",
    "    print('Data loaded')\n",
    "\n",
    "except:\n",
    "    # Ndnf\n",
    "    ind = np.flip(np.argsort(signals[1]))\n",
    "    ndnf_pos = ind[0:40]\n",
    "    ndnf_pos = np.concatenate([ndnf_pos, [ind[i] for i in [42, 43, 44, 45, 50, 59]]])\n",
    "\n",
    "    # Sst\n",
    "    ind = np.flip(np.argsort(signals[4]))\n",
    "    sst_pos = np.array(ind[0:29])\n",
    "\n",
    "    # Vip\n",
    "    ind = np.flip(np.argsort(signals[7]))\n",
    "    vip_pos = np.array(ind[0:35])\n",
    "\n",
    "    with open('{0}{1}{2}'.format(save_loc, sep, save_file), 'wb') as f:\n",
    "        pkl.dump({'Ndnf_pos': ndnf_pos, 'Sst_pos': sst_pos, 'Vip_pos': vip_pos}, f)\n"
   ]
  },
  {
   "cell_type": "markdown",
   "metadata": {
    "heading_collapsed": true,
    "hidden": true
   },
   "source": [
    "##### Check exclusivity"
   ]
  },
  {
   "cell_type": "code",
   "execution_count": 19,
   "metadata": {
    "ExecuteTime": {
     "end_time": "2020-03-24T17:25:50.220953Z",
     "start_time": "2020-03-24T17:25:50.215953Z"
    },
    "hidden": true
   },
   "outputs": [
    {
     "name": "stdout",
     "output_type": "stream",
     "text": [
      "[]\n",
      "[]\n",
      "[162]\n"
     ]
    }
   ],
   "source": [
    "ndnf_vip = [i for i in ndnf_pos if i in vip_pos]\n",
    "ndnf_sst = [i for i in ndnf_pos if i in sst_pos]\n",
    "vip_sst = [i for i in vip_pos if i in sst_pos]\n",
    "print(ndnf_vip)\n",
    "print(ndnf_sst)\n",
    "print(vip_sst)"
   ]
  },
  {
   "cell_type": "markdown",
   "metadata": {
    "hidden": true
   },
   "source": [
    "#### Get planes of positive cells"
   ]
  },
  {
   "cell_type": "code",
   "execution_count": 74,
   "metadata": {
    "ExecuteTime": {
     "end_time": "2020-03-26T15:16:45.697953Z",
     "start_time": "2020-03-26T15:16:45.650953Z"
    },
    "hidden": true
   },
   "outputs": [
    {
     "data": {
      "text/plain": [
       "(array([30., 29., 26., 28.,  0., 23., 26., 18.,  7.,  1.]),\n",
       " array([0. , 0.8, 1.6, 2.4, 3.2, 4. , 4.8, 5.6, 6.4, 7.2, 8. ]),\n",
       " <a list of 10 Patch objects>)"
      ]
     },
     "execution_count": 74,
     "metadata": {},
     "output_type": "execute_result"
    }
   ],
   "source": [
    "planes = []\n",
    "ndnf_pos2 = []\n",
    "vip_pos2 = []\n",
    "sst_pos2 = []\n",
    "for cell in ndnf_pos:\n",
    "    cell_no = cell + 1\n",
    "    cp = Cell.cell_data[cell_no]['z_planes']\n",
    "    planes = np.append(planes, cp)\n",
    "    if all(x in [0, 1] for x in cp):\n",
    "        ndnf_pos2 = np.append(ndnf_pos2, cell)\n",
    "    \n",
    "for cell in vip_pos:\n",
    "    cell_no = cell + 1\n",
    "    cp = Cell.cell_data[cell_no]['z_planes']\n",
    "    planes = np.append(planes, cp)\n",
    "    if all(x in [0, 1] for x in cp):\n",
    "        vip_pos2 = np.append(vip_pos2, cell)\n",
    "        \n",
    "for cell in sst_pos:\n",
    "    cell_no = cell + 1\n",
    "    cp = Cell.cell_data[cell_no]['z_planes']\n",
    "    planes = np.append(planes, cp)\n",
    "    if all(x in [0, 1] for x in cp):\n",
    "        sst_pos2 = np.append(sst_pos2, cell)\n",
    "        \n",
    "plt.figure()\n",
    "plt.hist(planes)"
   ]
  },
  {
   "cell_type": "code",
   "execution_count": 39,
   "metadata": {
    "ExecuteTime": {
     "end_time": "2020-03-25T03:12:04.636953Z",
     "start_time": "2020-03-25T03:12:04.632953Z"
    },
    "hidden": true
   },
   "outputs": [
    {
     "data": {
      "text/plain": [
       "False"
      ]
     },
     "execution_count": 39,
     "metadata": {},
     "output_type": "execute_result"
    }
   ],
   "source": [
    "all(x in [0, 1] for x in cp)"
   ]
  },
  {
   "cell_type": "code",
   "execution_count": 41,
   "metadata": {
    "ExecuteTime": {
     "end_time": "2020-03-25T03:12:57.358953Z",
     "start_time": "2020-03-25T03:12:57.354953Z"
    },
    "hidden": true
   },
   "outputs": [
    {
     "data": {
      "text/plain": [
       "array([ 18.,   7.,  30., 146.,  54.,   1.,  53.,  21.,  57.,   0.,  42.,\n",
       "        13.,  20.])"
      ]
     },
     "execution_count": 41,
     "metadata": {},
     "output_type": "execute_result"
    }
   ],
   "source": [
    "ndnf_pos2"
   ]
  },
  {
   "cell_type": "code",
   "execution_count": 42,
   "metadata": {
    "ExecuteTime": {
     "end_time": "2020-03-25T03:13:05.275953Z",
     "start_time": "2020-03-25T03:13:05.272953Z"
    },
    "hidden": true
   },
   "outputs": [
    {
     "data": {
      "text/plain": [
       "array([ 16.,  69.,  12., 110.,  55., 106.,  11., 102.,  34.,  65.,  25.,\n",
       "        33.])"
      ]
     },
     "execution_count": 42,
     "metadata": {},
     "output_type": "execute_result"
    }
   ],
   "source": [
    "vip_pos2"
   ]
  },
  {
   "cell_type": "code",
   "execution_count": 43,
   "metadata": {
    "ExecuteTime": {
     "end_time": "2020-03-25T03:13:13.452953Z",
     "start_time": "2020-03-25T03:13:13.448953Z"
    },
    "hidden": true
   },
   "outputs": [
    {
     "data": {
      "text/plain": [
       "array([ 37.,  63.,  44.,  22., 120.,  84.,  39., 125., 132.])"
      ]
     },
     "execution_count": 43,
     "metadata": {},
     "output_type": "execute_result"
    }
   ],
   "source": [
    "sst_pos2"
   ]
  },
  {
   "cell_type": "markdown",
   "metadata": {
    "heading_collapsed": true
   },
   "source": [
    "# View depths and signal levels of specific cells"
   ]
  },
  {
   "cell_type": "markdown",
   "metadata": {
    "heading_collapsed": true,
    "hidden": true
   },
   "source": [
    "## Ndnf+ cells"
   ]
  },
  {
   "cell_type": "code",
   "execution_count": 73,
   "metadata": {
    "ExecuteTime": {
     "end_time": "2020-03-27T10:32:01.945953Z",
     "start_time": "2020-03-27T10:32:01.939953Z"
    },
    "hidden": true
   },
   "outputs": [
    {
     "name": "stdout",
     "output_type": "stream",
     "text": [
      "Cell 0: depth 20.26um, signal = 2.02, p value = 0.0\n",
      "Cell 28: depth 279.1um, signal = 4.78, p value = 0.0\n",
      "Cell 31: depth 53.79um, signal = 6.24, p value = 0.0\n",
      "Cell 42: depth 289.02um, signal = 4.6, p value = 0.0\n",
      "Cell 63: depth 229.51um, signal = 4.8, p value = 0.0\n",
      "Cell 70: depth 382.53um, signal = 4.88, p value = 0.0\n",
      "Cell 72: depth 74.01um, signal = 0.77, p value = 0.0\n",
      "Cell 84: depth 351.77um, signal = 1.05, p value = 0.0\n",
      "Cell 116: depth 63.59um, signal = 0.49, p value = 0.0\n",
      "Cell 125: depth 366.83um, signal = 1.38, p value = 0.0\n",
      "Cell 167: depth 160.16um, signal = 0.12, p value = 0.0\n",
      "Cell 177: depth 143.9um, signal = -0.28, p value = 0.0\n",
      "Cell 194: depth 371.96um, signal = 1.97, p value = 0.0\n",
      "Cell 195: depth 29.29um, signal = 4.78, p value = 0.0\n",
      "Cell 197: depth 42.24um, signal = 1.78, p value = 0.0\n",
      "Cell 199: depth 115.88um, signal = 1.44, p value = 0.0\n",
      "Cell 206: depth 291.01um, signal = 0.25, p value = 0.0\n",
      "Cell 210: depth 92.45um, signal = 2.08, p value = 0.0\n",
      "Cell 211: depth 47.88um, signal = 0.01, p value = 0.0\n",
      "Cell 221: depth 243.3um, signal = 2.15, p value = 0.0\n",
      "Cell 225: depth 367.99um, signal = 0.28, p value = 0.0\n",
      "Cell 227: depth 403.07um, signal = 5.31, p value = 0.0\n",
      "Cell 245: depth 229.61um, signal = 3.01, p value = 0.0\n",
      "Cell 261: depth 50.33um, signal = 0.68, p value = 0.0\n",
      "Cell 263: depth 83.89um, signal = 3.54, p value = 0.0\n",
      "Cell 267: depth 158.98um, signal = 4.48, p value = 0.0\n",
      "Cell 274: depth 377.26um, signal = -0.16, p value = 0.0\n",
      "Cell 277: depth 364.51um, signal = 4.9, p value = 0.0\n",
      "Cell 287: depth 287.72um, signal = 0.26, p value = 0.02\n",
      "Cell 293: depth 156.79um, signal = 6.86, p value = 0.0\n",
      "Cell 312: depth 346.55um, signal = 5.18, p value = 0.0\n",
      "Cell 326: depth 420.58um, signal = 0.59, p value = 0.0\n",
      "Cell 330: depth 65.82um, signal = 3.85, p value = 0.0\n"
     ]
    }
   ],
   "source": [
    "sig = int_ndnf_bin - avg_bg_ndnf_bin\n",
    "max_sig = 10\n",
    "all_cells = np.array(list(Cell.cell_data.keys())) - 1\n",
    "cells = all_cells[np.logical_and(sig < max_sig, pv_ndnf3 < 0.05)]\n",
    "\n",
    "for cell in cells:\n",
    "    print('Cell {0}: depth {1}um, signal = {2}, p value = {3}'.format(cell, \n",
    "                                                                      np.round(depths[cell], decimals = 2), \n",
    "                                                                      np.round(sig[cell], decimals = 2), \n",
    "                                                                      np.round(pv_ndnf3[cell], decimals = 2)))\n",
    "    "
   ]
  },
  {
   "cell_type": "markdown",
   "metadata": {
    "heading_collapsed": true,
    "hidden": true
   },
   "source": [
    "## Ndnf- cells"
   ]
  },
  {
   "cell_type": "code",
   "execution_count": 75,
   "metadata": {
    "ExecuteTime": {
     "end_time": "2020-03-27T10:34:17.260953Z",
     "start_time": "2020-03-27T10:34:17.253953Z"
    },
    "hidden": true
   },
   "outputs": [
    {
     "name": "stdout",
     "output_type": "stream",
     "text": [
      "Cell 305: depth 45.01um, signal = -0.21, p value = 1.0\n",
      "Cell 290: depth 123.08um, signal = -1.23, p value = 1.0\n",
      "Cell 109: depth 177.52um, signal = -2.34, p value = 1.0\n",
      "Cell 139: depth 302.68um, signal = -0.15, p value = 1.0\n",
      "Cell 295: depth 233.11um, signal = -1.17, p value = 1.0\n",
      "Cell 278: depth 200.48um, signal = -0.2, p value = 1.0\n",
      "Cell 248: depth 392.49um, signal = -0.24, p value = 1.0\n",
      "Cell 286: depth 314.93um, signal = -0.84, p value = 1.0\n",
      "Cell 180: depth 204.11um, signal = -1.32, p value = 1.0\n",
      "Cell 291: depth 220.63um, signal = -0.57, p value = 1.0\n"
     ]
    }
   ],
   "source": [
    "sig = int_ndnf_bin - avg_bg_ndnf_bin\n",
    "max_sig = 0\n",
    "all_cells = np.array(list(Cell.cell_data.keys())) - 1\n",
    "cells = all_cells[np.logical_and(sig < max_sig, pv_ndnf3 > 0.05)]\n",
    "cells = cells[np.random.randint(0, high = len(cells) - 1, size = 10)]\n",
    "for cell in cells:\n",
    "    print('Cell {0}: depth {1}um, signal = {2}, p value = {3}'.format(cell, \n",
    "                                                                      np.round(depths[cell], decimals = 2), \n",
    "                                                                      np.round(sig[cell], decimals = 2), \n",
    "                                                                      np.round(pv_ndnf3[cell], decimals = 2)))\n"
   ]
  },
  {
   "cell_type": "code",
   "execution_count": 76,
   "metadata": {
    "ExecuteTime": {
     "end_time": "2020-03-27T10:34:34.201953Z",
     "start_time": "2020-03-27T10:34:34.195953Z"
    },
    "hidden": true
   },
   "outputs": [
    {
     "name": "stdout",
     "output_type": "stream",
     "text": [
      "Cell 109: depth 177.52um, signal = -2.34, p value = 1.0\n",
      "Cell 288: depth 346.37um, signal = 0.0, p value = 1.0\n",
      "Cell 126: depth 112.38um, signal = 0.0, p value = 1.0\n",
      "Cell 161: depth 80.02um, signal = 0.0, p value = 1.0\n",
      "Cell 43: depth 292.14um, signal = 0.0, p value = 1.0\n",
      "Cell 281: depth 144.53um, signal = 0.0, p value = 1.0\n",
      "Cell 79: depth 275.98um, signal = 0.0, p value = 1.0\n",
      "Cell 122: depth 166.83um, signal = 0.0, p value = 1.0\n",
      "Cell 299: depth 257.23um, signal = -0.35, p value = 1.0\n",
      "Cell 55: depth 76.89um, signal = 0.0, p value = 1.0\n"
     ]
    }
   ],
   "source": [
    "sig = int_ndnf_bin - avg_bg_ndnf_bin\n",
    "max_sig = 10\n",
    "all_cells = np.array(list(Cell.cell_data.keys())) - 1\n",
    "cells = all_cells[np.logical_and(sig < max_sig, pv_ndnf3 > 0.05)]\n",
    "cells = cells[np.random.randint(0, high = len(cells) - 1, size = 10)]\n",
    "for cell in cells:\n",
    "    print('Cell {0}: depth {1}um, signal = {2}, p value = {3}'.format(cell, \n",
    "                                                                      np.round(depths[cell], decimals = 2), \n",
    "                                                                      np.round(sig[cell], decimals = 2), \n",
    "                                                                      np.round(pv_ndnf3[cell], decimals = 2)))\n"
   ]
  },
  {
   "cell_type": "code",
   "execution_count": 90,
   "metadata": {
    "ExecuteTime": {
     "end_time": "2020-03-27T11:16:25.499953Z",
     "start_time": "2020-03-27T11:16:25.487953Z"
    },
    "hidden": true
   },
   "outputs": [
    {
     "name": "stdout",
     "output_type": "stream",
     "text": [
      "Cell 120: depth 306.89um, signal = 0.27, p value = 0.5\n",
      "Cell 44: depth 253.44um, signal = 1.11, p value = 0.5\n",
      "Cell 27: depth 258.68um, signal = 0.11, p value = 0.67\n",
      "Cell 120: depth 306.89um, signal = 0.27, p value = 0.5\n",
      "Cell 120: depth 306.89um, signal = 0.27, p value = 0.5\n",
      "Cell 120: depth 306.89um, signal = 0.27, p value = 0.5\n",
      "Cell 27: depth 258.68um, signal = 0.11, p value = 0.67\n",
      "Cell 44: depth 253.44um, signal = 1.11, p value = 0.5\n",
      "Cell 27: depth 258.68um, signal = 0.11, p value = 0.67\n",
      "Cell 27: depth 258.68um, signal = 0.11, p value = 0.67\n"
     ]
    }
   ],
   "source": [
    "sig = int_ndnf_bin - avg_bg_ndnf_bin\n",
    "min_sig = 0\n",
    "all_cells = np.array(list(Cell.cell_data.keys())) - 1\n",
    "cells = all_cells[np.logical_and(sig > min_sig, pv_ndnf3 > 0.05)]\n",
    "cells = cells[np.random.randint(0, high = len(cells) - 1, size = 10)]\n",
    "for cell in cells:\n",
    "    print('Cell {0}: depth {1}um, signal = {2}, p value = {3}'.format(cell, \n",
    "                                                                      np.round(depths[cell], decimals = 2), \n",
    "                                                                      np.round(sig[cell], decimals = 2), \n",
    "                                                                      np.round(pv_ndnf3[cell], decimals = 2)))\n"
   ]
  },
  {
   "cell_type": "markdown",
   "metadata": {
    "heading_collapsed": true,
    "hidden": true
   },
   "source": [
    "## Vip+ cells"
   ]
  },
  {
   "cell_type": "code",
   "execution_count": 78,
   "metadata": {
    "ExecuteTime": {
     "end_time": "2020-03-27T10:35:48.650953Z",
     "start_time": "2020-03-27T10:35:48.642953Z"
    },
    "hidden": true
   },
   "outputs": [
    {
     "name": "stdout",
     "output_type": "stream",
     "text": [
      "Cell 1: depth 93.79um, signal = 2.83, p value = 0.0\n",
      "Cell 15: depth 164.33um, signal = 5.74, p value = 0.0\n",
      "Cell 20: depth 286.32um, signal = 0.64, p value = 0.0\n",
      "Cell 25: depth 95.87um, signal = 3.86, p value = 0.0\n",
      "Cell 33: depth 100.37um, signal = 2.53, p value = 0.0\n",
      "Cell 39: depth 206.94um, signal = 2.27, p value = 0.0\n",
      "Cell 44: depth 253.44um, signal = 0.54, p value = 0.0\n",
      "Cell 63: depth 229.51um, signal = 9.76, p value = 0.0\n",
      "Cell 70: depth 382.53um, signal = 8.9, p value = 0.0\n",
      "Cell 84: depth 351.77um, signal = 1.42, p value = 0.0\n",
      "Cell 100: depth 104.38um, signal = 0.1, p value = 0.0\n",
      "Cell 113: depth 244.89um, signal = 5.3, p value = 0.0\n",
      "Cell 120: depth 306.89um, signal = 1.9, p value = 0.0\n",
      "Cell 125: depth 366.83um, signal = 1.83, p value = 0.0\n",
      "Cell 127: depth 332.13um, signal = 0.9, p value = 0.0\n",
      "Cell 162: depth 176.45um, signal = 3.31, p value = 0.0\n",
      "Cell 167: depth 160.16um, signal = 1.69, p value = 0.0\n",
      "Cell 177: depth 143.9um, signal = -0.24, p value = 0.0\n",
      "Cell 194: depth 371.96um, signal = 3.78, p value = 0.0\n",
      "Cell 200: depth 146.46um, signal = 0.17, p value = 0.0\n",
      "Cell 204: depth 177.56um, signal = 6.61, p value = 0.0\n",
      "Cell 245: depth 229.61um, signal = 3.22, p value = 0.0\n",
      "Cell 264: depth 49.92um, signal = 3.31, p value = 0.0\n",
      "Cell 265: depth 127.69um, signal = 0.81, p value = 0.0\n",
      "Cell 274: depth 377.26um, signal = 2.51, p value = 0.0\n",
      "Cell 294: depth 118.23um, signal = 0.29, p value = 0.0\n",
      "Cell 304: depth 4.75um, signal = 3.38, p value = 0.0\n",
      "Cell 321: depth 21.11um, signal = 0.3, p value = 0.0\n",
      "Cell 331: depth 106.0um, signal = 6.79, p value = 0.0\n"
     ]
    }
   ],
   "source": [
    "sig = int_vip_bin - avg_bg_vip_bin\n",
    "pv = pv_vip3\n",
    "max_sig = 10\n",
    "all_cells = np.array(list(Cell.cell_data.keys())) - 1\n",
    "cells = all_cells[np.logical_and(sig < max_sig, pv < 0.05)]\n",
    "# cells = cells[np.random.randint(0, high = len(cells) - 1, size = 10)]\n",
    "for cell in cells:\n",
    "    print('Cell {0}: depth {1}um, signal = {2}, p value = {3}'.format(cell, \n",
    "                                                                      np.round(depths[cell], decimals = 2), \n",
    "                                                                      np.round(sig[cell], decimals = 2), \n",
    "                                                                      np.round(pv[cell], decimals = 2)))\n"
   ]
  },
  {
   "cell_type": "markdown",
   "metadata": {
    "hidden": true
   },
   "source": [
    "## Vip- cells"
   ]
  },
  {
   "cell_type": "code",
   "execution_count": 79,
   "metadata": {
    "ExecuteTime": {
     "end_time": "2020-03-27T10:36:08.444953Z",
     "start_time": "2020-03-27T10:36:08.434953Z"
    },
    "hidden": true
   },
   "outputs": [
    {
     "name": "stdout",
     "output_type": "stream",
     "text": [
      "Cell 330: depth 65.82um, signal = 0.0, p value = 1.0\n",
      "Cell 142: depth 91.81um, signal = 0.0, p value = 1.0\n",
      "Cell 258: depth 356.49um, signal = -2.47, p value = 1.0\n",
      "Cell 338: depth 347.63um, signal = 0.0, p value = 1.0\n",
      "Cell 137: depth 211.21um, signal = 0.0, p value = 1.0\n",
      "Cell 310: depth 293.24um, signal = 0.0, p value = 1.0\n",
      "Cell 207: depth 326.26um, signal = 0.0, p value = 1.0\n",
      "Cell 66: depth 296.52um, signal = 0.0, p value = 1.0\n",
      "Cell 347: depth 12.87um, signal = 0.0, p value = 1.0\n",
      "Cell 181: depth 248.89um, signal = 0.0, p value = 1.0\n"
     ]
    }
   ],
   "source": [
    "sig = int_vip_bin - avg_bg_vip_bin\n",
    "pv = pv_vip3\n",
    "max_sig = 10\n",
    "all_cells = np.array(list(Cell.cell_data.keys())) - 1\n",
    "\n",
    "cells = all_cells[np.logical_and(sig < max_sig, pv > 0.05)]\n",
    "cells = cells[np.random.randint(0, high = len(cells) - 1, size = 10)]\n",
    "for cell in cells:\n",
    "    print('Cell {0}: depth {1}um, signal = {2}, p value = {3}'.format(cell, \n",
    "                                                                      np.round(depths[cell], decimals = 2), \n",
    "                                                                      np.round(sig[cell], decimals = 2), \n",
    "                                                                      np.round(pv[cell], decimals = 2)))\n"
   ]
  },
  {
   "cell_type": "code",
   "execution_count": 80,
   "metadata": {
    "ExecuteTime": {
     "end_time": "2020-03-27T10:36:19.449953Z",
     "start_time": "2020-03-27T10:36:19.442953Z"
    },
    "hidden": true
   },
   "outputs": [
    {
     "name": "stdout",
     "output_type": "stream",
     "text": [
      "Cell 170: depth 143.46um, signal = -11.24, p value = 1.0\n",
      "Cell 299: depth 257.23um, signal = -1.16, p value = 1.0\n",
      "Cell 124: depth 210.6um, signal = -0.15, p value = 1.0\n",
      "Cell 268: depth 219.07um, signal = -1.41, p value = 1.0\n",
      "Cell 189: depth 151.63um, signal = -1.29, p value = 1.0\n",
      "Cell 255: depth 174.82um, signal = -2.57, p value = 1.0\n",
      "Cell 139: depth 302.68um, signal = -0.45, p value = 1.0\n",
      "Cell 278: depth 200.48um, signal = -0.92, p value = 1.0\n",
      "Cell 355: depth 373.07um, signal = -5.07, p value = 1.0\n",
      "Cell 297: depth 180.76um, signal = -3.21, p value = 1.0\n"
     ]
    }
   ],
   "source": [
    "sig = int_vip_bin - avg_bg_vip_bin\n",
    "pv = pv_vip3\n",
    "max_sig = 0\n",
    "all_cells = np.array(list(Cell.cell_data.keys())) - 1\n",
    "\n",
    "cells = all_cells[np.logical_and(sig < max_sig, pv > 0.05)]\n",
    "cells = cells[np.random.randint(0, high = len(cells) - 1, size = 10)]\n",
    "for cell in cells:\n",
    "    print('Cell {0}: depth {1}um, signal = {2}, p value = {3}'.format(cell, \n",
    "                                                                      np.round(depths[cell], decimals = 2), \n",
    "                                                                      np.round(sig[cell], decimals = 2), \n",
    "                                                                      np.round(pv[cell], decimals = 2)))\n"
   ]
  },
  {
   "cell_type": "code",
   "execution_count": 99,
   "metadata": {
    "ExecuteTime": {
     "end_time": "2020-03-27T11:57:07.557953Z",
     "start_time": "2020-03-27T11:57:07.550953Z"
    },
    "hidden": true
   },
   "outputs": [
    {
     "name": "stdout",
     "output_type": "stream",
     "text": [
      "Cell 81: depth 242.36um, signal = 0.72, p value = 0.49\n",
      "Cell 82: depth 321.98um, signal = 0.54, p value = 0.5\n",
      "Cell 114: depth 320.9um, signal = 0.41, p value = 0.33\n",
      "Cell 81: depth 242.36um, signal = 0.72, p value = 0.49\n",
      "Cell 81: depth 242.36um, signal = 0.72, p value = 0.49\n",
      "Cell 81: depth 242.36um, signal = 0.72, p value = 0.49\n",
      "Cell 81: depth 242.36um, signal = 0.72, p value = 0.49\n",
      "Cell 114: depth 320.9um, signal = 0.41, p value = 0.33\n",
      "Cell 81: depth 242.36um, signal = 0.72, p value = 0.49\n",
      "Cell 27: depth 258.68um, signal = 0.11, p value = 0.67\n"
     ]
    }
   ],
   "source": [
    "sig = int_vip_bin - avg_bg_vip_bin\n",
    "pv = pv_vip3\n",
    "min_sig = 0\n",
    "all_cells = np.array(list(Cell.cell_data.keys())) - 1\n",
    "\n",
    "cells = all_cells[np.logical_and(sig > min_sig, pv > 0.05)]\n",
    "cells = cells[np.random.randint(0, high = len(cells) - 1, size = 10)]\n",
    "for cell in cells:\n",
    "    print('Cell {0}: depth {1}um, signal = {2}, p value = {3}'.format(cell, \n",
    "                                                                      np.round(depths[cell], decimals = 2), \n",
    "                                                                      np.round(sig[cell], decimals = 2), \n",
    "                                                                      np.round(pv[cell], decimals = 2)))\n"
   ]
  },
  {
   "cell_type": "markdown",
   "metadata": {
    "hidden": true
   },
   "source": [
    "## Sst + cells"
   ]
  },
  {
   "cell_type": "code",
   "execution_count": 81,
   "metadata": {
    "ExecuteTime": {
     "end_time": "2020-03-27T10:36:55.614953Z",
     "start_time": "2020-03-27T10:36:55.607953Z"
    },
    "hidden": true
   },
   "outputs": [
    {
     "name": "stdout",
     "output_type": "stream",
     "text": [
      "Cell 105: depth 152.58um, signal = 1.08, p value = 0.0\n",
      "Cell 109: depth 177.52um, signal = 0.46, p value = 0.0\n",
      "Cell 121: depth 372.27um, signal = 0.93, p value = 0.0\n",
      "Cell 132: depth 333.32um, signal = 1.4, p value = 0.0\n",
      "Cell 166: depth 209.32um, signal = 0.34, p value = 0.0\n",
      "Cell 201: depth 242.39um, signal = 5.43, p value = 0.0\n",
      "Cell 316: depth 382.25um, signal = 5.72, p value = 0.0\n"
     ]
    }
   ],
   "source": [
    "sig = int_sst_bin - avg_bg_sst_bin\n",
    "pv = pv_sst3\n",
    "max_sig = 10\n",
    "all_cells = np.array(list(Cell.cell_data.keys())) - 1\n",
    "\n",
    "cells = all_cells[np.logical_and(sig < max_sig, pv < 0.05)]\n",
    "# cells = cells[np.random.randint(0, high = len(cells) - 1, size = 10)]\n",
    "for cell in cells:\n",
    "    print('Cell {0}: depth {1}um, signal = {2}, p value = {3}'.format(cell, \n",
    "                                                                      np.round(depths[cell], decimals = 2), \n",
    "                                                                      np.round(sig[cell], decimals = 2), \n",
    "                                                                      np.round(pv[cell], decimals = 2)))\n"
   ]
  },
  {
   "cell_type": "markdown",
   "metadata": {
    "heading_collapsed": true,
    "hidden": true
   },
   "source": [
    "## Sst- cells"
   ]
  },
  {
   "cell_type": "code",
   "execution_count": 83,
   "metadata": {
    "ExecuteTime": {
     "end_time": "2020-03-27T10:37:31.624953Z",
     "start_time": "2020-03-27T10:37:31.618953Z"
    },
    "hidden": true
   },
   "outputs": [
    {
     "name": "stdout",
     "output_type": "stream",
     "text": [
      "Cell 14: depth 155.78um, signal = -0.44, p value = 1.0\n",
      "Cell 14: depth 155.78um, signal = -0.44, p value = 1.0\n",
      "Cell 14: depth 155.78um, signal = -0.44, p value = 1.0\n",
      "Cell 29: depth 299.58um, signal = -0.15, p value = 1.0\n",
      "Cell 14: depth 155.78um, signal = -0.44, p value = 1.0\n",
      "Cell 14: depth 155.78um, signal = -0.44, p value = 1.0\n",
      "Cell 29: depth 299.58um, signal = -0.15, p value = 1.0\n",
      "Cell 29: depth 299.58um, signal = -0.15, p value = 1.0\n",
      "Cell 29: depth 299.58um, signal = -0.15, p value = 1.0\n",
      "Cell 14: depth 155.78um, signal = -0.44, p value = 1.0\n"
     ]
    }
   ],
   "source": [
    "sig = int_sst_bin - avg_bg_sst_bin\n",
    "pv = pv_sst3\n",
    "max_sig = 0\n",
    "all_cells = np.array(list(Cell.cell_data.keys())) - 1\n",
    "\n",
    "cells = all_cells[np.logical_and(sig < max_sig, pv > 0.05)]\n",
    "cells = cells[np.random.randint(0, high = len(cells) - 1, size = 10)]\n",
    "for cell in cells:\n",
    "    print('Cell {0}: depth {1}um, signal = {2}, p value = {3}'.format(cell, \n",
    "                                                                      np.round(depths[cell], decimals = 2), \n",
    "                                                                      np.round(sig[cell], decimals = 2), \n",
    "                                                                      np.round(pv[cell], decimals = 2)))\n"
   ]
  },
  {
   "cell_type": "code",
   "execution_count": 84,
   "metadata": {
    "ExecuteTime": {
     "end_time": "2020-03-27T10:37:44.489953Z",
     "start_time": "2020-03-27T10:37:44.483953Z"
    },
    "hidden": true
   },
   "outputs": [
    {
     "name": "stdout",
     "output_type": "stream",
     "text": [
      "Cell 112: depth 253.86um, signal = 0.0, p value = 1.0\n",
      "Cell 118: depth 166.39um, signal = 0.0, p value = 1.0\n",
      "Cell 62: depth 223.94um, signal = 0.0, p value = 1.0\n",
      "Cell 104: depth 84.27um, signal = 0.0, p value = 1.0\n",
      "Cell 98: depth 61.4um, signal = 0.0, p value = 1.0\n",
      "Cell 207: depth 326.26um, signal = 0.0, p value = 1.0\n",
      "Cell 353: depth 169.94um, signal = 0.0, p value = 1.0\n",
      "Cell 248: depth 392.49um, signal = 0.0, p value = 1.0\n",
      "Cell 317: depth 236.14um, signal = 0.0, p value = 1.0\n",
      "Cell 122: depth 166.83um, signal = 0.0, p value = 1.0\n"
     ]
    }
   ],
   "source": [
    "sig = int_sst_bin - avg_bg_sst_bin\n",
    "pv = pv_sst3\n",
    "max_sig = 10\n",
    "all_cells = np.array(list(Cell.cell_data.keys())) - 1\n",
    "\n",
    "cells = all_cells[np.logical_and(sig < max_sig, pv > 0.05)]\n",
    "cells = cells[np.random.randint(0, high = len(cells) - 1, size = 10)]\n",
    "for cell in cells:\n",
    "    print('Cell {0}: depth {1}um, signal = {2}, p value = {3}'.format(cell, \n",
    "                                                                      np.round(depths[cell], decimals = 2), \n",
    "                                                                      np.round(sig[cell], decimals = 2), \n",
    "                                                                      np.round(pv[cell], decimals = 2)))\n"
   ]
  },
  {
   "cell_type": "code",
   "execution_count": null,
   "metadata": {
    "hidden": true
   },
   "outputs": [],
   "source": []
  }
 ],
 "metadata": {
  "kernelspec": {
   "display_name": "fish",
   "language": "python",
   "name": "fish"
  },
  "language_info": {
   "codemirror_mode": {
    "name": "ipython",
    "version": 3
   },
   "file_extension": ".py",
   "mimetype": "text/x-python",
   "name": "python",
   "nbconvert_exporter": "python",
   "pygments_lexer": "ipython3",
   "version": "3.7.6"
  },
  "toc": {
   "nav_menu": {},
   "number_sections": true,
   "sideBar": true,
   "skip_h1_title": false,
   "toc_cell": false,
   "toc_position": {},
   "toc_section_display": true,
   "toc_window_display": false
  },
  "varInspector": {
   "cols": {
    "lenName": 16,
    "lenType": 16,
    "lenVar": 40
   },
   "kernels_config": {
    "python": {
     "delete_cmd_postfix": "",
     "delete_cmd_prefix": "del ",
     "library": "var_list.py",
     "varRefreshCmd": "print(var_dic_list())"
    },
    "r": {
     "delete_cmd_postfix": ") ",
     "delete_cmd_prefix": "rm(",
     "library": "var_list.r",
     "varRefreshCmd": "cat(var_dic_list()) "
    }
   },
   "oldHeight": 731.666666,
   "position": {
    "height": "753px",
    "left": "1735px",
    "right": "20px",
    "top": "119px",
    "width": "689px"
   },
   "types_to_exclude": [
    "module",
    "function",
    "builtin_function_or_method",
    "instance",
    "_Feature"
   ],
   "varInspector_section_display": "block",
   "window_display": true
  }
 },
 "nbformat": 4,
 "nbformat_minor": 2
}
