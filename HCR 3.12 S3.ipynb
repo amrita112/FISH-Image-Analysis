{
 "cells": [
  {
   "cell_type": "markdown",
   "metadata": {
    "heading_collapsed": true
   },
   "source": [
    "# Imports"
   ]
  },
  {
   "cell_type": "code",
   "execution_count": 1,
   "metadata": {
    "ExecuteTime": {
     "end_time": "2020-03-21T21:24:12.383198Z",
     "start_time": "2020-03-21T21:24:10.830352Z"
    },
    "hidden": true
   },
   "outputs": [
    {
     "name": "stderr",
     "output_type": "stream",
     "text": [
      "C:\\Users\\JRCLUST\\Anaconda3\\lib\\site-packages\\napari\\__init__.py:27: UserWarning: \n",
      "    napari was tested with QT library `>=5.12.3`.\n",
      "    The version installed is 5.9.6. Please report any issues with this\n",
      "    specific QT version at https://github.com/Napari/napari/issues.\n",
      "    \n",
      "  warn(message=warn_message)\n"
     ]
    }
   ],
   "source": [
    "#%matplotlib qt\n",
    "\n",
    "from IPython import get_ipython\n",
    "ipython = get_ipython()\n",
    "ipython.magic(\"gui qt5\") \n",
    "\n",
    "import napari\n",
    "from PIL import Image\n",
    "\n",
    "import numpy as np\n",
    "import cv2\n",
    "\n",
    "import matplotlib.pyplot as plt\n",
    "from mpl_toolkits import mplot3d\n",
    "import matplotlib.colors as colors\n",
    "import matplotlib.path as mpltpath\n",
    "\n",
    "import time\n",
    "\n",
    "import pickle as pkl\n",
    "from os.path import sep\n",
    "\n",
    "import Cell\n",
    "import pixels_in_roi\n",
    "import diff_gauss\n",
    "import scatter_channels\n",
    "import hist_channels\n",
    "import m_dist\n",
    "\n",
    "from skimage.measure import profile_line"
   ]
  },
  {
   "cell_type": "markdown",
   "metadata": {
    "heading_collapsed": true
   },
   "source": [
    "# Load images"
   ]
  },
  {
   "cell_type": "markdown",
   "metadata": {
    "heading_collapsed": true,
    "hidden": true
   },
   "source": [
    "## Raw images"
   ]
  },
  {
   "cell_type": "code",
   "execution_count": 2,
   "metadata": {
    "ExecuteTime": {
     "end_time": "2020-03-21T21:27:37.196898Z",
     "start_time": "2020-03-21T21:24:23.904528Z"
    },
    "hidden": true
   },
   "outputs": [
    {
     "name": "stdout",
     "output_type": "stream",
     "text": [
      "Number of planes: 10\n",
      "Size of image in pixels: 10 X 4709 X 8396\n",
      "Loading image 1, 2.0 seconds\n",
      "Loading image 2, 17.0 seconds\n",
      "Loading image 3, 34.0 seconds\n",
      "Loading image 4, 56.0 seconds\n",
      "Loading image 5, 75.0 seconds\n",
      "Loading image 6, 95.0 seconds\n",
      "Loading image 7, 114.0 seconds\n",
      "Loading image 8, 134.0 seconds\n",
      "Loading image 9, 154.0 seconds\n",
      "Loading image 10, 173.0 seconds\n"
     ]
    }
   ],
   "source": [
    "# %% Load images\n",
    "t0 = time.time()\n",
    "folder = 'G:{0}Shared drives{0}as_share{0}HCR{0}HCR 3.11{0}S3{0}S3_raw_tiff_images'.format(sep)\n",
    "plane_nos = range(1, 11)\n",
    "\n",
    "# base_filename2 = 'S1_dapi_546_488_647_s2z'\n",
    "base_filename = 'S3_z'\n",
    "n = len(plane_nos)\n",
    "print('Number of planes: {0}'.format(n))\n",
    "\n",
    "# Create 4D array to store images\n",
    "img = Image.open('{0}{1}{2}{3}_ChS1-T3_ORG.tif'.format(folder, sep, base_filename, str(plane_nos[0]).zfill(2)))\n",
    "\n",
    "h = img.height\n",
    "w = img.width\n",
    "im_array_vip = np.zeros([n, h, w])\n",
    "im_array_npy2r = np.zeros([n, h, w])\n",
    "im_array_car4 = np.zeros([n, h, w])\n",
    "im_array_tac2 = np.zeros([n, h, w])\n",
    "im_array_dapi = np.zeros([n, h, w])\n",
    "\n",
    "print('Size of image in pixels: {0} X {1} X {2}'.format(n, h, w))\n",
    "\n",
    "for i in range(n):\n",
    "    print('Loading image {0}, {1} seconds'.format(i + 1, np.round(time.time() - t0)))\n",
    "    p = plane_nos[i]\n",
    "    img_vip = Image.open('{0}{1}{2}{3}_ChS1-T3_ORG.tif'.format(folder, sep, base_filename, str(p).zfill(2)))\n",
    "    img_npy2r = Image.open('{0}{1}{2}{3}_ChS2-T3_ORG.tif'.format(folder, sep, base_filename, str(p).zfill(2)))\n",
    "    img_car4 = Image.open('{0}{1}{2}{3}_ChS2-T2_ORG.tif'.format(folder, sep, base_filename, str(p).zfill(2)))\n",
    "    img_tac2 = Image.open('{0}{1}{2}{3}_ChS2-T1_ORG.tif'.format(folder, sep, base_filename, str(p).zfill(2)))\n",
    "    img_dapi = Image.open('{0}{1}{2}{3}_ChS1-T1_ORG.tif'.format(folder, sep, base_filename, str(p).zfill(2)))\n",
    "\n",
    "    try:\n",
    "        im_array_vip[i, :, :] = np.array(img_vip)\n",
    "        im_array_npy2r[i, :, :] = np.array(img_npy2r)\n",
    "        im_array_car4[i, :, :] = np.array(img_car4)\n",
    "        im_array_tac2[i, :, :] = np.array(img_tac2)\n",
    "        im_array_dapi[i, :, :] = np.array(img_dapi)\n",
    "    except:\n",
    "        print('Plane {0} could not be loaded'.format(p))\n",
    "        print('Size of plane {0} in pixels: {0} X {1}'.format(img.height, img.width))\n",
    "        im_array_gad1 = np.delete(im_array_gad1, i, axis = 0)\n",
    "        im_array_vip = np.delete(im_array_vip, i, axis = 0)\n",
    "        im_array_sst = np.delete(im_array_sst, i, axis = 0)\n",
    "        im_array_ndnf = np.delete(im_array_ndnf, i, axis = 0)\n",
    "        plane_nos.remove(p)\n",
    "        i -= 1\n",
    "        n = len(plane_nos)\n",
    "        continue\n",
    "\n",
    "del img_vip\n",
    "del img_npy2r\n",
    "del img_car4\n",
    "del img_tac2\n",
    "del img_dapi"
   ]
  },
  {
   "cell_type": "markdown",
   "metadata": {
    "heading_collapsed": true,
    "hidden": true
   },
   "source": [
    "## Gaussian blurred images"
   ]
  },
  {
   "cell_type": "code",
   "execution_count": 5,
   "metadata": {
    "ExecuteTime": {
     "end_time": "2020-03-21T03:19:35.472173Z",
     "start_time": "2020-03-21T03:19:28.370373Z"
    },
    "hidden": true
   },
   "outputs": [
    {
     "name": "stdout",
     "output_type": "stream",
     "text": [
      "Number of planes: 10\n",
      "Size of image in pixels: 10 X 4709 X 8396\n",
      "Loading image 1, 0.0 seconds\n",
      "Loading image 2, 1.0 seconds\n",
      "Loading image 3, 1.0 seconds\n",
      "Loading image 4, 2.0 seconds\n",
      "Loading image 5, 3.0 seconds\n",
      "Loading image 6, 3.0 seconds\n",
      "Loading image 7, 4.0 seconds\n",
      "Loading image 8, 5.0 seconds\n",
      "Loading image 9, 5.0 seconds\n",
      "Loading image 10, 6.0 seconds\n"
     ]
    }
   ],
   "source": [
    "# %% Load images\n",
    "t0 = time.time()\n",
    "folder = 'G:{0}Shared drives{0}as_share{0}HCR{0}HCR 3.11{0}S3{0}S3_blurred_tiff_images'.format(sep)\n",
    "plane_nos = range(1, 11)\n",
    "\n",
    "# base_filename2 = 'S1_dapi_546_488_647_s2z'\n",
    "base_filename = 'S3_z'\n",
    "n = len(plane_nos)\n",
    "print('Number of planes: {0}'.format(n))\n",
    "\n",
    "# Create 4D array to store images\n",
    "img = Image.open('{0}{1}{2}{3}_Vip_5px_gauss_blur.tif'.format(folder, sep, base_filename, str(plane_nos[0]).zfill(2)))\n",
    "\n",
    "h = img.height\n",
    "w = img.width\n",
    "im_array_vip_blur = np.zeros([n, h, w])\n",
    "# im_array_vip = np.zeros([n, h, w])\n",
    "# im_array_sst = np.zeros([n, h, w])\n",
    "# im_array_ndnf = np.zeros([n, h, w])\n",
    "# im_array_dapi = np.zeros([n, h, w])\n",
    "\n",
    "print('Size of image in pixels: {0} X {1} X {2}'.format(n, h, w))\n",
    "\n",
    "for i in range(n):\n",
    "    print('Loading image {0}, {1} seconds'.format(i + 1, np.round(time.time() - t0)))\n",
    "    p = plane_nos[i]\n",
    "    img_vip = Image.open('{0}{1}{2}{3}_Vip_5px_gauss_blur.tif'.format(folder, sep, base_filename, str(p).zfill(2)))\n",
    "#     img_vip = Image.open('{0}{1}{2}{3}_ChS2-T3_ORG.tif'.format(folder, sep, base_filename, str(p).zfill(2)))\n",
    "#     img_sst = Image.open('{0}{1}{2}{3}_ChS2-T2_ORG.tif'.format(folder, sep, base_filename, str(p).zfill(2)))\n",
    "#     img_ndnf = Image.open('{0}{1}{2}{3}_ChS2-T1_ORG.tif'.format(folder, sep, base_filename, str(p).zfill(2)))\n",
    "#     img_dapi = Image.open('{0}{1}{2}{3}_ChS1-T1_ORG.tif'.format(folder, sep, base_filename, str(p).zfill(2)))\n",
    "\n",
    "    try:\n",
    "        im_array_vip_blur[i, :, :] = np.array(img_vip)\n",
    "#         im_array_vip[i, :, :] = np.array(img_vip)\n",
    "#         im_array_sst[i, :, :] = np.array(img_sst)\n",
    "#         im_array_ndnf[i, :, :] = np.array(img_ndnf)\n",
    "#         im_array_dapi[i, :, :] = np.array(img_dapi)\n",
    "    except:\n",
    "        print('Plane {0} could not be loaded'.format(p))\n",
    "        print('Size of plane {0} in pixels: {0} X {1}'.format(img.height, img.width))\n",
    "        im_array_gad1 = np.delete(im_array_gad1, i, axis = 0)\n",
    "        im_array_vip = np.delete(im_array_vip, i, axis = 0)\n",
    "        im_array_sst = np.delete(im_array_sst, i, axis = 0)\n",
    "        im_array_ndnf = np.delete(im_array_ndnf, i, axis = 0)\n",
    "        plane_nos.remove(p)\n",
    "        i -= 1\n",
    "        n = len(plane_nos)\n",
    "        continue\n",
    "\n",
    "del img_vip\n",
    "# del img_vip\n",
    "# del img_sst\n",
    "# del img_ndnf\n",
    "# del img_dapi"
   ]
  },
  {
   "cell_type": "markdown",
   "metadata": {
    "heading_collapsed": true,
    "hidden": true
   },
   "source": [
    "## Background subtracted (rolling ball)"
   ]
  },
  {
   "cell_type": "code",
   "execution_count": null,
   "metadata": {
    "hidden": true
   },
   "outputs": [],
   "source": [
    "# Background subtracted (using rolling ball background subtraction in Fiji)\n",
    "print('Ndnf')\n",
    "im_array_ndnf = np.zeros([n, h, w])\n",
    "img_file = 'S2_Ndnf_bg_sub2'\n",
    "img = Image.open('{0}\\{1}.tif'.format(folder, img_file))\n",
    "for i in range(n):\n",
    "    print('Loading image {0}'.format(i + 1))\n",
    "    p = plane_nos[i]\n",
    "    try:\n",
    "        img.seek(p - 1)\n",
    "        im_array_ndnf[i, :, :] = np.array(img)\n",
    "        \n",
    "    except:\n",
    "        print('Plane {0} could not be loaded'.format(p))\n",
    "        print('Size of plane {0} in pixels: {0} X {1}'.format(img.height, img.width))\n",
    "        im_array_ndnf = np.delete(im_array_ndnf, i, axis = 0)\n",
    "        plane_nos.remove(p)\n",
    "        i -= 1\n",
    "        n = len(plane_nos)\n",
    "        continue\n",
    "\n",
    "print('Vip')\n",
    "im_array_vip = np.zeros([n, h, w])\n",
    "img_file = 'S2_Vip_bg_sub2'\n",
    "img = Image.open('{0}\\{1}.tif'.format(folder, img_file))\n",
    "for i in range(n):\n",
    "    print('Loading image {0}'.format(i + 1))\n",
    "    p = plane_nos[i]\n",
    "    try:\n",
    "        img.seek(p - 1)\n",
    "        im_array_vip[i, :, :] = np.array(img)\n",
    "        \n",
    "    except:\n",
    "        print('Plane {0} could not be loaded'.format(p))\n",
    "        print('Size of plane {0} in pixels: {0} X {1}'.format(img.height, img.width))\n",
    "        im_array_vip = np.delete(im_array_vip, i, axis = 0)\n",
    "        plane_nos.remove(p)\n",
    "        i -= 1\n",
    "        n = len(plane_nos)\n",
    "        continue\n",
    "        \n",
    "        \n",
    "print('Sst')\n",
    "im_array_sst = np.zeros([n, h, w])\n",
    "img_file = 'S2_Sst_bg_sub2'\n",
    "img = Image.open('{0}\\{1}.tif'.format(folder, img_file))\n",
    "for i in range(n):\n",
    "    print('Loading image {0}'.format(i + 1))\n",
    "    p = plane_nos[i]\n",
    "    try:\n",
    "        img.seek(p - 1)\n",
    "        im_array_sst[i, :, :] = np.array(img)\n",
    "        \n",
    "    except:\n",
    "        print('Plane {0} could not be loaded'.format(p))\n",
    "        print('Size of plane {0} in pixels: {0} X {1}'.format(img.height, img.width))\n",
    "        im_array_sst = np.delete(im_array_sst, i, axis = 0)\n",
    "        plane_nos.remove(p)\n",
    "        i -= 1\n",
    "        n = len(plane_nos)\n",
    "        continue    "
   ]
  },
  {
   "cell_type": "markdown",
   "metadata": {
    "heading_collapsed": true
   },
   "source": [
    "# Render images in napari GUI"
   ]
  },
  {
   "cell_type": "markdown",
   "metadata": {
    "heading_collapsed": true,
    "hidden": true
   },
   "source": [
    "## Raw images"
   ]
  },
  {
   "cell_type": "code",
   "execution_count": 3,
   "metadata": {
    "ExecuteTime": {
     "end_time": "2020-03-21T21:45:59.475066Z",
     "start_time": "2020-03-21T21:45:33.470609Z"
    },
    "hidden": true
   },
   "outputs": [
    {
     "name": "stderr",
     "output_type": "stream",
     "text": [
      "C:\\Users\\JRCLUST\\Anaconda3\\lib\\site-packages\\scipy\\ndimage\\interpolation.py:611: UserWarning: From scipy 0.13.0, the output shape of zoom() is calculated with round() instead of int() - for these inputs the size of the returned array has changed.\n",
      "  \"the returned array has changed.\", UserWarning)\n",
      "C:\\Users\\JRCLUST\\Anaconda3\\lib\\site-packages\\scipy\\ndimage\\interpolation.py:611: UserWarning: From scipy 0.13.0, the output shape of zoom() is calculated with round() instead of int() - for these inputs the size of the returned array has changed.\n",
      "  \"the returned array has changed.\", UserWarning)\n",
      "C:\\Users\\JRCLUST\\Anaconda3\\lib\\site-packages\\scipy\\ndimage\\interpolation.py:611: UserWarning: From scipy 0.13.0, the output shape of zoom() is calculated with round() instead of int() - for these inputs the size of the returned array has changed.\n",
      "  \"the returned array has changed.\", UserWarning)\n",
      "C:\\Users\\JRCLUST\\Anaconda3\\lib\\site-packages\\scipy\\ndimage\\interpolation.py:611: UserWarning: From scipy 0.13.0, the output shape of zoom() is calculated with round() instead of int() - for these inputs the size of the returned array has changed.\n",
      "  \"the returned array has changed.\", UserWarning)\n"
     ]
    },
    {
     "name": "stdout",
     "output_type": "stream",
     "text": [
      "26.0 seconds\n"
     ]
    }
   ],
   "source": [
    "# Full images\n",
    "t0 = time.time()\n",
    "\n",
    "viewer = napari.Viewer()\n",
    "viewer.add_image(im_array_vip, name = 'Vip', colormap = 'cyan', blending = 'additive')\n",
    "viewer.add_image(im_array_npy2r, name = 'Npy2r', colormap = 'magenta', blending = 'additive')\n",
    "viewer.add_image(im_array_car4, name = 'Car4', colormap = 'yellow', blending = 'additive')\n",
    "viewer.add_image(im_array_tac2, name = 'Tac2', colormap = 'green', blending = 'additive')\n",
    "\n",
    "t1 = time.time() - t0\n",
    "print('{0} seconds'.format(np.round(t1)))"
   ]
  },
  {
   "cell_type": "markdown",
   "metadata": {
    "heading_collapsed": true,
    "hidden": true
   },
   "source": [
    "## Blurred images"
   ]
  },
  {
   "cell_type": "code",
   "execution_count": 8,
   "metadata": {
    "ExecuteTime": {
     "end_time": "2020-03-21T03:23:58.327574Z",
     "start_time": "2020-03-21T03:23:38.511174Z"
    },
    "hidden": true
   },
   "outputs": [
    {
     "data": {
      "text/plain": [
       "<Image layer 'Vip_blur' at 0x16ae10c8>"
      ]
     },
     "execution_count": 8,
     "metadata": {},
     "output_type": "execute_result"
    }
   ],
   "source": [
    "viewer.add_image(im_array_vip_blur, name = 'Vip_blur', colormap = 'magenta', blending = 'additive')"
   ]
  },
  {
   "cell_type": "markdown",
   "metadata": {
    "heading_collapsed": true,
    "hidden": true
   },
   "source": [
    "## Cell masks"
   ]
  },
  {
   "cell_type": "markdown",
   "metadata": {
    "heading_collapsed": true,
    "hidden": true
   },
   "source": [
    "### From one click segmentation"
   ]
  },
  {
   "cell_type": "code",
   "execution_count": 94,
   "metadata": {
    "ExecuteTime": {
     "end_time": "2020-03-18T03:24:19.715420Z",
     "start_time": "2020-03-18T03:24:19.418217Z"
    },
    "hidden": true
   },
   "outputs": [],
   "source": [
    "mask_layer = viewer.add_shapes(data = None, name = 'Cell masks')\n",
    "\n",
    "mask = boundary\n",
    "mask_layer.add(mask, shape_type = 'polygon', opacity = 0.2, face_color = 'white', edge_color = 'red', edge_width = 3)\n",
    "\n",
    "# indices = list(Cell.cell_data.keys())\n",
    "# for cell in indices:\n",
    "#     if np.mod(cell, 10) == 0:\n",
    "#         print('Cell {0}'.format(cell))\n",
    "#     planes = Cell.cell_data[cell]['z_planes']\n",
    "#     for plane in planes:\n",
    "#         mask = Cell.cell_data[cell]['masks'][plane]\n",
    "#         mask = np.concatenate((np.ones([mask.shape[0], 1])*plane, mask), axis = 1)\n",
    "#         mask_layer.add(mask, shape_type = 'polygon', opacity = 0.2, face_color = 'white', edge_color = 'red', edge_width = 3)"
   ]
  },
  {
   "cell_type": "markdown",
   "metadata": {
    "heading_collapsed": true,
    "hidden": true
   },
   "source": [
    "### From manual segmentation"
   ]
  },
  {
   "cell_type": "code",
   "execution_count": 103,
   "metadata": {
    "ExecuteTime": {
     "end_time": "2020-03-18T22:09:56.548144Z",
     "start_time": "2020-03-18T22:09:56.541144Z"
    },
    "hidden": true
   },
   "outputs": [
    {
     "name": "stdout",
     "output_type": "stream",
     "text": [
      "[18 20 24 28 30 35 37 45 48]\n"
     ]
    }
   ],
   "source": [
    "# Cells with high mask variance\n",
    "var_thresh = 600\n",
    "indices = np.where(np.logical_or(var_masks[:, 0] > var_thresh, var_masks[:, 1] > var_thresh))[0] + 1\n",
    "print(indices)"
   ]
  },
  {
   "cell_type": "code",
   "execution_count": 5,
   "metadata": {
    "ExecuteTime": {
     "end_time": "2020-03-21T22:09:57.146529Z",
     "start_time": "2020-03-21T22:09:50.713716Z"
    },
    "hidden": true
   },
   "outputs": [
    {
     "name": "stdout",
     "output_type": "stream",
     "text": [
      "Cell 10\n",
      "Cell 20\n",
      "Cell 30\n",
      "Cell 40\n",
      "Cell 50\n",
      "Cell 60\n",
      "Cell 70\n",
      "Cell 80\n",
      "Cell 90\n",
      "Cell 100\n",
      "Cell 110\n",
      "Cell 120\n",
      "Cell 130\n"
     ]
    }
   ],
   "source": [
    "mask_layer2 = viewer.add_shapes(name = 'Cell masks individual')\n",
    "\n",
    "indices = list(Cell.cell_data.keys())\n",
    "for cell in indices:\n",
    "    if np.mod(cell, 10) == 0:\n",
    "        print('Cell {0}'.format(cell))\n",
    "    planes = Cell.cell_data[cell]['z_planes']\n",
    "    for plane in planes:\n",
    "        mask = Cell.cell_data[cell]['masks'][plane]\n",
    "        mask = np.concatenate((np.ones([mask.shape[0], 1])*plane, mask), axis = 1)\n",
    "        mask_layer2.add(mask, shape_type = 'polygon', opacity = 0.4, face_color = 'white', edge_color = 'yellow', edge_width = 4)"
   ]
  },
  {
   "cell_type": "markdown",
   "metadata": {
    "heading_collapsed": true,
    "hidden": true
   },
   "source": [
    "## Lipofuscin ROIs (annotated)"
   ]
  },
  {
   "cell_type": "code",
   "execution_count": 80,
   "metadata": {
    "ExecuteTime": {
     "end_time": "2020-03-03T21:42:01.213605Z",
     "start_time": "2020-03-03T21:42:00.934353Z"
    },
    "hidden": true
   },
   "outputs": [
    {
     "name": "stdout",
     "output_type": "stream",
     "text": [
      "11 rois found\n"
     ]
    },
    {
     "data": {
      "text/plain": [
       "<Shapes layer 'Lipofuscin ROIs [1]' at 0x1ce6a65db88>"
      ]
     },
     "execution_count": 80,
     "metadata": {},
     "output_type": "execute_result"
    }
   ],
   "source": [
    "n_rois = len(l_rois)\n",
    "print('{0} rois found'.format(n_rois))\n",
    "viewer.add_shapes(l_rois, name = 'Lipofuscin ROIs',\n",
    "                   shape_type = 'polygon', opacity = 1, face_color = 'white', \n",
    "                   edge_color = 'blue', edge_width = 3)"
   ]
  },
  {
   "cell_type": "markdown",
   "metadata": {
    "heading_collapsed": true,
    "hidden": true
   },
   "source": [
    "## Filtered images"
   ]
  },
  {
   "cell_type": "code",
   "execution_count": null,
   "metadata": {
    "hidden": true
   },
   "outputs": [],
   "source": [
    "viewer.add_image(data = im_diff_npy2r, name = 'Diff npy2r', colormap = 'magenta', blending = 'additive')\n",
    "viewer.add_image(data = im_diff_tac2, name = 'Diff Tac2', colormap = 'green', blending = 'additive')\n",
    "viewer.add_image(data = im_diff_vip, name = 'Diff Vip', colormap = 'yellow', blending = 'additive')\n",
    "viewer.add_image(data = im_diff_car4, name = 'Diff Car4', colormap = 'cyan', blending = 'additive')"
   ]
  },
  {
   "cell_type": "markdown",
   "metadata": {
    "heading_collapsed": true,
    "hidden": true
   },
   "source": [
    "## Binarized images"
   ]
  },
  {
   "cell_type": "code",
   "execution_count": 14,
   "metadata": {
    "ExecuteTime": {
     "end_time": "2020-03-22T02:09:23.317078Z",
     "start_time": "2020-03-22T02:09:04.939801Z"
    },
    "hidden": true
   },
   "outputs": [
    {
     "name": "stderr",
     "output_type": "stream",
     "text": [
      "C:\\Users\\JRCLUST\\Anaconda3\\lib\\site-packages\\scipy\\ndimage\\interpolation.py:611: UserWarning: From scipy 0.13.0, the output shape of zoom() is calculated with round() instead of int() - for these inputs the size of the returned array has changed.\n",
      "  \"the returned array has changed.\", UserWarning)\n",
      "C:\\Users\\JRCLUST\\Anaconda3\\lib\\site-packages\\scipy\\ndimage\\interpolation.py:611: UserWarning: From scipy 0.13.0, the output shape of zoom() is calculated with round() instead of int() - for these inputs the size of the returned array has changed.\n",
      "  \"the returned array has changed.\", UserWarning)\n",
      "C:\\Users\\JRCLUST\\Anaconda3\\lib\\site-packages\\scipy\\ndimage\\interpolation.py:611: UserWarning: From scipy 0.13.0, the output shape of zoom() is calculated with round() instead of int() - for these inputs the size of the returned array has changed.\n",
      "  \"the returned array has changed.\", UserWarning)\n",
      "C:\\Users\\JRCLUST\\Anaconda3\\lib\\site-packages\\scipy\\ndimage\\interpolation.py:611: UserWarning: From scipy 0.13.0, the output shape of zoom() is calculated with round() instead of int() - for these inputs the size of the returned array has changed.\n",
      "  \"the returned array has changed.\", UserWarning)\n"
     ]
    },
    {
     "data": {
      "text/plain": [
       "<Image layer 'Diff Car4' at 0x1d877817048>"
      ]
     },
     "execution_count": 14,
     "metadata": {},
     "output_type": "execute_result"
    }
   ],
   "source": [
    "viewer.add_image(data = im_bin_npy2r, name = 'Diff npy2r', colormap = 'magenta', blending = 'additive')\n",
    "viewer.add_image(data = im_bin_tac2, name = 'Diff Tac2', colormap = 'green', blending = 'additive')\n",
    "viewer.add_image(data = im_bin_vip, name = 'Diff Vip', colormap = 'yellow', blending = 'additive')\n",
    "viewer.add_image(data = im_bin_car4, name = 'Diff Car4', colormap = 'cyan', blending = 'additive')"
   ]
  },
  {
   "cell_type": "markdown",
   "metadata": {
    "heading_collapsed": true,
    "hidden": true
   },
   "source": [
    "## Detected lipofuscin pixels"
   ]
  },
  {
   "cell_type": "code",
   "execution_count": 51,
   "metadata": {
    "ExecuteTime": {
     "end_time": "2020-03-06T19:21:33.588059Z",
     "start_time": "2020-03-06T19:21:27.427741Z"
    },
    "hidden": true
   },
   "outputs": [
    {
     "data": {
      "text/plain": [
       "<Image layer 'Detected lipofuscin' at 0x1380499a088>"
      ]
     },
     "execution_count": 51,
     "metadata": {},
     "output_type": "execute_result"
    }
   ],
   "source": [
    "viewer.add_image(data = im_array_lipo, name = 'Detected lipofuscin', colormap = 'gray', blending = 'additive')"
   ]
  },
  {
   "cell_type": "markdown",
   "metadata": {
    "heading_collapsed": true,
    "hidden": true
   },
   "source": [
    "## Cell masks after removing lipofuscin (check)"
   ]
  },
  {
   "cell_type": "code",
   "execution_count": 52,
   "metadata": {
    "ExecuteTime": {
     "end_time": "2020-03-06T19:35:33.038446Z",
     "start_time": "2020-03-06T19:35:26.352332Z"
    },
    "hidden": true
   },
   "outputs": [
    {
     "name": "stdout",
     "output_type": "stream",
     "text": [
      "Cell 10\n",
      "Cell 20\n",
      "Cell 30\n",
      "Cell 40\n",
      "Cell 50\n",
      "Cell 60\n",
      "Cell 70\n",
      "Cell 80\n",
      "Cell 90\n",
      "Cell 100\n",
      "Cell 110\n",
      "Cell 120\n",
      "Cell 130\n",
      "Cell 140\n",
      "Cell 150\n",
      "Cell 160\n",
      "Cell 170\n",
      "Cell 180\n",
      "Cell 190\n",
      "Cell 200\n",
      "Cell 210\n",
      "Cell 220\n",
      "Cell 230\n",
      "Cell 240\n",
      "Cell 250\n",
      "Cell 260\n",
      "Cell 270\n",
      "Cell 280\n",
      "Cell 290\n"
     ]
    },
    {
     "data": {
      "text/plain": [
       "<Image layer 'Cell pixels' at 0x138047427c8>"
      ]
     },
     "execution_count": 52,
     "metadata": {},
     "output_type": "execute_result"
    }
   ],
   "source": [
    "im_array_cells = np.zeros(im_array_gad1.shape)\n",
    "\n",
    "\n",
    "indices = list(Cell.cell_data.keys())\n",
    "for cell in indices:\n",
    "    if np.mod(cell, 10) == 0:\n",
    "        print('Cell {0}'.format(cell))\n",
    "    planes = Cell.cell_data[cell]['z_planes']\n",
    "    for plane in planes:\n",
    "        mask = cell_pixels_no_lipo[cell][plane]\n",
    "        mask = np.concatenate((np.ones([1, mask.shape[1]])*plane, mask))\n",
    "        mask = mask.astype(int)\n",
    "        im_array_cells[mask[0, :], mask[1, :], mask[2, :]] = np.ones(mask.shape[1])\n",
    "        \n",
    "\n",
    "viewer.add_image(data = im_array_cells, name = 'Cell pixels', colormap = 'blue', blending = 'additive')"
   ]
  },
  {
   "cell_type": "markdown",
   "metadata": {
    "heading_collapsed": true,
    "hidden": true
   },
   "source": [
    "## Cells with significant expression"
   ]
  },
  {
   "cell_type": "code",
   "execution_count": 102,
   "metadata": {
    "ExecuteTime": {
     "end_time": "2020-03-06T21:02:04.305669Z",
     "start_time": "2020-03-06T21:02:01.420386Z"
    },
    "hidden": true
   },
   "outputs": [],
   "source": [
    "ndnf_mask_layer = viewer.add_shapes(name = 'Ndnf+ cells')\n",
    "\n",
    "indices = list(Cell.cell_data.keys())\n",
    "for cell in indices:\n",
    "    \n",
    "    if pv_ndnf[cell - 1] < 0.05:\n",
    "        planes = Cell.cell_data[cell]['z_planes']\n",
    "        for plane in planes:\n",
    "            mask = Cell.cell_data[cell]['masks'][plane]\n",
    "            mask = np.concatenate((np.ones([mask.shape[0], 1])*plane, mask), axis = 1)\n",
    "            ndnf_mask_layer.add(mask, shape_type = 'polygon', opacity = 0.2, face_color = 'white', edge_color = 'magenta', edge_width = 3)"
   ]
  },
  {
   "cell_type": "code",
   "execution_count": 103,
   "metadata": {
    "ExecuteTime": {
     "end_time": "2020-03-06T21:02:30.632261Z",
     "start_time": "2020-03-06T21:02:29.091383Z"
    },
    "hidden": true
   },
   "outputs": [],
   "source": [
    "vip_mask_layer = viewer.add_shapes(name = 'Vip+ cells')\n",
    "\n",
    "indices = list(Cell.cell_data.keys())\n",
    "for cell in indices:\n",
    "    \n",
    "    if pv_vip[cell - 1] < 0.05:\n",
    "        planes = Cell.cell_data[cell]['z_planes']\n",
    "        for plane in planes:\n",
    "            mask = Cell.cell_data[cell]['masks'][plane]\n",
    "            mask = np.concatenate((np.ones([mask.shape[0], 1])*plane, mask), axis = 1)\n",
    "            vip_mask_layer.add(mask, shape_type = 'polygon', opacity = 0.2, face_color = 'white', edge_color = 'yellow', edge_width = 3)"
   ]
  },
  {
   "cell_type": "code",
   "execution_count": 104,
   "metadata": {
    "ExecuteTime": {
     "end_time": "2020-03-06T21:02:56.135477Z",
     "start_time": "2020-03-06T21:02:55.157094Z"
    },
    "hidden": true
   },
   "outputs": [],
   "source": [
    "sst_mask_layer = viewer.add_shapes(name = 'Sst+ cells')\n",
    "\n",
    "indices = list(Cell.cell_data.keys())\n",
    "for cell in indices:\n",
    "    \n",
    "    if pv_sst[cell - 1] < 0.05:\n",
    "        planes = Cell.cell_data[cell]['z_planes']\n",
    "        for plane in planes:\n",
    "            mask = Cell.cell_data[cell]['masks'][plane]\n",
    "            mask = np.concatenate((np.ones([mask.shape[0], 1])*plane, mask), axis = 1)\n",
    "            sst_mask_layer.add(mask, shape_type = 'polygon', opacity = 0.2, face_color = 'white', edge_color = 'green', edge_width = 3)"
   ]
  },
  {
   "cell_type": "markdown",
   "metadata": {},
   "source": [
    "# Cell segmentation"
   ]
  },
  {
   "cell_type": "markdown",
   "metadata": {
    "heading_collapsed": true
   },
   "source": [
    "## Load existing masks"
   ]
  },
  {
   "cell_type": "code",
   "execution_count": 4,
   "metadata": {
    "ExecuteTime": {
     "end_time": "2020-03-21T22:09:43.032240Z",
     "start_time": "2020-03-21T22:09:42.735033Z"
    },
    "hidden": true
   },
   "outputs": [
    {
     "name": "stdout",
     "output_type": "stream",
     "text": [
      "135 cells found\n"
     ]
    }
   ],
   "source": [
    "save_loc = 'G:\\\\Shared drives\\\\as_share\\\\HCR\\\\HCR 3.11'\n",
    "save_file= 'S3_data.pkl'\n",
    "try:\n",
    "    with open('{0}\\{1}'.format(save_loc, save_file), 'rb') as f:\n",
    "        Cell.cell_data = pkl.load(f)\n",
    "        indices = list(Cell.cell_data.keys())\n",
    "        if not np.max(indices) == len(indices):\n",
    "            print('Re-numbering cells to be consecutive')\n",
    "            Cell.cell_data_temp = {}\n",
    "            for i in range(len(indices)):\n",
    "                Cell.cell_data_temp[i + 1] = Cell.cell_data[indices[i]]\n",
    "                Cell.cell_data_temp[i + 1]['cell_id'] = i + 1\n",
    "            Cell.cell_data = Cell.cell_data_temp \n",
    "            with open('{0}\\{1}'.format(save_loc, save_file), 'wb') as f:\n",
    "                pkl.dump(Cell.cell_data, f)\n",
    "            Cell.n_cells = i + 1\n",
    "        else:\n",
    "            Cell.n_cells = len(indices)\n",
    "    print('{0} cells found'.format(Cell.n_cells))\n",
    "except:\n",
    "    print('No data found')"
   ]
  },
  {
   "cell_type": "markdown",
   "metadata": {
    "heading_collapsed": true
   },
   "source": [
    "## Get pixels in cell masks"
   ]
  },
  {
   "cell_type": "code",
   "execution_count": 11,
   "metadata": {
    "ExecuteTime": {
     "end_time": "2020-03-22T02:02:51.944703Z",
     "start_time": "2020-03-22T02:02:50.360589Z"
    },
    "hidden": true
   },
   "outputs": [
    {
     "name": "stdout",
     "output_type": "stream",
     "text": [
      "Data loaded\n"
     ]
    }
   ],
   "source": [
    "t0 = time.time()\n",
    "save_loc = 'G:\\\\Shared drives\\\\as_share\\\\HCR\\\\HCR 3.11'\n",
    "#save_file = 'S2_cell_pixels.pkl'\n",
    "save_file = 'S3_mask_vertices.pkl'\n",
    "\n",
    "try:\n",
    "    with open('{0}\\\\{1}'.format(save_loc, save_file), 'rb') as f:\n",
    "        mask_vertices = pkl.load(f)\n",
    "        cells = mask_vertices.keys()\n",
    "        x = 0\n",
    "        all_cell_pixels = np.zeros([1, 3])\n",
    "        for cell in cells:\n",
    "            data = Cell.cell_data[cell]\n",
    "            planes = data['z_planes']\n",
    "            for plane in planes:\n",
    "                xvals = np.reshape(mask_vertices[cell][plane][0], [-1, 1])\n",
    "                yvals = np.reshape(mask_vertices[cell][plane][1], [-1, 1])\n",
    "                zvals = np.ones([len(xvals), 1])*plane\n",
    "                coords = np.concatenate((zvals, xvals, yvals), axis = 1)\n",
    "                all_cell_pixels = np.concatenate((all_cell_pixels, coords), axis = 0)\n",
    "        \n",
    "        all_cell_pixels = all_cell_pixels[1:, :].astype(int)\n",
    "            \n",
    "        print('Data loaded')\n",
    "        \n",
    "except IOError:\n",
    "    print('No saved data found, calculating mask pixels')\n",
    "    xv = range(w)\n",
    "    yv = range(h)\n",
    "    coord_array = np.array(np.meshgrid(xv, yv))\n",
    "\n",
    "    points = np.zeros([h*w, 2])\n",
    "    p = 0\n",
    "    for i in range(h):\n",
    "        for j in range(w):\n",
    "            points[p, 1] = coord_array[0, i, j]\n",
    "            points[p, 0] = coord_array[1, i, j]\n",
    "            p += 1\n",
    "\n",
    "    no_cells = len(Cell.cell_data.keys())\n",
    "    mask_vertices = {}\n",
    "    for cell in range(no_cells):\n",
    "        if np.mod(cell, 2) == 0:\n",
    "            print('Cell {0}: {1} seconds'.format(cell, np.round(time.time() - t0)))\n",
    "        cell_no = cell + 1\n",
    "        mask_vertices[cell_no] = {}\n",
    "        cell_dict = Cell.cell_data[cell_no]\n",
    "        masks = cell_dict['masks']\n",
    "        z_planes = cell_dict['z_planes']\n",
    "        for plane in z_planes:\n",
    "\n",
    "            vertices = masks[plane]\n",
    "            path = mpltpath.Path(vertices)\n",
    "            mask = path.contains_points(points)\n",
    "            mask = np.reshape(mask, [h, w])\n",
    "            mask_vertices[cell_no][plane] = np.where(mask)\n",
    "    \n",
    "with open('{0}\\\\{1}'.format(save_loc, save_file), 'wb') as f:\n",
    "    pkl.dump(mask_vertices, f)"
   ]
  },
  {
   "cell_type": "code",
   "execution_count": 9,
   "metadata": {
    "ExecuteTime": {
     "end_time": "2020-03-21T19:57:25.275619Z",
     "start_time": "2020-03-21T19:57:25.155019Z"
    },
    "hidden": true
   },
   "outputs": [],
   "source": [
    "with open('{0}\\\\{1}'.format(save_loc, save_file), 'wb') as f:\n",
    "    pkl.dump(mask_vertices, f)"
   ]
  },
  {
   "cell_type": "markdown",
   "metadata": {
    "heading_collapsed": true
   },
   "source": [
    "## Semi-manual segmentation using Gad1 channel"
   ]
  },
  {
   "cell_type": "markdown",
   "metadata": {
    "heading_collapsed": true,
    "hidden": true
   },
   "source": [
    "### Data structure to store cell masks"
   ]
  },
  {
   "cell_type": "code",
   "execution_count": 9,
   "metadata": {
    "ExecuteTime": {
     "end_time": "2020-03-21T03:26:37.300775Z",
     "start_time": "2020-03-21T03:26:37.264775Z"
    },
    "hidden": true
   },
   "outputs": [],
   "source": [
    "class Cell:\n",
    "    n_cells = 1\n",
    "    cell_data = {}\n",
    "    \n",
    "    def __init__(self, cell_no):\n",
    "        \n",
    "        self.cell_no = cell_no\n",
    "        self.z_planes = []\n",
    "        self.no_planes = 0\n",
    "        self.masks = {}\n",
    "        self.c_vals = np.zeros(1)\n",
    "        print('Cell #{0} created'.format(Cell.n_cells))\n",
    "        \n",
    "    def add_mask(self, z_plane, mask):\n",
    "        self.z_planes.append(z_plane)\n",
    "        self.no_planes += 1\n",
    "        self.masks[z_plane] = mask\n",
    "            \n",
    "    def save_cell(self):\n",
    "        Cell.cell_data[self.cell_no] = {'cell_id': self.cell_no,\n",
    "                                 'z_planes': self.z_planes,\n",
    "                                 'masks': self.masks,\n",
    "                                 'no_planes': self.no_planes,\n",
    "                                 'c_vals':self.c_vals}"
   ]
  },
  {
   "cell_type": "markdown",
   "metadata": {
    "heading_collapsed": true,
    "hidden": true
   },
   "source": [
    "### Napari keybindings"
   ]
  },
  {
   "cell_type": "code",
   "execution_count": 11,
   "metadata": {
    "ExecuteTime": {
     "end_time": "2020-03-21T03:27:29.465775Z",
     "start_time": "2020-03-21T03:27:29.243775Z"
    },
    "hidden": true,
    "run_control": {
     "marked": true
    }
   },
   "outputs": [],
   "source": [
    "mask_layer = viewer.add_shapes(data = None, shape_type = 'polygon', opacity = 0.2, face_color = 'white', edge_color = 'red', edge_width = 3)\n",
    "point_layer = viewer.add_points(data = None)\n",
    "save_loc = 'G:{0}Shared drives{0}as_share{0}HCR{0}HCR 3.11'.format(sep)\n",
    "save_file = 'S3_data.pkl'\n",
    "\n",
    "@viewer.bind_key('n', overwrite = True)\n",
    "def new_cell(viewer):\n",
    "    global cell1 \n",
    "    cell1 = Cell(Cell.n_cells)\n",
    "    print(Cell.n_cells)\n",
    "    Cell.n_cells += 1\n",
    "    \n",
    "    \n",
    "@viewer.bind_key('d', overwrite = True)\n",
    "def get_mask(viewer):\n",
    "    center = point_layer.data[-1, 1:] # Last drawn point\n",
    "    z_plane = point_layer.data[-1, 0].astype(int)\n",
    "    image = im_array_vip_blur[z_plane, :, :]\n",
    "    cell_radius_px = 70\n",
    "\n",
    "    boundary = disc_roi(image, center, z_plane, cell_radius_px)\n",
    "\n",
    "    mask_layer.add(boundary, shape_type= 'polygon')\n",
    "    \n",
    "    \n",
    "@viewer.bind_key('m', overwrite = True)\n",
    "def add_mask(viewer):\n",
    "    \n",
    "    z_plane = mask_layer.data[-1][0, 0]\n",
    "    mask = mask_layer.data[-1][:, 1:]\n",
    "    cell1.add_mask(z_plane, mask)\n",
    "    \n",
    "@viewer.bind_key('y', overwrite = True)\n",
    "def del_cell(viewer):\n",
    "    \n",
    "    mask_no = mask_layer2.selected_data[0]\n",
    "    cell = mask_cell_nos[mask_no]\n",
    "    z_plane = mask_layer2.coordinates[0]\n",
    "    \n",
    "    Cell.cell_data[cell]['masks'][z_plane] = mask_layer2.data[mask_no][:, 1:]\n",
    "    with open('{0}\\{1}'.format(save_loc, save_file), 'wb') as f:\n",
    "                pkl.dump(Cell.cell_data, f)\n",
    "    \n",
    "    mask = Cell.cell_data[cell]['masks'][z_plane]\n",
    "    n_vertices = mask.shape[0]\n",
    "    mask = np.concatenate([np.ones([n_vertices, 1])*z_plane, mask], axis = 1)\n",
    "    mask_layer2.add(mask, shape_type = 'polygon', opacity = 0.4, \n",
    "                    face_color = 'white', edge_color = 'yellow', edge_width = 5)\n",
    "    \n",
    "    \n",
    "@viewer.bind_key('k', overwrite = True)\n",
    "def save_cell(viewer):\n",
    "    cell1.save_cell()\n",
    "    \n",
    "@viewer.bind_key('Control-s', overwrite = True)\n",
    "def save_all(viewer):\n",
    "    with open('{0}\\{1}'.format(save_loc, save_file), 'wb') as f:\n",
    "                pkl.dump(Cell.cell_data, f)"
   ]
  },
  {
   "cell_type": "markdown",
   "metadata": {
    "hidden": true
   },
   "source": [
    "### One click segmentation"
   ]
  },
  {
   "cell_type": "markdown",
   "metadata": {
    "hidden": true
   },
   "source": [
    "#### View saved masks"
   ]
  },
  {
   "cell_type": "code",
   "execution_count": 25,
   "metadata": {
    "ExecuteTime": {
     "end_time": "2020-03-21T13:49:59.295591Z",
     "start_time": "2020-03-21T13:49:59.279991Z"
    },
    "hidden": true
   },
   "outputs": [
    {
     "data": {
      "text/plain": [
       "139"
      ]
     },
     "execution_count": 25,
     "metadata": {},
     "output_type": "execute_result"
    }
   ],
   "source": [
    "Cell.n_cells"
   ]
  },
  {
   "cell_type": "code",
   "execution_count": 72,
   "metadata": {
    "ExecuteTime": {
     "end_time": "2020-03-18T21:26:30.455529Z",
     "start_time": "2020-03-18T21:26:30.419329Z"
    },
    "hidden": true
   },
   "outputs": [],
   "source": [
    "with open('{0}\\{1}'.format(save_loc, save_file), 'wb') as f:\n",
    "        pkl.dump(Cell.cell_data, f)"
   ]
  },
  {
   "cell_type": "code",
   "execution_count": 23,
   "metadata": {
    "ExecuteTime": {
     "end_time": "2020-03-21T04:16:42.942775Z",
     "start_time": "2020-03-21T04:16:42.897775Z"
    },
    "hidden": true,
    "run_control": {
     "marked": true
    }
   },
   "outputs": [],
   "source": [
    "# Check number of masks per cell, and variance of mask centers\n",
    "indices = list(Cell.cell_data.keys())\n",
    "n_planes = np.zeros(len(indices)).astype(int)\n",
    "var_masks = np.zeros([len(indices), 2])\n",
    "\n",
    "if not np.max(indices) == len(indices):\n",
    "    print('{0} cells not recorded'.format(np.max(indices) - len(indices)))\n",
    "    print('Re-numbering cells to be consecutive')\n",
    "    Cell.cell_data_temp = {}\n",
    "    for i in range(len(indices)):\n",
    "        Cell.cell_data_temp[i + 1] = Cell.cell_data[indices[i]]\n",
    "        Cell.cell_data_temp[i + 1]['cell_id'] = i + 1\n",
    "    Cell.cell_data = Cell.cell_data_temp \n",
    "    with open('{0}\\{1}'.format(save_loc, save_file), 'wb') as f:\n",
    "        pkl.dump(Cell.cell_data, f)\n",
    "        \n",
    "Cell.n_cells = len(indices)\n",
    "        \n",
    "for i in range(len(indices)):\n",
    "    z_planes = Cell.cell_data[i + 1]['z_planes']\n",
    "    n_planes[i] = len(z_planes)\n",
    "    masks = Cell.cell_data[i + 1]['masks']\n",
    "    centers = np.zeros([n_planes[i], 2])\n",
    "    for j in range(n_planes[i]):\n",
    "        centers[j, 0] = np.mean(masks[z_planes[j]][:, 0])\n",
    "        centers[j, 1] = np.mean(masks[z_planes[j]][:, 1])\n",
    "    var_masks[i, 0] = np.var(centers[:, 0])\n",
    "    var_masks[i, 1] = np.var(centers[:, 1])\n",
    "    \n",
    "    "
   ]
  },
  {
   "cell_type": "code",
   "execution_count": 24,
   "metadata": {
    "ExecuteTime": {
     "end_time": "2020-03-21T04:16:43.609775Z",
     "start_time": "2020-03-21T04:16:43.529775Z"
    },
    "hidden": true
   },
   "outputs": [
    {
     "data": {
      "text/plain": [
       "<matplotlib.legend.Legend at 0x1aa34e48>"
      ]
     },
     "execution_count": 24,
     "metadata": {},
     "output_type": "execute_result"
    }
   ],
   "source": [
    "fig, ax = plt.subplots(nrows = 2, ncols = 1, sharex = True, figsize = [15, 5])\n",
    "ax[0].plot(n_planes)\n",
    "ax[0].set_xlabel('Cell number')\n",
    "ax[0].set_ylabel('Number of masks')\n",
    "ax[1].plot(var_masks[:, 0], label = 'y_values')\n",
    "ax[1].plot(var_masks[:, 1], label = 'x_values')\n",
    "ax[1].set_ylabel('Variance of centers')\n",
    "ax[1].plot(range(len(indices)), np.ones(len(indices))*8, '--', color = 'k')\n",
    "ax[1].legend()"
   ]
  },
  {
   "cell_type": "code",
   "execution_count": 147,
   "metadata": {
    "ExecuteTime": {
     "end_time": "2020-03-19T00:03:48.600386Z",
     "start_time": "2020-03-19T00:03:48.569786Z"
    },
    "hidden": true
   },
   "outputs": [],
   "source": [
    "plt.close('all')"
   ]
  },
  {
   "cell_type": "markdown",
   "metadata": {
    "heading_collapsed": true,
    "hidden": true
   },
   "source": [
    "#### Functions"
   ]
  },
  {
   "cell_type": "code",
   "execution_count": 12,
   "metadata": {
    "ExecuteTime": {
     "end_time": "2020-03-21T03:27:36.335775Z",
     "start_time": "2020-03-21T03:27:36.300775Z"
    },
    "hidden": true
   },
   "outputs": [],
   "source": [
    "def disc_roi(image, center, z_plane, cell_radius_px, n_theta = 30, thresh = 0.5):\n",
    "    \n",
    "    full_radius = round(1.3*cell_radius_px)\n",
    "    thetas = np.linspace(0, 2*np.pi, n_theta)\n",
    "    [x, y] = center\n",
    "    \n",
    "    \n",
    "    line_profiles = np.zeros([full_radius, n_theta])\n",
    "    \n",
    "    r_threshold_cross = np.zeros(n_theta)\n",
    "    \n",
    "    for t in range(n_theta):\n",
    "        theta = thetas[t]\n",
    "        f = profile_line(image, (x, y), (x + full_radius*np.cos(theta), y + full_radius*np.sin(theta)))\n",
    "        r_threshold_cross[t] = find_first_cross(f, thresh)\n",
    "        line_profiles[:, t] = -1*np.abs(np.array(range(full_radius)) - r_threshold_cross[t]) + full_radius;\n",
    "        \n",
    "    #path = find_path(line_profiles)\n",
    "   \n",
    "    #boundary = np.zeros([2, n_theta])\n",
    "    #boundary[0, :] = x + np.multiply(path, np.cos(thetas))\n",
    "    #boundary[1, :] = y + np.multiply(path, np.sin(thetas))\n",
    "    #boundary = boundary.astype(int)\n",
    "    \n",
    "    angular_dist = np.argmax(line_profiles, axis = 0)\n",
    "    boundary = np.zeros([n_theta, 3])\n",
    "    boundary[:, 0] = np.ones(n_theta)*z_plane\n",
    "    boundary[:, 1] = x + np.multiply(angular_dist, np.cos(thetas))\n",
    "    boundary[:, 2] = y + np.multiply(angular_dist, np.sin(thetas))\n",
    "    \n",
    "    \n",
    "    \n",
    "    return boundary\n",
    "\n",
    "def find_first_cross(line_profile, thresh):\n",
    "    \n",
    "    # Assumes line profile goes from inside cell to outside\n",
    "    max_val = np.max(line_profile)\n",
    "    max_idx = np.argmax(line_profile)\n",
    "    min_val_out = np.min(line_profile[max_idx:]) # Minimum intensity outside cell\n",
    "    \n",
    "    thresh_val = min_val_out + thresh*(max_val - min_val_out)\n",
    "    r_cross = max_idx + np.where(line_profile[max_idx:] < thresh_val)[0][0]\n",
    "    \n",
    "    return r_cross\n",
    "\n",
    "def find_path(line_profiles):\n",
    "    \n",
    "    # line_profiles should be of shape radius X n_theta\n",
    "    radius = line_profiles.shape[0]\n",
    "    n_theta = line_profiles.shape[1]\n",
    "    \n",
    "    pointer = np.zeros([radius, n_theta])\n",
    "    value = np.zeros([radius, n_theta])\n",
    "    value[:, 0] = line_profiles[:, 0]\n",
    "    \n",
    "    for i in range(1, n_theta):\n",
    "        for j in range(1, radius - 1):\n",
    "            \n",
    "            M = np.max(value[j-1:j+1, i-1])\n",
    "            ind = np.argmax(value[j-1:j+1, i-1])\n",
    "            \n",
    "            value[j, i] = M + line_profiles[j, i]\n",
    "            pointer[j,i] = j + ind - 1\n",
    "            \n",
    "    # Second traverse to minimize boundary effect\n",
    "    pointer = np.zeros([radius, n_theta])\n",
    "    value[:, 1] = value[:, -1]\n",
    "    \n",
    "    for i in range(1, n_theta):\n",
    "        for j in range(1, radius - 1):\n",
    "            \n",
    "            M = np.max(value[j-1:j+1, i-1])\n",
    "            ind = np.argmax(value[j-1:j+1, i-1])\n",
    "            \n",
    "            value[j, i] = M + line_profiles[j, i]\n",
    "            pointer[j,i] = j + ind - 1\n",
    "    \n",
    "    path = np.zeros(n_theta).astype(int)\n",
    "    \n",
    "    M = np.max(value[:, -1])\n",
    "    ind = np.argmax(value[:, -1])\n",
    "    path[-1] = ind\n",
    "    \n",
    "    for j in np.flip(range(1, n_theta)):\n",
    "        path[j-1] = pointer[path[j], j]\n",
    "        \n",
    "    return path"
   ]
  },
  {
   "cell_type": "markdown",
   "metadata": {
    "heading_collapsed": true,
    "hidden": true
   },
   "source": [
    "#### Find intensity profile at a line joining two points"
   ]
  },
  {
   "cell_type": "code",
   "execution_count": 77,
   "metadata": {
    "ExecuteTime": {
     "end_time": "2020-03-18T03:20:46.644971Z",
     "start_time": "2020-03-18T03:20:46.422567Z"
    },
    "hidden": true
   },
   "outputs": [],
   "source": [
    "point_layer = viewer.add_points(data = None)"
   ]
  },
  {
   "cell_type": "code",
   "execution_count": 85,
   "metadata": {
    "ExecuteTime": {
     "end_time": "2020-03-18T03:21:59.843777Z",
     "start_time": "2020-03-18T03:21:59.827822Z"
    },
    "hidden": true
   },
   "outputs": [
    {
     "name": "stdout",
     "output_type": "stream",
     "text": [
      "Pixel distance = 58.0, number of points in profile = (60,)\n",
      "x1 = 1124.5762199044127, y1 = 10278.852064061517, x2 = 1083.8527461351187, y2 = 10320.211842108456\n"
     ]
    }
   ],
   "source": [
    "image = im_array_gad1_blur[0, :, :]\n",
    "\n",
    "[x1, y1] = point_layer.data[0, 1:]\n",
    "[x2, y2] = point_layer.data[1, 1:]\n",
    "z = point_layer.data[0, 0]\n",
    "\n",
    "profile = profile_line(image, (x1, y1), (x2, y2))\n",
    "n_points = profile.shape\n",
    "px_dist = np.floor(np.linalg.norm(np.array([x1, y1]) - np.array([x2, y2])))\n",
    "print('Pixel distance = {0}, number of points in profile = {1}'.format(px_dist, n_points))\n",
    "\n",
    "print('x1 = {0}, y1 = {1}, x2 = {2}, y2 = {3}'.format(x1, y1, x2, y2))"
   ]
  },
  {
   "cell_type": "markdown",
   "metadata": {
    "heading_collapsed": true,
    "hidden": true
   },
   "source": [
    "#### Find point where intensity falls below threshold"
   ]
  },
  {
   "cell_type": "code",
   "execution_count": 86,
   "metadata": {
    "ExecuteTime": {
     "end_time": "2020-03-18T03:22:05.035618Z",
     "start_time": "2020-03-18T03:22:05.025645Z"
    },
    "hidden": true
   },
   "outputs": [],
   "source": [
    "thresh = 0.1\n",
    "line_profile = profile\n",
    "max_val = np.max(line_profile)\n",
    "max_idx = np.argmax(line_profile)\n",
    "min_val_out = np.min(line_profile[max_idx:]) # Minimum intensity outside cell\n",
    "thresh_val = min_val_out + thresh*(max_val - min_val_out)\n",
    "r_cross = max_idx + np.where(line_profile[max_idx:] < thresh_val)[0][0]"
   ]
  },
  {
   "cell_type": "code",
   "execution_count": 87,
   "metadata": {
    "ExecuteTime": {
     "end_time": "2020-03-18T03:22:05.597148Z",
     "start_time": "2020-03-18T03:22:05.537309Z"
    },
    "hidden": true
   },
   "outputs": [
    {
     "data": {
      "text/plain": [
       "[<matplotlib.lines.Line2D at 0x1f7124a7b08>]"
      ]
     },
     "execution_count": 87,
     "metadata": {},
     "output_type": "execute_result"
    }
   ],
   "source": [
    "plt.figure()\n",
    "plt.plot(line_profile, color = 'k')\n",
    "\n",
    "xl = np.array(plt.gca().get_xlim())\n",
    "yl = np.array(plt.gca().get_ylim())\n",
    "xi = np.linspace(xl[0], xl[1], 10)\n",
    "yi = np.linspace(yl[0], yl[1], 10)\n",
    "\n",
    "plt.plot(xi, np.ones(10)*max_val, color = 'r', linestyle = '--')\n",
    "plt.plot(xi, np.ones(10)*min_val_out, color = 'r', linestyle = '--')\n",
    "plt.plot(xi, np.ones(10)*thresh_val, color = 'b', linestyle = '--')\n",
    "plt.plot(np.ones(10)*r_cross, yi, color = 'b', linestyle = '--')"
   ]
  },
  {
   "cell_type": "markdown",
   "metadata": {
    "heading_collapsed": true,
    "hidden": true
   },
   "source": [
    "#### Find intensity profile at several angles"
   ]
  },
  {
   "cell_type": "code",
   "execution_count": 92,
   "metadata": {
    "ExecuteTime": {
     "end_time": "2020-03-18T03:23:57.969064Z",
     "start_time": "2020-03-18T03:23:57.838412Z"
    },
    "hidden": true
   },
   "outputs": [
    {
     "data": {
      "text/plain": [
       "Text(0.5, 1.0, 'Pixel intensity')"
      ]
     },
     "execution_count": 92,
     "metadata": {},
     "output_type": "execute_result"
    }
   ],
   "source": [
    "center = [x1, y1]\n",
    "cell_radius_px = 70\n",
    "n_theta = 30\n",
    "thresh = 0.2\n",
    "\n",
    "full_radius = round(1.3*cell_radius_px)\n",
    "thetas = np.linspace(0, 2*np.pi, n_theta)\n",
    "[h, w] = image.shape\n",
    "[x, y] = center\n",
    "\n",
    "\n",
    "line_profiles = np.zeros([full_radius, n_theta])\n",
    "line_profiles_mod = np.zeros([full_radius, n_theta])\n",
    "\n",
    "r_threshold_cross = np.zeros(n_theta)\n",
    "\n",
    "for t in range(n_theta):\n",
    "    theta = thetas[t]\n",
    "    f = profile_line(image, (x, y), (x + full_radius*np.cos(theta), y + full_radius*np.sin(theta)))\n",
    "    line_profiles[:, t] = f[:full_radius]\n",
    "    r_threshold_cross[t] = find_first_cross(f, thresh)\n",
    "    line_profiles_mod[:, t] = -1*np.abs(np.array(range(full_radius)) - r_threshold_cross[t]) + full_radius;\n",
    "    \n",
    "plt.figure()\n",
    "plt.imshow(line_profiles_mod)\n",
    "plt.xlabel('Theta/4')\n",
    "plt.ylabel('Distance from center (px)')\n",
    "plt.title('Pixel intensity')"
   ]
  },
  {
   "cell_type": "code",
   "execution_count": 67,
   "metadata": {
    "ExecuteTime": {
     "end_time": "2020-03-18T03:18:10.396994Z",
     "start_time": "2020-03-18T03:18:10.315211Z"
    },
    "hidden": true
   },
   "outputs": [
    {
     "data": {
      "text/plain": [
       "<matplotlib.image.AxesImage at 0x1f983f58e48>"
      ]
     },
     "execution_count": 67,
     "metadata": {},
     "output_type": "execute_result"
    }
   ],
   "source": [
    "fig, ax = plt.subplots(nrows = 1, ncols = 2)\n",
    "ax[0].imshow(line_profiles)\n",
    "ax[1].imshow(line_profiles_mod)"
   ]
  },
  {
   "cell_type": "code",
   "execution_count": 93,
   "metadata": {
    "ExecuteTime": {
     "end_time": "2020-03-18T03:24:10.190996Z",
     "start_time": "2020-03-18T03:24:10.182020Z"
    },
    "hidden": true
   },
   "outputs": [],
   "source": [
    "angular_dist = np.argmax(line_profiles_mod, axis = 0)\n",
    "boundary = np.zeros([n_theta, 3])\n",
    "boundary[:, 0] = np.ones(n_theta)*z\n",
    "boundary[:, 1] = x + np.multiply(angular_dist, np.cos(thetas))\n",
    "boundary[:, 2] = y + np.multiply(angular_dist, np.sin(thetas))"
   ]
  },
  {
   "cell_type": "markdown",
   "metadata": {
    "heading_collapsed": true,
    "hidden": true
   },
   "source": [
    "#### Find boundary of cell from intensity profiles"
   ]
  },
  {
   "cell_type": "code",
   "execution_count": 39,
   "metadata": {
    "ExecuteTime": {
     "end_time": "2020-03-18T01:15:10.496818Z",
     "start_time": "2020-03-18T01:15:10.167699Z"
    },
    "hidden": true
   },
   "outputs": [
    {
     "data": {
      "text/plain": [
       "[<matplotlib.lines.Line2D at 0x1f714371648>]"
      ]
     },
     "execution_count": 39,
     "metadata": {},
     "output_type": "execute_result"
    }
   ],
   "source": [
    "radius = line_profiles.shape[0]\n",
    "n_theta = line_profiles.shape[1]\n",
    "\n",
    "pointer = np.zeros([radius, n_theta])\n",
    "value = np.zeros([radius, n_theta])\n",
    "value[:, 0] = line_profiles_mod[:, 0]\n",
    "\n",
    "for i in range(1, n_theta):\n",
    "    for j in range(1, radius - 1):\n",
    "\n",
    "        M = np.max(value[j-1:j+1, i-1])\n",
    "        ind = np.argmax(value[j-1:j+1, i-1])\n",
    "\n",
    "        value[j, i] = M + line_profiles_mod[j, i]\n",
    "        pointer[j,i] = j + ind - 1\n",
    "        \n",
    "fig, ax = plt.subplots(nrows = 2, ncols = 2, figsize = (20, 10))\n",
    "ax[0, 0].imshow(value)\n",
    "ax[0, 0].set_xlabel('Theta/4')\n",
    "ax[0, 0].set_ylabel('Distance from center (px)')\n",
    "ax[0, 0].set_title('Value - first iteration')\n",
    "\n",
    "ax[0, 1].imshow(pointer)\n",
    "ax[0, 1].set_xlabel('Theta/4')\n",
    "ax[0, 1].set_ylabel('Distance from center (px)')\n",
    "ax[0, 1].set_title('Pointer - first iteration')\n",
    "\n",
    "# Second traverse to minimize boundary effect\n",
    "pointer = np.zeros([radius, n_theta])\n",
    "value[:, 1] = value[:, -1]\n",
    "\n",
    "for i in range(1, n_theta):\n",
    "    for j in range(1, radius - 1):\n",
    "\n",
    "        M = np.max(value[j-1:j+1, i-1])\n",
    "        ind = np.argmax(value[j-1:j+1, i-1])\n",
    "\n",
    "        value[j, i] = M + line_profiles[j, i]\n",
    "        pointer[j,i] = j + ind - 1\n",
    "\n",
    "ax[1, 0].imshow(value)\n",
    "ax[1, 0].set_xlabel('Theta/4')\n",
    "ax[1, 0].set_ylabel('Distance from center (px)')\n",
    "ax[1, 0].set_title('Value - second iteration')\n",
    "\n",
    "ax[1, 1].imshow(pointer)\n",
    "ax[1, 1].set_xlabel('Theta/4')\n",
    "ax[1, 1].set_ylabel('Distance from center (px)')\n",
    "ax[1, 1].set_title('Pointer - second iteration')\n",
    "\n",
    "path = np.zeros(n_theta).astype(int)\n",
    "    \n",
    "M = np.max(value[:, -1])\n",
    "ind = np.argmax(value[:, -1])\n",
    "path[-1] = ind\n",
    "\n",
    "for j in np.flip(range(1, n_theta)):\n",
    "    path[j-1] = pointer[path[j], j]\n",
    "    \n",
    "boundary = np.zeros([n_theta, 3])\n",
    "boundary[:, 0] = np.ones(n_theta)*z\n",
    "boundary[:, 1] = x + np.multiply(path, np.cos(thetas))\n",
    "boundary[:, 2] = y + np.multiply(path, np.sin(thetas))\n",
    "\n",
    "# boundary = np.zeros([2, n_theta])\n",
    "# boundary[0, :] = x + np.multiply(path, np.cos(thetas))\n",
    "# boundary[1, :] = y + np.multiply(path, np.sin(thetas))\n",
    "\n",
    "boundary = boundary.astype(int)\n",
    "    \n",
    "ax[1, 1].plot(path, color = 'r', linestyle = '--')"
   ]
  },
  {
   "cell_type": "markdown",
   "metadata": {
    "heading_collapsed": true
   },
   "source": [
    "# Lipofuscin exlcusion"
   ]
  },
  {
   "cell_type": "markdown",
   "metadata": {
    "heading_collapsed": true,
    "hidden": true
   },
   "source": [
    "## Load existing lipofuscin ROIs"
   ]
  },
  {
   "cell_type": "code",
   "execution_count": 16,
   "metadata": {
    "ExecuteTime": {
     "end_time": "2020-03-06T18:29:57.749350Z",
     "start_time": "2020-03-06T18:29:57.735389Z"
    },
    "hidden": true
   },
   "outputs": [],
   "source": [
    "save_loc = 'G:\\\\Shared drives\\\\as_share\\\\HCR\\\\HCR_10.17'\n",
    "save_file = 'HCR_10.17_S1_lipofuscin_rois_in_cells.pkl'\n",
    "\n",
    "with open('{0}\\\\{1}'.format(save_loc, save_file), 'rb') as f:\n",
    "    l_rois = pkl.load(f)    "
   ]
  },
  {
   "cell_type": "markdown",
   "metadata": {
    "heading_collapsed": true,
    "hidden": true
   },
   "source": [
    "## Save lipofuscin rois from napari viewer"
   ]
  },
  {
   "cell_type": "code",
   "execution_count": 6,
   "metadata": {
    "ExecuteTime": {
     "end_time": "2020-03-21T22:10:29.055281Z",
     "start_time": "2020-03-21T22:10:28.776025Z"
    },
    "hidden": true
   },
   "outputs": [
    {
     "data": {
      "text/plain": [
       "<Shapes layer 'Lipofuscin ROIs' at 0x1d82f70ef08>"
      ]
     },
     "execution_count": 6,
     "metadata": {},
     "output_type": "execute_result"
    }
   ],
   "source": [
    "viewer.add_shapes(data = None, name = 'Lipofuscin ROIs')"
   ]
  },
  {
   "cell_type": "code",
   "execution_count": 7,
   "metadata": {
    "ExecuteTime": {
     "end_time": "2020-03-21T22:22:05.528273Z",
     "start_time": "2020-03-21T22:22:05.487383Z"
    },
    "hidden": true
   },
   "outputs": [
    {
     "name": "stdout",
     "output_type": "stream",
     "text": [
      "6 lipofuscin rois\n"
     ]
    }
   ],
   "source": [
    "save_loc = 'G:\\\\Shared drives\\\\as_share\\\\HCR\\\\HCR_10.17'\n",
    "save_file = 'HCR_10.17_S1_lipofuscin_rois_in_cells.pkl'\n",
    "\n",
    "l_rois = viewer.layers['Lipofuscin ROIs'].data\n",
    "with open('{0}\\\\{1}'.format(save_loc, save_file), 'wb') as f:\n",
    "    pkl.dump(l_rois, f) \n",
    "    \n",
    "n_rois = len(l_rois)\n",
    "print('{0} lipofuscin rois'.format(n_rois))"
   ]
  },
  {
   "cell_type": "markdown",
   "metadata": {
    "heading_collapsed": true,
    "hidden": true
   },
   "source": [
    "## Get pixels in annotated lipofuscin ROIs"
   ]
  },
  {
   "cell_type": "code",
   "execution_count": 8,
   "metadata": {
    "ExecuteTime": {
     "end_time": "2020-03-21T22:41:51.117292Z",
     "start_time": "2020-03-21T22:41:14.385159Z"
    },
    "hidden": true
   },
   "outputs": [
    {
     "name": "stdout",
     "output_type": "stream",
     "text": [
      "No saved data found, calculating mask pixels\n",
      "Calculated grid coordinates, 22.0 seconds\n",
      "ROI 0\n",
      "ROI 1\n",
      "ROI 2\n",
      "ROI 3\n",
      "ROI 4\n",
      "ROI 5\n"
     ]
    }
   ],
   "source": [
    "save_loc = 'G:\\\\Shared drives\\\\as_share\\\\HCR\\\\HCR 3.11\\\\S3'\n",
    "save_file = 'HCR_3.11_S3_lipofuscin_pixels_in_cells.pkl'\n",
    "    \n",
    "try:\n",
    "    with open('{0}{1}{2}'.format(save_loc, sep, save_file), 'rb') as f:\n",
    "        data_dict = pkl.load(f)\n",
    "        all_lipo_pixels = data_dict['all_lipo_pixels']\n",
    "        lipo_pixels_roi = data_dict['lipo_pixels_roi']\n",
    "        print('Data loaded')\n",
    "        \n",
    "except IOError:\n",
    "    print('No saved data found, calculating mask pixels')\n",
    "    px = pixels_in_roi.pixels_in_roi(h, w, n, l_rois)\n",
    "    all_lipo_pixels = px['all_pixels']\n",
    "    lipo_pixels_roi = px['pixels_roi']\n",
    "    with open('{0}{1}{2}'.format(save_loc, sep, save_file), 'wb') as f:\n",
    "        pkl.dump({'all_lipo_pixels': all_lipo_pixels, 'lipo_pixels_roi': lipo_pixels_roi}, f)"
   ]
  },
  {
   "cell_type": "markdown",
   "metadata": {
    "heading_collapsed": true,
    "hidden": true
   },
   "source": [
    "## Filter images using difference of gaussians"
   ]
  },
  {
   "cell_type": "code",
   "execution_count": 10,
   "metadata": {
    "ExecuteTime": {
     "end_time": "2020-03-22T01:58:57.313193Z",
     "start_time": "2020-03-22T01:55:47.397853Z"
    },
    "hidden": true
   },
   "outputs": [
    {
     "name": "stdout",
     "output_type": "stream",
     "text": [
      "46 seconds\n",
      "94 seconds\n",
      "142 seconds\n",
      "189 seconds\n"
     ]
    },
    {
     "data": {
      "image/png": "[encoded data removed]",
      "text/plain": [
       "<Figure size 432x288 with 1 Axes>"
      ]
     },
     "metadata": {
      "needs_background": "light"
     },
     "output_type": "display_data"
    },
    {
     "data": {
      "image/png": "[encoded data removed]",
      "text/plain": [
       "<Figure size 432x288 with 1 Axes>"
      ]
     },
     "metadata": {
      "needs_background": "light"
     },
     "output_type": "display_data"
    }
   ],
   "source": [
    "sigma_small = 1.5\n",
    "sigma_large = 5*3/4\n",
    "\n",
    "t0 = time.time()    \n",
    "\n",
    "img = im_array_car4\n",
    "im_diff_car4 = diff_gauss.diff_gauss(sigma_small, sigma_large, img, do_plot = 1)\n",
    "t1 = time.time() - t0\n",
    "print('{0} seconds'.format(int(t1)))\n",
    "\n",
    "img = im_array_npy2r\n",
    "im_diff_npy2r = diff_gauss.diff_gauss(sigma_small, sigma_large, img, do_plot = 0)\n",
    "t1 = time.time() - t0\n",
    "print('{0} seconds'.format(int(t1)))\n",
    "\n",
    "img = im_array_vip\n",
    "im_diff_vip = diff_gauss.diff_gauss(sigma_small, sigma_large, img, do_plot = 0)\n",
    "t1 = time.time() - t0\n",
    "print('{0} seconds'.format(int(t1)))\n",
    "\n",
    "img = im_array_tac2\n",
    "im_diff_tac2 = diff_gauss.diff_gauss(sigma_small, sigma_large, img, do_plot = 1)\n",
    "t1 = time.time() - t0\n",
    "print('{0} seconds'.format(int(t1)))\n",
    "\n",
    "del img"
   ]
  },
  {
   "cell_type": "markdown",
   "metadata": {
    "heading_collapsed": true,
    "hidden": true
   },
   "source": [
    "## Binarize filtered images and plot threshold"
   ]
  },
  {
   "cell_type": "code",
   "execution_count": 13,
   "metadata": {
    "ExecuteTime": {
     "end_time": "2020-03-22T02:07:27.622626Z",
     "start_time": "2020-03-22T02:07:15.561868Z"
    },
    "hidden": true
   },
   "outputs": [
    {
     "name": "stdout",
     "output_type": "stream",
     "text": [
      "Finding threshold for binarizing\n",
      "Finding threshold for binarizing\n",
      "Finding threshold for binarizing\n",
      "Finding threshold for binarizing\n"
     ]
    },
    {
     "data": {
      "image/png": "[encoded data removed]",
      "text/plain": [
       "<Figure size 720x1080 with 4 Axes>"
      ]
     },
     "metadata": {
      "needs_background": "light"
     },
     "output_type": "display_data"
    }
   ],
   "source": [
    "img_dict = {'Npy2r': im_diff_npy2r, 'Tac2': im_diff_tac2, 'Vip': im_diff_vip, 'Car4': im_diff_car4}\n",
    "#img_dict = {'Ndnf': im_array_ndnf, 'Sst': im_array_sst, 'Vip': im_array_vip}\n",
    "\n",
    "pixels_dict = {'Cells': all_cell_pixels, 'Lipofuscin': all_lipo_pixels}\n",
    "#pixels_dict = {'Cells': all_cell_pixels}\n",
    "\n",
    "colors_dict = {'Cells': 'b', 'Lipofuscin': 'k'}\n",
    "\n",
    "title = 'Diff gauss sigma = ({0}, {1})'.format(sigma_small, sigma_large)\n",
    "#title = 'Raw images'\n",
    "save_loc = 'G:\\\\Shared drives\\\\as_share\\\\HCR\\\\HCR 3.11\\\\S3\\\\Plots'\n",
    "save_file = '{0} hist lipo + cells.png'.format(title)\n",
    "#save_file = '{0} hist cells.png'.format(title)\n",
    "\n",
    "thresh_scale = 1\n",
    "\n",
    "thresh = hist_channels.hist_channels(img_dict, pixels_dict, max_per_group= 100000, \n",
    "                                     do_bin = True, bin_group = 'Cells', thresh_scale = thresh_scale,\n",
    "                                     colors_dict = colors_dict, \n",
    "                                     title = title, save = True, save_loc = save_loc, save_file = save_file)\n",
    "\n",
    "del img_dict\n",
    "del pixels_dict\n",
    "\n",
    "im_bin_npy2r = np.zeros(im_diff_vip.shape)\n",
    "im_bin_car4 = np.zeros(im_diff_vip.shape)\n",
    "im_bin_vip = np.zeros(im_diff_vip.shape)\n",
    "im_bin_tac2 = np.zeros(im_diff_vip.shape)\n",
    "\n",
    "ix_npy2r = np.where(im_diff_npy2r > thresh['Npy2r'])\n",
    "ix_tac2 = np.where(im_diff_tac2 > thresh['Tac2'])\n",
    "ix_vip = np.where(im_diff_vip > thresh['Vip'])\n",
    "ix_car4 = np.where(im_diff_car4 > thresh['Car4'])\n",
    "\n",
    "im_bin_npy2r[ix_npy2r] = im_diff_npy2r[ix_npy2r]\n",
    "im_bin_tac2[ix_tac2] = im_diff_tac2[ix_tac2]\n",
    "im_bin_vip[ix_vip] = im_diff_vip[ix_vip]\n",
    "im_bin_car4[ix_car4] = im_diff_car4[ix_car4]"
   ]
  },
  {
   "cell_type": "markdown",
   "metadata": {
    "heading_collapsed": true,
    "hidden": true
   },
   "source": [
    "## Find mahalanobis distance of pixels from lipofuscin cloud"
   ]
  },
  {
   "cell_type": "code",
   "execution_count": 15,
   "metadata": {
    "ExecuteTime": {
     "end_time": "2020-03-22T02:18:25.961286Z",
     "start_time": "2020-03-22T02:18:20.711333Z"
    },
    "hidden": true
   },
   "outputs": [
    {
     "data": {
      "image/png": "[encoded data removed]",
      "text/plain": [
       "<Figure size 432x288 with 1 Axes>"
      ]
     },
     "metadata": {
      "needs_background": "light"
     },
     "output_type": "display_data"
    }
   ],
   "source": [
    "img_dict = {'Npy2r': im_bin_npy2r, 'Tac2': im_bin_tac2, 'Vip': im_bin_vip, 'Car4': im_bin_car4}\n",
    "#img_dict = {'Ndnf': im_diff_ndnf, 'Sst': im_diff_sst, 'Vip': im_diff_vip}\n",
    "#img_dict = {'Ndnf': im_array_ndnf, 'Sst': im_array_sst, 'Vip': im_array_vip}\n",
    "\n",
    "pixels_dict = {'Cells': all_cell_pixels, 'Lipofuscin': all_lipo_pixels}\n",
    "\n",
    "origin_group = 'Lipofuscin'\n",
    "bin_group = 'Cells'\n",
    "\n",
    "colors_dict = {'Cells': 'b', 'Lipofuscin': 'k'}\n",
    "\n",
    "title = 'Diff gauss sigma = ({0}, {1}); binarized above {2} std from median'.format(sigma_small, sigma_large, thresh_scale)\n",
    "#title = 'Raw images'\n",
    "save_loc = 'G:\\\\Shared drives\\\\as_share\\\\HCR\\\\HCR 3.11\\\\S3\\\\Plots'\n",
    "save_file = '{0} hist lipo + cells.png'.format(title)\n",
    "#save_file = '{0} hist cells.png'.format(title)\n",
    "\n",
    "output = m_dist.m_dist(img_dict, pixels_dict, origin_group, bin_group, colors_dict = colors_dict, thresh_scale = 0,\n",
    "                            title = title, save = True, save_loc = save_loc, save_file = save_file)\n",
    "\n",
    "m_dist_vals = output['m_dist']\n",
    "thresh = output['thresh']\n",
    "cov = output['cov']\n",
    "\n",
    "del img_dict\n",
    "del pixels_dict"
   ]
  },
  {
   "cell_type": "code",
   "execution_count": 37,
   "metadata": {
    "ExecuteTime": {
     "end_time": "2020-03-06T19:05:39.435881Z",
     "start_time": "2020-03-06T19:05:39.343130Z"
    },
    "hidden": true
   },
   "outputs": [],
   "source": [
    "channel_names = list(img_dict.keys())\n",
    "n_channels = len(channel_names)\n",
    "\n",
    "px_groups = list(pixels_dict.keys())\n",
    "\n",
    "\n",
    "# %% Get values for each channel for each pixel group\n",
    "px_vals = {}\n",
    "\n",
    "for group in px_groups:\n",
    "\n",
    "    px = pixels_dict[group]\n",
    "\n",
    "\n",
    "    px_vals[group] = {}\n",
    "\n",
    "    for channel in channel_names:\n",
    "        px_vals[group][channel] = img_dict[channel][(px[:, 0], px[:, 1], px[:, 2])]\n",
    "\n",
    "\n",
    "# %% Get mean and covariance matrix of origin group\n",
    "mu = np.zeros(n_channels)\n",
    "origin_px = np.zeros([n_channels, px_vals[origin_group][channel_names[0]].shape[0]])\n",
    "for c in range(n_channels):\n",
    "    mu[c] = np.mean(px_vals[origin_group][channel_names[c]])\n",
    "    origin_px[c, :] = px_vals[origin_group][channel_names[c]]\n",
    "\n",
    "cov = np.cov(origin_px) \n",
    "VI = np.linalg.inv(cov)     "
   ]
  },
  {
   "cell_type": "code",
   "execution_count": 41,
   "metadata": {
    "ExecuteTime": {
     "end_time": "2020-03-06T19:06:49.399129Z",
     "start_time": "2020-03-06T19:06:49.333303Z"
    },
    "hidden": true
   },
   "outputs": [
    {
     "data": {
      "text/plain": [
       "<matplotlib.colorbar.Colorbar at 0x13803da6508>"
      ]
     },
     "execution_count": 41,
     "metadata": {},
     "output_type": "execute_result"
    }
   ],
   "source": [
    "plt.figure()\n",
    "plt.imshow(np.log(cov))\n",
    "plt.colorbar(label = 'Log covariance')"
   ]
  },
  {
   "cell_type": "markdown",
   "metadata": {
    "heading_collapsed": true,
    "hidden": true
   },
   "source": [
    "## Use mahalanobis distance to label all lipofuscin pixels "
   ]
  },
  {
   "cell_type": "code",
   "execution_count": 19,
   "metadata": {
    "ExecuteTime": {
     "end_time": "2020-03-22T02:22:02.525119Z",
     "start_time": "2020-03-22T02:22:02.494202Z"
    },
    "hidden": true
   },
   "outputs": [],
   "source": [
    "lipo_pixels = all_cell_pixels[m_dist_vals['Cells'] < thresh, :]\n",
    "cell_pixels = all_cell_pixels[m_dist_vals['Cells'] > thresh, :]\n",
    "\n",
    "im_array_lipo = np.zeros(im_array_vip.shape)\n",
    "im_array_lipo[lipo_pixels[:, 0], lipo_pixels[:, 1], lipo_pixels[:, 2]] = np.ones(lipo_pixels.shape[0])\n"
   ]
  },
  {
   "cell_type": "markdown",
   "metadata": {
    "heading_collapsed": true,
    "hidden": true
   },
   "source": [
    "## Re-calculate cell masks excluding lipofuscin pixels"
   ]
  },
  {
   "cell_type": "code",
   "execution_count": 20,
   "metadata": {
    "ExecuteTime": {
     "end_time": "2020-03-22T02:22:33.114361Z",
     "start_time": "2020-03-22T02:22:33.047541Z"
    },
    "hidden": true
   },
   "outputs": [],
   "source": [
    "save_loc = 'G:\\\\Shared drives\\\\as_share\\\\HCR\\\\HCR 3.11\\S3'\n",
    "save_file = 'HCR_3.11_S3_cell_masks_without_lipofuscin.pkl'\n",
    "\n",
    "cell_pixels_no_lipo = {}\n",
    "\n",
    "cells = mask_vertices.keys()\n",
    "n_px_total = 0\n",
    "for cell in cells:\n",
    "    \n",
    "    data = Cell.cell_data[cell]\n",
    "    planes = data['z_planes']\n",
    "    cell_pixels_no_lipo[cell] = {}\n",
    "    \n",
    "    for plane in planes:\n",
    "        \n",
    "        cell_pixels_no_lipo[cell][plane] = {}\n",
    "        n_px = mask_vertices[cell][plane][0].shape[0]\n",
    "        m = m_dist_vals['Cells'][n_px_total:n_px_total + n_px] # Mahalanobis distance values for pixels in cell mask\n",
    "        px_coords = np.array(mask_vertices[cell][plane])\n",
    "        cell_pixels_no_lipo[cell][plane] = px_coords[:, m >= thresh]\n",
    "        #cell_pixels_no_lipo[cell][plane] = px_coords[:, m ]\n",
    "        n_px_total += n_px\n",
    "\n",
    "if not n_px_total == all_cell_pixels.shape[0]:\n",
    "    print('Total number of pixels incorrect, could have removed incorrect pixels for cell')\\\n",
    "    \n",
    "with open('{0}{1}{2}'.format(save_loc, sep, save_file), 'wb') as f:\n",
    "    pkl.dump(cell_pixels_no_lipo, f)"
   ]
  },
  {
   "cell_type": "markdown",
   "metadata": {
    "heading_collapsed": true,
    "hidden": true
   },
   "source": [
    "## Delete large arrays"
   ]
  },
  {
   "cell_type": "code",
   "execution_count": 113,
   "metadata": {
    "ExecuteTime": {
     "end_time": "2020-03-08T03:25:07.883062Z",
     "start_time": "2020-03-08T03:25:06.630414Z"
    },
    "hidden": true
   },
   "outputs": [],
   "source": [
    "del im_diff_ndnf\n",
    "del im_diff_sst\n",
    "del im_diff_vip\n",
    "# del im_bin_ndnf\n",
    "# del im_bin_vip\n",
    "# del im_bin_sst"
   ]
  },
  {
   "cell_type": "markdown",
   "metadata": {},
   "source": [
    "# Classify cells by gene expression"
   ]
  },
  {
   "cell_type": "markdown",
   "metadata": {},
   "source": [
    "## Calculate intensity for each gene in each cell "
   ]
  },
  {
   "cell_type": "markdown",
   "metadata": {
    "heading_collapsed": true
   },
   "source": [
    "### Average intensity in all pixels in cell mask"
   ]
  },
  {
   "cell_type": "code",
   "execution_count": 33,
   "metadata": {
    "ExecuteTime": {
     "end_time": "2020-03-22T02:35:30.819449Z",
     "start_time": "2020-03-22T02:35:30.754623Z"
    },
    "code_folding": [],
    "hidden": true
   },
   "outputs": [
    {
     "name": "stdout",
     "output_type": "stream",
     "text": [
      "Data not found, calculating intensities\n",
      "Cell 0\n",
      "Cell 10\n",
      "Cell 20\n",
      "Cell 30\n",
      "Cell 40\n",
      "Cell 50\n",
      "Cell 60\n",
      "Cell 70\n",
      "Cell 80\n",
      "Cell 90\n",
      "Cell 100\n",
      "Cell 110\n",
      "Cell 120\n",
      "Cell 130\n"
     ]
    }
   ],
   "source": [
    "save_loc = 'G:\\\\Shared drives\\\\as_share\\\\HCR\\\\HCR 3.11\\\\S3'\n",
    "save_file = 'S3_data_npy2r_tac2_car4.pkl'\n",
    "\n",
    "try:\n",
    "    with open('{0}\\\\{1}'.format(save_loc, save_file), 'rb') as f:\n",
    "        sig = pkl.load(f)\n",
    "    avg_intensity_npy2r = sig['Npy2r']\n",
    "    avg_intensity_tac2 = sig['Tac2'] \n",
    "    avg_intensity_car4 = sig['Car4']\n",
    "    print('Data loaded')\n",
    "\n",
    "except:\n",
    "    print('Data not found, calculating intensities')\n",
    "    no_cells = len(Cell.cell_data.keys())\n",
    "    avg_intensity_npy2r = np.zeros(no_cells)\n",
    "    avg_intensity_car4 = np.zeros(no_cells)\n",
    "    avg_intensity_tac2 = np.zeros(no_cells)\n",
    "\n",
    "    for cell in range(no_cells):\n",
    "\n",
    "        if np.mod(cell, 10) == 0:\n",
    "            print('Cell {0}'.format(cell))\n",
    "        cell_no = cell + 1\n",
    "        cell_dict = Cell.cell_data[cell_no]\n",
    "        z_planes = cell_dict['z_planes']\n",
    "\n",
    "        intensity_npy2r = np.zeros(cell_dict['no_planes'])\n",
    "        intensity_car4 = np.zeros(cell_dict['no_planes'])\n",
    "        intensity_tac2 = np.zeros(cell_dict['no_planes'])\n",
    "\n",
    "        i = 0\n",
    "        for plane in np.array(z_planes).astype(int):\n",
    "\n",
    "            xy_coord = mask_vertices[cell_no][plane]\n",
    "            x = xy_coord[0]\n",
    "            y = xy_coord[1]\n",
    "            intensity_npy2r[i] = np.mean(im_array_npy2r[plane, x, y])\n",
    "            intensity_car4[i] = np.mean(im_array_car4[plane, x, y])\n",
    "            intensity_tac2[i] = np.mean(im_array_tac2[plane, x, y])\n",
    "            i += 1\n",
    "\n",
    "        avg_intensity_npy2r[cell] = np.mean(intensity_npy2r)\n",
    "        avg_intensity_car4[cell] = np.mean(intensity_car4)\n",
    "        avg_intensity_tac2[cell] = np.mean(intensity_tac2)\n",
    "\n",
    "    with open('{0}\\\\{1}'.format(save_loc, save_file), 'wb') as f:\n",
    "        pkl.dump({'npy2r': avg_intensity_npy2r, 'tac2': avg_intensity_tac2, 'car4':avg_intensity_car4}, f)\n"
   ]
  },
  {
   "cell_type": "markdown",
   "metadata": {
    "heading_collapsed": true
   },
   "source": [
    "### Intensity in masks excluding lipofuscin pixels"
   ]
  },
  {
   "cell_type": "code",
   "execution_count": 34,
   "metadata": {
    "ExecuteTime": {
     "end_time": "2020-03-22T02:39:00.587198Z",
     "start_time": "2020-03-22T02:39:00.523369Z"
    },
    "code_folding": [],
    "hidden": true
   },
   "outputs": [
    {
     "name": "stdout",
     "output_type": "stream",
     "text": [
      "Data not found, calculating intensities\n",
      "Cell 0\n",
      "Cell 10\n",
      "Cell 20\n",
      "Cell 30\n",
      "Cell 40\n",
      "Cell 50\n",
      "Cell 60\n",
      "Cell 70\n",
      "Cell 80\n",
      "Cell 90\n",
      "Cell 100\n",
      "Cell 110\n",
      "Cell 120\n",
      "Cell 130\n"
     ]
    }
   ],
   "source": [
    "save_loc = 'G:\\\\Shared drives\\\\as_share\\\\HCR\\\\HCR 3.11\\\\S3'\n",
    "save_file = 'S3_data_npy2r_tac2_car4.pkl'\n",
    "\n",
    "try:\n",
    "    with open('{0}\\\\{1}'.format(save_loc, save_file), 'rb') as f:\n",
    "        sig = pkl.load(f)\n",
    "    int_npy2r = sig['Npy2r_lipo_excl']\n",
    "    int_tac2 = sig['Tac2_lipo_excl'] \n",
    "    int_car4 = sig['Car4_lipo_excl']\n",
    "    print('Data loaded')\n",
    "\n",
    "except:\n",
    "    print('Data not found, calculating intensities')\n",
    "    no_cells = len(Cell.cell_data.keys())\n",
    "    int_npy2r = np.zeros(no_cells)\n",
    "    int_car4 = np.zeros(no_cells)\n",
    "    int_tac2 = np.zeros(no_cells)\n",
    "\n",
    "    for cell in range(no_cells):\n",
    "\n",
    "        if np.mod(cell, 10) == 0:\n",
    "            print('Cell {0}'.format(cell))\n",
    "        cell_no = cell + 1\n",
    "        cell_dict = Cell.cell_data[cell_no]\n",
    "        z_planes = cell_dict['z_planes']\n",
    "\n",
    "        intensity_npy2r = np.zeros(cell_dict['no_planes'])\n",
    "        intensity_car4 = np.zeros(cell_dict['no_planes'])\n",
    "        intensity_tac2 = np.zeros(cell_dict['no_planes'])\n",
    "\n",
    "        i = 0\n",
    "        for plane in np.array(z_planes).astype(int):\n",
    "\n",
    "            xy_coord = cell_pixels_no_lipo[cell_no][plane]\n",
    "            x = xy_coord[0]\n",
    "            y = xy_coord[1]\n",
    "            intensity_npy2r[i] = np.mean(im_array_npy2r[plane, x, y])\n",
    "            intensity_car4[i] = np.mean(im_array_car4[plane, x, y])\n",
    "            intensity_tac2[i] = np.mean(im_array_tac2[plane, x, y])\n",
    "            i += 1\n",
    "\n",
    "        int_npy2r[cell] = np.mean(intensity_npy2r)\n",
    "        int_car4[cell] = np.mean(intensity_car4)\n",
    "        int_tac2[cell] = np.mean(intensity_tac2)\n",
    "        \n",
    "        sig['Npy2r_lipo_excl'] = int_npy2r\n",
    "        sig['Tac2_lipo_excl'] = int_tac2\n",
    "        sig['Car4_lipo_excl'] = int_car4\n",
    "\n",
    "    with open('{0}\\\\{1}'.format(save_loc, save_file), 'wb') as f:\n",
    "            pkl.dump(sig, f)\n"
   ]
  },
  {
   "cell_type": "markdown",
   "metadata": {
    "heading_collapsed": true
   },
   "source": [
    "### Intensity in masks excluding lipofuscin pixels in binarized images (essentially spot counting)"
   ]
  },
  {
   "cell_type": "code",
   "execution_count": 35,
   "metadata": {
    "ExecuteTime": {
     "end_time": "2020-03-22T02:42:20.834047Z",
     "start_time": "2020-03-22T02:42:20.772213Z"
    },
    "hidden": true
   },
   "outputs": [
    {
     "name": "stdout",
     "output_type": "stream",
     "text": [
      "Data not found, calculating intensities\n",
      "Cell 0\n",
      "Cell 10\n",
      "Cell 20\n",
      "Cell 30\n",
      "Cell 40\n",
      "Cell 50\n",
      "Cell 60\n",
      "Cell 70\n",
      "Cell 80\n",
      "Cell 90\n",
      "Cell 100\n",
      "Cell 110\n",
      "Cell 120\n",
      "Cell 130\n"
     ]
    }
   ],
   "source": [
    "# Note: size of spot is also relevant here. \n",
    "\n",
    "save_loc = 'G:\\\\Shared drives\\\\as_share\\\\HCR\\\\HCR 3.11\\\\S3'\n",
    "save_file = 'S3_data_npy2r_tac2_car4.pkl'\n",
    "\n",
    "try:\n",
    "    with open('{0}\\\\{1}'.format(save_loc, save_file), 'rb') as f:\n",
    "        sig = pkl.load(f)\n",
    "    int_npy2r_bin = sig['Npy2r_lipo_excl_bin']\n",
    "    int_tac2_bin = sig['Tac2_lipo_excl_bin'] \n",
    "    int_car4_bin = sig['Car4_lipo_excl_bin']\n",
    "    print('Data loaded')\n",
    "\n",
    "except:\n",
    "    print('Data not found, calculating intensities')\n",
    "    no_cells = len(Cell.cell_data.keys())\n",
    "    int_npy2r_bin = np.zeros(no_cells)\n",
    "    int_car4_bin = np.zeros(no_cells)\n",
    "    int_tac2_bin = np.zeros(no_cells)\n",
    "\n",
    "    for cell in range(no_cells):\n",
    "\n",
    "        if np.mod(cell, 10) == 0:\n",
    "            print('Cell {0}'.format(cell))\n",
    "        cell_no = cell + 1\n",
    "        cell_dict = Cell.cell_data[cell_no]\n",
    "        z_planes = cell_dict['z_planes']\n",
    "\n",
    "        intensity_npy2r = np.zeros(cell_dict['no_planes'])\n",
    "        intensity_car4 = np.zeros(cell_dict['no_planes'])\n",
    "        intensity_tac2 = np.zeros(cell_dict['no_planes'])\n",
    "\n",
    "        i = 0\n",
    "        for plane in np.array(z_planes).astype(int):\n",
    "\n",
    "            xy_coord = cell_pixels_no_lipo[cell_no][plane]\n",
    "            x = xy_coord[0]\n",
    "            y = xy_coord[1]\n",
    "            intensity_npy2r[i] = np.mean(im_bin_npy2r[plane, x, y])\n",
    "            intensity_car4[i] = np.mean(im_bin_car4[plane, x, y])\n",
    "            intensity_tac2[i] = np.mean(im_bin_tac2[plane, x, y])\n",
    "            i += 1\n",
    "\n",
    "        int_npy2r_bin[cell] = np.mean(intensity_npy2r)\n",
    "        int_car4_bin[cell] = np.mean(intensity_car4)\n",
    "        int_tac2_bin[cell] = np.mean(intensity_tac2)\n",
    "        \n",
    "        sig['Npy2r_lipo_excl_bin'] = int_npy2r_bin\n",
    "        sig['Tac2_lipo_excl_bin'] = int_tac2_bin\n",
    "        sig['Car4_lipo_excl_bin'] = int_car4_bin\n",
    "\n",
    "    with open('{0}\\\\{1}'.format(save_loc, save_file), 'wb') as f:\n",
    "            pkl.dump(sig, f)\n"
   ]
  },
  {
   "cell_type": "markdown",
   "metadata": {
    "heading_collapsed": true
   },
   "source": [
    "## Local background"
   ]
  },
  {
   "cell_type": "markdown",
   "metadata": {
    "heading_collapsed": true,
    "hidden": true
   },
   "source": [
    "### Raw images"
   ]
  },
  {
   "cell_type": "code",
   "execution_count": 38,
   "metadata": {
    "ExecuteTime": {
     "end_time": "2020-03-22T02:44:54.089942Z",
     "start_time": "2020-03-22T02:44:51.120846Z"
    },
    "code_folding": [
     17
    ],
    "hidden": true
   },
   "outputs": [
    {
     "name": "stdout",
     "output_type": "stream",
     "text": [
      "Data not found, calculating background values\n"
     ]
    }
   ],
   "source": [
    "save_loc = 'G:\\\\Shared drives\\\\as_share\\\\HCR\\\\HCR 3.11\\\\S3'\n",
    "save_file = 'S3_background_npy2r_tac2_car4.pkl'\n",
    "\n",
    "try:\n",
    "    with open('{0}\\\\{1}'.format(save_loc, save_file), 'rb') as f:\n",
    "        dict = pkl.load(f)\n",
    "    \n",
    "    avg_bg_npy2r = dict['npy2r'] \n",
    "    avg_bg_tac2 = dict['tac2']  \n",
    "    avg_bg_car4 = dict['car4']\n",
    "    centers = dict['Centers']\n",
    "    n_vert_all = dict['n_vert_all']\n",
    "    bg_all = dict['bg_all']\n",
    "    \n",
    "    print('Data loaded')\n",
    "\n",
    "except:\n",
    "    \n",
    "    print('Data not found, calculating background values')\n",
    "    bg_all = np.ones([n, h, w])\n",
    "    n_vert_all = {}\n",
    "    centers = {}\n",
    "\n",
    "    no_cells = len(Cell.cell_data.keys())\n",
    "    for cell in range(no_cells):\n",
    "\n",
    "        cell_no = cell + 1\n",
    "        cell_dict = Cell.cell_data[cell_no]\n",
    "        z_planes = cell_dict['z_planes']\n",
    "        n_vert_all[cell] = {}\n",
    "        centers[cell] = {}\n",
    "\n",
    "        for plane in np.array(z_planes).astype(int):\n",
    "\n",
    "            xy_coord = mask_vertices[cell_no][plane]\n",
    "            x = xy_coord[0]\n",
    "            y = xy_coord[1]\n",
    "            z = plane\n",
    "            centers[cell][plane] = np.array([np.mean(x), np.mean(y)]).astype(int)\n",
    "\n",
    "\n",
    "            bg_all[z, x, y] = np.zeros([1, len(x)])\n",
    "\n",
    "            n_vert_all[cell][plane] = len(x) \n",
    "            \n",
    "    # fig, ax = plt.subplots(nrows = 3, ncols = 20)\n",
    "    um_per_px = 0.19\n",
    "    no_cells = len(Cell.cell_data.keys())\n",
    "    avg_bg_npy2r = np.zeros(no_cells)\n",
    "    avg_bg_car4 = np.zeros(no_cells)\n",
    "    avg_bg_tac2 = np.zeros(no_cells)\n",
    "\n",
    "    local_region = 50 # in um\n",
    "    local_px = int(local_region/um_per_px/2)\n",
    "\n",
    "    min_dist = 10 # in um\n",
    "    min_dist_px = min_dist/um_per_px\n",
    "\n",
    "    for cell in range(no_cells):\n",
    "        cell_no = cell + 1\n",
    "        cell_dict = Cell.cell_data[cell_no]\n",
    "        z_planes = cell_dict['z_planes']\n",
    "\n",
    "        bg_npy2r = np.zeros(len(z_planes))\n",
    "        bg_car4 = np.zeros(len(z_planes))\n",
    "        bg_tac2 = np.zeros(len(z_planes))\n",
    "\n",
    "        p = 0\n",
    "        for plane in np.array(z_planes).astype(int):\n",
    "\n",
    "            center = centers[cell][plane]\n",
    "            n_verts = n_vert_all[cell][plane]\n",
    "\n",
    "            x1 = np.max([0, center[0] - local_px])\n",
    "            x2 = np.min([h, center[0] + local_px])\n",
    "            y1 = np.max([0, center[1] - local_px])\n",
    "            y2 = np.min([w, center[1] + local_px])\n",
    "\n",
    "            center_local = [local_px, local_px]\n",
    "\n",
    "            local_bg = bg_all[plane, x1:x2, y1:y2].astype(bool)\n",
    "            local_im_npy2r = im_array_npy2r[plane, x1:x2, y1:y2]\n",
    "            local_im_tac2 = im_array_tac2[plane, x1:x2, y1:y2]\n",
    "            local_im_car4 = im_array_car4[plane, x1:x2, y1:y2]\n",
    "\n",
    "    #         ax[0, cell].imshow(local_im, vmin = np.min(local_im), vmax = np.max(local_im)/2)\n",
    "\n",
    "    #         ax[1, cell].imshow(local_bg)\n",
    "\n",
    "            verts = np.array(np.where(local_bg))\n",
    "            dist_from_center = np.linalg.norm(verts - np.reshape(center_local, [2, 1]), axis = 0)\n",
    "            verts = verts[:, dist_from_center > min_dist_px]\n",
    "            dist_from_center = dist_from_center[dist_from_center > min_dist_px]\n",
    "\n",
    "            order = np.argsort(dist_from_center)\n",
    "            n_verts = np.min([n_verts, len(order)])\n",
    "\n",
    "            x_bg = verts[0][order[0:n_verts]]\n",
    "            y_bg = verts[1][order[0:n_verts]]\n",
    "\n",
    "            local_bg = np.zeros(local_bg.shape).astype(bool)\n",
    "            local_bg[x_bg, y_bg] = np.ones(n_verts)\n",
    "\n",
    "    #         ax[2, cell].imshow(local_bg)\n",
    "\n",
    "            bg_npy2r[p] = np.mean(local_im_npy2r[local_bg])\n",
    "            bg_car4[p] = np.mean(local_im_car4[local_bg])\n",
    "            bg_tac2[p] = np.mean(local_im_tac2[local_bg])\n",
    "\n",
    "            p += 1\n",
    "\n",
    "\n",
    "\n",
    "        avg_bg_npy2r[cell] = np.mean(bg_npy2r)\n",
    "        avg_bg_car4[cell] = np.mean(bg_car4)\n",
    "        avg_bg_tac2[cell] = np.mean(bg_tac2)\n",
    "\n",
    "    with open('{0}\\\\{1}'.format(save_loc, save_file), 'wb') as f:\n",
    "        pkl.dump({'npy2r': avg_bg_npy2r, 'tac2': avg_bg_tac2, 'car4':avg_bg_car4, 'Centers': centers, \n",
    "                  'n_vert_all':n_vert_all, \n",
    "                  #'bg_all': bg_all\n",
    "                 }, f)\n",
    "            \n",
    "    #del bg_all"
   ]
  },
  {
   "cell_type": "markdown",
   "metadata": {
    "heading_collapsed": true,
    "hidden": true
   },
   "source": [
    "### Binarized images"
   ]
  },
  {
   "cell_type": "code",
   "execution_count": 42,
   "metadata": {
    "ExecuteTime": {
     "end_time": "2020-03-22T02:47:18.182162Z",
     "start_time": "2020-03-22T02:47:14.880980Z"
    },
    "code_folding": [
     17
    ],
    "hidden": true
   },
   "outputs": [
    {
     "name": "stdout",
     "output_type": "stream",
     "text": [
      "Data not found, calculating background values\n",
      "Cell 0\n",
      "Cell 10\n",
      "Cell 20\n",
      "Cell 30\n",
      "Cell 40\n",
      "Cell 50\n",
      "Cell 60\n",
      "Cell 70\n",
      "Cell 80\n",
      "Cell 90\n",
      "Cell 100\n",
      "Cell 110\n",
      "Cell 120\n",
      "Cell 130\n"
     ]
    }
   ],
   "source": [
    "save_loc = 'G:\\\\Shared drives\\\\as_share\\\\HCR\\\\HCR 3.11\\\\S3'\n",
    "save_file = 'S3_background_npy2r_tac2_car4.pkl'\n",
    "\n",
    "try:\n",
    "    with open('{0}\\\\{1}'.format(save_loc, save_file), 'rb') as f:\n",
    "        bg_dict = pkl.load(f)   \n",
    "    \n",
    "    centers = bg_dict['Centers']\n",
    "    n_vert_all = bg_dict['n_vert_all']\n",
    "    bg_all = bg_dict['bg_all']\n",
    "    avg_bg_npy2r_bin = bg_dict['npy2r_bin'] \n",
    "    avg_bg_tac2_bin = bg_dict['tac2_bin']  \n",
    "    avg_bg_car4_bin = bg_dict['car4_bin']\n",
    "\n",
    "    print('Data loaded')\n",
    "\n",
    "except:\n",
    "    \n",
    "    print('Data not found, calculating background values')\n",
    "    bg_all = np.ones([n, h, w])\n",
    "    n_vert_all = {}\n",
    "    centers = {}\n",
    "\n",
    "    no_cells = len(Cell.cell_data.keys())\n",
    "    for cell in range(no_cells):\n",
    "\n",
    "        cell_no = cell + 1\n",
    "        cell_dict = Cell.cell_data[cell_no]\n",
    "        z_planes = cell_dict['z_planes']\n",
    "        n_vert_all[cell] = {}\n",
    "        centers[cell] = {}\n",
    "\n",
    "        for plane in np.array(z_planes).astype(int):\n",
    "\n",
    "            xy_coord = mask_vertices[cell_no][plane]\n",
    "            x = xy_coord[0]\n",
    "            y = xy_coord[1]\n",
    "            z = plane\n",
    "            centers[cell][plane] = np.array([np.mean(x), np.mean(y)]).astype(int)\n",
    "\n",
    "\n",
    "            bg_all[z, x, y] = np.zeros([1, len(x)])\n",
    "\n",
    "            n_vert_all[cell][plane] = len(x) \n",
    "            \n",
    "    # fig, ax = plt.subplots(nrows = 3, ncols = 20)\n",
    "    um_per_px = 0.19\n",
    "    no_cells = len(Cell.cell_data.keys())\n",
    "    avg_bg_npy2r_bin = np.zeros(no_cells)\n",
    "    avg_bg_car4_bin = np.zeros(no_cells)\n",
    "    avg_bg_tac2_bin = np.zeros(no_cells)\n",
    "\n",
    "    local_region = 50 # in um\n",
    "    local_px = int(local_region/um_per_px/2)\n",
    "\n",
    "    min_dist = 10 # in um\n",
    "    min_dist_px = min_dist/um_per_px\n",
    "\n",
    "    for cell in range(no_cells):\n",
    "        cell_no = cell + 1\n",
    "        if np.mod(cell, 10) == 0:\n",
    "            print('Cell {0}'.format(cell))\n",
    "        cell_dict = Cell.cell_data[cell_no]\n",
    "        z_planes = cell_dict['z_planes']\n",
    "\n",
    "        bg_npy2r = np.zeros(len(z_planes))\n",
    "        bg_car4 = np.zeros(len(z_planes))\n",
    "        bg_tac2 = np.zeros(len(z_planes))\n",
    "\n",
    "        p = 0\n",
    "        for plane in np.array(z_planes).astype(int):\n",
    "\n",
    "            center = centers[cell][plane]\n",
    "            n_verts = n_vert_all[cell][plane]\n",
    "\n",
    "            x1 = np.max([0, center[0] - local_px])\n",
    "            x2 = np.min([h, center[0] + local_px])\n",
    "            y1 = np.max([0, center[1] - local_px])\n",
    "            y2 = np.min([w, center[1] + local_px])\n",
    "\n",
    "            center_local = [local_px, local_px]\n",
    "\n",
    "            local_bg = bg_all[plane, x1:x2, y1:y2].astype(bool)\n",
    "            local_im_npy2r = im_bin_npy2r[plane, x1:x2, y1:y2]\n",
    "            local_im_tac2 = im_bin_tac2[plane, x1:x2, y1:y2]\n",
    "            local_im_car4 = im_bin_car4[plane, x1:x2, y1:y2]\n",
    "\n",
    "    #         ax[0, cell].imshow(local_im, vmin = np.min(local_im), vmax = np.max(local_im)/2)\n",
    "\n",
    "    #         ax[1, cell].imshow(local_bg)\n",
    "\n",
    "            verts = np.array(np.where(local_bg))\n",
    "            dist_from_center = np.linalg.norm(verts - np.reshape(center_local, [2, 1]), axis = 0)\n",
    "            verts = verts[:, dist_from_center > min_dist_px]\n",
    "            dist_from_center = dist_from_center[dist_from_center > min_dist_px]\n",
    "\n",
    "            order = np.argsort(dist_from_center)\n",
    "            n_verts = np.min([n_verts, len(order)])\n",
    "\n",
    "            x_bg = verts[0][order[0:n_verts]]\n",
    "            y_bg = verts[1][order[0:n_verts]]\n",
    "\n",
    "            local_bg = np.zeros(local_bg.shape).astype(bool)\n",
    "            local_bg[x_bg, y_bg] = np.ones(n_verts)\n",
    "\n",
    "    #         ax[2, cell].imshow(local_bg)\n",
    "\n",
    "            bg_npy2r[p] = np.mean(local_im_npy2r[local_bg])\n",
    "            bg_car4[p] = np.mean(local_im_car4[local_bg])\n",
    "            bg_tac2[p] = np.mean(local_im_tac2[local_bg])\n",
    "\n",
    "            p += 1\n",
    "\n",
    "\n",
    "\n",
    "        avg_bg_npy2r_bin[cell] = np.mean(bg_npy2r)\n",
    "        avg_bg_car4_bin[cell] = np.mean(bg_car4)\n",
    "        avg_bg_tac2_bin[cell] = np.mean(bg_tac2)\n",
    "        \n",
    "    bg_dict['npy2r_bin'] = avg_bg_npy2r_bin \n",
    "    bg_dict['tac2_bin'] = avg_bg_tac2_bin \n",
    "    bg_dict['car4_bin'] = avg_bg_car4_bin \n",
    "\n",
    "    with open('{0}\\\\{1}'.format(save_loc, save_file), 'wb') as f:\n",
    "        pkl.dump(bg_dict, f)\n",
    "            \n",
    "    del bg_all"
   ]
  },
  {
   "cell_type": "markdown",
   "metadata": {
    "heading_collapsed": true,
    "hidden": true
   },
   "source": [
    "### Calculate mask centers"
   ]
  },
  {
   "cell_type": "code",
   "execution_count": 44,
   "metadata": {
    "ExecuteTime": {
     "end_time": "2020-03-22T02:48:02.478966Z",
     "start_time": "2020-03-22T02:48:01.033571Z"
    },
    "hidden": true
   },
   "outputs": [],
   "source": [
    "bg_all = np.ones([n, h, w])\n",
    "n_vert_all = {}\n",
    "centers = {}\n",
    "\n",
    "no_cells = len(Cell.cell_data.keys())\n",
    "for cell in range(no_cells):\n",
    "\n",
    "    cell_no = cell + 1\n",
    "    cell_dict = Cell.cell_data[cell_no]\n",
    "    z_planes = cell_dict['z_planes']\n",
    "    n_vert_all[cell] = {}\n",
    "    centers[cell] = {}\n",
    "\n",
    "    for plane in np.array(z_planes).astype(int):\n",
    "\n",
    "        xy_coord = mask_vertices[cell_no][plane]\n",
    "        x = xy_coord[0]\n",
    "        y = xy_coord[1]\n",
    "        z = plane\n",
    "        centers[cell][plane] = np.array([np.mean(x), np.mean(y)]).astype(int)\n",
    "\n",
    "\n",
    "        bg_all[z, x, y] = np.zeros([1, len(x)])\n",
    "\n",
    "        n_vert_all[cell][plane] = len(x) "
   ]
  },
  {
   "cell_type": "code",
   "execution_count": 78,
   "metadata": {
    "ExecuteTime": {
     "end_time": "2020-03-06T19:44:47.565092Z",
     "start_time": "2020-03-06T19:44:47.555118Z"
    },
    "hidden": true
   },
   "outputs": [
    {
     "data": {
      "text/plain": [
       "'S1_background_ndnf_sst_vip.pkl'"
      ]
     },
     "execution_count": 78,
     "metadata": {},
     "output_type": "execute_result"
    }
   ],
   "source": [
    "save_file"
   ]
  },
  {
   "cell_type": "code",
   "execution_count": 94,
   "metadata": {
    "ExecuteTime": {
     "end_time": "2020-03-06T19:50:50.105003Z",
     "start_time": "2020-03-06T19:50:37.025307Z"
    },
    "hidden": true
   },
   "outputs": [],
   "source": [
    "with open('{0}\\\\{1}'.format(save_loc, save_file), 'wb') as f:\n",
    "            pkl.dump({'Ndnf': avg_bg_ndnf, 'Sst': avg_bg_sst, 'Vip':avg_bg_vip, 'Centers': centers,\n",
    "                     'n_vert_all': n_vert_all, 'bg_all': bg_all}, f)"
   ]
  },
  {
   "cell_type": "code",
   "execution_count": 127,
   "metadata": {
    "ExecuteTime": {
     "end_time": "2020-03-03T23:52:44.060292Z",
     "start_time": "2020-03-03T23:52:44.055303Z"
    },
    "hidden": true
   },
   "outputs": [],
   "source": [
    "del all_cell_pixels"
   ]
  },
  {
   "cell_type": "markdown",
   "metadata": {},
   "source": [
    "## Use background to estimate significance of signal"
   ]
  },
  {
   "cell_type": "markdown",
   "metadata": {
    "heading_collapsed": true
   },
   "source": [
    "### Get bootstrap sample means from background"
   ]
  },
  {
   "cell_type": "markdown",
   "metadata": {
    "heading_collapsed": true,
    "hidden": true
   },
   "source": [
    "#### Raw images"
   ]
  },
  {
   "cell_type": "code",
   "execution_count": 46,
   "metadata": {
    "ExecuteTime": {
     "end_time": "2020-03-22T02:50:32.204353Z",
     "start_time": "2020-03-22T02:49:36.594574Z"
    },
    "code_folding": [
     19
    ],
    "hidden": true
   },
   "outputs": [
    {
     "name": "stdout",
     "output_type": "stream",
     "text": [
      "No data found, calculating p values\n",
      "Cell 0: 0.0 seconds\n",
      "Cell 10: 4.0 seconds\n",
      "Cell 20: 8.0 seconds\n",
      "Cell 30: 13.0 seconds\n",
      "Cell 40: 16.0 seconds\n",
      "Cell 50: 20.0 seconds\n",
      "Cell 60: 25.0 seconds\n",
      "Cell 70: 29.0 seconds\n",
      "Cell 80: 33.0 seconds\n",
      "Cell 90: 38.0 seconds\n",
      "Cell 100: 42.0 seconds\n",
      "Cell 110: 46.0 seconds\n",
      "Cell 120: 51.0 seconds\n",
      "Cell 130: 54.0 seconds\n"
     ]
    }
   ],
   "source": [
    "t0 = time.time()\n",
    "\n",
    "save_loc = 'G:\\\\Shared drives\\\\as_share\\\\HCR\\\\HCR 3.11\\\\S3'\n",
    "save_file = 'S3_bootstrap.pkl'\n",
    "\n",
    "# Parameters\n",
    "n_sample = 1000 # Number of samples to calculate bootstrap confidence interval\n",
    "um_per_px = 0.19\n",
    "local_region = 50 # in um\n",
    "min_dist = 10 # in um\n",
    "bg_factor = 4 # Take 4x the number of pixels in the mask of the cell, for local background - it will still be local but you'll\n",
    "            # get a better estimate of background by averaging over more pixels.\n",
    "\n",
    "try:\n",
    "    with open('{0}\\\\{1}'.format(save_loc, save_file), 'rb') as f:\n",
    "        d = pkl.load(f)\n",
    "    bg_bs_npy2r = d['npy2r']\n",
    "    bg_bs_tac2 = d['tac2']\n",
    "    bg_bs_car4 = d['car4']\n",
    "    print('Data loaded')\n",
    "    \n",
    "except:\n",
    "    print('No data found, calculating p values')\n",
    "\n",
    "    no_cells = len(Cell.cell_data.keys())\n",
    "    bg_bs_npy2r = {}\n",
    "    bg_bs_tac2 = {}\n",
    "    bg_bs_car4 = {}\n",
    "\n",
    "    local_px = int(local_region/um_per_px/2)\n",
    "    min_dist_px = min_dist/um_per_px\n",
    "\n",
    "    for cell in range(no_cells):\n",
    "\n",
    "        if np.mod(cell, 10) == 0:\n",
    "            print('Cell {0}: {1} seconds'.format(cell, np.round(time.time() - t0)))\n",
    "\n",
    "        cell_no = cell + 1\n",
    "        cell_dict = Cell.cell_data[cell_no]\n",
    "        z_planes = cell_dict['z_planes']\n",
    "\n",
    "        bg_bs_npy2r[cell] = {}\n",
    "        bg_bs_tac2[cell] = {}\n",
    "        bg_bs_car4[cell] = {}\n",
    "        \n",
    "        p = 0\n",
    "\n",
    "        for plane in np.array(z_planes).astype(int):\n",
    "\n",
    "            bg_bs_npy2r[cell][plane] = np.zeros(n_sample)\n",
    "            bg_bs_tac2[cell][plane] = np.zeros(n_sample)\n",
    "            bg_bs_car4[cell][plane] = np.zeros(n_sample)\n",
    "            \n",
    "            center = centers[cell][plane]\n",
    "            n_verts = n_vert_all[cell][plane]\n",
    "\n",
    "            x1 = np.max([0, center[0] - local_px])\n",
    "            x2 = np.min([h, center[0] + local_px])\n",
    "            y1 = np.max([0, center[1] - local_px])\n",
    "            y2 = np.min([w, center[1] + local_px])\n",
    "\n",
    "            center_local = [local_px, local_px]\n",
    "\n",
    "            local_bg = bg_all[plane, x1:x2, y1:y2].astype(bool)\n",
    "\n",
    "            verts = np.array(np.where(local_bg))\n",
    "            dist_from_center = np.linalg.norm(verts - np.reshape(center_local, [2, 1]), \n",
    "                                              axis = 0)\n",
    "            verts = verts[:, dist_from_center > min_dist_px]\n",
    "            dist_from_center = dist_from_center[dist_from_center > min_dist_px]\n",
    "\n",
    "            order = np.argsort(dist_from_center)\n",
    "            n_verts_bg = np.min([bg_factor*n_verts, len(order)])\n",
    "\n",
    "            verts = verts[:, order[0:n_verts_bg]]\n",
    "            samples = np.random.choice(np.linspace(0, n_verts_bg - 1, n_verts_bg).astype(int), \n",
    "                                       (n_verts, n_sample), replace = True)\n",
    "            x_bs = verts[0][samples]\n",
    "            y_bs = verts[1][samples]\n",
    "\n",
    "            local_im_npy2r = im_array_npy2r[plane, x1:x2, y1:y2]\n",
    "            local_im_tac2 = im_array_tac2[plane, x1:x2, y1:y2]\n",
    "            local_im_car4 = im_array_car4[plane, x1:x2, y1:y2]\n",
    "\n",
    "\n",
    "            local_bg_bs = np.zeros([x2 - x1, y2 - y1]).astype(bool)\n",
    "            for s in range(n_sample):\n",
    "                local_bg_bs[x_bs[:, s], y_bs[:, s]] = np.ones(n_verts)\n",
    "                bg_bs_npy2r[cell][plane][s] = np.mean(local_im_npy2r[local_bg_bs])\n",
    "                bg_bs_car4[cell][plane][s] = np.mean(local_im_car4[local_bg_bs])\n",
    "                bg_bs_tac2[cell][plane][s] = np.mean(local_im_tac2[local_bg_bs])\n",
    "\n",
    "            p += 1\n",
    "\n",
    "    with open('{0}\\\\{1}'.format(save_loc, save_file), 'wb') as f:\n",
    "        pkl.dump({'npy2r': bg_bs_npy2r, 'car4': bg_bs_car4, 'tac2': bg_bs_tac2}, f)     \n",
    "    "
   ]
  },
  {
   "cell_type": "markdown",
   "metadata": {
    "heading_collapsed": true,
    "hidden": true
   },
   "source": [
    "#### Binarized images"
   ]
  },
  {
   "cell_type": "code",
   "execution_count": 48,
   "metadata": {
    "ExecuteTime": {
     "end_time": "2020-03-22T02:53:14.471189Z",
     "start_time": "2020-03-22T02:52:03.953819Z"
    },
    "hidden": true
   },
   "outputs": [
    {
     "name": "stdout",
     "output_type": "stream",
     "text": [
      "No data found, calculating p values\n",
      "Cell 0, 0.0 seconds\n",
      "Cell 10, 5.0 seconds\n",
      "Cell 20, 10.0 seconds\n",
      "Cell 30, 16.0 seconds\n",
      "Cell 40, 20.0 seconds\n",
      "Cell 50, 25.0 seconds\n",
      "Cell 60, 31.0 seconds\n",
      "Cell 70, 37.0 seconds\n",
      "Cell 80, 42.0 seconds\n",
      "Cell 90, 48.0 seconds\n",
      "Cell 100, 53.0 seconds\n",
      "Cell 110, 59.0 seconds\n",
      "Cell 120, 64.0 seconds\n",
      "Cell 130, 69.0 seconds\n"
     ]
    }
   ],
   "source": [
    "save_loc = 'G:\\\\Shared drives\\\\as_share\\\\HCR\\\\HCR 3.11\\\\S3'\n",
    "save_file = 'S3_bootstrap.pkl'\n",
    "\n",
    "# Parameters\n",
    "n_sample = 1000 # Number of samples to calculate bootstrap confidence interval\n",
    "um_per_px = 0.19\n",
    "local_region = 50 # in um\n",
    "min_dist = 10 # in um\n",
    "bg_factor = 10 # Take 10x the number of pixels in the mask of the cell, for local background - it will still be local but you'll\n",
    "            # get a better estimate of background by averaging over more pixels.\n",
    "\n",
    "t0 = time.time()\n",
    "try:\n",
    "    with open('{0}\\\\{1}'.format(save_loc, save_file), 'rb') as f:\n",
    "        d = pkl.load(f)\n",
    "    bg_bs_npy2r_bin = d['npy2r_bin']\n",
    "    bg_bs_tac2_bin = d['tac2_bin']\n",
    "    bg_bs_car4_bin = d['car4_bin']\n",
    "    print('Data loaded')\n",
    "    \n",
    "except:\n",
    "    print('No data found, calculating p values')\n",
    "\n",
    "    no_cells = len(Cell.cell_data.keys())\n",
    "    bg_bs_npy2r_bin = {}\n",
    "    bg_bs_tac2_bin = {}\n",
    "    bg_bs_car4_bin = {}\n",
    "\n",
    "    local_px = int(local_region/um_per_px/2)\n",
    "    min_dist_px = min_dist/um_per_px\n",
    "\n",
    "    for cell in range(no_cells):\n",
    "\n",
    "        if np.mod(cell, 10) == 0:\n",
    "            t1 = np.round(time.time() - t0)\n",
    "            print('Cell {0}, {1} seconds'.format(cell, t1))\n",
    "\n",
    "        cell_no = cell + 1\n",
    "        cell_dict = Cell.cell_data[cell_no]\n",
    "        z_planes = cell_dict['z_planes']\n",
    "\n",
    "        bg_bs_npy2r_bin[cell] = {}\n",
    "        bg_bs_tac2_bin[cell] = {}\n",
    "        bg_bs_car4_bin[cell] = {}\n",
    "        \n",
    "        p = 0\n",
    "\n",
    "        for plane in np.array(z_planes).astype(int):\n",
    "\n",
    "            bg_bs_npy2r_bin[cell][plane] = np.zeros(n_sample)\n",
    "            bg_bs_tac2_bin[cell][plane] = np.zeros(n_sample)\n",
    "            bg_bs_car4_bin[cell][plane] = np.zeros(n_sample)\n",
    "            \n",
    "            center = centers[cell][plane]\n",
    "            n_verts = n_vert_all[cell][plane]\n",
    "\n",
    "            x1 = np.max([0, center[0] - local_px])\n",
    "            x2 = np.min([h, center[0] + local_px])\n",
    "            y1 = np.max([0, center[1] - local_px])\n",
    "            y2 = np.min([w, center[1] + local_px])\n",
    "\n",
    "            center_local = [local_px, local_px]\n",
    "\n",
    "            local_bg = bg_all[plane, x1:x2, y1:y2].astype(bool)\n",
    "\n",
    "            verts = np.array(np.where(local_bg))\n",
    "            dist_from_center = np.linalg.norm(verts - np.reshape(center_local, [2, 1]), \n",
    "                                              axis = 0)\n",
    "            verts = verts[:, dist_from_center > min_dist_px]\n",
    "            dist_from_center = dist_from_center[dist_from_center > min_dist_px]\n",
    "\n",
    "            order = np.argsort(dist_from_center)\n",
    "            n_verts_bg = np.min([bg_factor*n_verts, len(order)])\n",
    "\n",
    "            verts = verts[:, order[0:n_verts_bg]]\n",
    "            samples = np.random.choice(np.linspace(0, n_verts_bg - 1, n_verts_bg).astype(int), \n",
    "                                       (n_verts, n_sample), replace = True)\n",
    "            x_bs = verts[0][samples]\n",
    "            y_bs = verts[1][samples]\n",
    "\n",
    "            local_im_npy2r = im_bin_npy2r[plane, x1:x2, y1:y2]\n",
    "            local_im_tac2 = im_bin_tac2[plane, x1:x2, y1:y2]\n",
    "            local_im_car4 = im_bin_car4[plane, x1:x2, y1:y2]\n",
    "\n",
    "\n",
    "            local_bg_bs = np.zeros([x2 - x1, y2 - y1]).astype(bool)\n",
    "            for s in range(n_sample):\n",
    "                local_bg_bs[x_bs[:, s], y_bs[:, s]] = np.ones(n_verts)\n",
    "                bg_bs_npy2r_bin[cell][plane][s] = np.mean(local_im_npy2r[local_bg_bs])\n",
    "                bg_bs_car4_bin[cell][plane][s] = np.mean(local_im_car4[local_bg_bs])\n",
    "                bg_bs_tac2_bin[cell][plane][s] = np.mean(local_im_tac2[local_bg_bs])\n",
    "\n",
    "            p += 1\n",
    "            \n",
    "    d['npy2r_bin'] = bg_bs_npy2r_bin \n",
    "    d['tac2_bin'] = bg_bs_tac2_bin \n",
    "    d['car4_bin'] = bg_bs_car4_bin \n",
    "\n",
    "    with open('{0}\\\\{1}'.format(save_loc, save_file), 'wb') as f:\n",
    "        pkl.dump(d, f)     \n",
    "    "
   ]
  },
  {
   "cell_type": "markdown",
   "metadata": {
    "heading_collapsed": true
   },
   "source": [
    "### Calculate p-value  and confidence interval"
   ]
  },
  {
   "cell_type": "code",
   "execution_count": 49,
   "metadata": {
    "ExecuteTime": {
     "end_time": "2020-03-22T02:54:21.314062Z",
     "start_time": "2020-03-22T02:54:21.080678Z"
    },
    "code_folding": [],
    "hidden": true
   },
   "outputs": [
    {
     "name": "stdout",
     "output_type": "stream",
     "text": [
      "Data not found; calculating\n",
      "Cell 0\n",
      "Cell 10\n",
      "Cell 20\n",
      "Cell 30\n",
      "Cell 40\n",
      "Cell 50\n",
      "Cell 60\n",
      "Cell 70\n",
      "Cell 80\n",
      "Cell 90\n",
      "Cell 100\n",
      "Cell 110\n",
      "Cell 120\n",
      "Cell 130\n",
      "\n",
      "With raw images:\n",
      "npy2r: 4 cells are significant\n",
      "car4: 1 cells are significant\n",
      "tac2: 63 cells are significant\n",
      "\n",
      "npy2r & tac2: 1 cells are significant\n",
      "car4 & tac2: 0 cells are significant\n",
      "npy2r & car4: 0 cells are significant\n",
      "\n",
      "With lipofuscin pixels exluded:\n",
      "npy2r: 4 cells are significant\n",
      "car4: 1 cells are significant\n",
      "tac2: 64 cells are significant\n",
      "\n",
      "npy2r & tac2: 1 cells are significant\n",
      "car4 & tac2: 0 cells are significant\n",
      "npy2r & car4: 0 cells are significant\n",
      "\n",
      "With lipofuscin pixels exluded, in binarized images:\n",
      "npy2r: 128 cells are significant\n",
      "car4: 46 cells are significant\n",
      "tac2: 96 cells are significant\n",
      "\n",
      "npy2r & tac2: 92 cells are significant\n",
      "car4 & tac2: 34 cells are significant\n",
      "npy2r & car4: 46 cells are significant\n"
     ]
    }
   ],
   "source": [
    "save_loc = 'G:\\\\Shared drives\\\\as_share\\\\HCR\\\\HCR 3.11\\\\S3'\n",
    "save_file1 = 'S3_pvals.pkl'\n",
    "save_file2 = 'S3_conf_intvls.pkl'\n",
    "save_file3 = 'S3_pvals_lipo_excl.pkl'\n",
    "save_file4 = 'S3_pvals_lipo_excl_bin.pkl'\n",
    "\n",
    "p_value = 0.05 # Threshold for calling signal significantly different from background\n",
    "\n",
    "try:\n",
    "    with open('{0}\\\\{1}'.format(save_loc, save_file1), 'rb') as f:\n",
    "        p_vals = pkl.load(f)\n",
    "        pv_npy2r = p_vals['npy2r']\n",
    "        pv_tac2 = p_vals['tac2']\n",
    "        pv_car4 = p_vals['car4']\n",
    "    print('Loaded p values for raw images')\n",
    "    \n",
    "    with open('{0}\\\\{1}'.format(save_loc, save_file2), 'rb') as f:\n",
    "        ci = pkl.load(f)\n",
    "        ci_npy2r = ci['npy2r']\n",
    "        ci_tac2 = ci['tac2']\n",
    "        ci_car4 = ci['car4']\n",
    "    print('Loaded confidence intervals')\n",
    "    \n",
    "    with open('{0}\\\\{1}'.format(save_loc, save_file3), 'rb') as f:\n",
    "        p_vals = pkl.load(f)\n",
    "        pv_npy2r2 = p_vals['npy2r']\n",
    "        pv_tac22 = p_vals['tac2']\n",
    "        pv_car42 = p_vals['car4']\n",
    "    print('Loaded p values for lipofuscin excluded masks')\n",
    "    \n",
    "    with open('{0}\\\\{1}'.format(save_loc, save_file4), 'rb') as f:\n",
    "        p_vals = pkl.load(f)\n",
    "        pv_npy2r3 = p_vals['npy2r']\n",
    "        pv_tac23 = p_vals['tac2']\n",
    "        pv_car43 = p_vals['car4']\n",
    "    print('Loaded p values for lipofuscin excluded masks in binarized images')\n",
    "\n",
    "\n",
    "except:\n",
    "    print('Data not found; calculating')\n",
    "    \n",
    "    ci_npy2r = np.zeros(no_cells)\n",
    "    ci_car4 = np.zeros(no_cells)\n",
    "    ci_tac2 = np.zeros(no_cells)\n",
    "\n",
    "    pv_npy2r = np.zeros(no_cells)\n",
    "    pv_car4 = np.zeros(no_cells)\n",
    "    pv_tac2 = np.zeros(no_cells)\n",
    "    \n",
    "    pv_npy2r2 = np.zeros(no_cells)\n",
    "    pv_car42 = np.zeros(no_cells)\n",
    "    pv_tac22 = np.zeros(no_cells)\n",
    "    \n",
    "    pv_npy2r3 = np.zeros(no_cells)\n",
    "    pv_car43 = np.zeros(no_cells)\n",
    "    pv_tac23 = np.zeros(no_cells)\n",
    "    \n",
    "    for cell in range(no_cells):\n",
    "\n",
    "        if np.mod(cell, 10) == 0:\n",
    "            print('Cell {0}'.format(cell))\n",
    "\n",
    "        cell_no = cell + 1\n",
    "        cell_dict = Cell.cell_data[cell_no]\n",
    "        z_planes = cell_dict['z_planes']\n",
    "\n",
    "        bs_means = bg_bs_npy2r[cell][z_planes[0]]\n",
    "        for plane in z_planes[1:]:\n",
    "            bs_means = np.concatenate([bs_means, bg_bs_npy2r[cell][plane]])\n",
    "        pv_npy2r[cell] = np.sum(bs_means > avg_intensity_npy2r[cell] - avg_bg_npy2r[cell])/len(bs_means)\n",
    "        ci_npy2r[cell] = np.mean(np.percentile(bs_means, (1 - p_value)*100, axis = 0))\n",
    "        pv_npy2r2[cell] = np.sum(bs_means > int_npy2r[cell] - avg_bg_npy2r[cell])/len(bs_means)\n",
    "        \n",
    "        bs_means = bg_bs_npy2r_bin[cell][z_planes[0]]\n",
    "        for plane in z_planes[1:]:\n",
    "            bs_means = np.concatenate([bs_means, bg_bs_npy2r_bin[cell][plane]])\n",
    "        pv_npy2r3[cell] = np.sum(bs_means >= int_npy2r_bin[cell] - avg_bg_npy2r_bin[cell])/len(bs_means)\n",
    "        \n",
    "        bs_means = bg_bs_car4[cell][z_planes[0]]\n",
    "        for plane in z_planes[1:]:\n",
    "            bs_means = np.concatenate([bs_means, bg_bs_car4[cell][plane]])\n",
    "        pv_car4[cell] = np.sum(bs_means > avg_intensity_car4[cell] - avg_bg_car4[cell])/len(bs_means)\n",
    "        pv_car42[cell] = np.sum(bs_means > int_car4[cell] - avg_bg_car4[cell])/len(bs_means)\n",
    "        ci_car4[cell] = np.mean(np.percentile(bs_means, (1 - p_value)*100, axis = 0))\n",
    "\n",
    "        bs_means = bg_bs_car4_bin[cell][z_planes[0]]\n",
    "        for plane in z_planes[1:]:\n",
    "            bs_means = np.concatenate([bs_means, bg_bs_car4_bin[cell][plane]])\n",
    "        pv_car43[cell] = np.sum(bs_means >= int_car4_bin[cell] - avg_bg_car4_bin[cell])/len(bs_means)\n",
    "\n",
    "        \n",
    "        bs_means = bg_bs_tac2[cell][z_planes[0]]\n",
    "        for plane in z_planes[1:]:\n",
    "            bs_means = np.concatenate([bs_means, bg_bs_tac2[cell][plane]])\n",
    "        pv_tac2[cell] = np.sum(bs_means > avg_intensity_tac2[cell] - avg_bg_tac2[cell])/len(bs_means)\n",
    "        pv_tac22[cell] = np.sum(bs_means > int_tac2[cell] - avg_bg_tac2[cell])/len(bs_means)\n",
    "        ci_tac2[cell] = np.mean(np.percentile(bs_means, (1 - p_value)*100, axis = 0))\n",
    "        \n",
    "        bs_means = bg_bs_tac2_bin[cell][z_planes[0]]\n",
    "        for plane in z_planes[1:]:\n",
    "            bs_means = np.concatenate([bs_means, bg_bs_tac2_bin[cell][plane]])\n",
    "        pv_tac23[cell] = np.sum(bs_means >= int_tac2_bin[cell] - avg_bg_tac2_bin[cell])/len(bs_means)\n",
    "\n",
    "\n",
    "    with open('{0}\\\\{1}'.format(save_loc, save_file1), 'wb') as f:\n",
    "        pkl.dump({'npy2r': pv_npy2r, 'tac2': pv_tac2, 'car4':pv_car4}, f)\n",
    "\n",
    "    with open('{0}\\\\{1}'.format(save_loc, save_file2), 'wb') as f:\n",
    "        pkl.dump({'npy2r': ci_npy2r, 'tac2': ci_tac2, 'car4':ci_car4}, f)\n",
    "\n",
    "    with open('{0}\\\\{1}'.format(save_loc, save_file3), 'wb') as f:\n",
    "        pkl.dump({'npy2r': pv_npy2r2, 'tac2': pv_tac22, 'car4':pv_car42}, f)\n",
    "\n",
    "    with open('{0}\\\\{1}'.format(save_loc, save_file4), 'wb') as f:\n",
    "        pkl.dump({'npy2r': pv_npy2r3, 'tac2': pv_tac23, 'car4':pv_car43}, f)\n",
    "\n",
    "    \n",
    "print('')\n",
    "print('With raw images:')\n",
    "\n",
    "print('npy2r: {0} cells are significant'.format(np.sum(pv_npy2r < 0.05)))\n",
    "print('car4: {0} cells are significant'.format(np.sum(pv_car4 < 0.05)))\n",
    "print('tac2: {0} cells are significant'.format(np.sum(pv_tac2 < 0.05)))\n",
    "\n",
    "print('')\n",
    "\n",
    "print('npy2r & tac2: {0} cells are significant'.format(np.sum(np.logical_and(pv_npy2r < 0.05, pv_tac2 < 0.05))))\n",
    "print('car4 & tac2: {0} cells are significant'.format(np.sum(np.logical_and(pv_car4 < 0.05, pv_tac2 < 0.05))))\n",
    "print('npy2r & car4: {0} cells are significant'.format(np.sum(np.logical_and(pv_npy2r < 0.05, pv_car4 < 0.05))))\n",
    "\n",
    "print('')\n",
    "print('With lipofuscin pixels exluded:')\n",
    "\n",
    "print('npy2r: {0} cells are significant'.format(np.sum(pv_npy2r2 < 0.05)))\n",
    "print('car4: {0} cells are significant'.format(np.sum(pv_car42 < 0.05)))\n",
    "print('tac2: {0} cells are significant'.format(np.sum(pv_tac22 < 0.05)))\n",
    "\n",
    "print('')\n",
    "\n",
    "print('npy2r & tac2: {0} cells are significant'.format(np.sum(np.logical_and(pv_npy2r2 < 0.05, pv_tac22 < 0.05))))\n",
    "print('car4 & tac2: {0} cells are significant'.format(np.sum(np.logical_and(pv_car42 < 0.05, pv_tac22 < 0.05))))\n",
    "print('npy2r & car4: {0} cells are significant'.format(np.sum(np.logical_and(pv_npy2r2 < 0.05, pv_car42 < 0.05))))\n",
    "\n",
    "print('')\n",
    "print('With lipofuscin pixels exluded, in binarized images:')\n",
    "\n",
    "print('npy2r: {0} cells are significant'.format(np.sum(pv_npy2r3 < 0.05)))\n",
    "print('car4: {0} cells are significant'.format(np.sum(pv_car43 < 0.05)))\n",
    "print('tac2: {0} cells are significant'.format(np.sum(pv_tac23 < 0.05)))\n",
    "\n",
    "print('')\n",
    "\n",
    "print('npy2r & tac2: {0} cells are significant'.format(np.sum(np.logical_and(pv_npy2r3 < 0.05, pv_tac23 < 0.05))))\n",
    "print('car4 & tac2: {0} cells are significant'.format(np.sum(np.logical_and(pv_car43 < 0.05, pv_tac23 < 0.05))))\n",
    "print('npy2r & car4: {0} cells are significant'.format(np.sum(np.logical_and(pv_npy2r3 < 0.05, pv_car43 < 0.05))))"
   ]
  },
  {
   "cell_type": "markdown",
   "metadata": {
    "heading_collapsed": true
   },
   "source": [
    "# Find cortex surface and calculate depths"
   ]
  },
  {
   "cell_type": "code",
   "execution_count": 98,
   "metadata": {
    "ExecuteTime": {
     "end_time": "2020-03-06T20:00:06.784627Z",
     "start_time": "2020-03-06T20:00:06.560611Z"
    },
    "hidden": true
   },
   "outputs": [
    {
     "name": "stdout",
     "output_type": "stream",
     "text": [
      "Depths loaded\n"
     ]
    }
   ],
   "source": [
    "save_loc = 'G:\\\\Shared drives\\\\as_share\\\\HCR\\\\HCR_10.17'\n",
    "save_file = 'S1_depths.pkl'\n",
    "\n",
    "try:\n",
    "    with open('{0}\\\\{1}'.format(save_loc, save_file), 'rb') as f:\n",
    "        depths = pkl.load(f)\n",
    "        print('Depths loaded')\n",
    "except:\n",
    "    print('Data not found, draw cortex surface and execute lower cell')"
   ]
  },
  {
   "cell_type": "code",
   "execution_count": 51,
   "metadata": {
    "ExecuteTime": {
     "end_time": "2020-03-22T02:56:42.783150Z",
     "start_time": "2020-03-22T02:56:42.431091Z"
    },
    "hidden": true
   },
   "outputs": [
    {
     "data": {
      "text/plain": [
       "<Shapes layer 'surface' at 0x1d83335e588>"
      ]
     },
     "execution_count": 51,
     "metadata": {},
     "output_type": "execute_result"
    }
   ],
   "source": [
    "viewer.add_shapes(data = None, name = 'surface')"
   ]
  },
  {
   "cell_type": "code",
   "execution_count": 52,
   "metadata": {
    "ExecuteTime": {
     "end_time": "2020-03-22T03:02:32.605147Z",
     "start_time": "2020-03-22T03:02:32.568246Z"
    },
    "hidden": true
   },
   "outputs": [],
   "source": [
    "um_per_px = 0.19\n",
    "save_loc = 'G:\\\\Shared drives\\\\as_share\\\\HCR\\\\HCR 3.11\\\\S3'\n",
    "save_file = 'S3_depths.pkl'\n",
    "\n",
    "def find_depth(d1, d2, cell_center): #d1 and d2 are two points on the surface closest to the cell center\n",
    "    \n",
    "    dx = d2[0] - d1[0]\n",
    "    dy = d2[1] - d1[1]\n",
    "    d1_cell_x = cell_center[0] - d1[0]\n",
    "    d1_cell_y = cell_center[1] - d1[1]\n",
    "    t = (dx * d1_cell_x + dy * d1_cell_y) / (dx * dx + dy * dy)\n",
    "    px = d1[0] + t * dx # Projection of cell center onto line joining d1 and d2\n",
    "    py = d1[1] + t * dy\n",
    "    depth = np.linalg.norm([px - cell_center[0], py - cell_center[1]])\n",
    "    return depth\n",
    "\n",
    "# Draw surface and calculate depths\n",
    "surface = viewer.layers['surface'].data[-1][:, 1:]\n",
    "depths = np.zeros(Cell.n_cells)\n",
    "\n",
    "for cell in range(Cell.n_cells):\n",
    "    pls = centers[cell].keys()\n",
    "    cx = []\n",
    "    cy = []\n",
    "    for pl in pls:\n",
    "        cx = np.append(cx, centers[cell][pl][0])\n",
    "        cy = np.append(cy, centers[cell][pl][1])\n",
    "    c = [np.mean(cx), np.mean(cy)]\n",
    "    distances = np.linalg.norm(c - surface, axis = 1)\n",
    "    order = np.argsort(distances)\n",
    "    [p1, p2] = order[0:2]\n",
    "    d1 = surface[p1]\n",
    "    d2 = surface[p2]\n",
    "    depths[cell] = find_depth(d1, d2, c)\n",
    "depths = depths*um_per_px\n",
    "\n",
    "with open('{0}\\\\{1}'.format(save_loc, save_file), 'wb') as f:\n",
    "        pkl.dump(depths, f)\n"
   ]
  },
  {
   "cell_type": "markdown",
   "metadata": {},
   "source": [
    "# Plots"
   ]
  },
  {
   "cell_type": "markdown",
   "metadata": {
    "heading_collapsed": true
   },
   "source": [
    "## 2D scatter plot of pixel values (pairs of channels)"
   ]
  },
  {
   "cell_type": "code",
   "execution_count": 26,
   "metadata": {
    "ExecuteTime": {
     "end_time": "2020-03-06T18:50:43.160543Z",
     "start_time": "2020-03-06T18:50:40.722043Z"
    },
    "hidden": true
   },
   "outputs": [],
   "source": [
    "img_dict = {'Ndnf': im_bin_ndnf, 'Sst': im_bin_sst, 'Vip': im_bin_vip}\n",
    "#img_dict = {'Ndnf': im_diff_ndnf, 'Sst': im_diff_sst, 'Vip': im_diff_vip}\n",
    "#img_dict = {'Ndnf': im_array_ndnf, 'Sst': im_array_sst, 'Vip': im_array_vip}\n",
    "\n",
    "pixels_dict = {'Cells': all_cell_pixels, 'Lipofuscin': all_lipo_pixels}\n",
    "#pixels_dict = {'Cells': all_cell_pixels}\n",
    "\n",
    "colors_dict = {'Cells': 'b', 'Lipofuscin': 'k'}\n",
    "title = 'Diff gauss sigma = ({0}, {1}); binarized above {2} std from median'.format(sigma_small, sigma_large, thresh_scale)\n",
    "#title = 'Raw images'\n",
    "save_loc = 'G:\\\\Shared drives\\\\as_share\\\\HCR\\\\HCR_10.17\\\\S1_scatter_plots'\n",
    "save_file = '{0} scatter lipo + cells.png'.format(title)\n",
    "#save_file = '{0} scatter cells.png'.format(title)\n",
    "\n",
    "scatter_channels.scatter_channels(img_dict, pixels_dict, max_per_group= 100000, colors_dict = colors_dict, \n",
    "                                  title = title, save = True, save_loc = save_loc, save_file = save_file)\n",
    "\n",
    "del img_dict\n",
    "del pixels_dict"
   ]
  },
  {
   "cell_type": "markdown",
   "metadata": {
    "heading_collapsed": true
   },
   "source": [
    "## 3D scatter plot of pixel values (3 channels)"
   ]
  },
  {
   "cell_type": "code",
   "execution_count": 17,
   "metadata": {
    "ExecuteTime": {
     "end_time": "2020-03-22T02:20:11.564092Z",
     "start_time": "2020-03-22T02:20:05.844398Z"
    },
    "hidden": true
   },
   "outputs": [
    {
     "data": {
      "image/png": "[encoded data removed]",
      "text/plain": [
       "<Figure size 1440x1440 with 1 Axes>"
      ]
     },
     "metadata": {
      "needs_background": "light"
     },
     "output_type": "display_data"
    }
   ],
   "source": [
    "img_dict = {'Npy2r': im_bin_npy2r, 'Tac2': im_bin_tac2, 'Vip': im_bin_vip}\n",
    "#img_dict = {'Npy2r': im_diff_npy2r, 'Tac2': im_diff_tac2, 'Vip': im_diff_vip, 'Car4': im_diff_car4}\n",
    "#img_dict = {'Ndnf': im_diff_ndnf, 'Sst': im_diff_sst, 'Vip': im_diff_vip}\n",
    "#img_dict = {'Ndnf': im_array_ndnf, 'Sst': im_array_sst, 'Vip': im_array_vip}\n",
    "\n",
    "pixels_dict = {'Cells': all_cell_pixels, 'Lipofuscin': all_lipo_pixels}\n",
    "#pixels_dict = {'Cells': all_cell_pixels}\n",
    "#pixels_dict = {'Lipofuscin': all_lipo_pixels}\n",
    "\n",
    "\n",
    "#colors_dict = {'Cells': 'b', 'Lipofuscin': 'k'}\n",
    "#colors_dict = {'Cells': m_dist_vals['Cells'], 'Lipofuscin': m_dist_vals['Lipofuscin']}\n",
    "colors_dict = {'Cells': np.log(m_dist_vals['Cells']), 'Lipofuscin': 'r'}\n",
    "\n",
    "title = 'Sub-sampled diff gauss sigma = ({0}, {1}) \\n binarized above {2} std from median \\n color = log mahalanobis distance from lipofuscin pixels'.format(sigma_small, sigma_large, thresh_scale)\n",
    "#title = 'Raw images'\n",
    "\n",
    "save_loc = 'G:\\\\Shared drives\\\\as_share\\\\HCR\\\\HCR 3.11\\\\S3\\\\Plots'\n",
    "save_file = '3D scatter lipo + cells mahalanobis distance.png'\n",
    "#save_file = '{0} 3D scatter cells.png'.format(title)\n",
    "#save_file = '{0} 3D scatter lipo.png'.format(title)\n",
    "#save_file=  '3D scatter lipo.png'\n",
    "\n",
    "scatter_channels.scatter_channels(img_dict, pixels_dict, max_per_group= 100000, colors_dict = colors_dict,\n",
    "                                  make_3D = True,\n",
    "                                  title = title, save = True, save_loc = save_loc, save_file = save_file)\n",
    "\n",
    "del img_dict\n",
    "del pixels_dict"
   ]
  },
  {
   "cell_type": "code",
   "execution_count": 47,
   "metadata": {
    "ExecuteTime": {
     "end_time": "2020-03-06T19:19:01.083705Z",
     "start_time": "2020-03-06T19:19:01.060765Z"
    },
    "hidden": true
   },
   "outputs": [
    {
     "data": {
      "text/plain": [
       "5.031541064199322"
      ]
     },
     "execution_count": 47,
     "metadata": {},
     "output_type": "execute_result"
    }
   ],
   "source": [
    "np.max(np.log(m_dist_vals['Cells']))"
   ]
  },
  {
   "cell_type": "markdown",
   "metadata": {
    "hidden": true
   },
   "source": [
    "### Simple"
   ]
  },
  {
   "cell_type": "code",
   "execution_count": 30,
   "metadata": {
    "ExecuteTime": {
     "end_time": "2020-03-06T19:00:11.442458Z",
     "start_time": "2020-03-06T19:00:11.420517Z"
    },
    "hidden": true
   },
   "outputs": [],
   "source": [
    "ax = plt.axes(projection = '3d')\n",
    "ax.scatter3D()\n",
    "\n"
   ]
  },
  {
   "cell_type": "markdown",
   "metadata": {
    "heading_collapsed": true
   },
   "source": [
    "## Histogram of pixel values in each channel"
   ]
  },
  {
   "cell_type": "code",
   "execution_count": 25,
   "metadata": {
    "ExecuteTime": {
     "end_time": "2020-03-06T18:48:47.078858Z",
     "start_time": "2020-03-06T18:48:45.453207Z"
    },
    "hidden": true
   },
   "outputs": [],
   "source": [
    "#img_dict = {'Ndnf': im_diff_ndnf, 'Sst': im_diff_sst, 'Vip': im_diff_vip}\n",
    "img_dict = {'Ndnf': im_array_ndnf, 'Sst': im_array_sst, 'Vip': im_array_vip}\n",
    "\n",
    "pixels_dict = {'Cells': all_cell_pixels, 'Lipofuscin': all_lipo_pixels}\n",
    "#pixels_dict = {'Cells': all_cell_pixels}\n",
    "colors_dict = {'Cells': 'b', 'Lipofuscin': 'k'}\n",
    "#title = 'Diff gauss sigma = ({0}, {1})'.format(sigma_small, sigma_large)\n",
    "title = 'Raw images'\n",
    "save_loc = 'G:\\\\Shared drives\\\\as_share\\\\HCR\\\\HCR_10.17\\\\S1_scatter_plots'\n",
    "save_file = '{0} hist lipo + cells.png'.format(title)\n",
    "#save_file = '{0} hist cells.png'.format(title)\n",
    "\n",
    "hist_channels.hist_channels(img_dict, pixels_dict, max_per_group= 100000, colors_dict = colors_dict, \n",
    "                            title = title, save = True, save_loc = save_loc, save_file = save_file)\n",
    "\n",
    "del img_dict\n",
    "del pixels_dict"
   ]
  },
  {
   "cell_type": "markdown",
   "metadata": {},
   "source": [
    "## Signal vs depth"
   ]
  },
  {
   "cell_type": "markdown",
   "metadata": {},
   "source": [
    "### Using p-value for significance"
   ]
  },
  {
   "cell_type": "code",
   "execution_count": 55,
   "metadata": {
    "ExecuteTime": {
     "end_time": "2020-03-22T03:05:20.588817Z",
     "start_time": "2020-03-22T03:05:19.582512Z"
    }
   },
   "outputs": [
    {
     "data": {
      "text/plain": [
       "Text(0.5, 1.0, 'tac2: lipofuscin pixels excluded; Binarized images')"
      ]
     },
     "execution_count": 55,
     "metadata": {},
     "output_type": "execute_result"
    },
    {
     "data": {
      "image/png": "[encoded data removed]",
      "text/plain": [
       "<Figure size 1440x1440 with 9 Axes>"
      ]
     },
     "metadata": {
      "needs_background": "light"
     },
     "output_type": "display_data"
    }
   ],
   "source": [
    "# Plot intensity vs depth for all channels\n",
    "fig, ax = plt.subplots(nrows = 3, ncols = 3, figsize = (20, 20))\n",
    "    \n",
    "d = depths\n",
    "\n",
    "npos = pv_npy2r < 0.05\n",
    "vpos = pv_car4 < 0.05\n",
    "spos = pv_tac2 < 0.05\n",
    "\n",
    "n = avg_intensity_npy2r\n",
    "v = avg_intensity_car4\n",
    "s = avg_intensity_tac2\n",
    "\n",
    "bn = avg_bg_npy2r\n",
    "bv = avg_bg_car4\n",
    "bs = avg_bg_tac2\n",
    "\n",
    "ax[0, 0].scatter(d, n - bn, color = 'b', alpha = 0.1, marker = '.')\n",
    "ax[0, 0].scatter(d[npos], n[npos] - bn[npos], color = 'b', marker = '.')\n",
    "#ax[0, 0].set_xlabel('Depth from pia (um)')\n",
    "ax[0, 0].set_ylabel('Intensity in channel (bold => p < 0.05)')\n",
    "ax[0, 0].set_title('npy2r: all pixels')\n",
    "\n",
    "ax[0, 1].scatter(d, v - bv, color = 'r', alpha = 0.1, marker = '.')\n",
    "ax[0, 1].scatter(d[vpos], v[vpos] - bv[vpos], color = 'r', marker = '.')\n",
    "#ax[0, 1].set_xlabel('Depth from pia (um)')\n",
    "ax[0, 1].set_title('car4: all pixels')\n",
    "\n",
    "ax[0, 2].scatter(d, s - bs, color = 'g', alpha = 0.1, marker = '.')\n",
    "ax[0, 2].scatter(d[spos], s[spos] - bs[spos], color = 'g', marker = '.')\n",
    "#ax[0, 2].set_xlabel('Depth from pia (um)')\n",
    "ax[0, 2].set_title('tac2: all pixels')\n",
    "\n",
    "n = int_npy2r\n",
    "v = int_car4\n",
    "s = int_tac2\n",
    "\n",
    "npos2 = pv_npy2r2 < 0.05\n",
    "vpos2 = pv_car42 < 0.05\n",
    "spos2 = pv_tac22 < 0.05\n",
    "\n",
    "ax[1, 0].scatter(d, n - bn, color = 'b', alpha = 0.1, marker = '.')\n",
    "ax[1, 0].scatter(d[npos2], n[npos2] - bn[npos2], color = 'b', marker = '.')\n",
    "#ax[1, 0].set_xlabel('Depth from pia (um)')\n",
    "ax[1, 0].set_ylabel('Intensity in channel (bold => p < 0.05)')\n",
    "ax[1, 0].set_title('npy2r: lipofuscin pixels excluded')\n",
    "\n",
    "ax[1, 1].scatter(d, v - bv, color = 'r', alpha = 0.1, marker = '.')\n",
    "ax[1, 1].scatter(d[vpos2], v[vpos2] - bv[vpos2], color = 'r', marker = '.')\n",
    "#ax[1, 1].set_xlabel('Depth from pia (um)')\n",
    "ax[1, 1].set_title('car4: lipofuscin pixels excluded')\n",
    "\n",
    "ax[1, 2].scatter(d, s - bs, color = 'g', alpha = 0.1, marker = '.')\n",
    "ax[1, 2].scatter(d[spos2], s[spos2] - bs[spos2], color = 'g', marker = '.')\n",
    "#ax[1, 2].set_xlabel('Depth from pia (um)')\n",
    "ax[1, 2].set_title('tac2: lipofuscin pixels excluded')\n",
    "\n",
    "n = int_npy2r_bin\n",
    "v = int_car4_bin\n",
    "s = int_tac2_bin\n",
    "\n",
    "bn = avg_bg_npy2r_bin\n",
    "bv = avg_bg_car4_bin\n",
    "bs = avg_bg_tac2_bin\n",
    "\n",
    "npos3 = pv_npy2r3 < 0.05\n",
    "vpos3 = pv_car43 < 0.05\n",
    "spos3 = pv_tac23 < 0.05\n",
    "\n",
    "# vpos3 = int_car4_bin - avg_bg_car4_bin > 200\n",
    "# spos3 = int_tac2_bin - avg_bg_tac2_bin > 500\n",
    "\n",
    "\n",
    "ax[2, 0].scatter(d, n - bn, color = 'b', alpha = 0.1, marker = '.')\n",
    "ax[2, 0].scatter(d[npos3], n[npos3] - bn[npos3], color = 'b', marker = '.')\n",
    "ax[2, 0].set_xlabel('Depth from pia (um)')\n",
    "ax[2, 0].set_ylabel('Intensity in channel (bold => p < 0.05)')\n",
    "ax[2, 0].set_title('npy2r: lipofuscin pixels excluded; Binarized images')\n",
    "\n",
    "ax[2, 1].scatter(d, v - bv, color = 'r', alpha = 0.1, marker = '.')\n",
    "ax[2, 1].scatter(d[vpos3], v[vpos3] - bv[vpos3], color = 'r', marker = '.')\n",
    "ax[2, 1].set_xlabel('Depth from pia (um)')\n",
    "ax[2, 1].set_title('car4: lipofuscin pixels excluded; Binarized images')\n",
    "\n",
    "ax[2, 2].scatter(d, s - bs, color = 'g', alpha = 0.1, marker = '.')\n",
    "ax[2, 2].scatter(d[spos3], s[spos3] - bs[spos3], color = 'g', marker = '.')\n",
    "ax[2, 2].set_xlabel('Depth from pia (um)')\n",
    "ax[2, 2].set_title('tac2: lipofuscin pixels excluded; Binarized images')\n"
   ]
  },
  {
   "cell_type": "markdown",
   "metadata": {
    "heading_collapsed": true
   },
   "source": [
    "### Using 95% confidence interval for significance"
   ]
  },
  {
   "cell_type": "code",
   "execution_count": 100,
   "metadata": {
    "ExecuteTime": {
     "end_time": "2020-03-06T20:02:19.128895Z",
     "start_time": "2020-03-06T20:02:18.987274Z"
    },
    "hidden": true
   },
   "outputs": [
    {
     "data": {
      "text/plain": [
       "Text(0.5, 1.0, 'Sst: lipofuscin pixels excluded')"
      ]
     },
     "execution_count": 100,
     "metadata": {},
     "output_type": "execute_result"
    }
   ],
   "source": [
    "# Plot intensity vs depth for all channels\n",
    "fig, ax = plt.subplots(nrows = 2, ncols = 3)\n",
    "    \n",
    "d = depths\n",
    "\n",
    "n = avg_intensity_ndnf\n",
    "v = avg_intensity_vip\n",
    "s = avg_intensity_sst\n",
    "\n",
    "bn = avg_bg_ndnf\n",
    "bv = avg_bg_vip\n",
    "bs = avg_bg_sst\n",
    "\n",
    "npos = n - bn > ci_ndnf\n",
    "vpos = v - bv > ci_vip\n",
    "spos = s - bs > ci_sst\n",
    "\n",
    "ax[0, 0].scatter(d, n - bn, color = 'b', alpha = 0.1, marker = '.')\n",
    "ax[0, 0].scatter(d[npos], n[npos] - bn[npos], color = 'b', marker = '.')\n",
    "ax[0, 0].set_xlabel('Depth from pia (um)')\n",
    "ax[0, 0].set_ylabel('Intensity in channel (bold => 95% CI)')\n",
    "ax[0, 0].set_title('Ndnf: all pixels')\n",
    "\n",
    "ax[0, 1].scatter(d, v - bv, color = 'r', alpha = 0.1, marker = '.')\n",
    "ax[0, 1].scatter(d[vpos], v[vpos] - bv[vpos], color = 'r', marker = '.')\n",
    "ax[0, 1].set_xlabel('Depth from pia (um)')\n",
    "ax[0, 1].set_title('Vip: all pixels')\n",
    "\n",
    "ax[0, 2].scatter(d, s - bs, color = 'g', alpha = 0.1, marker = '.')\n",
    "ax[0, 2].scatter(d[spos], s[spos] - bs[spos], color = 'g', marker = '.')\n",
    "ax[0, 2].set_xlabel('Depth from pia (um)')\n",
    "ax[0, 2].set_title('Sst: all pixels')\n",
    "\n",
    "n = int_ndnf\n",
    "v = int_vip\n",
    "s = int_sst\n",
    "\n",
    "npos = n - bn > ci_ndnf\n",
    "vpos = v - bv > ci_vip\n",
    "spos = s - bs > ci_sst\n",
    "\n",
    "ax[1, 0].scatter(d, n - bn, color = 'b', alpha = 0.1, marker = '.')\n",
    "ax[1, 0].scatter(d[npos2], n[npos2] - bn[npos2], color = 'b', marker = '.')\n",
    "ax[1, 0].set_xlabel('Depth from pia (um)')\n",
    "ax[1, 0].set_ylabel('Intensity in channel (bold => 95% CI)')\n",
    "ax[1, 0].set_title('Ndnf: lipofuscin pixels excluded')\n",
    "\n",
    "ax[1, 1].scatter(d, v - bv, color = 'r', alpha = 0.1, marker = '.')\n",
    "ax[1, 1].scatter(d[vpos2], v[vpos2] - bv[vpos2], color = 'r', marker = '.')\n",
    "ax[1, 1].set_xlabel('Depth from pia (um)')\n",
    "ax[1, 1].set_title('Vip: lipofuscin pixels excluded')\n",
    "\n",
    "ax[1, 2].scatter(d, s - bs, color = 'g', alpha = 0.1, marker = '.')\n",
    "ax[1, 2].scatter(d[spos2], s[spos2] - bs[spos2], color = 'g', marker = '.')\n",
    "ax[1, 2].set_xlabel('Depth from pia (um)')\n",
    "ax[1, 2].set_title('Sst: lipofuscin pixels excluded')\n"
   ]
  },
  {
   "cell_type": "code",
   "execution_count": null,
   "metadata": {
    "hidden": true
   },
   "outputs": [],
   "source": []
  }
 ],
 "metadata": {
  "kernelspec": {
   "display_name": "Python 3",
   "language": "python",
   "name": "python3"
  },
  "language_info": {
   "codemirror_mode": {
    "name": "ipython",
    "version": 3
   },
   "file_extension": ".py",
   "mimetype": "text/x-python",
   "name": "python",
   "nbconvert_exporter": "python",
   "pygments_lexer": "ipython3",
   "version": "3.7.4"
  },
  "toc": {
   "base_numbering": 1,
   "nav_menu": {},
   "number_sections": true,
   "sideBar": true,
   "skip_h1_title": false,
   "title_cell": "Table of Contents",
   "title_sidebar": "Contents",
   "toc_cell": false,
   "toc_position": {},
   "toc_section_display": true,
   "toc_window_display": false
  },
  "varInspector": {
   "cols": {
    "lenName": 16,
    "lenType": 16,
    "lenVar": 40
   },
   "kernels_config": {
    "python": {
     "delete_cmd_postfix": "",
     "delete_cmd_prefix": "del ",
     "library": "var_list.py",
     "varRefreshCmd": "print(var_dic_list())"
    },
    "r": {
     "delete_cmd_postfix": ") ",
     "delete_cmd_prefix": "rm(",
     "library": "var_list.r",
     "varRefreshCmd": "cat(var_dic_list()) "
    }
   },
   "oldHeight": 731.4,
   "position": {
    "height": "753.391px",
    "left": "1748px",
    "right": "20px",
    "top": "119px",
    "width": "451px"
   },
   "types_to_exclude": [
    "module",
    "function",
    "builtin_function_or_method",
    "instance",
    "_Feature"
   ],
   "varInspector_section_display": "block",
   "window_display": true
  }
 },
 "nbformat": 4,
 "nbformat_minor": 2
}
