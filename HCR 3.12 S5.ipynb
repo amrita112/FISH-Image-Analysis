{
 "cells": [
  {
   "cell_type": "markdown",
   "metadata": {
    "heading_collapsed": true
   },
   "source": [
    "# Imports"
   ]
  },
  {
   "cell_type": "code",
   "execution_count": 1,
   "metadata": {
    "ExecuteTime": {
     "end_time": "2020-03-27T02:57:02.168995Z",
     "start_time": "2020-03-27T02:56:57.646097Z"
    },
    "hidden": true
   },
   "outputs": [
    {
     "name": "stderr",
     "output_type": "stream",
     "text": [
      "C:\\Users\\JRCLUST\\Anaconda3\\lib\\site-packages\\napari\\__init__.py:27: UserWarning: \n",
      "    napari was tested with QT library `>=5.12.3`.\n",
      "    The version installed is 5.9.6. Please report any issues with this\n",
      "    specific QT version at https://github.com/Napari/napari/issues.\n",
      "    \n",
      "  warn(message=warn_message)\n"
     ]
    }
   ],
   "source": [
    "%matplotlib qt\n",
    "\n",
    "from IPython import get_ipython\n",
    "ipython = get_ipython()\n",
    "ipython.magic(\"gui qt5\") \n",
    "\n",
    "import napari\n",
    "from PIL import Image\n",
    "\n",
    "import numpy as np\n",
    "import cv2\n",
    "\n",
    "import matplotlib.pyplot as plt\n",
    "from mpl_toolkits import mplot3d\n",
    "import matplotlib.colors as colors\n",
    "import matplotlib.path as mpltpath\n",
    "\n",
    "from bisect import bisect_left\n",
    "\n",
    "\n",
    "import time\n",
    "\n",
    "import pickle as pkl\n",
    "import h5py\n",
    "from os.path import sep\n",
    "\n",
    "import Cell\n",
    "import pixels_in_roi\n",
    "import diff_gauss\n",
    "import scatter_channels\n",
    "import hist_channels\n",
    "import m_dist\n",
    "\n",
    "from skimage.measure import profile_line"
   ]
  },
  {
   "cell_type": "markdown",
   "metadata": {
    "heading_collapsed": true
   },
   "source": [
    "# Load images"
   ]
  },
  {
   "cell_type": "markdown",
   "metadata": {
    "heading_collapsed": true,
    "hidden": true
   },
   "source": [
    "## Raw images"
   ]
  },
  {
   "cell_type": "markdown",
   "metadata": {
    "heading_collapsed": true,
    "hidden": true
   },
   "source": [
    "### Specify planes"
   ]
  },
  {
   "cell_type": "code",
   "execution_count": 26,
   "metadata": {
    "ExecuteTime": {
     "end_time": "2020-03-27T03:57:57.623484Z",
     "start_time": "2020-03-27T03:57:57.558658Z"
    },
    "hidden": true
   },
   "outputs": [
    {
     "name": "stdout",
     "output_type": "stream",
     "text": [
      "Number of planes: 13\n"
     ]
    }
   ],
   "source": [
    "t0 = time.time()\n",
    "folder = 'G:{0}Shared drives{0}as_share{0}HCR{0}HCR 3.12{0}S5{0}S5_raw_tiff_images'.format(sep)\n",
    "plane_nos = range(1, 14)\n",
    "\n",
    "# base_filename2 = 'S1_dapi_546_488_647_s2z'\n",
    "base_filename = 'S5_z'\n",
    "n = len(plane_nos)\n",
    "print('Number of planes: {0}'.format(n))\n",
    "\n",
    "# Create 4D array to store images\n",
    "img = Image.open('{0}{1}{2}{3}_ChS1-T3_ORG.tif'.format(folder, sep, base_filename, str(plane_nos[0]).zfill(2)))\n",
    "\n",
    "h = img.height\n",
    "w = img.width"
   ]
  },
  {
   "cell_type": "markdown",
   "metadata": {
    "heading_collapsed": true,
    "hidden": true
   },
   "source": [
    "### Load images"
   ]
  },
  {
   "cell_type": "code",
   "execution_count": 2,
   "metadata": {
    "ExecuteTime": {
     "end_time": "2020-03-27T02:58:38.501397Z",
     "start_time": "2020-03-27T02:57:16.641413Z"
    },
    "hidden": true
   },
   "outputs": [
    {
     "name": "stdout",
     "output_type": "stream",
     "text": [
      "Number of planes: 13\n",
      "Size of image in pixels: 13 X 4709 X 12082\n",
      "Loading image 1, 0.0 seconds\n",
      "Loading image 2, 6.0 seconds\n",
      "Loading image 3, 13.0 seconds\n",
      "Loading image 4, 19.0 seconds\n",
      "Loading image 5, 25.0 seconds\n",
      "Loading image 6, 31.0 seconds\n",
      "Loading image 7, 38.0 seconds\n",
      "Loading image 8, 44.0 seconds\n",
      "Loading image 9, 50.0 seconds\n",
      "Loading image 10, 57.0 seconds\n",
      "Loading image 11, 63.0 seconds\n",
      "Loading image 12, 69.0 seconds\n",
      "Loading image 13, 75.0 seconds\n"
     ]
    }
   ],
   "source": [
    "t0 = time.time()\n",
    "folder = 'G:{0}Shared drives{0}as_share{0}HCR{0}HCR 3.12{0}S5{0}S5_raw_tiff_images'.format(sep)\n",
    "plane_nos = range(1, 14)\n",
    "\n",
    "# base_filename2 = 'S1_dapi_546_488_647_s2z'\n",
    "base_filename = 'S5_z'\n",
    "n = len(plane_nos)\n",
    "print('Number of planes: {0}'.format(n))\n",
    "\n",
    "# Create 4D array to store images\n",
    "img = Image.open('{0}{1}{2}{3}_ChS1-T3_ORG.tif'.format(folder, sep, base_filename, str(plane_nos[0]).zfill(2)))\n",
    "\n",
    "h = img.height\n",
    "w = img.width\n",
    "#im_array_gad1 = np.zeros([n, h, w])\n",
    "im_array_vip = np.zeros([n, h, w])\n",
    "im_array_sst = np.zeros([n, h, w])\n",
    "im_array_ndnf = np.zeros([n, h, w])\n",
    "#im_array_dapi = np.zeros([n, h, w])\n",
    "\n",
    "print('Size of image in pixels: {0} X {1} X {2}'.format(n, h, w))\n",
    "\n",
    "for i in range(n):\n",
    "    print('Loading image {0}, {1} seconds'.format(i + 1, np.round(time.time() - t0)))\n",
    "    p = plane_nos[i]\n",
    "    #img_gad1 = Image.open('{0}{1}{2}{3}_ChS1-T3_ORG.tif'.format(folder, sep, base_filename, str(p).zfill(2)))\n",
    "    img_vip = Image.open('{0}{1}{2}{3}_ChS2-T3_ORG.tif'.format(folder, sep, base_filename, str(p).zfill(2)))\n",
    "    img_sst = Image.open('{0}{1}{2}{3}_ChS2-T2_ORG.tif'.format(folder, sep, base_filename, str(p).zfill(2)))\n",
    "    img_ndnf = Image.open('{0}{1}{2}{3}_ChS2-T1_ORG.tif'.format(folder, sep, base_filename, str(p).zfill(2)))\n",
    "    #img_dapi = Image.open('{0}{1}{2}{3}_ChS1-T1_ORG.tif'.format(folder, sep, base_filename, str(p).zfill(2)))\n",
    "\n",
    "    try:\n",
    "        #im_array_gad1[i, :, :] = np.array(img_gad1)\n",
    "        im_array_vip[i, :, :] = np.array(img_vip)\n",
    "        im_array_sst[i, :, :] = np.array(img_sst)\n",
    "        im_array_ndnf[i, :, :] = np.array(img_ndnf)\n",
    "        #im_array_dapi[i, :, :] = np.array(img_dapi)\n",
    "    except:\n",
    "        print('Plane {0} could not be loaded'.format(p))\n",
    "        print('Size of plane {0} in pixels: {0} X {1}'.format(img.height, img.width))\n",
    "        #im_array_gad1 = np.delete(im_array_gad1, i, axis = 0)\n",
    "        im_array_vip = np.delete(im_array_vip, i, axis = 0)\n",
    "        im_array_sst = np.delete(im_array_sst, i, axis = 0)\n",
    "        im_array_ndnf = np.delete(im_array_ndnf, i, axis = 0)\n",
    "        plane_nos.remove(p)\n",
    "        i -= 1\n",
    "        n = len(plane_nos)\n",
    "        continue\n",
    "\n",
    "#del img_gad1\n",
    "del img_vip\n",
    "del img_sst\n",
    "del img_ndnf\n",
    "#del img_dapi"
   ]
  },
  {
   "cell_type": "markdown",
   "metadata": {
    "heading_collapsed": true,
    "hidden": true
   },
   "source": [
    "## Gaussian blurred images"
   ]
  },
  {
   "cell_type": "code",
   "execution_count": 37,
   "metadata": {
    "ExecuteTime": {
     "end_time": "2020-03-22T19:38:11.768605Z",
     "start_time": "2020-03-22T19:37:56.371216Z"
    },
    "hidden": true
   },
   "outputs": [
    {
     "name": "stdout",
     "output_type": "stream",
     "text": [
      "Number of planes: 13\n",
      "Size of image in pixels: 13 X 4709 X 12082\n",
      "Loading image 1, 0.0 seconds\n",
      "Loading image 2, 1.0 seconds\n",
      "Loading image 3, 2.0 seconds\n",
      "Loading image 4, 4.0 seconds\n",
      "Loading image 5, 5.0 seconds\n",
      "Loading image 6, 6.0 seconds\n",
      "Loading image 7, 7.0 seconds\n",
      "Loading image 8, 8.0 seconds\n",
      "Loading image 9, 10.0 seconds\n",
      "Loading image 10, 11.0 seconds\n",
      "Loading image 11, 12.0 seconds\n",
      "Loading image 12, 13.0 seconds\n",
      "Loading image 13, 14.0 seconds\n"
     ]
    }
   ],
   "source": [
    "# %% Load images\n",
    "t0 = time.time()\n",
    "folder = 'G:{0}Shared drives{0}as_share{0}HCR{0}HCR 3.12{0}S5{0}S5_blurred_tiff_images'.format(sep)\n",
    "plane_nos = range(1, 14)\n",
    "\n",
    "# base_filename2 = 'S1_dapi_546_488_647_s2z'\n",
    "base_filename = 'S5_z'\n",
    "n = len(plane_nos)\n",
    "print('Number of planes: {0}'.format(n))\n",
    "\n",
    "# Create 4D array to store images\n",
    "img = Image.open('{0}{1}{2}{3}_Gad1_5px_gauss_blur.tif'.format(folder, sep, base_filename, str(plane_nos[0]).zfill(2)))\n",
    "\n",
    "h = img.height\n",
    "w = img.width\n",
    "im_array_gad1_blur = np.zeros([n, h, w])\n",
    "# im_array_vip = np.zeros([n, h, w])\n",
    "# im_array_sst = np.zeros([n, h, w])\n",
    "# im_array_ndnf = np.zeros([n, h, w])\n",
    "# im_array_dapi = np.zeros([n, h, w])\n",
    "\n",
    "print('Size of image in pixels: {0} X {1} X {2}'.format(n, h, w))\n",
    "\n",
    "for i in range(n):\n",
    "    print('Loading image {0}, {1} seconds'.format(i + 1, np.round(time.time() - t0)))\n",
    "    p = plane_nos[i]\n",
    "    img_gad1 = Image.open('{0}{1}{2}{3}_Gad1_5px_gauss_blur.tif'.format(folder, sep, base_filename, str(p).zfill(2)))\n",
    "#     img_vip = Image.open('{0}{1}{2}{3}_ChS2-T3_ORG.tif'.format(folder, sep, base_filename, str(p).zfill(2)))\n",
    "#     img_sst = Image.open('{0}{1}{2}{3}_ChS2-T2_ORG.tif'.format(folder, sep, base_filename, str(p).zfill(2)))\n",
    "#     img_ndnf = Image.open('{0}{1}{2}{3}_ChS2-T1_ORG.tif'.format(folder, sep, base_filename, str(p).zfill(2)))\n",
    "#     img_dapi = Image.open('{0}{1}{2}{3}_ChS1-T1_ORG.tif'.format(folder, sep, base_filename, str(p).zfill(2)))\n",
    "\n",
    "    try:\n",
    "        im_array_gad1_blur[i, :, :] = np.array(img_gad1)\n",
    "#         im_array_vip[i, :, :] = np.array(img_vip)\n",
    "#         im_array_sst[i, :, :] = np.array(img_sst)\n",
    "#         im_array_ndnf[i, :, :] = np.array(img_ndnf)\n",
    "#         im_array_dapi[i, :, :] = np.array(img_dapi)\n",
    "    except:\n",
    "        print('Plane {0} could not be loaded'.format(p))\n",
    "        print('Size of plane {0} in pixels: {0} X {1}'.format(img.height, img.width))\n",
    "        im_array_gad1 = np.delete(im_array_gad1, i, axis = 0)\n",
    "        im_array_vip = np.delete(im_array_vip, i, axis = 0)\n",
    "        im_array_sst = np.delete(im_array_sst, i, axis = 0)\n",
    "        im_array_ndnf = np.delete(im_array_ndnf, i, axis = 0)\n",
    "        plane_nos.remove(p)\n",
    "        i -= 1\n",
    "        n = len(plane_nos)\n",
    "        continue\n",
    "\n",
    "del img_gad1\n",
    "# del img_vip\n",
    "# del img_sst\n",
    "# del img_ndnf\n",
    "# del img_dapi"
   ]
  },
  {
   "cell_type": "markdown",
   "metadata": {
    "heading_collapsed": true,
    "hidden": true
   },
   "source": [
    "## Background subtracted (rolling ball)"
   ]
  },
  {
   "cell_type": "code",
   "execution_count": null,
   "metadata": {
    "hidden": true
   },
   "outputs": [],
   "source": [
    "# Background subtracted (using rolling ball background subtraction in Fiji)\n",
    "print('Ndnf')\n",
    "im_array_ndnf = np.zeros([n, h, w])\n",
    "img_file = 'S2_Ndnf_bg_sub2'\n",
    "img = Image.open('{0}\\{1}.tif'.format(folder, img_file))\n",
    "for i in range(n):\n",
    "    print('Loading image {0}'.format(i + 1))\n",
    "    p = plane_nos[i]\n",
    "    try:\n",
    "        img.seek(p - 1)\n",
    "        im_array_ndnf[i, :, :] = np.array(img)\n",
    "        \n",
    "    except:\n",
    "        print('Plane {0} could not be loaded'.format(p))\n",
    "        print('Size of plane {0} in pixels: {0} X {1}'.format(img.height, img.width))\n",
    "        im_array_ndnf = np.delete(im_array_ndnf, i, axis = 0)\n",
    "        plane_nos.remove(p)\n",
    "        i -= 1\n",
    "        n = len(plane_nos)\n",
    "        continue\n",
    "\n",
    "print('Vip')\n",
    "im_array_vip = np.zeros([n, h, w])\n",
    "img_file = 'S2_Vip_bg_sub2'\n",
    "img = Image.open('{0}\\{1}.tif'.format(folder, img_file))\n",
    "for i in range(n):\n",
    "    print('Loading image {0}'.format(i + 1))\n",
    "    p = plane_nos[i]\n",
    "    try:\n",
    "        img.seek(p - 1)\n",
    "        im_array_vip[i, :, :] = np.array(img)\n",
    "        \n",
    "    except:\n",
    "        print('Plane {0} could not be loaded'.format(p))\n",
    "        print('Size of plane {0} in pixels: {0} X {1}'.format(img.height, img.width))\n",
    "        im_array_vip = np.delete(im_array_vip, i, axis = 0)\n",
    "        plane_nos.remove(p)\n",
    "        i -= 1\n",
    "        n = len(plane_nos)\n",
    "        continue\n",
    "        \n",
    "        \n",
    "print('Sst')\n",
    "im_array_sst = np.zeros([n, h, w])\n",
    "img_file = 'S2_Sst_bg_sub2'\n",
    "img = Image.open('{0}\\{1}.tif'.format(folder, img_file))\n",
    "for i in range(n):\n",
    "    print('Loading image {0}'.format(i + 1))\n",
    "    p = plane_nos[i]\n",
    "    try:\n",
    "        img.seek(p - 1)\n",
    "        im_array_sst[i, :, :] = np.array(img)\n",
    "        \n",
    "    except:\n",
    "        print('Plane {0} could not be loaded'.format(p))\n",
    "        print('Size of plane {0} in pixels: {0} X {1}'.format(img.height, img.width))\n",
    "        im_array_sst = np.delete(im_array_sst, i, axis = 0)\n",
    "        plane_nos.remove(p)\n",
    "        i -= 1\n",
    "        n = len(plane_nos)\n",
    "        continue    "
   ]
  },
  {
   "cell_type": "markdown",
   "metadata": {},
   "source": [
    "# Render images in napari GUI"
   ]
  },
  {
   "cell_type": "markdown",
   "metadata": {
    "heading_collapsed": true
   },
   "source": [
    "## Raw images"
   ]
  },
  {
   "cell_type": "code",
   "execution_count": 32,
   "metadata": {
    "ExecuteTime": {
     "end_time": "2020-03-22T18:53:47.282139Z",
     "start_time": "2020-03-22T18:53:39.604273Z"
    },
    "hidden": true
   },
   "outputs": [
    {
     "data": {
      "text/plain": [
       "<Image layer 'Sst' at 0x2421cf7d5c8>"
      ]
     },
     "execution_count": 32,
     "metadata": {},
     "output_type": "execute_result"
    }
   ],
   "source": [
    "viewer.add_image(im_array_sst, name = 'Sst', colormap = 'green', blending = 'additive')\n"
   ]
  },
  {
   "cell_type": "code",
   "execution_count": 60,
   "metadata": {
    "ExecuteTime": {
     "end_time": "2020-03-27T10:48:14.668924Z",
     "start_time": "2020-03-27T10:47:34.818536Z"
    },
    "hidden": true
   },
   "outputs": [
    {
     "name": "stdout",
     "output_type": "stream",
     "text": [
      "40.0 seconds\n"
     ]
    }
   ],
   "source": [
    "# Full images\n",
    "t0 = time.time()\n",
    "\n",
    "viewer = napari.Viewer()\n",
    "#viewer.add_image(im_array_gad1, name = 'Gad1', colormap = 'cyan', blending = 'additive')\n",
    "viewer.add_image(im_array_ndnf, name = 'Ndnf', colormap = 'red', blending = 'additive')\n",
    "viewer.add_image(im_array_vip, name = 'Vip', colormap = 'green', blending = 'additive')\n",
    "viewer.add_image(im_array_sst, name = 'Sst', colormap = 'blue', blending = 'additive')\n",
    "\n",
    "t1 = time.time() - t0\n",
    "print('{0} seconds'.format(np.round(t1)))"
   ]
  },
  {
   "cell_type": "markdown",
   "metadata": {
    "heading_collapsed": true
   },
   "source": [
    "## Blurred images"
   ]
  },
  {
   "cell_type": "code",
   "execution_count": 9,
   "metadata": {
    "ExecuteTime": {
     "end_time": "2020-03-18T17:24:22.736641Z",
     "start_time": "2020-03-18T17:23:33.718841Z"
    },
    "hidden": true
   },
   "outputs": [
    {
     "data": {
      "text/plain": [
       "<Image layer 'Gad1_blur' at 0x15913608>"
      ]
     },
     "execution_count": 9,
     "metadata": {},
     "output_type": "execute_result"
    }
   ],
   "source": [
    "viewer.add_image(im_array_gad1_blur, name = 'Gad1_blur', colormap = 'cyan', blending = 'additive')"
   ]
  },
  {
   "cell_type": "markdown",
   "metadata": {
    "heading_collapsed": true
   },
   "source": [
    "## Cell masks"
   ]
  },
  {
   "cell_type": "code",
   "execution_count": 103,
   "metadata": {
    "ExecuteTime": {
     "end_time": "2020-03-18T22:09:56.548144Z",
     "start_time": "2020-03-18T22:09:56.541144Z"
    },
    "hidden": true
   },
   "outputs": [
    {
     "name": "stdout",
     "output_type": "stream",
     "text": [
      "[18 20 24 28 30 35 37 45 48]\n"
     ]
    }
   ],
   "source": [
    "# Cells with high mask variance\n",
    "var_thresh = 600\n",
    "indices = np.where(np.logical_or(var_masks[:, 0] > var_thresh, var_masks[:, 1] > var_thresh))[0] + 1\n",
    "print(indices)"
   ]
  },
  {
   "cell_type": "code",
   "execution_count": 31,
   "metadata": {
    "ExecuteTime": {
     "end_time": "2020-03-24T20:13:49.386165Z",
     "start_time": "2020-03-24T20:13:45.597292Z"
    },
    "hidden": true
   },
   "outputs": [
    {
     "name": "stdout",
     "output_type": "stream",
     "text": [
      "Cell 10, 0.0 seconds\n",
      "Cell 20, 1.0 seconds\n",
      "Cell 30, 1.0 seconds\n",
      "Cell 40, 2.0 seconds\n",
      "Cell 50, 2.0 seconds\n",
      "Cell 60, 3.0 seconds\n",
      "Cell 90, 3.0 seconds\n"
     ]
    }
   ],
   "source": [
    "mask_layer2 = viewer.add_shapes(name = 'Cell masks individual')\n",
    "mask_cell_nos = []\n",
    "cell_mask_nos = {}\n",
    "t0 = time.time()\n",
    "\n",
    "# indices = list(Cell.cell_data.keys())\n",
    "indices = cells + 1\n",
    "for cell in indices:\n",
    "    if np.mod(cell, 10) == 0:\n",
    "        print('Cell {0}, {1} seconds'.format(cell, np.round(time.time() - t0)))\n",
    "    planes = Cell.cell_data[cell]['z_planes']\n",
    "    cell_mask_nos[cell] = []\n",
    "    for plane in planes:\n",
    "        mask = Cell.cell_data[cell]['masks'][plane]\n",
    "        mask = np.concatenate((np.ones([mask.shape[0], 1])*plane, mask), axis = 1)\n",
    "        mask_layer2.add(mask, shape_type = 'polygon', opacity = 0.4, \n",
    "                        face_color = 'white', edge_color = 'red', edge_width = 5)\n",
    "        cell_mask_nos[cell] = np.append(cell_mask_nos[cell], len(mask_cell_nos) - 1)\n",
    "        mask_cell_nos = np.append(mask_cell_nos, cell)"
   ]
  },
  {
   "cell_type": "markdown",
   "metadata": {
    "heading_collapsed": true
   },
   "source": [
    "## Lipofuscin ROIs (annotated)"
   ]
  },
  {
   "cell_type": "code",
   "execution_count": 30,
   "metadata": {
    "ExecuteTime": {
     "end_time": "2020-03-26T17:44:44.610953Z",
     "start_time": "2020-03-26T17:44:44.387953Z"
    },
    "hidden": true
   },
   "outputs": [
    {
     "name": "stdout",
     "output_type": "stream",
     "text": [
      "28 rois found\n"
     ]
    },
    {
     "data": {
      "text/plain": [
       "<Shapes layer 'Lipofuscin ROIs' at 0x5b0e7888>"
      ]
     },
     "execution_count": 30,
     "metadata": {},
     "output_type": "execute_result"
    }
   ],
   "source": [
    "n_rois = len(l_rois)\n",
    "print('{0} rois found'.format(n_rois))\n",
    "viewer.add_shapes(l_rois, name = 'Lipofuscin ROIs',\n",
    "                   shape_type = 'polygon', opacity = 1, face_color = 'white', \n",
    "                   edge_color = 'blue', edge_width = 3)"
   ]
  },
  {
   "cell_type": "markdown",
   "metadata": {
    "heading_collapsed": true
   },
   "source": [
    "## Filtered images"
   ]
  },
  {
   "cell_type": "code",
   "execution_count": 67,
   "metadata": {
    "ExecuteTime": {
     "end_time": "2020-03-26T03:39:00.724997Z",
     "start_time": "2020-03-26T03:38:58.352343Z"
    },
    "hidden": true,
    "run_control": {
     "marked": true
    }
   },
   "outputs": [
    {
     "data": {
      "text/plain": [
       "<Image layer 'Blurred Vip' at 0x1870059c188>"
      ]
     },
     "execution_count": 67,
     "metadata": {},
     "output_type": "execute_result"
    }
   ],
   "source": [
    "# viewer.add_image(data = im_diff_ndnf, name = 'Diff ndnf', colormap = 'magenta', blending = 'additive')\n",
    "# viewer.add_image(data = im_diff_sst, name = 'Diff Sst', colormap = 'green', blending = 'additive')\n",
    "# viewer.add_image(data = im_diff_vip, name = 'Diff Vip', colormap = 'yellow', blending = 'additive')\n",
    "# viewer.add_image(data = im_diff_gad1, name = 'Diff Gad1', colormap = 'cyan', blending = 'additive')\n",
    "\n",
    "# viewer.add_image(data = im_diff_ndnf[0, :, :], name = 'Diff ndnf', colormap = 'magenta', blending = 'additive')\n",
    "# viewer.add_image(data = im_diff_sst[0, :, :], name = 'Diff Sst', colormap = 'green', blending = 'additive')\n",
    "# viewer.add_image(data = im_diff_vip[0, :, :], name = 'Diff Vip', colormap = 'yellow', blending = 'additive')\n",
    "\n",
    "viewer.add_image(data = im_ndnf_lipo, name = 'Blurred ndnf', colormap = 'red', blending = 'additive')\n",
    "viewer.add_image(data = im_sst_lipo, name = 'Blurred Sst', colormap = 'blue', blending = 'additive')\n",
    "viewer.add_image(data = im_vip_lipo, name = 'Blurred Vip', colormap = 'green', blending = 'additive')\n",
    "# viewer.add_image(data = im_diff_gad1[0, :, :], name = 'Diff Gad1', colormap = 'cyan', blending = 'additive')"
   ]
  },
  {
   "cell_type": "markdown",
   "metadata": {
    "hidden": true
   },
   "source": [
    "### For lipo exclusion"
   ]
  },
  {
   "cell_type": "code",
   "execution_count": 91,
   "metadata": {
    "ExecuteTime": {
     "end_time": "2020-03-26T20:27:09.828953Z",
     "start_time": "2020-03-26T20:27:04.790953Z"
    },
    "hidden": true
   },
   "outputs": [
    {
     "data": {
      "text/plain": [
       "<Image layer 'Blurred Vip [1]' at 0x183ba148>"
      ]
     },
     "execution_count": 91,
     "metadata": {},
     "output_type": "execute_result"
    }
   ],
   "source": [
    "viewer.add_image(data = im_diff_vip_lipo, name = 'Blurred Vip', colormap = 'green', blending = 'additive')"
   ]
  },
  {
   "cell_type": "code",
   "execution_count": 90,
   "metadata": {
    "ExecuteTime": {
     "end_time": "2020-03-26T20:26:13.903953Z",
     "start_time": "2020-03-26T20:25:22.708953Z"
    },
    "hidden": true
   },
   "outputs": [
    {
     "ename": "KeyboardInterrupt",
     "evalue": "",
     "output_type": "error",
     "traceback": [
      "\u001b[1;31m---------------------------------------------------------------------------\u001b[0m",
      "\u001b[1;31mKeyboardInterrupt\u001b[0m                         Traceback (most recent call last)",
      "\u001b[1;32m<ipython-input-90-989f6aed1a63>\u001b[0m in \u001b[0;36m<module>\u001b[1;34m\u001b[0m\n\u001b[0;32m      1\u001b[0m \u001b[0mviewer\u001b[0m\u001b[1;33m.\u001b[0m\u001b[0madd_image\u001b[0m\u001b[1;33m(\u001b[0m\u001b[0mdata\u001b[0m \u001b[1;33m=\u001b[0m \u001b[0mim_diff_ndnf_lipo\u001b[0m\u001b[1;33m,\u001b[0m \u001b[0mname\u001b[0m \u001b[1;33m=\u001b[0m \u001b[1;34m'Blurred ndnf'\u001b[0m\u001b[1;33m,\u001b[0m \u001b[0mcolormap\u001b[0m \u001b[1;33m=\u001b[0m \u001b[1;34m'red'\u001b[0m\u001b[1;33m,\u001b[0m \u001b[0mblending\u001b[0m \u001b[1;33m=\u001b[0m \u001b[1;34m'additive'\u001b[0m\u001b[1;33m)\u001b[0m\u001b[1;33m\u001b[0m\u001b[1;33m\u001b[0m\u001b[0m\n\u001b[0;32m      2\u001b[0m \u001b[0mviewer\u001b[0m\u001b[1;33m.\u001b[0m\u001b[0madd_image\u001b[0m\u001b[1;33m(\u001b[0m\u001b[0mdata\u001b[0m \u001b[1;33m=\u001b[0m \u001b[0mim_diff_sst_lipo\u001b[0m\u001b[1;33m,\u001b[0m \u001b[0mname\u001b[0m \u001b[1;33m=\u001b[0m \u001b[1;34m'Blurred Sst'\u001b[0m\u001b[1;33m,\u001b[0m \u001b[0mcolormap\u001b[0m \u001b[1;33m=\u001b[0m \u001b[1;34m'blue'\u001b[0m\u001b[1;33m,\u001b[0m \u001b[0mblending\u001b[0m \u001b[1;33m=\u001b[0m \u001b[1;34m'additive'\u001b[0m\u001b[1;33m)\u001b[0m\u001b[1;33m\u001b[0m\u001b[1;33m\u001b[0m\u001b[0m\n\u001b[1;32m----> 3\u001b[1;33m \u001b[0mviewer\u001b[0m\u001b[1;33m.\u001b[0m\u001b[0madd_image\u001b[0m\u001b[1;33m(\u001b[0m\u001b[0mdata\u001b[0m \u001b[1;33m=\u001b[0m \u001b[0mim_diff_vip_lipo\u001b[0m\u001b[1;33m,\u001b[0m \u001b[0mname\u001b[0m \u001b[1;33m=\u001b[0m \u001b[1;34m'Blurred Vip'\u001b[0m\u001b[1;33m,\u001b[0m \u001b[0mcolormap\u001b[0m \u001b[1;33m=\u001b[0m \u001b[1;34m'green'\u001b[0m\u001b[1;33m,\u001b[0m \u001b[0mblending\u001b[0m \u001b[1;33m=\u001b[0m \u001b[1;34m'additive'\u001b[0m\u001b[1;33m)\u001b[0m\u001b[1;33m\u001b[0m\u001b[1;33m\u001b[0m\u001b[0m\n\u001b[0m",
      "\u001b[1;32m~\\AppData\\Local\\Continuum\\anaconda3\\envs\\fish\\lib\\site-packages\\napari\\components\\add_layers_mixin.py\u001b[0m in \u001b[0;36madd_image\u001b[1;34m(self, data, channel_axis, rgb, is_pyramid, colormap, contrast_limits, gamma, interpolation, rendering, iso_threshold, attenuation, name, metadata, scale, translate, opacity, blending, visible, path)\u001b[0m\n\u001b[0;32m    173\u001b[0m                 \u001b[0mopacity\u001b[0m\u001b[1;33m=\u001b[0m\u001b[0mopacity\u001b[0m\u001b[1;33m,\u001b[0m\u001b[1;33m\u001b[0m\u001b[1;33m\u001b[0m\u001b[0m\n\u001b[0;32m    174\u001b[0m                 \u001b[0mblending\u001b[0m\u001b[1;33m=\u001b[0m\u001b[0mblending\u001b[0m\u001b[1;33m,\u001b[0m\u001b[1;33m\u001b[0m\u001b[1;33m\u001b[0m\u001b[0m\n\u001b[1;32m--> 175\u001b[1;33m                 \u001b[0mvisible\u001b[0m\u001b[1;33m=\u001b[0m\u001b[0mvisible\u001b[0m\u001b[1;33m,\u001b[0m\u001b[1;33m\u001b[0m\u001b[1;33m\u001b[0m\u001b[0m\n\u001b[0m\u001b[0;32m    176\u001b[0m             )\n\u001b[0;32m    177\u001b[0m             \u001b[0mself\u001b[0m\u001b[1;33m.\u001b[0m\u001b[0madd_layer\u001b[0m\u001b[1;33m(\u001b[0m\u001b[0mlayer\u001b[0m\u001b[1;33m)\u001b[0m\u001b[1;33m\u001b[0m\u001b[1;33m\u001b[0m\u001b[0m\n",
      "\u001b[1;32m~\\AppData\\Local\\Continuum\\anaconda3\\envs\\fish\\lib\\site-packages\\napari\\layers\\image\\image.py\u001b[0m in \u001b[0;36m__init__\u001b[1;34m(self, data, rgb, is_pyramid, colormap, contrast_limits, gamma, interpolation, rendering, iso_threshold, attenuation, name, metadata, scale, translate, opacity, blending, visible)\u001b[0m\n\u001b[0;32m    161\u001b[0m \u001b[1;33m\u001b[0m\u001b[0m\n\u001b[0;32m    162\u001b[0m         ndim, rgb, is_pyramid, data_pyramid = get_pyramid_and_rgb(\n\u001b[1;32m--> 163\u001b[1;33m             \u001b[0mdata\u001b[0m\u001b[1;33m,\u001b[0m \u001b[0mpyramid\u001b[0m\u001b[1;33m=\u001b[0m\u001b[0mis_pyramid\u001b[0m\u001b[1;33m,\u001b[0m \u001b[0mrgb\u001b[0m\u001b[1;33m=\u001b[0m\u001b[0mrgb\u001b[0m\u001b[1;33m\u001b[0m\u001b[1;33m\u001b[0m\u001b[0m\n\u001b[0m\u001b[0;32m    164\u001b[0m         )\n\u001b[0;32m    165\u001b[0m \u001b[1;33m\u001b[0m\u001b[0m\n",
      "\u001b[1;32m~\\AppData\\Local\\Continuum\\anaconda3\\envs\\fish\\lib\\site-packages\\napari\\layers\\image\\image_utils.py\u001b[0m in \u001b[0;36mget_pyramid_and_rgb\u001b[1;34m(data, pyramid, rgb)\u001b[0m\n\u001b[0;32m    182\u001b[0m                 \u001b[0mmax_layer\u001b[0m \u001b[1;33m=\u001b[0m \u001b[0mnp\u001b[0m\u001b[1;33m.\u001b[0m\u001b[0mfloor\u001b[0m\u001b[1;33m(\u001b[0m\u001b[0mnp\u001b[0m\u001b[1;33m.\u001b[0m\u001b[0mlog2\u001b[0m\u001b[1;33m(\u001b[0m\u001b[0mlargest\u001b[0m\u001b[1;33m)\u001b[0m \u001b[1;33m-\u001b[0m \u001b[1;36m9\u001b[0m\u001b[1;33m)\u001b[0m\u001b[1;33m.\u001b[0m\u001b[0mastype\u001b[0m\u001b[1;33m(\u001b[0m\u001b[0mint\u001b[0m\u001b[1;33m)\u001b[0m\u001b[1;33m\u001b[0m\u001b[1;33m\u001b[0m\u001b[0m\n\u001b[0;32m    183\u001b[0m                 data_pyramid = fast_pyramid(\n\u001b[1;32m--> 184\u001b[1;33m                     \u001b[0mdata\u001b[0m\u001b[1;33m,\u001b[0m \u001b[0mdownscale\u001b[0m\u001b[1;33m=\u001b[0m\u001b[0mdownscale\u001b[0m\u001b[1;33m,\u001b[0m \u001b[0mmax_layer\u001b[0m\u001b[1;33m=\u001b[0m\u001b[0mmax_layer\u001b[0m\u001b[1;33m\u001b[0m\u001b[1;33m\u001b[0m\u001b[0m\n\u001b[0m\u001b[0;32m    185\u001b[0m                 )\n\u001b[0;32m    186\u001b[0m                 \u001b[0mdata_pyramid\u001b[0m \u001b[1;33m=\u001b[0m \u001b[0mtrim_pyramid\u001b[0m\u001b[1;33m(\u001b[0m\u001b[0mdata_pyramid\u001b[0m\u001b[1;33m)\u001b[0m\u001b[1;33m\u001b[0m\u001b[1;33m\u001b[0m\u001b[0m\n",
      "\u001b[1;32m~\\AppData\\Local\\Continuum\\anaconda3\\envs\\fish\\lib\\site-packages\\napari\\layers\\image\\image_utils.py\u001b[0m in \u001b[0;36mfast_pyramid\u001b[1;34m(data, downscale, max_layer)\u001b[0m\n\u001b[0;32m     95\u001b[0m     \u001b[1;32mfor\u001b[0m \u001b[0mi\u001b[0m \u001b[1;32min\u001b[0m \u001b[0mrange\u001b[0m\u001b[1;33m(\u001b[0m\u001b[0mmax_layer\u001b[0m \u001b[1;33m-\u001b[0m \u001b[1;36m1\u001b[0m\u001b[1;33m)\u001b[0m\u001b[1;33m:\u001b[0m\u001b[1;33m\u001b[0m\u001b[1;33m\u001b[0m\u001b[0m\n\u001b[0;32m     96\u001b[0m         pyramid.append(\n\u001b[1;32m---> 97\u001b[1;33m             \u001b[0mndi\u001b[0m\u001b[1;33m.\u001b[0m\u001b[0mzoom\u001b[0m\u001b[1;33m(\u001b[0m\u001b[0mpyramid\u001b[0m\u001b[1;33m[\u001b[0m\u001b[0mi\u001b[0m\u001b[1;33m]\u001b[0m\u001b[1;33m,\u001b[0m \u001b[0mzoom_factor\u001b[0m\u001b[1;33m,\u001b[0m \u001b[0mprefilter\u001b[0m\u001b[1;33m=\u001b[0m\u001b[1;32mFalse\u001b[0m\u001b[1;33m,\u001b[0m \u001b[0morder\u001b[0m\u001b[1;33m=\u001b[0m\u001b[1;36m0\u001b[0m\u001b[1;33m)\u001b[0m\u001b[1;33m\u001b[0m\u001b[1;33m\u001b[0m\u001b[0m\n\u001b[0m\u001b[0;32m     98\u001b[0m         )\n\u001b[0;32m     99\u001b[0m     \u001b[1;32mreturn\u001b[0m \u001b[0mpyramid\u001b[0m\u001b[1;33m\u001b[0m\u001b[1;33m\u001b[0m\u001b[0m\n",
      "\u001b[1;32m~\\AppData\\Local\\Continuum\\anaconda3\\envs\\fish\\lib\\site-packages\\scipy\\ndimage\\interpolation.py\u001b[0m in \u001b[0;36mzoom\u001b[1;34m(input, zoom, output, order, mode, cval, prefilter)\u001b[0m\n\u001b[0;32m    613\u001b[0m                                      shape=output_shape)\n\u001b[0;32m    614\u001b[0m     \u001b[0mzoom\u001b[0m \u001b[1;33m=\u001b[0m \u001b[0mnumpy\u001b[0m\u001b[1;33m.\u001b[0m\u001b[0mascontiguousarray\u001b[0m\u001b[1;33m(\u001b[0m\u001b[0mzoom\u001b[0m\u001b[1;33m)\u001b[0m\u001b[1;33m\u001b[0m\u001b[1;33m\u001b[0m\u001b[0m\n\u001b[1;32m--> 615\u001b[1;33m     \u001b[0m_nd_image\u001b[0m\u001b[1;33m.\u001b[0m\u001b[0mzoom_shift\u001b[0m\u001b[1;33m(\u001b[0m\u001b[0mfiltered\u001b[0m\u001b[1;33m,\u001b[0m \u001b[0mzoom\u001b[0m\u001b[1;33m,\u001b[0m \u001b[1;32mNone\u001b[0m\u001b[1;33m,\u001b[0m \u001b[0moutput\u001b[0m\u001b[1;33m,\u001b[0m \u001b[0morder\u001b[0m\u001b[1;33m,\u001b[0m \u001b[0mmode\u001b[0m\u001b[1;33m,\u001b[0m \u001b[0mcval\u001b[0m\u001b[1;33m)\u001b[0m\u001b[1;33m\u001b[0m\u001b[1;33m\u001b[0m\u001b[0m\n\u001b[0m\u001b[0;32m    616\u001b[0m     \u001b[1;32mreturn\u001b[0m \u001b[0moutput\u001b[0m\u001b[1;33m\u001b[0m\u001b[1;33m\u001b[0m\u001b[0m\n\u001b[0;32m    617\u001b[0m \u001b[1;33m\u001b[0m\u001b[0m\n",
      "\u001b[1;31mKeyboardInterrupt\u001b[0m: "
     ]
    }
   ],
   "source": [
    "viewer.add_image(data = im_diff_ndnf_lipo, name = 'Blurred ndnf', colormap = 'red', blending = 'additive')\n",
    "viewer.add_image(data = im_diff_vip_lipo, name = 'Blurred Vip', colormap = 'green', blending = 'additive')\n",
    "viewer.add_image(data = im_diff_sst_lipo, name = 'Blurred Sst', colormap = 'blue', blending = 'additive')\n"
   ]
  },
  {
   "cell_type": "markdown",
   "metadata": {
    "heading_collapsed": true
   },
   "source": [
    "## Binarized images"
   ]
  },
  {
   "cell_type": "code",
   "execution_count": 83,
   "metadata": {
    "ExecuteTime": {
     "end_time": "2020-03-26T19:06:09.384953Z",
     "start_time": "2020-03-26T19:06:06.456953Z"
    },
    "hidden": true
   },
   "outputs": [
    {
     "data": {
      "text/plain": [
       "<Image layer 'Binary Vip' at 0x1b091f48>"
      ]
     },
     "execution_count": 83,
     "metadata": {},
     "output_type": "execute_result"
    }
   ],
   "source": [
    "#viewer.add_image(data = im_bin_ndnf, name = 'Binary ndnf', colormap = 'red', blending = 'additive')\n",
    "#viewer.add_image(data = im_bin_sst, name = 'Binary Sst', colormap = 'blue', blending = 'additive')\n",
    "viewer.add_image(data = im_bin_vip, name = 'Binary Vip', colormap = 'green', blending = 'additive')"
   ]
  },
  {
   "cell_type": "markdown",
   "metadata": {
    "heading_collapsed": true,
    "hidden": true
   },
   "source": [
    "### For lipofuscin detection"
   ]
  },
  {
   "cell_type": "code",
   "execution_count": 179,
   "metadata": {
    "ExecuteTime": {
     "end_time": "2020-03-27T01:02:06.922953Z",
     "start_time": "2020-03-27T01:02:00.182953Z"
    },
    "hidden": true
   },
   "outputs": [
    {
     "data": {
      "text/plain": [
       "<Image layer 'Binary Vip lipo' at 0x509c1fc8>"
      ]
     },
     "execution_count": 179,
     "metadata": {},
     "output_type": "execute_result"
    }
   ],
   "source": [
    "viewer.add_image(data = im_bin_vip_lipo, name = 'Binary Vip lipo', colormap = 'green', blending = 'additive')"
   ]
  },
  {
   "cell_type": "code",
   "execution_count": 178,
   "metadata": {
    "ExecuteTime": {
     "end_time": "2020-03-27T01:01:38.348953Z",
     "start_time": "2020-03-27T00:59:55.317953Z"
    },
    "hidden": true
   },
   "outputs": [
    {
     "ename": "KeyboardInterrupt",
     "evalue": "",
     "output_type": "error",
     "traceback": [
      "\u001b[1;31m---------------------------------------------------------------------------\u001b[0m",
      "\u001b[1;31mKeyboardInterrupt\u001b[0m                         Traceback (most recent call last)",
      "\u001b[1;32m<ipython-input-178-2f4296464192>\u001b[0m in \u001b[0;36m<module>\u001b[1;34m\u001b[0m\n\u001b[0;32m      1\u001b[0m \u001b[0mviewer\u001b[0m\u001b[1;33m.\u001b[0m\u001b[0madd_image\u001b[0m\u001b[1;33m(\u001b[0m\u001b[0mdata\u001b[0m \u001b[1;33m=\u001b[0m \u001b[0mim_bin_ndnf_lipo\u001b[0m\u001b[1;33m,\u001b[0m \u001b[0mname\u001b[0m \u001b[1;33m=\u001b[0m \u001b[1;34m'Binary ndnf_lipo'\u001b[0m\u001b[1;33m,\u001b[0m \u001b[0mcolormap\u001b[0m \u001b[1;33m=\u001b[0m \u001b[1;34m'red'\u001b[0m\u001b[1;33m,\u001b[0m \u001b[0mblending\u001b[0m \u001b[1;33m=\u001b[0m \u001b[1;34m'additive'\u001b[0m\u001b[1;33m)\u001b[0m\u001b[1;33m\u001b[0m\u001b[1;33m\u001b[0m\u001b[0m\n\u001b[0;32m      2\u001b[0m \u001b[0mviewer\u001b[0m\u001b[1;33m.\u001b[0m\u001b[0madd_image\u001b[0m\u001b[1;33m(\u001b[0m\u001b[0mdata\u001b[0m \u001b[1;33m=\u001b[0m \u001b[0mim_bin_sst_lipo\u001b[0m\u001b[1;33m,\u001b[0m \u001b[0mname\u001b[0m \u001b[1;33m=\u001b[0m \u001b[1;34m'Binary Sst lipo'\u001b[0m\u001b[1;33m,\u001b[0m \u001b[0mcolormap\u001b[0m \u001b[1;33m=\u001b[0m \u001b[1;34m'blue'\u001b[0m\u001b[1;33m,\u001b[0m \u001b[0mblending\u001b[0m \u001b[1;33m=\u001b[0m \u001b[1;34m'additive'\u001b[0m\u001b[1;33m)\u001b[0m\u001b[1;33m\u001b[0m\u001b[1;33m\u001b[0m\u001b[0m\n\u001b[1;32m----> 3\u001b[1;33m \u001b[0mviewer\u001b[0m\u001b[1;33m.\u001b[0m\u001b[0madd_image\u001b[0m\u001b[1;33m(\u001b[0m\u001b[0mdata\u001b[0m \u001b[1;33m=\u001b[0m \u001b[0mim_bin_vip_lipo\u001b[0m\u001b[1;33m,\u001b[0m \u001b[0mname\u001b[0m \u001b[1;33m=\u001b[0m \u001b[1;34m'Binary Vip lipo'\u001b[0m\u001b[1;33m,\u001b[0m \u001b[0mcolormap\u001b[0m \u001b[1;33m=\u001b[0m \u001b[1;34m'green'\u001b[0m\u001b[1;33m,\u001b[0m \u001b[0mblending\u001b[0m \u001b[1;33m=\u001b[0m \u001b[1;34m'additive'\u001b[0m\u001b[1;33m)\u001b[0m\u001b[1;33m\u001b[0m\u001b[1;33m\u001b[0m\u001b[0m\n\u001b[0m",
      "\u001b[1;32m~\\AppData\\Local\\Continuum\\anaconda3\\envs\\fish\\lib\\site-packages\\napari\\components\\add_layers_mixin.py\u001b[0m in \u001b[0;36madd_image\u001b[1;34m(self, data, channel_axis, rgb, is_pyramid, colormap, contrast_limits, gamma, interpolation, rendering, iso_threshold, attenuation, name, metadata, scale, translate, opacity, blending, visible, path)\u001b[0m\n\u001b[0;32m    173\u001b[0m                 \u001b[0mopacity\u001b[0m\u001b[1;33m=\u001b[0m\u001b[0mopacity\u001b[0m\u001b[1;33m,\u001b[0m\u001b[1;33m\u001b[0m\u001b[1;33m\u001b[0m\u001b[0m\n\u001b[0;32m    174\u001b[0m                 \u001b[0mblending\u001b[0m\u001b[1;33m=\u001b[0m\u001b[0mblending\u001b[0m\u001b[1;33m,\u001b[0m\u001b[1;33m\u001b[0m\u001b[1;33m\u001b[0m\u001b[0m\n\u001b[1;32m--> 175\u001b[1;33m                 \u001b[0mvisible\u001b[0m\u001b[1;33m=\u001b[0m\u001b[0mvisible\u001b[0m\u001b[1;33m,\u001b[0m\u001b[1;33m\u001b[0m\u001b[1;33m\u001b[0m\u001b[0m\n\u001b[0m\u001b[0;32m    176\u001b[0m             )\n\u001b[0;32m    177\u001b[0m             \u001b[0mself\u001b[0m\u001b[1;33m.\u001b[0m\u001b[0madd_layer\u001b[0m\u001b[1;33m(\u001b[0m\u001b[0mlayer\u001b[0m\u001b[1;33m)\u001b[0m\u001b[1;33m\u001b[0m\u001b[1;33m\u001b[0m\u001b[0m\n",
      "\u001b[1;32m~\\AppData\\Local\\Continuum\\anaconda3\\envs\\fish\\lib\\site-packages\\napari\\layers\\image\\image.py\u001b[0m in \u001b[0;36m__init__\u001b[1;34m(self, data, rgb, is_pyramid, colormap, contrast_limits, gamma, interpolation, rendering, iso_threshold, attenuation, name, metadata, scale, translate, opacity, blending, visible)\u001b[0m\n\u001b[0;32m    161\u001b[0m \u001b[1;33m\u001b[0m\u001b[0m\n\u001b[0;32m    162\u001b[0m         ndim, rgb, is_pyramid, data_pyramid = get_pyramid_and_rgb(\n\u001b[1;32m--> 163\u001b[1;33m             \u001b[0mdata\u001b[0m\u001b[1;33m,\u001b[0m \u001b[0mpyramid\u001b[0m\u001b[1;33m=\u001b[0m\u001b[0mis_pyramid\u001b[0m\u001b[1;33m,\u001b[0m \u001b[0mrgb\u001b[0m\u001b[1;33m=\u001b[0m\u001b[0mrgb\u001b[0m\u001b[1;33m\u001b[0m\u001b[1;33m\u001b[0m\u001b[0m\n\u001b[0m\u001b[0;32m    164\u001b[0m         )\n\u001b[0;32m    165\u001b[0m \u001b[1;33m\u001b[0m\u001b[0m\n",
      "\u001b[1;32m~\\AppData\\Local\\Continuum\\anaconda3\\envs\\fish\\lib\\site-packages\\napari\\layers\\image\\image_utils.py\u001b[0m in \u001b[0;36mget_pyramid_and_rgb\u001b[1;34m(data, pyramid, rgb)\u001b[0m\n\u001b[0;32m    182\u001b[0m                 \u001b[0mmax_layer\u001b[0m \u001b[1;33m=\u001b[0m \u001b[0mnp\u001b[0m\u001b[1;33m.\u001b[0m\u001b[0mfloor\u001b[0m\u001b[1;33m(\u001b[0m\u001b[0mnp\u001b[0m\u001b[1;33m.\u001b[0m\u001b[0mlog2\u001b[0m\u001b[1;33m(\u001b[0m\u001b[0mlargest\u001b[0m\u001b[1;33m)\u001b[0m \u001b[1;33m-\u001b[0m \u001b[1;36m9\u001b[0m\u001b[1;33m)\u001b[0m\u001b[1;33m.\u001b[0m\u001b[0mastype\u001b[0m\u001b[1;33m(\u001b[0m\u001b[0mint\u001b[0m\u001b[1;33m)\u001b[0m\u001b[1;33m\u001b[0m\u001b[1;33m\u001b[0m\u001b[0m\n\u001b[0;32m    183\u001b[0m                 data_pyramid = fast_pyramid(\n\u001b[1;32m--> 184\u001b[1;33m                     \u001b[0mdata\u001b[0m\u001b[1;33m,\u001b[0m \u001b[0mdownscale\u001b[0m\u001b[1;33m=\u001b[0m\u001b[0mdownscale\u001b[0m\u001b[1;33m,\u001b[0m \u001b[0mmax_layer\u001b[0m\u001b[1;33m=\u001b[0m\u001b[0mmax_layer\u001b[0m\u001b[1;33m\u001b[0m\u001b[1;33m\u001b[0m\u001b[0m\n\u001b[0m\u001b[0;32m    185\u001b[0m                 )\n\u001b[0;32m    186\u001b[0m                 \u001b[0mdata_pyramid\u001b[0m \u001b[1;33m=\u001b[0m \u001b[0mtrim_pyramid\u001b[0m\u001b[1;33m(\u001b[0m\u001b[0mdata_pyramid\u001b[0m\u001b[1;33m)\u001b[0m\u001b[1;33m\u001b[0m\u001b[1;33m\u001b[0m\u001b[0m\n",
      "\u001b[1;32m~\\AppData\\Local\\Continuum\\anaconda3\\envs\\fish\\lib\\site-packages\\napari\\layers\\image\\image_utils.py\u001b[0m in \u001b[0;36mfast_pyramid\u001b[1;34m(data, downscale, max_layer)\u001b[0m\n\u001b[0;32m     95\u001b[0m     \u001b[1;32mfor\u001b[0m \u001b[0mi\u001b[0m \u001b[1;32min\u001b[0m \u001b[0mrange\u001b[0m\u001b[1;33m(\u001b[0m\u001b[0mmax_layer\u001b[0m \u001b[1;33m-\u001b[0m \u001b[1;36m1\u001b[0m\u001b[1;33m)\u001b[0m\u001b[1;33m:\u001b[0m\u001b[1;33m\u001b[0m\u001b[1;33m\u001b[0m\u001b[0m\n\u001b[0;32m     96\u001b[0m         pyramid.append(\n\u001b[1;32m---> 97\u001b[1;33m             \u001b[0mndi\u001b[0m\u001b[1;33m.\u001b[0m\u001b[0mzoom\u001b[0m\u001b[1;33m(\u001b[0m\u001b[0mpyramid\u001b[0m\u001b[1;33m[\u001b[0m\u001b[0mi\u001b[0m\u001b[1;33m]\u001b[0m\u001b[1;33m,\u001b[0m \u001b[0mzoom_factor\u001b[0m\u001b[1;33m,\u001b[0m \u001b[0mprefilter\u001b[0m\u001b[1;33m=\u001b[0m\u001b[1;32mFalse\u001b[0m\u001b[1;33m,\u001b[0m \u001b[0morder\u001b[0m\u001b[1;33m=\u001b[0m\u001b[1;36m0\u001b[0m\u001b[1;33m)\u001b[0m\u001b[1;33m\u001b[0m\u001b[1;33m\u001b[0m\u001b[0m\n\u001b[0m\u001b[0;32m     98\u001b[0m         )\n\u001b[0;32m     99\u001b[0m     \u001b[1;32mreturn\u001b[0m \u001b[0mpyramid\u001b[0m\u001b[1;33m\u001b[0m\u001b[1;33m\u001b[0m\u001b[0m\n",
      "\u001b[1;32m~\\AppData\\Local\\Continuum\\anaconda3\\envs\\fish\\lib\\site-packages\\scipy\\ndimage\\interpolation.py\u001b[0m in \u001b[0;36mzoom\u001b[1;34m(input, zoom, output, order, mode, cval, prefilter)\u001b[0m\n\u001b[0;32m    613\u001b[0m                                      shape=output_shape)\n\u001b[0;32m    614\u001b[0m     \u001b[0mzoom\u001b[0m \u001b[1;33m=\u001b[0m \u001b[0mnumpy\u001b[0m\u001b[1;33m.\u001b[0m\u001b[0mascontiguousarray\u001b[0m\u001b[1;33m(\u001b[0m\u001b[0mzoom\u001b[0m\u001b[1;33m)\u001b[0m\u001b[1;33m\u001b[0m\u001b[1;33m\u001b[0m\u001b[0m\n\u001b[1;32m--> 615\u001b[1;33m     \u001b[0m_nd_image\u001b[0m\u001b[1;33m.\u001b[0m\u001b[0mzoom_shift\u001b[0m\u001b[1;33m(\u001b[0m\u001b[0mfiltered\u001b[0m\u001b[1;33m,\u001b[0m \u001b[0mzoom\u001b[0m\u001b[1;33m,\u001b[0m \u001b[1;32mNone\u001b[0m\u001b[1;33m,\u001b[0m \u001b[0moutput\u001b[0m\u001b[1;33m,\u001b[0m \u001b[0morder\u001b[0m\u001b[1;33m,\u001b[0m \u001b[0mmode\u001b[0m\u001b[1;33m,\u001b[0m \u001b[0mcval\u001b[0m\u001b[1;33m)\u001b[0m\u001b[1;33m\u001b[0m\u001b[1;33m\u001b[0m\u001b[0m\n\u001b[0m\u001b[0;32m    616\u001b[0m     \u001b[1;32mreturn\u001b[0m \u001b[0moutput\u001b[0m\u001b[1;33m\u001b[0m\u001b[1;33m\u001b[0m\u001b[0m\n\u001b[0;32m    617\u001b[0m \u001b[1;33m\u001b[0m\u001b[0m\n",
      "\u001b[1;31mKeyboardInterrupt\u001b[0m: "
     ]
    }
   ],
   "source": [
    "viewer.add_image(data = im_bin_ndnf_lipo, name = 'Binary ndnf_lipo', colormap = 'red', blending = 'additive')\n",
    "viewer.add_image(data = im_bin_sst_lipo, name = 'Binary Sst lipo', colormap = 'blue', blending = 'additive')\n",
    "viewer.add_image(data = im_bin_vip_lipo, name = 'Binary Vip lipo', colormap = 'green', blending = 'additive')"
   ]
  },
  {
   "cell_type": "markdown",
   "metadata": {
    "heading_collapsed": true
   },
   "source": [
    "## Detected lipofuscin pixels"
   ]
  },
  {
   "cell_type": "code",
   "execution_count": 144,
   "metadata": {
    "ExecuteTime": {
     "end_time": "2020-03-26T23:52:24.288953Z",
     "start_time": "2020-03-26T23:52:20.546953Z"
    },
    "hidden": true
   },
   "outputs": [
    {
     "data": {
      "text/plain": [
       "<Image layer 'Detected lipofuscin [2]' at 0x1ac3cc48>"
      ]
     },
     "execution_count": 144,
     "metadata": {},
     "output_type": "execute_result"
    }
   ],
   "source": [
    "viewer.add_image(data = im_array_lipo, name = 'Detected lipofuscin', colormap = 'gray', blending = 'additive')"
   ]
  },
  {
   "cell_type": "markdown",
   "metadata": {
    "heading_collapsed": true
   },
   "source": [
    "## Cell masks after removing lipofuscin (check)"
   ]
  },
  {
   "cell_type": "code",
   "execution_count": 165,
   "metadata": {
    "ExecuteTime": {
     "end_time": "2020-03-27T00:22:18.417953Z",
     "start_time": "2020-03-27T00:22:14.051953Z"
    },
    "hidden": true,
    "run_control": {
     "marked": true
    },
    "scrolled": true
   },
   "outputs": [
    {
     "name": "stdout",
     "output_type": "stream",
     "text": [
      "Cell 10\n",
      "Cell 20\n",
      "Cell 30\n",
      "Cell 40\n",
      "Cell 50\n",
      "Cell 60\n",
      "Cell 80\n",
      "Cell 90\n",
      "Cell 120\n"
     ]
    },
    {
     "data": {
      "text/plain": [
       "<Image layer 'Cell pixels' at 0x1af217c8>"
      ]
     },
     "execution_count": 165,
     "metadata": {},
     "output_type": "execute_result"
    }
   ],
   "source": [
    "im_array_cells = np.zeros(im_array_ndnf.shape)\n",
    "\n",
    "\n",
    "# indices = list(Cell.cell_data.keys())\n",
    "indices = cells_sub + 1\n",
    "for cell in indices:\n",
    "    if np.mod(cell, 10) == 0:\n",
    "        print('Cell {0}'.format(cell))\n",
    "    planes = Cell.cell_data[cell]['z_planes']\n",
    "    for plane in planes:\n",
    "        mask = cell_pixels_no_lipo[cell][plane]\n",
    "        mask = np.concatenate((np.ones([1, mask.shape[1]])*plane, mask))\n",
    "        mask = mask.astype(int)\n",
    "        im_array_cells[mask[0, :], mask[1, :], mask[2, :]] = np.ones(mask.shape[1])\n",
    "        \n",
    "\n",
    "viewer.add_image(data = im_array_cells, name = 'Cell pixels', colormap = 'blue', blending = 'additive')"
   ]
  },
  {
   "cell_type": "code",
   "execution_count": 163,
   "metadata": {
    "ExecuteTime": {
     "end_time": "2020-03-27T00:20:31.191953Z",
     "start_time": "2020-03-27T00:20:31.186953Z"
    },
    "hidden": true
   },
   "outputs": [
    {
     "data": {
      "text/plain": [
       "(4153, 2)"
      ]
     },
     "execution_count": 163,
     "metadata": {},
     "output_type": "execute_result"
    }
   ],
   "source": [
    "mask.shape"
   ]
  },
  {
   "cell_type": "markdown",
   "metadata": {},
   "source": [
    "## Cells with significant expression"
   ]
  },
  {
   "cell_type": "code",
   "execution_count": null,
   "metadata": {
    "ExecuteTime": {
     "end_time": "2020-03-24T02:36:55.265131Z",
     "start_time": "2020-03-24T02:36:54.003Z"
    }
   },
   "outputs": [],
   "source": [
    "signal = int_ndnf - avg_bg_ndnf\n",
    "order = np.argsort(signal)\n",
    "npos = pv_ndnf3 < 0.05\n",
    "#indices = order[np.logical_not(npos[order])]\n",
    "indices = order[npos[order]]\n",
    "indices = indices[:50]"
   ]
  },
  {
   "cell_type": "code",
   "execution_count": null,
   "metadata": {
    "ExecuteTime": {
     "end_time": "2020-03-24T02:39:12.965182Z",
     "start_time": "2020-03-24T02:39:11.558Z"
    }
   },
   "outputs": [],
   "source": [
    "indices"
   ]
  },
  {
   "cell_type": "code",
   "execution_count": 73,
   "metadata": {
    "ExecuteTime": {
     "end_time": "2020-03-27T11:21:39.250343Z",
     "start_time": "2020-03-27T11:21:38.965109Z"
    }
   },
   "outputs": [],
   "source": [
    "indices = [22]\n",
    "ndnf_mask_layer = viewer.add_shapes(name = 'Ndnf+ {0}'.format(indices[0]))\n",
    "\n",
    "#indices = list(Cell.cell_data.keys())\n",
    "\n",
    "\n",
    "for cell in indices:\n",
    "    \n",
    "    if pv_ndnf3[cell] > 0.05:\n",
    "        n_sig = int_ndnf_bin - avg_bg_ndnf_bin\n",
    "        #if np.logical_and(n_sig[cell - 1] > 150, n_sig[cell - 1] < 250):\n",
    "        #if np.logical_and(n_sig[cell - 1] > 100, n_sig[cell - 1] < 150):\n",
    "        planes = Cell.cell_data[cell + 1]['z_planes']\n",
    "        for plane in planes:\n",
    "            mask = Cell.cell_data[cell + 1]['masks'][plane]\n",
    "            mask = np.concatenate((np.ones([mask.shape[0], 1])*plane, mask), axis = 1)\n",
    "            ndnf_mask_layer.add(mask, shape_type = 'polygon', opacity = 0.2, face_color = 'white', edge_color = 'red', edge_width = 3)"
   ]
  },
  {
   "cell_type": "code",
   "execution_count": 77,
   "metadata": {
    "ExecuteTime": {
     "end_time": "2020-03-27T11:59:24.913307Z",
     "start_time": "2020-03-27T11:59:24.069565Z"
    }
   },
   "outputs": [],
   "source": [
    "indices = [23, 280, 62]\n",
    "\n",
    "for index in indices:\n",
    "    vip_mask_layer = viewer.add_shapes(name = 'Vip+ cells {0}'.format(index))\n",
    "\n",
    "    # indices = list(Cell.cell_data.keys())\n",
    "\n",
    "    for cell in [index]:\n",
    "\n",
    "        if pv_vip3[cell] > 0.05:\n",
    "            v_sig = int_vip_bin - avg_bg_vip_bin\n",
    "            #if np.logical_and(v_sig[cell - 1] > 400, v_sig[cell - 1] < 1000):\n",
    "            planes = Cell.cell_data[cell + 1]['z_planes']\n",
    "            for plane in planes:\n",
    "                mask = Cell.cell_data[cell + 1]['masks'][plane]\n",
    "                mask = np.concatenate((np.ones([mask.shape[0], 1])*plane, mask), axis = 1)\n",
    "                vip_mask_layer.add(mask, shape_type = 'polygon', opacity = 0.2, face_color = 'white', edge_color = 'green', edge_width = 3)"
   ]
  },
  {
   "cell_type": "code",
   "execution_count": 78,
   "metadata": {
    "ExecuteTime": {
     "end_time": "2020-03-27T12:10:10.671619Z",
     "start_time": "2020-03-27T12:10:09.740112Z"
    }
   },
   "outputs": [],
   "source": [
    "indices = [241, 110, 90]\n",
    "for index in indices:\n",
    "    sst_mask_layer = viewer.add_shapes(name = 'Sst+ cells {0}'.format(index))\n",
    "\n",
    "    # indices = list(Cell.cell_data.keys())\n",
    "\n",
    "    for cell in [index]:\n",
    "\n",
    "        if pv_sst3[cell] > 0.05:\n",
    "            s_sig = int_sst_bin - avg_bg_sst_bin\n",
    "    #         if np.logical_and(s_sig[cell - 1] > 400, s_sig[cell - 1] < 1000):\n",
    "            planes = Cell.cell_data[cell + 1]['z_planes']\n",
    "            for plane in planes:\n",
    "                mask = Cell.cell_data[cell + 1]['masks'][plane]\n",
    "                mask = np.concatenate((np.ones([mask.shape[0], 1])*plane, mask), axis = 1)\n",
    "                sst_mask_layer.add(mask, shape_type = 'polygon', opacity = 0.2, face_color = 'white', edge_color = 'blue', edge_width = 3)"
   ]
  },
  {
   "cell_type": "markdown",
   "metadata": {
    "heading_collapsed": true
   },
   "source": [
    "# Cell segmentation"
   ]
  },
  {
   "cell_type": "markdown",
   "metadata": {
    "heading_collapsed": true,
    "hidden": true
   },
   "source": [
    "## Load existing masks"
   ]
  },
  {
   "cell_type": "code",
   "execution_count": 3,
   "metadata": {
    "ExecuteTime": {
     "end_time": "2020-03-27T02:59:15.539026Z",
     "start_time": "2020-03-27T02:59:15.474199Z"
    },
    "hidden": true
   },
   "outputs": [
    {
     "name": "stdout",
     "output_type": "stream",
     "text": [
      "323 cells found\n"
     ]
    }
   ],
   "source": [
    "save_loc = 'G:\\\\Shared drives\\\\as_share\\\\HCR\\\\HCR 3.12'\n",
    "save_file= 'S5_data.pkl'\n",
    "try:\n",
    "    with open('{0}\\{1}'.format(save_loc, save_file), 'rb') as f:\n",
    "        Cell.cell_data = pkl.load(f)\n",
    "        indices = list(Cell.cell_data.keys())\n",
    "        if not np.max(indices) == len(indices):\n",
    "            print('Re-numbering cells to be consecutive')\n",
    "            Cell.cell_data_temp = {}\n",
    "            for i in range(len(indices)):\n",
    "                Cell.cell_data_temp[i + 1] = Cell.cell_data[indices[i]]\n",
    "                Cell.cell_data_temp[i + 1]['cell_id'] = i + 1\n",
    "            Cell.cell_data = Cell.cell_data_temp \n",
    "            with open('{0}\\{1}'.format(save_loc, save_file), 'wb') as f:\n",
    "                pkl.dump(Cell.cell_data, f)\n",
    "            Cell.n_cells = i + 1\n",
    "        else:\n",
    "            Cell.n_cells = len(indices)\n",
    "    print('{0} cells found'.format(Cell.n_cells))\n",
    "except:\n",
    "    print('No data found')"
   ]
  },
  {
   "cell_type": "markdown",
   "metadata": {
    "heading_collapsed": true,
    "hidden": true
   },
   "source": [
    "## If loading a subset of planes, subselect cells"
   ]
  },
  {
   "cell_type": "code",
   "execution_count": 27,
   "metadata": {
    "ExecuteTime": {
     "end_time": "2020-03-26T17:43:39.244953Z",
     "start_time": "2020-03-26T17:43:39.235953Z"
    },
    "hidden": true
   },
   "outputs": [
    {
     "name": "stdout",
     "output_type": "stream",
     "text": [
      "[  0   1   2   3   4   5   6   7   8   9  10  11  12  13  14  15  16  17\n",
      "  18  19  20  21  22  23  24  25  26  27  28  29  30  31  32  33  34  35\n",
      "  36  37  38  39  40  41  42  43  44  45  46  47  48  49  50  51  52  53\n",
      "  54  55  56  57  58  59  60  61  62  63  64  66  67  68  70  71  72  73\n",
      "  74  75  76  77  78  79  80  81  82  83  84  85  86  87  88  89  90  91\n",
      "  92  93 104 111 113 114 119 120 126]\n"
     ]
    }
   ],
   "source": [
    "cells_sub = []\n",
    "for cell in range(Cell.n_cells):\n",
    "    flag = 0\n",
    "    cell_no = cell + 1\n",
    "    cp = Cell.cell_data[cell_no]['z_planes']\n",
    "    for p in cp:\n",
    "        if p + 1 not in list(plane_nos):\n",
    "            flag = 1\n",
    "    if flag == 0:\n",
    "        cells_sub = np.append(cells_sub, cell)\n",
    "\n",
    "cells_sub = np.array(cells_sub)\n",
    "cells_sub = cells_sub.astype(int)\n",
    "print(cells_sub)"
   ]
  },
  {
   "cell_type": "markdown",
   "metadata": {
    "heading_collapsed": true,
    "hidden": true
   },
   "source": [
    "## Get pixels in cell masks"
   ]
  },
  {
   "cell_type": "code",
   "execution_count": 4,
   "metadata": {
    "ExecuteTime": {
     "end_time": "2020-03-27T02:59:52.563332Z",
     "start_time": "2020-03-27T02:59:40.857650Z"
    },
    "hidden": true
   },
   "outputs": [
    {
     "name": "stdout",
     "output_type": "stream",
     "text": [
      "Data loaded\n"
     ]
    }
   ],
   "source": [
    "save_loc = 'G:\\\\Shared drives\\\\as_share\\\\HCR\\\\HCR 3.12'\n",
    "#save_file = 'S2_cell_pixels.pkl'\n",
    "save_file = 'S5_mask_vertices.pkl'\n",
    "\n",
    "t0 = time.time()\n",
    "\n",
    "try:\n",
    "    with open('{0}\\\\{1}'.format(save_loc, save_file), 'rb') as f:\n",
    "        mask_vertices = pkl.load(f)\n",
    "        cells = mask_vertices.keys()\n",
    "#         cells = cells_sub + 1\n",
    "        x = 0\n",
    "        all_cell_pixels = np.zeros([1, 3])\n",
    "        for cell in cells:\n",
    "            data = Cell.cell_data[cell]\n",
    "            planes = data['z_planes']\n",
    "            for plane in planes:\n",
    "                xvals = np.reshape(mask_vertices[cell][plane][0], [-1, 1])\n",
    "                yvals = np.reshape(mask_vertices[cell][plane][1], [-1, 1])\n",
    "                zvals = np.ones([len(xvals), 1])*plane\n",
    "                coords = np.concatenate((zvals, xvals, yvals), axis = 1)\n",
    "                all_cell_pixels = np.concatenate((all_cell_pixels, coords), axis = 0)\n",
    "        \n",
    "        all_cell_pixels = all_cell_pixels[1:, :].astype(int)\n",
    "            \n",
    "        print('Data loaded')\n",
    "        \n",
    "except IOError:\n",
    "    print('No saved data found, calculating mask pixels')\n",
    "#     xv = range(w)\n",
    "#     yv = range(h)\n",
    "#     coord_array = np.array(np.meshgrid(xv, yv))\n",
    "\n",
    "#     points = np.zeros([h*w, 2])\n",
    "#     p = 0\n",
    "#     for i in range(h):\n",
    "#         for j in range(w):\n",
    "#             points[p, 1] = coord_array[0, i, j]\n",
    "#             points[p, 0] = coord_array[1, i, j]\n",
    "#             p += 1\n",
    "\n",
    "    no_cells = len(Cell.cell_data.keys())\n",
    "    mask_vertices = {}\n",
    "    for cell in range(no_cells):\n",
    "        if np.mod(cell, 2) == 0:\n",
    "            print('Cell {0}: {1} seconds'.format(cell, np.round(time.time() - t0)))\n",
    "        cell_no = cell + 1\n",
    "        mask_vertices[cell_no] = {}\n",
    "        cell_dict = Cell.cell_data[cell_no]\n",
    "        masks = cell_dict['masks']\n",
    "        z_planes = cell_dict['z_planes']\n",
    "        for plane in z_planes:\n",
    "\n",
    "            vertices = masks[plane]\n",
    "            path = mpltpath.Path(vertices)\n",
    "            mask = path.contains_points(points)\n",
    "            mask = np.reshape(mask, [h, w])\n",
    "            mask_vertices[cell_no][plane] = np.where(mask)\n",
    "    \n",
    "    with open('{0}\\\\{1}'.format(save_loc, save_file), 'wb') as f:\n",
    "        pkl.dump(mask_vertices, f)"
   ]
  },
  {
   "cell_type": "code",
   "execution_count": 35,
   "metadata": {
    "ExecuteTime": {
     "end_time": "2020-03-21T19:56:50.282418Z",
     "start_time": "2020-03-21T19:56:49.744618Z"
    },
    "hidden": true
   },
   "outputs": [],
   "source": [
    "with open('{0}\\\\{1}'.format(save_loc, save_file), 'wb') as f:\n",
    "    pkl.dump(mask_vertices, f)"
   ]
  },
  {
   "cell_type": "markdown",
   "metadata": {
    "heading_collapsed": true,
    "hidden": true
   },
   "source": [
    "## Semi-manual segmentation using Gad1 channel"
   ]
  },
  {
   "cell_type": "markdown",
   "metadata": {
    "heading_collapsed": true,
    "hidden": true
   },
   "source": [
    "### Data structure to store cell masks"
   ]
  },
  {
   "cell_type": "code",
   "execution_count": 5,
   "metadata": {
    "ExecuteTime": {
     "end_time": "2020-03-21T21:20:54.889062Z",
     "start_time": "2020-03-21T21:20:54.875099Z"
    },
    "hidden": true
   },
   "outputs": [],
   "source": [
    "class Cell:\n",
    "    n_cells = 1\n",
    "    cell_data = {}\n",
    "    \n",
    "    def __init__(self, cell_no):\n",
    "        \n",
    "        self.cell_no = cell_no\n",
    "        self.z_planes = []\n",
    "        self.no_planes = 0\n",
    "        self.masks = {}\n",
    "        self.c_vals = np.zeros(1)\n",
    "        print('Cell #{0} created'.format(Cell.n_cells))\n",
    "        \n",
    "    def add_mask(self, z_plane, mask):\n",
    "        self.z_planes.append(z_plane)\n",
    "        self.no_planes += 1\n",
    "        self.masks[z_plane] = mask\n",
    "            \n",
    "    def save_cell(self):\n",
    "        Cell.cell_data[self.cell_no] = {'cell_id': self.cell_no,\n",
    "                                 'z_planes': self.z_planes,\n",
    "                                 'masks': self.masks,\n",
    "                                 'no_planes': self.no_planes,\n",
    "                                 'c_vals':self.c_vals}"
   ]
  },
  {
   "cell_type": "markdown",
   "metadata": {
    "heading_collapsed": true,
    "hidden": true
   },
   "source": [
    "### Napari keybindings"
   ]
  },
  {
   "cell_type": "code",
   "execution_count": 35,
   "metadata": {
    "ExecuteTime": {
     "end_time": "2020-03-22T19:33:59.647318Z",
     "start_time": "2020-03-22T19:33:59.086821Z"
    },
    "hidden": true,
    "run_control": {
     "marked": true
    }
   },
   "outputs": [],
   "source": [
    "mask_layer = viewer.add_shapes(data = None, shape_type = 'polygon', opacity = 0.2, face_color = 'white', edge_color = 'red', edge_width = 3)\n",
    "point_layer = viewer.add_points(data = None)\n",
    "save_loc = 'G:{0}Shared drives{0}as_share{0}HCR{0}HCR 3.11'.format(sep)\n",
    "save_file = 'S5_data.pkl'\n",
    "\n",
    "@viewer.bind_key('n', overwrite = True)\n",
    "def new_cell(viewer):\n",
    "    global cell1 \n",
    "    cell1 = Cell(Cell.n_cells)\n",
    "    print(Cell.n_cells)\n",
    "    Cell.n_cells += 1\n",
    "    \n",
    "    \n",
    "@viewer.bind_key('d', overwrite = True)\n",
    "def get_mask(viewer):\n",
    "    center = point_layer.data[-1, 1:] # Last drawn point\n",
    "    z_plane = point_layer.data[-1, 0].astype(int)\n",
    "    image = im_array_ndnf_blur[z_plane, :, :]\n",
    "    cell_radius_px = 70\n",
    "\n",
    "    boundary = disc_roi(image, center, z_plane, cell_radius_px)\n",
    "\n",
    "    mask_layer.add(boundary, shape_type= 'polygon')\n",
    "    \n",
    "    \n",
    "@viewer.bind_key('m', overwrite = True)\n",
    "def add_mask(viewer):\n",
    "    \n",
    "    z_plane = mask_layer.data[-1][0, 0]\n",
    "    mask = mask_layer.data[-1][:, 1:]\n",
    "    cell1.add_mask(z_plane, mask)\n",
    "    \n",
    "@viewer.bind_key('y', overwrite = True)\n",
    "def del_cell(viewer):\n",
    "    \n",
    "    mask_no = mask_layer2.selected_data[0]\n",
    "    cell = mask_cell_nos[mask_no]\n",
    "    z_plane = mask_layer2.coordinates[0]\n",
    "    \n",
    "    Cell.cell_data[cell]['masks'][z_plane] = mask_layer2.data[mask_no][:, 1:]\n",
    "    with open('{0}\\{1}'.format(save_loc, save_file), 'wb') as f:\n",
    "                pkl.dump(Cell.cell_data, f)\n",
    "    \n",
    "    mask = Cell.cell_data[cell]['masks'][z_plane]\n",
    "    n_vertices = mask.shape[0]\n",
    "    mask = np.concatenate([np.ones([n_vertices, 1])*z_plane, mask], axis = 1)\n",
    "    mask_layer2.add(mask, shape_type = 'polygon', opacity = 0.4, \n",
    "                    face_color = 'white', edge_color = 'yellow', edge_width = 5)\n",
    "    \n",
    "    \n",
    "@viewer.bind_key('k', overwrite = True)\n",
    "def save_cell(viewer):\n",
    "    cell1.save_cell()\n",
    "    \n",
    "@viewer.bind_key('Control-s', overwrite = True)\n",
    "def save_all(viewer):\n",
    "    with open('{0}\\{1}'.format(save_loc, save_file), 'wb') as f:\n",
    "                pkl.dump(Cell.cell_data, f)"
   ]
  },
  {
   "cell_type": "code",
   "execution_count": 12,
   "metadata": {
    "ExecuteTime": {
     "end_time": "2020-03-21T13:56:21.655994Z",
     "start_time": "2020-03-21T13:56:21.604994Z"
    },
    "hidden": true
   },
   "outputs": [
    {
     "ename": "IndexError",
     "evalue": "list index out of range",
     "output_type": "error",
     "traceback": [
      "\u001b[1;31m---------------------------------------------------------------------------\u001b[0m",
      "\u001b[1;31mIndexError\u001b[0m                                Traceback (most recent call last)",
      "\u001b[1;32m<ipython-input-12-1827c3883581>\u001b[0m in \u001b[0;36m<module>\u001b[1;34m\u001b[0m\n\u001b[1;32m----> 1\u001b[1;33m \u001b[0mdel_cell\u001b[0m\u001b[1;33m(\u001b[0m\u001b[0mviewer\u001b[0m\u001b[1;33m)\u001b[0m\u001b[1;33m\u001b[0m\u001b[1;33m\u001b[0m\u001b[0m\n\u001b[0m",
      "\u001b[1;32m<ipython-input-10-ee168cdb9dcb>\u001b[0m in \u001b[0;36mdel_cell\u001b[1;34m(viewer)\u001b[0m\n\u001b[0;32m     34\u001b[0m \u001b[1;32mdef\u001b[0m \u001b[0mdel_cell\u001b[0m\u001b[1;33m(\u001b[0m\u001b[0mviewer\u001b[0m\u001b[1;33m)\u001b[0m\u001b[1;33m:\u001b[0m\u001b[1;33m\u001b[0m\u001b[1;33m\u001b[0m\u001b[0m\n\u001b[0;32m     35\u001b[0m \u001b[1;33m\u001b[0m\u001b[0m\n\u001b[1;32m---> 36\u001b[1;33m     \u001b[0mmask_no\u001b[0m \u001b[1;33m=\u001b[0m \u001b[0mmask_layer2\u001b[0m\u001b[1;33m.\u001b[0m\u001b[0mselected_data\u001b[0m\u001b[1;33m[\u001b[0m\u001b[1;36m0\u001b[0m\u001b[1;33m]\u001b[0m\u001b[1;33m\u001b[0m\u001b[1;33m\u001b[0m\u001b[0m\n\u001b[0m\u001b[0;32m     37\u001b[0m     \u001b[0mcell\u001b[0m \u001b[1;33m=\u001b[0m \u001b[0mmask_cell_nos\u001b[0m\u001b[1;33m[\u001b[0m\u001b[0mmask_no\u001b[0m\u001b[1;33m]\u001b[0m\u001b[1;33m\u001b[0m\u001b[1;33m\u001b[0m\u001b[0m\n\u001b[0;32m     38\u001b[0m     \u001b[0mz_plane\u001b[0m \u001b[1;33m=\u001b[0m \u001b[0mmask_layer2\u001b[0m\u001b[1;33m.\u001b[0m\u001b[0mcoordinates\u001b[0m\u001b[1;33m[\u001b[0m\u001b[1;36m0\u001b[0m\u001b[1;33m]\u001b[0m\u001b[1;33m\u001b[0m\u001b[1;33m\u001b[0m\u001b[0m\n",
      "\u001b[1;31mIndexError\u001b[0m: list index out of range"
     ]
    }
   ],
   "source": [
    "del_cell(viewer)"
   ]
  },
  {
   "cell_type": "markdown",
   "metadata": {
    "heading_collapsed": true,
    "hidden": true
   },
   "source": [
    "### One click segmentation"
   ]
  },
  {
   "cell_type": "markdown",
   "metadata": {
    "heading_collapsed": true,
    "hidden": true
   },
   "source": [
    "#### View saved masks"
   ]
  },
  {
   "cell_type": "code",
   "execution_count": 161,
   "metadata": {
    "ExecuteTime": {
     "end_time": "2020-03-19T23:51:48.243570Z",
     "start_time": "2020-03-19T23:51:48.230570Z"
    },
    "hidden": true
   },
   "outputs": [
    {
     "data": {
      "text/plain": [
       "357"
      ]
     },
     "execution_count": 161,
     "metadata": {},
     "output_type": "execute_result"
    }
   ],
   "source": [
    "Cell.n_cells"
   ]
  },
  {
   "cell_type": "code",
   "execution_count": 68,
   "metadata": {
    "ExecuteTime": {
     "end_time": "2020-03-23T18:13:41.926714Z",
     "start_time": "2020-03-23T18:13:41.877844Z"
    },
    "hidden": true
   },
   "outputs": [],
   "source": [
    "save_loc = 'G:\\\\Shared drives\\\\as_share\\\\HCR\\\\HCR 3.12'\n",
    "save_file= 'S5_data.pkl'\n",
    "\n",
    "with open('{0}\\{1}'.format(save_loc, save_file), 'wb') as f:\n",
    "        pkl.dump(Cell.cell_data, f)"
   ]
  },
  {
   "cell_type": "code",
   "execution_count": 13,
   "metadata": {
    "ExecuteTime": {
     "end_time": "2020-03-21T14:23:04.306803Z",
     "start_time": "2020-03-21T14:23:04.236203Z"
    },
    "hidden": true,
    "run_control": {
     "marked": true
    }
   },
   "outputs": [],
   "source": [
    "# Check number of masks per cell, and variance of mask centers\n",
    "indices = list(Cell.cell_data.keys())\n",
    "n_planes = np.zeros(len(indices)).astype(int)\n",
    "var_masks = np.zeros([len(indices), 2])\n",
    "\n",
    "if not np.max(indices) == len(indices):\n",
    "    print('{0} cells not recorded'.format(np.max(indices) - len(indices)))\n",
    "    print('Re-numbering cells to be consecutive')\n",
    "    Cell.cell_data_temp = {}\n",
    "    for i in range(len(indices)):\n",
    "        Cell.cell_data_temp[i + 1] = Cell.cell_data[indices[i]]\n",
    "        Cell.cell_data_temp[i + 1]['cell_id'] = i + 1\n",
    "    Cell.cell_data = Cell.cell_data_temp \n",
    "    with open('{0}\\{1}'.format(save_loc, save_file), 'wb') as f:\n",
    "        pkl.dump(Cell.cell_data, f)\n",
    "        \n",
    "Cell.n_cells = len(indices)\n",
    "        \n",
    "for i in range(len(indices)):\n",
    "    z_planes = Cell.cell_data[i + 1]['z_planes']\n",
    "    n_planes[i] = len(z_planes)\n",
    "    masks = Cell.cell_data[i + 1]['masks']\n",
    "    centers = np.zeros([n_planes[i], 2])\n",
    "    for j in range(n_planes[i]):\n",
    "        centers[j, 0] = np.mean(masks[z_planes[j]][:, 0])\n",
    "        centers[j, 1] = np.mean(masks[z_planes[j]][:, 1])\n",
    "    var_masks[i, 0] = np.var(centers[:, 0])\n",
    "    var_masks[i, 1] = np.var(centers[:, 1])\n",
    "    \n",
    "    "
   ]
  },
  {
   "cell_type": "code",
   "execution_count": 14,
   "metadata": {
    "ExecuteTime": {
     "end_time": "2020-03-21T14:23:05.464403Z",
     "start_time": "2020-03-21T14:23:05.368803Z"
    },
    "hidden": true
   },
   "outputs": [
    {
     "data": {
      "text/plain": [
       "<matplotlib.legend.Legend at 0x16780248>"
      ]
     },
     "execution_count": 14,
     "metadata": {},
     "output_type": "execute_result"
    }
   ],
   "source": [
    "fig, ax = plt.subplots(nrows = 2, ncols = 1, sharex = True, figsize = [15, 5])\n",
    "ax[0].plot(n_planes)\n",
    "ax[0].set_xlabel('Cell number')\n",
    "ax[0].set_ylabel('Number of masks')\n",
    "ax[1].plot(var_masks[:, 0], label = 'y_values')\n",
    "ax[1].plot(var_masks[:, 1], label = 'x_values')\n",
    "ax[1].set_ylabel('Variance of centers')\n",
    "ax[1].plot(range(len(indices)), np.ones(len(indices))*8, '--', color = 'k')\n",
    "ax[1].legend()"
   ]
  },
  {
   "cell_type": "markdown",
   "metadata": {
    "heading_collapsed": true,
    "hidden": true
   },
   "source": [
    "#### Functions"
   ]
  },
  {
   "cell_type": "code",
   "execution_count": 36,
   "metadata": {
    "ExecuteTime": {
     "end_time": "2020-03-22T19:35:31.437458Z",
     "start_time": "2020-03-22T19:35:31.415517Z"
    },
    "hidden": true
   },
   "outputs": [],
   "source": [
    "def disc_roi(image, center, z_plane, cell_radius_px, n_theta = 30, thresh = 0.5):\n",
    "    \n",
    "    full_radius = round(1.3*cell_radius_px)\n",
    "    thetas = np.linspace(0, 2*np.pi, n_theta)\n",
    "    [x, y] = center\n",
    "    \n",
    "    \n",
    "    line_profiles = np.zeros([full_radius, n_theta])\n",
    "    \n",
    "    r_threshold_cross = np.zeros(n_theta)\n",
    "    \n",
    "    for t in range(n_theta):\n",
    "        theta = thetas[t]\n",
    "        f = profile_line(image, (x, y), (x + full_radius*np.cos(theta), y + full_radius*np.sin(theta)))\n",
    "        r_threshold_cross[t] = find_first_cross(f, thresh)\n",
    "        line_profiles[:, t] = -1*np.abs(np.array(range(full_radius)) - r_threshold_cross[t]) + full_radius;\n",
    "        \n",
    "    #path = find_path(line_profiles)\n",
    "   \n",
    "    #boundary = np.zeros([2, n_theta])\n",
    "    #boundary[0, :] = x + np.multiply(path, np.cos(thetas))\n",
    "    #boundary[1, :] = y + np.multiply(path, np.sin(thetas))\n",
    "    #boundary = boundary.astype(int)\n",
    "    \n",
    "    angular_dist = np.argmax(line_profiles, axis = 0)\n",
    "    boundary = np.zeros([n_theta, 3])\n",
    "    boundary[:, 0] = np.ones(n_theta)*z_plane\n",
    "    boundary[:, 1] = x + np.multiply(angular_dist, np.cos(thetas))\n",
    "    boundary[:, 2] = y + np.multiply(angular_dist, np.sin(thetas))\n",
    "    \n",
    "    \n",
    "    \n",
    "    return boundary\n",
    "\n",
    "def find_first_cross(line_profile, thresh):\n",
    "    \n",
    "    # Assumes line profile goes from inside cell to outside\n",
    "    max_val = np.max(line_profile)\n",
    "    max_idx = np.argmax(line_profile)\n",
    "    min_val_out = np.min(line_profile[max_idx:]) # Minimum intensity outside cell\n",
    "    \n",
    "    thresh_val = min_val_out + thresh*(max_val - min_val_out)\n",
    "    r_cross = max_idx + np.where(line_profile[max_idx:] < thresh_val)[0][0]\n",
    "    \n",
    "    return r_cross\n",
    "\n",
    "def find_path(line_profiles):\n",
    "    \n",
    "    # line_profiles should be of shape radius X n_theta\n",
    "    radius = line_profiles.shape[0]\n",
    "    n_theta = line_profiles.shape[1]\n",
    "    \n",
    "    pointer = np.zeros([radius, n_theta])\n",
    "    value = np.zeros([radius, n_theta])\n",
    "    value[:, 0] = line_profiles[:, 0]\n",
    "    \n",
    "    for i in range(1, n_theta):\n",
    "        for j in range(1, radius - 1):\n",
    "            \n",
    "            M = np.max(value[j-1:j+1, i-1])\n",
    "            ind = np.argmax(value[j-1:j+1, i-1])\n",
    "            \n",
    "            value[j, i] = M + line_profiles[j, i]\n",
    "            pointer[j,i] = j + ind - 1\n",
    "            \n",
    "    # Second traverse to minimize boundary effect\n",
    "    pointer = np.zeros([radius, n_theta])\n",
    "    value[:, 1] = value[:, -1]\n",
    "    \n",
    "    for i in range(1, n_theta):\n",
    "        for j in range(1, radius - 1):\n",
    "            \n",
    "            M = np.max(value[j-1:j+1, i-1])\n",
    "            ind = np.argmax(value[j-1:j+1, i-1])\n",
    "            \n",
    "            value[j, i] = M + line_profiles[j, i]\n",
    "            pointer[j,i] = j + ind - 1\n",
    "    \n",
    "    path = np.zeros(n_theta).astype(int)\n",
    "    \n",
    "    M = np.max(value[:, -1])\n",
    "    ind = np.argmax(value[:, -1])\n",
    "    path[-1] = ind\n",
    "    \n",
    "    for j in np.flip(range(1, n_theta)):\n",
    "        path[j-1] = pointer[path[j], j]\n",
    "        \n",
    "    return path"
   ]
  },
  {
   "cell_type": "markdown",
   "metadata": {
    "heading_collapsed": true,
    "hidden": true
   },
   "source": [
    "#### Find intensity profile at a line joining two points"
   ]
  },
  {
   "cell_type": "code",
   "execution_count": 77,
   "metadata": {
    "ExecuteTime": {
     "end_time": "2020-03-18T03:20:46.644971Z",
     "start_time": "2020-03-18T03:20:46.422567Z"
    },
    "hidden": true
   },
   "outputs": [],
   "source": [
    "point_layer = viewer.add_points(data = None)"
   ]
  },
  {
   "cell_type": "code",
   "execution_count": 85,
   "metadata": {
    "ExecuteTime": {
     "end_time": "2020-03-18T03:21:59.843777Z",
     "start_time": "2020-03-18T03:21:59.827822Z"
    },
    "hidden": true
   },
   "outputs": [
    {
     "name": "stdout",
     "output_type": "stream",
     "text": [
      "Pixel distance = 58.0, number of points in profile = (60,)\n",
      "x1 = 1124.5762199044127, y1 = 10278.852064061517, x2 = 1083.8527461351187, y2 = 10320.211842108456\n"
     ]
    }
   ],
   "source": [
    "image = im_array_gad1_blur[0, :, :]\n",
    "\n",
    "[x1, y1] = point_layer.data[0, 1:]\n",
    "[x2, y2] = point_layer.data[1, 1:]\n",
    "z = point_layer.data[0, 0]\n",
    "\n",
    "profile = profile_line(image, (x1, y1), (x2, y2))\n",
    "n_points = profile.shape\n",
    "px_dist = np.floor(np.linalg.norm(np.array([x1, y1]) - np.array([x2, y2])))\n",
    "print('Pixel distance = {0}, number of points in profile = {1}'.format(px_dist, n_points))\n",
    "\n",
    "print('x1 = {0}, y1 = {1}, x2 = {2}, y2 = {3}'.format(x1, y1, x2, y2))"
   ]
  },
  {
   "cell_type": "markdown",
   "metadata": {
    "heading_collapsed": true,
    "hidden": true
   },
   "source": [
    "#### Find point where intensity falls below threshold"
   ]
  },
  {
   "cell_type": "code",
   "execution_count": 86,
   "metadata": {
    "ExecuteTime": {
     "end_time": "2020-03-18T03:22:05.035618Z",
     "start_time": "2020-03-18T03:22:05.025645Z"
    },
    "hidden": true
   },
   "outputs": [],
   "source": [
    "thresh = 0.1\n",
    "line_profile = profile\n",
    "max_val = np.max(line_profile)\n",
    "max_idx = np.argmax(line_profile)\n",
    "min_val_out = np.min(line_profile[max_idx:]) # Minimum intensity outside cell\n",
    "thresh_val = min_val_out + thresh*(max_val - min_val_out)\n",
    "r_cross = max_idx + np.where(line_profile[max_idx:] < thresh_val)[0][0]"
   ]
  },
  {
   "cell_type": "code",
   "execution_count": 87,
   "metadata": {
    "ExecuteTime": {
     "end_time": "2020-03-18T03:22:05.597148Z",
     "start_time": "2020-03-18T03:22:05.537309Z"
    },
    "hidden": true
   },
   "outputs": [
    {
     "data": {
      "text/plain": [
       "[<matplotlib.lines.Line2D at 0x1f7124a7b08>]"
      ]
     },
     "execution_count": 87,
     "metadata": {},
     "output_type": "execute_result"
    }
   ],
   "source": [
    "plt.figure()\n",
    "plt.plot(line_profile, color = 'k')\n",
    "\n",
    "xl = np.array(plt.gca().get_xlim())\n",
    "yl = np.array(plt.gca().get_ylim())\n",
    "xi = np.linspace(xl[0], xl[1], 10)\n",
    "yi = np.linspace(yl[0], yl[1], 10)\n",
    "\n",
    "plt.plot(xi, np.ones(10)*max_val, color = 'r', linestyle = '--')\n",
    "plt.plot(xi, np.ones(10)*min_val_out, color = 'r', linestyle = '--')\n",
    "plt.plot(xi, np.ones(10)*thresh_val, color = 'b', linestyle = '--')\n",
    "plt.plot(np.ones(10)*r_cross, yi, color = 'b', linestyle = '--')"
   ]
  },
  {
   "cell_type": "markdown",
   "metadata": {
    "heading_collapsed": true,
    "hidden": true
   },
   "source": [
    "#### Find intensity profile at several angles"
   ]
  },
  {
   "cell_type": "code",
   "execution_count": 92,
   "metadata": {
    "ExecuteTime": {
     "end_time": "2020-03-18T03:23:57.969064Z",
     "start_time": "2020-03-18T03:23:57.838412Z"
    },
    "hidden": true
   },
   "outputs": [
    {
     "data": {
      "text/plain": [
       "Text(0.5, 1.0, 'Pixel intensity')"
      ]
     },
     "execution_count": 92,
     "metadata": {},
     "output_type": "execute_result"
    }
   ],
   "source": [
    "center = [x1, y1]\n",
    "cell_radius_px = 70\n",
    "n_theta = 30\n",
    "thresh = 0.2\n",
    "\n",
    "full_radius = round(1.3*cell_radius_px)\n",
    "thetas = np.linspace(0, 2*np.pi, n_theta)\n",
    "[h, w] = image.shape\n",
    "[x, y] = center\n",
    "\n",
    "\n",
    "line_profiles = np.zeros([full_radius, n_theta])\n",
    "line_profiles_mod = np.zeros([full_radius, n_theta])\n",
    "\n",
    "r_threshold_cross = np.zeros(n_theta)\n",
    "\n",
    "for t in range(n_theta):\n",
    "    theta = thetas[t]\n",
    "    f = profile_line(image, (x, y), (x + full_radius*np.cos(theta), y + full_radius*np.sin(theta)))\n",
    "    line_profiles[:, t] = f[:full_radius]\n",
    "    r_threshold_cross[t] = find_first_cross(f, thresh)\n",
    "    line_profiles_mod[:, t] = -1*np.abs(np.array(range(full_radius)) - r_threshold_cross[t]) + full_radius;\n",
    "    \n",
    "plt.figure()\n",
    "plt.imshow(line_profiles_mod)\n",
    "plt.xlabel('Theta/4')\n",
    "plt.ylabel('Distance from center (px)')\n",
    "plt.title('Pixel intensity')"
   ]
  },
  {
   "cell_type": "code",
   "execution_count": 67,
   "metadata": {
    "ExecuteTime": {
     "end_time": "2020-03-18T03:18:10.396994Z",
     "start_time": "2020-03-18T03:18:10.315211Z"
    },
    "hidden": true
   },
   "outputs": [
    {
     "data": {
      "text/plain": [
       "<matplotlib.image.AxesImage at 0x1f983f58e48>"
      ]
     },
     "execution_count": 67,
     "metadata": {},
     "output_type": "execute_result"
    }
   ],
   "source": [
    "fig, ax = plt.subplots(nrows = 1, ncols = 2)\n",
    "ax[0].imshow(line_profiles)\n",
    "ax[1].imshow(line_profiles_mod)"
   ]
  },
  {
   "cell_type": "code",
   "execution_count": 93,
   "metadata": {
    "ExecuteTime": {
     "end_time": "2020-03-18T03:24:10.190996Z",
     "start_time": "2020-03-18T03:24:10.182020Z"
    },
    "hidden": true
   },
   "outputs": [],
   "source": [
    "angular_dist = np.argmax(line_profiles_mod, axis = 0)\n",
    "boundary = np.zeros([n_theta, 3])\n",
    "boundary[:, 0] = np.ones(n_theta)*z\n",
    "boundary[:, 1] = x + np.multiply(angular_dist, np.cos(thetas))\n",
    "boundary[:, 2] = y + np.multiply(angular_dist, np.sin(thetas))"
   ]
  },
  {
   "cell_type": "markdown",
   "metadata": {
    "heading_collapsed": true,
    "hidden": true
   },
   "source": [
    "#### Find boundary of cell from intensity profiles"
   ]
  },
  {
   "cell_type": "code",
   "execution_count": 39,
   "metadata": {
    "ExecuteTime": {
     "end_time": "2020-03-18T01:15:10.496818Z",
     "start_time": "2020-03-18T01:15:10.167699Z"
    },
    "hidden": true
   },
   "outputs": [
    {
     "data": {
      "text/plain": [
       "[<matplotlib.lines.Line2D at 0x1f714371648>]"
      ]
     },
     "execution_count": 39,
     "metadata": {},
     "output_type": "execute_result"
    }
   ],
   "source": [
    "radius = line_profiles.shape[0]\n",
    "n_theta = line_profiles.shape[1]\n",
    "\n",
    "pointer = np.zeros([radius, n_theta])\n",
    "value = np.zeros([radius, n_theta])\n",
    "value[:, 0] = line_profiles_mod[:, 0]\n",
    "\n",
    "for i in range(1, n_theta):\n",
    "    for j in range(1, radius - 1):\n",
    "\n",
    "        M = np.max(value[j-1:j+1, i-1])\n",
    "        ind = np.argmax(value[j-1:j+1, i-1])\n",
    "\n",
    "        value[j, i] = M + line_profiles_mod[j, i]\n",
    "        pointer[j,i] = j + ind - 1\n",
    "        \n",
    "fig, ax = plt.subplots(nrows = 2, ncols = 2, figsize = (20, 10))\n",
    "ax[0, 0].imshow(value)\n",
    "ax[0, 0].set_xlabel('Theta/4')\n",
    "ax[0, 0].set_ylabel('Distance from center (px)')\n",
    "ax[0, 0].set_title('Value - first iteration')\n",
    "\n",
    "ax[0, 1].imshow(pointer)\n",
    "ax[0, 1].set_xlabel('Theta/4')\n",
    "ax[0, 1].set_ylabel('Distance from center (px)')\n",
    "ax[0, 1].set_title('Pointer - first iteration')\n",
    "\n",
    "# Second traverse to minimize boundary effect\n",
    "pointer = np.zeros([radius, n_theta])\n",
    "value[:, 1] = value[:, -1]\n",
    "\n",
    "for i in range(1, n_theta):\n",
    "    for j in range(1, radius - 1):\n",
    "\n",
    "        M = np.max(value[j-1:j+1, i-1])\n",
    "        ind = np.argmax(value[j-1:j+1, i-1])\n",
    "\n",
    "        value[j, i] = M + line_profiles[j, i]\n",
    "        pointer[j,i] = j + ind - 1\n",
    "\n",
    "ax[1, 0].imshow(value)\n",
    "ax[1, 0].set_xlabel('Theta/4')\n",
    "ax[1, 0].set_ylabel('Distance from center (px)')\n",
    "ax[1, 0].set_title('Value - second iteration')\n",
    "\n",
    "ax[1, 1].imshow(pointer)\n",
    "ax[1, 1].set_xlabel('Theta/4')\n",
    "ax[1, 1].set_ylabel('Distance from center (px)')\n",
    "ax[1, 1].set_title('Pointer - second iteration')\n",
    "\n",
    "path = np.zeros(n_theta).astype(int)\n",
    "    \n",
    "M = np.max(value[:, -1])\n",
    "ind = np.argmax(value[:, -1])\n",
    "path[-1] = ind\n",
    "\n",
    "for j in np.flip(range(1, n_theta)):\n",
    "    path[j-1] = pointer[path[j], j]\n",
    "    \n",
    "boundary = np.zeros([n_theta, 3])\n",
    "boundary[:, 0] = np.ones(n_theta)*z\n",
    "boundary[:, 1] = x + np.multiply(path, np.cos(thetas))\n",
    "boundary[:, 2] = y + np.multiply(path, np.sin(thetas))\n",
    "\n",
    "# boundary = np.zeros([2, n_theta])\n",
    "# boundary[0, :] = x + np.multiply(path, np.cos(thetas))\n",
    "# boundary[1, :] = y + np.multiply(path, np.sin(thetas))\n",
    "\n",
    "boundary = boundary.astype(int)\n",
    "    \n",
    "ax[1, 1].plot(path, color = 'r', linestyle = '--')"
   ]
  },
  {
   "cell_type": "markdown",
   "metadata": {
    "heading_collapsed": true
   },
   "source": [
    "# Lipofuscin exlcusion"
   ]
  },
  {
   "cell_type": "markdown",
   "metadata": {
    "heading_collapsed": true,
    "hidden": true
   },
   "source": [
    "## Load existing lipofuscin ROIs"
   ]
  },
  {
   "cell_type": "code",
   "execution_count": 5,
   "metadata": {
    "ExecuteTime": {
     "end_time": "2020-03-27T03:00:36.638999Z",
     "start_time": "2020-03-27T03:00:36.325839Z"
    },
    "hidden": true
   },
   "outputs": [
    {
     "name": "stdout",
     "output_type": "stream",
     "text": [
      "35 rois\n"
     ]
    }
   ],
   "source": [
    "save_loc = 'G:\\\\Shared drives\\\\as_share\\\\HCR\\\\HCR 3.12\\\\S5'\n",
    "save_file = 'HCR_3.12_S5_lipofuscin_rois_in_cells.pkl'\n",
    "\n",
    "with open('{0}\\\\{1}'.format(save_loc, save_file), 'rb') as f:\n",
    "    l_rois = pkl.load(f)\n",
    "    print('{0} rois'.format(len(l_rois)))"
   ]
  },
  {
   "cell_type": "markdown",
   "metadata": {
    "heading_collapsed": true,
    "hidden": true
   },
   "source": [
    "## Save lipofuscin rois from napari viewer"
   ]
  },
  {
   "cell_type": "code",
   "execution_count": 9,
   "metadata": {
    "ExecuteTime": {
     "end_time": "2020-03-26T17:11:50.412953Z",
     "start_time": "2020-03-26T17:11:50.309953Z"
    },
    "hidden": true
   },
   "outputs": [
    {
     "data": {
      "text/plain": [
       "<Shapes layer 'Lipofuscin ROIs' at 0x51643348>"
      ]
     },
     "execution_count": 9,
     "metadata": {},
     "output_type": "execute_result"
    }
   ],
   "source": [
    "viewer.add_shapes(data = None, name = 'Lipofuscin ROIs')"
   ]
  },
  {
   "cell_type": "code",
   "execution_count": 14,
   "metadata": {
    "ExecuteTime": {
     "end_time": "2020-03-26T17:26:18.171953Z",
     "start_time": "2020-03-26T17:26:18.164953Z"
    },
    "hidden": true
   },
   "outputs": [
    {
     "data": {
      "text/plain": [
       "[<Image layer 'Ndnf' at 0x4bbac148>,\n",
       " <Image layer 'Vip' at 0x4e2edf48>,\n",
       " <Image layer 'Sst' at 0x509d3088>,\n",
       " <Shapes layer 'Lipofuscin ROIs ' at 0x50d64b08>]"
      ]
     },
     "execution_count": 14,
     "metadata": {},
     "output_type": "execute_result"
    }
   ],
   "source": [
    "viewer.layers"
   ]
  },
  {
   "cell_type": "code",
   "execution_count": 95,
   "metadata": {
    "ExecuteTime": {
     "end_time": "2020-03-26T23:05:46.576953Z",
     "start_time": "2020-03-26T23:05:46.533953Z"
    },
    "hidden": true
   },
   "outputs": [
    {
     "name": "stdout",
     "output_type": "stream",
     "text": [
      "35 lipofuscin rois\n"
     ]
    }
   ],
   "source": [
    "save_loc = 'G:\\\\Shared drives\\\\as_share\\\\HCR\\\\HCR 3.12\\S5'\n",
    "save_file = 'HCR_3.12_S5_lipofuscin_rois_in_cells.pkl'\n",
    "\n",
    "l_rois = viewer.layers['Lipofuscin ROIs'].data\n",
    "with open('{0}\\\\{1}'.format(save_loc, save_file), 'wb') as f:\n",
    "    pkl.dump(l_rois, f) \n",
    "    \n",
    "n_rois = len(l_rois)\n",
    "print('{0} lipofuscin rois'.format(n_rois))"
   ]
  },
  {
   "cell_type": "markdown",
   "metadata": {
    "heading_collapsed": true,
    "hidden": true
   },
   "source": [
    "## Get pixels in annotated lipofuscin ROIs"
   ]
  },
  {
   "cell_type": "code",
   "execution_count": 6,
   "metadata": {
    "ExecuteTime": {
     "end_time": "2020-03-27T03:03:39.594170Z",
     "start_time": "2020-03-27T03:01:06.302868Z"
    },
    "hidden": true
   },
   "outputs": [
    {
     "name": "stdout",
     "output_type": "stream",
     "text": [
      "No saved data found, calculating mask pixels\n",
      "Calculated grid coordinates, 32.0 seconds\n",
      "ROI 0\n",
      "ROI 1\n",
      "ROI 2\n",
      "ROI 3\n",
      "ROI 4\n",
      "ROI 5\n",
      "ROI 6\n",
      "ROI 7\n",
      "ROI 8\n",
      "ROI 9\n",
      "ROI 10\n",
      "ROI 11\n",
      "ROI 12\n",
      "ROI 13\n",
      "ROI 14\n",
      "ROI 15\n",
      "ROI 16\n",
      "ROI 17\n",
      "ROI 18\n",
      "ROI 19\n",
      "ROI 20\n",
      "ROI 21\n",
      "ROI 22\n",
      "ROI 23\n",
      "ROI 24\n",
      "ROI 25\n",
      "ROI 26\n",
      "ROI 27\n",
      "ROI 28\n",
      "ROI 29\n",
      "ROI 30\n",
      "ROI 31\n",
      "ROI 32\n",
      "ROI 33\n",
      "ROI 34\n"
     ]
    }
   ],
   "source": [
    "save_loc = 'G:\\\\Shared drives\\\\as_share\\\\HCR\\\\HCR 3.12\\S5'\n",
    "save_file = 'HCR_3.12_S5_lipofuscin_pixels_in_cells.pkl'\n",
    "    \n",
    "try:\n",
    "    with open('{0}{1}d{2}'.format(save_loc, sep, save_file), 'rb') as f:\n",
    "        data_dict = pkl.load(f)\n",
    "        all_lipo_pixels = data_dict['all_lipo_pixels']\n",
    "        lipo_pixels_roi = data_dict['lipo_pixels_roi']\n",
    "        print('Data loaded')\n",
    "        \n",
    "        \n",
    "except IOError:\n",
    "    print('No saved data found, calculating mask pixels')\n",
    "    px = pixels_in_roi.pixels_in_roi(h, w, n, l_rois)\n",
    "    all_lipo_pixels = px['all_pixels']\n",
    "    lipo_pixels_roi = px['pixels_roi']\n",
    "    with open('{0}{1}{2}'.format(save_loc, sep, save_file), 'wb') as f:\n",
    "        pkl.dump({'all_lipo_pixels': all_lipo_pixels, 'lipo_pixels_roi': lipo_pixels_roi}, f)"
   ]
  },
  {
   "cell_type": "markdown",
   "metadata": {
    "heading_collapsed": true,
    "hidden": true
   },
   "source": [
    "## Filter images using difference of gaussians"
   ]
  },
  {
   "cell_type": "markdown",
   "metadata": {
    "heading_collapsed": true,
    "hidden": true
   },
   "source": [
    "### Diff_gauss2"
   ]
  },
  {
   "cell_type": "code",
   "execution_count": 8,
   "metadata": {
    "ExecuteTime": {
     "end_time": "2020-03-27T03:03:52.325376Z",
     "start_time": "2020-03-27T03:03:52.313408Z"
    },
    "hidden": true
   },
   "outputs": [],
   "source": [
    "from scipy.stats import norm\n",
    "from skimage.filters import gaussian\n",
    "\n",
    "def diff_gauss2(sigma_small, sigma_large, img, do_plot = 1):\n",
    "\n",
    "    #sigma_large = 10 # In pixels\n",
    "    #sigma_small = 3 # In pixels\n",
    "\n",
    "    #x = np.linspace(norm.ppf(0.01), norm.ppf(0.99), 1000)\n",
    "    x = np.linspace(-sigma_large*5, sigma_large*5, 1000)\n",
    "    small = norm.pdf(x, scale = sigma_small)\n",
    "    large = norm.pdf(x, scale = sigma_large)\n",
    "    diff = small - large\n",
    "\n",
    "    n = img.shape[0]\n",
    "    im_diff = np.zeros(img.shape)\n",
    "\n",
    "    for plane in range(n):\n",
    "        im_filt_large = gaussian(img[plane, :, :], sigma = sigma_large)\n",
    "        im_filt_small = gaussian(img[plane, :, :], sigma = sigma_small)\n",
    "        im_diff[plane, :, :] = im_filt_small - im_filt_large\n",
    "\n",
    "    if do_plot:\n",
    "\n",
    "        plt.figure()\n",
    "        plt.plot(x, diff, label = 'diff')\n",
    "        plt.plot(x, small, label = 'Small sigma filter')\n",
    "        plt.plot(x, large, label = 'Large sigma filter')\n",
    "        plt.xlabel('Distance from center of kernel (px)')\n",
    "        plt.ylabel('Kernel')\n",
    "        plt.title('Difference of gaussians filter')\n",
    "        plt.legend()\n",
    "\n",
    "    return im_diff\n"
   ]
  },
  {
   "cell_type": "markdown",
   "metadata": {
    "hidden": true
   },
   "source": [
    "### Do filtering"
   ]
  },
  {
   "cell_type": "markdown",
   "metadata": {
    "hidden": true
   },
   "source": [
    "#### Diff_gauss2"
   ]
  },
  {
   "cell_type": "code",
   "execution_count": 9,
   "metadata": {
    "ExecuteTime": {
     "end_time": "2020-03-27T03:09:02.472006Z",
     "start_time": "2020-03-27T03:04:08.080271Z"
    },
    "hidden": true
   },
   "outputs": [
    {
     "name": "stdout",
     "output_type": "stream",
     "text": [
      "Filtering images (~5 minutes)\n",
      "97 seconds\n",
      "196 seconds\n",
      "294 seconds\n"
     ]
    }
   ],
   "source": [
    "t0 = time.time()    \n",
    "\n",
    "print('Filtering images (~5 minutes)')\n",
    "sigma_small = 5\n",
    "sigma_large = 10\n",
    "\n",
    "\n",
    "img = im_array_ndnf\n",
    "im_diff_ndnf_lipo = diff_gauss2(sigma_small, sigma_large, img, do_plot = 1)\n",
    "t1 = time.time() - t0\n",
    "print('{0} seconds'.format(int(t1)))\n",
    "\n",
    "img = im_array_sst\n",
    "im_diff_sst_lipo = diff_gauss2(sigma_small, sigma_large, img, do_plot = 0)\n",
    "t1 = time.time() - t0\n",
    "print('{0} seconds'.format(int(t1)))\n",
    "\n",
    "img = im_array_vip\n",
    "im_diff_vip_lipo = diff_gauss2(sigma_small, sigma_large, img, do_plot = 0)\n",
    "t1 = time.time() - t0\n",
    "print('{0} seconds'.format(int(t1)))\n",
    "\n",
    "# img = im_array_gad1\n",
    "# im_diff_gad1_lipo = diff_gauss.diff_gauss(sigma_small, sigma_large, img, do_plot = 1)\n",
    "# t1 = time.time() - t0\n",
    "# print('{0} seconds'.format(int(t1)))\n",
    "\n",
    "del img"
   ]
  },
  {
   "cell_type": "markdown",
   "metadata": {
    "heading_collapsed": true,
    "hidden": true
   },
   "source": [
    "#### Simple gaussian filter"
   ]
  },
  {
   "cell_type": "code",
   "execution_count": 66,
   "metadata": {
    "ExecuteTime": {
     "end_time": "2020-03-26T03:33:34.843299Z",
     "start_time": "2020-03-26T03:31:57.171610Z"
    },
    "hidden": true
   },
   "outputs": [
    {
     "name": "stdout",
     "output_type": "stream",
     "text": [
      "Filtering images (~5 minutes)\n",
      "33 seconds\n",
      "65 seconds\n",
      "97 seconds\n"
     ]
    }
   ],
   "source": [
    "t0 = time.time()    \n",
    "\n",
    "print('Filtering images (~5 minutes)')\n",
    "sigma = 3\n",
    "\n",
    "\n",
    "img = im_array_ndnf\n",
    "im_ndnf_lipo = gaussian(img, sigma)\n",
    "t1 = time.time() - t0\n",
    "print('{0} seconds'.format(int(t1)))\n",
    "\n",
    "img = im_array_sst\n",
    "im_sst_lipo = gaussian(img, sigma)\n",
    "t1 = time.time() - t0\n",
    "print('{0} seconds'.format(int(t1)))\n",
    "\n",
    "img = im_array_vip\n",
    "im_vip_lipo = gaussian(img, sigma)\n",
    "t1 = time.time() - t0\n",
    "print('{0} seconds'.format(int(t1)))\n",
    "\n",
    "# img = im_array_gad1\n",
    "# im_diff_gad1_lipo = diff_gauss.diff_gauss(sigma_small, sigma_large, img, do_plot = 1)\n",
    "# t1 = time.time() - t0\n",
    "# print('{0} seconds'.format(int(t1)))\n",
    "\n",
    "del img"
   ]
  },
  {
   "cell_type": "code",
   "execution_count": 36,
   "metadata": {
    "ExecuteTime": {
     "end_time": "2020-03-24T20:34:01.645951Z",
     "start_time": "2020-03-24T20:33:19.877685Z"
    },
    "hidden": true
   },
   "outputs": [
    {
     "name": "stdout",
     "output_type": "stream",
     "text": [
      "No images found, filtering images (~5 minutes)\n",
      "13 seconds\n",
      "27 seconds\n",
      "41 seconds\n"
     ]
    }
   ],
   "source": [
    "t0 = time.time()    \n",
    "\n",
    "try:\n",
    "    jhui\n",
    "    save_loc = 'G:\\\\Shared drives\\\\as_share\\\\HCR\\\\HCR 3.12\\\\S5'\n",
    "\n",
    "    save_file = 'Gad1_im_diff_sigma_small = {0}, sigma_large = {1}.pkl'.format(sigma_small, sigma_large)\n",
    "    h5f = h5py.File('{0}{1}{2}.h5'.format(save_loc, sep, save_file),'r')\n",
    "    im_diff_gad1 = h5f['dataset_1'][:]\n",
    "    h5f.close()\n",
    "    print('Loaded im_diff_gad1, {0} seconds'.format(np.round(time.time() - t0)))\n",
    "    \n",
    "    save_file = 'Ndnf_im_diff_sigma_small = {0}, sigma_large = {1}.pkl'.format(sigma_small, sigma_large)\n",
    "    h5f = h5py.File('{0}{1}{2}.h5'.format(save_loc, sep, save_file),'r')\n",
    "    im_diff_ndnf = h5f['dataset_1'][:]\n",
    "    h5f.close()\n",
    "    print('Loaded im_diff_ndnf, {0} seconds'.format(np.round(time.time() - t0)))\n",
    "    \n",
    "    save_file = 'Sst_im_diff_sigma_small = {0}, sigma_large = {1}.pkl'.format(sigma_small, sigma_large)\n",
    "    h5f = h5py.File('{0}{1}{2}.h5'.format(save_loc, sep, save_file),'r')\n",
    "    im_diff_sst = h5f['dataset_1'][:]\n",
    "    h5f.close()\n",
    "    print('Loaded im_diff_sst, {0} seconds'.format(np.round(time.time() - t0)))\n",
    "    \n",
    "    save_file = 'Vip_im_diff_sigma_small = {0}, sigma_large = {1}.pkl'.format(sigma_small, sigma_large)\n",
    "    h5f = h5py.File('{0}{1}{2}.h5'.format(save_loc, sep, save_file),'r')\n",
    "    im_diff_vip = h5f['dataset_1'][:]\n",
    "    h5f.close()\n",
    "    print('Loaded im_diff_vip, {0} seconds'.format(np.round(time.time() - t0)))\n",
    "    \n",
    "\n",
    "except:\n",
    "    print('No images found, filtering images (~5 minutes)')\n",
    "    sigma_small = 1\n",
    "    sigma_large = 2\n",
    "\n",
    "\n",
    "    img = im_array_ndnf\n",
    "    im_diff_ndnf = diff_gauss.diff_gauss(sigma_small, sigma_large, img, do_plot = 1)\n",
    "    t1 = time.time() - t0\n",
    "    print('{0} seconds'.format(int(t1)))\n",
    "\n",
    "    img = im_array_sst\n",
    "    im_diff_sst = diff_gauss.diff_gauss(sigma_small, sigma_large, img, do_plot = 0)\n",
    "    t1 = time.time() - t0\n",
    "    print('{0} seconds'.format(int(t1)))\n",
    "\n",
    "    img = im_array_vip\n",
    "    im_diff_vip = diff_gauss.diff_gauss(sigma_small, sigma_large, img, do_plot = 0)\n",
    "    t1 = time.time() - t0\n",
    "    print('{0} seconds'.format(int(t1)))\n",
    "\n",
    "#     img = im_array_gad1\n",
    "#     im_diff_gad1 = diff_gauss.diff_gauss(sigma_small, sigma_large, img, do_plot = 1)\n",
    "#     t1 = time.time() - t0\n",
    "#     print('{0} seconds'.format(int(t1)))\n",
    "\n",
    "    del img"
   ]
  },
  {
   "cell_type": "code",
   "execution_count": 12,
   "metadata": {
    "ExecuteTime": {
     "end_time": "2020-03-22T17:24:40.792601Z",
     "start_time": "2020-03-22T17:23:09.719669Z"
    },
    "hidden": true
   },
   "outputs": [
    {
     "name": "stdout",
     "output_type": "stream",
     "text": [
      "959 seconds\n"
     ]
    }
   ],
   "source": [
    "img = im_array_gad1\n",
    "im_diff_gad1 = diff_gauss.diff_gauss(sigma_small, sigma_large, img, do_plot = 1)\n",
    "t1 = time.time() - t0\n",
    "print('{0} seconds'.format(int(t1)))\n",
    "\n",
    "del img"
   ]
  },
  {
   "cell_type": "code",
   "execution_count": 55,
   "metadata": {
    "ExecuteTime": {
     "end_time": "2020-03-22T01:49:45.732023Z",
     "start_time": "2020-03-22T01:48:48.224986Z"
    },
    "code_folding": [],
    "hidden": true
   },
   "outputs": [
    {
     "name": "stdout",
     "output_type": "stream",
     "text": [
      "im_diff_gad1 saved: 13.0 seconds\n",
      "im_diff_ndnf saved: 27.0 seconds\n",
      "im_diff_sst saved: 41.0 seconds\n",
      "im_diff_vip saved: 57.0 seconds\n"
     ]
    }
   ],
   "source": [
    "t0 = time.time()\n",
    "save_loc = 'G:\\\\Shared drives\\\\as_share\\\\HCR\\\\HCR 3.11\\\\S5'\n",
    "\n",
    "save_file = 'Gad1_im_diff_sigma_small = {0}, sigma_large = {1}'.format(sigma_small, sigma_large)\n",
    "h5f = h5py.File('{0}{1}{2}.h5'.format(save_loc, sep, save_file), 'w')\n",
    "h5f.create_dataset('dataset_1', data=im_diff_gad1)\n",
    "h5f.close()\n",
    "\n",
    "print('im_diff_gad1 saved: {0} seconds'.format(np.round(time.time() - t0)))\n",
    "    \n",
    "save_file = 'Ndnf_im_diff_sigma_small = {0}, sigma_large = {1}'.format(sigma_small, sigma_large)\n",
    "h5f = h5py.File('{0}{1}{2}.h5'.format(save_loc, sep, save_file), 'w')\n",
    "h5f.create_dataset('dataset_1', data=im_diff_ndnf)\n",
    "h5f.close()\n",
    "\n",
    "print('im_diff_ndnf saved: {0} seconds'.format(np.round(time.time() - t0)))\n",
    "    \n",
    "save_file = 'Sst_im_diff_sigma_small = {0}, sigma_large = {1}'.format(sigma_small, sigma_large)\n",
    "h5f = h5py.File('{0}{1}{2}.h5'.format(save_loc, sep, save_file), 'w')\n",
    "h5f.create_dataset('dataset_1', data=im_diff_sst)\n",
    "h5f.close()\n",
    "\n",
    "print('im_diff_sst saved: {0} seconds'.format(np.round(time.time() - t0)))\n",
    "    \n",
    "save_file = 'Vip_im_diff_sigma_small = {0}, sigma_large = {1}'.format(sigma_small, sigma_large)\n",
    "h5f = h5py.File('{0}{1}{2}.h5'.format(save_loc, sep, save_file), 'w')\n",
    "h5f.create_dataset('dataset_1', data=im_diff_vip)\n",
    "h5f.close()\n",
    "\n",
    "print('im_diff_vip saved: {0} seconds'.format(np.round(time.time() - t0)))"
   ]
  },
  {
   "cell_type": "markdown",
   "metadata": {
    "heading_collapsed": true,
    "hidden": true
   },
   "source": [
    "## Binarize filtered images and plot threshold"
   ]
  },
  {
   "cell_type": "code",
   "execution_count": 10,
   "metadata": {
    "ExecuteTime": {
     "end_time": "2020-03-27T03:09:47.306357Z",
     "start_time": "2020-03-27T03:09:35.420111Z"
    },
    "hidden": true
   },
   "outputs": [
    {
     "name": "stdout",
     "output_type": "stream",
     "text": [
      "Finding threshold for binarizing\n",
      "Finding threshold for binarizing\n",
      "Finding threshold for binarizing\n"
     ]
    }
   ],
   "source": [
    "img_dict = {'Ndnf': im_diff_ndnf_lipo, 'Vip': im_diff_vip_lipo, 'Sst': im_diff_sst_lipo}\n",
    "# img_dict = {'Ndnf': im_array_ndnf, 'Sst': im_array_sst, 'Vip': im_array_vip}\n",
    "\n",
    "pixels_dict = {'Cells': all_cell_pixels, 'Lipofuscin': all_lipo_pixels}\n",
    "#pixels_dict = {'Cells': all_cell_pixels}\n",
    "\n",
    "colors_dict = {'Cells': 'b', 'Lipofuscin': 'k'}\n",
    "\n",
    "title = 'Diff gauss sigma = ({0}, {1})'.format(sigma_small, sigma_large)\n",
    "#title = 'Raw images'\n",
    "save_loc = 'G:\\\\Shared drives\\\\as_share\\\\HCR\\\\HCR 3.12\\\\S5\\\\Plots'\n",
    "save_file = '{0} hist lipo + cells.png'.format(title)\n",
    "#save_file = '{0} hist cells.png'.format(title)\n",
    "\n",
    "thresh_scale = 1\n",
    "\n",
    "thresh = hist_channels.hist_channels(img_dict, pixels_dict, max_per_group= 100000, \n",
    "                                     do_bin = True, bin_group = 'Cells', thresh_scale = thresh_scale,\n",
    "                                     colors_dict = colors_dict, \n",
    "                                     title = title, save = True, save_loc = save_loc, save_file = save_file)\n",
    "\n",
    "del img_dict\n",
    "del pixels_dict\n",
    "\n",
    "im_bin_ndnf_lipo = np.zeros(im_diff_ndnf_lipo.shape)\n",
    "im_bin_sst_lipo = np.zeros(im_diff_ndnf_lipo.shape)\n",
    "im_bin_vip_lipo = np.zeros(im_diff_ndnf_lipo.shape)\n",
    "#im_bin_gad1 = np.zeros(im_diff_gad1_lipo.shape)\n",
    "\n",
    "ix_ndnf = np.where(im_diff_ndnf_lipo > thresh['Ndnf'])\n",
    "ix_sst = np.where(im_diff_sst_lipo > thresh['Sst'])\n",
    "ix_vip = np.where(im_diff_vip_lipo > thresh['Vip'])\n",
    "# ix_gad1 = np.where(im_diff_gad1_lipo > thresh['Gad1'])\n",
    "\n",
    "im_bin_ndnf_lipo[ix_ndnf] = im_diff_ndnf_lipo[ix_ndnf]\n",
    "im_bin_sst_lipo[ix_sst] = im_diff_sst_lipo[ix_sst]\n",
    "im_bin_vip_lipo[ix_vip] = im_diff_vip_lipo[ix_vip]\n",
    "#im_bin_gad1_lipo[ix_gad1] = im_diff_gad1_lipo[ix_gad1]"
   ]
  },
  {
   "cell_type": "markdown",
   "metadata": {
    "heading_collapsed": true,
    "hidden": true
   },
   "source": [
    "## Select lipofuscin cloud"
   ]
  },
  {
   "cell_type": "markdown",
   "metadata": {
    "heading_collapsed": true,
    "hidden": true
   },
   "source": [
    "### Roipoly"
   ]
  },
  {
   "cell_type": "code",
   "execution_count": 13,
   "metadata": {
    "ExecuteTime": {
     "end_time": "2020-03-26T00:40:31.809745Z",
     "start_time": "2020-03-26T00:40:31.787803Z"
    },
    "hidden": true
   },
   "outputs": [],
   "source": [
    "# This code is from https://github.com/jdoepfert, \n",
    "# which can be used without permission\n",
    "import matplotlib.path as mplPath\n",
    "\n",
    "class roipoly:\n",
    "    def __init__(self, fig=[], ax=[], roicolor='b'):\n",
    "        if fig == []:\n",
    "            fig = plt.gcf()\n",
    "\n",
    "        if ax == []:\n",
    "            ax = plt.gca()\n",
    "\n",
    "        self.previous_point = []\n",
    "        self.allxpoints = []\n",
    "        self.allypoints = []\n",
    "        self.start_point = []\n",
    "        self.end_point = []\n",
    "        self.line = None\n",
    "        self.roicolor = roicolor\n",
    "        self.fig = fig\n",
    "        self.ax = ax\n",
    "        self.mask = []\n",
    "\n",
    "        self.__ID1 = self.fig.canvas.mpl_connect(\n",
    "            'motion_notify_event', self.__motion_notify_callback)\n",
    "        self.__ID2 = self.fig.canvas.mpl_connect(\n",
    "            'button_press_event', self.__button_press_callback)\n",
    "#         self.__ID3 = self.fig.canvas.mpl_connect(\n",
    "#             'key_press_event', self.__key_press_callback)\n",
    "\n",
    "    def getMask(self):\n",
    "        \n",
    "        ny = 20000\n",
    "        nx = 20000\n",
    "        poly_verts = [(self.allxpoints[0], self.allypoints[0])]\n",
    "        for i in range(len(self.allxpoints)-1, -1, -1):\n",
    "            poly_verts.append((self.allxpoints[i], self.allypoints[i]))\n",
    "\n",
    "        # Create vertex coordinates for each grid cell...\n",
    "        # (<0,0> is at the top left of the grid in this system)\n",
    "        x0, x1 = self.ax.get_xlim()\n",
    "        y0, y1 = self.ax.get_ylim()\n",
    "        x, y = np.meshgrid(np.linspace(x0, x1, nx), np.linspace(y0, y1, ny))\n",
    "        x, y = x.flatten(), y.flatten()\n",
    "        points = np.vstack((x,y)).T\n",
    "\n",
    "        ROIpath = mplPath.Path(poly_verts)\n",
    "        grid = ROIpath.contains_points(points).reshape((ny,nx)), 0\n",
    "        return grid\n",
    "\n",
    "    def __motion_notify_callback(self, event):\n",
    "        if event.inaxes:\n",
    "            ax = event.inaxes\n",
    "            x, y = event.xdata, event.ydata\n",
    "            # Move line around\n",
    "            if (event.button == None or event.button == 1) and self.line != None: \n",
    "                self.line.set_data([self.previous_point[0], x],\n",
    "                                   [self.previous_point[1], y])\n",
    "                self.fig.canvas.draw()\n",
    "\n",
    "\n",
    "#     def __key_press_callback(self, event):\n",
    "            \n",
    "        \n",
    "    def __button_press_callback(self, event):\n",
    "        if event.inaxes:\n",
    "            x, y = event.xdata, event.ydata\n",
    "            ax = event.inaxes\n",
    "            # If you press the left button, single click\n",
    "            if event.button == 1 and event.dblclick == False:  \n",
    "                if self.line == None: # if there is no line, create a line\n",
    "                    self.line = plt.Line2D([x, x],\n",
    "                                           [y, y],\n",
    "                                           marker='o',\n",
    "                                           color=self.roicolor)\n",
    "                    self.start_point = [x,y]\n",
    "                    self.previous_point =  self.start_point\n",
    "                    self.allxpoints=[x]\n",
    "                    self.allypoints=[y]\n",
    "\n",
    "                    ax.add_line(self.line)\n",
    "                    self.fig.canvas.draw()\n",
    "                    # add a segment\n",
    "                else: # if there is a line, create a segment\n",
    "                    self.line = plt.Line2D([self.previous_point[0], x],\n",
    "                                           [self.previous_point[1], y],\n",
    "                                           marker = 'o',\n",
    "                                           color=self.roicolor)\n",
    "                    self.previous_point = [x,y]\n",
    "                    self.allxpoints.append(x)\n",
    "                    self.allypoints.append(y)\n",
    "\n",
    "                    event.inaxes.add_line(self.line)\n",
    "                    self.fig.canvas.draw()\n",
    "            elif ((event.button == 1 and event.dblclick==True) or (event.button == 3 and event.dblclick==False)) and self.line != None: # close the loop and disconnect\n",
    "                    \n",
    "                    self.fig.canvas.mpl_disconnect(self.__ID1) #joerg\n",
    "                    self.fig.canvas.mpl_disconnect(self.__ID2) #joerg\n",
    "\n",
    "                    self.line.set_data([self.previous_point[0],\n",
    "                                    self.start_point[0]],\n",
    "                                   [self.previous_point[1],\n",
    "                                    self.start_point[1]])\n",
    "                    self.last_line = ax.add_line(self.line)\n",
    "                    self.fig.canvas.draw()\n",
    "                    self.line = None\n",
    "\n",
    "                    if sys.flags.interactive:\n",
    "                        pass\n",
    "                    \n"
   ]
  },
  {
   "cell_type": "markdown",
   "metadata": {
    "heading_collapsed": true,
    "hidden": true
   },
   "source": [
    "### Scatter plot to draw on"
   ]
  },
  {
   "cell_type": "code",
   "execution_count": 14,
   "metadata": {
    "ExecuteTime": {
     "end_time": "2020-03-26T00:41:00.753482Z",
     "start_time": "2020-03-26T00:41:00.704613Z"
    },
    "hidden": true
   },
   "outputs": [],
   "source": [
    "fig = plt.figure()\n",
    "x_vals = [im_bin_ndnf_lipo[a[0], a[1], a[2]] for a in all_lipo_pixels]\n",
    "y_vals = [im_bin_vip_lipo[a[0], a[1], a[2]] for a in all_lipo_pixels]\n",
    "\n",
    "plt.scatter(x_vals, y_vals)\n",
    "roi = roipoly()"
   ]
  },
  {
   "cell_type": "markdown",
   "metadata": {
    "heading_collapsed": true,
    "hidden": true
   },
   "source": [
    "### Get pixels"
   ]
  },
  {
   "cell_type": "code",
   "execution_count": 15,
   "metadata": {
    "ExecuteTime": {
     "end_time": "2020-03-26T00:44:29.568984Z",
     "start_time": "2020-03-26T00:43:39.853842Z"
    },
    "hidden": true
   },
   "outputs": [
    {
     "name": "stdout",
     "output_type": "stream",
     "text": [
      "50.0\n"
     ]
    }
   ],
   "source": [
    "t0 = time.time()\n",
    "mask = roi.getMask()[0]\n",
    "t1 = time.time() - t0\n",
    "print(np.round(t1))"
   ]
  },
  {
   "cell_type": "code",
   "execution_count": 18,
   "metadata": {
    "ExecuteTime": {
     "end_time": "2020-03-26T00:46:07.429558Z",
     "start_time": "2020-03-26T00:46:07.358748Z"
    },
    "hidden": true
   },
   "outputs": [
    {
     "name": "stdout",
     "output_type": "stream",
     "text": [
      "0\n",
      "10\n",
      "20\n",
      "30\n",
      "40\n",
      "50\n",
      "60\n",
      "70\n",
      "80\n",
      "90\n",
      "100\n",
      "110\n",
      "120\n",
      "130\n",
      "140\n",
      "150\n",
      "160\n",
      "170\n",
      "180\n",
      "190\n",
      "200\n",
      "210\n",
      "220\n",
      "230\n",
      "240\n",
      "250\n",
      "260\n",
      "270\n",
      "280\n",
      "290\n",
      "300\n",
      "310\n"
     ]
    },
    {
     "data": {
      "text/plain": [
       "<matplotlib.collections.PathCollection at 0x18b5f9dd048>"
      ]
     },
     "execution_count": 18,
     "metadata": {},
     "output_type": "execute_result"
    }
   ],
   "source": [
    "n_lipo_px = len(all_lipo_pixels)\n",
    "xi = np.zeros(n_lipo_px, dtype = int)\n",
    "yi = np.zeros(n_lipo_px, dtype = int)\n",
    "\n",
    "ix = np.zeros(n_lipo_px, dtype = bool)\n",
    "x0, x1 = fig.axes[0].get_xlim()\n",
    "y0, y1 = fig.axes[0].get_ylim()\n",
    "x = np.linspace(x0, x1, mask.shape[1])\n",
    "y = np.linspace(y0, y1, mask.shape[0])\n",
    "\n",
    "for i in range(n_lipo_px):\n",
    "    if np.mod(i, 10) == 0:\n",
    "        print(i)\n",
    "    px = all_lipo_pixels[i]\n",
    "    xi[i] = bisect_left(x, im_bin_ndnf_lipo[px[0], px[1], px[2]])\n",
    "    yi[i] = bisect_left(y, im_bin_vip_lipo[px[0], px[1], px[2]])\n",
    "    if mask[yi[i], xi[i]] > 0:\n",
    "        ix[i] = True\n",
    "\n",
    "all_lipo_pixels = all_lipo_pixels[ix]\n",
    "\n",
    "x_vals = [im_bin_ndnf_lipo[a[0], a[1], a[2]] for a in all_lipo_pixels]\n",
    "y_vals = [im_bin_vip_lipo[a[0], a[1], a[2]] for a in all_lipo_pixels]\n",
    "\n",
    "plt.scatter(x_vals, y_vals, color = 'r')"
   ]
  },
  {
   "cell_type": "markdown",
   "metadata": {
    "heading_collapsed": true,
    "hidden": true
   },
   "source": [
    "## Find mahalanobis distance of pixels from lipofuscin cloud"
   ]
  },
  {
   "cell_type": "code",
   "execution_count": 11,
   "metadata": {
    "ExecuteTime": {
     "end_time": "2020-03-27T03:15:05.440230Z",
     "start_time": "2020-03-27T03:14:38.531219Z"
    },
    "hidden": true
   },
   "outputs": [
    {
     "name": "stdout",
     "output_type": "stream",
     "text": [
      "Threshold log mahalanobis distance = 1.2175391899105632\n"
     ]
    }
   ],
   "source": [
    "#img_dict = {'Ndnf': im_bin_ndnf_lipo, 'Vip': im_bin_vip_lipo}\n",
    "img_dict = {'Ndnf': im_bin_ndnf_lipo, 'Sst': im_bin_sst_lipo, 'Vip': im_bin_vip_lipo}\n",
    "#img_dict = {'Ndnf': im_diff_ndnf, 'Sst': im_diff_sst, 'Vip': im_diff_vip}\n",
    "#img_dict = {'Ndnf': im_array_ndnf, 'Sst': im_array_sst, 'Vip': im_array_vip}\n",
    "\n",
    "pixels_dict = {'Cells': all_cell_pixels, 'Lipofuscin': all_lipo_pixels}\n",
    "\n",
    "origin_group = 'Lipofuscin'\n",
    "bin_group = 'Cells'\n",
    "\n",
    "colors_dict = {'Cells': 'b', 'Lipofuscin': 'k'}\n",
    "\n",
    "title = 'Diff gauss sigma = ({0}, {1}); binarized above {2} std from median'.format(sigma_small, sigma_large, thresh_scale)\n",
    "#title = 'Raw images'\n",
    "save_loc = 'G:\\\\Shared drives\\\\as_share\\\\HCR\\\\HCR 3.11\\\\S5\\\\Plots'\n",
    "save_file = '{0} hist lipo + cells.png'.format(title)\n",
    "#save_file = '{0} hist cells.png'.format(title)\n",
    "\n",
    "output = m_dist.m_dist(img_dict, pixels_dict, origin_group, bin_group, colors_dict = colors_dict, thresh_scale = 1.5,\n",
    "                            title = title, save = True, save_loc = save_loc, save_file = save_file)\n",
    "\n",
    "m_dist_vals = output['m_dist']\n",
    "thresh = output['thresh']\n",
    "cov = output['cov']\n",
    "\n",
    "print('Threshold log mahalanobis distance = {0}'.format(np.log(thresh)))\n",
    "\n",
    "del img_dict\n",
    "del pixels_dict"
   ]
  },
  {
   "cell_type": "markdown",
   "metadata": {
    "heading_collapsed": true,
    "hidden": true
   },
   "source": [
    "##### Not necessary to run this cell - it's a part of m_dist.py\n"
   ]
  },
  {
   "cell_type": "code",
   "execution_count": 37,
   "metadata": {
    "ExecuteTime": {
     "end_time": "2020-03-06T19:05:39.435881Z",
     "start_time": "2020-03-06T19:05:39.343130Z"
    },
    "hidden": true
   },
   "outputs": [],
   "source": [
    "\n",
    "channel_names = list(img_dict.keys())\n",
    "n_channels = len(channel_names)\n",
    "\n",
    "px_groups = list(pixels_dict.keys())\n",
    "\n",
    "\n",
    "# %% Get values for each channel for each pixel group\n",
    "px_vals = {}\n",
    "\n",
    "for group in px_groups:\n",
    "\n",
    "    px = pixels_dict[group]\n",
    "\n",
    "\n",
    "    px_vals[group] = {}\n",
    "\n",
    "    for channel in channel_names:\n",
    "        px_vals[group][channel] = img_dict[channel][(px[:, 0], px[:, 1], px[:, 2])]\n",
    "\n",
    "\n",
    "# %% Get mean and covariance matrix of origin group\n",
    "mu = np.zeros(n_channels)\n",
    "origin_px = np.zeros([n_channels, px_vals[origin_group][channel_names[0]].shape[0]])\n",
    "for c in range(n_channels):\n",
    "    mu[c] = np.mean(px_vals[origin_group][channel_names[c]])\n",
    "    origin_px[c, :] = px_vals[origin_group][channel_names[c]]\n",
    "\n",
    "cov = np.cov(origin_px) \n",
    "VI = np.linalg.inv(cov)     "
   ]
  },
  {
   "cell_type": "code",
   "execution_count": 41,
   "metadata": {
    "ExecuteTime": {
     "end_time": "2020-03-06T19:06:49.399129Z",
     "start_time": "2020-03-06T19:06:49.333303Z"
    },
    "hidden": true
   },
   "outputs": [
    {
     "data": {
      "text/plain": [
       "<matplotlib.colorbar.Colorbar at 0x13803da6508>"
      ]
     },
     "execution_count": 41,
     "metadata": {},
     "output_type": "execute_result"
    }
   ],
   "source": [
    "plt.figure()\n",
    "plt.imshow(np.log(cov))\n",
    "plt.colorbar(label = 'Log covariance')"
   ]
  },
  {
   "cell_type": "markdown",
   "metadata": {
    "heading_collapsed": true,
    "hidden": true
   },
   "source": [
    "## Use mahalanobis distance to label all lipofuscin pixels "
   ]
  },
  {
   "cell_type": "code",
   "execution_count": 12,
   "metadata": {
    "ExecuteTime": {
     "end_time": "2020-03-27T03:16:24.795217Z",
     "start_time": "2020-03-27T03:16:24.724408Z"
    },
    "hidden": true
   },
   "outputs": [],
   "source": [
    "lipo_pixels = all_cell_pixels[m_dist_vals['Cells'] < thresh, :]"
   ]
  },
  {
   "cell_type": "markdown",
   "metadata": {
    "heading_collapsed": true,
    "hidden": true
   },
   "source": [
    "## Don't exclude pixels below some average intensity"
   ]
  },
  {
   "cell_type": "code",
   "execution_count": 13,
   "metadata": {
    "ExecuteTime": {
     "end_time": "2020-03-27T03:17:45.714161Z",
     "start_time": "2020-03-27T03:17:39.444937Z"
    },
    "hidden": true
   },
   "outputs": [
    {
     "name": "stdout",
     "output_type": "stream",
     "text": [
      "(2711970,)\n"
     ]
    }
   ],
   "source": [
    "lipo_vals = np.zeros([3, len(lipo_pixels)])\n",
    "lipo_vals[0, :] = np.array([im_bin_ndnf_lipo[a[0], a[1], a[2]] for a in lipo_pixels])\n",
    "lipo_vals[1, :] = np.array([im_bin_vip_lipo[a[0], a[1], a[2]] for a in lipo_pixels])\n",
    "lipo_vals[2, :] = np.array([im_bin_sst_lipo[a[0], a[1], a[2]] for a in lipo_pixels])\n",
    "\n",
    "mean_vals = np.mean(lipo_vals, axis = 0)\n",
    "print(mean_vals.shape)\n",
    "\n",
    "lipo_low_cutoff = np.exp(5)\n",
    "lipo_pixels = lipo_pixels[mean_vals > lipo_low_cutoff] \n",
    "\n",
    "im_array_lipo = np.zeros(im_array_ndnf.shape)\n",
    "im_array_lipo[lipo_pixels[:, 0], lipo_pixels[:, 1], lipo_pixels[:, 2]] = np.ones(lipo_pixels.shape[0])"
   ]
  },
  {
   "cell_type": "markdown",
   "metadata": {
    "heading_collapsed": true,
    "hidden": true
   },
   "source": [
    "## Re-calculate cell masks excluding lipofuscin pixels"
   ]
  },
  {
   "cell_type": "code",
   "execution_count": 14,
   "metadata": {
    "ExecuteTime": {
     "end_time": "2020-03-27T03:18:40.386053Z",
     "start_time": "2020-03-27T03:18:35.660688Z"
    },
    "hidden": true
   },
   "outputs": [
    {
     "name": "stdout",
     "output_type": "stream",
     "text": [
      "Data loaded\n",
      "Calculating\n",
      "Total number of pixels incorrect, could have removed incorrect pixels for cell\n"
     ]
    }
   ],
   "source": [
    "save_loc = 'G:\\\\Shared drives\\\\as_share\\\\HCR\\\\HCR 3.12\\S5'\n",
    "save_file = 'HCR_3.12_S5_cell_masks_without_lipofuscin.pkl'\n",
    "\n",
    "try:\n",
    "    with open('{0}{1}{2}'.format(save_loc, sep, save_file), 'rb') as f:\n",
    "        cell_pixels_no_lipo = pkl.load(f)\n",
    "        print('Data loaded')\n",
    "        jhk\n",
    "except:\n",
    "    \n",
    "    print('Calculating')\n",
    "    cell_pixels_no_lipo = {}\n",
    "\n",
    "    cells = mask_vertices.keys()\n",
    "#     cells = cells_sub + 1\n",
    "    n_px_total = 0\n",
    "    for cell in cells:\n",
    "\n",
    "        data = Cell.cell_data[cell]\n",
    "        planes = data['z_planes']\n",
    "        cell_pixels_no_lipo[cell] = {}\n",
    "\n",
    "        for plane in planes:\n",
    "\n",
    "            x = mask_vertices[cell][plane][0]\n",
    "            y = mask_vertices[cell][plane][1]\n",
    "            n = len(x)\n",
    "            cell_pixels_no_lipo[cell][plane] = np.array([[x[i], y[i]] for i in range(n) if im_array_lipo[plane, x[i], y[i]] == 0])\n",
    "            cell_pixels_no_lipo[cell][plane] = np.transpose(cell_pixels_no_lipo[cell][plane])\n",
    "#             cell_pixels_no_lipo[cell][plane] = {}\n",
    "#             n_px = mask_vertices[cell][plane][0].shape[0]\n",
    "#             m = m_dist_vals['Cells'][n_px_total:n_px_total + n_px] # Mahalanobis distance values for pixels in cell mask\n",
    "#             px_coords = np.array(mask_vertices[cell][plane])\n",
    "#             cell_pixels_no_lipo[cell][plane] = px_coords[:, m >= thresh]\n",
    "#             #cell_pixels_no_lipo[cell][plane] = px_coords[:, m ]\n",
    "#             n_px_total += n_px\n",
    "            \n",
    "\n",
    "\n",
    "    if not n_px_total == all_cell_pixels.shape[0]:\n",
    "        print('Total number of pixels incorrect, could have removed incorrect pixels for cell')\\\n",
    "\n",
    "    with open('{0}{1}{2}'.format(save_loc, sep, save_file), 'wb') as f:\n",
    "        pkl.dump(cell_pixels_no_lipo, f)"
   ]
  },
  {
   "cell_type": "code",
   "execution_count": 156,
   "metadata": {
    "ExecuteTime": {
     "end_time": "2020-03-27T00:16:31.977953Z",
     "start_time": "2020-03-27T00:16:31.972953Z"
    },
    "hidden": true
   },
   "outputs": [
    {
     "data": {
      "text/plain": [
       "(2, 3523)"
      ]
     },
     "execution_count": 156,
     "metadata": {},
     "output_type": "execute_result"
    }
   ],
   "source": [
    "cell_pixels_no_lipo[1][1].shape"
   ]
  },
  {
   "cell_type": "markdown",
   "metadata": {
    "heading_collapsed": true,
    "hidden": true
   },
   "source": [
    "## Delete large arrays"
   ]
  },
  {
   "cell_type": "code",
   "execution_count": null,
   "metadata": {
    "ExecuteTime": {
     "start_time": "2020-03-22T01:53:44.424Z"
    },
    "hidden": true
   },
   "outputs": [],
   "source": [
    "del im_diff_ndnf\n",
    "del im_diff_sst\n",
    "del im_diff_vip\n",
    "del im_bin_ndnf\n",
    "del im_bin_vip\n",
    "del im_bin_sst\n"
   ]
  },
  {
   "cell_type": "code",
   "execution_count": null,
   "metadata": {
    "ExecuteTime": {
     "start_time": "2020-03-22T01:54:48.476Z"
    },
    "hidden": true
   },
   "outputs": [],
   "source": [
    "del im_bin_gad1\n",
    "del im_diff_gad1"
   ]
  },
  {
   "cell_type": "code",
   "execution_count": null,
   "metadata": {
    "ExecuteTime": {
     "start_time": "2020-03-22T01:54:48.929Z"
    },
    "hidden": true
   },
   "outputs": [],
   "source": [
    "del im_array_ndnf\n",
    "del im_array_sst\n",
    "del im_array_vip\n",
    "del im_array_gad1\n",
    "del im_array_dapi"
   ]
  },
  {
   "cell_type": "markdown",
   "metadata": {
    "heading_collapsed": true
   },
   "source": [
    "# Classify cells by gene expression"
   ]
  },
  {
   "cell_type": "markdown",
   "metadata": {
    "heading_collapsed": true,
    "hidden": true
   },
   "source": [
    "## Calculate intensity for each gene in each cell "
   ]
  },
  {
   "cell_type": "markdown",
   "metadata": {
    "heading_collapsed": true,
    "hidden": true
   },
   "source": [
    "### Average intensity in all pixels in cell mask"
   ]
  },
  {
   "cell_type": "code",
   "execution_count": 38,
   "metadata": {
    "ExecuteTime": {
     "end_time": "2020-03-22T17:38:32.878326Z",
     "start_time": "2020-03-22T17:38:32.870346Z"
    },
    "hidden": true
   },
   "outputs": [],
   "source": [
    "Cell.cell_data[cell_no]['z_planes'] = [0]"
   ]
  },
  {
   "cell_type": "code",
   "execution_count": 16,
   "metadata": {
    "ExecuteTime": {
     "end_time": "2020-03-27T03:34:46.178831Z",
     "start_time": "2020-03-27T03:34:40.730410Z"
    },
    "code_folding": [],
    "hidden": true
   },
   "outputs": [
    {
     "name": "stdout",
     "output_type": "stream",
     "text": [
      "Warning: recalculate if including all cells\n",
      "Data not found, calculating intensities\n",
      "Cell 0\n",
      "Cell 10\n",
      "Cell 20\n",
      "Cell 30\n",
      "Cell 40\n",
      "Cell 50\n",
      "Cell 60\n",
      "Cell 70\n",
      "Cell 80\n",
      "Cell 90\n",
      "Cell 100\n",
      "Cell 110\n",
      "Cell 120\n",
      "Cell 130\n",
      "Cell 140\n",
      "Cell 150\n",
      "Cell 160\n",
      "Cell 170\n",
      "Cell 180\n",
      "Cell 190\n",
      "Cell 200\n",
      "Cell 210\n",
      "Cell 220\n",
      "Cell 230\n",
      "Cell 240\n",
      "Cell 250\n",
      "Cell 260\n",
      "Cell 270\n",
      "Cell 280\n",
      "Cell 290\n",
      "Cell 300\n",
      "Cell 310\n",
      "Cell 320\n"
     ]
    }
   ],
   "source": [
    "save_loc = 'G:\\\\Shared drives\\\\as_share\\\\HCR\\\\HCR 3.12\\\\S5'\n",
    "save_file = 'S5_data_ndnf_sst_vip.pkl'\n",
    "\n",
    "try:\n",
    "    print('Warning: recalculate if including all cells')\n",
    "    with open('{0}\\\\{1}'.format(save_loc, save_file), 'rb') as f:\n",
    "        sig = pkl.load(f)\n",
    "    avg_intensity_ndnf = sig['Ndnf']\n",
    "    avg_intensity_sst = sig['Sst'] \n",
    "    avg_intensity_vip = sig['Vip']\n",
    "    print('Data loaded')\n",
    "\n",
    "\n",
    "except:\n",
    "    print('Data not found, calculating intensities')\n",
    "    no_cells = len(Cell.cell_data.keys())\n",
    "    avg_intensity_ndnf = np.zeros(no_cells)\n",
    "    avg_intensity_vip = np.zeros(no_cells)\n",
    "    avg_intensity_sst = np.zeros(no_cells)\n",
    "\n",
    "    for cell in range(no_cells):\n",
    "#     for cell in cells_sub:\n",
    "        \n",
    "        if np.mod(cell, 10) == 0:\n",
    "            print('Cell {0}'.format(cell))\n",
    "        cell_no = cell + 1\n",
    "        cell_dict = Cell.cell_data[cell_no]\n",
    "        z_planes = cell_dict['z_planes']\n",
    "\n",
    "        intensity_ndnf = np.zeros(cell_dict['no_planes'])\n",
    "        intensity_vip = np.zeros(cell_dict['no_planes'])\n",
    "        intensity_sst = np.zeros(cell_dict['no_planes'])\n",
    "\n",
    "        i = 0\n",
    "        for plane in z_planes:\n",
    "\n",
    "            xy_coord = mask_vertices[cell_no][plane]\n",
    "            x = xy_coord[0]\n",
    "            y = xy_coord[1]\n",
    "            intensity_ndnf[i] = np.mean(im_array_ndnf[plane, x, y])\n",
    "            intensity_vip[i] = np.mean(im_array_vip[plane, x, y])\n",
    "            intensity_sst[i] = np.mean(im_array_sst[plane, x, y])\n",
    "            i += 1\n",
    "\n",
    "        avg_intensity_ndnf[cell] = np.mean(intensity_ndnf)\n",
    "        avg_intensity_vip[cell] = np.mean(intensity_vip)\n",
    "        avg_intensity_sst[cell] = np.mean(intensity_sst)\n",
    "\n",
    "        with open('{0}\\\\{1}'.format(save_loc, save_file), 'wb') as f:\n",
    "            pkl.dump({'Ndnf': avg_intensity_ndnf, 'Sst': avg_intensity_sst, 'Vip':avg_intensity_vip}, f)\n"
   ]
  },
  {
   "cell_type": "markdown",
   "metadata": {
    "heading_collapsed": true,
    "hidden": true
   },
   "source": [
    "### Intensity in binarized images in all cell pixels"
   ]
  },
  {
   "cell_type": "code",
   "execution_count": 63,
   "metadata": {
    "ExecuteTime": {
     "end_time": "2020-03-26T18:47:21.311953Z",
     "start_time": "2020-03-26T18:47:19.878953Z"
    },
    "hidden": true
   },
   "outputs": [
    {
     "name": "stdout",
     "output_type": "stream",
     "text": [
      "Data not found, calculating intensities\n",
      "Cell 0\n",
      "Cell 10\n",
      "Cell 20\n",
      "Cell 30\n",
      "Cell 40\n",
      "Cell 50\n",
      "Cell 60\n",
      "Cell 70\n",
      "Cell 80\n",
      "Cell 90\n",
      "Cell 120\n"
     ]
    }
   ],
   "source": [
    "save_loc = 'G:\\\\Shared drives\\\\as_share\\\\HCR\\\\HCR 3.12\\\\S5'\n",
    "save_file = 'S5_data_ndnf_sst_vip.pkl'\n",
    "\n",
    "try:\n",
    "    with open('{0}\\\\{1}'.format(save_loc, save_file), 'rb') as f:\n",
    "        sig = pkl.load(f)\n",
    "    int_ndnf_bin_all = sig['Ndnf_bin_all']\n",
    "    int_sst_bin_all = sig['Sst_bin_all'] \n",
    "    int_vip_bin_all = sig['Vip_bin_all']\n",
    "    print('Data loaded')\n",
    "    jio\n",
    "\n",
    "except:\n",
    "    print('Data not found, calculating intensities')\n",
    "    no_cells = len(Cell.cell_data.keys())\n",
    "    int_ndnf_bin_all = np.zeros(no_cells)\n",
    "    int_sst_bin_all = np.zeros(no_cells)\n",
    "    int_vip_bin_all = np.zeros(no_cells)\n",
    "\n",
    "#     for cell in range(no_cells):\n",
    "    for cell in cells_sub:\n",
    "        \n",
    "        if np.mod(cell, 10) == 0:\n",
    "            print('Cell {0}'.format(cell))\n",
    "        cell_no = cell + 1\n",
    "        cell_dict = Cell.cell_data[cell_no]\n",
    "        z_planes = cell_dict['z_planes']\n",
    "\n",
    "        intensity_ndnf = np.zeros(cell_dict['no_planes'])\n",
    "        intensity_vip = np.zeros(cell_dict['no_planes'])\n",
    "        intensity_sst = np.zeros(cell_dict['no_planes'])\n",
    "\n",
    "        i = 0\n",
    "        for plane in z_planes:\n",
    "\n",
    "            xy_coord = mask_vertices[cell_no][plane]\n",
    "            x = xy_coord[0]\n",
    "            y = xy_coord[1]\n",
    "            intensity_ndnf[i] = np.mean(im_bin_ndnf[plane, x, y])\n",
    "            intensity_vip[i] = np.mean(im_bin_vip[plane, x, y])\n",
    "            intensity_sst[i] = np.mean(im_bin_sst[plane, x, y])\n",
    "            i += 1\n",
    "\n",
    "        int_ndnf_bin_all[cell] = np.mean(intensity_ndnf)\n",
    "        int_vip_bin_all[cell] = np.mean(intensity_vip)\n",
    "        int_sst_bin_all[cell] = np.mean(intensity_sst)\n",
    "\n",
    "        with open('{0}\\\\{1}'.format(save_loc, save_file), 'wb') as f:\n",
    "            pkl.dump({'Ndnf_bin_all': int_ndnf_bin_all, \n",
    "                      'Sst_bin_all': int_sst_bin_all, \n",
    "                      'Vip_bin_all':int_vip_bin_all}, f)\n"
   ]
  },
  {
   "cell_type": "markdown",
   "metadata": {
    "heading_collapsed": true,
    "hidden": true
   },
   "source": [
    "### Intensity in masks excluding lipofuscin pixels"
   ]
  },
  {
   "cell_type": "code",
   "execution_count": 23,
   "metadata": {
    "ExecuteTime": {
     "end_time": "2020-03-27T03:55:58.258811Z",
     "start_time": "2020-03-27T03:55:51.441731Z"
    },
    "code_folding": [],
    "hidden": true
   },
   "outputs": [
    {
     "name": "stdout",
     "output_type": "stream",
     "text": [
      "Warning: recalculate if including all cells\n",
      "Data loaded\n",
      "Data not found, calculating intensities\n",
      "Cell 0\n",
      "Cell 10\n",
      "Cell 20\n",
      "Cell 30\n",
      "Cell 40\n",
      "Cell 50\n",
      "Cell 60\n",
      "Cell 70\n",
      "Cell 80\n",
      "Cell 90\n",
      "Cell 100\n",
      "Cell 110\n",
      "Cell 120\n",
      "Cell 130\n",
      "Cell 140\n",
      "Cell 150\n",
      "Cell 160\n",
      "Cell 170\n",
      "Cell 180\n",
      "Cell 190\n",
      "Cell 200\n",
      "Cell 210\n",
      "Cell 220\n",
      "Cell 230\n",
      "Cell 240\n",
      "Cell 250\n",
      "Cell 260\n",
      "Cell 270\n",
      "Cell 280\n",
      "Cell 290\n",
      "Cell 300\n",
      "Cell 310\n",
      "Cell 320\n"
     ]
    }
   ],
   "source": [
    "save_loc = 'G:\\\\Shared drives\\\\as_share\\\\HCR\\\\HCR 3.12\\\\S5'\n",
    "save_file = 'S5_data_ndnf_sst_vip.pkl'\n",
    "\n",
    "try:\n",
    "    print('Warning: recalculate if including all cells')\n",
    "\n",
    "    with open('{0}\\\\{1}'.format(save_loc, save_file), 'rb') as f:\n",
    "        sig = pkl.load(f)\n",
    "    int_ndnf = sig['Ndnf_lipo_excl']\n",
    "    int_sst = sig['Sst_lipo_excl'] \n",
    "    int_vip = sig['Vip_lipo_excl']\n",
    "    print('Data loaded')\n",
    "    fsl\n",
    "\n",
    "except:\n",
    "    print('Data not found, calculating intensities')\n",
    "    no_cells = len(Cell.cell_data.keys())\n",
    "    int_ndnf = np.zeros(no_cells)\n",
    "    int_vip = np.zeros(no_cells)\n",
    "    int_sst = np.zeros(no_cells)\n",
    "\n",
    "    for cell in range(no_cells):\n",
    "#     for cell in cells_sub:\n",
    "        \n",
    "        if np.mod(cell, 10) == 0:\n",
    "            print('Cell {0}'.format(cell))\n",
    "        cell_no = cell + 1\n",
    "        cell_dict = Cell.cell_data[cell_no]\n",
    "        z_planes = cell_dict['z_planes']\n",
    "\n",
    "        intensity_ndnf = np.zeros(cell_dict['no_planes'])\n",
    "        intensity_vip = np.zeros(cell_dict['no_planes'])\n",
    "        intensity_sst = np.zeros(cell_dict['no_planes'])\n",
    "\n",
    "        i = 0\n",
    "        for plane in z_planes:\n",
    "\n",
    "            xy_coord = cell_pixels_no_lipo[cell_no][plane]\n",
    "            if xy_coord.shape[1] == 0: # all pixels are lipofuscin pixels\n",
    "                intensity_ndnf[i] = 0\n",
    "                intensity_vip[i] = 0\n",
    "                intensity_sst[i] = 0\n",
    "                continue\n",
    "                \n",
    "            x = xy_coord[0, :]\n",
    "            y = xy_coord[1, :]\n",
    "            intensity_ndnf[i] = np.mean(im_array_ndnf[plane, x, y])\n",
    "            intensity_vip[i] = np.mean(im_array_vip[plane, x, y])\n",
    "            intensity_sst[i] = np.mean(im_array_sst[plane, x, y])\n",
    "            i += 1\n",
    "\n",
    "        int_ndnf[cell] = np.mean(intensity_ndnf)\n",
    "        int_vip[cell] = np.mean(intensity_vip)\n",
    "        int_sst[cell] = np.mean(intensity_sst)\n",
    "        \n",
    "        sig['Ndnf_lipo_excl'] = int_ndnf\n",
    "        sig['Sst_lipo_excl'] = int_sst \n",
    "        sig['Vip_lipo_excl'] = int_vip \n",
    "\n",
    "        with open('{0}\\\\{1}'.format(save_loc, save_file), 'wb') as f:\n",
    "            pkl.dump(sig, f)\n"
   ]
  },
  {
   "cell_type": "markdown",
   "metadata": {
    "heading_collapsed": true,
    "hidden": true
   },
   "source": [
    "### Intensity in masks excluding lipofuscin pixels in binarized images (essentially spot counting)"
   ]
  },
  {
   "cell_type": "markdown",
   "metadata": {
    "heading_collapsed": true,
    "hidden": true
   },
   "source": [
    "#### Filter images"
   ]
  },
  {
   "cell_type": "code",
   "execution_count": 19,
   "metadata": {
    "ExecuteTime": {
     "end_time": "2020-03-27T03:38:16.972884Z",
     "start_time": "2020-03-27T03:35:51.754414Z"
    },
    "hidden": true
   },
   "outputs": [
    {
     "name": "stdout",
     "output_type": "stream",
     "text": [
      "No images found, filtering images (~5 minutes)\n",
      "48 seconds\n",
      "96 seconds\n",
      "145 seconds\n"
     ]
    }
   ],
   "source": [
    "t0 = time.time()    \n",
    "\n",
    "print('No images found, filtering images (~5 minutes)')\n",
    "sigma_small = 1\n",
    "sigma_large = 2\n",
    "\n",
    "\n",
    "img = im_array_ndnf\n",
    "im_diff_ndnf = diff_gauss.diff_gauss(sigma_small, sigma_large, img, do_plot = 1)\n",
    "t1 = time.time() - t0\n",
    "print('{0} seconds'.format(int(t1)))\n",
    "\n",
    "img = im_array_sst\n",
    "im_diff_sst = diff_gauss.diff_gauss(sigma_small, sigma_large, img, do_plot = 0)\n",
    "t1 = time.time() - t0\n",
    "print('{0} seconds'.format(int(t1)))\n",
    "\n",
    "img = im_array_vip\n",
    "im_diff_vip = diff_gauss.diff_gauss(sigma_small, sigma_large, img, do_plot = 0)\n",
    "t1 = time.time() - t0\n",
    "print('{0} seconds'.format(int(t1)))\n",
    "\n",
    "#     img = im_array_gad1\n",
    "#     im_diff_gad1 = diff_gauss.diff_gauss(sigma_small, sigma_large, img, do_plot = 1)\n",
    "#     t1 = time.time() - t0\n",
    "#     print('{0} seconds'.format(int(t1)))\n",
    "\n",
    "del img"
   ]
  },
  {
   "cell_type": "markdown",
   "metadata": {
    "heading_collapsed": true,
    "hidden": true
   },
   "source": [
    "#### Binarize"
   ]
  },
  {
   "cell_type": "code",
   "execution_count": 40,
   "metadata": {
    "ExecuteTime": {
     "end_time": "2020-03-27T05:15:20.657144Z",
     "start_time": "2020-03-27T05:15:04.054424Z"
    },
    "hidden": true,
    "scrolled": true
   },
   "outputs": [
    {
     "name": "stdout",
     "output_type": "stream",
     "text": [
      "Finding threshold for binarizing\n",
      "Finding threshold for binarizing\n",
      "Finding threshold for binarizing\n"
     ]
    }
   ],
   "source": [
    "img_dict = {'Ndnf': im_diff_ndnf, 'Sst': im_diff_sst, 'Vip': im_diff_vip}\n",
    "#img_dict = {'Ndnf': im_array_ndnf, 'Sst': im_array_sst, 'Vip': im_array_vip}\n",
    "\n",
    "pixels_dict = {'Cells': all_cell_pixels, 'Lipofuscin': all_lipo_pixels}\n",
    "#pixels_dict = {'Cells': all_cell_pixels}\n",
    "\n",
    "colors_dict = {'Cells': 'b', 'Lipofuscin': 'k'}\n",
    "\n",
    "title = 'Diff gauss sigma = ({0}, {1})'.format(sigma_small, sigma_large)\n",
    "#title = 'Raw images'\n",
    "save_loc = 'G:\\\\Shared drives\\\\as_share\\\\HCR\\\\HCR 3.11\\\\S5\\\\Plots'\n",
    "save_file = '{0} hist lipo + cells.png'.format(title)\n",
    "#save_file = '{0} hist cells.png'.format(title)\n",
    "\n",
    "thresh_scale = 12\n",
    "\n",
    "thresh = hist_channels.hist_channels(img_dict, pixels_dict, max_per_group= 100000, \n",
    "                                     do_bin = True, bin_group = 'Cells', thresh_scale = thresh_scale,\n",
    "                                     colors_dict = colors_dict, \n",
    "                                     title = title, save = True, save_loc = save_loc, save_file = save_file)\n",
    "\n",
    "del img_dict\n",
    "del pixels_dict\n",
    "\n",
    "im_bin_ndnf = np.zeros(im_diff_ndnf.shape)\n",
    "im_bin_sst = np.zeros(im_diff_ndnf.shape)\n",
    "im_bin_vip = np.zeros(im_diff_ndnf.shape)\n",
    "#im_bin_gad1 = np.zeros(im_diff_gad1.shape)\n",
    "\n",
    "ix_ndnf = np.where(im_diff_ndnf > thresh['Ndnf'])\n",
    "ix_sst = np.where(im_diff_sst > thresh['Sst'])\n",
    "ix_vip = np.where(im_diff_vip > thresh['Vip'])\n",
    "#ix_gad1 = np.where(im_diff_gad1 > thresh['Gad1'])\n",
    "\n",
    "im_bin_ndnf[ix_ndnf] = im_diff_ndnf[ix_ndnf]\n",
    "im_bin_sst[ix_sst] = im_diff_sst[ix_sst]\n",
    "im_bin_vip[ix_vip] = im_diff_vip[ix_vip]\n",
    "#im_bin_gad1[ix_gad1] = im_diff_gad1[ix_gad1]"
   ]
  },
  {
   "cell_type": "markdown",
   "metadata": {
    "heading_collapsed": true,
    "hidden": true
   },
   "source": [
    "#### Calculate intensities"
   ]
  },
  {
   "cell_type": "code",
   "execution_count": 41,
   "metadata": {
    "ExecuteTime": {
     "end_time": "2020-03-27T05:16:28.148980Z",
     "start_time": "2020-03-27T05:16:27.835818Z"
    },
    "hidden": true
   },
   "outputs": [
    {
     "name": "stdout",
     "output_type": "stream",
     "text": [
      "Data loaded\n",
      "Data not found, calculating intensities\n",
      "Cell 0\n",
      "Cell 10\n",
      "Cell 20\n",
      "Cell 30\n",
      "Cell 40\n",
      "Cell 50\n",
      "Cell 60\n",
      "Cell 70\n",
      "Cell 80\n",
      "Cell 90\n",
      "Cell 100\n",
      "Cell 110\n",
      "Cell 120\n",
      "Cell 130\n",
      "Cell 140\n",
      "Cell 150\n",
      "Cell 160\n",
      "Cell 170\n",
      "Cell 180\n",
      "Cell 190\n",
      "Cell 200\n",
      "Cell 210\n",
      "Cell 220\n",
      "Cell 230\n",
      "Cell 240\n",
      "Cell 250\n",
      "Cell 260\n",
      "Cell 270\n",
      "Cell 280\n",
      "Cell 290\n",
      "Cell 300\n",
      "Cell 310\n",
      "Cell 320\n"
     ]
    }
   ],
   "source": [
    "# Note: size of spot is also relevant here. \n",
    "save_loc = 'G:\\\\Shared drives\\\\as_share\\\\HCR\\\\HCR 3.12\\\\S5'\n",
    "save_file = 'S5_data_ndnf_sst_vip.pkl'\n",
    "\n",
    "try:\n",
    "    with open('{0}\\\\{1}'.format(save_loc, save_file), 'rb') as f:\n",
    "        sig = pkl.load(f)\n",
    "    int_ndnf_bin = sig['Ndnf_lipo_excl_bin']\n",
    "    int_sst_bin = sig['Sst_lipo_excl_bin'] \n",
    "    int_vip_bin = sig['Vip_lipo_excl_bin']\n",
    "    print('Data loaded')\n",
    "    jfg\n",
    "\n",
    "except:\n",
    "    print('Data not found, calculating intensities')\n",
    "    no_cells = len(Cell.cell_data.keys())\n",
    "    int_ndnf_bin = np.zeros(no_cells)\n",
    "    int_vip_bin = np.zeros(no_cells)\n",
    "    int_sst_bin = np.zeros(no_cells)\n",
    "\n",
    "    for cell in range(no_cells):\n",
    "#     for cell in cells_sub:\n",
    "        \n",
    "        if np.mod(cell, 10) == 0:\n",
    "            print('Cell {0}'.format(cell))\n",
    "        cell_no = cell + 1\n",
    "        cell_dict = Cell.cell_data[cell_no]\n",
    "        z_planes = cell_dict['z_planes']\n",
    "\n",
    "        intensity_ndnf = np.zeros(cell_dict['no_planes'])\n",
    "        intensity_vip = np.zeros(cell_dict['no_planes'])\n",
    "        intensity_sst = np.zeros(cell_dict['no_planes'])\n",
    "\n",
    "        i = 0\n",
    "        for plane in z_planes:\n",
    "\n",
    "            xy_coord = cell_pixels_no_lipo[cell_no][plane]\n",
    "            \n",
    "            if xy_coord.shape[1] == 0: # all pixels are lipofuscin pixels\n",
    "                intensity_ndnf[i] = 0\n",
    "                intensity_vip[i] = 0\n",
    "                intensity_sst[i] = 0\n",
    "                continue\n",
    "                \n",
    "            x = xy_coord[0, :]\n",
    "            y = xy_coord[1, :]\n",
    "            intensity_ndnf[i] = np.mean(im_bin_ndnf[plane, x, y])\n",
    "            intensity_vip[i] = np.mean(im_bin_vip[plane, x, y])\n",
    "            intensity_sst[i] = np.mean(im_bin_sst[plane, x, y])\n",
    "            i += 1\n",
    "\n",
    "        int_ndnf_bin[cell] = np.mean(intensity_ndnf)\n",
    "        int_vip_bin[cell] = np.mean(intensity_vip)\n",
    "        int_sst_bin[cell] = np.mean(intensity_sst)\n",
    "        \n",
    "    sig['Ndnf_lipo_excl_bin'] = int_ndnf_bin\n",
    "    sig['Sst_lipo_excl_bin'] = int_sst_bin \n",
    "    sig['Vip_lipo_excl_bin'] = int_vip_bin \n",
    "\n",
    "    with open('{0}\\\\{1}'.format(save_loc, save_file), 'wb') as f:\n",
    "        pkl.dump(sig, f)\n",
    "\n"
   ]
  },
  {
   "cell_type": "markdown",
   "metadata": {
    "heading_collapsed": true,
    "hidden": true
   },
   "source": [
    "##### Calculate intensities - old"
   ]
  },
  {
   "cell_type": "code",
   "execution_count": 119,
   "metadata": {
    "ExecuteTime": {
     "end_time": "2020-03-24T03:37:51.545169Z",
     "start_time": "2020-03-24T03:37:51.446432Z"
    },
    "hidden": true
   },
   "outputs": [
    {
     "name": "stdout",
     "output_type": "stream",
     "text": [
      "Data not found, calculating intensities\n",
      "Cell 0\n",
      "Cell 10\n",
      "Cell 20\n",
      "Cell 30\n",
      "Cell 40\n",
      "Cell 50\n",
      "Cell 60\n",
      "Cell 70\n",
      "Cell 80\n",
      "Cell 90\n",
      "Cell 100\n",
      "Cell 110\n",
      "Cell 120\n",
      "Cell 130\n",
      "Cell 140\n",
      "Cell 150\n",
      "Cell 160\n",
      "Cell 170\n",
      "Cell 180\n",
      "Cell 190\n",
      "Cell 200\n",
      "Cell 210\n",
      "Cell 220\n",
      "Cell 230\n",
      "Cell 240\n",
      "Cell 250\n",
      "Cell 260\n",
      "Cell 270\n",
      "Cell 280\n",
      "Cell 290\n",
      "Cell 300\n",
      "Cell 310\n",
      "Cell 320\n"
     ]
    }
   ],
   "source": [
    "# Note: size of spot is also relevant here. \n",
    "save_loc = 'G:\\\\Shared drives\\\\as_share\\\\HCR\\\\HCR 3.12\\\\S5'\n",
    "save_file = 'S5_data_ndnf_sst_vip.pkl'\n",
    "\n",
    "try:\n",
    "    with open('{0}\\\\{1}'.format(save_loc, save_file), 'rb') as f:\n",
    "        sig = pkl.load(f)\n",
    "    int_ndnf_bin = sig['Ndnf_lipo_excl_bin']\n",
    "    int_sst_bin = sig['Sst_lipo_excl_bin'] \n",
    "    int_vip_bin = sig['Vip_lipo_excl_bin']\n",
    "    kgl\n",
    "    print('Data loaded')\n",
    "\n",
    "except:\n",
    "    print('Data not found, calculating intensities')\n",
    "    no_cells = len(Cell.cell_data.keys())\n",
    "    int_ndnf_bin = np.zeros(no_cells)\n",
    "    int_vip_bin = np.zeros(no_cells)\n",
    "    int_sst_bin = np.zeros(no_cells)\n",
    "\n",
    "    for cell in range(no_cells):\n",
    "\n",
    "        if np.mod(cell, 10) == 0:\n",
    "            print('Cell {0}'.format(cell))\n",
    "        cell_no = cell + 1\n",
    "        cell_dict = Cell.cell_data[cell_no]\n",
    "        z_planes = cell_dict['z_planes']\n",
    "\n",
    "        intensity_ndnf = np.zeros(cell_dict['no_planes'])\n",
    "        intensity_vip = np.zeros(cell_dict['no_planes'])\n",
    "        intensity_sst = np.zeros(cell_dict['no_planes'])\n",
    "\n",
    "        i = 0\n",
    "        for plane in z_planes:\n",
    "\n",
    "            xy_coord = cell_pixels_no_lipo[cell_no][plane]\n",
    "            x = xy_coord[0, :]\n",
    "            y = xy_coord[1, :]\n",
    "            intensity_ndnf[i] = np.mean(im_bin_ndnf[plane, x, y])\n",
    "            intensity_vip[i] = np.mean(im_bin_vip[plane, x, y])\n",
    "            intensity_sst[i] = np.mean(im_bin_sst[plane, x, y])\n",
    "            i += 1\n",
    "\n",
    "        int_ndnf_bin[cell] = np.mean(intensity_ndnf)\n",
    "        int_vip_bin[cell] = np.mean(intensity_vip)\n",
    "        int_sst_bin[cell] = np.mean(intensity_sst)\n",
    "        \n",
    "    sig['Ndnf_lipo_excl_bin'] = int_ndnf_bin\n",
    "    sig['Sst_lipo_excl_bin'] = int_sst_bin \n",
    "    sig['Vip_lipo_excl_bin'] = int_vip_bin \n",
    "\n",
    "    with open('{0}\\\\{1}'.format(save_loc, save_file), 'wb') as f:\n",
    "        pkl.dump(sig, f)\n",
    "\n"
   ]
  },
  {
   "cell_type": "markdown",
   "metadata": {
    "heading_collapsed": true,
    "hidden": true
   },
   "source": [
    "### Intensity in masks excluding lipofuscin pixels in diff images"
   ]
  },
  {
   "cell_type": "code",
   "execution_count": 69,
   "metadata": {
    "ExecuteTime": {
     "end_time": "2020-03-23T18:14:05.752104Z",
     "start_time": "2020-03-23T18:14:03.478188Z"
    },
    "hidden": true
   },
   "outputs": [
    {
     "name": "stdout",
     "output_type": "stream",
     "text": [
      "Data not found, calculating intensities\n",
      "Cell 0\n",
      "Cell 10\n",
      "Cell 20\n",
      "Cell 30\n",
      "Cell 40\n",
      "Cell 50\n",
      "Cell 60\n",
      "Cell 70\n",
      "Cell 80\n",
      "Cell 90\n",
      "Cell 100\n",
      "Cell 110\n",
      "Cell 120\n",
      "Cell 130\n",
      "Cell 140\n",
      "Cell 150\n",
      "Cell 160\n",
      "Cell 170\n",
      "Cell 180\n",
      "Cell 190\n",
      "Cell 200\n",
      "Cell 210\n",
      "Cell 220\n",
      "Cell 230\n",
      "Cell 240\n",
      "Cell 250\n",
      "Cell 260\n",
      "Cell 270\n",
      "Cell 280\n",
      "Cell 290\n",
      "Cell 300\n",
      "Cell 310\n",
      "Cell 320\n"
     ]
    }
   ],
   "source": [
    "# Note: size of spot is also relevant here. \n",
    "\n",
    "save_loc = 'G:\\\\Shared drives\\\\as_share\\\\HCR\\\\HCR 3.12\\\\S5'\n",
    "save_file = 'S5_data2_ndnf_sst_vip.pkl'\n",
    "\n",
    "try:\n",
    "    with open('{0}\\\\{1}'.format(save_loc, save_file), 'rb') as f:\n",
    "        sig = pkl.load(f)\n",
    "    int_ndnf_diff = sig['ndnf_lipo_excl_diff']\n",
    "    int_sst_diff = sig['sst_lipo_excl_diff'] \n",
    "    int_vip_diff = sig['vip_lipo_excl_diff']\n",
    "    print('Data loaded')\n",
    "\n",
    "except:\n",
    "    print('Data not found, calculating intensities')\n",
    "    no_cells = len(Cell.cell_data.keys())\n",
    "    int_ndnf_diff = np.zeros(no_cells)\n",
    "    int_vip_diff = np.zeros(no_cells)\n",
    "    int_sst_diff = np.zeros(no_cells)\n",
    "\n",
    "    for cell in range(no_cells):\n",
    "\n",
    "        if np.mod(cell, 10) == 0:\n",
    "            print('Cell {0}'.format(cell))\n",
    "        cell_no = cell + 1\n",
    "        cell_dict = Cell.cell_data[cell_no]\n",
    "        z_planes = cell_dict['z_planes']\n",
    "\n",
    "        intensity_ndnf = np.zeros(cell_dict['no_planes'])\n",
    "        intensity_vip = np.zeros(cell_dict['no_planes'])\n",
    "        intensity_sst = np.zeros(cell_dict['no_planes'])\n",
    "\n",
    "        i = 0\n",
    "        for plane in np.array(z_planes).astype(int):\n",
    "\n",
    "            xy_coord = cell_pixels_no_lipo[cell_no][plane]\n",
    "            x = xy_coord[0]\n",
    "            y = xy_coord[1]\n",
    "            intensity_ndnf[i] = np.mean(im_diff_ndnf[plane, x, y])\n",
    "            intensity_vip[i] = np.mean(im_diff_vip[plane, x, y])\n",
    "            intensity_sst[i] = np.mean(im_diff_sst[plane, x, y])\n",
    "            i += 1\n",
    "\n",
    "        int_ndnf_diff[cell] = np.mean(intensity_ndnf)\n",
    "        int_vip_diff[cell] = np.mean(intensity_vip)\n",
    "        int_sst_diff[cell] = np.mean(intensity_sst)\n",
    "        \n",
    "        sig['ndnf_lipo_excl_bin'] = int_ndnf_diff\n",
    "        sig['sst_lipo_excl_bin'] = int_sst_diff\n",
    "        sig['vip_lipo_excl_bin'] = int_vip_diff\n",
    "\n",
    "    with open('{0}\\\\{1}'.format(save_loc, save_file), 'wb') as f:\n",
    "            pkl.dump(sig, f)\n"
   ]
  },
  {
   "cell_type": "markdown",
   "metadata": {
    "heading_collapsed": true,
    "hidden": true
   },
   "source": [
    "## Local background"
   ]
  },
  {
   "cell_type": "markdown",
   "metadata": {
    "heading_collapsed": true,
    "hidden": true
   },
   "source": [
    "### Raw images"
   ]
  },
  {
   "cell_type": "code",
   "execution_count": 32,
   "metadata": {
    "ExecuteTime": {
     "end_time": "2020-03-27T04:50:20.032444Z",
     "start_time": "2020-03-27T04:50:01.696484Z"
    },
    "code_folding": [],
    "hidden": true
   },
   "outputs": [
    {
     "name": "stdout",
     "output_type": "stream",
     "text": [
      "Data not found, calculating background values\n"
     ]
    }
   ],
   "source": [
    "save_loc = 'G:\\\\Shared drives\\\\as_share\\\\HCR\\\\HCR 3.12\\\\S5'\n",
    "save_file = 'S5_background_ndnf_sst_vip.pkl'\n",
    "\n",
    "try:\n",
    "    with open('{0}\\\\{1}'.format(save_loc, save_file), 'rb') as f:\n",
    "        dict = pkl.load(f)\n",
    "    \n",
    "    avg_bg_ndnf = dict['Ndnf'] \n",
    "    avg_bg_sst = dict['Sst']  \n",
    "    avg_bg_vip = dict['Vip']\n",
    "    centers = dict['Centers']\n",
    "    n_vert_all = dict['n_vert_all']\n",
    "    #bg_all = dict['bg_all']\n",
    "    jkl\n",
    "    print('Data loaded')\n",
    "\n",
    "except:\n",
    "    \n",
    "    print('Data not found, calculating background values')\n",
    "    bg_all = np.ones([n, h, w])\n",
    "    n_vert_all = {}\n",
    "    centers = {}\n",
    "\n",
    "    no_cells = len(Cell.cell_data.keys())\n",
    "    for cell in range(no_cells):\n",
    "\n",
    "        cell_no = cell + 1\n",
    "        cell_dict = Cell.cell_data[cell_no]\n",
    "        z_planes = cell_dict['z_planes']\n",
    "        n_vert_all[cell] = {}\n",
    "        centers[cell] = {}\n",
    "\n",
    "        for plane in z_planes:\n",
    "\n",
    "            xy_coord = mask_vertices[cell_no][plane]\n",
    "            x = xy_coord[0]\n",
    "            y = xy_coord[1]\n",
    "            z = plane\n",
    "            centers[cell][plane] = np.array([np.mean(x), np.mean(y)]).astype(int)\n",
    "\n",
    "\n",
    "            bg_all[z, x, y] = np.zeros([1, len(x)])\n",
    "\n",
    "            n_vert_all[cell][plane] = len(x) \n",
    "            \n",
    "    # fig, ax = plt.subplots(nrows = 3, ncols = 20)\n",
    "    um_per_px = 0.13\n",
    "    no_cells = len(Cell.cell_data.keys())\n",
    "    avg_bg_ndnf = np.zeros(no_cells)\n",
    "    avg_bg_vip = np.zeros(no_cells)\n",
    "    avg_bg_sst = np.zeros(no_cells)\n",
    "\n",
    "    local_region = 50 # in um\n",
    "    local_px = int(local_region/um_per_px/2)\n",
    "\n",
    "    min_dist = 10 # in um\n",
    "    min_dist_px = min_dist/um_per_px\n",
    "\n",
    "    for cell in range(no_cells):\n",
    "        cell_no = cell + 1\n",
    "        cell_dict = Cell.cell_data[cell_no]\n",
    "        z_planes = cell_dict['z_planes']\n",
    "\n",
    "        bg_ndnf = np.zeros(len(z_planes))\n",
    "        bg_vip = np.zeros(len(z_planes))\n",
    "        bg_sst = np.zeros(len(z_planes))\n",
    "\n",
    "        p = 0\n",
    "        for plane in z_planes:\n",
    "\n",
    "            center = centers[cell][plane]\n",
    "            n_verts = n_vert_all[cell][plane]\n",
    "\n",
    "            x1 = np.max([0, center[0] - local_px])\n",
    "            x2 = np.min([h, center[0] + local_px])\n",
    "            y1 = np.max([0, center[1] - local_px])\n",
    "            y2 = np.min([w, center[1] + local_px])\n",
    "\n",
    "            center_local = [local_px, local_px]\n",
    "\n",
    "            local_bg = bg_all[plane, x1:x2, y1:y2].astype(bool)\n",
    "            local_im_ndnf = im_array_ndnf[plane, x1:x2, y1:y2]\n",
    "            local_im_sst = im_array_sst[plane, x1:x2, y1:y2]\n",
    "            local_im_vip = im_array_vip[plane, x1:x2, y1:y2]\n",
    "\n",
    "    #         ax[0, cell].imshow(local_im, vmin = np.min(local_im), vmax = np.max(local_im)/2)\n",
    "\n",
    "    #         ax[1, cell].imshow(local_bg)\n",
    "\n",
    "            verts = np.array(np.where(local_bg))\n",
    "            dist_from_center = np.linalg.norm(verts - np.reshape(center_local, [2, 1]), axis = 0)\n",
    "            verts = verts[:, dist_from_center > min_dist_px]\n",
    "            dist_from_center = dist_from_center[dist_from_center > min_dist_px]\n",
    "\n",
    "            order = np.argsort(dist_from_center)\n",
    "            n_verts = np.min([n_verts, len(order)])\n",
    "\n",
    "            x_bg = verts[0][order[0:n_verts]]\n",
    "            y_bg = verts[1][order[0:n_verts]]\n",
    "\n",
    "            local_bg = np.zeros(local_bg.shape).astype(bool)\n",
    "            local_bg[x_bg, y_bg] = np.ones(n_verts)\n",
    "\n",
    "    #         ax[2, cell].imshow(local_bg)\n",
    "\n",
    "            bg_ndnf[p] = np.mean(local_im_ndnf[local_bg])\n",
    "            bg_vip[p] = np.mean(local_im_vip[local_bg])\n",
    "            bg_sst[p] = np.mean(local_im_sst[local_bg])\n",
    "\n",
    "            p += 1\n",
    "\n",
    "\n",
    "\n",
    "        avg_bg_ndnf[cell] = np.mean(bg_ndnf)\n",
    "        avg_bg_vip[cell] = np.mean(bg_vip)\n",
    "        avg_bg_sst[cell] = np.mean(bg_sst)\n",
    "\n",
    "    with open('{0}\\\\{1}'.format(save_loc, save_file), 'wb') as f:\n",
    "        pkl.dump({'Ndnf': avg_bg_ndnf, 'Sst': avg_bg_sst, 'Vip':avg_bg_vip, 'Centers': centers, \n",
    "                  'n_vert_all':n_vert_all, \n",
    "                  #'bg_all': bg_all\n",
    "                 }, f)\n",
    "            \n",
    "    #del bg_all"
   ]
  },
  {
   "cell_type": "markdown",
   "metadata": {
    "heading_collapsed": true,
    "hidden": true
   },
   "source": [
    "### Binarized images"
   ]
  },
  {
   "cell_type": "code",
   "execution_count": 28,
   "metadata": {
    "ExecuteTime": {
     "end_time": "2020-03-21T21:57:41.382924Z",
     "start_time": "2020-03-21T21:57:41.357992Z"
    },
    "hidden": true
   },
   "outputs": [],
   "source": [
    "save_loc = 'G:\\\\Shared drives\\\\as_share\\\\HCR\\\\HCR 3.11\\\\S5'\n",
    "save_file = 'S5_background_ndnf_sst_vip.pkl'\n",
    "\n",
    "with open('{0}\\\\{1}'.format(save_loc, save_file), 'rb') as f:\n",
    "        bg_dict = pkl.load(f)  "
   ]
  },
  {
   "cell_type": "code",
   "execution_count": 42,
   "metadata": {
    "ExecuteTime": {
     "end_time": "2020-03-27T05:17:10.170287Z",
     "start_time": "2020-03-27T05:16:55.557347Z"
    },
    "code_folding": [],
    "hidden": true
   },
   "outputs": [
    {
     "name": "stdout",
     "output_type": "stream",
     "text": [
      "Data not found, calculating background values\n",
      "Cell 0\n",
      "Cell 10\n",
      "Cell 20\n",
      "Cell 30\n",
      "Cell 40\n",
      "Cell 50\n",
      "Cell 60\n",
      "Cell 70\n",
      "Cell 80\n",
      "Cell 90\n",
      "Cell 100\n",
      "Cell 110\n",
      "Cell 120\n",
      "Cell 130\n",
      "Cell 140\n",
      "Cell 150\n",
      "Cell 160\n",
      "Cell 170\n",
      "Cell 180\n",
      "Cell 190\n",
      "Cell 200\n",
      "Cell 210\n",
      "Cell 220\n",
      "Cell 230\n",
      "Cell 240\n",
      "Cell 250\n",
      "Cell 260\n",
      "Cell 270\n",
      "Cell 280\n",
      "Cell 290\n",
      "Cell 300\n",
      "Cell 310\n",
      "Cell 320\n"
     ]
    }
   ],
   "source": [
    "save_loc = 'G:\\\\Shared drives\\\\as_share\\\\HCR\\\\HCR 3.12\\\\S5'\n",
    "save_file = 'S5_background_ndnf_sst_vip.pkl'\n",
    "\n",
    "try:\n",
    "    with open('{0}\\\\{1}'.format(save_loc, save_file), 'rb') as f:\n",
    "        bg_dict = pkl.load(f)   \n",
    "    \n",
    "    centers = bg_dict['Centers']\n",
    "    n_vert_all = bg_dict['n_vert_all']\n",
    "    #bg_all = bg_dict['bg_all']\n",
    "    avg_bg_ndnf_bin = bg_dict['Ndnf_bin'] \n",
    "    avg_bg_sst_bin = bg_dict['Sst_bin']  \n",
    "    avg_bg_vip_bin = bg_dict['Vip_bin']\n",
    "    hkfl\n",
    "\n",
    "    print('Data loaded')\n",
    "\n",
    "except:\n",
    "    \n",
    "    print('Data not found, calculating background values')\n",
    "    bg_all = np.ones([n, h, w])\n",
    "    n_vert_all = {}\n",
    "    centers = {}\n",
    "\n",
    "    no_cells = len(Cell.cell_data.keys())\n",
    "    for cell in range(no_cells):\n",
    "#     for cell in cells_sub:\n",
    "        \n",
    "        cell_no = cell + 1\n",
    "        cell_dict = Cell.cell_data[cell_no]\n",
    "        z_planes = cell_dict['z_planes']\n",
    "        n_vert_all[cell] = {}\n",
    "        centers[cell] = {}\n",
    "\n",
    "        for plane in z_planes:\n",
    "\n",
    "            xy_coord = mask_vertices[cell_no][plane]\n",
    "            x = xy_coord[0]\n",
    "            y = xy_coord[1]\n",
    "            z = plane\n",
    "            centers[cell][plane] = np.array([np.mean(x), np.mean(y)]).astype(int)\n",
    "\n",
    "\n",
    "            bg_all[z, x, y] = np.zeros([1, len(x)])\n",
    "\n",
    "            n_vert_all[cell][plane] = len(x) \n",
    "            \n",
    "    # fig, ax = plt.subplots(nrows = 3, ncols = 20)\n",
    "    um_per_px = 0.13\n",
    "    no_cells = len(Cell.cell_data.keys())\n",
    "    avg_bg_ndnf_bin = np.zeros(no_cells)\n",
    "    avg_bg_vip_bin = np.zeros(no_cells)\n",
    "    avg_bg_sst_bin = np.zeros(no_cells)\n",
    "\n",
    "    local_region = 50 # in um\n",
    "    local_px = int(local_region/um_per_px/2)\n",
    "\n",
    "    min_dist = 10 # in um\n",
    "    min_dist_px = min_dist/um_per_px\n",
    "\n",
    "    for cell in range(no_cells):\n",
    "#     for cell in cells_sub:\n",
    "        \n",
    "        cell_no = cell + 1\n",
    "        if np.mod(cell, 10) == 0:\n",
    "            print('Cell {0}'.format(cell))\n",
    "        cell_dict = Cell.cell_data[cell_no]\n",
    "        z_planes = cell_dict['z_planes']\n",
    "\n",
    "        bg_ndnf = np.zeros(len(z_planes))\n",
    "        bg_vip = np.zeros(len(z_planes))\n",
    "        bg_sst = np.zeros(len(z_planes))\n",
    "\n",
    "        p = 0\n",
    "        for plane in z_planes:\n",
    "\n",
    "            center = centers[cell][plane]\n",
    "            n_verts = n_vert_all[cell][plane]\n",
    "\n",
    "            x1 = np.max([0, center[0] - local_px])\n",
    "            x2 = np.min([h, center[0] + local_px])\n",
    "            y1 = np.max([0, center[1] - local_px])\n",
    "            y2 = np.min([w, center[1] + local_px])\n",
    "\n",
    "            center_local = [local_px, local_px]\n",
    "\n",
    "            local_bg = bg_all[plane, x1:x2, y1:y2].astype(bool)\n",
    "            local_im_ndnf = im_bin_ndnf[plane, x1:x2, y1:y2]\n",
    "            local_im_sst = im_bin_sst[plane, x1:x2, y1:y2]\n",
    "            local_im_vip = im_bin_vip[plane, x1:x2, y1:y2]\n",
    "\n",
    "    #         ax[0, cell].imshow(local_im, vmin = np.min(local_im), vmax = np.max(local_im)/2)\n",
    "\n",
    "    #         ax[1, cell].imshow(local_bg)\n",
    "\n",
    "            verts = np.array(np.where(local_bg))\n",
    "            dist_from_center = np.linalg.norm(verts - np.reshape(center_local, [2, 1]), axis = 0)\n",
    "            verts = verts[:, dist_from_center > min_dist_px]\n",
    "            dist_from_center = dist_from_center[dist_from_center > min_dist_px]\n",
    "\n",
    "            order = np.argsort(dist_from_center)\n",
    "            n_verts = np.min([n_verts, len(order)])\n",
    "\n",
    "            x_bg = verts[0][order[0:n_verts]]\n",
    "            y_bg = verts[1][order[0:n_verts]]\n",
    "\n",
    "            local_bg = np.zeros(local_bg.shape).astype(bool)\n",
    "            local_bg[x_bg, y_bg] = np.ones(n_verts)\n",
    "\n",
    "    #         ax[2, cell].imshow(local_bg)\n",
    "\n",
    "            bg_ndnf[p] = np.mean(local_im_ndnf[local_bg])\n",
    "            bg_vip[p] = np.mean(local_im_vip[local_bg])\n",
    "            bg_sst[p] = np.mean(local_im_sst[local_bg])\n",
    "\n",
    "            p += 1\n",
    "\n",
    "\n",
    "\n",
    "        avg_bg_ndnf_bin[cell] = np.mean(bg_ndnf)\n",
    "        avg_bg_vip_bin[cell] = np.mean(bg_vip)\n",
    "        avg_bg_sst_bin[cell] = np.mean(bg_sst)\n",
    "        \n",
    "    bg_dict['Ndnf_bin'] = avg_bg_ndnf_bin \n",
    "    bg_dict['Sst_bin'] = avg_bg_sst_bin \n",
    "    bg_dict['Vip_bin'] = avg_bg_vip_bin \n",
    "\n",
    "    with open('{0}\\\\{1}'.format(save_loc, save_file), 'wb') as f:\n",
    "        pkl.dump(bg_dict, f)\n",
    "            \n",
    "    #del bg_all"
   ]
  },
  {
   "cell_type": "markdown",
   "metadata": {
    "heading_collapsed": true,
    "hidden": true
   },
   "source": [
    "### Diff images"
   ]
  },
  {
   "cell_type": "code",
   "execution_count": 71,
   "metadata": {
    "ExecuteTime": {
     "end_time": "2020-03-23T18:22:02.625989Z",
     "start_time": "2020-03-23T18:21:54.429180Z"
    },
    "hidden": true
   },
   "outputs": [
    {
     "name": "stdout",
     "output_type": "stream",
     "text": [
      "Data not found, calculating background values\n",
      "Cell 0\n",
      "Cell 10\n",
      "Cell 20\n",
      "Cell 30\n",
      "Cell 40\n",
      "Cell 50\n",
      "Cell 60\n",
      "Cell 70\n",
      "Cell 80\n",
      "Cell 90\n",
      "Cell 100\n",
      "Cell 110\n",
      "Cell 120\n",
      "Cell 130\n",
      "Cell 140\n",
      "Cell 150\n",
      "Cell 160\n",
      "Cell 170\n",
      "Cell 180\n",
      "Cell 190\n",
      "Cell 200\n",
      "Cell 210\n",
      "Cell 220\n",
      "Cell 230\n",
      "Cell 240\n",
      "Cell 250\n",
      "Cell 260\n",
      "Cell 270\n",
      "Cell 280\n",
      "Cell 290\n",
      "Cell 300\n",
      "Cell 310\n",
      "Cell 320\n"
     ]
    }
   ],
   "source": [
    "save_loc = 'G:\\\\Shared drives\\\\as_share\\\\HCR\\\\HCR 3.12\\\\S5'\n",
    "save_file = 'S5_background2_ndnf_sst_vip.pkl'\n",
    "\n",
    "try:\n",
    "    with open('{0}\\\\{1}'.format(save_loc, save_file), 'rb') as f:\n",
    "        bg_dict = pkl.load(f)   \n",
    "    \n",
    "    centers = bg_dict['Centers']\n",
    "    n_vert_all = bg_dict['n_vert_all']\n",
    "    bg_all = bg_dict['bg_all']\n",
    "    avg_bg_ndnf_diff = bg_dict['ndnf_diff'] \n",
    "    avg_bg_sst_diff = bg_dict['sst_diff']  \n",
    "    avg_bg_vip_diff = bg_dict['vip_diff']\n",
    "\n",
    "    print('Data loaded')\n",
    "\n",
    "except:\n",
    "    \n",
    "    print('Data not found, calculating background values')\n",
    "    bg_all = np.ones([n, h, w])\n",
    "    n_vert_all = {}\n",
    "    centers = {}\n",
    "\n",
    "    no_cells = len(Cell.cell_data.keys())\n",
    "    for cell in range(no_cells):\n",
    "\n",
    "        cell_no = cell + 1\n",
    "        cell_dict = Cell.cell_data[cell_no]\n",
    "        z_planes = cell_dict['z_planes']\n",
    "        n_vert_all[cell] = {}\n",
    "        centers[cell] = {}\n",
    "\n",
    "        for plane in np.array(z_planes).astype(int):\n",
    "\n",
    "            xy_coord = mask_vertices[cell_no][plane]\n",
    "            x = xy_coord[0]\n",
    "            y = xy_coord[1]\n",
    "            z = plane\n",
    "            centers[cell][plane] = np.array([np.mean(x), np.mean(y)]).astype(int)\n",
    "\n",
    "\n",
    "            bg_all[z, x, y] = np.zeros([1, len(x)])\n",
    "\n",
    "            n_vert_all[cell][plane] = len(x) \n",
    "            \n",
    "    # fig, ax = plt.subplots(nrows = 3, ncols = 20)\n",
    "    um_per_px = 0.19\n",
    "    no_cells = len(Cell.cell_data.keys())\n",
    "    avg_bg_ndnf_diff = np.zeros(no_cells)\n",
    "    avg_bg_vip_diff = np.zeros(no_cells)\n",
    "    avg_bg_sst_diff = np.zeros(no_cells)\n",
    "\n",
    "    local_region = 50 # in um\n",
    "    local_px = int(local_region/um_per_px/2)\n",
    "\n",
    "    min_dist = 10 # in um\n",
    "    min_dist_px = min_dist/um_per_px\n",
    "\n",
    "    for cell in range(no_cells):\n",
    "        cell_no = cell + 1\n",
    "        if np.mod(cell, 10) == 0:\n",
    "            print('Cell {0}'.format(cell))\n",
    "        cell_dict = Cell.cell_data[cell_no]\n",
    "        z_planes = cell_dict['z_planes']\n",
    "\n",
    "        bg_ndnf = np.zeros(len(z_planes))\n",
    "        bg_vip = np.zeros(len(z_planes))\n",
    "        bg_sst = np.zeros(len(z_planes))\n",
    "\n",
    "        p = 0\n",
    "        for plane in np.array(z_planes).astype(int):\n",
    "\n",
    "            center = centers[cell][plane]\n",
    "            n_verts = n_vert_all[cell][plane]\n",
    "\n",
    "            x1 = np.max([0, center[0] - local_px])\n",
    "            x2 = np.min([h, center[0] + local_px])\n",
    "            y1 = np.max([0, center[1] - local_px])\n",
    "            y2 = np.min([w, center[1] + local_px])\n",
    "\n",
    "            center_local = [local_px, local_px]\n",
    "\n",
    "            local_bg = bg_all[plane, x1:x2, y1:y2].astype(bool)\n",
    "            local_im_ndnf = im_diff_ndnf[plane, x1:x2, y1:y2]\n",
    "            local_im_sst = im_diff_sst[plane, x1:x2, y1:y2]\n",
    "            local_im_vip = im_diff_vip[plane, x1:x2, y1:y2]\n",
    "\n",
    "    #         ax[0, cell].imshow(local_im, vmin = np.min(local_im), vmax = np.max(local_im)/2)\n",
    "\n",
    "    #         ax[1, cell].imshow(local_bg)\n",
    "\n",
    "            verts = np.array(np.where(local_bg))\n",
    "            dist_from_center = np.linalg.norm(verts - np.reshape(center_local, [2, 1]), axis = 0)\n",
    "            verts = verts[:, dist_from_center > min_dist_px]\n",
    "            dist_from_center = dist_from_center[dist_from_center > min_dist_px]\n",
    "\n",
    "            order = np.argsort(dist_from_center)\n",
    "            n_verts = np.min([n_verts, len(order)])\n",
    "\n",
    "            x_bg = verts[0][order[0:n_verts]]\n",
    "            y_bg = verts[1][order[0:n_verts]]\n",
    "\n",
    "            local_bg = np.zeros(local_bg.shape).astype(bool)\n",
    "            local_bg[x_bg, y_bg] = np.ones(n_verts)\n",
    "\n",
    "    #         ax[2, cell].imshow(local_bg)\n",
    "\n",
    "            bg_ndnf[p] = np.mean(local_im_ndnf[local_bg])\n",
    "            bg_vip[p] = np.mean(local_im_vip[local_bg])\n",
    "            bg_sst[p] = np.mean(local_im_sst[local_bg])\n",
    "\n",
    "            p += 1\n",
    "\n",
    "\n",
    "\n",
    "        avg_bg_ndnf_diff[cell] = np.mean(bg_ndnf)\n",
    "        avg_bg_vip_diff[cell] = np.mean(bg_vip)\n",
    "        avg_bg_sst_diff[cell] = np.mean(bg_sst)\n",
    "        \n",
    "    bg_dict['ndnf_bin'] = avg_bg_ndnf_diff \n",
    "    bg_dict['sst_bin'] = avg_bg_sst_diff \n",
    "    bg_dict['vip_bin'] = avg_bg_vip_diff \n",
    "\n",
    "    with open('{0}\\\\{1}'.format(save_loc, save_file), 'wb') as f:\n",
    "        pkl.dump(bg_dict, f)\n",
    "            \n",
    "    del bg_all"
   ]
  },
  {
   "cell_type": "markdown",
   "metadata": {
    "heading_collapsed": true,
    "hidden": true
   },
   "source": [
    "### Calculate mask centers"
   ]
  },
  {
   "cell_type": "code",
   "execution_count": 83,
   "metadata": {
    "ExecuteTime": {
     "end_time": "2020-03-23T20:31:58.321977Z",
     "start_time": "2020-03-23T20:31:56.093938Z"
    },
    "hidden": true
   },
   "outputs": [],
   "source": [
    "bg_all = np.ones([n, h, w])\n",
    "n_vert_all = {}\n",
    "centers = {}\n",
    "\n",
    "no_cells = len(Cell.cell_data.keys())\n",
    "for cell in range(no_cells):\n",
    "\n",
    "    cell_no = cell + 1\n",
    "    cell_dict = Cell.cell_data[cell_no]\n",
    "    z_planes = cell_dict['z_planes']\n",
    "    n_vert_all[cell] = {}\n",
    "    centers[cell] = {}\n",
    "\n",
    "    for plane in z_planes:\n",
    "\n",
    "        xy_coord = mask_vertices[cell_no][plane]\n",
    "        x = xy_coord[0]\n",
    "        y = xy_coord[1]\n",
    "        z = plane\n",
    "        centers[cell][plane] = np.array([np.mean(x), np.mean(y)]).astype(int)\n",
    "\n",
    "\n",
    "        bg_all[z, x, y] = np.zeros([1, len(x)])\n",
    "\n",
    "        n_vert_all[cell][plane] = len(x) "
   ]
  },
  {
   "cell_type": "code",
   "execution_count": 78,
   "metadata": {
    "ExecuteTime": {
     "end_time": "2020-03-06T19:44:47.565092Z",
     "start_time": "2020-03-06T19:44:47.555118Z"
    },
    "hidden": true
   },
   "outputs": [
    {
     "data": {
      "text/plain": [
       "'S1_background_ndnf_sst_vip.pkl'"
      ]
     },
     "execution_count": 78,
     "metadata": {},
     "output_type": "execute_result"
    }
   ],
   "source": [
    "save_file"
   ]
  },
  {
   "cell_type": "code",
   "execution_count": 94,
   "metadata": {
    "ExecuteTime": {
     "end_time": "2020-03-06T19:50:50.105003Z",
     "start_time": "2020-03-06T19:50:37.025307Z"
    },
    "hidden": true
   },
   "outputs": [],
   "source": [
    "with open('{0}\\\\{1}'.format(save_loc, save_file), 'wb') as f:\n",
    "            pkl.dump({'Ndnf': avg_bg_ndnf, 'Sst': avg_bg_sst, 'Vip':avg_bg_vip, 'Centers': centers,\n",
    "                     'n_vert_all': n_vert_all, 'bg_all': bg_all}, f)"
   ]
  },
  {
   "cell_type": "code",
   "execution_count": 127,
   "metadata": {
    "ExecuteTime": {
     "end_time": "2020-03-03T23:52:44.060292Z",
     "start_time": "2020-03-03T23:52:44.055303Z"
    },
    "hidden": true
   },
   "outputs": [],
   "source": [
    "del all_cell_pixels"
   ]
  },
  {
   "cell_type": "markdown",
   "metadata": {
    "hidden": true
   },
   "source": [
    "## Use background to estimate significance of signal"
   ]
  },
  {
   "cell_type": "markdown",
   "metadata": {
    "hidden": true
   },
   "source": [
    "### Get bootstrap sample means from background"
   ]
  },
  {
   "cell_type": "markdown",
   "metadata": {
    "heading_collapsed": true,
    "hidden": true
   },
   "source": [
    "#### Raw images"
   ]
  },
  {
   "cell_type": "code",
   "execution_count": 30,
   "metadata": {
    "ExecuteTime": {
     "end_time": "2020-03-27T04:31:51.977804Z",
     "start_time": "2020-03-27T04:31:51.447224Z"
    },
    "code_folding": [],
    "hidden": true
   },
   "outputs": [
    {
     "name": "stdout",
     "output_type": "stream",
     "text": [
      "Data loaded\n"
     ]
    }
   ],
   "source": [
    "t0 = time.time()\n",
    "\n",
    "save_loc = 'G:\\\\Shared drives\\\\as_share\\\\HCR\\\\HCR 3.12\\\\S5'\n",
    "save_file = 'S5_bootstrap.pkl'\n",
    "\n",
    "# Parameters\n",
    "n_sample = 1000 # Number of samples to calculate bootstrap confidence interval\n",
    "um_per_px = 0.19\n",
    "local_region = 50 # in um\n",
    "min_dist = 10 # in um\n",
    "bg_factor = 4 # Take 4x the number of pixels in the mask of the cell, for local background - it will still be local but you'll\n",
    "            # get a better estimate of background by averaging over more pixels.\n",
    "\n",
    "try:\n",
    "    with open('{0}\\\\{1}'.format(save_loc, save_file), 'rb') as f:\n",
    "        d = pkl.load(f)\n",
    "    bg_bs_ndnf = d['Ndnf']\n",
    "    bg_bs_sst = d['Sst']\n",
    "    bg_bs_vip = d['Vip']\n",
    "    print('Data loaded')\n",
    "    \n",
    "except:\n",
    "    print('No data found, calculating p values')\n",
    "\n",
    "    no_cells = len(Cell.cell_data.keys())\n",
    "    bg_bs_ndnf = {}\n",
    "    bg_bs_sst = {}\n",
    "    bg_bs_vip = {}\n",
    "\n",
    "    local_px = int(local_region/um_per_px/2)\n",
    "    min_dist_px = min_dist/um_per_px\n",
    "\n",
    "    for cell in range(no_cells):\n",
    "\n",
    "        if np.mod(cell, 10) == 0:\n",
    "            print('Cell {0}: {1} seconds'.format(cell, np.round(time.time() - t0)))\n",
    "\n",
    "        cell_no = cell + 1\n",
    "        cell_dict = Cell.cell_data[cell_no]\n",
    "        z_planes = cell_dict['z_planes']\n",
    "\n",
    "        bg_bs_ndnf[cell] = {}\n",
    "        bg_bs_sst[cell] = {}\n",
    "        bg_bs_vip[cell] = {}\n",
    "        \n",
    "        p = 0\n",
    "\n",
    "        for plane in z_planes:\n",
    "\n",
    "            bg_bs_ndnf[cell][plane] = np.zeros(n_sample)\n",
    "            bg_bs_sst[cell][plane] = np.zeros(n_sample)\n",
    "            bg_bs_vip[cell][plane] = np.zeros(n_sample)\n",
    "            \n",
    "            center = centers[cell][plane]\n",
    "            n_verts = n_vert_all[cell][plane]\n",
    "\n",
    "            x1 = np.max([0, center[0] - local_px])\n",
    "            x2 = np.min([h, center[0] + local_px])\n",
    "            y1 = np.max([0, center[1] - local_px])\n",
    "            y2 = np.min([w, center[1] + local_px])\n",
    "\n",
    "            center_local = [local_px, local_px]\n",
    "\n",
    "            local_bg = bg_all[plane, x1:x2, y1:y2].astype(bool)\n",
    "\n",
    "            verts = np.array(np.where(local_bg))\n",
    "            dist_from_center = np.linalg.norm(verts - np.reshape(center_local, [2, 1]), \n",
    "                                              axis = 0)\n",
    "            verts = verts[:, dist_from_center > min_dist_px]\n",
    "            dist_from_center = dist_from_center[dist_from_center > min_dist_px]\n",
    "\n",
    "            order = np.argsort(dist_from_center)\n",
    "            n_verts_bg = np.min([bg_factor*n_verts, len(order)])\n",
    "\n",
    "            verts = verts[:, order[0:n_verts_bg]]\n",
    "            samples = np.random.choice(np.linspace(0, n_verts_bg - 1, n_verts_bg).astype(int), \n",
    "                                       (n_verts, n_sample), replace = True)\n",
    "            x_bs = verts[0][samples]\n",
    "            y_bs = verts[1][samples]\n",
    "\n",
    "            local_im_ndnf = im_array_ndnf[plane, x1:x2, y1:y2]\n",
    "            local_im_sst = im_array_sst[plane, x1:x2, y1:y2]\n",
    "            local_im_vip = im_array_vip[plane, x1:x2, y1:y2]\n",
    "\n",
    "\n",
    "            local_bg_bs = np.zeros([x2 - x1, y2 - y1]).astype(bool)\n",
    "            for s in range(n_sample):\n",
    "                local_bg_bs[x_bs[:, s], y_bs[:, s]] = np.ones(n_verts)\n",
    "                bg_bs_ndnf[cell][plane][s] = np.mean(local_im_ndnf[local_bg_bs])\n",
    "                bg_bs_vip[cell][plane][s] = np.mean(local_im_vip[local_bg_bs])\n",
    "                bg_bs_sst[cell][plane][s] = np.mean(local_im_sst[local_bg_bs])\n",
    "\n",
    "            p += 1\n",
    "\n",
    "    with open('{0}\\\\{1}'.format(save_loc, save_file), 'wb') as f:\n",
    "        pkl.dump({'Ndnf': bg_bs_ndnf, 'Vip': bg_bs_vip, 'Sst': bg_bs_sst}, f)     \n",
    "    "
   ]
  },
  {
   "cell_type": "markdown",
   "metadata": {
    "heading_collapsed": true,
    "hidden": true
   },
   "source": [
    "#### Binarized images"
   ]
  },
  {
   "cell_type": "code",
   "execution_count": 43,
   "metadata": {
    "ExecuteTime": {
     "end_time": "2020-03-27T05:27:04.478264Z",
     "start_time": "2020-03-27T05:19:19.472731Z"
    },
    "hidden": true
   },
   "outputs": [
    {
     "name": "stdout",
     "output_type": "stream",
     "text": [
      "No data found, calculating p values\n",
      "Cell 0, 1.0 seconds\n",
      "Cell 10, 13.0 seconds\n",
      "Cell 20, 21.0 seconds\n",
      "Cell 30, 33.0 seconds\n",
      "Cell 40, 49.0 seconds\n",
      "Cell 50, 60.0 seconds\n",
      "Cell 60, 72.0 seconds\n",
      "Cell 70, 89.0 seconds\n",
      "Cell 80, 102.0 seconds\n",
      "Cell 90, 116.0 seconds\n",
      "Cell 100, 132.0 seconds\n",
      "Cell 110, 147.0 seconds\n",
      "Cell 120, 163.0 seconds\n",
      "Cell 130, 179.0 seconds\n",
      "Cell 140, 196.0 seconds\n",
      "Cell 150, 211.0 seconds\n",
      "Cell 160, 225.0 seconds\n",
      "Cell 170, 239.0 seconds\n",
      "Cell 180, 253.0 seconds\n",
      "Cell 190, 264.0 seconds\n",
      "Cell 200, 282.0 seconds\n",
      "Cell 210, 298.0 seconds\n",
      "Cell 220, 310.0 seconds\n",
      "Cell 230, 325.0 seconds\n",
      "Cell 240, 342.0 seconds\n",
      "Cell 250, 357.0 seconds\n",
      "Cell 260, 370.0 seconds\n",
      "Cell 270, 382.0 seconds\n",
      "Cell 280, 397.0 seconds\n",
      "Cell 290, 413.0 seconds\n",
      "Cell 300, 429.0 seconds\n",
      "Cell 310, 447.0 seconds\n",
      "Cell 320, 460.0 seconds\n"
     ]
    }
   ],
   "source": [
    "save_loc = 'G:\\\\Shared drives\\\\as_share\\\\HCR\\\\HCR 3.12\\\\S5'\n",
    "save_file = 'S5_bootstrap.pkl'\n",
    "\n",
    "# Parameters\n",
    "n_sample = 1000 # Number of samples to calculate bootstrap confidence interval\n",
    "um_per_px = 0.13\n",
    "local_region = 50 # in um\n",
    "min_dist = 10 # in um\n",
    "bg_factor = 10 # Take 10x the number of pixels in the mask of the cell, for local background - it will still be local but you'll\n",
    "            # get a better estimate of background by averaging over more pixels.\n",
    "\n",
    "t0 = time.time()\n",
    "try:\n",
    "    with open('{0}\\\\{1}'.format(save_loc, save_file), 'rb') as f:\n",
    "        d = pkl.load(f)\n",
    "    bg_bs_ndnf_bin = d['Ndnf_bin']\n",
    "    bg_bs_sst_bin = d['Sst_bin']\n",
    "    bg_bs_vip_bin = d['Vip_bin']\n",
    "    gfk\n",
    "    print('Data loaded')\n",
    "    \n",
    "except:\n",
    "    print('No data found, calculating p values')\n",
    "\n",
    "    no_cells = len(Cell.cell_data.keys())\n",
    "    bg_bs_ndnf_bin = {}\n",
    "    bg_bs_sst_bin = {}\n",
    "    bg_bs_vip_bin = {}\n",
    "\n",
    "    local_px = int(local_region/um_per_px/2)\n",
    "    min_dist_px = min_dist/um_per_px\n",
    "\n",
    "    for cell in range(no_cells):\n",
    "#     for cell in cells_sub:\n",
    "        \n",
    "        if np.mod(cell, 10) == 0:\n",
    "            t1 = np.round(time.time() - t0)\n",
    "            print('Cell {0}, {1} seconds'.format(cell, t1))\n",
    "\n",
    "        cell_no = cell + 1\n",
    "        cell_dict = Cell.cell_data[cell_no]\n",
    "        z_planes = cell_dict['z_planes']\n",
    "\n",
    "        bg_bs_ndnf_bin[cell] = {}\n",
    "        bg_bs_sst_bin[cell] = {}\n",
    "        bg_bs_vip_bin[cell] = {}\n",
    "        \n",
    "        p = 0\n",
    "\n",
    "        for plane in z_planes:\n",
    "\n",
    "            bg_bs_ndnf_bin[cell][plane] = np.zeros(n_sample)\n",
    "            bg_bs_sst_bin[cell][plane] = np.zeros(n_sample)\n",
    "            bg_bs_vip_bin[cell][plane] = np.zeros(n_sample)\n",
    "            \n",
    "            center = centers[cell][plane]\n",
    "            n_verts = n_vert_all[cell][plane]\n",
    "\n",
    "            x1 = np.max([0, center[0] - local_px])\n",
    "            x2 = np.min([h, center[0] + local_px])\n",
    "            y1 = np.max([0, center[1] - local_px])\n",
    "            y2 = np.min([w, center[1] + local_px])\n",
    "\n",
    "            center_local = [local_px, local_px]\n",
    "\n",
    "            local_bg = bg_all[plane, x1:x2, y1:y2].astype(bool)\n",
    "\n",
    "            verts = np.array(np.where(local_bg))\n",
    "            dist_from_center = np.linalg.norm(verts - np.reshape(center_local, [2, 1]), \n",
    "                                              axis = 0)\n",
    "            verts = verts[:, dist_from_center > min_dist_px]\n",
    "            dist_from_center = dist_from_center[dist_from_center > min_dist_px]\n",
    "\n",
    "            order = np.argsort(dist_from_center)\n",
    "            n_verts_bg = np.min([bg_factor*n_verts, len(order)])\n",
    "\n",
    "            verts = verts[:, order[0:n_verts_bg]]\n",
    "            samples = np.random.choice(np.linspace(0, n_verts_bg - 1, n_verts_bg).astype(int), \n",
    "                                       (n_verts, n_sample), replace = True)\n",
    "            x_bs = verts[0][samples]\n",
    "            y_bs = verts[1][samples]\n",
    "\n",
    "            local_im_ndnf = im_bin_ndnf[plane, x1:x2, y1:y2]\n",
    "            local_im_sst = im_bin_sst[plane, x1:x2, y1:y2]\n",
    "            local_im_vip = im_bin_vip[plane, x1:x2, y1:y2]\n",
    "\n",
    "\n",
    "            local_bg_bs = np.zeros([x2 - x1, y2 - y1]).astype(bool)\n",
    "            for s in range(n_sample):\n",
    "                local_bg_bs[x_bs[:, s], y_bs[:, s]] = np.ones(n_verts)\n",
    "                bg_bs_ndnf_bin[cell][plane][s] = np.mean(local_im_ndnf[local_bg_bs])\n",
    "                bg_bs_vip_bin[cell][plane][s] = np.mean(local_im_vip[local_bg_bs])\n",
    "                bg_bs_sst_bin[cell][plane][s] = np.mean(local_im_sst[local_bg_bs])\n",
    "\n",
    "            p += 1\n",
    "            \n",
    "    d['Ndnf_bin'] = bg_bs_ndnf_bin \n",
    "    d['Sst_bin'] = bg_bs_sst_bin \n",
    "    d['Vip_bin'] = bg_bs_vip_bin \n",
    "\n",
    "    with open('{0}\\\\{1}'.format(save_loc, save_file), 'wb') as f:\n",
    "        pkl.dump(d, f)     \n",
    "    "
   ]
  },
  {
   "cell_type": "markdown",
   "metadata": {
    "hidden": true
   },
   "source": [
    "### Calculate p-value  and confidence interval"
   ]
  },
  {
   "cell_type": "code",
   "execution_count": 44,
   "metadata": {
    "ExecuteTime": {
     "end_time": "2020-03-27T05:27:13.878066Z",
     "start_time": "2020-03-27T05:27:13.589840Z"
    },
    "code_folding": [
     97
    ],
    "hidden": true,
    "run_control": {
     "marked": true
    }
   },
   "outputs": [
    {
     "name": "stdout",
     "output_type": "stream",
     "text": [
      "Loaded p values for raw images\n",
      "Loaded confidence intervals\n",
      "Loaded p values for lipofuscin excluded masks\n",
      "Loaded p values for lipofuscin excluded masks in binarized images\n",
      "Loaded p values for binarized images\n",
      "Data not found; calculating\n",
      "Cell 0\n",
      "Cell 10\n",
      "Cell 20\n",
      "Cell 30\n",
      "Cell 40\n",
      "Cell 50\n",
      "Cell 60\n",
      "Cell 70\n",
      "Cell 80\n",
      "Cell 90\n",
      "Cell 100\n",
      "Cell 110\n",
      "Cell 120\n",
      "Cell 130\n",
      "Cell 140\n",
      "Cell 150\n",
      "Cell 160\n",
      "Cell 170\n",
      "Cell 180\n",
      "Cell 190\n",
      "Cell 200\n",
      "Cell 210\n",
      "Cell 220\n",
      "Cell 230\n",
      "Cell 240\n",
      "Cell 250\n",
      "Cell 260\n",
      "Cell 270\n",
      "Cell 280\n",
      "Cell 290\n",
      "Cell 300\n",
      "Cell 310\n",
      "Cell 320\n",
      "\n",
      "With raw images:\n",
      "Ndnf: 323 cells are significant\n",
      "Vip: 322 cells are significant\n",
      "Sst: 300 cells are significant\n",
      "\n",
      "Ndnf & Sst: 300 cells are significant\n",
      "Vip & Sst: 299 cells are significant\n",
      "Ndnf & Vip: 322 cells are significant\n",
      "\n",
      "With lipofuscin pixels exluded:\n",
      "Ndnf: 321 cells are significant\n",
      "Vip: 313 cells are significant\n",
      "Sst: 290 cells are significant\n",
      "\n",
      "Ndnf & Sst: 288 cells are significant\n",
      "Vip & Sst: 283 cells are significant\n",
      "Ndnf & Vip: 312 cells are significant\n",
      "\n",
      "With lipofuscin pixels exluded, in binarized images:\n",
      "Ndnf: 81 cells are significant\n",
      "Vip: 51 cells are significant\n",
      "Sst: 13 cells are significant\n",
      "\n",
      "Ndnf & Sst: 0 cells are significant\n",
      "Vip & Sst: 2 cells are significant\n",
      "Ndnf & Vip: 7 cells are significant\n",
      "\n",
      "With all pixels, in binarized images:\n",
      "Ndnf: 0 cells are significant\n",
      "Vip: 0 cells are significant\n",
      "Sst: 0 cells are significant\n",
      "\n",
      "Ndnf & Sst: 0 cells are significant\n",
      "Vip & Sst: 0 cells are significant\n",
      "Ndnf & Vip: 0 cells are significant\n"
     ]
    }
   ],
   "source": [
    "save_loc = 'G:\\\\Shared drives\\\\as_share\\\\HCR\\\\HCR 3.12\\\\S5'\n",
    "save_file1 = 'S5_pvals.pkl'\n",
    "save_file2 = 'S5_conf_intvls.pkl'\n",
    "save_file3 = 'S5_pvals_lipo_excl.pkl'\n",
    "save_file4 = 'S5_pvals_lipo_excl_bin.pkl'\n",
    "save_file5 = 'S5_pvals_bin_all.pkl'\n",
    "\n",
    "p_value = 0.05 # Threshold for calling signal significantly different from background\n",
    "\n",
    "try:\n",
    "    with open('{0}\\\\{1}'.format(save_loc, save_file1), 'rb') as f:\n",
    "        p_vals = pkl.load(f)\n",
    "        pv_ndnf = p_vals['Ndnf']\n",
    "        pv_sst = p_vals['Sst']\n",
    "        pv_vip = p_vals['Vip']\n",
    "    print('Loaded p values for raw images')\n",
    "    \n",
    "    with open('{0}\\\\{1}'.format(save_loc, save_file2), 'rb') as f:\n",
    "        ci = pkl.load(f)\n",
    "        ci_ndnf = ci['Ndnf']\n",
    "        ci_sst = ci['Sst']\n",
    "        ci_vip = ci['Vip']\n",
    "    print('Loaded confidence intervals')\n",
    "    \n",
    "    with open('{0}\\\\{1}'.format(save_loc, save_file3), 'rb') as f:\n",
    "        p_vals = pkl.load(f)\n",
    "        pv_ndnf2 = p_vals['Ndnf']\n",
    "        pv_sst2 = p_vals['Sst']\n",
    "        pv_vip2 = p_vals['Vip']\n",
    "    print('Loaded p values for lipofuscin excluded masks')\n",
    "    \n",
    "    with open('{0}\\\\{1}'.format(save_loc, save_file4), 'rb') as f:\n",
    "        p_vals = pkl.load(f)\n",
    "        pv_ndnf3 = p_vals['Ndnf']\n",
    "        pv_sst3 = p_vals['Sst']\n",
    "        pv_vip3 = p_vals['Vip']\n",
    "    print('Loaded p values for lipofuscin excluded masks in binarized images')\n",
    "    \n",
    "    with open('{0}\\\\{1}'.format(save_loc, save_file5), 'rb') as f:\n",
    "        p_vals = pkl.load(f)\n",
    "        pv_ndnf4 = p_vals['Ndnf']\n",
    "        pv_sst4 = p_vals['Sst']\n",
    "        pv_vip4 = p_vals['Vip']\n",
    "    print('Loaded p values for binarized images')\n",
    "    \n",
    "    fj\n",
    "\n",
    "except:\n",
    "    print('Data not found; calculating')\n",
    "    \n",
    "    ci_ndnf = np.ones(no_cells)\n",
    "    ci_vip = np.ones(no_cells)\n",
    "    ci_sst = np.ones(no_cells)\n",
    "\n",
    "    pv_ndnf = np.ones(no_cells)\n",
    "    pv_vip = np.ones(no_cells)\n",
    "    pv_sst = np.ones(no_cells)\n",
    "    \n",
    "    pv_ndnf2 = np.ones(no_cells)\n",
    "    pv_vip2 = np.ones(no_cells)\n",
    "    pv_sst2 = np.ones(no_cells)\n",
    "    \n",
    "    pv_ndnf3 = np.ones(no_cells)\n",
    "    pv_vip3 = np.ones(no_cells)\n",
    "    pv_sst3 = np.ones(no_cells)\n",
    "    \n",
    "    pv_ndnf4 = np.ones(no_cells)\n",
    "    pv_vip4 = np.ones(no_cells)\n",
    "    pv_sst4 = np.ones(no_cells)\n",
    "    \n",
    "    for cell in range(no_cells):\n",
    "#     for cell in cells_sub:\n",
    "        \n",
    "        if np.mod(cell, 10) == 0:\n",
    "            print('Cell {0}'.format(cell))\n",
    "\n",
    "        cell_no = cell + 1\n",
    "        cell_dict = Cell.cell_data[cell_no]\n",
    "        z_planes = cell_dict['z_planes']\n",
    "\n",
    "        # Ndnf\n",
    "        \n",
    "        bs_means = bg_bs_ndnf[cell][z_planes[0]]\n",
    "        for plane in z_planes[1:]:\n",
    "            bs_means = np.concatenate([bs_means, bg_bs_ndnf[cell][plane]])\n",
    "        pv_ndnf[cell] = np.sum(bs_means > avg_intensity_ndnf[cell])/len(bs_means)\n",
    "        ci_ndnf[cell] = np.mean(np.percentile(bs_means, (1 - p_value)*100, axis = 0))\n",
    "        pv_ndnf2[cell] = np.sum(bs_means > int_ndnf[cell])/len(bs_means)\n",
    "        \n",
    "        bs_means = bg_bs_ndnf_bin[cell][z_planes[0]]\n",
    "        for plane in z_planes[1:]:\n",
    "            bs_means = np.concatenate([bs_means, bg_bs_ndnf_bin[cell][plane]])\n",
    "        pv_ndnf3[cell] = np.sum(bs_means >= int_ndnf_bin[cell])/len(bs_means)\n",
    "        #pv_ndnf4[cell] = np.sum(bs_means >= int_ndnf_bin_all[cell])/len(bs_means)\n",
    "        \n",
    "        # Vip\n",
    "        \n",
    "        bs_means = bg_bs_vip[cell][z_planes[0]]\n",
    "        for plane in z_planes[1:]:\n",
    "            bs_means = np.concatenate([bs_means, bg_bs_vip[cell][plane]])\n",
    "        pv_vip[cell] = np.sum(bs_means > avg_intensity_vip[cell])/len(bs_means)\n",
    "        pv_vip2[cell] = np.sum(bs_means > int_vip[cell])/len(bs_means)\n",
    "        ci_vip[cell] = np.mean(np.percentile(bs_means, (1 - p_value)*100, axis = 0))\n",
    "\n",
    "        bs_means = bg_bs_vip_bin[cell][z_planes[0]]\n",
    "        for plane in z_planes[1:]:\n",
    "            bs_means = np.concatenate([bs_means, bg_bs_vip_bin[cell][plane]])\n",
    "        pv_vip3[cell] = np.sum(bs_means >= int_vip_bin[cell])/len(bs_means)\n",
    "        #pv_vip4[cell] = np.sum(bs_means >= int_vip_bin_all[cell])/len(bs_means)\n",
    "\n",
    "        \n",
    "        # Sst\n",
    "        \n",
    "        bs_means = bg_bs_sst[cell][z_planes[0]]\n",
    "        for plane in z_planes[1:]:\n",
    "            bs_means = np.concatenate([bs_means, bg_bs_sst[cell][plane]])\n",
    "        pv_sst[cell] = np.sum(bs_means > avg_intensity_sst[cell])/len(bs_means)\n",
    "        pv_sst2[cell] = np.sum(bs_means > int_sst[cell])/len(bs_means)\n",
    "        ci_sst[cell] = np.mean(np.percentile(bs_means, (1 - p_value)*100, axis = 0))\n",
    "        \n",
    "        bs_means = bg_bs_sst_bin[cell][z_planes[0]]\n",
    "        for plane in z_planes[1:]:\n",
    "            bs_means = np.concatenate([bs_means, bg_bs_sst_bin[cell][plane]])\n",
    "        pv_sst3[cell] = np.sum(bs_means >= int_sst_bin[cell])/len(bs_means)\n",
    "        #pv_sst4[cell] = np.sum(bs_means >= int_sst_bin_all[cell])/len(bs_means)\n",
    "\n",
    "\n",
    "    with open('{0}\\\\{1}'.format(save_loc, save_file1), 'wb') as f:\n",
    "        pkl.dump({'Ndnf': pv_ndnf, 'Sst': pv_sst, 'Vip':pv_vip}, f)\n",
    "\n",
    "    with open('{0}\\\\{1}'.format(save_loc, save_file2), 'wb') as f:\n",
    "        pkl.dump({'Ndnf': ci_ndnf, 'Sst': ci_sst, 'Vip':ci_vip}, f)\n",
    "\n",
    "    with open('{0}\\\\{1}'.format(save_loc, save_file3), 'wb') as f:\n",
    "        pkl.dump({'Ndnf': pv_ndnf2, 'Sst': pv_sst2, 'Vip':pv_vip2}, f)\n",
    "\n",
    "    with open('{0}\\\\{1}'.format(save_loc, save_file4), 'wb') as f:\n",
    "        pkl.dump({'Ndnf': pv_ndnf3, 'Sst': pv_sst3, 'Vip':pv_vip3}, f)\n",
    "        \n",
    "    with open('{0}\\\\{1}'.format(save_loc, save_file5), 'wb') as f:\n",
    "        pkl.dump({'Ndnf': pv_ndnf4, 'Sst': pv_sst4, 'Vip':pv_vip4}, f)\n",
    "\n",
    "    \n",
    "print('')\n",
    "print('With raw images:')\n",
    "\n",
    "print('Ndnf: {0} cells are significant'.format(np.sum(pv_ndnf < 0.05)))\n",
    "print('Vip: {0} cells are significant'.format(np.sum(pv_vip < 0.05)))\n",
    "print('Sst: {0} cells are significant'.format(np.sum(pv_sst < 0.05)))\n",
    "\n",
    "print('')\n",
    "\n",
    "print('Ndnf & Sst: {0} cells are significant'.format(np.sum(np.logical_and(pv_ndnf < 0.05, pv_sst < 0.05))))\n",
    "print('Vip & Sst: {0} cells are significant'.format(np.sum(np.logical_and(pv_vip < 0.05, pv_sst < 0.05))))\n",
    "print('Ndnf & Vip: {0} cells are significant'.format(np.sum(np.logical_and(pv_ndnf < 0.05, pv_vip < 0.05))))\n",
    "\n",
    "print('')\n",
    "print('With lipofuscin pixels exluded:')\n",
    "\n",
    "print('Ndnf: {0} cells are significant'.format(np.sum(pv_ndnf2 < 0.05)))\n",
    "print('Vip: {0} cells are significant'.format(np.sum(pv_vip2 < 0.05)))\n",
    "print('Sst: {0} cells are significant'.format(np.sum(pv_sst2 < 0.05)))\n",
    "\n",
    "print('')\n",
    "\n",
    "print('Ndnf & Sst: {0} cells are significant'.format(np.sum(np.logical_and(pv_ndnf2 < 0.05, pv_sst2 < 0.05))))\n",
    "print('Vip & Sst: {0} cells are significant'.format(np.sum(np.logical_and(pv_vip2 < 0.05, pv_sst2 < 0.05))))\n",
    "print('Ndnf & Vip: {0} cells are significant'.format(np.sum(np.logical_and(pv_ndnf2 < 0.05, pv_vip2 < 0.05))))\n",
    "\n",
    "print('')\n",
    "print('With lipofuscin pixels exluded, in binarized images:')\n",
    "\n",
    "print('Ndnf: {0} cells are significant'.format(np.sum(pv_ndnf3 < 0.05)))\n",
    "print('Vip: {0} cells are significant'.format(np.sum(pv_vip3 < 0.05)))\n",
    "print('Sst: {0} cells are significant'.format(np.sum(pv_sst3 < 0.05)))\n",
    "\n",
    "print('')\n",
    "\n",
    "print('Ndnf & Sst: {0} cells are significant'.format(np.sum(np.logical_and(pv_ndnf3 < 0.05, pv_sst3 < 0.05))))\n",
    "print('Vip & Sst: {0} cells are significant'.format(np.sum(np.logical_and(pv_vip3 < 0.05, pv_sst3 < 0.05))))\n",
    "print('Ndnf & Vip: {0} cells are significant'.format(np.sum(np.logical_and(pv_ndnf3 < 0.05, pv_vip3 < 0.05))))\n",
    "\n",
    "print('')\n",
    "print('With all pixels, in binarized images:')\n",
    "\n",
    "print('Ndnf: {0} cells are significant'.format(np.sum(pv_ndnf4 < 0.05)))\n",
    "print('Vip: {0} cells are significant'.format(np.sum(pv_vip4 < 0.05)))\n",
    "print('Sst: {0} cells are significant'.format(np.sum(pv_sst4 < 0.05)))\n",
    "\n",
    "print('')\n",
    "\n",
    "print('Ndnf & Sst: {0} cells are significant'.format(np.sum(np.logical_and(pv_ndnf4 < 0.05, pv_sst4 < 0.05))))\n",
    "print('Vip & Sst: {0} cells are significant'.format(np.sum(np.logical_and(pv_vip4 < 0.05, pv_sst4 < 0.05))))\n",
    "print('Ndnf & Vip: {0} cells are significant'.format(np.sum(np.logical_and(pv_ndnf4 < 0.05, pv_vip4 < 0.05))))"
   ]
  },
  {
   "cell_type": "markdown",
   "metadata": {
    "hidden": true
   },
   "source": [
    "## Check classification based on manual selection"
   ]
  },
  {
   "cell_type": "code",
   "execution_count": 45,
   "metadata": {
    "ExecuteTime": {
     "end_time": "2020-03-27T05:27:30.800552Z",
     "start_time": "2020-03-27T05:27:30.763651Z"
    },
    "hidden": true
   },
   "outputs": [
    {
     "name": "stdout",
     "output_type": "stream",
     "text": [
      "Ndnf\n",
      "74 true positives\n",
      "7 false positives\n",
      "230 true negative\n",
      "12 false negative\n",
      "Vip\n",
      "35 true positives\n",
      "16 false positives\n",
      "270 true negative\n",
      "2 false negative\n",
      "Sst\n",
      "13 true positives\n",
      "0 false positives\n",
      "299 true negative\n",
      "11 false negative\n"
     ]
    }
   ],
   "source": [
    "# Ndnf\n",
    "#detected = pv_ndnf < 0.05\n",
    "cells = list(range(Cell.n_cells))\n",
    "detected = [i for i in cells if pv_ndnf3[i] < 0.05]\n",
    "manual = ndnf_pos\n",
    "\n",
    "true_pos = [i for i in detected if i in manual]\n",
    "false_pos = [i for i in detected if not i in manual]\n",
    "true_neg = [i for i in cells if np.logical_and(not i in detected, not i in manual)]\n",
    "false_neg = [i for i in manual if not i in detected]\n",
    "\n",
    "print('Ndnf')\n",
    "print('{0} true positives'.format(len(true_pos)))\n",
    "print('{0} false positives'.format(len(false_pos)))\n",
    "print('{0} true negative'.format(len(true_neg)))\n",
    "print('{0} false negative'.format(len(false_neg)))\n",
    "\n",
    "# Vip\n",
    "#detected = pv_vip < 0.05\n",
    "detected = [i for i in cells if pv_vip3[i] < 0.05]\n",
    "manual = vip_pos\n",
    "\n",
    "true_pos = [i for i in detected if i in manual]\n",
    "false_pos = [i for i in detected if not i in manual]\n",
    "true_neg = [i for i in cells if np.logical_and(not i in detected, not i in manual)]\n",
    "false_neg = [i for i in manual if not i in detected]\n",
    "\n",
    "print('Vip')\n",
    "print('{0} true positives'.format(len(true_pos)))\n",
    "print('{0} false positives'.format(len(false_pos)))\n",
    "print('{0} true negative'.format(len(true_neg)))\n",
    "print('{0} false negative'.format(len(false_neg)))\n",
    "\n",
    "\n",
    "# Sst\n",
    "#detected = pv_sst < 0.05\n",
    "detected = [i for i in cells if pv_sst3[i] < 0.05]\n",
    "manual = sst_pos\n",
    "\n",
    "true_pos = [i for i in detected if i in manual]\n",
    "false_pos = [i for i in detected if not i in manual]\n",
    "true_neg = [i for i in cells if np.logical_and(not i in detected, not i in manual)]\n",
    "false_neg = [i for i in manual if not i in detected]\n",
    "\n",
    "print('Sst')\n",
    "print('{0} true positives'.format(len(true_pos)))\n",
    "print('{0} false positives'.format(len(false_pos)))\n",
    "print('{0} true negative'.format(len(true_neg)))\n",
    "print('{0} false negative'.format(len(false_neg)))\n",
    "\n",
    "\n"
   ]
  },
  {
   "cell_type": "markdown",
   "metadata": {
    "heading_collapsed": true
   },
   "source": [
    "# Find cortex surface and calculate depths"
   ]
  },
  {
   "cell_type": "code",
   "execution_count": 49,
   "metadata": {
    "ExecuteTime": {
     "end_time": "2020-03-27T10:42:03.024716Z",
     "start_time": "2020-03-27T10:42:02.997790Z"
    },
    "hidden": true
   },
   "outputs": [
    {
     "name": "stdout",
     "output_type": "stream",
     "text": [
      "Depths loaded\n"
     ]
    }
   ],
   "source": [
    "save_loc = 'G:\\\\Shared drives\\\\as_share\\\\HCR\\\\HCR 3.12\\\\S5'\n",
    "save_file = 'S5_depths.pkl'\n",
    "\n",
    "try:\n",
    "    with open('{0}\\\\{1}'.format(save_loc, save_file), 'rb') as f:\n",
    "        depths = pkl.load(f)\n",
    "        print('Depths loaded')\n",
    "except:\n",
    "    print('Data not found, draw cortex surface and execute lower cell')"
   ]
  },
  {
   "cell_type": "code",
   "execution_count": 27,
   "metadata": {
    "ExecuteTime": {
     "end_time": "2020-03-22T18:35:23.730304Z",
     "start_time": "2020-03-22T18:35:23.504907Z"
    },
    "hidden": true
   },
   "outputs": [
    {
     "data": {
      "text/plain": [
       "<Shapes layer 'surface' at 0x239c85b3f08>"
      ]
     },
     "execution_count": 27,
     "metadata": {},
     "output_type": "execute_result"
    }
   ],
   "source": [
    "viewer.add_shapes(data = None, name = 'surface')"
   ]
  },
  {
   "cell_type": "code",
   "execution_count": 28,
   "metadata": {
    "ExecuteTime": {
     "end_time": "2020-03-22T18:38:40.878975Z",
     "start_time": "2020-03-22T18:38:40.827112Z"
    },
    "hidden": true
   },
   "outputs": [],
   "source": [
    "um_per_px = 0.13\n",
    "save_loc = 'G:\\\\Shared drives\\\\as_share\\\\HCR\\\\HCR 3.12\\\\S5'\n",
    "save_file = 'S5_depths.pkl'\n",
    "\n",
    "def find_depth(d1, d2, cell_center): #d1 and d2 are two points on the surface closest to the cell center\n",
    "    \n",
    "    dx = d2[0] - d1[0]\n",
    "    dy = d2[1] - d1[1]\n",
    "    d1_cell_x = cell_center[0] - d1[0]\n",
    "    d1_cell_y = cell_center[1] - d1[1]\n",
    "    t = (dx * d1_cell_x + dy * d1_cell_y) / (dx * dx + dy * dy)\n",
    "    px = d1[0] + t * dx # Projection of cell center onto line joining d1 and d2\n",
    "    py = d1[1] + t * dy\n",
    "    depth = np.linalg.norm([px - cell_center[0], py - cell_center[1]])\n",
    "    return depth\n",
    "\n",
    "# Draw surface and calculate depths\n",
    "surface = viewer.layers['surface'].data[-1][:, 1:]\n",
    "depths = np.zeros(Cell.n_cells)\n",
    "\n",
    "for cell in range(Cell.n_cells):\n",
    "    pls = centers[cell].keys()\n",
    "    cx = []\n",
    "    cy = []\n",
    "    for pl in pls:\n",
    "        cx = np.append(cx, centers[cell][pl][0])\n",
    "        cy = np.append(cy, centers[cell][pl][1])\n",
    "    c = [np.mean(cx), np.mean(cy)]\n",
    "    distances = np.linalg.norm(c - surface, axis = 1)\n",
    "    order = np.argsort(distances)\n",
    "    [p1, p2] = order[0:2]\n",
    "    d1 = surface[p1]\n",
    "    d2 = surface[p2]\n",
    "    depths[cell] = find_depth(d1, d2, c)\n",
    "depths = depths*um_per_px\n",
    "\n",
    "with open('{0}\\\\{1}'.format(save_loc, save_file), 'wb') as f:\n",
    "        pkl.dump(depths, f)\n"
   ]
  },
  {
   "cell_type": "code",
   "execution_count": 45,
   "metadata": {
    "ExecuteTime": {
     "end_time": "2020-03-21T22:44:55.524987Z",
     "start_time": "2020-03-21T22:44:55.516012Z"
    },
    "hidden": true
   },
   "outputs": [
    {
     "data": {
      "text/plain": [
       "[3653.0, nan]"
      ]
     },
     "execution_count": 45,
     "metadata": {},
     "output_type": "execute_result"
    }
   ],
   "source": [
    "c"
   ]
  },
  {
   "cell_type": "code",
   "execution_count": 42,
   "metadata": {
    "ExecuteTime": {
     "end_time": "2020-03-21T22:40:52.757959Z",
     "start_time": "2020-03-21T22:40:52.746990Z"
    },
    "hidden": true
   },
   "outputs": [],
   "source": [
    "save_loc = 'G:\\\\Shared drives\\\\as_share\\\\HCR\\\\HCR 3.11\\\\S5'\n",
    "save_file = 'S5_depths.pkl'\n",
    "\n",
    "with open('{0}\\\\{1}'.format(save_loc, save_file), 'wb') as f:\n",
    "        pkl.dump(depths, f)"
   ]
  },
  {
   "cell_type": "markdown",
   "metadata": {},
   "source": [
    "# Plots"
   ]
  },
  {
   "cell_type": "markdown",
   "metadata": {
    "heading_collapsed": true
   },
   "source": [
    "## 2D scatter plot of pixel values (pairs of channels)"
   ]
  },
  {
   "cell_type": "code",
   "execution_count": 87,
   "metadata": {
    "ExecuteTime": {
     "end_time": "2020-03-26T20:15:16.556953Z",
     "start_time": "2020-03-26T20:15:16.419953Z"
    },
    "hidden": true
   },
   "outputs": [],
   "source": [
    "#img_dict = {'Ndnf': im_bin_ndnf, 'Sst': im_bin_sst, 'Vip': im_bin_vip}\n",
    "img_dict = {'Ndnf': im_diff_ndnf_lipo, 'Sst': im_diff_sst_lipo, 'Vip': im_diff_vip_lipo}\n",
    "#img_dict = {'Ndnf': im_array_ndnf, 'Sst': im_array_sst, 'Vip': im_array_vip}\n",
    "\n",
    "pixels_dict = {'Cells': all_cell_pixels, 'Lipofuscin': all_lipo_pixels}\n",
    "#pixels_dict = {'Cells': all_cell_pixels}\n",
    "\n",
    "colors_dict = {'Cells': 'k', 'Lipofuscin': 'r'}\n",
    "\n",
    "alpha_dict = {'Cells': 0.4, 'Lipofuscin': 0.4}\n",
    "\n",
    "title = 'Diff gauss sigma = ({0}, {1}); binarized above {2} std from median'.format(sigma_small, sigma_large, thresh_scale)\n",
    "#title = 'Raw images'\n",
    "save_loc = 'G:\\\\Shared drives\\\\as_share\\\\HCR\\\\HCR_10.17\\\\S1_scatter_plots'\n",
    "save_file = '{0} scatter lipo + cells.png'.format(title)\n",
    "#save_file = '{0} scatter cells.png'.format(title)\n",
    "\n",
    "scatter_channels.scatter_channels(img_dict, pixels_dict, max_per_group= 100000, colors_dict = colors_dict,\n",
    "                                  alpha_dict = alpha_dict,\n",
    "#                                   make_3D = True,\n",
    "#                                   title = title, \n",
    "#                                   save = True, \n",
    "                                  save_loc = save_loc, save_file = save_file)\n",
    "\n",
    "del img_dict\n",
    "del pixels_dict"
   ]
  },
  {
   "cell_type": "markdown",
   "metadata": {
    "heading_collapsed": true
   },
   "source": [
    "## 3D scatter plot of pixel values (3 channels)"
   ]
  },
  {
   "cell_type": "code",
   "execution_count": 23,
   "metadata": {
    "ExecuteTime": {
     "end_time": "2020-03-26T17:37:53.307953Z",
     "start_time": "2020-03-26T17:37:53.221953Z"
    },
    "hidden": true
   },
   "outputs": [
    {
     "data": {
      "text/plain": [
       "[<matplotlib.lines.Line2D at 0x156d7d08>]"
      ]
     },
     "execution_count": 23,
     "metadata": {},
     "output_type": "execute_result"
    }
   ],
   "source": [
    "plt.figure()\n",
    "plt.plot(all_cell_pixels[:, 0])"
   ]
  },
  {
   "cell_type": "code",
   "execution_count": 183,
   "metadata": {
    "ExecuteTime": {
     "end_time": "2020-03-27T01:15:57.809953Z",
     "start_time": "2020-03-27T01:15:57.783953Z"
    },
    "hidden": true
   },
   "outputs": [],
   "source": [
    "# -*- coding: utf-8 -*-\n",
    "\"\"\"\n",
    "Created on Thu Feb 27 15:36:38 2020\n",
    "\n",
    "Input:\n",
    "    img_dict: Dictionary in which each key is the name of a channel and\n",
    "              the corresponding value is the image of shape [n_planes, height, width] for that channel\n",
    "    pixels_dict: Dictionary in which each key is the name of a group of pixels and\n",
    "                 the corresponding value is an array of pixel coordinates of shape [n_pixels, 3]\n",
    "    colors_dict: (optional) Dictionary in which each key is the name of a group of pixels and\n",
    "                 the corresponding value is a color\n",
    "    max_per_group: Default 10000. Maximum number of pixels per group to plot.\n",
    "                   If number of pixels exceeds this, pixels will be randomly sub-sampled.\n",
    "\n",
    "\n",
    "@author: Amrita Singh\n",
    "\"\"\"\n",
    "\n",
    "from itertools import combinations\n",
    "import matplotlib.pyplot as plt\n",
    "import numpy as np\n",
    "from os.path import sep\n",
    "\n",
    "\n",
    "def scatter_channels2(img_dict, pixels_dict, max_per_group = 10000, colors_dict = None,\n",
    "                     make_3D = False, alpha_dict = None, \n",
    "                     title = None, save = False, save_loc = None, save_file = None, log_scale = False):\n",
    "\n",
    "\n",
    "    # %%\n",
    "    channel_names = list(img_dict.keys())\n",
    "    n_channels = len(channel_names)\n",
    "    channels = range(n_channels)\n",
    "\n",
    "    if make_3D:\n",
    "        combos = list(combinations(channels, 3))\n",
    "    else:\n",
    "        combos = list(combinations(channels, 2))\n",
    "\n",
    "    n_combos = len(combos)\n",
    "\n",
    "    px_groups = list(pixels_dict.keys())\n",
    "\n",
    "\n",
    "    # %% Get values for each channel for each pixel group\n",
    "    px_vals = {}\n",
    "\n",
    "    for group in px_groups:\n",
    "\n",
    "        px = pixels_dict[group]\n",
    "        n_px = px.shape[0]\n",
    "\n",
    "        # Sub-sample if too many pixels to plot\n",
    "        if n_px > max_per_group:\n",
    "            idx = np.random.randint(int(n_px/max_per_group), size = n_px)\n",
    "            px = px[idx == 0, :]\n",
    "            if type(colors_dict[group]) is np.ndarray:\n",
    "                if colors_dict[group].shape[0] > max_per_group:\n",
    "                    colors_dict[group] = colors_dict[group][idx == 0]\n",
    "\n",
    "        px_vals[group] = {}\n",
    "\n",
    "        for channel in channel_names:\n",
    "            px_vals[group][channel] = img_dict[channel][(px[:, 0], px[:, 1], px[:, 2])]\n",
    "\n",
    "    # %%\n",
    "    fig, ax = plt.subplots(nrows = n_combos if n_combos > 1 else 2, ncols = 1, figsize = (20, 20))\n",
    "    for combo in range(n_combos):\n",
    "\n",
    "        if make_3D:\n",
    "            c3 = channel_names[combos[combo][2]]\n",
    "            ax[combo] = plt.axes(projection='3d')\n",
    "            ax[combo].set_zlabel(c3, fontsize = 18)\n",
    "\n",
    "        c1 = channel_names[combos[combo][0]]\n",
    "        c2 = channel_names[combos[combo][1]]\n",
    "\n",
    "        ax[combo].set_xlabel(c1, fontsize = 18)\n",
    "        ax[combo].set_ylabel(c2, fontsize = 18)\n",
    "\n",
    "\n",
    "\n",
    "        for group in px_groups:\n",
    "\n",
    "            if log_scale:\n",
    "                ax[combo].set_xscale('log')\n",
    "                ax[combo].set_yscale('log')\n",
    "                if make_3D:\n",
    "                    ax[combo].set_zscale('log')\n",
    "\n",
    "            if colors_dict == None:\n",
    "                if make_3D:\n",
    "                    p = ax[combo].scatter3D(px_vals[group][c1], px_vals[group][c2], px_vals[group][c3], label = group,\n",
    "                      marker = '.', alpha = alpha_dict[group])\n",
    "                    fig.colorbar(p)\n",
    "                else:\n",
    "                    ax[combo].scatter(px_vals[group][c1], px_vals[group][c2], label = group, marker = '.', alpha = alpha_dict[group])\n",
    "            else:\n",
    "                if make_3D:\n",
    "                    ax[combo].scatter3D(px_vals[group][c1], px_vals[group][c2], px_vals[group][c3], label = group,\n",
    "                      marker = '.', alpha = alpha_dict[group], c = colors_dict[group], cmap = 'bwr')\n",
    "                else:\n",
    "                    ax[combo].scatter(px_vals[group][c1], px_vals[group][c2], label = group, c = colors_dict[group], marker = '.', alpha = alpha_dict[group])\n",
    "\n",
    "\n",
    "        ax[combo].legend(fontsize = 18)\n",
    "\n",
    "\n",
    "    if not title == None:\n",
    "        ax[0].set_title(title, fontsize = 18)\n",
    "\n",
    "    if save:\n",
    "        if save_loc == None:\n",
    "            print('Please provide save location')\n",
    "        else:\n",
    "            if save_file == None:\n",
    "                print('Please provide save file name')\n",
    "            else:\n",
    "                plt.savefig('{0}{1}{2}'.format(save_loc, sep, save_file))\n"
   ]
  },
  {
   "cell_type": "code",
   "execution_count": 211,
   "metadata": {
    "ExecuteTime": {
     "end_time": "2020-03-27T02:22:03.794953Z",
     "start_time": "2020-03-27T02:22:03.683953Z"
    },
    "hidden": true,
    "run_control": {
     "marked": true
    }
   },
   "outputs": [],
   "source": [
    "#img_dict = {'Ndnf': im_bin_ndnf, 'Gad1': im_bin_gad1, 'Vip': im_bin_vip}\n",
    "img_dict = {'546': im_bin_ndnf_lipo, '647': im_bin_sst_lipo, '594': im_bin_vip_lipo}\n",
    "#img_dict = {'Ndnf': im_diff_ndnf_lipo, 'Sst': im_diff_sst_lipo, 'Vip': im_diff_vip_lipo}\n",
    "#img_dict = {'Ndnf': im_bin_ndnf, 'Sst': im_bin_sst, 'Vip': im_bin_vip}\n",
    "#img_dict = {'546': im_array_ndnf, '647': im_array_sst, '594': im_array_vip}\n",
    "#img_dict = {'546': im_ndnf_lipo, '647': im_sst_lipo, '594': im_vip_lipo}\n",
    "\n",
    "\n",
    "#pixels_dict = {'Cells': all_cell_pixels, 'Lipofuscin': lipo_pixels}\n",
    "pixels_dict = {'Cells': all_cell_pixels}\n",
    "#pixels_dict = {'Cells': lipo_pixels, 'Lipofuscin': all_lipo_pixels}\n",
    "#pixels_dict = {'Lipofuscin': all_lipo_pixels}\n",
    "\n",
    "\n",
    "#colors_dict = {'Cells': 'k', 'Lipofuscin': 'b'}\n",
    "#colors_dict = {'Cells': m_dist_vals['Cells'], 'Lipofuscin': m_dist_vals['Lipofuscin']}\n",
    "#colors_dict = {'Cells': np.log(m_dist_vals['Cells']), 'Lipofuscin': 'r'}\n",
    "#colors_dict ={'Cells': np.logical_not(m_dist_vals['Cells'] > thresh), 'Lipofuscin': 'r'}\n",
    "#colors_dict = {'Cells': np.logical_not(np.log(mean_vals) < 5), 'Lipofuscin': 'r'}\n",
    "#colors_dict = {'Cells': np.logical_not([a in lipo_pixels for a in all_cell_pixels])}\n",
    "colors_dict = {'Cells': cell_px_is_lipo}\n",
    "\n",
    "alpha_dict = {'Cells': 0.4, 'Lipofuscin': 1}\n",
    "\n",
    "#title = 'Sub-sampled diff gauss sigma = ({0}, {1}) \\n binarized above {2} std from median \\n color = log mahalanobis distance from lipofuscin pixels'.format(sigma_small, sigma_large, thresh_scale)\n",
    "#title = 'Raw images'\n",
    "\n",
    "save_loc = 'G:\\\\Shared drives\\\\as_share\\\\HCR\\\\HCR 3.12\\\\S5\\\\Plots'\n",
    "#save_file = '3D scatter lipo + cells mahalanobis distance2.png'\n",
    "#save_file = '{0} 3D scatter cells + lipo.png'.format(title)\n",
    "#save_file = '{0} 3D scatter lipo.png'.format(title)\n",
    "save_file=  '3D scatter lipo + cells.png'\n",
    "\n",
    "scatter_channels2(img_dict, pixels_dict, max_per_group= 100000, colors_dict = colors_dict,\n",
    "                                  alpha_dict = alpha_dict,\n",
    "                                  make_3D = True,\n",
    "#                                   title = title, \n",
    "#                                   save = True, \n",
    "                                  save_loc = save_loc, save_file = save_file)\n",
    "\n",
    "del img_dict\n",
    "del pixels_dict"
   ]
  },
  {
   "cell_type": "code",
   "execution_count": 210,
   "metadata": {
    "ExecuteTime": {
     "end_time": "2020-03-27T02:22:00.745953Z",
     "start_time": "2020-03-27T02:21:59.859953Z"
    },
    "hidden": true
   },
   "outputs": [],
   "source": [
    "t0 = time.time()\n",
    "n = len(all_cell_pixels)\n",
    "cell_px_is_lipo = np.zeros(n)\n",
    "for px in range(n):\n",
    "    pc = all_cell_pixels[px]\n",
    "    if im_array_lipo[pc[0], pc[1], pc[2]] == 1:\n",
    "        cell_px_is_lipo[px] = 1"
   ]
  },
  {
   "cell_type": "code",
   "execution_count": 47,
   "metadata": {
    "ExecuteTime": {
     "end_time": "2020-03-06T19:19:01.083705Z",
     "start_time": "2020-03-06T19:19:01.060765Z"
    },
    "hidden": true
   },
   "outputs": [
    {
     "data": {
      "text/plain": [
       "5.031541064199322"
      ]
     },
     "execution_count": 47,
     "metadata": {},
     "output_type": "execute_result"
    }
   ],
   "source": [
    "np.max(np.log(m_dist_vals['Cells']))"
   ]
  },
  {
   "cell_type": "code",
   "execution_count": 112,
   "metadata": {
    "ExecuteTime": {
     "end_time": "2020-03-26T23:29:08.985953Z",
     "start_time": "2020-03-26T23:29:08.979953Z"
    },
    "hidden": true
   },
   "outputs": [
    {
     "data": {
      "text/plain": [
       "0.64019138924129"
      ]
     },
     "execution_count": 112,
     "metadata": {},
     "output_type": "execute_result"
    }
   ],
   "source": [
    "np.log(thresh)"
   ]
  },
  {
   "cell_type": "code",
   "execution_count": 198,
   "metadata": {
    "ExecuteTime": {
     "end_time": "2020-03-27T02:19:38.365953Z",
     "start_time": "2020-03-27T02:19:38.339953Z"
    },
    "hidden": true
   },
   "outputs": [],
   "source": [
    "plt.close('all')"
   ]
  },
  {
   "cell_type": "markdown",
   "metadata": {
    "hidden": true
   },
   "source": [
    "#### Colorbar"
   ]
  },
  {
   "cell_type": "code",
   "execution_count": 182,
   "metadata": {
    "ExecuteTime": {
     "end_time": "2020-03-27T01:12:03.388953Z",
     "start_time": "2020-03-27T01:12:03.319953Z"
    },
    "hidden": true
   },
   "outputs": [
    {
     "data": {
      "text/plain": [
       "<matplotlib.colorbar.Colorbar at 0x519188c8>"
      ]
     },
     "execution_count": 182,
     "metadata": {},
     "output_type": "execute_result"
    }
   ],
   "source": [
    "plt.figure()\n",
    "a = np.zeros([4, 4])\n",
    "a[0, 0] = np.max(np.log(m_dist_vals['Cells']))\n",
    "a[0, 1] = np.min(np.log(m_dist_vals['Cells']))\n",
    "# a[0, 0] = np.max(np.log(mean_vals))\n",
    "# a[0, 1] = np.min(np.log(mean_vals))\n",
    "plt.imshow(a)\n",
    "plt.colorbar(label = 'Log of mahalanobis distance from lipofuscin pixels')"
   ]
  },
  {
   "cell_type": "markdown",
   "metadata": {
    "heading_collapsed": true,
    "hidden": true
   },
   "source": [
    "### Simple"
   ]
  },
  {
   "cell_type": "code",
   "execution_count": 30,
   "metadata": {
    "ExecuteTime": {
     "end_time": "2020-03-06T19:00:11.442458Z",
     "start_time": "2020-03-06T19:00:11.420517Z"
    },
    "hidden": true
   },
   "outputs": [],
   "source": [
    "ax = plt.axes(projection = '3d')\n",
    "ax.scatter3D()\n",
    "\n"
   ]
  },
  {
   "cell_type": "markdown",
   "metadata": {
    "heading_collapsed": true
   },
   "source": [
    "## Histogram of pixel values in each channel"
   ]
  },
  {
   "cell_type": "code",
   "execution_count": 25,
   "metadata": {
    "ExecuteTime": {
     "end_time": "2020-03-06T18:48:47.078858Z",
     "start_time": "2020-03-06T18:48:45.453207Z"
    },
    "hidden": true
   },
   "outputs": [],
   "source": [
    "#img_dict = {'Ndnf': im_diff_ndnf, 'Sst': im_diff_sst, 'Vip': im_diff_vip}\n",
    "img_dict = {'Ndnf': im_array_ndnf, 'Sst': im_array_sst, 'Vip': im_array_vip}\n",
    "\n",
    "pixels_dict = {'Cells': all_cell_pixels, 'Lipofuscin': all_lipo_pixels}\n",
    "#pixels_dict = {'Cells': all_cell_pixels}\n",
    "colors_dict = {'Cells': 'b', 'Lipofuscin': 'k'}\n",
    "#title = 'Diff gauss sigma = ({0}, {1})'.format(sigma_small, sigma_large)\n",
    "title = 'Raw images'\n",
    "save_loc = 'G:\\\\Shared drives\\\\as_share\\\\HCR\\\\HCR_10.17\\\\S1_scatter_plots'\n",
    "save_file = '{0} hist lipo + cells.png'.format(title)\n",
    "#save_file = '{0} hist cells.png'.format(title)\n",
    "\n",
    "hist_channels.hist_channels(img_dict, pixels_dict, max_per_group= 100000, colors_dict = colors_dict, \n",
    "                            title = title, save = True, save_loc = save_loc, save_file = save_file)\n",
    "\n",
    "del img_dict\n",
    "del pixels_dict"
   ]
  },
  {
   "cell_type": "markdown",
   "metadata": {
    "heading_collapsed": true
   },
   "source": [
    "## Signal vs depth"
   ]
  },
  {
   "cell_type": "markdown",
   "metadata": {
    "heading_collapsed": true,
    "hidden": true
   },
   "source": [
    "### Using p-value for significance"
   ]
  },
  {
   "cell_type": "code",
   "execution_count": null,
   "metadata": {
    "ExecuteTime": {
     "end_time": "2020-03-24T02:40:55.770561Z",
     "start_time": "2020-03-24T02:40:54.280Z"
    },
    "hidden": true
   },
   "outputs": [],
   "source": [
    "# Plot intensity vs depth for all channels\n",
    "fig, ax = plt.subplots(nrows = 3, ncols = 3)\n",
    "    \n",
    "d = depths\n",
    "\n",
    "npos = pv_ndnf < 0.05\n",
    "vpos = pv_vip < 0.05\n",
    "spos = pv_sst < 0.05\n",
    "\n",
    "n = avg_intensity_ndnf\n",
    "v = avg_intensity_vip\n",
    "s = avg_intensity_sst\n",
    "\n",
    "bn = avg_bg_ndnf\n",
    "bv = avg_bg_vip\n",
    "bs = avg_bg_sst\n",
    "\n",
    "ax[0, 0].scatter(d, n - bn, color = 'b', alpha = 0.1, marker = '.')\n",
    "ax[0, 0].scatter(d[npos], n[npos] - bn[npos], color = 'b', marker = '.')\n",
    "#ax[0, 0].set_xlabel('Depth from pia (um)')\n",
    "ax[0, 0].set_ylabel('Intensity in channel (bold => p < 0.05)')\n",
    "ax[0, 0].set_title('Ndnf: all pixels')\n",
    "\n",
    "ax[0, 1].scatter(d, v - bv, color = 'r', alpha = 0.1, marker = '.')\n",
    "ax[0, 1].scatter(d[vpos], v[vpos] - bv[vpos], color = 'r', marker = '.')\n",
    "#ax[0, 1].set_xlabel('Depth from pia (um)')\n",
    "ax[0, 1].set_title('Vip: all pixels')\n",
    "\n",
    "ax[0, 2].scatter(d, s - bs, color = 'g', alpha = 0.1, marker = '.')\n",
    "ax[0, 2].scatter(d[spos], s[spos] - bs[spos], color = 'g', marker = '.')\n",
    "#ax[0, 2].set_xlabel('Depth from pia (um)')\n",
    "ax[0, 2].set_title('Sst: all pixels')\n",
    "\n",
    "n = int_ndnf\n",
    "v = int_vip\n",
    "s = int_sst\n",
    "\n",
    "npos2 = pv_ndnf2 < 0.05\n",
    "vpos2 = pv_vip2 < 0.05\n",
    "spos2 = pv_sst2 < 0.05\n",
    "\n",
    "ax[1, 0].scatter(d, n - bn, color = 'b', alpha = 0.1, marker = '.')\n",
    "ax[1, 0].scatter(d[npos2], n[npos2] - bn[npos2], color = 'b', marker = '.')\n",
    "#ax[1, 0].set_xlabel('Depth from pia (um)')\n",
    "ax[1, 0].set_ylabel('Intensity in channel (bold => p < 0.05)')\n",
    "ax[1, 0].set_title('Ndnf: lipofuscin pixels excluded')\n",
    "\n",
    "ax[1, 1].scatter(d, v - bv, color = 'r', alpha = 0.1, marker = '.')\n",
    "ax[1, 1].scatter(d[vpos2], v[vpos2] - bv[vpos2], color = 'r', marker = '.')\n",
    "#ax[1, 1].set_xlabel('Depth from pia (um)')\n",
    "ax[1, 1].set_title('Vip: lipofuscin pixels excluded')\n",
    "\n",
    "ax[1, 2].scatter(d, s - bs, color = 'g', alpha = 0.1, marker = '.')\n",
    "ax[1, 2].scatter(d[spos2], s[spos2] - bs[spos2], color = 'g', marker = '.')\n",
    "#ax[1, 2].set_xlabel('Depth from pia (um)')\n",
    "ax[1, 2].set_title('Sst: lipofuscin pixels excluded')\n",
    "\n",
    "n = int_ndnf_bin\n",
    "v = int_vip_bin\n",
    "s = int_sst_bin\n",
    "\n",
    "bn = avg_bg_ndnf_bin\n",
    "bv = avg_bg_vip_bin\n",
    "bs = avg_bg_sst_bin\n",
    "\n",
    "npos3 = pv_ndnf3 < 0.05\n",
    "vpos3 = pv_vip3 < 0.05\n",
    "spos3 = pv_sst3 < 0.05\n",
    "\n",
    "# vpos3 = int_vip_bin - avg_bg_vip_bin > 200\n",
    "# spos3 = int_sst_bin - avg_bg_sst_bin > 500\n",
    "\n",
    "\n",
    "ax[2, 0].scatter(d, n - bn, color = 'b', alpha = 0.1, marker = '.')\n",
    "ax[2, 0].scatter(d[npos3], n[npos3] - bn[npos3], color = 'b', marker = '.')\n",
    "ax[2, 0].set_xlabel('Depth from pia (um)')\n",
    "ax[2, 0].set_ylabel('Intensity in channel (bold => p < 0.05)')\n",
    "ax[2, 0].set_title('Ndnf: lipofuscin pixels excluded; Binarized images')\n",
    "\n",
    "ax[2, 1].scatter(d, v - bv, color = 'r', alpha = 0.1, marker = '.')\n",
    "ax[2, 1].scatter(d[vpos3], v[vpos3] - bv[vpos3], color = 'r', marker = '.')\n",
    "ax[2, 1].set_xlabel('Depth from pia (um)')\n",
    "ax[2, 1].set_title('Vip: lipofuscin pixels excluded; Binarized images')\n",
    "\n",
    "ax[2, 2].scatter(d, s - bs, color = 'g', alpha = 0.1, marker = '.')\n",
    "ax[2, 2].scatter(d[spos3], s[spos3] - bs[spos3], color = 'g', marker = '.')\n",
    "ax[2, 2].set_xlabel('Depth from pia (um)')\n",
    "ax[2, 2].set_title('Sst: lipofuscin pixels excluded; Binarized images')\n"
   ]
  },
  {
   "cell_type": "markdown",
   "metadata": {
    "heading_collapsed": true,
    "hidden": true
   },
   "source": [
    "### Using 95% confidence interval for significance"
   ]
  },
  {
   "cell_type": "code",
   "execution_count": 100,
   "metadata": {
    "ExecuteTime": {
     "end_time": "2020-03-06T20:02:19.128895Z",
     "start_time": "2020-03-06T20:02:18.987274Z"
    },
    "hidden": true
   },
   "outputs": [
    {
     "data": {
      "text/plain": [
       "Text(0.5, 1.0, 'Sst: lipofuscin pixels excluded')"
      ]
     },
     "execution_count": 100,
     "metadata": {},
     "output_type": "execute_result"
    }
   ],
   "source": [
    "# Plot intensity vs depth for all channels\n",
    "fig, ax = plt.subplots(nrows = 2, ncols = 3)\n",
    "    \n",
    "d = depths\n",
    "\n",
    "n = avg_intensity_ndnf\n",
    "v = avg_intensity_vip\n",
    "s = avg_intensity_sst\n",
    "\n",
    "bn = avg_bg_ndnf\n",
    "bv = avg_bg_vip\n",
    "bs = avg_bg_sst\n",
    "\n",
    "npos = n - bn > ci_ndnf\n",
    "vpos = v - bv > ci_vip\n",
    "spos = s - bs > ci_sst\n",
    "\n",
    "ax[0, 0].scatter(d, n - bn, color = 'b', alpha = 0.1, marker = '.')\n",
    "ax[0, 0].scatter(d[npos], n[npos] - bn[npos], color = 'b', marker = '.')\n",
    "ax[0, 0].set_xlabel('Depth from pia (um)')\n",
    "ax[0, 0].set_ylabel('Intensity in channel (bold => 95% CI)')\n",
    "ax[0, 0].set_title('Ndnf: all pixels')\n",
    "\n",
    "ax[0, 1].scatter(d, v - bv, color = 'r', alpha = 0.1, marker = '.')\n",
    "ax[0, 1].scatter(d[vpos], v[vpos] - bv[vpos], color = 'r', marker = '.')\n",
    "ax[0, 1].set_xlabel('Depth from pia (um)')\n",
    "ax[0, 1].set_title('Vip: all pixels')\n",
    "\n",
    "ax[0, 2].scatter(d, s - bs, color = 'g', alpha = 0.1, marker = '.')\n",
    "ax[0, 2].scatter(d[spos], s[spos] - bs[spos], color = 'g', marker = '.')\n",
    "ax[0, 2].set_xlabel('Depth from pia (um)')\n",
    "ax[0, 2].set_title('Sst: all pixels')\n",
    "\n",
    "n = int_ndnf\n",
    "v = int_vip\n",
    "s = int_sst\n",
    "\n",
    "npos = n - bn > ci_ndnf\n",
    "vpos = v - bv > ci_vip\n",
    "spos = s - bs > ci_sst\n",
    "\n",
    "ax[1, 0].scatter(d, n - bn, color = 'b', alpha = 0.1, marker = '.')\n",
    "ax[1, 0].scatter(d[npos2], n[npos2] - bn[npos2], color = 'b', marker = '.')\n",
    "ax[1, 0].set_xlabel('Depth from pia (um)')\n",
    "ax[1, 0].set_ylabel('Intensity in channel (bold => 95% CI)')\n",
    "ax[1, 0].set_title('Ndnf: lipofuscin pixels excluded')\n",
    "\n",
    "ax[1, 1].scatter(d, v - bv, color = 'r', alpha = 0.1, marker = '.')\n",
    "ax[1, 1].scatter(d[vpos2], v[vpos2] - bv[vpos2], color = 'r', marker = '.')\n",
    "ax[1, 1].set_xlabel('Depth from pia (um)')\n",
    "ax[1, 1].set_title('Vip: lipofuscin pixels excluded')\n",
    "\n",
    "ax[1, 2].scatter(d, s - bs, color = 'g', alpha = 0.1, marker = '.')\n",
    "ax[1, 2].scatter(d[spos2], s[spos2] - bs[spos2], color = 'g', marker = '.')\n",
    "ax[1, 2].set_xlabel('Depth from pia (um)')\n",
    "ax[1, 2].set_title('Sst: lipofuscin pixels excluded')\n"
   ]
  },
  {
   "cell_type": "markdown",
   "metadata": {},
   "source": [
    "## Raw images of each cell"
   ]
  },
  {
   "cell_type": "markdown",
   "metadata": {},
   "source": [
    "### Function for plotting"
   ]
  },
  {
   "cell_type": "code",
   "execution_count": 82,
   "metadata": {
    "ExecuteTime": {
     "end_time": "2020-03-27T12:16:58.198383Z",
     "start_time": "2020-03-27T12:16:58.174444Z"
    }
   },
   "outputs": [],
   "source": [
    "def view_all_cells(n_cells, n_rows, n_cols, signal, im_array, cell_data, size_um, um_per_px, h, w, \n",
    "                  save_loc, title, max_intensity = None, spine_color_pos = 'r', pos_cells = [], spine_width = 2,\n",
    "                  show_masks = False):\n",
    "\n",
    "    cell_ids = np.array(list(cell_data.keys()))\n",
    "    cell_order = cell_ids[np.flip(np.argsort(signal)).astype(int)]\n",
    "    \n",
    "    size_px = int(size_um/um_per_px/2)\n",
    "    mask_dil =  np.zeros([h, w]).astype(bool)\n",
    "    \n",
    "    if max_intensity == None:\n",
    "        max_intensity = np.max(signal)\n",
    "    min_intensity = np.min(im_array)\n",
    "\n",
    "    t0 = time.time()\n",
    "    fig, ax = plt.subplots(nrows = n_rows, ncols = n_cols, figsize = (30, 20))\n",
    "\n",
    "    for cell in range(n_cells):   \n",
    "\n",
    "        if np.mod(cell, 10) == 0:\n",
    "            print('Cell {0}: {1} seconds'.format(cell, np.round(time.time() - t0)))\n",
    "\n",
    "        row = int(cell/n_cols)\n",
    "        col = np.mod(cell, n_cols)\n",
    "\n",
    "        cell_id = cell_order[cell]\n",
    "\n",
    "        planes = cell_data[cell_id]['z_planes']\n",
    "        med_plane = int(np.median(planes))\n",
    "\n",
    "        mask = cell_data[cell_id]['masks'][med_plane]\n",
    "        [x_center, y_center] = np.mean(mask, 0).astype(int)\n",
    "        [x1, y1] = [np.max([0, x_center - size_px]), np.max([0, y_center - size_px])]\n",
    "        [x2, y2] = [np.min([h, x_center + size_px]), np.min([w, y_center + size_px])]\n",
    "        mask_dil[x1:x2, y1:y2] = np.ones([x2 - x1, y2 - y1])\n",
    "\n",
    "        small_im = np.reshape(im_array[med_plane, mask_dil], [np.min([x2 - x1, size_px*2]), np.min([y2 - y1, size_px*2])])\n",
    "        ax[row, col].imshow(small_im, vmin = min_intensity, vmax = max_intensity)\n",
    "\n",
    "        mask_dil[x1:x2, y1:y2] = np.zeros([x2 - x1, y2 - y1])\n",
    "        \n",
    "        if show_masks:\n",
    "            \n",
    "            cell_px = cell_pixels_no_lipo[cell_id][med_plane]\n",
    "            cell_mask = np.zeros(small_im.shape)\n",
    "            x = cell_px[0, :] - x1\n",
    "            y = cell_px[1, :] - y1\n",
    "#             for i in range(len(x)):\n",
    "#                 cell_mask[x[i], y[i]] = 1\n",
    "            cell_mask[x, y] = np.ones(len(x))\n",
    "            ax[row, col].imshow(cell_mask, vmin = 0, vmax = 1, cmap = 'gray', alpha = 0.2)\n",
    "            \n",
    "\n",
    "#         ax[row, col].axis('off')\n",
    "        if col == 0:\n",
    "            ax[row, col].set_ylabel('{0}'.format(np.round(signal[cell], 2)))\n",
    "#             ax[row, col].axis('on')\n",
    "        \n",
    "        if len(pos_cells) > 0:\n",
    "            if pos_cells[cell] == 1:\n",
    "                ax[row, col].axis('on')\n",
    "                ax[row, col].spines['bottom'].set_color(spine_color_pos)\n",
    "                ax[row, col].spines['top'].set_color(spine_color_pos)\n",
    "                ax[row, col].spines['left'].set_color(spine_color_pos)\n",
    "                ax[row, col].spines['right'].set_color(spine_color_pos)\n",
    "                ax[row, col].spines['bottom'].set_linewidth(spine_width)\n",
    "                ax[row, col].spines['top'].set_linewidth(spine_width)\n",
    "                ax[row, col].spines['left'].set_linewidth(spine_width)\n",
    "                ax[row, col].spines['right'].set_linewidth(spine_width)\n",
    "        \n",
    "        ax[row, col].tick_params(axis = 'both', which = 'both', bottom = False, top = False, left = False, \n",
    "                                 right = False, labeltop = False, labelright = False, labelleft = False,\n",
    "                                labelbottom = False)\n",
    "                \n",
    "                \n",
    "#         plt.tick_params(\n",
    "#     axis='x',          # changes apply to the x-axis\n",
    "#     which='both',      # both major and minor ticks are affected\n",
    "#     bottom=False,      # ticks along the bottom edge are off\n",
    "#     top=False,         # ticks along the top edge are off\n",
    "#     labelbottom=False) # labels along the bottom edge are off\n",
    "\n",
    "    \n",
    "    plt.savefig('{0}{1}{2}.png'.format(save_loc, sep, title))\n"
   ]
  },
  {
   "cell_type": "markdown",
   "metadata": {
    "heading_collapsed": true
   },
   "source": [
    "### Get centers and median planes"
   ]
  },
  {
   "cell_type": "code",
   "execution_count": 80,
   "metadata": {
    "ExecuteTime": {
     "end_time": "2020-03-27T12:15:53.963004Z",
     "start_time": "2020-03-27T12:15:53.919116Z"
    },
    "hidden": true
   },
   "outputs": [
    {
     "name": "stdout",
     "output_type": "stream",
     "text": [
      "0\n",
      "10\n",
      "20\n",
      "30\n",
      "40\n",
      "50\n",
      "60\n",
      "70\n",
      "80\n",
      "90\n",
      "100\n",
      "110\n",
      "120\n",
      "130\n",
      "140\n",
      "150\n",
      "160\n",
      "170\n",
      "180\n",
      "190\n",
      "200\n",
      "210\n",
      "220\n",
      "230\n",
      "240\n",
      "250\n",
      "260\n",
      "270\n",
      "280\n",
      "290\n",
      "300\n",
      "310\n",
      "320\n"
     ]
    }
   ],
   "source": [
    "centers_med_planes = np.zeros([Cell.n_cells, 2])\n",
    "med_planes = np.zeros(Cell.n_cells)\n",
    "\n",
    "for cell in range(Cell.n_cells):\n",
    "    if np.mod(cell, 10) == 0:\n",
    "        print(cell)\n",
    "    cell_id = cell + 1\n",
    "    planes = Cell.cell_data[cell_id]['z_planes']\n",
    "    med_planes[cell] = int(np.median(planes))\n",
    "    \n",
    "    mask = Cell.cell_data[cell_id]['masks'][med_planes[cell]]\n",
    "    centers_med_planes[cell, :] = np.mean(mask, 0).astype(int)"
   ]
  },
  {
   "cell_type": "markdown",
   "metadata": {},
   "source": [
    "### Run for different conditions"
   ]
  },
  {
   "cell_type": "code",
   "execution_count": 83,
   "metadata": {
    "ExecuteTime": {
     "end_time": "2020-03-27T12:18:51.482648Z",
     "start_time": "2020-03-27T12:17:05.849347Z"
    },
    "scrolled": true
   },
   "outputs": [
    {
     "name": "stdout",
     "output_type": "stream",
     "text": [
      "Ndnf_raw_images_all_cells2\n",
      "Cell 0: 3.0 seconds\n",
      "Cell 10: 4.0 seconds\n",
      "Cell 20: 5.0 seconds\n",
      "Cell 30: 6.0 seconds\n",
      "Cell 40: 6.0 seconds\n",
      "Cell 50: 7.0 seconds\n",
      "Cell 60: 8.0 seconds\n",
      "Cell 70: 9.0 seconds\n",
      "Cell 80: 9.0 seconds\n",
      "Cell 90: 10.0 seconds\n",
      "Cell 100: 11.0 seconds\n",
      "Cell 110: 12.0 seconds\n",
      "Cell 120: 12.0 seconds\n",
      "Cell 130: 13.0 seconds\n",
      "Cell 140: 14.0 seconds\n",
      "Cell 150: 15.0 seconds\n",
      "Cell 160: 15.0 seconds\n",
      "Cell 170: 16.0 seconds\n",
      "Cell 180: 17.0 seconds\n",
      "Cell 190: 18.0 seconds\n",
      "Cell 200: 18.0 seconds\n",
      "Cell 210: 19.0 seconds\n",
      "Cell 220: 20.0 seconds\n",
      "Cell 230: 21.0 seconds\n",
      "Cell 240: 21.0 seconds\n",
      "Cell 250: 22.0 seconds\n",
      "Cell 260: 23.0 seconds\n",
      "Cell 270: 24.0 seconds\n",
      "Cell 280: 24.0 seconds\n",
      "Cell 290: 25.0 seconds\n",
      "Cell 300: 26.0 seconds\n",
      "Cell 310: 27.0 seconds\n",
      "Cell 320: 27.0 seconds\n",
      "Sst_raw_images_all_cells2\n",
      "Cell 0: 4.0 seconds\n",
      "Cell 10: 4.0 seconds\n",
      "Cell 20: 5.0 seconds\n",
      "Cell 30: 6.0 seconds\n",
      "Cell 40: 7.0 seconds\n",
      "Cell 50: 7.0 seconds\n",
      "Cell 60: 8.0 seconds\n",
      "Cell 70: 9.0 seconds\n",
      "Cell 80: 10.0 seconds\n",
      "Cell 90: 10.0 seconds\n",
      "Cell 100: 11.0 seconds\n",
      "Cell 110: 12.0 seconds\n",
      "Cell 120: 13.0 seconds\n",
      "Cell 130: 13.0 seconds\n",
      "Cell 140: 14.0 seconds\n",
      "Cell 150: 15.0 seconds\n",
      "Cell 160: 16.0 seconds\n",
      "Cell 170: 16.0 seconds\n",
      "Cell 180: 17.0 seconds\n",
      "Cell 190: 18.0 seconds\n",
      "Cell 200: 19.0 seconds\n",
      "Cell 210: 19.0 seconds\n",
      "Cell 220: 20.0 seconds\n",
      "Cell 230: 21.0 seconds\n",
      "Cell 240: 22.0 seconds\n",
      "Cell 250: 22.0 seconds\n",
      "Cell 260: 23.0 seconds\n",
      "Cell 270: 24.0 seconds\n",
      "Cell 280: 25.0 seconds\n",
      "Cell 290: 25.0 seconds\n",
      "Cell 300: 26.0 seconds\n",
      "Cell 310: 27.0 seconds\n",
      "Cell 320: 28.0 seconds\n",
      "Vip_raw_images_all_cells2\n",
      "Cell 0: 3.0 seconds\n",
      "Cell 10: 4.0 seconds\n",
      "Cell 20: 5.0 seconds\n",
      "Cell 30: 6.0 seconds\n",
      "Cell 40: 7.0 seconds\n",
      "Cell 50: 7.0 seconds\n",
      "Cell 60: 8.0 seconds\n",
      "Cell 70: 9.0 seconds\n",
      "Cell 80: 10.0 seconds\n",
      "Cell 90: 10.0 seconds\n",
      "Cell 100: 11.0 seconds\n",
      "Cell 110: 12.0 seconds\n",
      "Cell 120: 13.0 seconds\n",
      "Cell 130: 13.0 seconds\n",
      "Cell 140: 14.0 seconds\n",
      "Cell 150: 15.0 seconds\n",
      "Cell 160: 16.0 seconds\n",
      "Cell 170: 16.0 seconds\n",
      "Cell 180: 17.0 seconds\n"
     ]
    },
    {
     "ename": "KeyboardInterrupt",
     "evalue": "",
     "output_type": "error",
     "traceback": [
      "\u001b[1;31m---------------------------------------------------------------------------\u001b[0m",
      "\u001b[1;31mKeyboardInterrupt\u001b[0m                         Traceback (most recent call last)",
      "\u001b[1;32m<ipython-input-83-11147334d441>\u001b[0m in \u001b[0;36m<module>\u001b[1;34m\u001b[0m\n\u001b[0;32m     71\u001b[0m                   \u001b[0mpos_cells\u001b[0m \u001b[1;33m=\u001b[0m \u001b[0mpos\u001b[0m\u001b[1;33m[\u001b[0m\u001b[0mcond\u001b[0m\u001b[1;33m]\u001b[0m\u001b[1;33m,\u001b[0m\u001b[1;33m\u001b[0m\u001b[1;33m\u001b[0m\u001b[0m\n\u001b[0;32m     72\u001b[0m                   \u001b[0mspine_color_pos\u001b[0m \u001b[1;33m=\u001b[0m \u001b[1;34m'r'\u001b[0m\u001b[1;33m,\u001b[0m\u001b[1;33m\u001b[0m\u001b[1;33m\u001b[0m\u001b[0m\n\u001b[1;32m---> 73\u001b[1;33m                   spine_width = 5, show_masks = True)\n\u001b[0m\u001b[0;32m     74\u001b[0m \u001b[1;33m\u001b[0m\u001b[0m\n\u001b[0;32m     75\u001b[0m \u001b[1;33m\u001b[0m\u001b[0m\n",
      "\u001b[1;32m<ipython-input-82-6c4f1d8c9d88>\u001b[0m in \u001b[0;36mview_all_cells\u001b[1;34m(n_cells, n_rows, n_cols, signal, im_array, cell_data, size_um, um_per_px, h, w, save_loc, title, max_intensity, spine_color_pos, pos_cells, spine_width, show_masks)\u001b[0m\n\u001b[0;32m     35\u001b[0m         \u001b[0mmask_dil\u001b[0m\u001b[1;33m[\u001b[0m\u001b[0mx1\u001b[0m\u001b[1;33m:\u001b[0m\u001b[0mx2\u001b[0m\u001b[1;33m,\u001b[0m \u001b[0my1\u001b[0m\u001b[1;33m:\u001b[0m\u001b[0my2\u001b[0m\u001b[1;33m]\u001b[0m \u001b[1;33m=\u001b[0m \u001b[0mnp\u001b[0m\u001b[1;33m.\u001b[0m\u001b[0mones\u001b[0m\u001b[1;33m(\u001b[0m\u001b[1;33m[\u001b[0m\u001b[0mx2\u001b[0m \u001b[1;33m-\u001b[0m \u001b[0mx1\u001b[0m\u001b[1;33m,\u001b[0m \u001b[0my2\u001b[0m \u001b[1;33m-\u001b[0m \u001b[0my1\u001b[0m\u001b[1;33m]\u001b[0m\u001b[1;33m)\u001b[0m\u001b[1;33m\u001b[0m\u001b[1;33m\u001b[0m\u001b[0m\n\u001b[0;32m     36\u001b[0m \u001b[1;33m\u001b[0m\u001b[0m\n\u001b[1;32m---> 37\u001b[1;33m         \u001b[0msmall_im\u001b[0m \u001b[1;33m=\u001b[0m \u001b[0mnp\u001b[0m\u001b[1;33m.\u001b[0m\u001b[0mreshape\u001b[0m\u001b[1;33m(\u001b[0m\u001b[0mim_array\u001b[0m\u001b[1;33m[\u001b[0m\u001b[0mmed_plane\u001b[0m\u001b[1;33m,\u001b[0m \u001b[0mmask_dil\u001b[0m\u001b[1;33m]\u001b[0m\u001b[1;33m,\u001b[0m \u001b[1;33m[\u001b[0m\u001b[0mnp\u001b[0m\u001b[1;33m.\u001b[0m\u001b[0mmin\u001b[0m\u001b[1;33m(\u001b[0m\u001b[1;33m[\u001b[0m\u001b[0mx2\u001b[0m \u001b[1;33m-\u001b[0m \u001b[0mx1\u001b[0m\u001b[1;33m,\u001b[0m \u001b[0msize_px\u001b[0m\u001b[1;33m*\u001b[0m\u001b[1;36m2\u001b[0m\u001b[1;33m]\u001b[0m\u001b[1;33m)\u001b[0m\u001b[1;33m,\u001b[0m \u001b[0mnp\u001b[0m\u001b[1;33m.\u001b[0m\u001b[0mmin\u001b[0m\u001b[1;33m(\u001b[0m\u001b[1;33m[\u001b[0m\u001b[0my2\u001b[0m \u001b[1;33m-\u001b[0m \u001b[0my1\u001b[0m\u001b[1;33m,\u001b[0m \u001b[0msize_px\u001b[0m\u001b[1;33m*\u001b[0m\u001b[1;36m2\u001b[0m\u001b[1;33m]\u001b[0m\u001b[1;33m)\u001b[0m\u001b[1;33m]\u001b[0m\u001b[1;33m)\u001b[0m\u001b[1;33m\u001b[0m\u001b[1;33m\u001b[0m\u001b[0m\n\u001b[0m\u001b[0;32m     38\u001b[0m         \u001b[0max\u001b[0m\u001b[1;33m[\u001b[0m\u001b[0mrow\u001b[0m\u001b[1;33m,\u001b[0m \u001b[0mcol\u001b[0m\u001b[1;33m]\u001b[0m\u001b[1;33m.\u001b[0m\u001b[0mimshow\u001b[0m\u001b[1;33m(\u001b[0m\u001b[0msmall_im\u001b[0m\u001b[1;33m,\u001b[0m \u001b[0mvmin\u001b[0m \u001b[1;33m=\u001b[0m \u001b[0mmin_intensity\u001b[0m\u001b[1;33m,\u001b[0m \u001b[0mvmax\u001b[0m \u001b[1;33m=\u001b[0m \u001b[0mmax_intensity\u001b[0m\u001b[1;33m)\u001b[0m\u001b[1;33m\u001b[0m\u001b[1;33m\u001b[0m\u001b[0m\n\u001b[0;32m     39\u001b[0m \u001b[1;33m\u001b[0m\u001b[0m\n",
      "\u001b[1;31mKeyboardInterrupt\u001b[0m: "
     ]
    }
   ],
   "source": [
    "save_loc = 'G:{0}Shared drives{0}as_share{0}HCR{0}HCR 3.12{0}S5{0}Plots'.format(sep)\n",
    "\n",
    "titles = {\n",
    "            1: 'Ndnf_raw_images_all_cells2',\n",
    "#           2: 'Ndnf_diff_images_all_cells',\n",
    "#           3: 'Ndnf_bin_images_all_cells2',\n",
    "          4: 'Sst_raw_images_all_cells2',\n",
    "#           5: 'Sst_diff_images_all_cells',\n",
    "#           6: 'Sst_bin_images_all_cells2',\n",
    "          7: 'Vip_raw_images_all_cells2',\n",
    "#           8: 'Vip_diff_images_all_cells',\n",
    "#           9: 'Vip_bin_images_all_cells2',\n",
    "         }\n",
    "\n",
    "im_arrays = {\n",
    "             1: im_array_ndnf,\n",
    "#              2: im_diff_ndnf,\n",
    "#              3: im_bin_ndnf,\n",
    "             4: im_array_sst,\n",
    "#              5: im_diff_sst,\n",
    "#              6: im_bin_sst,\n",
    "             7: im_array_vip,\n",
    "#              8: im_diff_vip,\n",
    "#              9: im_bin_vip,\n",
    "            }\n",
    "             \n",
    "signals = {\n",
    "             1: int_ndnf_bin - avg_bg_ndnf_bin,\n",
    "#            1: avg_intensity_ndnf - avg_bg_ndnf,\n",
    "#            2: int_ndnf_diff - avg_bg_ndnf_diff,\n",
    "#            3: int_ndnf_bin[cells] - avg_bg_ndnf_bin[cells],\n",
    "           4: int_sst_bin - avg_bg_sst_bin,\n",
    "#             4: avg_intensity_sst - avg_bg_sst,\n",
    "#            5: int_sst_diff - avg_bg_sst_diff,\n",
    "#            6: int_sst_bin[cells] - avg_bg_sst_bin[cells],\n",
    "            7: int_vip_bin - avg_bg_vip_bin,\n",
    "#            7: avg_intensity_vip - avg_bg_vip,\n",
    "#            8: int_vip_diff - avg_bg_vip_diff,\n",
    "#            9: int_vip_bin[cells] - avg_bg_vip_bin[cells],\n",
    "          }\n",
    "\n",
    "pos = {\n",
    "        1: pv_ndnf3 < 0.05,\n",
    "        3: pv_ndnf3 < 0.05,\n",
    "        4: pv_sst3 < 0.05,\n",
    "        6: pv_sst3 < 0.05,\n",
    "        7: pv_vip3 < 0.05,\n",
    "        9: pv_vip3 < 0.05\n",
    "    \n",
    "}\n",
    "\n",
    "n_rows = 10\n",
    "n_cols = 33\n",
    "\n",
    "size_um = 30 # In um\n",
    "um_per_px = 0.13 # Size of a pixel in um\n",
    "\n",
    "conds = [1, 4, 7]\n",
    "#conds = [3, 6, 9]\n",
    "order = {}\n",
    "\n",
    "#c_data = {cells[i] + 1: Cell.cell_data[cells[i] + 1] for i in range(len(cells))}\n",
    "c_data = Cell.cell_data\n",
    "\n",
    "for cond in conds:\n",
    "    print(titles[cond])\n",
    "    view_all_cells(Cell.n_cells, n_rows, n_cols, signals[cond], im_arrays[cond],\n",
    "                   c_data, size_um, um_per_px,\n",
    "                    h, w, save_loc, titles[cond], \n",
    "                   max_intensity = np.max(avg_intensity_ndnf[cells] - avg_bg_ndnf_bin[cells]),\n",
    "                  pos_cells = pos[cond],\n",
    "                  spine_color_pos = 'r',\n",
    "                  spine_width = 5, show_masks = True)\n",
    "    \n",
    "    \n",
    "\n",
    "\n"
   ]
  },
  {
   "cell_type": "code",
   "execution_count": 128,
   "metadata": {
    "ExecuteTime": {
     "end_time": "2020-03-24T16:10:16.234258Z",
     "start_time": "2020-03-24T16:10:16.202343Z"
    }
   },
   "outputs": [],
   "source": [
    "plt.close('all')"
   ]
  },
  {
   "cell_type": "markdown",
   "metadata": {},
   "source": [
    "### Select positive and negative cells for each gene"
   ]
  },
  {
   "cell_type": "code",
   "execution_count": 37,
   "metadata": {
    "ExecuteTime": {
     "end_time": "2020-03-27T05:12:48.371580Z",
     "start_time": "2020-03-27T05:12:48.339664Z"
    }
   },
   "outputs": [
    {
     "name": "stdout",
     "output_type": "stream",
     "text": [
      "Data loaded\n"
     ]
    }
   ],
   "source": [
    "save_loc = 'G:{0}Shared drives{0}as_share{0}HCR{0}HCR 3.12{0}S5'.format(sep)\n",
    "save_file = 'Ndnf_sst_vip_pos_cells.pkl'\n",
    "\n",
    "try:\n",
    "    with open('{0}{1}{2}'.format(save_loc, sep, save_file), 'rb') as f:\n",
    "        pos = pkl.load(f)\n",
    "        ndnf_pos = pos['Ndnf_pos']\n",
    "        sst_pos = pos['Sst_pos']\n",
    "        vip_pos = pos['Vip_pos']\n",
    "        print('Data loaded')\n",
    "except:\n",
    "    # Ndnf\n",
    "    ind = np.flip(np.argsort(signals[1]))\n",
    "    ndnf_pos = ind[0:78]\n",
    "    ndnf_pos = np.concatenate([ndnf_pos, [ind[i] for i in [80, 82, 85, 87, 89, 90, 113, 117]]])\n",
    "\n",
    "    # Sst\n",
    "    ind = np.flip(np.argsort(signals[4]))\n",
    "    sst_pos = np.array(ind[0:24])\n",
    "\n",
    "    # Vip\n",
    "    ind = np.flip(np.argsort(signals[7]))\n",
    "    vip_pos = np.array(ind[0:37])\n",
    "\n",
    "    with open('{0}{1}{2}'.format(save_loc, sep, save_file), 'wb') as f:\n",
    "        pkl.dump({'Ndnf_pos': ndnf_pos, 'Sst_pos': sst_pos, 'Vip_pos': vip_pos}, f)\n"
   ]
  },
  {
   "cell_type": "markdown",
   "metadata": {
    "heading_collapsed": true
   },
   "source": [
    "#### Check exclusivity"
   ]
  },
  {
   "cell_type": "code",
   "execution_count": 5,
   "metadata": {
    "ExecuteTime": {
     "end_time": "2020-03-24T17:05:27.678885Z",
     "start_time": "2020-03-24T17:05:27.665920Z"
    },
    "hidden": true
   },
   "outputs": [
    {
     "name": "stdout",
     "output_type": "stream",
     "text": [
      "[]\n",
      "[]\n",
      "[]\n"
     ]
    }
   ],
   "source": [
    "ndnf_vip = [i for i in ndnf_pos if i in vip_pos]\n",
    "ndnf_sst = [i for i in ndnf_pos if i in sst_pos]\n",
    "vip_sst = [i for i in vip_pos if i in sst_pos]\n",
    "print(ndnf_vip)\n",
    "print(ndnf_sst)\n",
    "print(vip_sst)"
   ]
  },
  {
   "cell_type": "markdown",
   "metadata": {},
   "source": [
    "#### Get planes of positive cells"
   ]
  },
  {
   "cell_type": "code",
   "execution_count": 69,
   "metadata": {
    "ExecuteTime": {
     "end_time": "2020-03-26T18:52:06.065953Z",
     "start_time": "2020-03-26T18:52:06.051953Z"
    }
   },
   "outputs": [],
   "source": [
    "planes = []\n",
    "ndnf_pos2 = []\n",
    "vip_pos2 = []\n",
    "sst_pos2 = []\n",
    "for cell in ndnf_pos:\n",
    "    cell_no = cell + 1\n",
    "    cp = Cell.cell_data[cell_no]['z_planes']\n",
    "    planes = np.append(planes, cp)\n",
    "    if any([0 in cp, 1 in cp, 2 in cp, 3 in cp]):\n",
    "        ndnf_pos2 = np.append(ndnf_pos2, cell)\n",
    "    \n",
    "for cell in vip_pos:\n",
    "    cell_no = cell + 1\n",
    "    cp = Cell.cell_data[cell_no]['z_planes']\n",
    "    planes = np.append(planes, cp)\n",
    "    if any([0 in cp, 1 in cp, 2 in cp, 3 in cp]):\n",
    "        vip_pos2 = np.append(vip_pos2, cell)\n",
    "        \n",
    "for cell in sst_pos:\n",
    "    cell_no = cell + 1\n",
    "    cp = Cell.cell_data[cell_no]['z_planes']\n",
    "    planes = np.append(planes, cp)\n",
    "    if any([0 in cp, 1 in cp, 2 in cp, 3 in cp]):\n",
    "        sst_pos2 = np.append(sst_pos2, cell)"
   ]
  },
  {
   "cell_type": "code",
   "execution_count": 70,
   "metadata": {
    "ExecuteTime": {
     "end_time": "2020-03-26T18:52:16.456953Z",
     "start_time": "2020-03-26T18:52:16.450953Z"
    }
   },
   "outputs": [
    {
     "data": {
      "text/plain": [
       "array([ 96., 127.,  92.,  76., 115.,  83.,   7.])"
      ]
     },
     "execution_count": 70,
     "metadata": {},
     "output_type": "execute_result"
    }
   ],
   "source": [
    "sst_pos2"
   ]
  },
  {
   "cell_type": "code",
   "execution_count": 71,
   "metadata": {
    "ExecuteTime": {
     "end_time": "2020-03-26T18:52:25.511953Z",
     "start_time": "2020-03-26T18:52:25.506953Z"
    }
   },
   "outputs": [
    {
     "data": {
      "text/plain": [
       "array([ 71.,   2.,  29.,   0.,   3.,   1.,  95., 139.,  13.,  25.,  15.,\n",
       "        66., 125.,  19.,  60.,  16.,   4.,  14., 109.,  72., 108.,  27.,\n",
       "       154.,  68.,  39.,  73.,  53.,  54.,  42.,  18.,  56., 124.,  55.,\n",
       "        52.,  32.,   5.,  97.,  40.,  64.])"
      ]
     },
     "execution_count": 71,
     "metadata": {},
     "output_type": "execute_result"
    }
   ],
   "source": [
    "ndnf_pos2"
   ]
  },
  {
   "cell_type": "markdown",
   "metadata": {},
   "source": [
    "# View individual cells"
   ]
  },
  {
   "cell_type": "markdown",
   "metadata": {
    "heading_collapsed": true
   },
   "source": [
    "## Ndnf+ cells"
   ]
  },
  {
   "cell_type": "code",
   "execution_count": 50,
   "metadata": {
    "ExecuteTime": {
     "end_time": "2020-03-27T10:42:11.458940Z",
     "start_time": "2020-03-27T10:42:11.437997Z"
    },
    "hidden": true,
    "scrolled": true
   },
   "outputs": [
    {
     "name": "stdout",
     "output_type": "stream",
     "text": [
      "Cell 5: depth 64.87um, signal = 1.18, p value = 0.0\n",
      "Cell 6: depth 135.64um, signal = 0.23, p value = 0.0\n",
      "Cell 67: depth 50.28um, signal = 0.21, p value = 0.0\n",
      "Cell 97: depth 137.39um, signal = 2.01, p value = 0.0\n",
      "Cell 136: depth 148.21um, signal = 6.63, p value = 0.0\n",
      "Cell 137: depth 159.82um, signal = 0.65, p value = 0.0\n",
      "Cell 145: depth 19.2um, signal = 6.05, p value = 0.0\n",
      "Cell 151: depth 138.32um, signal = 9.89, p value = 0.0\n",
      "Cell 173: depth 20.77um, signal = 2.66, p value = 0.0\n",
      "Cell 174: depth 26.42um, signal = 0.3, p value = 0.0\n",
      "Cell 179: depth 57.61um, signal = 2.81, p value = 0.0\n",
      "Cell 180: depth 46.21um, signal = 6.92, p value = 0.0\n",
      "Cell 184: depth 65.9um, signal = 8.79, p value = 0.0\n",
      "Cell 187: depth 169.83um, signal = 0.23, p value = 0.0\n",
      "Cell 197: depth 288.41um, signal = 2.92, p value = 0.0\n",
      "Cell 210: depth 74.62um, signal = 0.84, p value = 0.0\n",
      "Cell 216: depth 252.5um, signal = 3.47, p value = 0.0\n",
      "Cell 225: depth 67.66um, signal = 0.32, p value = 0.0\n",
      "Cell 261: depth 53.6um, signal = 2.17, p value = 0.0\n",
      "Cell 267: depth 14.46um, signal = 6.21, p value = 0.0\n",
      "Cell 276: depth 13.74um, signal = 1.45, p value = 0.0\n",
      "Cell 286: depth 289.07um, signal = 2.32, p value = 0.0\n",
      "Cell 289: depth 366.23um, signal = 0.24, p value = 0.0\n",
      "Cell 304: depth 91.96um, signal = 6.86, p value = 0.0\n"
     ]
    }
   ],
   "source": [
    "sig = int_ndnf_bin - avg_bg_ndnf_bin\n",
    "max_sig = 10\n",
    "all_cells = np.array(list(Cell.cell_data.keys())) - 1\n",
    "cells = all_cells[np.logical_and(sig < max_sig, pv_ndnf3 < 0.05)]\n",
    "\n",
    "for cell in cells:\n",
    "    print('Cell {0}: depth {1}um, signal = {2}, p value = {3}'.format(cell, \n",
    "                                                                      np.round(depths[cell], decimals = 2), \n",
    "                                                                      np.round(sig[cell], decimals = 2), \n",
    "                                                                      np.round(pv_ndnf3[cell], decimals = 2)))\n",
    "    "
   ]
  },
  {
   "cell_type": "markdown",
   "metadata": {
    "heading_collapsed": true
   },
   "source": [
    "## Ndnf- cells"
   ]
  },
  {
   "cell_type": "code",
   "execution_count": 51,
   "metadata": {
    "ExecuteTime": {
     "end_time": "2020-03-27T10:42:41.537919Z",
     "start_time": "2020-03-27T10:42:41.519967Z"
    },
    "hidden": true,
    "scrolled": true
   },
   "outputs": [
    {
     "name": "stdout",
     "output_type": "stream",
     "text": [
      "Cell 241: depth 295.46um, signal = -0.78, p value = 1.0\n",
      "Cell 253: depth 257.9um, signal = -0.7, p value = 1.0\n",
      "Cell 22: depth 202.62um, signal = -1.19, p value = 1.0\n",
      "Cell 253: depth 257.9um, signal = -0.7, p value = 1.0\n",
      "Cell 22: depth 202.62um, signal = -1.19, p value = 1.0\n",
      "Cell 101: depth 260.03um, signal = -0.42, p value = 1.0\n",
      "Cell 22: depth 202.62um, signal = -1.19, p value = 1.0\n",
      "Cell 241: depth 295.46um, signal = -0.78, p value = 1.0\n",
      "Cell 155: depth 158.41um, signal = -4.55, p value = 1.0\n",
      "Cell 101: depth 260.03um, signal = -0.42, p value = 1.0\n"
     ]
    }
   ],
   "source": [
    "sig = int_ndnf_bin - avg_bg_ndnf_bin\n",
    "max_sig = 0\n",
    "all_cells = np.array(list(Cell.cell_data.keys())) - 1\n",
    "cells = all_cells[np.logical_and(sig < max_sig, pv_ndnf3 > 0.05)]\n",
    "cells = cells[np.random.randint(0, high = len(cells) - 1, size = 10)]\n",
    "for cell in cells:\n",
    "    print('Cell {0}: depth {1}um, signal = {2}, p value = {3}'.format(cell, \n",
    "                                                                      np.round(depths[cell], decimals = 2), \n",
    "                                                                      np.round(sig[cell], decimals = 2), \n",
    "                                                                      np.round(pv_ndnf3[cell], decimals = 2)))\n"
   ]
  },
  {
   "cell_type": "code",
   "execution_count": 55,
   "metadata": {
    "ExecuteTime": {
     "end_time": "2020-03-27T10:43:34.211775Z",
     "start_time": "2020-03-27T10:43:34.194820Z"
    },
    "hidden": true
   },
   "outputs": [
    {
     "name": "stdout",
     "output_type": "stream",
     "text": [
      "Cell 62: depth 147.15um, signal = 0.0, p value = 1.0\n",
      "Cell 252: depth 276.69um, signal = 0.0, p value = 1.0\n",
      "Cell 86: depth 299.18um, signal = 0.0, p value = 1.0\n",
      "Cell 61: depth 127.6um, signal = 0.0, p value = 1.0\n",
      "Cell 158: depth 145.01um, signal = 0.0, p value = 1.0\n",
      "Cell 256: depth 334.67um, signal = 0.0, p value = 1.0\n",
      "Cell 77: depth 164.86um, signal = 0.0, p value = 1.0\n",
      "Cell 20: depth 150.32um, signal = 0.0, p value = 1.0\n",
      "Cell 63: depth 182.25um, signal = 0.0, p value = 1.0\n",
      "Cell 242: depth 394.36um, signal = 0.0, p value = 1.0\n"
     ]
    }
   ],
   "source": [
    "sig = int_ndnf_bin - avg_bg_ndnf_bin\n",
    "max_sig = 10\n",
    "all_cells = np.array(list(Cell.cell_data.keys())) - 1\n",
    "cells = all_cells[np.logical_and(sig < max_sig, pv_ndnf3 > 0.05)]\n",
    "cells = cells[np.random.randint(0, high = len(cells) - 1, size = 10)]\n",
    "for cell in cells:\n",
    "    print('Cell {0}: depth {1}um, signal = {2}, p value = {3}'.format(cell, \n",
    "                                                                      np.round(depths[cell], decimals = 2), \n",
    "                                                                      np.round(sig[cell], decimals = 2), \n",
    "                                                                      np.round(pv_ndnf3[cell], decimals = 2)))\n"
   ]
  },
  {
   "cell_type": "code",
   "execution_count": 66,
   "metadata": {
    "ExecuteTime": {
     "end_time": "2020-03-27T11:04:42.867214Z",
     "start_time": "2020-03-27T11:04:42.846271Z"
    },
    "hidden": true
   },
   "outputs": [
    {
     "name": "stdout",
     "output_type": "stream",
     "text": [
      "Cell 54: depth 59.12um, signal = 0.5, p value = 0.33\n",
      "Cell 54: depth 59.12um, signal = 0.5, p value = 0.33\n",
      "Cell 54: depth 59.12um, signal = 0.5, p value = 0.33\n",
      "Cell 54: depth 59.12um, signal = 0.5, p value = 0.33\n",
      "Cell 54: depth 59.12um, signal = 0.5, p value = 0.33\n",
      "Cell 54: depth 59.12um, signal = 0.5, p value = 0.33\n",
      "Cell 54: depth 59.12um, signal = 0.5, p value = 0.33\n",
      "Cell 54: depth 59.12um, signal = 0.5, p value = 0.33\n",
      "Cell 54: depth 59.12um, signal = 0.5, p value = 0.33\n",
      "Cell 54: depth 59.12um, signal = 0.5, p value = 0.33\n"
     ]
    }
   ],
   "source": [
    "sig = int_ndnf_bin - avg_bg_ndnf_bin\n",
    "min_sig = 0\n",
    "all_cells = np.array(list(Cell.cell_data.keys())) - 1\n",
    "cells = all_cells[np.logical_and(sig > min_sig, pv_ndnf3 > 0.05)]\n",
    "cells = cells[np.random.randint(0, high = len(cells) - 1, size = 10)]\n",
    "for cell in cells:\n",
    "    print('Cell {0}: depth {1}um, signal = {2}, p value = {3}'.format(cell, \n",
    "                                                                      np.round(depths[cell], decimals = 2), \n",
    "                                                                      np.round(sig[cell], decimals = 2), \n",
    "                                                                      np.round(pv_ndnf3[cell], decimals = 2)))\n"
   ]
  },
  {
   "cell_type": "markdown",
   "metadata": {},
   "source": [
    "## Vip+ cells"
   ]
  },
  {
   "cell_type": "code",
   "execution_count": 52,
   "metadata": {
    "ExecuteTime": {
     "end_time": "2020-03-27T10:42:54.187475Z",
     "start_time": "2020-03-27T10:42:54.171520Z"
    }
   },
   "outputs": [
    {
     "name": "stdout",
     "output_type": "stream",
     "text": [
      "Cell 34: depth 196.2um, signal = 0.24, p value = 0.0\n",
      "Cell 67: depth 50.28um, signal = 0.25, p value = 0.0\n",
      "Cell 69: depth 70.63um, signal = 6.82, p value = 0.0\n",
      "Cell 75: depth 143.21um, signal = 0.65, p value = 0.0\n",
      "Cell 79: depth 163.33um, signal = 8.56, p value = 0.0\n",
      "Cell 101: depth 260.03um, signal = 0.6, p value = 0.0\n",
      "Cell 114: depth 113.27um, signal = 1.55, p value = 0.0\n",
      "Cell 117: depth 234.87um, signal = -1.09, p value = 0.0\n",
      "Cell 118: depth 208.14um, signal = -1.23, p value = 0.0\n",
      "Cell 165: depth 0.17um, signal = -0.11, p value = 0.0\n",
      "Cell 187: depth 169.83um, signal = 0.26, p value = 0.03\n",
      "Cell 198: depth 205.59um, signal = 6.32, p value = 0.0\n",
      "Cell 227: depth 148.93um, signal = 0.71, p value = 0.0\n",
      "Cell 230: depth 185.46um, signal = 8.54, p value = 0.0\n",
      "Cell 244: depth 150.31um, signal = 4.42, p value = 0.0\n",
      "Cell 245: depth 26.22um, signal = 1.31, p value = 0.0\n",
      "Cell 278: depth 141.81um, signal = 1.0, p value = 0.0\n",
      "Cell 313: depth 25.12um, signal = 4.69, p value = 0.0\n"
     ]
    }
   ],
   "source": [
    "sig = int_vip_bin - avg_bg_vip_bin\n",
    "pv = pv_vip3\n",
    "max_sig = 10\n",
    "all_cells = np.array(list(Cell.cell_data.keys())) - 1\n",
    "cells = all_cells[np.logical_and(sig < max_sig, pv < 0.05)]\n",
    "# cells = cells[np.random.randint(0, high = len(cells) - 1, size = 10)]\n",
    "for cell in cells:\n",
    "    print('Cell {0}: depth {1}um, signal = {2}, p value = {3}'.format(cell, \n",
    "                                                                      np.round(depths[cell], decimals = 2), \n",
    "                                                                      np.round(sig[cell], decimals = 2), \n",
    "                                                                      np.round(pv[cell], decimals = 2)))\n"
   ]
  },
  {
   "cell_type": "markdown",
   "metadata": {},
   "source": [
    "## Vip- cells"
   ]
  },
  {
   "cell_type": "code",
   "execution_count": 53,
   "metadata": {
    "ExecuteTime": {
     "end_time": "2020-03-27T10:43:03.137534Z",
     "start_time": "2020-03-27T10:43:03.122574Z"
    },
    "scrolled": true
   },
   "outputs": [
    {
     "name": "stdout",
     "output_type": "stream",
     "text": [
      "Cell 174: depth 26.42um, signal = 0.0, p value = 1.0\n",
      "Cell 23: depth 56.87um, signal = 0.0, p value = 1.0\n",
      "Cell 31: depth 125.75um, signal = 0.0, p value = 1.0\n",
      "Cell 92: depth 188.51um, signal = 0.0, p value = 1.0\n",
      "Cell 94: depth 57.07um, signal = 0.0, p value = 1.0\n",
      "Cell 260: depth 90.81um, signal = 0.0, p value = 1.0\n",
      "Cell 132: depth 148.87um, signal = -0.99, p value = 1.0\n",
      "Cell 11: depth 82.54um, signal = 0.0, p value = 1.0\n",
      "Cell 51: depth 167.83um, signal = -0.6, p value = 1.0\n",
      "Cell 223: depth 109.83um, signal = 0.0, p value = 1.0\n"
     ]
    }
   ],
   "source": [
    "sig = int_vip_bin - avg_bg_vip_bin\n",
    "pv = pv_vip3\n",
    "max_sig = 10\n",
    "all_cells = np.array(list(Cell.cell_data.keys())) - 1\n",
    "\n",
    "cells = all_cells[np.logical_and(sig < max_sig, pv > 0.05)]\n",
    "cells = cells[np.random.randint(0, high = len(cells) - 1, size = 10)]\n",
    "for cell in cells:\n",
    "    print('Cell {0}: depth {1}um, signal = {2}, p value = {3}'.format(cell, \n",
    "                                                                      np.round(depths[cell], decimals = 2), \n",
    "                                                                      np.round(sig[cell], decimals = 2), \n",
    "                                                                      np.round(pv[cell], decimals = 2)))\n"
   ]
  },
  {
   "cell_type": "code",
   "execution_count": 54,
   "metadata": {
    "ExecuteTime": {
     "end_time": "2020-03-27T10:43:15.149602Z",
     "start_time": "2020-03-27T10:43:15.131651Z"
    }
   },
   "outputs": [
    {
     "name": "stdout",
     "output_type": "stream",
     "text": [
      "Cell 132: depth 148.87um, signal = -0.99, p value = 1.0\n",
      "Cell 116: depth 248.77um, signal = -2.46, p value = 1.0\n",
      "Cell 240: depth 292.06um, signal = -1.42, p value = 1.0\n",
      "Cell 280: depth 188.9um, signal = -2.61, p value = 1.0\n",
      "Cell 50: depth 225.07um, signal = -0.6, p value = 1.0\n",
      "Cell 280: depth 188.9um, signal = -2.61, p value = 1.0\n",
      "Cell 172: depth 208.21um, signal = -9.84, p value = 1.0\n",
      "Cell 51: depth 167.83um, signal = -0.6, p value = 1.0\n",
      "Cell 193: depth 254.59um, signal = -0.21, p value = 1.0\n",
      "Cell 271: depth 338.76um, signal = -0.38, p value = 1.0\n"
     ]
    }
   ],
   "source": [
    "sig = int_vip_bin - avg_bg_vip_bin\n",
    "pv = pv_vip3\n",
    "max_sig = 0\n",
    "all_cells = np.array(list(Cell.cell_data.keys())) - 1\n",
    "\n",
    "cells = all_cells[np.logical_and(sig < max_sig, pv > 0.05)]\n",
    "cells = cells[np.random.randint(0, high = len(cells) - 1, size = 10)]\n",
    "for cell in cells:\n",
    "    print('Cell {0}: depth {1}um, signal = {2}, p value = {3}'.format(cell, \n",
    "                                                                      np.round(depths[cell], decimals = 2), \n",
    "                                                                      np.round(sig[cell], decimals = 2), \n",
    "                                                                      np.round(pv[cell], decimals = 2)))\n"
   ]
  },
  {
   "cell_type": "code",
   "execution_count": 76,
   "metadata": {
    "ExecuteTime": {
     "end_time": "2020-03-27T11:56:53.048180Z",
     "start_time": "2020-03-27T11:56:53.030228Z"
    }
   },
   "outputs": [
    {
     "name": "stdout",
     "output_type": "stream",
     "text": [
      "Cell 62: depth 147.15um, signal = 0.5, p value = 0.5\n",
      "Cell 62: depth 147.15um, signal = 0.5, p value = 0.5\n",
      "Cell 62: depth 147.15um, signal = 0.5, p value = 0.5\n",
      "Cell 62: depth 147.15um, signal = 0.5, p value = 0.5\n",
      "Cell 62: depth 147.15um, signal = 0.5, p value = 0.5\n",
      "Cell 62: depth 147.15um, signal = 0.5, p value = 0.5\n",
      "Cell 62: depth 147.15um, signal = 0.5, p value = 0.5\n",
      "Cell 62: depth 147.15um, signal = 0.5, p value = 0.5\n",
      "Cell 62: depth 147.15um, signal = 0.5, p value = 0.5\n",
      "Cell 62: depth 147.15um, signal = 0.5, p value = 0.5\n"
     ]
    }
   ],
   "source": [
    "sig = int_vip_bin - avg_bg_vip_bin\n",
    "pv = pv_vip3\n",
    "min_sig = 0\n",
    "all_cells = np.array(list(Cell.cell_data.keys())) - 1\n",
    "\n",
    "cells = all_cells[np.logical_and(sig > min_sig, pv > 0.05)]\n",
    "cells = cells[np.random.randint(0, high = len(cells) - 1, size = 10)]\n",
    "for cell in cells:\n",
    "    print('Cell {0}: depth {1}um, signal = {2}, p value = {3}'.format(cell, \n",
    "                                                                      np.round(depths[cell], decimals = 2), \n",
    "                                                                      np.round(sig[cell], decimals = 2), \n",
    "                                                                      np.round(pv[cell], decimals = 2)))\n"
   ]
  },
  {
   "cell_type": "markdown",
   "metadata": {
    "heading_collapsed": true
   },
   "source": [
    "## Sst+ cells"
   ]
  },
  {
   "cell_type": "code",
   "execution_count": 56,
   "metadata": {
    "ExecuteTime": {
     "end_time": "2020-03-27T10:43:44.963472Z",
     "start_time": "2020-03-27T10:43:44.950506Z"
    },
    "hidden": true
   },
   "outputs": [
    {
     "name": "stdout",
     "output_type": "stream",
     "text": [
      "Cell 249: depth 248.88um, signal = 9.08, p value = 0.0\n"
     ]
    }
   ],
   "source": [
    "sig = int_sst_bin - avg_bg_sst_bin\n",
    "pv = pv_sst3\n",
    "max_sig = 10\n",
    "all_cells = np.array(list(Cell.cell_data.keys())) - 1\n",
    "\n",
    "cells = all_cells[np.logical_and(sig < max_sig, pv < 0.05)]\n",
    "# cells = cells[np.random.randint(0, high = len(cells) - 1, size = 10)]\n",
    "for cell in cells:\n",
    "    print('Cell {0}: depth {1}um, signal = {2}, p value = {3}'.format(cell, \n",
    "                                                                      np.round(depths[cell], decimals = 2), \n",
    "                                                                      np.round(sig[cell], decimals = 2), \n",
    "                                                                      np.round(pv[cell], decimals = 2)))\n"
   ]
  },
  {
   "cell_type": "markdown",
   "metadata": {},
   "source": [
    "## Sst- cells"
   ]
  },
  {
   "cell_type": "code",
   "execution_count": 57,
   "metadata": {
    "ExecuteTime": {
     "end_time": "2020-03-27T10:43:55.577807Z",
     "start_time": "2020-03-27T10:43:55.559855Z"
    }
   },
   "outputs": [
    {
     "name": "stdout",
     "output_type": "stream",
     "text": [
      "Cell 163: depth 73.1um, signal = -6.96, p value = 1.0\n",
      "Cell 163: depth 73.1um, signal = -6.96, p value = 1.0\n",
      "Cell 163: depth 73.1um, signal = -6.96, p value = 1.0\n",
      "Cell 163: depth 73.1um, signal = -6.96, p value = 1.0\n",
      "Cell 163: depth 73.1um, signal = -6.96, p value = 1.0\n",
      "Cell 163: depth 73.1um, signal = -6.96, p value = 1.0\n",
      "Cell 163: depth 73.1um, signal = -6.96, p value = 1.0\n",
      "Cell 163: depth 73.1um, signal = -6.96, p value = 1.0\n",
      "Cell 163: depth 73.1um, signal = -6.96, p value = 1.0\n",
      "Cell 163: depth 73.1um, signal = -6.96, p value = 1.0\n"
     ]
    }
   ],
   "source": [
    "sig = int_sst_bin - avg_bg_sst_bin\n",
    "pv = pv_sst3\n",
    "max_sig = 0\n",
    "all_cells = np.array(list(Cell.cell_data.keys())) - 1\n",
    "\n",
    "cells = all_cells[np.logical_and(sig < max_sig, pv > 0.05)]\n",
    "cells = cells[np.random.randint(0, high = len(cells) - 1, size = 10)]\n",
    "for cell in cells:\n",
    "    print('Cell {0}: depth {1}um, signal = {2}, p value = {3}'.format(cell, \n",
    "                                                                      np.round(depths[cell], decimals = 2), \n",
    "                                                                      np.round(sig[cell], decimals = 2), \n",
    "                                                                      np.round(pv[cell], decimals = 2)))\n"
   ]
  },
  {
   "cell_type": "code",
   "execution_count": 58,
   "metadata": {
    "ExecuteTime": {
     "end_time": "2020-03-27T10:44:01.405813Z",
     "start_time": "2020-03-27T10:44:01.389857Z"
    }
   },
   "outputs": [
    {
     "name": "stdout",
     "output_type": "stream",
     "text": [
      "Cell 241: depth 295.46um, signal = 0.0, p value = 1.0\n",
      "Cell 110: depth 102.05um, signal = 0.0, p value = 1.0\n",
      "Cell 264: depth 119.32um, signal = 0.0, p value = 1.0\n",
      "Cell 135: depth 170.99um, signal = 0.0, p value = 1.0\n",
      "Cell 167: depth 60.71um, signal = 0.0, p value = 1.0\n",
      "Cell 38: depth 80.55um, signal = 0.0, p value = 1.0\n",
      "Cell 198: depth 205.59um, signal = 0.0, p value = 1.0\n",
      "Cell 54: depth 59.12um, signal = 0.0, p value = 1.0\n",
      "Cell 156: depth 163.56um, signal = 0.0, p value = 1.0\n",
      "Cell 90: depth 45.37um, signal = 0.0, p value = 1.0\n"
     ]
    }
   ],
   "source": [
    "sig = int_sst_bin - avg_bg_sst_bin\n",
    "pv = pv_sst3\n",
    "max_sig = 10\n",
    "all_cells = np.array(list(Cell.cell_data.keys())) - 1\n",
    "\n",
    "cells = all_cells[np.logical_and(sig < max_sig, pv > 0.05)]\n",
    "cells = cells[np.random.randint(0, high = len(cells) - 1, size = 10)]\n",
    "for cell in cells:\n",
    "    print('Cell {0}: depth {1}um, signal = {2}, p value = {3}'.format(cell, \n",
    "                                                                      np.round(depths[cell], decimals = 2), \n",
    "                                                                      np.round(sig[cell], decimals = 2), \n",
    "                                                                      np.round(pv[cell], decimals = 2)))\n"
   ]
  },
  {
   "cell_type": "code",
   "execution_count": null,
   "metadata": {},
   "outputs": [],
   "source": []
  }
 ],
 "metadata": {
  "kernelspec": {
   "display_name": "Python 3",
   "language": "python",
   "name": "python3"
  },
  "language_info": {
   "codemirror_mode": {
    "name": "ipython",
    "version": 3
   },
   "file_extension": ".py",
   "mimetype": "text/x-python",
   "name": "python",
   "nbconvert_exporter": "python",
   "pygments_lexer": "ipython3",
   "version": "3.7.4"
  },
  "toc": {
   "base_numbering": 1,
   "nav_menu": {
    "height": "584px",
    "width": "285px"
   },
   "number_sections": true,
   "sideBar": true,
   "skip_h1_title": false,
   "title_cell": "Table of Contents",
   "title_sidebar": "Contents",
   "toc_cell": false,
   "toc_position": {},
   "toc_section_display": true,
   "toc_window_display": false
  },
  "varInspector": {
   "cols": {
    "lenName": 16,
    "lenType": 16,
    "lenVar": 40
   },
   "kernels_config": {
    "python": {
     "delete_cmd_postfix": "",
     "delete_cmd_prefix": "del ",
     "library": "var_list.py",
     "varRefreshCmd": "print(var_dic_list())"
    },
    "r": {
     "delete_cmd_postfix": ") ",
     "delete_cmd_prefix": "rm(",
     "library": "var_list.r",
     "varRefreshCmd": "cat(var_dic_list()) "
    }
   },
   "oldHeight": 731,
   "position": {
    "height": "753px",
    "left": "1788px",
    "right": "20px",
    "top": "121px",
    "width": "689px"
   },
   "types_to_exclude": [
    "module",
    "function",
    "builtin_function_or_method",
    "instance",
    "_Feature"
   ],
   "varInspector_section_display": "block",
   "window_display": true
  }
 },
 "nbformat": 4,
 "nbformat_minor": 2
}
