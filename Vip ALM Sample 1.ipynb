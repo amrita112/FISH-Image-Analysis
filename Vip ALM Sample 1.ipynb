{
 "cells": [
  {
   "cell_type": "markdown",
   "metadata": {},
   "source": [
    "Sample ID: HCR 3.11 S3  \n",
    "Section: 200um coronal section from ALM  \n",
    "Mouse: ANM471122 C57BI/6NCrl, sex M, DOB 10/21/2019  \n",
    "Genes labelled: Vip (514 channel), Tac2 (546 channel), Npy2r (594 channel), Car4 (647 channel)  \n",
    "Microscope: Zeiss 880 (regular confocal mode)  \n",
    "Objective: 40X oil immersion "
   ]
  },
  {
   "cell_type": "markdown",
   "metadata": {},
   "source": [
    "# Setup"
   ]
  },
  {
   "cell_type": "markdown",
   "metadata": {},
   "source": [
    "## Imports"
   ]
  },
  {
   "cell_type": "code",
   "execution_count": 347,
   "metadata": {
    "ExecuteTime": {
     "end_time": "2020-04-03T18:37:46.580484Z",
     "start_time": "2020-04-03T18:37:46.174684Z"
    },
    "init_cell": true,
    "run_control": {
     "marked": true
    },
    "scrolled": true
   },
   "outputs": [
    {
     "name": "stdout",
     "output_type": "stream",
     "text": [
      "The autoreload extension is already loaded. To reload it, use:\n",
      "  %reload_ext autoreload\n"
     ]
    }
   ],
   "source": [
    "%matplotlib inline    \n",
    "\n",
    "# Create a Qt event loop for napari\n",
    "from IPython import get_ipython\n",
    "ipython = get_ipython()\n",
    "ipython.magic(\"gui qt5\")             \n",
    "\n",
    "import napari\n",
    "from PIL import Image\n",
    "\n",
    "import numpy as np\n",
    "import cv2\n",
    "\n",
    "import matplotlib.pyplot as plt\n",
    "\n",
    "import time\n",
    "\n",
    "from os.path import sep\n",
    "import pickle as pkl\n",
    "import importlib\n",
    "\n",
    "import get_metadata\n",
    "\n",
    "from utils import diff_gauss\n",
    "from utils import find_threshold\n",
    "\n",
    "from segmentation import get_masks\n",
    "from segmentation import get_background\n",
    "\n",
    "from plotting import napari_rendering\n",
    "from plotting import scatter_plots\n",
    "from plotting import view_all_cells\n",
    "\n",
    "from lipofuscin import annotated_lipo_rois\n",
    "from lipofuscin import filter_lipo\n",
    "from lipofuscin import detect\n",
    "\n",
    "from expression import signal_and_bg\n",
    "\n",
    "from classification import get_labels\n",
    "\n",
    "from cell_depths import get_depths\n",
    "\n",
    "# Enable autoreload of local modules\n",
    "%load_ext autoreload\n",
    "%autoreload 2        # Autoreload all modules except those excluded using %aimport\n",
    "%aimport napari, PIL.Image, numpy, cv2, matplotlib.pyplot, time, importlib \n",
    "\n",
    "# from mpl_toolkits import mplot3d\n",
    "# import matplotlib.colors as colors\n",
    "# import matplotlib.path as mpltpath\n",
    "\n",
    "\n",
    "# import h5py\n",
    "\n",
    "# from bisect import bisect_left\n",
    "\n",
    "# from skimage.measure import profile_line\n",
    "# from skimage.filters import gaussian\n"
   ]
  },
  {
   "cell_type": "markdown",
   "metadata": {
    "heading_collapsed": true
   },
   "source": [
    "## Specify data path"
   ]
  },
  {
   "cell_type": "code",
   "execution_count": 2,
   "metadata": {
    "ExecuteTime": {
     "end_time": "2020-04-02T20:25:08.141899Z",
     "start_time": "2020-04-02T20:25:08.138899Z"
    },
    "hidden": true,
    "init_cell": true
   },
   "outputs": [],
   "source": [
    "data_path = 'G:\\\\Shared drives\\\\as_share\\\\HCR\\\\HCR 3.11\\\\S3'\n",
    "metadata_file = 'metadata.pkl'"
   ]
  },
  {
   "cell_type": "markdown",
   "metadata": {
    "heading_collapsed": true
   },
   "source": [
    "## Metadata"
   ]
  },
  {
   "cell_type": "code",
   "execution_count": 346,
   "metadata": {
    "ExecuteTime": {
     "end_time": "2020-04-03T16:34:58.299073Z",
     "start_time": "2020-04-03T16:34:58.244073Z"
    },
    "hidden": true,
    "init_cell": true
   },
   "outputs": [
    {
     "name": "stdout",
     "output_type": "stream",
     "text": [
      "Number of planes: 10\n"
     ]
    }
   ],
   "source": [
    "um_per_px = 0.13\n",
    "\n",
    "raw_image_path = '{0}{1}S3_raw_tiff_images'.format(data_path, sep)\n",
    "seg_image_path = '{0}{1}S5_blurred_tiff_images'.format(data_path, sep)\n",
    "plots_path = '{0}{1}Plots'.format(data_path, sep)\n",
    "filt_image_path = '{0}{1}Filtered_tiff_images'.format(data_path, sep)\n",
    "\n",
    "plane_nos = range(1, 11)\n",
    "base_filename = 'S3_z'\n",
    "genes = ['Vip', 'Tac2', 'Car4', 'Npy2r']\n",
    "channel_names = {'Vip': '_ChS1-T3_ORG',\n",
    "                 'Tac2': '_ChS2-T1_ORG',\n",
    "                 'Npy2r': '_ChS2-T3_ORG',\n",
    "                 'Car4': '_ChS2-T2_ORG'}\n",
    "n_planes = len(plane_nos)\n",
    "print('Number of planes: {0}'.format(n_planes))\n",
    "\n",
    "# Create 4D array to store images\n",
    "img = Image.open('{0}{1}{2}{3}{4}.tif'.format(raw_image_path, sep, base_filename, str(plane_nos[0]).zfill(2),\n",
    "                                             channel_names[genes[0]]))\n",
    "\n",
    "h = img.height\n",
    "w = img.width\n",
    "\n",
    "metadata = get_metadata.get_metadata(data_path, metadata_file, um_per_px, raw_image_path, seg_image_path, plots_path,\n",
    "                                    filt_image_path, plane_nos, base_filename, genes, channel_names, n_planes, h, w)\n",
    "\n"
   ]
  },
  {
   "cell_type": "markdown",
   "metadata": {},
   "source": [
    "# Napari rendering"
   ]
  },
  {
   "cell_type": "code",
   "execution_count": 8,
   "metadata": {
    "ExecuteTime": {
     "end_time": "2020-04-02T20:26:55.643699Z",
     "start_time": "2020-04-02T20:26:54.617499Z"
    }
   },
   "outputs": [],
   "source": [
    "# Create viewer\n",
    "viewer = napari_rendering.create_viewer()"
   ]
  },
  {
   "cell_type": "markdown",
   "metadata": {},
   "source": [
    "##### Images"
   ]
  },
  {
   "cell_type": "code",
   "execution_count": 22,
   "metadata": {
    "ExecuteTime": {
     "end_time": "2020-04-02T20:51:27.878501Z",
     "start_time": "2020-04-02T20:51:16.095501Z"
    }
   },
   "outputs": [
    {
     "name": "stdout",
     "output_type": "stream",
     "text": [
      "Loading Vip images: 0.0 seconds\n",
      "     Plane 1, 0.0 seconds\n",
      "     Plane 2, 1.0 seconds\n",
      "Loading Tac2 images: 3.0 seconds\n",
      "     Plane 1, 3.0 seconds\n",
      "     Plane 2, 4.0 seconds\n",
      "Loading Car4 images: 6.0 seconds\n",
      "     Plane 1, 6.0 seconds\n",
      "     Plane 2, 7.0 seconds\n",
      "Loading Npy2r images: 9.0 seconds\n",
      "     Plane 1, 9.0 seconds\n",
      "     Plane 2, 10.0 seconds\n"
     ]
    }
   ],
   "source": [
    "# Raw images\n",
    "napari_rendering.images(data_path, metadata_file, viewer, planes = [0, 1])"
   ]
  },
  {
   "cell_type": "code",
   "execution_count": 86,
   "metadata": {
    "ExecuteTime": {
     "end_time": "2020-04-03T03:12:14.702154Z",
     "start_time": "2020-04-03T03:12:01.774154Z"
    }
   },
   "outputs": [
    {
     "name": "stdout",
     "output_type": "stream",
     "text": [
      "Loading Vip images: 0.0 seconds\n",
      "     Plane 1, 0.0 seconds\n",
      "     Plane 2, 1.0 seconds\n",
      "Loading Tac2 images: 3.0 seconds\n",
      "     Plane 1, 3.0 seconds\n",
      "     Plane 2, 4.0 seconds\n",
      "Loading Car4 images: 7.0 seconds\n",
      "     Plane 1, 7.0 seconds\n",
      "     Plane 2, 8.0 seconds\n",
      "Loading Npy2r images: 10.0 seconds\n",
      "     Plane 1, 10.0 seconds\n",
      "     Plane 2, 11.0 seconds\n"
     ]
    }
   ],
   "source": [
    "# Filtered images\n",
    "napari_rendering.filt_images(data_path, metadata_file, viewer, planes = [0, 1], image_type = 'filt')"
   ]
  },
  {
   "cell_type": "markdown",
   "metadata": {},
   "source": [
    "##### Cell masks"
   ]
  },
  {
   "cell_type": "code",
   "execution_count": 58,
   "metadata": {
    "ExecuteTime": {
     "end_time": "2020-04-02T22:56:53.364320Z",
     "start_time": "2020-04-02T22:56:52.125320Z"
    }
   },
   "outputs": [
    {
     "name": "stdout",
     "output_type": "stream",
     "text": [
      "Cell 10\n",
      "Cell 10\n",
      "Cell 30\n",
      "Cell 10\n",
      "Cell 20\n",
      "Cell 30\n"
     ]
    }
   ],
   "source": [
    "napari_rendering.cell_masks(data_path, metadata_file, viewer, planes = [0, 1])"
   ]
  },
  {
   "cell_type": "markdown",
   "metadata": {},
   "source": [
    "##### Annotated lipofuscin rois"
   ]
  },
  {
   "cell_type": "code",
   "execution_count": 62,
   "metadata": {
    "ExecuteTime": {
     "end_time": "2020-04-02T23:15:25.063322Z",
     "start_time": "2020-04-02T23:15:24.903122Z"
    }
   },
   "outputs": [
    {
     "name": "stdout",
     "output_type": "stream",
     "text": [
      "No lipofuscin rois in the specified planes\n"
     ]
    }
   ],
   "source": [
    "napari_rendering.lipo_rois(data_path, metadata_file, viewer, planes = [0, 1])"
   ]
  },
  {
   "cell_type": "markdown",
   "metadata": {},
   "source": [
    "##### Masks with lipofuscin exluded"
   ]
  },
  {
   "cell_type": "code",
   "execution_count": 181,
   "metadata": {
    "ExecuteTime": {
     "end_time": "2020-04-03T04:43:19.154967Z",
     "start_time": "2020-04-03T04:43:17.855967Z"
    }
   },
   "outputs": [],
   "source": [
    "napari_rendering.no_lipo_masks(data_path, metadata_file, viewer, planes = [0, 1])"
   ]
  },
  {
   "cell_type": "markdown",
   "metadata": {},
   "source": [
    "# Segmentation"
   ]
  },
  {
   "cell_type": "markdown",
   "metadata": {
    "heading_collapsed": true
   },
   "source": [
    "## Get cell pixels"
   ]
  },
  {
   "cell_type": "code",
   "execution_count": 314,
   "metadata": {
    "ExecuteTime": {
     "end_time": "2020-04-03T15:53:56.223870Z",
     "start_time": "2020-04-03T15:34:53.255666Z"
    },
    "hidden": true,
    "scrolled": true
   },
   "outputs": [
    {
     "name": "stdout",
     "output_type": "stream",
     "text": [
      "135 cell masks found\n",
      "Finding pixels in cells\n",
      "Cell 0: 26.0 seconds\n",
      "Cell 2: 36.0 seconds\n",
      "Cell 4: 47.0 seconds\n",
      "Cell 6: 63.0 seconds\n",
      "Cell 8: 78.0 seconds\n",
      "Cell 10: 99.0 seconds\n",
      "Cell 12: 110.0 seconds\n",
      "Cell 14: 125.0 seconds\n",
      "Cell 16: 136.0 seconds\n",
      "Cell 18: 147.0 seconds\n",
      "Cell 20: 167.0 seconds\n",
      "Cell 22: 188.0 seconds\n",
      "Cell 24: 209.0 seconds\n",
      "Cell 26: 225.0 seconds\n",
      "Cell 28: 246.0 seconds\n",
      "Cell 30: 262.0 seconds\n",
      "Cell 32: 272.0 seconds\n",
      "Cell 34: 283.0 seconds\n",
      "Cell 36: 298.0 seconds\n",
      "Cell 38: 309.0 seconds\n",
      "Cell 40: 330.0 seconds\n",
      "Cell 42: 340.0 seconds\n",
      "Cell 44: 361.0 seconds\n",
      "Cell 46: 382.0 seconds\n",
      "Cell 48: 403.0 seconds\n",
      "Cell 50: 424.0 seconds\n",
      "Cell 52: 439.0 seconds\n",
      "Cell 54: 461.0 seconds\n",
      "Cell 56: 481.0 seconds\n",
      "Cell 58: 492.0 seconds\n",
      "Cell 60: 513.0 seconds\n",
      "Cell 62: 534.0 seconds\n",
      "Cell 64: 554.0 seconds\n",
      "Cell 66: 565.0 seconds\n",
      "Cell 68: 575.0 seconds\n",
      "Cell 70: 603.0 seconds\n",
      "Cell 72: 619.0 seconds\n",
      "Cell 74: 645.0 seconds\n",
      "Cell 76: 655.0 seconds\n",
      "Cell 78: 666.0 seconds\n",
      "Cell 80: 686.0 seconds\n",
      "Cell 82: 707.0 seconds\n",
      "Cell 84: 728.0 seconds\n",
      "Cell 86: 750.0 seconds\n",
      "Cell 88: 765.0 seconds\n",
      "Cell 90: 786.0 seconds\n",
      "Cell 92: 801.0 seconds\n",
      "Cell 94: 817.0 seconds\n",
      "Cell 96: 833.0 seconds\n",
      "Cell 98: 849.0 seconds\n",
      "Cell 100: 857.0 seconds\n",
      "Cell 102: 873.0 seconds\n",
      "Cell 104: 889.0 seconds\n",
      "Cell 106: 904.0 seconds\n",
      "Cell 108: 925.0 seconds\n",
      "Cell 110: 941.0 seconds\n",
      "Cell 112: 962.0 seconds\n",
      "Cell 114: 983.0 seconds\n",
      "Cell 116: 1004.0 seconds\n",
      "Cell 118: 1024.0 seconds\n",
      "Cell 120: 1040.0 seconds\n",
      "Cell 122: 1056.0 seconds\n",
      "Cell 124: 1071.0 seconds\n",
      "Cell 126: 1082.0 seconds\n",
      "Cell 128: 1098.0 seconds\n",
      "Cell 130: 1109.0 seconds\n",
      "Cell 132: 1120.0 seconds\n",
      "Cell 134: 1137.0 seconds\n"
     ]
    }
   ],
   "source": [
    "cell_data, n_cells = get_masks.get_masks(data_path, metadata_file)\n",
    "cell_pixels = get_masks.get_cell_pixels(data_path, metadata_file)\n",
    "all_cell_pixels = get_masks.get_all_cell_pixels(data_path, metadata_file)"
   ]
  },
  {
   "cell_type": "markdown",
   "metadata": {
    "heading_collapsed": true
   },
   "source": [
    "## Get background pixels"
   ]
  },
  {
   "cell_type": "code",
   "execution_count": 261,
   "metadata": {
    "ExecuteTime": {
     "end_time": "2020-04-03T13:03:24.699048Z",
     "start_time": "2020-04-03T13:03:19.657048Z"
    },
    "hidden": true
   },
   "outputs": [
    {
     "name": "stdout",
     "output_type": "stream",
     "text": [
      "Background pixels found in G:\\Shared drives\\as_share\\HCR\\HCR 3.11\\S3\\bg_pixels.pkl\n",
      "Finding pixels in local background of cells\n"
     ]
    }
   ],
   "source": [
    "bg_pixels, centers = get_background.get_bg_pixels(data_path, metadata_file)\n",
    "#all_bg_pixels = get_background.get_all_bg_pixels(data_path, metadata_file)"
   ]
  },
  {
   "cell_type": "markdown",
   "metadata": {
    "heading_collapsed": true
   },
   "source": [
    "## Segment cells"
   ]
  },
  {
   "cell_type": "code",
   "execution_count": null,
   "metadata": {
    "hidden": true
   },
   "outputs": [],
   "source": []
  },
  {
   "cell_type": "markdown",
   "metadata": {
    "heading_collapsed": true
   },
   "source": [
    "# Lipofuscin exclusion"
   ]
  },
  {
   "cell_type": "markdown",
   "metadata": {
    "heading_collapsed": true,
    "hidden": true
   },
   "source": [
    "## Annotated lipofuscin rois"
   ]
  },
  {
   "cell_type": "code",
   "execution_count": 76,
   "metadata": {
    "ExecuteTime": {
     "end_time": "2020-04-03T00:13:50.818929Z",
     "start_time": "2020-04-03T00:13:12.639329Z"
    },
    "hidden": true
   },
   "outputs": [
    {
     "name": "stdout",
     "output_type": "stream",
     "text": [
      "6 rois\n",
      "No saved data found, finding pixels in lipofuscin rois\n",
      "Calculated grid coordinates, 26.0 seconds\n",
      "ROI 0\n",
      "ROI 1\n",
      "ROI 2\n",
      "ROI 3\n",
      "ROI 4\n",
      "ROI 5\n"
     ]
    }
   ],
   "source": [
    "# Load existing rois\n",
    "l_rois = annotated_lipo_rois.get_rois(data_path, metadata_file)\n",
    "all_lipo_pixels, lipo_pixels_roi = annotated_lipo_rois.get_cell_lipo_pixels(data_path, metadata_file)"
   ]
  },
  {
   "cell_type": "markdown",
   "metadata": {
    "heading_collapsed": true,
    "hidden": true
   },
   "source": [
    "##### Draw new rois"
   ]
  },
  {
   "cell_type": "code",
   "execution_count": 64,
   "metadata": {
    "ExecuteTime": {
     "end_time": "2020-04-02T23:41:02.713326Z",
     "start_time": "2020-04-02T23:41:02.622726Z"
    },
    "hidden": true
   },
   "outputs": [
    {
     "data": {
      "text/plain": [
       "<Shapes layer 'Lipofuscin ROIs' at 0x1f589b08>"
      ]
     },
     "execution_count": 64,
     "metadata": {},
     "output_type": "execute_result"
    }
   ],
   "source": [
    "viewer.add_shapes(data = None, name = 'Lipofuscin rois', edge_color = 'white')"
   ]
  },
  {
   "cell_type": "code",
   "execution_count": 73,
   "metadata": {
    "ExecuteTime": {
     "end_time": "2020-04-03T00:12:06.415729Z",
     "start_time": "2020-04-03T00:12:06.238729Z"
    },
    "hidden": true
   },
   "outputs": [
    {
     "name": "stdout",
     "output_type": "stream",
     "text": [
      "6 lipofuscin rois\n"
     ]
    }
   ],
   "source": [
    "try:\n",
    "    with open('{0}{1}{2}'.format(data_path, sep, metadata['lipo_rois_file']), 'rb') as f:\n",
    "        l_rois = pkl.load(f) \n",
    "    l_rois = np.append(l_rois, viewer.layers['Lipofuscin rois'].data, axis = 0)\n",
    "except:\n",
    "    l_rois = viewer.layers['Lipofuscin rois'].data\n",
    "    \n",
    "with open('{0}{1}{2}'.format(data_path, sep, metadata['lipo_rois_file']), 'wb') as f:\n",
    "    pkl.dump(l_rois, f) \n",
    "    \n",
    "n_rois = len(l_rois)\n",
    "print('{0} lipofuscin rois'.format(n_rois))"
   ]
  },
  {
   "cell_type": "markdown",
   "metadata": {
    "heading_collapsed": true,
    "hidden": true
   },
   "source": [
    "## Detect lipofuscin rois in cells and background"
   ]
  },
  {
   "cell_type": "code",
   "execution_count": 315,
   "metadata": {
    "ExecuteTime": {
     "end_time": "2020-04-03T15:59:36.288070Z",
     "start_time": "2020-04-03T15:54:24.467270Z"
    },
    "hidden": true
   },
   "outputs": [
    {
     "name": "stdout",
     "output_type": "stream",
     "text": [
      "Filtering Vip images: 0.0 seconds\n",
      "Plane 1, 0.0 seconds\n",
      "Saving plane 0: 7.0 seconds\n",
      "Plane 2, 7.0 seconds\n",
      "Saving plane 1: 14.0 seconds\n",
      "Plane 3, 14.0 seconds\n",
      "Saving plane 2: 21.0 seconds\n",
      "Plane 4, 22.0 seconds\n",
      "Saving plane 3: 29.0 seconds\n",
      "Plane 5, 29.0 seconds\n",
      "Saving plane 4: 37.0 seconds\n",
      "Plane 6, 37.0 seconds\n",
      "Saving plane 5: 44.0 seconds\n",
      "Plane 7, 45.0 seconds\n",
      "Saving plane 6: 52.0 seconds\n",
      "Plane 8, 53.0 seconds\n",
      "Saving plane 7: 60.0 seconds\n",
      "Plane 9, 60.0 seconds\n",
      "Saving plane 8: 68.0 seconds\n",
      "Plane 10, 68.0 seconds\n",
      "Saving plane 9: 75.0 seconds\n",
      "Filtering Tac2 images: 76.0 seconds\n",
      "Plane 1, 76.0 seconds\n",
      "Saving plane 0: 83.0 seconds\n",
      "Plane 2, 83.0 seconds\n",
      "Saving plane 1: 90.0 seconds\n",
      "Plane 3, 91.0 seconds\n",
      "Saving plane 2: 98.0 seconds\n",
      "Plane 4, 98.0 seconds\n",
      "Saving plane 3: 106.0 seconds\n",
      "Plane 5, 106.0 seconds\n",
      "Saving plane 4: 113.0 seconds\n",
      "Plane 6, 114.0 seconds\n",
      "Saving plane 5: 121.0 seconds\n",
      "Plane 7, 122.0 seconds\n",
      "Saving plane 6: 129.0 seconds\n",
      "Plane 8, 129.0 seconds\n",
      "Saving plane 7: 136.0 seconds\n",
      "Plane 9, 137.0 seconds\n",
      "Saving plane 8: 144.0 seconds\n",
      "Plane 10, 144.0 seconds\n",
      "Saving plane 9: 152.0 seconds\n",
      "Filtering Car4 images: 152.0 seconds\n",
      "Plane 1, 152.0 seconds\n",
      "Saving plane 0: 160.0 seconds\n",
      "Plane 2, 160.0 seconds\n",
      "Saving plane 1: 168.0 seconds\n",
      "Plane 3, 168.0 seconds\n",
      "Saving plane 2: 176.0 seconds\n",
      "Plane 4, 176.0 seconds\n",
      "Saving plane 3: 184.0 seconds\n",
      "Plane 5, 184.0 seconds\n",
      "Saving plane 4: 192.0 seconds\n",
      "Plane 6, 192.0 seconds\n",
      "Saving plane 5: 199.0 seconds\n",
      "Plane 7, 200.0 seconds\n",
      "Saving plane 6: 208.0 seconds\n",
      "Plane 8, 208.0 seconds\n",
      "Saving plane 7: 215.0 seconds\n",
      "Plane 9, 216.0 seconds\n",
      "Saving plane 8: 224.0 seconds\n",
      "Plane 10, 224.0 seconds\n",
      "Saving plane 9: 232.0 seconds\n",
      "Filtering Npy2r images: 232.0 seconds\n",
      "Plane 1, 232.0 seconds\n",
      "Saving plane 0: 240.0 seconds\n",
      "Plane 2, 240.0 seconds\n",
      "Saving plane 1: 248.0 seconds\n",
      "Plane 3, 248.0 seconds\n",
      "Saving plane 2: 256.0 seconds\n",
      "Plane 4, 256.0 seconds\n",
      "Saving plane 3: 263.0 seconds\n",
      "Plane 5, 264.0 seconds\n",
      "Saving plane 4: 271.0 seconds\n",
      "Plane 6, 272.0 seconds\n",
      "Saving plane 5: 279.0 seconds\n",
      "Plane 7, 280.0 seconds\n",
      "Saving plane 6: 287.0 seconds\n",
      "Plane 8, 288.0 seconds\n",
      "Saving plane 7: 295.0 seconds\n",
      "Plane 9, 296.0 seconds\n",
      "Saving plane 8: 303.0 seconds\n",
      "Plane 10, 304.0 seconds\n",
      "Saving plane 9: 311.0 seconds\n"
     ]
    }
   ],
   "source": [
    "# Filter images - 5.5 min\n",
    "cell_filt_values, bg_filt_values, annotated_lipo_filt_values = filter_lipo.filter(data_path, metadata_file, \n",
    "                                                                                  thresh_scale = 1,\n",
    "                                                                                  save_tiffs = True)\n",
    "\n"
   ]
  },
  {
   "cell_type": "code",
   "execution_count": 316,
   "metadata": {
    "ExecuteTime": {
     "end_time": "2020-04-03T16:00:25.453070Z",
     "start_time": "2020-04-03T16:00:14.634070Z"
    },
    "hidden": true
   },
   "outputs": [],
   "source": [
    "# Get mahalanobis distance from lipofuscin pixels\n",
    "m_dist_cells, m_dist_bg, m_dist_lipo = detect.get_m_dist(data_path, metadata_file)"
   ]
  },
  {
   "cell_type": "code",
   "execution_count": 317,
   "metadata": {
    "ExecuteTime": {
     "end_time": "2020-04-03T16:00:31.452070Z",
     "start_time": "2020-04-03T16:00:30.592070Z"
    },
    "hidden": true
   },
   "outputs": [
    {
     "data": {
      "text/plain": [
       "(array([15., 31., 31., 25., 25., 39., 37., 32., 40., 19., 18., 19., 15.,\n",
       "        28., 11.,  2.,  4.,  5.,  2.,  2.]),\n",
       " array([0.80112232, 0.94928444, 1.09744656, 1.24560868, 1.3937708 ,\n",
       "        1.54193292, 1.69009504, 1.83825716, 1.98641928, 2.1345814 ,\n",
       "        2.28274352, 2.43090564, 2.57906776, 2.72722988, 2.875392  ,\n",
       "        3.02355412, 3.17171624, 3.31987836, 3.46804048, 3.6162026 ,\n",
       "        3.76436472]),\n",
       " <a list of 20 Patch objects>)"
      ]
     },
     "execution_count": 317,
     "metadata": {},
     "output_type": "execute_result"
    },
    {
     "data": {
      "image/png": "[encoded data removed]",
      "text/plain": [
       "<Figure size 432x288 with 1 Axes>"
      ]
     },
     "metadata": {
      "needs_background": "light"
     },
     "output_type": "display_data"
    }
   ],
   "source": [
    "cell = 95\n",
    "plane = cell_data[cell]['z_planes'][0]\n",
    "\n",
    "plt.figure()\n",
    "plt.hist(m_dist_cells[cell][plane], 100)\n",
    "plt.hist(m_dist_bg[cell][plane], 500)\n",
    "plt.hist(m_dist_lipo, 20)"
   ]
  },
  {
   "cell_type": "code",
   "execution_count": 318,
   "metadata": {
    "ExecuteTime": {
     "end_time": "2020-04-03T16:00:45.671070Z",
     "start_time": "2020-04-03T16:00:44.760070Z"
    },
    "hidden": true
   },
   "outputs": [],
   "source": [
    "cell_pixels_no_lipo, bg_pixels_no_lipo = detect.get_lipo(data_path, metadata_file, thresh_scale = 1.5)"
   ]
  },
  {
   "cell_type": "markdown",
   "metadata": {
    "heading_collapsed": true
   },
   "source": [
    "# Measure expression"
   ]
  },
  {
   "cell_type": "code",
   "execution_count": 320,
   "metadata": {
    "ExecuteTime": {
     "end_time": "2020-04-03T16:04:42.791070Z",
     "start_time": "2020-04-03T16:01:31.418070Z"
    },
    "hidden": true,
    "scrolled": true
   },
   "outputs": [
    {
     "name": "stdout",
     "output_type": "stream",
     "text": [
      "Filtering Vip images: 0.0 seconds\n",
      "Plane 1, 0.0 seconds\n",
      "Saving plane 0: 4.0 seconds\n"
     ]
    },
    {
     "name": "stderr",
     "output_type": "stream",
     "text": [
      "C:\\Users\\singha\\AppData\\Local\\Continuum\\anaconda3\\envs\\fish\\lib\\site-packages\\numpy\\core\\fromnumeric.py:3335: RuntimeWarning: Mean of empty slice.\n",
      "  out=out, **kwargs)\n",
      "C:\\Users\\singha\\AppData\\Local\\Continuum\\anaconda3\\envs\\fish\\lib\\site-packages\\numpy\\core\\_methods.py:161: RuntimeWarning: invalid value encountered in double_scalars\n",
      "  ret = ret.dtype.type(ret / rcount)\n"
     ]
    },
    {
     "name": "stdout",
     "output_type": "stream",
     "text": [
      "Plane 2, 5.0 seconds\n",
      "Saving plane 1: 9.0 seconds\n",
      "Plane 3, 9.0 seconds\n",
      "Saving plane 2: 13.0 seconds\n",
      "Plane 4, 13.0 seconds\n",
      "Saving plane 3: 18.0 seconds\n",
      "Plane 5, 18.0 seconds\n",
      "Saving plane 4: 24.0 seconds\n",
      "Plane 6, 24.0 seconds\n",
      "Saving plane 5: 28.0 seconds\n",
      "Plane 7, 29.0 seconds\n",
      "Saving plane 6: 33.0 seconds\n",
      "Cell 95 plane 6: all pixels excluded\n",
      "Plane 8, 33.0 seconds\n",
      "Saving plane 7: 37.0 seconds\n",
      "Cell 95 plane 7: all pixels excluded\n",
      "Cell 107 plane 7: all pixels excluded\n",
      "Plane 9, 37.0 seconds\n",
      "Saving plane 8: 41.0 seconds\n",
      "Cell 107 plane 8: all pixels excluded\n",
      "Plane 10, 42.0 seconds\n",
      "Saving plane 9: 46.0 seconds\n",
      "Filtering Tac2 images: 46.0 seconds\n",
      "Plane 1, 46.0 seconds\n",
      "Saving plane 0: 50.0 seconds\n",
      "Plane 2, 51.0 seconds\n",
      "Saving plane 1: 55.0 seconds\n",
      "Plane 3, 55.0 seconds\n",
      "Saving plane 2: 59.0 seconds\n",
      "Plane 4, 60.0 seconds\n",
      "Saving plane 3: 64.0 seconds\n",
      "Plane 5, 64.0 seconds\n",
      "Saving plane 4: 68.0 seconds\n",
      "Plane 6, 69.0 seconds\n",
      "Saving plane 5: 73.0 seconds\n",
      "Plane 7, 73.0 seconds\n",
      "Saving plane 6: 78.0 seconds\n",
      "Cell 95 plane 6: all pixels excluded\n",
      "Plane 8, 78.0 seconds\n",
      "Saving plane 7: 83.0 seconds\n",
      "Cell 95 plane 7: all pixels excluded\n",
      "Cell 107 plane 7: all pixels excluded\n",
      "Plane 9, 83.0 seconds\n",
      "Saving plane 8: 88.0 seconds\n",
      "Cell 107 plane 8: all pixels excluded\n",
      "Plane 10, 88.0 seconds\n",
      "Saving plane 9: 92.0 seconds\n",
      "Filtering Car4 images: 93.0 seconds\n",
      "Plane 1, 93.0 seconds\n",
      "Saving plane 0: 97.0 seconds\n",
      "Plane 2, 97.0 seconds\n",
      "Saving plane 1: 103.0 seconds\n",
      "Plane 3, 103.0 seconds\n",
      "Saving plane 2: 108.0 seconds\n",
      "Plane 4, 109.0 seconds\n",
      "Saving plane 3: 114.0 seconds\n",
      "Plane 5, 114.0 seconds\n",
      "Saving plane 4: 119.0 seconds\n",
      "Plane 6, 119.0 seconds\n",
      "Saving plane 5: 123.0 seconds\n",
      "Plane 7, 124.0 seconds\n",
      "Saving plane 6: 128.0 seconds\n",
      "Cell 95 plane 6: all pixels excluded\n",
      "Plane 8, 128.0 seconds\n",
      "Saving plane 7: 133.0 seconds\n",
      "Cell 95 plane 7: all pixels excluded\n",
      "Cell 107 plane 7: all pixels excluded\n",
      "Plane 9, 133.0 seconds\n",
      "Saving plane 8: 138.0 seconds\n",
      "Cell 107 plane 8: all pixels excluded\n",
      "Plane 10, 138.0 seconds\n",
      "Saving plane 9: 143.0 seconds\n",
      "Filtering Npy2r images: 143.0 seconds\n",
      "Plane 1, 143.0 seconds\n",
      "Saving plane 0: 147.0 seconds\n",
      "Plane 2, 148.0 seconds\n",
      "Saving plane 1: 152.0 seconds\n",
      "Plane 3, 152.0 seconds\n",
      "Saving plane 2: 157.0 seconds\n",
      "Plane 4, 157.0 seconds\n",
      "Saving plane 3: 162.0 seconds\n",
      "Plane 5, 162.0 seconds\n",
      "Saving plane 4: 166.0 seconds\n",
      "Plane 6, 167.0 seconds\n",
      "Saving plane 5: 172.0 seconds\n",
      "Plane 7, 172.0 seconds\n",
      "Saving plane 6: 177.0 seconds\n",
      "Cell 95 plane 6: all pixels excluded\n",
      "Plane 8, 177.0 seconds\n",
      "Saving plane 7: 181.0 seconds\n",
      "Cell 95 plane 7: all pixels excluded\n",
      "Cell 107 plane 7: all pixels excluded\n",
      "Plane 9, 182.0 seconds\n",
      "Saving plane 8: 186.0 seconds\n",
      "Cell 107 plane 8: all pixels excluded\n",
      "Plane 10, 186.0 seconds\n",
      "Saving plane 9: 191.0 seconds\n"
     ]
    }
   ],
   "source": [
    "# Filter images and calculate signal (2.5 min)\n",
    "signal_raw, signal_filt, bg_raw, bg_filt = signal_and_bg.get_signal_and_bg(data_path, metadata_file, save_tiffs = True)\n"
   ]
  },
  {
   "cell_type": "code",
   "execution_count": 321,
   "metadata": {
    "ExecuteTime": {
     "end_time": "2020-04-03T16:05:05.843070Z",
     "start_time": "2020-04-03T16:05:04.765070Z"
    },
    "hidden": true
   },
   "outputs": [
    {
     "data": {
      "image/png": "[encoded data removed]",
      "text/plain": [
       "<Figure size 1440x1080 with 8 Axes>"
      ]
     },
     "metadata": {
      "needs_background": "light"
     },
     "output_type": "display_data"
    }
   ],
   "source": [
    "# Plot signal\n",
    "scatter_plots.signal_vs_depth(data_path, metadata_file)"
   ]
  },
  {
   "cell_type": "markdown",
   "metadata": {
    "heading_collapsed": true
   },
   "source": [
    "# Cell depths"
   ]
  },
  {
   "cell_type": "code",
   "execution_count": 204,
   "metadata": {
    "ExecuteTime": {
     "end_time": "2020-04-03T12:24:26.093643Z",
     "start_time": "2020-04-03T12:24:25.967643Z"
    },
    "hidden": true
   },
   "outputs": [],
   "source": [
    "# Draw surface of cortex\n",
    "surface_layer = get_depths.draw_surface(data_path, metadata_file, viewer)"
   ]
  },
  {
   "cell_type": "code",
   "execution_count": 262,
   "metadata": {
    "ExecuteTime": {
     "end_time": "2020-04-03T13:03:31.162448Z",
     "start_time": "2020-04-03T13:03:30.967448Z"
    },
    "hidden": true
   },
   "outputs": [
    {
     "data": {
      "text/plain": [
       "Text(0, 0.5, '# cells')"
      ]
     },
     "execution_count": 262,
     "metadata": {},
     "output_type": "execute_result"
    },
    {
     "data": {
      "image/png": "[encoded data removed]",
      "text/plain": [
       "<Figure size 432x288 with 1 Axes>"
      ]
     },
     "metadata": {
      "needs_background": "light"
     },
     "output_type": "display_data"
    }
   ],
   "source": [
    "# Calculate depths\n",
    "depths = get_depths.get_depths(data_path, metadata_file, surface_layer)\n",
    "plt.figure()\n",
    "plt.hist(depths, 20)\n",
    "plt.xlabel('Depth (um)')\n",
    "plt.ylabel('# cells')"
   ]
  },
  {
   "cell_type": "markdown",
   "metadata": {},
   "source": [
    "# Classification"
   ]
  },
  {
   "cell_type": "code",
   "execution_count": 335,
   "metadata": {
    "ExecuteTime": {
     "end_time": "2020-04-03T16:11:58.122870Z",
     "start_time": "2020-04-03T16:11:56.383270Z"
    },
    "scrolled": true
   },
   "outputs": [
    {
     "name": "stdout",
     "output_type": "stream",
     "text": [
      "Loading Vip images: 0.0 seconds\n"
     ]
    },
    {
     "ename": "IndexError",
     "evalue": "index 0 is out of bounds for axis 0 with size 0",
     "output_type": "error",
     "traceback": [
      "\u001b[1;31m---------------------------------------------------------------------------\u001b[0m",
      "\u001b[1;31mIndexError\u001b[0m                                Traceback (most recent call last)",
      "\u001b[1;32m<ipython-input-335-06faef6dfeab>\u001b[0m in \u001b[0;36m<module>\u001b[1;34m\u001b[0m\n\u001b[1;32m----> 1\u001b[1;33m \u001b[0mbs_raw\u001b[0m\u001b[1;33m,\u001b[0m \u001b[0mbs_filt\u001b[0m \u001b[1;33m=\u001b[0m \u001b[0mget_labels\u001b[0m\u001b[1;33m.\u001b[0m\u001b[0mget_bootstrap\u001b[0m\u001b[1;33m(\u001b[0m\u001b[0mdata_path\u001b[0m\u001b[1;33m,\u001b[0m \u001b[0mmetadata_file\u001b[0m\u001b[1;33m)\u001b[0m\u001b[1;33m\u001b[0m\u001b[1;33m\u001b[0m\u001b[0m\n\u001b[0m",
      "\u001b[1;32mG:\\Shared drives\\as_share\\HCR\\FISH Image Analysis\\classification\\get_labels.py\u001b[0m in \u001b[0;36mget_bootstrap\u001b[1;34m(data_path, metadata_file, genes, n_sample)\u001b[0m\n\u001b[0;32m     77\u001b[0m \u001b[1;33m\u001b[0m\u001b[0m\n\u001b[0;32m     78\u001b[0m                     \u001b[1;32mfor\u001b[0m \u001b[0ms\u001b[0m \u001b[1;32min\u001b[0m \u001b[0mrange\u001b[0m\u001b[1;33m(\u001b[0m\u001b[0mn_sample\u001b[0m\u001b[1;33m)\u001b[0m\u001b[1;33m:\u001b[0m\u001b[1;33m\u001b[0m\u001b[1;33m\u001b[0m\u001b[0m\n\u001b[1;32m---> 79\u001b[1;33m                         \u001b[0mx\u001b[0m \u001b[1;33m=\u001b[0m \u001b[0mbg_px\u001b[0m\u001b[1;33m[\u001b[0m\u001b[1;36m0\u001b[0m\u001b[1;33m,\u001b[0m \u001b[0msamples\u001b[0m\u001b[1;33m[\u001b[0m\u001b[1;33m:\u001b[0m\u001b[1;33m,\u001b[0m \u001b[0ms\u001b[0m\u001b[1;33m]\u001b[0m\u001b[1;33m]\u001b[0m\u001b[1;33m\u001b[0m\u001b[1;33m\u001b[0m\u001b[0m\n\u001b[0m\u001b[0;32m     80\u001b[0m                         \u001b[0my\u001b[0m \u001b[1;33m=\u001b[0m \u001b[0mbg_px\u001b[0m\u001b[1;33m[\u001b[0m\u001b[1;36m1\u001b[0m\u001b[1;33m,\u001b[0m \u001b[0msamples\u001b[0m\u001b[1;33m[\u001b[0m\u001b[1;33m:\u001b[0m\u001b[1;33m,\u001b[0m \u001b[0ms\u001b[0m\u001b[1;33m]\u001b[0m\u001b[1;33m]\u001b[0m\u001b[1;33m\u001b[0m\u001b[1;33m\u001b[0m\u001b[0m\n\u001b[0;32m     81\u001b[0m \u001b[1;33m\u001b[0m\u001b[0m\n",
      "\u001b[1;31mIndexError\u001b[0m: index 0 is out of bounds for axis 0 with size 0"
     ]
    }
   ],
   "source": [
    "bs_raw, bs_filt = get_labels.get_bootstrap(data_path, metadata_file)"
   ]
  },
  {
   "cell_type": "markdown",
   "metadata": {},
   "source": [
    "# View images of cells"
   ]
  },
  {
   "cell_type": "code",
   "execution_count": null,
   "metadata": {},
   "outputs": [],
   "source": []
  },
  {
   "cell_type": "markdown",
   "metadata": {},
   "source": [
    "# Reload modules"
   ]
  },
  {
   "cell_type": "code",
   "execution_count": 345,
   "metadata": {
    "ExecuteTime": {
     "end_time": "2020-04-03T16:34:53.916073Z",
     "start_time": "2020-04-03T16:34:53.709073Z"
    }
   },
   "outputs": [
    {
     "data": {
      "text/plain": [
       "<module 'utils.find_threshold' from 'G:\\\\Shared drives\\\\as_share\\\\HCR\\\\FISH Image Analysis\\\\utils\\\\find_threshold.py'>"
      ]
     },
     "execution_count": 345,
     "metadata": {},
     "output_type": "execute_result"
    }
   ],
   "source": [
    "# Ideally, modules should be auto-reloaded \n",
    "\n",
    "importlib.reload(get_metadata)\n",
    "\n",
    "# Segmentation\n",
    "importlib.reload(get_masks)\n",
    "importlib.reload(get_background)\n",
    "\n",
    "# Lipofuscin\n",
    "importlib.reload(annotated_lipo_rois)\n",
    "importlib.reload(filter_lipo)\n",
    "importlib.reload(detect)\n",
    "\n",
    "# Plotting\n",
    "importlib.reload(napari_rendering)\n",
    "importlib.reload(scatter_plots)\n",
    "importlib.reload(view_all_cells)\n",
    "\n",
    "# Expression\n",
    "importlib.reload(signal_and_bg)\n",
    "\n",
    "# Classification\n",
    "importlib.reload(get_labels)\n",
    "\n",
    "# Cell depths\n",
    "importlib.reload(get_depths)\n",
    "\n",
    "# Utils\n",
    "importlib.reload(diff_gauss)\n",
    "importlib.reload(find_threshold)"
   ]
  },
  {
   "cell_type": "markdown",
   "metadata": {},
   "source": [
    "# Debugging"
   ]
  },
  {
   "cell_type": "code",
   "execution_count": null,
   "metadata": {},
   "outputs": [],
   "source": []
  }
 ],
 "metadata": {
  "celltoolbar": "Initialization Cell",
  "kernelspec": {
   "display_name": "fish",
   "language": "python",
   "name": "fish"
  },
  "language_info": {
   "codemirror_mode": {
    "name": "ipython",
    "version": 3
   },
   "file_extension": ".py",
   "mimetype": "text/x-python",
   "name": "python",
   "nbconvert_exporter": "python",
   "pygments_lexer": "ipython3",
   "version": "3.7.6"
  },
  "toc": {
   "nav_menu": {},
   "number_sections": true,
   "sideBar": true,
   "skip_h1_title": false,
   "toc_cell": false,
   "toc_position": {},
   "toc_section_display": "block",
   "toc_window_display": true
  },
  "varInspector": {
   "cols": {
    "lenName": 16,
    "lenType": 16,
    "lenVar": 40
   },
   "kernels_config": {
    "python": {
     "delete_cmd_postfix": "",
     "delete_cmd_prefix": "del ",
     "library": "var_list.py",
     "varRefreshCmd": "print(var_dic_list())"
    },
    "r": {
     "delete_cmd_postfix": ") ",
     "delete_cmd_prefix": "rm(",
     "library": "var_list.r",
     "varRefreshCmd": "cat(var_dic_list()) "
    }
   },
   "oldHeight": 613.666666,
   "position": {
    "height": "40px",
    "left": "1366px",
    "right": "20px",
    "top": "122px",
    "width": "309px"
   },
   "types_to_exclude": [
    "module",
    "function",
    "builtin_function_or_method",
    "instance",
    "_Feature"
   ],
   "varInspector_section_display": "none",
   "window_display": true
  }
 },
 "nbformat": 4,
 "nbformat_minor": 2
}
