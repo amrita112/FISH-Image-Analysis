{
 "cells": [
  {
   "cell_type": "markdown",
   "metadata": {},
   "source": [
    "Sample ID: HCR 3.12 S3  \n",
    "Section: 200um coronal section from ALM  \n",
    "Mouse: ANM471122 C57BI/6NCrl, sex M, DOB 10/21/2019  \n",
    "Genes labelled: Vip (514 channel), Tac2 (546 channel), Npy2r (594 channel), Car4 (647 channel)  \n",
    "Microscope: Zeiss 880 (regular confocal mode)  \n",
    "Objective: 40X oil immersion "
   ]
  },
  {
   "cell_type": "markdown",
   "metadata": {},
   "source": [
    "# Setup"
   ]
  },
  {
   "cell_type": "markdown",
   "metadata": {},
   "source": [
    "## Imports"
   ]
  },
  {
   "cell_type": "code",
   "execution_count": 4,
   "metadata": {
    "ExecuteTime": {
     "end_time": "2020-04-03T16:35:26.722673Z",
     "start_time": "2020-04-03T16:35:26.703673Z"
    },
    "init_cell": true,
    "run_control": {
     "marked": true
    },
    "scrolled": true
   },
   "outputs": [
    {
     "name": "stdout",
     "output_type": "stream",
     "text": [
      "The autoreload extension is already loaded. To reload it, use:\n",
      "  %reload_ext autoreload\n"
     ]
    }
   ],
   "source": [
    "%matplotlib inline    \n",
    "\n",
    "# Create a Qt event loop for napari\n",
    "from IPython import get_ipython\n",
    "ipython = get_ipython()\n",
    "ipython.magic(\"gui qt5\")             \n",
    "\n",
    "import napari\n",
    "from PIL import Image\n",
    "\n",
    "import numpy as np\n",
    "import cv2\n",
    "\n",
    "import matplotlib.pyplot as plt\n",
    "\n",
    "import time\n",
    "\n",
    "from os.path import sep\n",
    "import pickle as pkl\n",
    "import importlib\n",
    "\n",
    "# Local modules\n",
    "\n",
    "import get_metadata\n",
    "\n",
    "from utils import diff_gauss\n",
    "from utils import find_threshold\n",
    "\n",
    "from segmentation import get_masks\n",
    "from segmentation import get_background\n",
    "\n",
    "from plotting import napari_rendering\n",
    "from plotting import scatter_plots\n",
    "\n",
    "from lipofuscin import annotated_lipo_rois\n",
    "from lipofuscin import filter_lipo\n",
    "from lipofuscin import detect\n",
    "\n",
    "from expression import signal_and_bg\n",
    "\n",
    "from classification import get_labels\n",
    "\n",
    "from cell_depths import get_depths\n",
    "\n",
    "# Enable autoreload of local modules\n",
    "%load_ext autoreload\n",
    "%autoreload 2        # Autoreload all modules except those excluded using %aimport\n",
    "%aimport napari, PIL.Image, numpy, cv2, matplotlib.pyplot, time, importlib \n"
   ]
  },
  {
   "cell_type": "code",
   "execution_count": null,
   "metadata": {},
   "outputs": [],
   "source": [
    "# Reload local modules \n",
    "# Ideally, modules should be auto-reloaded \n",
    "\n",
    "importlib.reload(get_metadata)\n",
    "\n",
    "# Segmentation\n",
    "importlib.reload(get_masks)\n",
    "importlib.reload(get_background)\n",
    "\n",
    "# Lipofuscin\n",
    "importlib.reload(annotated_lipo_rois)\n",
    "importlib.reload(filter_lipo)\n",
    "importlib.reload(detect)\n",
    "\n",
    "# Plotting\n",
    "importlib.reload(napari_rendering)\n",
    "importlib.reload(scatter_plots)\n",
    "\n",
    "# Expression\n",
    "importlib.reload(signal_and_bg)\n",
    "\n",
    "# Classification\n",
    "importlib.reload(get_labels)\n",
    "\n",
    "# Cell depths\n",
    "importlib.reload(get_depths)\n",
    "\n",
    "# Utils\n",
    "importlib.reload(diff_gauss)\n",
    "importlib.reload(find_threshold)"
   ]
  },
  {
   "cell_type": "markdown",
   "metadata": {
    "heading_collapsed": true
   },
   "source": [
    "## Specify data path"
   ]
  },
  {
   "cell_type": "code",
   "execution_count": 5,
   "metadata": {
    "ExecuteTime": {
     "end_time": "2020-04-03T16:35:34.177473Z",
     "start_time": "2020-04-03T16:35:34.174473Z"
    },
    "hidden": true,
    "init_cell": true
   },
   "outputs": [],
   "source": [
    "data_path = 'G:\\\\Shared drives\\\\as_share\\\\HCR\\\\HCR 3.12\\\\S3'\n",
    "metadata_file = 'metadata.pkl'"
   ]
  },
  {
   "cell_type": "markdown",
   "metadata": {},
   "source": [
    "## Metadata"
   ]
  },
  {
   "cell_type": "code",
   "execution_count": 83,
   "metadata": {
    "ExecuteTime": {
     "end_time": "2020-04-03T17:58:53.003279Z",
     "start_time": "2020-04-03T17:58:52.853879Z"
    },
    "init_cell": true
   },
   "outputs": [
    {
     "name": "stdout",
     "output_type": "stream",
     "text": [
      "Number of planes: 10\n"
     ]
    }
   ],
   "source": [
    "um_per_px = 0.13\n",
    "\n",
    "raw_image_path = '{0}{1}S3_raw_tiff_images'.format(data_path, sep)\n",
    "seg_image_path = '{0}{1}S5_blurred_tiff_images'.format(data_path, sep)\n",
    "plots_path = '{0}{1}Plots'.format(data_path, sep)\n",
    "filt_image_path = '{0}{1}Filtered_tiff_images'.format(data_path, sep)\n",
    "\n",
    "plane_nos = range(1, 11)\n",
    "base_filename = 'S3_DAPI_546_647_514_594_2020_03_16__00_43_13_z'\n",
    "genes = ['Vip', 'Tac2', 'Car4', 'Npy2r']\n",
    "channel_names = {'Vip': '_ChS1-T3_ORG',\n",
    "                 'Tac2': '_ChS2-T1_ORG',\n",
    "                 'Npy2r': '_ChS2-T3_ORG',\n",
    "                 'Car4': '_ChS2-T2_ORG'}\n",
    "n_planes = len(plane_nos)\n",
    "print('Number of planes: {0}'.format(n_planes))\n",
    "\n",
    "# Create 4D array to store images\n",
    "img = Image.open('{0}{1}{2}{3}{4}.tif'.format(raw_image_path, sep, base_filename, str(plane_nos[0]).zfill(2),\n",
    "                                             channel_names[genes[0]]))\n",
    "\n",
    "h = img.height\n",
    "w = img.width\n",
    "\n",
    "metadata = get_metadata.get_metadata(data_path, metadata_file, um_per_px, raw_image_path, seg_image_path, plots_path,\n",
    "                                    filt_image_path, plane_nos, base_filename, genes, channel_names, n_planes, h, w)\n",
    "\n"
   ]
  },
  {
   "cell_type": "markdown",
   "metadata": {
    "heading_collapsed": true
   },
   "source": [
    "# Napari rendering"
   ]
  },
  {
   "cell_type": "code",
   "execution_count": 92,
   "metadata": {
    "ExecuteTime": {
     "end_time": "2020-04-03T18:15:37.595881Z",
     "start_time": "2020-04-03T18:15:37.324881Z"
    },
    "hidden": true
   },
   "outputs": [],
   "source": [
    "# Create viewer\n",
    "viewer = napari_rendering.create_viewer()"
   ]
  },
  {
   "cell_type": "markdown",
   "metadata": {
    "hidden": true
   },
   "source": [
    "##### Images"
   ]
  },
  {
   "cell_type": "code",
   "execution_count": 93,
   "metadata": {
    "ExecuteTime": {
     "end_time": "2020-04-03T18:17:18.038082Z",
     "start_time": "2020-04-03T18:15:48.040481Z"
    },
    "hidden": true
   },
   "outputs": [
    {
     "name": "stdout",
     "output_type": "stream",
     "text": [
      "Loading Vip images: 0.0 seconds\n",
      "     Plane 1, 0.0 seconds\n"
     ]
    },
    {
     "name": "stderr",
     "output_type": "stream",
     "text": [
      "C:\\Users\\singha\\AppData\\Local\\Continuum\\anaconda3\\envs\\fish\\lib\\site-packages\\PIL\\Image.py:2766: DecompressionBombWarning: Image size (134858363 pixels) exceeds limit of 89478485 pixels, could be decompression bomb DOS attack.\n",
      "  DecompressionBombWarning,\n"
     ]
    },
    {
     "name": "stdout",
     "output_type": "stream",
     "text": [
      "     Plane 2, 3.0 seconds\n",
      "     Plane 3, 6.0 seconds\n",
      "     Plane 4, 9.0 seconds\n",
      "     Plane 5, 12.0 seconds\n",
      "     Plane 6, 15.0 seconds\n",
      "     Plane 7, 18.0 seconds\n",
      "Loading Tac2 images: 25.0 seconds\n",
      "     Plane 1, 25.0 seconds\n"
     ]
    },
    {
     "name": "stderr",
     "output_type": "stream",
     "text": [
      "C:\\Users\\singha\\AppData\\Local\\Continuum\\anaconda3\\envs\\fish\\lib\\site-packages\\PIL\\Image.py:2766: DecompressionBombWarning: Image size (134858363 pixels) exceeds limit of 89478485 pixels, could be decompression bomb DOS attack.\n",
      "  DecompressionBombWarning,\n"
     ]
    },
    {
     "name": "stdout",
     "output_type": "stream",
     "text": [
      "     Plane 2, 27.0 seconds\n",
      "     Plane 3, 30.0 seconds\n",
      "     Plane 4, 33.0 seconds\n",
      "     Plane 5, 35.0 seconds\n",
      "     Plane 6, 37.0 seconds\n",
      "     Plane 7, 40.0 seconds\n",
      "Loading Car4 images: 46.0 seconds\n",
      "     Plane 1, 46.0 seconds\n"
     ]
    },
    {
     "name": "stderr",
     "output_type": "stream",
     "text": [
      "C:\\Users\\singha\\AppData\\Local\\Continuum\\anaconda3\\envs\\fish\\lib\\site-packages\\PIL\\Image.py:2766: DecompressionBombWarning: Image size (134858363 pixels) exceeds limit of 89478485 pixels, could be decompression bomb DOS attack.\n",
      "  DecompressionBombWarning,\n"
     ]
    },
    {
     "name": "stdout",
     "output_type": "stream",
     "text": [
      "     Plane 2, 49.0 seconds\n",
      "     Plane 3, 51.0 seconds\n",
      "     Plane 4, 54.0 seconds\n",
      "     Plane 5, 57.0 seconds\n",
      "     Plane 6, 59.0 seconds\n",
      "     Plane 7, 62.0 seconds\n",
      "Loading Npy2r images: 68.0 seconds\n",
      "     Plane 1, 68.0 seconds\n"
     ]
    },
    {
     "name": "stderr",
     "output_type": "stream",
     "text": [
      "C:\\Users\\singha\\AppData\\Local\\Continuum\\anaconda3\\envs\\fish\\lib\\site-packages\\PIL\\Image.py:2766: DecompressionBombWarning: Image size (134858363 pixels) exceeds limit of 89478485 pixels, could be decompression bomb DOS attack.\n",
      "  DecompressionBombWarning,\n"
     ]
    },
    {
     "name": "stdout",
     "output_type": "stream",
     "text": [
      "     Plane 2, 71.0 seconds\n",
      "     Plane 3, 73.0 seconds\n",
      "     Plane 4, 76.0 seconds\n",
      "     Plane 5, 79.0 seconds\n",
      "     Plane 6, 81.0 seconds\n",
      "     Plane 7, 84.0 seconds\n"
     ]
    }
   ],
   "source": [
    "# Raw images\n",
    "napari_rendering.images(data_path, metadata_file, viewer, planes = [0, 1, 2, 3, 4, 5, 6])"
   ]
  },
  {
   "cell_type": "code",
   "execution_count": 86,
   "metadata": {
    "ExecuteTime": {
     "end_time": "2020-04-03T03:12:14.702154Z",
     "start_time": "2020-04-03T03:12:01.774154Z"
    },
    "hidden": true
   },
   "outputs": [
    {
     "name": "stdout",
     "output_type": "stream",
     "text": [
      "Loading Vip images: 0.0 seconds\n",
      "     Plane 1, 0.0 seconds\n",
      "     Plane 2, 1.0 seconds\n",
      "Loading Tac2 images: 3.0 seconds\n",
      "     Plane 1, 3.0 seconds\n",
      "     Plane 2, 4.0 seconds\n",
      "Loading Car4 images: 7.0 seconds\n",
      "     Plane 1, 7.0 seconds\n",
      "     Plane 2, 8.0 seconds\n",
      "Loading Npy2r images: 10.0 seconds\n",
      "     Plane 1, 10.0 seconds\n",
      "     Plane 2, 11.0 seconds\n"
     ]
    }
   ],
   "source": [
    "# Filtered images\n",
    "napari_rendering.filt_images(data_path, metadata_file, viewer, planes = [0, 1], image_type = 'filt')"
   ]
  },
  {
   "cell_type": "markdown",
   "metadata": {
    "hidden": true
   },
   "source": [
    "##### Cell masks"
   ]
  },
  {
   "cell_type": "code",
   "execution_count": 94,
   "metadata": {
    "ExecuteTime": {
     "end_time": "2020-04-03T18:20:10.202282Z",
     "start_time": "2020-04-03T18:20:06.510482Z"
    },
    "hidden": true
   },
   "outputs": [
    {
     "name": "stdout",
     "output_type": "stream",
     "text": [
      "Cell 10\n",
      "Cell 20\n",
      "Cell 20\n",
      "Cell 30\n",
      "Cell 30\n",
      "Cell 40\n",
      "Cell 50\n",
      "Cell 30\n",
      "Cell 40\n",
      "Cell 50\n",
      "Cell 60\n",
      "Cell 50\n",
      "Cell 80\n",
      "Cell 70\n",
      "Cell 80\n",
      "Cell 90\n"
     ]
    }
   ],
   "source": [
    "napari_rendering.cell_masks(data_path, metadata_file, viewer, planes = [0, 1, 2, 3, 4, 5, 6])"
   ]
  },
  {
   "cell_type": "markdown",
   "metadata": {
    "hidden": true
   },
   "source": [
    "##### Annotated lipofuscin rois"
   ]
  },
  {
   "cell_type": "code",
   "execution_count": 62,
   "metadata": {
    "ExecuteTime": {
     "end_time": "2020-04-02T23:15:25.063322Z",
     "start_time": "2020-04-02T23:15:24.903122Z"
    },
    "hidden": true
   },
   "outputs": [
    {
     "name": "stdout",
     "output_type": "stream",
     "text": [
      "No lipofuscin rois in the specified planes\n"
     ]
    }
   ],
   "source": [
    "napari_rendering.lipo_rois(data_path, metadata_file, viewer, planes = [0, 1])"
   ]
  },
  {
   "cell_type": "markdown",
   "metadata": {
    "hidden": true
   },
   "source": [
    "##### Masks with lipofuscin exluded"
   ]
  },
  {
   "cell_type": "code",
   "execution_count": 181,
   "metadata": {
    "ExecuteTime": {
     "end_time": "2020-04-03T04:43:19.154967Z",
     "start_time": "2020-04-03T04:43:17.855967Z"
    },
    "hidden": true
   },
   "outputs": [],
   "source": [
    "napari_rendering.no_lipo_masks(data_path, metadata_file, viewer, planes = [0, 1])"
   ]
  },
  {
   "cell_type": "markdown",
   "metadata": {
    "heading_collapsed": true
   },
   "source": [
    "# Segmentation"
   ]
  },
  {
   "cell_type": "markdown",
   "metadata": {
    "heading_collapsed": true,
    "hidden": true
   },
   "source": [
    "## Get cell pixels"
   ]
  },
  {
   "cell_type": "code",
   "execution_count": 34,
   "metadata": {
    "ExecuteTime": {
     "end_time": "2020-04-03T16:46:18.631674Z",
     "start_time": "2020-04-03T16:46:18.436074Z"
    },
    "hidden": true,
    "scrolled": true
   },
   "outputs": [
    {
     "name": "stdout",
     "output_type": "stream",
     "text": [
      "101 cell masks found\n",
      "Cell pixels found in G:\\Shared drives\\as_share\\HCR\\HCR 3.12\\S3\\cell_pixels.pkl\n",
      "Cell pixels found in G:\\Shared drives\\as_share\\HCR\\HCR 3.12\\S3\\all_cell_pixels.pkl\n"
     ]
    }
   ],
   "source": [
    "cell_data, n_cells = get_masks.get_masks(data_path, metadata_file)\n",
    "cell_pixels = get_masks.get_cell_pixels(data_path, metadata_file)\n",
    "all_cell_pixels = get_masks.get_all_cell_pixels(data_path, metadata_file)"
   ]
  },
  {
   "cell_type": "code",
   "execution_count": 22,
   "metadata": {
    "ExecuteTime": {
     "end_time": "2020-04-03T16:44:10.660674Z",
     "start_time": "2020-04-03T16:44:10.654674Z"
    },
    "hidden": true
   },
   "outputs": [],
   "source": [
    "cells = list(cell_pixels.keys())\n",
    "for cell in cells:\n",
    "    planes = list(cell_pixels[cell].keys())\n",
    "    for plane in planes:\n",
    "        cell_pixels[cell][int(plane)] = np.array(cell_pixels[cell][plane])\n",
    "        #cell_pixels[cell].pop(plane)\n",
    "    planes = [int(plane) for plane in planes]\n",
    "    cell_data[cell]['z_planes'] = planes\n"
   ]
  },
  {
   "cell_type": "code",
   "execution_count": 32,
   "metadata": {
    "ExecuteTime": {
     "end_time": "2020-04-03T16:46:05.589274Z",
     "start_time": "2020-04-03T16:46:05.518674Z"
    },
    "hidden": true
   },
   "outputs": [],
   "source": [
    "with open('{0}{1}{2}'.format(data_path, sep, metadata['cell_pixels_file']), 'wb') as f:\n",
    "            pkl.dump(cell_pixels, f)"
   ]
  },
  {
   "cell_type": "markdown",
   "metadata": {
    "heading_collapsed": true,
    "hidden": true
   },
   "source": [
    "## Get background pixels"
   ]
  },
  {
   "cell_type": "code",
   "execution_count": 40,
   "metadata": {
    "ExecuteTime": {
     "end_time": "2020-04-03T16:56:54.990076Z",
     "start_time": "2020-04-03T16:55:05.816676Z"
    },
    "hidden": true
   },
   "outputs": [
    {
     "name": "stdout",
     "output_type": "stream",
     "text": [
      "Finding pixels in local background of cells\n"
     ]
    }
   ],
   "source": [
    "bg_pixels, centers = get_background.get_bg_pixels(data_path, metadata_file)\n",
    "all_bg_pixels = get_background.get_all_bg_pixels(data_path, metadata_file)"
   ]
  },
  {
   "cell_type": "markdown",
   "metadata": {
    "heading_collapsed": true,
    "hidden": true
   },
   "source": [
    "## Segment cells"
   ]
  },
  {
   "cell_type": "code",
   "execution_count": null,
   "metadata": {
    "hidden": true
   },
   "outputs": [],
   "source": []
  },
  {
   "cell_type": "markdown",
   "metadata": {
    "heading_collapsed": true
   },
   "source": [
    "# Lipofuscin exclusion"
   ]
  },
  {
   "cell_type": "markdown",
   "metadata": {
    "heading_collapsed": true,
    "hidden": true
   },
   "source": [
    "## Annotated lipofuscin rois"
   ]
  },
  {
   "cell_type": "code",
   "execution_count": 42,
   "metadata": {
    "ExecuteTime": {
     "end_time": "2020-04-03T17:01:38.337677Z",
     "start_time": "2020-04-03T16:59:01.158876Z"
    },
    "hidden": true
   },
   "outputs": [
    {
     "name": "stdout",
     "output_type": "stream",
     "text": [
      "11 rois\n",
      "No saved data found, finding pixels in lipofuscin rois\n",
      "Calculated grid coordinates, 85.0 seconds\n",
      "ROI 0\n",
      "ROI 1\n",
      "ROI 2\n",
      "ROI 3\n",
      "ROI 4\n",
      "ROI 5\n",
      "ROI 6\n",
      "ROI 7\n",
      "ROI 8\n",
      "ROI 9\n",
      "ROI 10\n"
     ]
    }
   ],
   "source": [
    "# Load existing rois\n",
    "l_rois = annotated_lipo_rois.get_rois(data_path, metadata_file)\n",
    "all_lipo_pixels, lipo_pixels_roi = annotated_lipo_rois.get_cell_lipo_pixels(data_path, metadata_file)"
   ]
  },
  {
   "cell_type": "markdown",
   "metadata": {
    "heading_collapsed": true,
    "hidden": true
   },
   "source": [
    "##### Draw new rois"
   ]
  },
  {
   "cell_type": "code",
   "execution_count": 64,
   "metadata": {
    "ExecuteTime": {
     "end_time": "2020-04-02T23:41:02.713326Z",
     "start_time": "2020-04-02T23:41:02.622726Z"
    },
    "hidden": true
   },
   "outputs": [
    {
     "data": {
      "text/plain": [
       "<Shapes layer 'Lipofuscin ROIs' at 0x1f589b08>"
      ]
     },
     "execution_count": 64,
     "metadata": {},
     "output_type": "execute_result"
    }
   ],
   "source": [
    "viewer.add_shapes(data = None, name = 'Lipofuscin rois', edge_color = 'white')"
   ]
  },
  {
   "cell_type": "code",
   "execution_count": 73,
   "metadata": {
    "ExecuteTime": {
     "end_time": "2020-04-03T00:12:06.415729Z",
     "start_time": "2020-04-03T00:12:06.238729Z"
    },
    "hidden": true
   },
   "outputs": [
    {
     "name": "stdout",
     "output_type": "stream",
     "text": [
      "6 lipofuscin rois\n"
     ]
    }
   ],
   "source": [
    "try:\n",
    "    with open('{0}{1}{2}'.format(data_path, sep, metadata['lipo_rois_file']), 'rb') as f:\n",
    "        l_rois = pkl.load(f) \n",
    "    l_rois = np.append(l_rois, viewer.layers['Lipofuscin rois'].data, axis = 0)\n",
    "except:\n",
    "    l_rois = viewer.layers['Lipofuscin rois'].data\n",
    "    \n",
    "with open('{0}{1}{2}'.format(data_path, sep, metadata['lipo_rois_file']), 'wb') as f:\n",
    "    pkl.dump(l_rois, f) \n",
    "    \n",
    "n_rois = len(l_rois)\n",
    "print('{0} lipofuscin rois'.format(n_rois))"
   ]
  },
  {
   "cell_type": "markdown",
   "metadata": {
    "heading_collapsed": true,
    "hidden": true
   },
   "source": [
    "## Detect lipofuscin rois in cells and background"
   ]
  },
  {
   "cell_type": "code",
   "execution_count": 44,
   "metadata": {
    "ExecuteTime": {
     "end_time": "2020-04-03T17:23:38.588278Z",
     "start_time": "2020-04-03T17:03:41.217478Z"
    },
    "hidden": true
   },
   "outputs": [
    {
     "name": "stdout",
     "output_type": "stream",
     "text": [
      "Filtering Vip images: 0.0 seconds\n",
      "Plane 1, 0.0 seconds\n",
      "Saving plane 0: 25.0 seconds\n",
      "Plane 2, 26.0 seconds\n",
      "Saving plane 1: 53.0 seconds\n",
      "Plane 3, 54.0 seconds\n",
      "Saving plane 2: 84.0 seconds\n",
      "Plane 4, 85.0 seconds\n",
      "Saving plane 3: 114.0 seconds\n",
      "Plane 5, 115.0 seconds\n",
      "Saving plane 4: 144.0 seconds\n",
      "Plane 6, 145.0 seconds\n",
      "Saving plane 5: 173.0 seconds\n",
      "Plane 7, 175.0 seconds\n",
      "Saving plane 6: 203.0 seconds\n",
      "Plane 8, 204.0 seconds\n",
      "Saving plane 7: 233.0 seconds\n",
      "Plane 9, 234.0 seconds\n",
      "Saving plane 8: 263.0 seconds\n",
      "Plane 10, 264.0 seconds\n",
      "Saving plane 9: 294.0 seconds\n",
      "Filtering Tac2 images: 295.0 seconds\n",
      "Plane 1, 295.0 seconds\n",
      "Saving plane 0: 324.0 seconds\n",
      "Plane 2, 325.0 seconds\n",
      "Saving plane 1: 354.0 seconds\n",
      "Plane 3, 355.0 seconds\n",
      "Saving plane 2: 385.0 seconds\n",
      "Plane 4, 386.0 seconds\n",
      "Saving plane 3: 415.0 seconds\n",
      "Plane 5, 416.0 seconds\n",
      "Saving plane 4: 449.0 seconds\n",
      "Plane 6, 451.0 seconds\n",
      "Saving plane 5: 480.0 seconds\n",
      "Plane 7, 482.0 seconds\n",
      "Saving plane 6: 510.0 seconds\n",
      "Plane 8, 511.0 seconds\n",
      "Saving plane 7: 538.0 seconds\n",
      "Plane 9, 540.0 seconds\n",
      "Saving plane 8: 568.0 seconds\n",
      "Plane 10, 569.0 seconds\n",
      "Saving plane 9: 598.0 seconds\n",
      "Filtering Car4 images: 599.0 seconds\n",
      "Plane 1, 599.0 seconds\n",
      "Saving plane 0: 627.0 seconds\n",
      "Plane 2, 628.0 seconds\n",
      "Saving plane 1: 655.0 seconds\n",
      "Plane 3, 656.0 seconds\n",
      "Saving plane 2: 683.0 seconds\n",
      "Plane 4, 685.0 seconds\n",
      "Saving plane 3: 715.0 seconds\n",
      "Plane 5, 716.0 seconds\n",
      "Saving plane 4: 745.0 seconds\n",
      "Plane 6, 746.0 seconds\n",
      "Saving plane 5: 774.0 seconds\n",
      "Plane 7, 775.0 seconds\n",
      "Saving plane 6: 802.0 seconds\n",
      "Plane 8, 803.0 seconds\n",
      "Saving plane 7: 831.0 seconds\n",
      "Plane 9, 833.0 seconds\n",
      "Saving plane 8: 864.0 seconds\n",
      "Plane 10, 865.0 seconds\n",
      "Saving plane 9: 895.0 seconds\n",
      "Filtering Npy2r images: 896.0 seconds\n",
      "Plane 1, 896.0 seconds\n",
      "Saving plane 0: 926.0 seconds\n",
      "Plane 2, 927.0 seconds\n",
      "Saving plane 1: 955.0 seconds\n",
      "Plane 3, 957.0 seconds\n",
      "Saving plane 2: 985.0 seconds\n",
      "Plane 4, 986.0 seconds\n",
      "Saving plane 3: 1017.0 seconds\n",
      "Plane 5, 1018.0 seconds\n",
      "Saving plane 4: 1046.0 seconds\n",
      "Plane 6, 1047.0 seconds\n",
      "Saving plane 5: 1075.0 seconds\n",
      "Plane 7, 1076.0 seconds\n",
      "Saving plane 6: 1105.0 seconds\n",
      "Plane 8, 1106.0 seconds\n",
      "Saving plane 7: 1136.0 seconds\n",
      "Plane 9, 1137.0 seconds\n",
      "Saving plane 8: 1165.0 seconds\n",
      "Plane 10, 1166.0 seconds\n",
      "Saving plane 9: 1195.0 seconds\n"
     ]
    }
   ],
   "source": [
    "# Filter images - 5.5 min\n",
    "cell_filt_values, bg_filt_values, annotated_lipo_filt_values = filter_lipo.filter(data_path, metadata_file, \n",
    "                                                                                  thresh_scale = 1,\n",
    "                                                                                  save_tiffs = True)\n",
    "\n"
   ]
  },
  {
   "cell_type": "code",
   "execution_count": 45,
   "metadata": {
    "ExecuteTime": {
     "end_time": "2020-04-03T17:27:20.572278Z",
     "start_time": "2020-04-03T17:26:45.604278Z"
    },
    "hidden": true
   },
   "outputs": [],
   "source": [
    "# Get mahalanobis distance from lipofuscin pixels\n",
    "m_dist_cells, m_dist_bg, m_dist_lipo = detect.get_m_dist(data_path, metadata_file)"
   ]
  },
  {
   "cell_type": "code",
   "execution_count": 48,
   "metadata": {
    "ExecuteTime": {
     "end_time": "2020-04-03T17:27:52.535278Z",
     "start_time": "2020-04-03T17:27:50.945278Z"
    },
    "hidden": true
   },
   "outputs": [
    {
     "data": {
      "text/plain": [
       "(array([14., 33., 62., 63., 66., 72., 57., 37., 42., 28., 26., 22., 22.,\n",
       "        19., 23., 17.,  4.,  4.,  3.,  2.]),\n",
       " array([0.83835745, 0.99036245, 1.14236745, 1.29437245, 1.44637745,\n",
       "        1.59838245, 1.75038745, 1.90239245, 2.05439745, 2.20640245,\n",
       "        2.35840745, 2.51041245, 2.66241745, 2.81442245, 2.96642745,\n",
       "        3.11843245, 3.27043745, 3.42244245, 3.57444745, 3.72645245,\n",
       "        3.87845745]),\n",
       " <a list of 20 Patch objects>)"
      ]
     },
     "execution_count": 48,
     "metadata": {},
     "output_type": "execute_result"
    },
    {
     "data": {
      "image/png": "[encoded data removed]",
      "text/plain": [
       "<Figure size 432x288 with 1 Axes>"
      ]
     },
     "metadata": {
      "needs_background": "light"
     },
     "output_type": "display_data"
    }
   ],
   "source": [
    "cell = 95\n",
    "plane = cell_data[cell]['z_planes'][0]\n",
    "\n",
    "plt.figure()\n",
    "plt.hist(m_dist_cells[cell][plane], 100)\n",
    "plt.hist(m_dist_bg[cell][plane], 1000)\n",
    "plt.hist(m_dist_lipo, 20)"
   ]
  },
  {
   "cell_type": "code",
   "execution_count": 49,
   "metadata": {
    "ExecuteTime": {
     "end_time": "2020-04-03T17:28:17.297078Z",
     "start_time": "2020-04-03T17:28:15.096078Z"
    },
    "hidden": true
   },
   "outputs": [],
   "source": [
    "cell_pixels_no_lipo, bg_pixels_no_lipo = detect.get_lipo(data_path, metadata_file, thresh_scale = 1.5)"
   ]
  },
  {
   "cell_type": "markdown",
   "metadata": {
    "heading_collapsed": true
   },
   "source": [
    "# Measure expression"
   ]
  },
  {
   "cell_type": "code",
   "execution_count": 59,
   "metadata": {
    "ExecuteTime": {
     "end_time": "2020-04-03T17:42:56.020678Z",
     "start_time": "2020-04-03T17:42:56.008678Z"
    },
    "hidden": true
   },
   "outputs": [
    {
     "data": {
      "text/plain": [
       "[98]"
      ]
     },
     "execution_count": 59,
     "metadata": {},
     "output_type": "execute_result"
    }
   ],
   "source": [
    "get_masks.get_cells_in_plane(data_path, metadata_file, 9)"
   ]
  },
  {
   "cell_type": "code",
   "execution_count": 53,
   "metadata": {
    "ExecuteTime": {
     "end_time": "2020-04-03T17:41:33.554678Z",
     "start_time": "2020-04-03T17:29:37.505478Z"
    },
    "hidden": true,
    "scrolled": true
   },
   "outputs": [
    {
     "name": "stdout",
     "output_type": "stream",
     "text": [
      "Filtering Vip images: 0.0 seconds\n",
      "Plane 1, 0.0 seconds\n"
     ]
    },
    {
     "name": "stderr",
     "output_type": "stream",
     "text": [
      "C:\\Users\\singha\\AppData\\Local\\Continuum\\anaconda3\\envs\\fish\\lib\\site-packages\\PIL\\Image.py:2766: DecompressionBombWarning: Image size (134858363 pixels) exceeds limit of 89478485 pixels, could be decompression bomb DOS attack.\n",
      "  DecompressionBombWarning,\n"
     ]
    },
    {
     "name": "stdout",
     "output_type": "stream",
     "text": [
      "Saving plane 0: 14.0 seconds\n",
      "Plane 2, 15.0 seconds\n",
      "Saving plane 1: 31.0 seconds\n"
     ]
    },
    {
     "name": "stderr",
     "output_type": "stream",
     "text": [
      "C:\\Users\\singha\\AppData\\Local\\Continuum\\anaconda3\\envs\\fish\\lib\\site-packages\\numpy\\core\\fromnumeric.py:3335: RuntimeWarning: Mean of empty slice.\n",
      "  out=out, **kwargs)\n",
      "C:\\Users\\singha\\AppData\\Local\\Continuum\\anaconda3\\envs\\fish\\lib\\site-packages\\numpy\\core\\_methods.py:161: RuntimeWarning: invalid value encountered in double_scalars\n",
      "  ret = ret.dtype.type(ret / rcount)\n"
     ]
    },
    {
     "name": "stdout",
     "output_type": "stream",
     "text": [
      "Plane 3, 32.0 seconds\n",
      "Saving plane 2: 48.0 seconds\n",
      "Plane 4, 49.0 seconds\n",
      "Saving plane 3: 66.0 seconds\n",
      "Plane 5, 67.0 seconds\n",
      "Saving plane 4: 84.0 seconds\n",
      "Plane 6, 85.0 seconds\n",
      "Saving plane 5: 101.0 seconds\n",
      "Plane 7, 102.0 seconds\n",
      "Saving plane 6: 121.0 seconds\n",
      "Plane 8, 122.0 seconds\n",
      "Saving plane 7: 138.0 seconds\n",
      "Plane 9, 140.0 seconds\n",
      "Saving plane 8: 156.0 seconds\n",
      "Plane 10, 157.0 seconds\n",
      "Saving plane 9: 173.0 seconds\n",
      "Filtering Tac2 images: 174.0 seconds\n",
      "Plane 1, 174.0 seconds\n",
      "Saving plane 0: 190.0 seconds\n",
      "Plane 2, 191.0 seconds\n",
      "Saving plane 1: 207.0 seconds\n",
      "Plane 3, 208.0 seconds\n",
      "Saving plane 2: 224.0 seconds\n",
      "Plane 4, 225.0 seconds\n",
      "Saving plane 3: 242.0 seconds\n",
      "Plane 5, 243.0 seconds\n",
      "Saving plane 4: 259.0 seconds\n",
      "Plane 6, 260.0 seconds\n",
      "Saving plane 5: 277.0 seconds\n",
      "Plane 7, 278.0 seconds\n",
      "Saving plane 6: 295.0 seconds\n",
      "Plane 8, 296.0 seconds\n",
      "Saving plane 7: 313.0 seconds\n",
      "Plane 9, 314.0 seconds\n",
      "Saving plane 8: 331.0 seconds\n",
      "Plane 10, 332.0 seconds\n",
      "Saving plane 9: 349.0 seconds\n",
      "Filtering Car4 images: 350.0 seconds\n",
      "Plane 1, 350.0 seconds\n",
      "Saving plane 0: 366.0 seconds\n",
      "Plane 2, 367.0 seconds\n",
      "Saving plane 1: 383.0 seconds\n",
      "Plane 3, 384.0 seconds\n",
      "Saving plane 2: 401.0 seconds\n",
      "Plane 4, 402.0 seconds\n",
      "Saving plane 3: 419.0 seconds\n",
      "Plane 5, 420.0 seconds\n",
      "Saving plane 4: 436.0 seconds\n",
      "Plane 6, 438.0 seconds\n",
      "Saving plane 5: 454.0 seconds\n",
      "Plane 7, 455.0 seconds\n",
      "Saving plane 6: 471.0 seconds\n",
      "Plane 8, 472.0 seconds\n",
      "Saving plane 7: 489.0 seconds\n",
      "Plane 9, 490.0 seconds\n",
      "Saving plane 8: 507.0 seconds\n",
      "Plane 10, 508.0 seconds\n",
      "Saving plane 9: 525.0 seconds\n",
      "Filtering Npy2r images: 526.0 seconds\n",
      "Plane 1, 526.0 seconds\n",
      "Saving plane 0: 542.0 seconds\n",
      "Plane 2, 543.0 seconds\n",
      "Saving plane 1: 560.0 seconds\n",
      "Plane 3, 561.0 seconds\n",
      "Saving plane 2: 578.0 seconds\n",
      "Plane 4, 579.0 seconds\n",
      "Saving plane 3: 599.0 seconds\n",
      "Plane 5, 600.0 seconds\n",
      "Saving plane 4: 621.0 seconds\n",
      "Plane 6, 622.0 seconds\n",
      "Saving plane 5: 641.0 seconds\n",
      "Plane 7, 642.0 seconds\n",
      "Saving plane 6: 662.0 seconds\n",
      "Plane 8, 663.0 seconds\n",
      "Saving plane 7: 680.0 seconds\n",
      "Plane 9, 681.0 seconds\n",
      "Saving plane 8: 697.0 seconds\n",
      "Plane 10, 698.0 seconds\n",
      "Saving plane 9: 714.0 seconds\n"
     ]
    }
   ],
   "source": [
    "# Filter images and calculate signal (2.5 min)\n",
    "signal_raw, signal_filt, bg_raw, bg_filt = signal_and_bg.get_signal_and_bg(data_path, metadata_file, save_tiffs = True)\n"
   ]
  },
  {
   "cell_type": "code",
   "execution_count": 64,
   "metadata": {
    "ExecuteTime": {
     "end_time": "2020-04-03T17:45:10.880678Z",
     "start_time": "2020-04-03T17:45:09.919678Z"
    },
    "hidden": true
   },
   "outputs": [
    {
     "data": {
      "image/png": "[encoded data removed]",
      "text/plain": [
       "<Figure size 1440x1080 with 8 Axes>"
      ]
     },
     "metadata": {
      "needs_background": "light"
     },
     "output_type": "display_data"
    }
   ],
   "source": [
    "# Plot signal\n",
    "scatter_plots.signal_vs_depth(data_path, metadata_file)"
   ]
  },
  {
   "cell_type": "markdown",
   "metadata": {
    "heading_collapsed": true
   },
   "source": [
    "# Cell depths"
   ]
  },
  {
   "cell_type": "code",
   "execution_count": 62,
   "metadata": {
    "ExecuteTime": {
     "end_time": "2020-04-03T17:44:04.254678Z",
     "start_time": "2020-04-03T17:44:04.174678Z"
    },
    "hidden": true
   },
   "outputs": [],
   "source": [
    "# Draw surface of cortex\n",
    "surface_layer = get_depths.draw_surface(data_path, metadata_file, viewer)"
   ]
  },
  {
   "cell_type": "code",
   "execution_count": 63,
   "metadata": {
    "ExecuteTime": {
     "end_time": "2020-04-03T17:44:45.025678Z",
     "start_time": "2020-04-03T17:44:44.821678Z"
    },
    "hidden": true
   },
   "outputs": [
    {
     "data": {
      "text/plain": [
       "Text(0, 0.5, '# cells')"
      ]
     },
     "execution_count": 63,
     "metadata": {},
     "output_type": "execute_result"
    },
    {
     "data": {
      "image/png": "[encoded data removed]",
      "text/plain": [
       "<Figure size 432x288 with 1 Axes>"
      ]
     },
     "metadata": {
      "needs_background": "light"
     },
     "output_type": "display_data"
    }
   ],
   "source": [
    "# Calculate depths\n",
    "depths = get_depths.get_depths(data_path, metadata_file, surface_layer)\n",
    "plt.figure()\n",
    "plt.hist(depths, 20)\n",
    "plt.xlabel('Depth (um)')\n",
    "plt.ylabel('# cells')"
   ]
  },
  {
   "cell_type": "markdown",
   "metadata": {},
   "source": [
    "# Classification"
   ]
  },
  {
   "cell_type": "code",
   "execution_count": 89,
   "metadata": {
    "ExecuteTime": {
     "end_time": "2020-04-03T18:06:06.494080Z",
     "start_time": "2020-04-03T18:02:08.701479Z"
    }
   },
   "outputs": [
    {
     "name": "stdout",
     "output_type": "stream",
     "text": [
      "Loading Vip images: 0.0 seconds\n"
     ]
    },
    {
     "name": "stderr",
     "output_type": "stream",
     "text": [
      "C:\\Users\\singha\\AppData\\Local\\Continuum\\anaconda3\\envs\\fish\\lib\\site-packages\\PIL\\Image.py:2766: DecompressionBombWarning: Image size (134858363 pixels) exceeds limit of 89478485 pixels, could be decompression bomb DOS attack.\n",
      "  DecompressionBombWarning,\n"
     ]
    },
    {
     "name": "stdout",
     "output_type": "stream",
     "text": [
      "Cell 29 plane 1: all pixels excluded from cell or background\n",
      "Cell 24 plane 2: all pixels excluded from cell or background\n",
      "Cell 24 plane 3: all pixels excluded from cell or background\n",
      "Cell 69 plane 5: all pixels excluded from cell or background\n",
      "Cell 72 plane 5: all pixels excluded from cell or background\n",
      "Cell 69 plane 6: all pixels excluded from cell or background\n",
      "Cell 83 plane 6: all pixels excluded from cell or background\n",
      "Cell 83 plane 7: all pixels excluded from cell or background\n",
      "Cell 92 plane 7: all pixels excluded from cell or background\n",
      "Loading Tac2 images: 59.0 seconds\n",
      "Cell 29 plane 1: all pixels excluded from cell or background\n",
      "Cell 24 plane 2: all pixels excluded from cell or background\n",
      "Cell 24 plane 3: all pixels excluded from cell or background\n",
      "Cell 69 plane 5: all pixels excluded from cell or background\n",
      "Cell 72 plane 5: all pixels excluded from cell or background\n",
      "Cell 69 plane 6: all pixels excluded from cell or background\n",
      "Cell 83 plane 6: all pixels excluded from cell or background\n",
      "Cell 83 plane 7: all pixels excluded from cell or background\n",
      "Cell 92 plane 7: all pixels excluded from cell or background\n",
      "Loading Car4 images: 118.0 seconds\n",
      "Cell 29 plane 1: all pixels excluded from cell or background\n",
      "Cell 24 plane 2: all pixels excluded from cell or background\n",
      "Cell 24 plane 3: all pixels excluded from cell or background\n",
      "Cell 69 plane 5: all pixels excluded from cell or background\n",
      "Cell 72 plane 5: all pixels excluded from cell or background\n",
      "Cell 69 plane 6: all pixels excluded from cell or background\n",
      "Cell 83 plane 6: all pixels excluded from cell or background\n",
      "Cell 83 plane 7: all pixels excluded from cell or background\n",
      "Cell 92 plane 7: all pixels excluded from cell or background\n",
      "Loading Npy2r images: 178.0 seconds\n",
      "Cell 29 plane 1: all pixels excluded from cell or background\n",
      "Cell 24 plane 2: all pixels excluded from cell or background\n",
      "Cell 24 plane 3: all pixels excluded from cell or background\n",
      "Cell 69 plane 5: all pixels excluded from cell or background\n",
      "Cell 72 plane 5: all pixels excluded from cell or background\n",
      "Cell 69 plane 6: all pixels excluded from cell or background\n",
      "Cell 83 plane 6: all pixels excluded from cell or background\n",
      "Cell 83 plane 7: all pixels excluded from cell or background\n",
      "Cell 92 plane 7: all pixels excluded from cell or background\n"
     ]
    }
   ],
   "source": [
    "bs_raw, bs_filt = get_labels.get_bootstrap(data_path, metadata_file)"
   ]
  },
  {
   "cell_type": "code",
   "execution_count": 90,
   "metadata": {
    "ExecuteTime": {
     "end_time": "2020-04-03T18:06:45.821280Z",
     "start_time": "2020-04-03T18:06:45.709280Z"
    }
   },
   "outputs": [
    {
     "ename": "ValueError",
     "evalue": "zero-dimensional arrays cannot be concatenated",
     "output_type": "error",
     "traceback": [
      "\u001b[1;31m---------------------------------------------------------------------------\u001b[0m",
      "\u001b[1;31mValueError\u001b[0m                                Traceback (most recent call last)",
      "\u001b[1;32m<ipython-input-90-f953a4f5fab0>\u001b[0m in \u001b[0;36m<module>\u001b[1;34m\u001b[0m\n\u001b[1;32m----> 1\u001b[1;33m \u001b[0mpv_raw\u001b[0m\u001b[1;33m,\u001b[0m \u001b[0mpv_filt\u001b[0m \u001b[1;33m=\u001b[0m \u001b[0mget_labels\u001b[0m\u001b[1;33m.\u001b[0m\u001b[0mget_p_values\u001b[0m\u001b[1;33m(\u001b[0m\u001b[0mdata_path\u001b[0m\u001b[1;33m,\u001b[0m \u001b[0mmetadata_file\u001b[0m\u001b[1;33m)\u001b[0m\u001b[1;33m\u001b[0m\u001b[1;33m\u001b[0m\u001b[0m\n\u001b[0m",
      "\u001b[1;32mG:\\Shared drives\\as_share\\HCR\\FISH Image Analysis\\classification\\get_labels.py\u001b[0m in \u001b[0;36mget_p_values\u001b[1;34m(data_path, metadata_file, genes)\u001b[0m\n\u001b[0;32m    157\u001b[0m             \u001b[0mbs_means\u001b[0m \u001b[1;33m=\u001b[0m \u001b[0mbs_raw\u001b[0m\u001b[1;33m[\u001b[0m\u001b[0mgene\u001b[0m\u001b[1;33m]\u001b[0m\u001b[1;33m[\u001b[0m\u001b[0mcell\u001b[0m\u001b[1;33m]\u001b[0m\u001b[1;33m[\u001b[0m\u001b[0mplanes\u001b[0m\u001b[1;33m[\u001b[0m\u001b[1;36m0\u001b[0m\u001b[1;33m]\u001b[0m\u001b[1;33m]\u001b[0m\u001b[1;33m\u001b[0m\u001b[1;33m\u001b[0m\u001b[0m\n\u001b[0;32m    158\u001b[0m             \u001b[1;32mfor\u001b[0m \u001b[0mplane\u001b[0m \u001b[1;32min\u001b[0m \u001b[0mplanes\u001b[0m\u001b[1;33m[\u001b[0m\u001b[1;36m1\u001b[0m\u001b[1;33m:\u001b[0m\u001b[1;33m]\u001b[0m\u001b[1;33m:\u001b[0m\u001b[1;33m\u001b[0m\u001b[1;33m\u001b[0m\u001b[0m\n\u001b[1;32m--> 159\u001b[1;33m                 \u001b[0mbs_means\u001b[0m \u001b[1;33m=\u001b[0m \u001b[0mnp\u001b[0m\u001b[1;33m.\u001b[0m\u001b[0mconcatenate\u001b[0m\u001b[1;33m(\u001b[0m\u001b[1;33m[\u001b[0m\u001b[0mbs_means\u001b[0m\u001b[1;33m,\u001b[0m \u001b[0mbs_raw\u001b[0m\u001b[1;33m[\u001b[0m\u001b[0mgene\u001b[0m\u001b[1;33m]\u001b[0m\u001b[1;33m[\u001b[0m\u001b[0mcell\u001b[0m\u001b[1;33m]\u001b[0m\u001b[1;33m[\u001b[0m\u001b[0mplane\u001b[0m\u001b[1;33m]\u001b[0m\u001b[1;33m]\u001b[0m\u001b[1;33m)\u001b[0m\u001b[1;33m\u001b[0m\u001b[1;33m\u001b[0m\u001b[0m\n\u001b[0m\u001b[0;32m    160\u001b[0m \u001b[1;33m\u001b[0m\u001b[0m\n\u001b[0;32m    161\u001b[0m             \u001b[0mpv_raw\u001b[0m\u001b[1;33m[\u001b[0m\u001b[0mgene\u001b[0m\u001b[1;33m]\u001b[0m\u001b[1;33m[\u001b[0m\u001b[0mcell\u001b[0m\u001b[1;33m]\u001b[0m \u001b[1;33m=\u001b[0m \u001b[0mnp\u001b[0m\u001b[1;33m.\u001b[0m\u001b[0msum\u001b[0m\u001b[1;33m(\u001b[0m\u001b[0mbs_means\u001b[0m \u001b[1;33m>\u001b[0m \u001b[0msig\u001b[0m\u001b[1;33m[\u001b[0m\u001b[0mcell\u001b[0m \u001b[1;33m-\u001b[0m \u001b[1;36m1\u001b[0m\u001b[1;33m]\u001b[0m \u001b[1;33m-\u001b[0m \u001b[0mbg\u001b[0m\u001b[1;33m[\u001b[0m\u001b[0mcell\u001b[0m \u001b[1;33m-\u001b[0m \u001b[1;36m1\u001b[0m\u001b[1;33m]\u001b[0m\u001b[1;33m)\u001b[0m\u001b[1;33m/\u001b[0m\u001b[0mlen\u001b[0m\u001b[1;33m(\u001b[0m\u001b[0mbs_means\u001b[0m\u001b[1;33m)\u001b[0m\u001b[1;33m\u001b[0m\u001b[1;33m\u001b[0m\u001b[0m\n",
      "\u001b[1;32m<__array_function__ internals>\u001b[0m in \u001b[0;36mconcatenate\u001b[1;34m(*args, **kwargs)\u001b[0m\n",
      "\u001b[1;31mValueError\u001b[0m: zero-dimensional arrays cannot be concatenated"
     ]
    }
   ],
   "source": [
    "pv_raw, pv_filt = get_labels.get_p_values(data_path, metadata_file)"
   ]
  },
  {
   "cell_type": "code",
   "execution_count": null,
   "metadata": {},
   "outputs": [],
   "source": []
  },
  {
   "cell_type": "code",
   "execution_count": 91,
   "metadata": {
    "ExecuteTime": {
     "end_time": "2020-04-03T18:06:51.232480Z",
     "start_time": "2020-04-03T18:06:51.198480Z"
    }
   },
   "outputs": [
    {
     "data": {
      "text/plain": [
       "{'Vip': {1: {0: 1271.343, 1: 1107.4485},\n",
       "  2: {0: 3274.053, 1: 1739.3765},\n",
       "  3: {1: 1351.441},\n",
       "  4: {0: 1458.689, 1: 1460.0745},\n",
       "  5: {0: 1427.2105},\n",
       "  6: {0: 1360.572},\n",
       "  7: {0: 1318.7645},\n",
       "  8: {0: 1781.0575, 1: 1505.8595},\n",
       "  9: {0: 1048.7105},\n",
       "  10: {0: 1359.126},\n",
       "  11: {1: 1324.4835, 2: 1245.321},\n",
       "  12: {1: 744.609, 2: 675.786},\n",
       "  13: {2: 885.434, 3: 833.586},\n",
       "  14: {2: 1368.3005, 3: 1452.5765, 4: 1172.2575},\n",
       "  15: {1: 2502.8975, 2: 3970.6775},\n",
       "  16: {2: 2004.032, 3: 1808.592},\n",
       "  17: {1: 1484.812, 2: 1243.5215},\n",
       "  18: {1: 1036.446, 2: 862.271},\n",
       "  19: {1: 1309.597, 2: 1276.9705},\n",
       "  20: {1: 1197.932, 2: 1183.172},\n",
       "  21: {1: 1633.5075, 2: 1569.5245},\n",
       "  22: {1: 1155.4745, 2: 1182.641},\n",
       "  23: {1: 1225.7135, 2: 1446.264},\n",
       "  24: {2: 0, 3: 0},\n",
       "  25: {1: 1037.6465, 2: 1063.2225},\n",
       "  26: {1: 1369.5005, 2: 1286.0635},\n",
       "  27: {1: 2123.41, 2: 1900.8155},\n",
       "  28: {1: 1282.3895},\n",
       "  29: {1: 0, 2: 964.241, 3: 942.6535},\n",
       "  30: {2: 1638.84, 3: 1264.5745, 4: 1793.0},\n",
       "  31: {2: 1170.3925},\n",
       "  32: {2: 1568.8425},\n",
       "  33: {1: 1341.774, 2: 1373.7975, 3: 1250.6275},\n",
       "  34: {2: 1395.9995, 3: 1293.166},\n",
       "  35: {2: 829.954, 3: 529.0},\n",
       "  36: {1: 1175.4175, 2: 875.753},\n",
       "  37: {2: 1197.0885, 3: 1493.3585},\n",
       "  38: {1: 1296.2985, 2: 1308.6715},\n",
       "  39: {1: 1300.127},\n",
       "  40: {3: 1960.9685, 4: 1181.803},\n",
       "  41: {2: 1303.7235, 3: 1245.107},\n",
       "  42: {3: 1313.0535, 4: 1293.614},\n",
       "  43: {3: 1101.5365},\n",
       "  44: {3: 1442.3905, 4: 1297.335},\n",
       "  45: {3: 1241.448, 4: 1376.304},\n",
       "  46: {3: 1262.447},\n",
       "  47: {3: 1112.507, 4: 820.0535},\n",
       "  48: {3: 1297.991},\n",
       "  49: {3: 1187.055, 4: 1079.501},\n",
       "  50: {3: 1738.9245, 4: 1569.7305, 5: 1530.0655},\n",
       "  51: {3: 957.6245, 4: 956.612},\n",
       "  52: {3: 971.1165, 4: 943.7125},\n",
       "  53: {3: 1257.4975, 4: 1263.3185},\n",
       "  54: {3: 1725.137, 4: 1612.9395},\n",
       "  55: {3: 2038.716, 4: 1876.057},\n",
       "  56: {4: 1572.752, 5: 1612.827},\n",
       "  57: {4: 899.7545, 5: 1008.06},\n",
       "  58: {3: 816.466, 4: 852.002},\n",
       "  59: {4: 1072.09, 5: 1081.047},\n",
       "  60: {4: 1208.4325},\n",
       "  61: {4: 1179.555, 5: 1040.522},\n",
       "  62: {4: 1398.7705},\n",
       "  63: {4: 1473.6865},\n",
       "  64: {4: 1648.8085, 5: 1637.65},\n",
       "  65: {3: 1024.592, 4: 1184.318},\n",
       "  66: {4: 1050.2095, 5: 912.5095},\n",
       "  67: {5: 936.9055},\n",
       "  68: {5: 843.6605, 6: 822.635},\n",
       "  69: {5: 0, 6: 0},\n",
       "  70: {6: 915.756},\n",
       "  71: {5: 972.28, 6: 933.208},\n",
       "  72: {5: 0, 6: 818.223},\n",
       "  73: {5: 1243.1205},\n",
       "  74: {4: 1404.804, 5: 1377.7935},\n",
       "  75: {4: 1304.71, 5: 1057.9285},\n",
       "  76: {5: 1214.4025, 6: 1055.739},\n",
       "  77: {5: 1193.799},\n",
       "  78: {5: 1051.2455},\n",
       "  79: {5: 1307.135},\n",
       "  80: {5: 1592.3865, 6: 1488.505},\n",
       "  81: {5: 1323.1845, 6: 1222.088, 7: 1594.335},\n",
       "  82: {5: 1450.3865, 6: 1497.404},\n",
       "  83: {6: 0, 7: 0},\n",
       "  84: {6: 979.6795, 7: 1003.768},\n",
       "  85: {6: 1036.6295, 7: 1131.479},\n",
       "  86: {6: 1421.2125},\n",
       "  87: {5: 1086.353, 6: 1108.6985},\n",
       "  88: {5: 1225.2255, 6: 1121.489},\n",
       "  89: {6: 945.5965, 7: 1075.2455},\n",
       "  90: {6: 1400.4485, 7: 1364.4975},\n",
       "  91: {6: 1147.976},\n",
       "  92: {6: 933.4115, 7: 0},\n",
       "  93: {6: 1250.7025},\n",
       "  94: {6: 1185.984, 7: 1099.603},\n",
       "  95: {6: 1198.4445},\n",
       "  96: {7: 694.0855},\n",
       "  97: {7: 1409.5935, 8: 1212.2905},\n",
       "  98: {7: 1342.5685, 8: 1461.197, 9: 1342.902},\n",
       "  99: {7: 1404.2735, 8: 1591.82},\n",
       "  100: {7: 1421.215, 8: 1387.882},\n",
       "  101: {7: 909.3405, 8: 757.6605}},\n",
       " 'Tac2': {1: {0: 1374.333, 1: 1316.6445},\n",
       "  2: {0: 3044.6465, 1: 1604.5195},\n",
       "  3: {1: 1358.3015},\n",
       "  4: {0: 1510.6985, 1: 1459.088},\n",
       "  5: {0: 1451.272},\n",
       "  6: {0: 1432.6865},\n",
       "  7: {0: 1429.8115},\n",
       "  8: {0: 1806.3495, 1: 1544.5425},\n",
       "  9: {0: 1190.7705},\n",
       "  10: {0: 1446.815},\n",
       "  11: {1: 1437.002, 2: 1357.079},\n",
       "  12: {1: 880.465, 2: 888.4615},\n",
       "  13: {2: 1028.6775, 3: 958.9395},\n",
       "  14: {2: 1550.369, 3: 1586.1145, 4: 1123.9755},\n",
       "  15: {1: 2689.263, 2: 4231.325},\n",
       "  16: {2: 2068.782, 3: 1926.5375},\n",
       "  17: {1: 1670.8135, 2: 1440.9245},\n",
       "  18: {1: 1139.2715, 2: 1020.7955},\n",
       "  19: {1: 1385.095, 2: 1344.0665},\n",
       "  20: {1: 1474.0425, 2: 1395.9325},\n",
       "  21: {1: 1960.958, 2: 1573.497},\n",
       "  22: {1: 1197.953, 2: 1211.697},\n",
       "  23: {1: 1587.366, 2: 1863.7035},\n",
       "  24: {2: 0, 3: 0},\n",
       "  25: {1: 1120.9705, 2: 1186.2725},\n",
       "  26: {1: 1512.074, 2: 1401.667},\n",
       "  27: {1: 2205.5675, 2: 2031.4285},\n",
       "  28: {1: 1396.02},\n",
       "  29: {1: 0, 2: 1117.3775, 3: 1084.622},\n",
       "  30: {2: 1419.714, 3: 1334.4805, 4: 1293.0},\n",
       "  31: {2: 1386.741},\n",
       "  32: {2: 1755.826},\n",
       "  33: {1: 1421.3815, 2: 1453.6535, 3: 1292.0615},\n",
       "  34: {2: 1505.7435, 3: 1406.814},\n",
       "  35: {2: 774.805, 3: 1047.0},\n",
       "  36: {1: 1308.6595, 2: 1166.014},\n",
       "  37: {2: 1332.9245, 3: 1367.6115},\n",
       "  38: {1: 1376.796, 2: 1440.161},\n",
       "  39: {1: 1438.3165},\n",
       "  40: {3: 1304.2175, 4: 1152.138},\n",
       "  41: {2: 1427.5895, 3: 1417.9585},\n",
       "  42: {3: 1401.8575, 4: 1345.8},\n",
       "  43: {3: 1290.4415},\n",
       "  44: {3: 1403.641, 4: 1332.463},\n",
       "  45: {3: 1250.79, 4: 1402.601},\n",
       "  46: {3: 1363.4355},\n",
       "  47: {3: 1185.982, 4: 951.62},\n",
       "  48: {3: 1309.7705},\n",
       "  49: {3: 1278.4305, 4: 1212.137},\n",
       "  50: {3: 1843.8015, 4: 1705.0255, 5: 1569.5505},\n",
       "  51: {3: 1339.8535, 4: 1225.068},\n",
       "  52: {3: 1220.9915, 4: 1007.822},\n",
       "  53: {3: 1391.4825, 4: 1277.0735},\n",
       "  54: {3: 1921.104, 4: 1725.7455},\n",
       "  55: {3: 2244.426, 4: 2075.6025},\n",
       "  56: {4: 1703.338, 5: 1688.363},\n",
       "  57: {4: 1118.492, 5: 1114.032},\n",
       "  58: {3: 992.912, 4: 952.494},\n",
       "  59: {4: 1109.0295, 5: 1071.4465},\n",
       "  60: {4: 1080.5885},\n",
       "  61: {4: 1366.6405, 5: 1270.637},\n",
       "  62: {4: 1477.1005},\n",
       "  63: {4: 1454.22},\n",
       "  64: {4: 1855.575, 5: 1872.481},\n",
       "  65: {3: 1125.625, 4: 1141.782},\n",
       "  66: {4: 1242.089, 5: 1322.9695},\n",
       "  67: {5: 1082.34},\n",
       "  68: {5: 990.498, 6: 974.8945},\n",
       "  69: {5: 0, 6: 0},\n",
       "  70: {6: 1002.898},\n",
       "  71: {5: 1095.355, 6: 1073.045},\n",
       "  72: {5: 0, 6: 935.8965},\n",
       "  73: {5: 1372.056},\n",
       "  74: {4: 1433.4485, 5: 1467.884},\n",
       "  75: {4: 1432.6155, 5: 1093.3975},\n",
       "  76: {5: 1322.586, 6: 1179.432},\n",
       "  77: {5: 1268.429},\n",
       "  78: {5: 1131.552},\n",
       "  79: {5: 1319.7975},\n",
       "  80: {5: 1758.244, 6: 1623.757},\n",
       "  81: {5: 1471.242, 6: 1250.1835, 7: 1380.358},\n",
       "  82: {5: 1426.0, 6: 1480.215},\n",
       "  83: {6: 0, 7: 0},\n",
       "  84: {6: 1102.331, 7: 983.619},\n",
       "  85: {6: 1210.0225, 7: 1239.4025},\n",
       "  86: {6: 1593.8655},\n",
       "  87: {5: 1292.396, 6: 1200.5325},\n",
       "  88: {5: 1413.556, 6: 1345.525},\n",
       "  89: {6: 1218.262, 7: 1059.2845},\n",
       "  90: {6: 1322.3465, 7: 1339.792},\n",
       "  91: {6: 1244.118},\n",
       "  92: {6: 824.2565, 7: 0},\n",
       "  93: {6: 1548.084},\n",
       "  94: {6: 1420.195, 7: 1217.357},\n",
       "  95: {6: 1184.7755},\n",
       "  96: {7: 942.696},\n",
       "  97: {7: 1472.097, 8: 1324.7565},\n",
       "  98: {7: 1193.793, 8: 1208.387, 9: 1230.5675},\n",
       "  99: {7: 1512.003, 8: 1695.3595},\n",
       "  100: {7: 1427.529, 8: 1414.9535},\n",
       "  101: {7: 782.9255, 8: 772.1985}},\n",
       " 'Car4': {1: {0: 469.7795, 1: 457.019},\n",
       "  2: {0: 1072.335, 1: 614.691},\n",
       "  3: {1: 508.3315},\n",
       "  4: {0: 558.152, 1: 550.606},\n",
       "  5: {0: 555.944},\n",
       "  6: {0: 510.5585},\n",
       "  7: {0: 442.2695},\n",
       "  8: {0: 979.08, 1: 749.846},\n",
       "  9: {0: 387.809},\n",
       "  10: {0: 1277.827},\n",
       "  11: {1: 504.741, 2: 475.0115},\n",
       "  12: {1: 332.478, 2: 290.4875},\n",
       "  13: {2: 334.186, 3: 316.8525},\n",
       "  14: {2: 547.4695, 3: 706.6115, 4: 444.34},\n",
       "  15: {1: 1260.008, 2: 1701.598},\n",
       "  16: {2: 787.876, 3: 1414.433},\n",
       "  17: {1: 556.572, 2: 453.5355},\n",
       "  18: {1: 412.8795, 2: 319.552},\n",
       "  19: {1: 515.666, 2: 489.5475},\n",
       "  20: {1: 495.969, 2: 492.054},\n",
       "  21: {1: 1643.791, 2: 675.4145},\n",
       "  22: {1: 446.4975, 2: 474.2875},\n",
       "  23: {1: 530.3465, 2: 672.46},\n",
       "  24: {2: 0, 3: 0},\n",
       "  25: {1: 391.9035, 2: 403.413},\n",
       "  26: {1: 522.5435, 2: 531.7785},\n",
       "  27: {1: 928.8, 2: 1328.559},\n",
       "  28: {1: 557.6115},\n",
       "  29: {1: 0, 2: 333.6595, 3: 391.0565},\n",
       "  30: {2: 495.0845, 3: 507.198, 4: 543.0},\n",
       "  31: {2: 473.1735},\n",
       "  32: {2: 1106.4275},\n",
       "  33: {1: 948.0825, 2: 823.857, 3: 540.498},\n",
       "  34: {2: 592.71, 3: 566.2885},\n",
       "  35: {2: 488.6765, 3: 334.0},\n",
       "  36: {1: 447.7005, 2: 398.549},\n",
       "  37: {2: 502.3975, 3: 554.9565},\n",
       "  38: {1: 478.019, 2: 575.9445},\n",
       "  39: {1: 536.9255},\n",
       "  40: {3: 429.4455, 4: 447.32},\n",
       "  41: {2: 553.49, 3: 526.916},\n",
       "  42: {3: 524.871, 4: 538.4},\n",
       "  43: {3: 436.6575},\n",
       "  44: {3: 638.441, 4: 449.6145},\n",
       "  45: {3: 479.7805, 4: 863.6295},\n",
       "  46: {3: 1634.8645},\n",
       "  47: {3: 445.982, 4: 363.686},\n",
       "  48: {3: 455.6605},\n",
       "  49: {3: 498.26, 4: 488.4375},\n",
       "  50: {3: 719.524, 4: 889.358, 5: 678.0435},\n",
       "  51: {3: 421.929, 4: 399.7935},\n",
       "  52: {3: 380.314, 4: 272.328},\n",
       "  53: {3: 485.8, 4: 524.4245},\n",
       "  54: {3: 1010.275, 4: 821.7615},\n",
       "  55: {3: 1037.4655, 4: 815.59},\n",
       "  56: {4: 636.6675, 5: 829.329},\n",
       "  57: {4: 382.3275, 5: 398.3825},\n",
       "  58: {3: 356.492, 4: 336.115},\n",
       "  59: {4: 453.119, 5: 431.1525},\n",
       "  60: {4: 443.137},\n",
       "  61: {4: 608.9635, 5: 499.8815},\n",
       "  62: {4: 596.265},\n",
       "  63: {4: 491.192},\n",
       "  64: {4: 1413.3435, 5: 2179.08},\n",
       "  65: {3: 389.6065, 4: 611.791},\n",
       "  66: {4: 397.248, 5: 533.647},\n",
       "  67: {5: 473.184},\n",
       "  68: {5: 362.2325, 6: 393.1805},\n",
       "  69: {5: 0, 6: 0},\n",
       "  70: {6: 369.404},\n",
       "  71: {5: 408.8665, 6: 442.9155},\n",
       "  72: {5: 0, 6: 348.807},\n",
       "  73: {5: 1196.1235},\n",
       "  74: {4: 545.4545, 5: 516.248},\n",
       "  75: {4: 563.556, 5: 416.639},\n",
       "  76: {5: 493.642, 6: 463.0435},\n",
       "  77: {5: 605.5385},\n",
       "  78: {5: 682.659},\n",
       "  79: {5: 507.18},\n",
       "  80: {5: 828.8615, 6: 854.3135},\n",
       "  81: {5: 521.338, 6: 478.758, 7: 637.907},\n",
       "  82: {5: 863.1215, 6: 948.3455},\n",
       "  83: {6: 0, 7: 0},\n",
       "  84: {6: 567.0225, 7: 336.176},\n",
       "  85: {6: 462.777, 7: 510.4135},\n",
       "  86: {6: 590.4325},\n",
       "  87: {5: 527.259, 6: 475.016},\n",
       "  88: {5: 919.024, 6: 544.9955},\n",
       "  89: {6: 395.528, 7: 964.408},\n",
       "  90: {6: 538.4115, 7: 530.332},\n",
       "  91: {6: 471.234},\n",
       "  92: {6: 693.55, 7: 0},\n",
       "  93: {6: 874.0465},\n",
       "  94: {6: 591.0185, 7: 445.8995},\n",
       "  95: {6: 435.94},\n",
       "  96: {7: 309.6025},\n",
       "  97: {7: 547.6045, 8: 500.1945},\n",
       "  98: {7: 533.885, 8: 588.039, 9: 450.886},\n",
       "  99: {7: 700.196, 8: 1234.4865},\n",
       "  100: {7: 567.2305, 8: 610.0345},\n",
       "  101: {7: 259.9925, 8: 921.103}},\n",
       " 'Npy2r': {1: {0: 1387.682, 1: 1228.4965},\n",
       "  2: {0: 4062.3405, 1: 1758.734},\n",
       "  3: {1: 1475.5495},\n",
       "  4: {0: 1625.6265, 1: 1635.5195},\n",
       "  5: {0: 1616.461},\n",
       "  6: {0: 1451.4485},\n",
       "  7: {0: 1426.339},\n",
       "  8: {0: 1871.0085, 1: 1627.2095},\n",
       "  9: {0: 1112.998},\n",
       "  10: {0: 1408.972},\n",
       "  11: {1: 1515.394, 2: 1429.114},\n",
       "  12: {1: 782.64, 2: 744.5565},\n",
       "  13: {2: 921.0795, 3: 867.5425},\n",
       "  14: {2: 1507.6525, 3: 1565.1715, 4: 1332.4065},\n",
       "  15: {1: 3380.291, 2: 5799.5265},\n",
       "  16: {2: 2328.951, 3: 1976.8745},\n",
       "  17: {1: 1724.4345, 2: 1376.9495},\n",
       "  18: {1: 1116.0905, 2: 897.418},\n",
       "  19: {1: 1389.1325, 2: 1407.6015},\n",
       "  20: {1: 1379.2635, 2: 1376.565},\n",
       "  21: {1: 2036.3035, 2: 1843.4325},\n",
       "  22: {1: 1215.6025, 2: 1292.6175},\n",
       "  23: {1: 1396.7715, 2: 1777.1995},\n",
       "  24: {2: 0, 3: 0},\n",
       "  25: {1: 1117.75, 2: 1191.4375},\n",
       "  26: {1: 1535.6415, 2: 1550.2985},\n",
       "  27: {1: 2314.9915, 2: 2122.199},\n",
       "  28: {1: 1436.6975},\n",
       "  29: {1: 0, 2: 1119.084, 3: 1096.654},\n",
       "  30: {2: 1509.7765, 3: 1385.576, 4: 2249.0},\n",
       "  31: {2: 1334.8205},\n",
       "  32: {2: 1801.2495},\n",
       "  33: {1: 1463.8985, 2: 1487.052, 3: 1382.56},\n",
       "  34: {2: 1607.4955, 3: 1488.6425},\n",
       "  35: {2: 970.8055, 3: 587.0},\n",
       "  36: {1: 1299.21, 2: 976.4795},\n",
       "  37: {2: 1316.914, 3: 1509.8575},\n",
       "  38: {1: 1463.876, 2: 1494.4975},\n",
       "  39: {1: 1524.7395},\n",
       "  40: {3: 1446.5725, 4: 1367.8355},\n",
       "  41: {2: 1468.4415, 3: 1429.229},\n",
       "  42: {3: 1493.541, 4: 1500.1195},\n",
       "  43: {3: 1182.3895},\n",
       "  44: {3: 1541.888, 4: 1394.2785},\n",
       "  45: {3: 1366.414, 4: 1651.8455},\n",
       "  46: {3: 1423.766},\n",
       "  47: {3: 1112.3085, 4: 1098.285},\n",
       "  48: {3: 1391.616},\n",
       "  49: {3: 1286.5035, 4: 1263.284},\n",
       "  50: {3: 2137.564, 4: 1781.766, 5: 1663.4355},\n",
       "  51: {3: 1158.4925, 4: 1080.1495},\n",
       "  52: {3: 1459.7145, 4: 965.0325},\n",
       "  53: {3: 1375.5695, 4: 1344.013},\n",
       "  54: {3: 2079.3675, 4: 1795.512},\n",
       "  55: {3: 2340.5575, 4: 2123.0465},\n",
       "  56: {4: 1829.0495, 5: 1869.036},\n",
       "  57: {4: 1070.0595, 5: 1215.5545},\n",
       "  58: {3: 924.482, 4: 911.6425},\n",
       "  59: {4: 1207.958, 5: 1250.5565},\n",
       "  60: {4: 1268.925},\n",
       "  61: {4: 1387.7035, 5: 1192.271},\n",
       "  62: {4: 1607.043},\n",
       "  63: {4: 1558.358},\n",
       "  64: {4: 1920.509, 5: 1943.177},\n",
       "  65: {3: 1151.4535, 4: 1202.2865},\n",
       "  66: {4: 1232.8195, 5: 1115.5185},\n",
       "  67: {5: 1292.365},\n",
       "  68: {5: 1145.1605, 6: 1023.017},\n",
       "  69: {5: 0, 6: 0},\n",
       "  70: {6: 987.5985},\n",
       "  71: {5: 1096.2525, 6: 1058.8915},\n",
       "  72: {5: 0, 6: 867.2825},\n",
       "  73: {5: 1459.5065},\n",
       "  74: {4: 1515.9545, 5: 1572.217},\n",
       "  75: {4: 1484.4255, 5: 1162.616},\n",
       "  76: {5: 1484.534, 6: 1193.428},\n",
       "  77: {5: 1450.5065},\n",
       "  78: {5: 1241.7305},\n",
       "  79: {5: 1399.1535},\n",
       "  80: {5: 1796.51, 6: 1652.5265},\n",
       "  81: {5: 1581.785, 6: 1196.112, 7: 1382.0145},\n",
       "  82: {5: 1552.6225, 6: 1599.208},\n",
       "  83: {6: 0, 7: 0},\n",
       "  84: {6: 977.517, 7: 1174.624},\n",
       "  85: {6: 1192.223, 7: 1252.1705},\n",
       "  86: {6: 1674.354},\n",
       "  87: {5: 1255.7315, 6: 1209.1195},\n",
       "  88: {5: 1383.01, 6: 1289.1495},\n",
       "  89: {6: 1152.1035, 7: 1099.9425},\n",
       "  90: {6: 1383.369, 7: 1498.25},\n",
       "  91: {6: 1305.037},\n",
       "  92: {6: 1050.1805, 7: 0},\n",
       "  93: {6: 1564.923},\n",
       "  94: {6: 1441.6205, 7: 1231.602},\n",
       "  95: {6: 1326.129},\n",
       "  96: {7: 756.5095},\n",
       "  97: {7: 1613.717, 8: 1269.483},\n",
       "  98: {7: 1227.2375, 8: 1285.472, 9: 1336.191},\n",
       "  99: {7: 1535.262, 8: 1813.323},\n",
       "  100: {7: 1628.533, 8: 1478.2035},\n",
       "  101: {7: 1024.2945, 8: 993.7085}}}"
      ]
     },
     "execution_count": 91,
     "metadata": {},
     "output_type": "execute_result"
    }
   ],
   "source": [
    "bs_raw"
   ]
  },
  {
   "cell_type": "markdown",
   "metadata": {},
   "source": [
    "# Debugging"
   ]
  },
  {
   "cell_type": "code",
   "execution_count": 77,
   "metadata": {
    "ExecuteTime": {
     "end_time": "2020-04-03T17:51:48.101678Z",
     "start_time": "2020-04-03T17:51:42.575678Z"
    }
   },
   "outputs": [
    {
     "name": "stdout",
     "output_type": "stream",
     "text": [
      "Loading Vip images: 0.0 seconds\n"
     ]
    },
    {
     "ename": "IndexError",
     "evalue": "index 270 is out of bounds for axis 1 with size 2",
     "output_type": "error",
     "traceback": [
      "\u001b[1;31m---------------------------------------------------------------------------\u001b[0m",
      "\u001b[1;31mIndexError\u001b[0m                                Traceback (most recent call last)",
      "\u001b[1;32m<ipython-input-77-6caf15cb4bc2>\u001b[0m in \u001b[0;36m<module>\u001b[1;34m\u001b[0m\n\u001b[0;32m     61\u001b[0m \u001b[1;33m\u001b[0m\u001b[0m\n\u001b[0;32m     62\u001b[0m                 \u001b[1;32mfor\u001b[0m \u001b[0ms\u001b[0m \u001b[1;32min\u001b[0m \u001b[0mrange\u001b[0m\u001b[1;33m(\u001b[0m\u001b[0mn_sample\u001b[0m\u001b[1;33m)\u001b[0m\u001b[1;33m:\u001b[0m\u001b[1;33m\u001b[0m\u001b[1;33m\u001b[0m\u001b[0m\n\u001b[1;32m---> 63\u001b[1;33m                     \u001b[0mx\u001b[0m \u001b[1;33m=\u001b[0m \u001b[0mbg_px\u001b[0m\u001b[1;33m[\u001b[0m\u001b[1;36m0\u001b[0m\u001b[1;33m,\u001b[0m \u001b[0msamples\u001b[0m\u001b[1;33m[\u001b[0m\u001b[1;33m:\u001b[0m\u001b[1;33m,\u001b[0m \u001b[0ms\u001b[0m\u001b[1;33m]\u001b[0m\u001b[1;33m]\u001b[0m\u001b[1;33m\u001b[0m\u001b[1;33m\u001b[0m\u001b[0m\n\u001b[0m\u001b[0;32m     64\u001b[0m                     \u001b[0my\u001b[0m \u001b[1;33m=\u001b[0m \u001b[0mbg_px\u001b[0m\u001b[1;33m[\u001b[0m\u001b[1;36m1\u001b[0m\u001b[1;33m,\u001b[0m \u001b[0msamples\u001b[0m\u001b[1;33m[\u001b[0m\u001b[1;33m:\u001b[0m\u001b[1;33m,\u001b[0m \u001b[0ms\u001b[0m\u001b[1;33m]\u001b[0m\u001b[1;33m]\u001b[0m\u001b[1;33m\u001b[0m\u001b[1;33m\u001b[0m\u001b[0m\n\u001b[0;32m     65\u001b[0m \u001b[1;33m\u001b[0m\u001b[0m\n",
      "\u001b[1;31mIndexError\u001b[0m: index 270 is out of bounds for axis 1 with size 2"
     ]
    }
   ],
   "source": [
    "n_sample = 1000\n",
    "# Load metadata\n",
    "with open('{0}{1}{2}'.format(data_path, sep, metadata_file), 'rb') as f:\n",
    "    metadata = pkl.load(f)\n",
    "raw_image_path = metadata['raw_image_path']\n",
    "filt_image_path = metadata['filt_image_path']\n",
    "n_planes = metadata['n_planes']\n",
    "h = metadata['h']\n",
    "w = metadata['w']\n",
    "base_filename = metadata['base_filename']\n",
    "channel_names = metadata['channel_names']\n",
    "sigma_small = metadata['signal_sigma_small']\n",
    "sigma_large = metadata['signal_sigma_large']\n",
    "thresh_scale = metadata['signal_thresh_scale']\n",
    "if genes == None:\n",
    "    genes = metadata['genes']\n",
    "\n",
    "# Load background pixels\n",
    "bg_pixels_no_lipo_file = metadata['bg_pixels_no_lipo_file']\n",
    "with open('{0}{1}{2}'.format(data_path, sep, bg_pixels_no_lipo_file), 'rb') as f:\n",
    "    bg_pixels_no_lipo = pkl.load(f)\n",
    "\n",
    "cell_pixels_no_lipo_file = metadata['cell_pixels_no_lipo_file']\n",
    "with open('{0}{1}{2}'.format(data_path, sep, cell_pixels_no_lipo_file), 'rb') as f:\n",
    "    cell_pixels_no_lipo = pkl.load(f)\n",
    "\n",
    "# Allocate variables to store bootstrap values\n",
    "bs_raw = {gene: {cell: {} for cell in cell_pixels_no_lipo.keys()} for gene in genes}\n",
    "bs_filt = {gene:{cell: {} for cell in cell_pixels_no_lipo.keys()} for gene in genes}\n",
    "\n",
    "t0 = time.time()\n",
    "for gene in genes:\n",
    "\n",
    "    print('Loading {0} images: {1} seconds'.format(gene, np.round(time.time() - t0)))\n",
    "\n",
    "    for plane in range(n_planes):\n",
    "        img = Image.open('{0}{1}{2}{3}{4}.tif'.format(raw_image_path, sep, base_filename, str(plane + 1).zfill(2),\n",
    "                                                        channel_names[gene]))\n",
    "        im_raw = np.array(img)\n",
    "\n",
    "        img = Image.open('{0}{1}{2}_plane{3}_filt_sigma={4},{5}_thresh={6}.tif'.format(filt_image_path, sep, gene,\n",
    "                                                                        str(plane + 1).zfill(2),\n",
    "                                                                        sigma_small, sigma_large,\n",
    "                                                                        thresh_scale))\n",
    "        im_filt = np.array(img)\n",
    "        # Get bootstrap values in raw and filtered images\n",
    "        cells = metadata['cells_in_plane'][plane]\n",
    "        for cell in cells:\n",
    "\n",
    "            bg_px = bg_pixels_no_lipo[cell][plane]\n",
    "            cell_px = cell_pixels_no_lipo[cell][plane]\n",
    "            n_verts_bg = bg_px.shape[0]\n",
    "            n_verts_cell = cell_px.shape[0]\n",
    "            bs_raw[gene][cell][plane] = 0\n",
    "            bs_filt[gene][cell][plane] = 0\n",
    "            if np.logical_or(n_verts_bg == 0, n_verts_cell == 0):\n",
    "                print('Cell {0} plane {1}: all pixels excluded from cell or background'.format(cell, plane))\n",
    "            else:\n",
    "                samples = np.random.choice(np.linspace(0, n_verts_bg - 1, n_verts_bg).astype(int),\n",
    "                                       (n_verts_cell, n_sample), replace = True)\n",
    "\n",
    "                for s in range(n_sample):\n",
    "                    x = bg_px[0, samples[:, s]]\n",
    "                    y = bg_px[1, samples[:, s]]\n",
    "\n",
    "                    bs_raw[gene][cell][plane] += np.mean(im_raw[x, y])\n",
    "                    bs_filt[gene][cell][plane] += np.mean(im_filt[x, y])\n",
    "\n",
    "                bs_raw[gene][cell][plane] /= n_sample\n",
    "                bs_filt[gene][cell][plane] /= n_sample"
   ]
  },
  {
   "cell_type": "code",
   "execution_count": 80,
   "metadata": {
    "ExecuteTime": {
     "end_time": "2020-04-03T17:52:03.155678Z",
     "start_time": "2020-04-03T17:52:03.147678Z"
    }
   },
   "outputs": [
    {
     "data": {
      "text/plain": [
       "(313, 2)"
      ]
     },
     "execution_count": 80,
     "metadata": {},
     "output_type": "execute_result"
    }
   ],
   "source": [
    "bg_px.shape"
   ]
  },
  {
   "cell_type": "code",
   "execution_count": 78,
   "metadata": {
    "ExecuteTime": {
     "end_time": "2020-04-03T17:51:54.691678Z",
     "start_time": "2020-04-03T17:51:54.686678Z"
    }
   },
   "outputs": [
    {
     "data": {
      "text/plain": [
       "1"
      ]
     },
     "execution_count": 78,
     "metadata": {},
     "output_type": "execute_result"
    }
   ],
   "source": [
    "cell"
   ]
  },
  {
   "cell_type": "code",
   "execution_count": 74,
   "metadata": {
    "ExecuteTime": {
     "end_time": "2020-04-03T17:50:37.966678Z",
     "start_time": "2020-04-03T17:50:37.958678Z"
    }
   },
   "outputs": [
    {
     "data": {
      "text/plain": [
       "(275, 2)"
      ]
     },
     "execution_count": 74,
     "metadata": {},
     "output_type": "execute_result"
    }
   ],
   "source": [
    "bg_pixels_no_lipo[cell][2].shape"
   ]
  },
  {
   "cell_type": "code",
   "execution_count": null,
   "metadata": {},
   "outputs": [],
   "source": []
  }
 ],
 "metadata": {
  "celltoolbar": "Initialization Cell",
  "kernelspec": {
   "display_name": "fish",
   "language": "python",
   "name": "fish"
  },
  "language_info": {
   "codemirror_mode": {
    "name": "ipython",
    "version": 3
   },
   "file_extension": ".py",
   "mimetype": "text/x-python",
   "name": "python",
   "nbconvert_exporter": "python",
   "pygments_lexer": "ipython3",
   "version": "3.7.6"
  },
  "toc": {
   "nav_menu": {},
   "number_sections": true,
   "sideBar": true,
   "skip_h1_title": false,
   "toc_cell": false,
   "toc_position": {},
   "toc_section_display": "block",
   "toc_window_display": true
  },
  "varInspector": {
   "cols": {
    "lenName": 16,
    "lenType": 16,
    "lenVar": 40
   },
   "kernels_config": {
    "python": {
     "delete_cmd_postfix": "",
     "delete_cmd_prefix": "del ",
     "library": "var_list.py",
     "varRefreshCmd": "print(var_dic_list())"
    },
    "r": {
     "delete_cmd_postfix": ") ",
     "delete_cmd_prefix": "rm(",
     "library": "var_list.r",
     "varRefreshCmd": "cat(var_dic_list()) "
    }
   },
   "oldHeight": 613.666666,
   "position": {
    "height": "40px",
    "left": "1366px",
    "right": "20px",
    "top": "122px",
    "width": "309px"
   },
   "types_to_exclude": [
    "module",
    "function",
    "builtin_function_or_method",
    "instance",
    "_Feature"
   ],
   "varInspector_section_display": "none",
   "window_display": true
  }
 },
 "nbformat": 4,
 "nbformat_minor": 2
}
