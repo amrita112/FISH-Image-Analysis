{
 "cells": [
  {
   "cell_type": "markdown",
   "metadata": {},
   "source": [
    "Purpose of this notebook:\n",
    "\n",
    "1. Enable quick manual segmentation of large TIF images containing multiple tiles in x-y and multiple z-planes, in a single channel\n",
    "2. Create a table of cells X ROIs also containing information about the location of the cell in vivo (within a particular FOV)\n",
    "3. Allow each cell to have ROIs in multiple z planes\n",
    "4. Work with single image stitched in x-y if possible\n",
    "5. Use ROIs from one channel to calculate intensity in other channels and produce histogram"
   ]
  },
  {
   "cell_type": "markdown",
   "metadata": {
    "heading_collapsed": true
   },
   "source": [
    "# Setup"
   ]
  },
  {
   "cell_type": "code",
   "execution_count": 19,
   "metadata": {
    "ExecuteTime": {
     "end_time": "2019-09-19T03:10:59.786028Z",
     "start_time": "2019-09-19T03:10:49.058828Z"
    },
    "hidden": true
   },
   "outputs": [
    {
     "name": "stdout",
     "output_type": "stream",
     "text": [
      "Solving environment: ...working... done\n",
      "\n",
      "# All requested packages already installed.\n",
      "\n"
     ]
    },
    {
     "name": "stderr",
     "output_type": "stream",
     "text": [
      "\n",
      "\n",
      "==> WARNING: A newer version of conda exists. <==\n",
      "  current version: 4.4.6\n",
      "  latest version: 4.7.12\n",
      "\n",
      "Please update conda by running\n",
      "\n",
      "    $ conda update -n base conda\n",
      "\n",
      "\n"
     ]
    }
   ],
   "source": [
    "!conda install ipykernel --name py365"
   ]
  },
  {
   "cell_type": "code",
   "execution_count": 4,
   "metadata": {
    "ExecuteTime": {
     "end_time": "2019-09-17T21:46:01.732339Z",
     "start_time": "2019-09-17T21:46:00.853941Z"
    },
    "hidden": true,
    "run_control": {
     "marked": false
    }
   },
   "outputs": [
    {
     "name": "stdout",
     "output_type": "stream",
     "text": [
      "Installed kernelspec python3 in C:\\ProgramData\\jupyter\\kernels\\python3\n"
     ]
    }
   ],
   "source": [
    "!python -m ipykernel install"
   ]
  },
  {
   "cell_type": "code",
   "execution_count": 1,
   "metadata": {
    "ExecuteTime": {
     "end_time": "2019-09-19T07:06:31.776228Z",
     "start_time": "2019-09-19T07:06:31.766228Z"
    },
    "hidden": true,
    "init_cell": true
   },
   "outputs": [],
   "source": [
    "%gui qt5 "
   ]
  },
  {
   "cell_type": "code",
   "execution_count": 144,
   "metadata": {
    "ExecuteTime": {
     "end_time": "2019-09-19T10:02:32.475519Z",
     "start_time": "2019-09-19T10:02:32.473518Z"
    },
    "hidden": true,
    "init_cell": true
   },
   "outputs": [],
   "source": [
    "# Imports in alphabetical order of module name\n",
    "\n",
    "from PIL import Image, ImageDraw\n",
    "import napari\n",
    "import numpy as np\n",
    "import pickle as pkl\n",
    "import matplotlib.path as mpltpath\n",
    "import matplotlib.pyplot as plt\n",
    "import scipy\n"
   ]
  },
  {
   "cell_type": "markdown",
   "metadata": {},
   "source": [
    "# Load images"
   ]
  },
  {
   "cell_type": "code",
   "execution_count": 7,
   "metadata": {
    "ExecuteTime": {
     "end_time": "2019-09-19T07:14:31.133428Z",
     "start_time": "2019-09-19T07:14:31.132428Z"
    },
    "init_cell": true
   },
   "outputs": [
    {
     "name": "stdout",
     "output_type": "stream",
     "text": [
      "Number of planes: 37\n"
     ]
    }
   ],
   "source": [
    "## Specify images to load\n",
    "\n",
    "folder = 'Z:\\\\STVoltron\\\\454816\\\\HCR\\\\S1_dapi_647_525_594_z-stack_tiles_2019_09_04__00_34_59'\n",
    "base_filename = 'S1_dapi_647_525_594_z-stack_tiles_2019_09_04__00_34_59_z'\n",
    "plane_nos = range(1, 38)\n",
    "n = len(plane_nos)\n",
    "print('Number of planes: {0}'.format(n))"
   ]
  },
  {
   "cell_type": "code",
   "execution_count": 119,
   "metadata": {
    "ExecuteTime": {
     "end_time": "2019-09-19T09:32:10.859828Z",
     "start_time": "2019-09-19T09:32:10.849828Z"
    }
   },
   "outputs": [],
   "source": [
    "im_array_tac2 = np.zeros([n, h, w, c])"
   ]
  },
  {
   "cell_type": "code",
   "execution_count": 120,
   "metadata": {
    "ExecuteTime": {
     "end_time": "2019-09-19T09:34:54.987828Z",
     "start_time": "2019-09-19T09:33:09.540628Z"
    }
   },
   "outputs": [
    {
     "name": "stdout",
     "output_type": "stream",
     "text": [
      "Loading image 1\n",
      "Loading image 2\n",
      "Loading image 3\n",
      "Loading image 4\n",
      "Loading image 5\n",
      "Loading image 6\n",
      "Loading image 7\n",
      "Loading image 8\n",
      "Loading image 9\n",
      "Loading image 10\n",
      "Loading image 11\n",
      "Loading image 12\n",
      "Loading image 13\n",
      "Loading image 14\n",
      "Loading image 15\n",
      "Loading image 16\n",
      "Loading image 17\n",
      "Loading image 18\n",
      "Loading image 19\n",
      "Loading image 20\n",
      "Loading image 21\n",
      "Loading image 22\n",
      "Loading image 23\n",
      "Loading image 24\n",
      "Loading image 25\n",
      "Loading image 26\n",
      "Loading image 27\n",
      "Loading image 28\n",
      "Loading image 29\n",
      "Loading image 30\n",
      "Loading image 31\n",
      "Loading image 32\n",
      "Loading image 33\n",
      "Loading image 34\n",
      "Loading image 35\n",
      "Loading image 36\n",
      "Loading image 37\n"
     ]
    }
   ],
   "source": [
    "for i in range(n):\n",
    "    print('Loading image {0}'.format(i + 1))\n",
    "    p = plane_nos[i]\n",
    "    img = Image.open('{0}\\{1}{2}c1+2+3+4.tif'.format(folder, base_filename,str(p).zfill(2)))\n",
    "    try:\n",
    "        full_im = np.array(img)\n",
    "        im_array_tac2[i, :, :] = np.reshape(full_im[:, :, 0], [h, w, 1])\n",
    "    except:\n",
    "        print('Plane {0} could not be loaded'.format(p))\n",
    "        print('Size of plane {0} in pixels: {0} X {1}'.format(img.height, img.width))\n",
    "        im_array = np.delete(im_array, i, axis = 0)\n",
    "        plane_nos.remove(p)\n",
    "        i -= 1\n",
    "        n = len(plane_nos)\n",
    "        continue"
   ]
  },
  {
   "cell_type": "code",
   "execution_count": 135,
   "metadata": {
    "ExecuteTime": {
     "end_time": "2019-09-19T09:50:33.365228Z",
     "start_time": "2019-09-19T09:48:48.014828Z"
    }
   },
   "outputs": [
    {
     "name": "stdout",
     "output_type": "stream",
     "text": [
      "Loading image 1\n",
      "Loading image 2\n",
      "Loading image 3\n",
      "Loading image 4\n",
      "Loading image 5\n",
      "Loading image 6\n",
      "Loading image 7\n",
      "Loading image 8\n",
      "Loading image 9\n",
      "Loading image 10\n",
      "Loading image 11\n",
      "Loading image 12\n",
      "Loading image 13\n",
      "Loading image 14\n",
      "Loading image 15\n",
      "Loading image 16\n",
      "Loading image 17\n",
      "Loading image 18\n",
      "Loading image 19\n",
      "Loading image 20\n",
      "Loading image 21\n",
      "Loading image 22\n",
      "Loading image 23\n",
      "Loading image 24\n",
      "Loading image 25\n",
      "Loading image 26\n",
      "Loading image 27\n",
      "Loading image 28\n",
      "Loading image 29\n",
      "Loading image 30\n",
      "Loading image 31\n",
      "Loading image 32\n",
      "Loading image 33\n",
      "Loading image 34\n",
      "Loading image 35\n",
      "Loading image 36\n",
      "Loading image 37\n"
     ]
    }
   ],
   "source": [
    "im_array_egln3 = np.zeros([n, h, w, c])\n",
    "for i in range(n):\n",
    "    print('Loading image {0}'.format(i + 1))\n",
    "    p = plane_nos[i]\n",
    "    img = Image.open('{0}\\{1}{2}c1+2+3+4.tif'.format(folder, base_filename,str(p).zfill(2)))\n",
    "    try:\n",
    "        full_im = np.array(img)\n",
    "        im_array_egln3[i, :, :] = np.reshape(full_im[:, :, 2], [h, w, 1])\n",
    "    except:\n",
    "        print('Plane {0} could not be loaded'.format(p))\n",
    "        print('Size of plane {0} in pixels: {0} X {1}'.format(img.height, img.width))\n",
    "        im_array_egln3 = np.delete(im_array, i, axis = 0)\n",
    "        plane_nos.remove(p)\n",
    "        i -= 1\n",
    "        n = len(plane_nos)\n",
    "        continue"
   ]
  },
  {
   "cell_type": "code",
   "execution_count": 24,
   "metadata": {
    "ExecuteTime": {
     "end_time": "2019-09-19T08:15:03.502028Z",
     "start_time": "2019-09-19T08:13:08.080828Z"
    },
    "init_cell": true
   },
   "outputs": [
    {
     "name": "stdout",
     "output_type": "stream",
     "text": [
      "Size of image in pixels: 37 X 5580 X 5580\n",
      "Loading image 1\n",
      "Loading image 2\n",
      "Loading image 3\n",
      "Loading image 4\n",
      "Loading image 5\n",
      "Loading image 6\n",
      "Loading image 7\n",
      "Loading image 8\n",
      "Loading image 9\n",
      "Loading image 10\n",
      "Loading image 11\n",
      "Loading image 12\n",
      "Loading image 13\n",
      "Loading image 14\n",
      "Loading image 15\n",
      "Loading image 16\n",
      "Loading image 17\n",
      "Loading image 18\n",
      "Loading image 19\n",
      "Loading image 20\n",
      "Loading image 21\n",
      "Loading image 22\n",
      "Loading image 23\n",
      "Loading image 24\n",
      "Loading image 25\n",
      "Loading image 26\n",
      "Loading image 27\n",
      "Loading image 28\n",
      "Loading image 29\n",
      "Loading image 30\n",
      "Loading image 31\n",
      "Loading image 32\n",
      "Loading image 33\n",
      "Loading image 34\n",
      "Loading image 35\n",
      "Loading image 36\n",
      "Loading image 37\n"
     ]
    }
   ],
   "source": [
    "# Create 4D array to store images\n",
    "img = Image.open('{0}\\{1}{2}c1+2+3+4.tif'.format(folder, base_filename, str(plane_nos[0]).zfill(2)))\n",
    "h = img.height\n",
    "w = img.width\n",
    "# c = np.array(img).shape[2]\n",
    "c = 1\n",
    "im_array = np.zeros([n, h, w, c])\n",
    "print('Size of image in pixels: {0} X {1} X {2}'.format(n, h, w))\n",
    "\n",
    "for i in range(n):\n",
    "    print('Loading image {0}'.format(i + 1))\n",
    "    p = plane_nos[i]\n",
    "    img = Image.open('{0}\\{1}{2}c1+2+3+4.tif'.format(folder, base_filename,str(p).zfill(2)))\n",
    "    try:\n",
    "        full_im = np.array(img)\n",
    "        im_array[i, :, :] = np.reshape(full_im[:, :, 1], [h, w, 1])\n",
    "    except:\n",
    "        print('Plane {0} could not be loaded'.format(p))\n",
    "        print('Size of plane {0} in pixels: {0} X {1}'.format(img.height, img.width))\n",
    "        im_array = np.delete(im_array, i, axis = 0)\n",
    "        plane_nos.remove(p)\n",
    "        i -= 1\n",
    "        n = len(plane_nos)\n",
    "        continue\n"
   ]
  },
  {
   "cell_type": "markdown",
   "metadata": {},
   "source": [
    "# Annotation"
   ]
  },
  {
   "cell_type": "markdown",
   "metadata": {
    "heading_collapsed": true
   },
   "source": [
    "## Data structure to store information about cells"
   ]
  },
  {
   "cell_type": "code",
   "execution_count": 33,
   "metadata": {
    "ExecuteTime": {
     "end_time": "2019-09-19T08:36:02.299028Z",
     "start_time": "2019-09-19T08:36:02.275028Z"
    },
    "hidden": true,
    "init_cell": true
   },
   "outputs": [],
   "source": [
    "class Cell:\n",
    "    n_cells = 1\n",
    "    \n",
    "    def __init__(self, cell_no):\n",
    "        \n",
    "        self.cell_no = cell_no\n",
    "        self.z_planes = []\n",
    "        self.no_planes = 0\n",
    "        self.masks = {}\n",
    "        self.c_vals = np.zeros(c)\n",
    "        print('Cell #{0} created'.format(Cell.n_cells))\n",
    "        Cell.n_cells += 1\n",
    "        \n",
    "    def add_mask(self, z_plane, mask):\n",
    "        self.z_planes.append(z_plane)\n",
    "        self.no_planes += 1\n",
    "        self.masks[z_plane] = mask\n",
    "            \n",
    "    def save_cell(self):\n",
    "        cell_data[self.cell_no] = {'cell_id': self.cell_no,\n",
    "                                 'z_planes': self.z_planes,\n",
    "                                 'masks': self.masks,\n",
    "                                 'no_planes': self.no_planes,\n",
    "                                 'c_vals':self.c_vals}\n",
    "    \n",
    "    def del_cell(self):\n",
    "        Cell.n_cells -= 1"
   ]
  },
  {
   "cell_type": "code",
   "execution_count": 34,
   "metadata": {
    "ExecuteTime": {
     "end_time": "2019-09-19T08:36:03.036028Z",
     "start_time": "2019-09-19T08:36:03.028028Z"
    },
    "hidden": true,
    "init_cell": true
   },
   "outputs": [],
   "source": [
    "save_loc = 'Z:\\\\STVoltron\\\\454816\\\\HCR\\\\'\n",
    "save_file = 'S1_ex_vivo_segmentation.pkl'\n",
    "cell_data = {}"
   ]
  },
  {
   "cell_type": "markdown",
   "metadata": {
    "heading_collapsed": true
   },
   "source": [
    "## Render image in napari GUI"
   ]
  },
  {
   "cell_type": "code",
   "execution_count": 27,
   "metadata": {
    "ExecuteTime": {
     "end_time": "2019-09-19T08:18:03.889828Z",
     "start_time": "2019-09-19T08:18:01.230628Z"
    },
    "hidden": true
   },
   "outputs": [
    {
     "name": "stderr",
     "output_type": "stream",
     "text": [
      "C:\\Users\\singha\\AppData\\Local\\Continuum\\anaconda3\\envs\\py365\\lib\\site-packages\\vispy\\visuals\\markers.py:564: FutureWarning: Passing (type, 1) or '1type' as a synonym of type is deprecated; in a future version of numpy, it will be understood as (type, (1,)) / '(1,)type'.\n",
      "  ('a_edgewidth', np.float32, 1)])\n"
     ]
    }
   ],
   "source": [
    "# Open image in napari viewer - each channel as a separate layer \n",
    "viewer = napari.Viewer()\n",
    "\n",
    "for i in range(c):\n",
    "    viewer.add_image(im_array[:, :, :, i], name = 'Channel {0}'.format(i + 1), colormap = 'viridis', \n",
    "                     interpolation = 'nearest')\n",
    "    \n",
    "seg_channel = 0\n",
    "viewer.add_shapes([], name = 'masks', opacity = 0.2, face_color = 'white', edge_color = 'red', edge_width = 3)\n",
    "\n",
    "# Keybinding functions\n",
    "\n",
    "@viewer.bind_key('n')\n",
    "def new_cell(viewer):\n",
    "    global cell1 \n",
    "    cell1 = Cell(Cell.n_cells)\n",
    "\n",
    "@viewer.bind_key('m')\n",
    "def add_mask(viewer):\n",
    "    seg_layer = viewer.layers[seg_channel]\n",
    "    z_plane = seg_layer.coordinates[0]\n",
    "    mask = viewer.layers['masks'].data[-1]\n",
    "    cell1.add_mask(Cell.n_cells, z_plane, mask)\n",
    "    \n",
    "@viewer.bind_key('s')\n",
    "def save_cell(viewer):\n",
    "    cell1.save_cell()"
   ]
  },
  {
   "cell_type": "markdown",
   "metadata": {},
   "source": [
    "## Manual segmentation"
   ]
  },
  {
   "cell_type": "code",
   "execution_count": 35,
   "metadata": {
    "ExecuteTime": {
     "end_time": "2019-09-19T08:36:06.812028Z",
     "start_time": "2019-09-19T08:36:06.800028Z"
    }
   },
   "outputs": [
    {
     "data": {
      "text/plain": [
       "1"
      ]
     },
     "execution_count": 35,
     "metadata": {},
     "output_type": "execute_result"
    }
   ],
   "source": [
    "Cell.n_cells"
   ]
  },
  {
   "cell_type": "code",
   "execution_count": 117,
   "metadata": {
    "ExecuteTime": {
     "end_time": "2019-09-19T09:24:50.832028Z",
     "start_time": "2019-09-19T09:24:50.814028Z"
    },
    "run_control": {
     "marked": true
    }
   },
   "outputs": [
    {
     "name": "stdout",
     "output_type": "stream",
     "text": [
      "Cell 22 saved\n",
      "Cell #23 created\n"
     ]
    }
   ],
   "source": [
    "if Cell.n_cells > 1:\n",
    "    cell1.save_cell()\n",
    "    print('Cell {0} saved'.format(cell1.cell_no))\n",
    "cell1 = Cell(Cell.n_cells)"
   ]
  },
  {
   "cell_type": "code",
   "execution_count": 116,
   "metadata": {
    "ExecuteTime": {
     "end_time": "2019-09-19T09:24:48.574028Z",
     "start_time": "2019-09-19T09:24:48.558028Z"
    }
   },
   "outputs": [
    {
     "name": "stdout",
     "output_type": "stream",
     "text": [
      "mask 2 added in z-plane 24 for cell 22\n",
      "[3205.90801103 3382.54698794]\n"
     ]
    }
   ],
   "source": [
    "seg_layer = viewer.layers[seg_channel]\n",
    "z_plane = seg_layer.coordinates[0]\n",
    "\n",
    "mask = viewer.layers['masks'].data[-1]\n",
    "cell1.add_mask(z_plane, mask)\n",
    "print('mask {0} added in z-plane {1} for cell {2}'.format(cell1.no_planes, z_plane, cell1.cell_no))\n",
    "print(mask[0, :])"
   ]
  },
  {
   "cell_type": "code",
   "execution_count": 179,
   "metadata": {
    "ExecuteTime": {
     "end_time": "2019-10-04T14:59:30.329501Z",
     "start_time": "2019-10-04T14:59:30.191501Z"
    }
   },
   "outputs": [],
   "source": [
    "with open('{0}\\{1}'.format(save_loc, save_file), 'wb') as f:\n",
    "    pkl.dump(cell_data, f)"
   ]
  },
  {
   "cell_type": "code",
   "execution_count": 54,
   "metadata": {
    "ExecuteTime": {
     "end_time": "2019-09-19T03:35:36.092828Z",
     "start_time": "2019-09-19T03:35:36.078828Z"
    }
   },
   "outputs": [
    {
     "data": {
      "text/plain": [
       "{1: {'cell_id': 1,\n",
       "  'z_planes': [0, 1],\n",
       "  'masks': {0: array([[2953.8554176 ,  169.42836987],\n",
       "          [2951.05161622,  180.02050843],\n",
       "          [2957.28228596,  187.80884561],\n",
       "          [2963.82448919,  188.1203791 ],\n",
       "          [2968.4974915 ,  184.69351074],\n",
       "          [2970.67822591,  180.02050843],\n",
       "          [2966.93982406,  174.41290567],\n",
       "          [2962.26682176,  170.05143685]]),\n",
       "   1: array([[2949.1824153 ,  169.73990336],\n",
       "          [2949.1824153 ,  178.15130751],\n",
       "          [2951.05161622,  184.38197725],\n",
       "          [2956.65921899,  187.49731212],\n",
       "          [2960.70915432,  187.80884561],\n",
       "          [2964.75908965,  187.80884561],\n",
       "          [2966.62829058,  185.31657771],\n",
       "          [2968.80902498,  180.95510889],\n",
       "          [2966.93982406,  175.65903961],\n",
       "          [2962.57835524,  173.16677172],\n",
       "          [2956.97075248,  169.73990336]])},\n",
       "  'no_planes': 2,\n",
       "  'c_vals': array([0., 0., 0.])},\n",
       " 2: {'cell_id': 2,\n",
       "  'z_planes': [0],\n",
       "  'masks': {0: array([[2858.52617056,  122.38681332],\n",
       "          [2861.64150543,  132.04435142],\n",
       "          [2869.11830912,  134.22508583],\n",
       "          [2878.46431373,  133.91355234],\n",
       "          [2882.82578255,  132.97895188],\n",
       "          [2883.13731604,  129.24055004],\n",
       "          [2882.20271557,  124.87908122],\n",
       "          [2875.97204583,  120.20607891],\n",
       "          [2864.7568403 ,  117.71381102]])},\n",
       "  'no_planes': 1,\n",
       "  'c_vals': array([0., 0., 0.])}}"
      ]
     },
     "execution_count": 54,
     "metadata": {},
     "output_type": "execute_result"
    }
   ],
   "source": [
    "cell_data"
   ]
  },
  {
   "cell_type": "code",
   "execution_count": 342,
   "metadata": {
    "ExecuteTime": {
     "end_time": "2019-09-19T05:04:39.922028Z",
     "start_time": "2019-09-19T05:04:39.919028Z"
    }
   },
   "outputs": [],
   "source": [
    "Cell.n_cells = 88"
   ]
  },
  {
   "cell_type": "code",
   "execution_count": 341,
   "metadata": {
    "ExecuteTime": {
     "end_time": "2019-09-19T05:04:33.509028Z",
     "start_time": "2019-09-19T05:04:33.493028Z"
    }
   },
   "outputs": [
    {
     "data": {
      "text/plain": [
       "{'cell_id': 88,\n",
       " 'z_planes': [1],\n",
       " 'masks': {1: array([[ 535.58260252, 5701.99759088],\n",
       "         [ 537.50285737, 5710.83076323],\n",
       "         [ 540.57526515, 5716.20747683],\n",
       "         [ 545.56792778, 5718.12773169],\n",
       "         [ 549.79248847, 5716.5915278 ],\n",
       "         [ 551.32869235, 5714.28722197],\n",
       "         [ 551.32869235, 5708.91050837],\n",
       "         [ 550.17653944, 5704.30189671],\n",
       "         [ 547.87223361, 5700.84543797],\n",
       "         [ 542.49552   , 5697.38897922],\n",
       "         [ 539.8071632 , 5697.00492825]])},\n",
       " 'no_planes': 1,\n",
       " 'c_vals': array([0., 0., 0.])}"
      ]
     },
     "execution_count": 341,
     "metadata": {},
     "output_type": "execute_result"
    }
   ],
   "source": [
    "cell_data.pop(88)"
   ]
  },
  {
   "cell_type": "code",
   "execution_count": 343,
   "metadata": {
    "ExecuteTime": {
     "end_time": "2019-09-19T05:04:45.129028Z",
     "start_time": "2019-09-19T05:04:45.123028Z"
    }
   },
   "outputs": [
    {
     "name": "stdout",
     "output_type": "stream",
     "text": [
      "Cell #88 created\n"
     ]
    }
   ],
   "source": [
    "cell1 = Cell(88)"
   ]
  },
  {
   "cell_type": "code",
   "execution_count": 213,
   "metadata": {
    "ExecuteTime": {
     "end_time": "2019-09-19T04:27:24.802428Z",
     "start_time": "2019-09-19T04:27:24.792428Z"
    }
   },
   "outputs": [
    {
     "data": {
      "text/plain": [
       "55"
      ]
     },
     "execution_count": 213,
     "metadata": {},
     "output_type": "execute_result"
    }
   ],
   "source": [
    "Cell.n_cells"
   ]
  },
  {
   "cell_type": "code",
   "execution_count": 57,
   "metadata": {
    "ExecuteTime": {
     "end_time": "2019-09-19T03:36:35.906828Z",
     "start_time": "2019-09-19T03:36:35.899828Z"
    }
   },
   "outputs": [
    {
     "data": {
      "text/plain": [
       "3"
      ]
     },
     "execution_count": 57,
     "metadata": {},
     "output_type": "execute_result"
    }
   ],
   "source": [
    "cell1.cell_no"
   ]
  },
  {
   "cell_type": "code",
   "execution_count": 212,
   "metadata": {
    "ExecuteTime": {
     "end_time": "2019-09-19T04:27:13.847428Z",
     "start_time": "2019-09-19T04:27:13.840428Z"
    },
    "scrolled": true
   },
   "outputs": [
    {
     "data": {
      "text/plain": [
       "53"
      ]
     },
     "execution_count": 212,
     "metadata": {},
     "output_type": "execute_result"
    }
   ],
   "source": [
    "len(cell_data.keys())"
   ]
  },
  {
   "cell_type": "code",
   "execution_count": 448,
   "metadata": {
    "ExecuteTime": {
     "end_time": "2019-09-18T22:43:43.911752Z",
     "start_time": "2019-09-18T22:43:43.909752Z"
    }
   },
   "outputs": [
    {
     "data": {
      "text/plain": [
       "{12: array([[ 348.29958235, 2505.0680144 ],\n",
       "        [ 339.20836198, 2506.69144661],\n",
       "        [ 335.31212468, 2514.48392121],\n",
       "        [ 337.90961622, 2519.35421784],\n",
       "        [ 341.48116707, 2522.9257687 ],\n",
       "        [ 346.02677726, 2524.22451446],\n",
       "        [ 348.62426879, 2522.27639581],\n",
       "        [ 350.57238744, 2519.0295314 ],\n",
       "        [ 352.19581965, 2515.78266698],\n",
       "        [ 352.84519254, 2508.63956526]]),\n",
       " 13: array([[ 348.29958235, 2505.0680144 ],\n",
       "        [ 339.20836198, 2506.69144661],\n",
       "        [ 335.31212468, 2514.48392121],\n",
       "        [ 337.90961622, 2519.35421784],\n",
       "        [ 341.48116707, 2522.9257687 ],\n",
       "        [ 346.02677726, 2524.22451446],\n",
       "        [ 348.62426879, 2522.27639581],\n",
       "        [ 350.57238744, 2519.0295314 ],\n",
       "        [ 352.19581965, 2515.78266698],\n",
       "        [ 352.84519254, 2508.63956526]])}"
      ]
     },
     "execution_count": 448,
     "metadata": {},
     "output_type": "execute_result"
    }
   ],
   "source": [
    "cell1.masks"
   ]
  },
  {
   "cell_type": "markdown",
   "metadata": {},
   "source": [
    "## Calculate intensity in other channels"
   ]
  },
  {
   "cell_type": "code",
   "execution_count": 123,
   "metadata": {
    "ExecuteTime": {
     "end_time": "2019-09-19T09:38:16.268428Z",
     "start_time": "2019-09-19T09:37:50.341828Z"
    }
   },
   "outputs": [],
   "source": [
    "# Only run once:\n",
    "xv = range(w)\n",
    "yv = range(h)\n",
    "coord_array = np.array(np.meshgrid(xv, yv))\n",
    "\n",
    "points = np.zeros([h*w, 2])\n",
    "p = 0\n",
    "for i in range(h):\n",
    "    for j in range(w):\n",
    "        points[p, 1] = coord_array[0, i, j]\n",
    "        points[p, 0] = coord_array[1, i, j]\n",
    "        p += 1\n",
    "        \n",
    "dil_mask = np.zeros([h, w])"
   ]
  },
  {
   "cell_type": "code",
   "execution_count": 166,
   "metadata": {
    "ExecuteTime": {
     "end_time": "2019-09-19T10:16:48.292161Z",
     "start_time": "2019-09-19T10:14:37.595249Z"
    }
   },
   "outputs": [
    {
     "name": "stdout",
     "output_type": "stream",
     "text": [
      "Cell 0\n",
      "Cell 1\n",
      "Cell 2\n",
      "Cell 3\n",
      "Cell 4\n",
      "Cell 5\n",
      "Cell 6\n",
      "Cell 7\n",
      "Cell 8\n",
      "Cell 9\n",
      "Cell 10\n",
      "Cell 11\n",
      "Cell 12\n",
      "Cell 13\n",
      "Cell 14\n",
      "Cell 15\n",
      "Cell 16\n",
      "Cell 17\n",
      "Cell 18\n",
      "Cell 19\n",
      "Cell 20\n",
      "Cell 21\n"
     ]
    },
    {
     "name": "stderr",
     "output_type": "stream",
     "text": [
      "WARNING: QSocketNotifier: Multiple socket notifiers for same socket 732 and type Read\n"
     ]
    }
   ],
   "source": [
    "no_cells = len(cell_data.keys())\n",
    "tac2_avg_intensity = np.zeros(no_cells)\n",
    "egln3_avg_intensity = np.zeros(no_cells)\n",
    "\n",
    "for cell in range(no_cells):\n",
    "    \n",
    "#     if np.mod(cell, 10) == 0:\n",
    "    print('Cell {0}'.format(cell))\n",
    "    cell_no = cell + 1\n",
    "    cell_dict = cell_data[cell_no]\n",
    "    masks = cell_dict['masks']\n",
    "    z_planes = cell_dict['z_planes']\n",
    "\n",
    "    tac2_intensity = np.zeros(cell_dict['no_planes'])\n",
    "    egln3_intensity = np.zeros(cell_dict['no_planes'])\n",
    "    \n",
    "    i = 0\n",
    "    for plane in z_planes:\n",
    "\n",
    "        vertices = masks[plane]\n",
    "        path = mpltpath.Path(vertices)\n",
    "        mask = path.contains_points(points)\n",
    "        mask = np.reshape(mask, [h, w])\n",
    "\n",
    "        tac2_intensity[i] = np.mean(im_array_tac2[plane, mask, 0])\n",
    "        egln3_intensity[i] = np.mean(im_array_egln3[plane, mask, 0])\n",
    "        \n",
    "        # Background subtraction\n",
    "        left = np.min(vertices[:, 0])\n",
    "        right = np.max(vertices[:, 0])\n",
    "        top = np.min(vertices[:, 1])\n",
    "        bottom = np.max(vertices[:, 1])\n",
    "        dil_mask[int(top) - 50:int(bottom) + 50, int(left) - 50:int(right) + 50] = 1\n",
    "        dil_mask = dil_mask.astype(bool)\n",
    "        \n",
    "        tac2_bg = np.mean(im_array_tac2[plane, dil_mask, 0])\n",
    "        egln3_bg = np.mean(im_array_egln3[plane, dil_mask, 0])\n",
    "        \n",
    "        tac2_intensity[i] -= tac2_bg\n",
    "        egln3_intensity[i] -= egln3_bg\n",
    "        \n",
    "        i += 1\n",
    "    \n",
    "    tac2_avg_intensity[cell] = np.mean(tac2_intensity)\n",
    "    egln3_avg_intensity[cell] = np.mean(egln3_intensity)\n"
   ]
  },
  {
   "cell_type": "code",
   "execution_count": 167,
   "metadata": {
    "ExecuteTime": {
     "end_time": "2019-09-19T10:18:24.033193Z",
     "start_time": "2019-09-19T10:18:23.804980Z"
    }
   },
   "outputs": [
    {
     "data": {
      "text/plain": [
       "(array([2., 2., 5., 5., 2., 1., 3., 1., 0., 1.]),\n",
       " array([-0.06447348,  0.04197387,  0.14842122,  0.25486857,  0.36131591,\n",
       "         0.46776326,  0.57421061,  0.68065796,  0.7871053 ,  0.89355265,\n",
       "         1.        ]),\n",
       " <a list of 10 Patch objects>)"
      ]
     },
     "execution_count": 167,
     "metadata": {},
     "output_type": "execute_result"
    },
    {
     "data": {
      "image/png": "[encoded data removed]",
      "text/plain": [
       "<Figure size 432x288 with 1 Axes>"
      ]
     },
     "metadata": {
      "needs_background": "light"
     },
     "output_type": "display_data"
    }
   ],
   "source": [
    "plt.hist(tac2_avg_intensity/np.max(tac2_avg_intensity), 10)\n",
    "plt.hist(egln3_avg_intensity/np.max(egln3_avg_intensity), 10)"
   ]
  },
  {
   "cell_type": "code",
   "execution_count": 168,
   "metadata": {
    "ExecuteTime": {
     "end_time": "2019-09-19T10:18:28.561405Z",
     "start_time": "2019-09-19T10:18:28.395388Z"
    }
   },
   "outputs": [
    {
     "data": {
      "text/plain": [
       "<matplotlib.collections.PathCollection at 0x223eb128>"
      ]
     },
     "execution_count": 168,
     "metadata": {},
     "output_type": "execute_result"
    },
    {
     "data": {
      "image/png": "[encoded data removed]",
      "text/plain": [
       "<Figure size 432x288 with 1 Axes>"
      ]
     },
     "metadata": {
      "needs_background": "light"
     },
     "output_type": "display_data"
    }
   ],
   "source": [
    "plt.scatter(tac2_avg_intensity, egln3_avg_intensity)"
   ]
  },
  {
   "cell_type": "code",
   "execution_count": 169,
   "metadata": {
    "ExecuteTime": {
     "end_time": "2019-09-19T10:19:07.095119Z",
     "start_time": "2019-09-19T10:19:06.914101Z"
    }
   },
   "outputs": [
    {
     "data": {
      "text/plain": [
       "[<matplotlib.lines.Line2D at 0x22430278>]"
      ]
     },
     "execution_count": 169,
     "metadata": {},
     "output_type": "execute_result"
    },
    {
     "data": {
      "image/png": "[encoded data removed]",
      "text/plain": [
       "<Figure size 432x288 with 1 Axes>"
      ]
     },
     "metadata": {
      "needs_background": "light"
     },
     "output_type": "display_data"
    }
   ],
   "source": [
    "plt.plot(tac2_avg_intensity/egln3_avg_intensity)"
   ]
  },
  {
   "cell_type": "code",
   "execution_count": 170,
   "metadata": {
    "ExecuteTime": {
     "end_time": "2019-09-19T12:57:17.535325Z",
     "start_time": "2019-09-19T12:57:17.454325Z"
    }
   },
   "outputs": [],
   "source": [
    "fr = [2.6900,    5.2300,    5.9700,    0.3000,    4.5500,   \n",
    "      10.4100,    1.3100,    3.6900,    2.1600,    2.4100,    2.3000,   \n",
    "      2.6000,    2.1500,    4.8400,    2.1400,\n",
    "\n",
    "    2.1100,    2.3500,    1.4700,    4.4300,    2.3700,    2.5600,    3.7900]"
   ]
  },
  {
   "cell_type": "code",
   "execution_count": 171,
   "metadata": {
    "ExecuteTime": {
     "end_time": "2019-09-19T12:57:28.583325Z",
     "start_time": "2019-09-19T12:57:28.582325Z"
    }
   },
   "outputs": [],
   "source": [
    "ratio = tac2_avg_intensity/egln3_avg_intensity"
   ]
  },
  {
   "cell_type": "code",
   "execution_count": 172,
   "metadata": {
    "ExecuteTime": {
     "end_time": "2019-09-19T12:57:35.708325Z",
     "start_time": "2019-09-19T12:57:35.451325Z"
    }
   },
   "outputs": [
    {
     "data": {
      "text/plain": [
       "<matplotlib.collections.PathCollection at 0x224306d8>"
      ]
     },
     "execution_count": 172,
     "metadata": {},
     "output_type": "execute_result"
    },
    {
     "data": {
      "image/png": "[encoded data removed]",
      "text/plain": [
       "<Figure size 432x288 with 1 Axes>"
      ]
     },
     "metadata": {
      "needs_background": "light"
     },
     "output_type": "display_data"
    }
   ],
   "source": [
    "plt.scatter(ratio, fr)"
   ]
  },
  {
   "cell_type": "code",
   "execution_count": 178,
   "metadata": {
    "ExecuteTime": {
     "end_time": "2019-09-19T16:23:39.564394Z",
     "start_time": "2019-09-19T16:23:39.336394Z"
    }
   },
   "outputs": [
    {
     "data": {
      "image/png": "[encoded data removed]",
      "text/plain": [
       "<Figure size 432x288 with 1 Axes>"
      ]
     },
     "metadata": {
      "needs_background": "light"
     },
     "output_type": "display_data"
    }
   ],
   "source": [
    "plt.scatter(ratio[:15], fr[:15], color = 'k')\n",
    "plt.savefig('C:\\\\Users\\\\singha\\\\Documents\\\\Janelia admin stuff\\\\2019_hopkins_poster\\\\spike_rate.svg')"
   ]
  },
  {
   "cell_type": "code",
   "execution_count": null,
   "metadata": {},
   "outputs": [],
   "source": []
  }
 ],
 "metadata": {
  "celltoolbar": "Initialization Cell",
  "kernelspec": {
   "display_name": "Python 3",
   "language": "python",
   "name": "python3"
  },
  "language_info": {
   "codemirror_mode": {
    "name": "ipython",
    "version": 3
   },
   "file_extension": ".py",
   "mimetype": "text/x-python",
   "name": "python",
   "nbconvert_exporter": "python",
   "pygments_lexer": "ipython3",
   "version": "3.6.5"
  },
  "toc": {
   "nav_menu": {},
   "number_sections": true,
   "sideBar": true,
   "skip_h1_title": false,
   "toc_cell": false,
   "toc_position": {},
   "toc_section_display": "block",
   "toc_window_display": true
  },
  "varInspector": {
   "cols": {
    "lenName": 16,
    "lenType": 16,
    "lenVar": 40
   },
   "kernels_config": {
    "python": {
     "delete_cmd_postfix": "",
     "delete_cmd_prefix": "del ",
     "library": "var_list.py",
     "varRefreshCmd": "print(var_dic_list())"
    },
    "r": {
     "delete_cmd_postfix": ") ",
     "delete_cmd_prefix": "rm(",
     "library": "var_list.r",
     "varRefreshCmd": "cat(var_dic_list()) "
    }
   },
   "oldHeight": 680.694518,
   "position": {
    "height": "702.176px",
    "left": "1942.9px",
    "right": "20px",
    "top": "139.981px",
    "width": "525.486px"
   },
   "types_to_exclude": [
    "module",
    "function",
    "builtin_function_or_method",
    "instance",
    "_Feature"
   ],
   "varInspector_section_display": "block",
   "window_display": true
  }
 },
 "nbformat": 4,
 "nbformat_minor": 2
}
