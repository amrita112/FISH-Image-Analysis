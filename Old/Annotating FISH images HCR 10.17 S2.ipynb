{
 "cells": [
  {
   "cell_type": "markdown",
   "metadata": {},
   "source": [
    "Purpose of this notebook:\n",
    "\n",
    "1. Enable quick manual segmentation of large TIF images containing multiple tiles in x-y and multiple z-planes, in a single channel\n",
    "2. Create a table of cells X ROIs also containing information about the location of the cell in vivo (within a particular FOV)\n",
    "3. Allow each cell to have ROIs in multiple z planes\n",
    "4. Work with single image stitched in x-y if possible\n",
    "5. Use ROIs from one channel to calculate intensity in other channels and produce histogram\n",
    "\n",
    "Make sure notebook is opened in py365 environment"
   ]
  },
  {
   "cell_type": "markdown",
   "metadata": {
    "heading_collapsed": true
   },
   "source": [
    "# Setup"
   ]
  },
  {
   "cell_type": "code",
   "execution_count": 1,
   "metadata": {
    "ExecuteTime": {
     "end_time": "2019-11-25T22:59:54.380698Z",
     "start_time": "2019-11-25T22:59:54.371698Z"
    },
    "hidden": true,
    "init_cell": true
   },
   "outputs": [],
   "source": [
    "%gui qt5 "
   ]
  },
  {
   "cell_type": "code",
   "execution_count": 1,
   "metadata": {
    "ExecuteTime": {
     "end_time": "2019-11-28T22:45:56.067698Z",
     "start_time": "2019-11-28T22:45:53.663698Z"
    },
    "hidden": true,
    "init_cell": true
   },
   "outputs": [],
   "source": [
    "# Imports in alphabetical order of module name\n",
    "\n",
    "from IPython.display import display\n",
    "from PIL import Image, ImageDraw\n",
    "import napari\n",
    "import numpy as np\n",
    "import pickle as pkl\n",
    "import matplotlib.path as mpltpath\n",
    "import matplotlib.pyplot as plt\n"
   ]
  },
  {
   "cell_type": "markdown",
   "metadata": {},
   "source": [
    "# Load images"
   ]
  },
  {
   "cell_type": "markdown",
   "metadata": {
    "heading_collapsed": true
   },
   "source": [
    "## Segmentation channel"
   ]
  },
  {
   "cell_type": "code",
   "execution_count": 2,
   "metadata": {
    "ExecuteTime": {
     "end_time": "2019-11-28T22:46:08.774698Z",
     "start_time": "2019-11-28T22:46:08.768698Z"
    },
    "hidden": true,
    "init_cell": true
   },
   "outputs": [
    {
     "name": "stdout",
     "output_type": "stream",
     "text": [
      "Number of planes: 31\n"
     ]
    }
   ],
   "source": [
    "## Specify images to load\n",
    "\n",
    "# folder2 = 'Z:\\HCR\\9.2_FISH\\S1_dapi_546_488_647'\n",
    "#folder = 'Z:\\HCR\\HCR_10.17\\S2_DAPI_546_647_514_594_2019_10_19__16_28_49'\n",
    "folder = 'F:\\HCR\\HCR_10.17\\S2_DAPI_546_647_514_594_2019_10_19__16_28_49'\n",
    "\n",
    "# base_filename2 = 'S1_dapi_546_488_647_s2z'\n",
    "base_filename = 'S2_DAPI_546_647_514_594_2019_10_19__16_28_49_z'\n",
    "\n",
    "plane_nos = range(1, 32)\n",
    "n = len(plane_nos)\n",
    "print('Number of planes: {0}'.format(n))"
   ]
  },
  {
   "cell_type": "code",
   "execution_count": 3,
   "metadata": {
    "ExecuteTime": {
     "end_time": "2019-11-28T22:46:10.710698Z",
     "start_time": "2019-11-28T22:46:10.671698Z"
    },
    "hidden": true,
    "init_cell": true
   },
   "outputs": [
    {
     "name": "stdout",
     "output_type": "stream",
     "text": [
      "Size of image in pixels: 31 X 2867 X 11161\n"
     ]
    }
   ],
   "source": [
    "# Create 4D array to store images\n",
    "img = Image.open('{0}\\{1}{2}c4_ORG.tif'.format(folder, base_filename, str(plane_nos[0]).zfill(2)))\n",
    "# img2 = Image.open('{0}\\{1}{2}c1+2+3+4.tif'.format(folder2, base_filename2, str(plane_nos[0]).zfill(2)))\n",
    "\n",
    "h = img.height\n",
    "# h2 = img2.height                  \n",
    "                  \n",
    "w = img.width\n",
    "# w2 = img2.width\n",
    "                  \n",
    "# c = np.array(img).shape[2]\n",
    "im_array = np.zeros([n, h, w])\n",
    "# im_array2 = np.zeros([n, h2, w2])\n",
    "print('Size of image in pixels: {0} X {1} X {2}'.format(n, h, w))\n",
    "\n",
    "# for i in range(n):\n",
    "#     print('Loading image {0}'.format(i + 1))\n",
    "#     p = plane_nos[i]\n",
    "#     img = Image.open('{0}\\{1}{2}c4_ORG.tif'.format(folder, base_filename, str(p).zfill(2)))\n",
    "# #     img2 = Image.open('{0}\\{1}{2}c1+2+3+4.tif'.format(folder2, base_filename2, str(p).zfill(2)))\n",
    "#     try:\n",
    "#         im_array[i, :, :] = np.array(img)\n",
    "# #         im_array2[i, :, :] = np.array(img2)[:, :, 0]\n",
    "#     except:\n",
    "#         print('Plane {0} could not be loaded'.format(p))\n",
    "#         print('Size of plane {0} in pixels: {0} X {1}'.format(img.height, img.width))\n",
    "#         im_array = np.delete(im_array, i, axis = 0)\n",
    "#         plane_nos.remove(p)\n",
    "#         i -= 1\n",
    "#         n = len(plane_nos)\n",
    "#         continue\n"
   ]
  },
  {
   "cell_type": "markdown",
   "metadata": {
    "heading_collapsed": true
   },
   "source": [
    "## Load other channels"
   ]
  },
  {
   "cell_type": "code",
   "execution_count": 4,
   "metadata": {
    "ExecuteTime": {
     "end_time": "2019-11-28T22:48:22.207698Z",
     "start_time": "2019-11-28T22:46:15.536698Z"
    },
    "hidden": true
   },
   "outputs": [
    {
     "name": "stdout",
     "output_type": "stream",
     "text": [
      "Ndnf\n",
      "Loading image 1\n",
      "Loading image 2\n",
      "Loading image 3\n",
      "Loading image 4\n",
      "Loading image 5\n",
      "Loading image 6\n",
      "Loading image 7\n",
      "Loading image 8\n",
      "Loading image 9\n",
      "Loading image 10\n",
      "Loading image 11\n",
      "Loading image 12\n",
      "Loading image 13\n",
      "Loading image 14\n",
      "Loading image 15\n",
      "Loading image 16\n",
      "Loading image 17\n",
      "Loading image 18\n",
      "Loading image 19\n",
      "Loading image 20\n",
      "Loading image 21\n",
      "Loading image 22\n",
      "Loading image 23\n",
      "Loading image 24\n",
      "Loading image 25\n",
      "Loading image 26\n",
      "Loading image 27\n",
      "Loading image 28\n",
      "Loading image 29\n",
      "Loading image 30\n",
      "Loading image 31\n",
      "Vip\n",
      "Loading image 1\n",
      "Loading image 2\n",
      "Loading image 3\n",
      "Loading image 4\n",
      "Loading image 5\n",
      "Loading image 6\n",
      "Loading image 7\n",
      "Loading image 8\n",
      "Loading image 9\n",
      "Loading image 10\n",
      "Loading image 11\n",
      "Loading image 12\n",
      "Loading image 13\n",
      "Loading image 14\n",
      "Loading image 15\n",
      "Loading image 16\n",
      "Loading image 17\n",
      "Loading image 18\n",
      "Loading image 19\n",
      "Loading image 20\n",
      "Loading image 21\n",
      "Loading image 22\n",
      "Loading image 23\n",
      "Loading image 24\n",
      "Loading image 25\n",
      "Loading image 26\n",
      "Loading image 27\n",
      "Loading image 28\n",
      "Loading image 29\n",
      "Loading image 30\n",
      "Loading image 31\n",
      "Sst\n",
      "Loading image 1\n",
      "Loading image 2\n",
      "Loading image 3\n",
      "Loading image 4\n",
      "Loading image 5\n",
      "Loading image 6\n",
      "Loading image 7\n",
      "Loading image 8\n",
      "Loading image 9\n",
      "Loading image 10\n",
      "Loading image 11\n",
      "Loading image 12\n",
      "Loading image 13\n",
      "Loading image 14\n",
      "Loading image 15\n",
      "Loading image 16\n",
      "Loading image 17\n",
      "Loading image 18\n",
      "Loading image 19\n",
      "Loading image 20\n",
      "Loading image 21\n",
      "Loading image 22\n",
      "Loading image 23\n",
      "Loading image 24\n",
      "Loading image 25\n",
      "Loading image 26\n",
      "Loading image 27\n",
      "Loading image 28\n",
      "Loading image 29\n",
      "Loading image 30\n",
      "Loading image 31\n"
     ]
    }
   ],
   "source": [
    "# Background subtracted\n",
    "print('Ndnf')\n",
    "im_array_ndnf = np.zeros([n, h, w])\n",
    "img_file = 'S2_Ndnf_bg_sub2'\n",
    "img = Image.open('{0}\\{1}.tif'.format(folder, img_file))\n",
    "for i in range(n):\n",
    "    print('Loading image {0}'.format(i + 1))\n",
    "    p = plane_nos[i]\n",
    "    try:\n",
    "        img.seek(p - 1)\n",
    "        im_array_ndnf[i, :, :] = np.array(img)\n",
    "        \n",
    "    except:\n",
    "        print('Plane {0} could not be loaded'.format(p))\n",
    "        print('Size of plane {0} in pixels: {0} X {1}'.format(img.height, img.width))\n",
    "        im_array_ndnf = np.delete(im_array_ndnf, i, axis = 0)\n",
    "        plane_nos.remove(p)\n",
    "        i -= 1\n",
    "        n = len(plane_nos)\n",
    "        continue\n",
    "\n",
    "print('Vip')\n",
    "im_array_vip = np.zeros([n, h, w])\n",
    "img_file = 'S2_Vip_bg_sub2'\n",
    "img = Image.open('{0}\\{1}.tif'.format(folder, img_file))\n",
    "for i in range(n):\n",
    "    print('Loading image {0}'.format(i + 1))\n",
    "    p = plane_nos[i]\n",
    "    try:\n",
    "        img.seek(p - 1)\n",
    "        im_array_vip[i, :, :] = np.array(img)\n",
    "        \n",
    "    except:\n",
    "        print('Plane {0} could not be loaded'.format(p))\n",
    "        print('Size of plane {0} in pixels: {0} X {1}'.format(img.height, img.width))\n",
    "        im_array_vip = np.delete(im_array_vip, i, axis = 0)\n",
    "        plane_nos.remove(p)\n",
    "        i -= 1\n",
    "        n = len(plane_nos)\n",
    "        continue\n",
    "        \n",
    "        \n",
    "print('Sst')\n",
    "im_array_sst = np.zeros([n, h, w])\n",
    "img_file = 'S2_Sst_bg_sub2'\n",
    "img = Image.open('{0}\\{1}.tif'.format(folder, img_file))\n",
    "for i in range(n):\n",
    "    print('Loading image {0}'.format(i + 1))\n",
    "    p = plane_nos[i]\n",
    "    try:\n",
    "        img.seek(p - 1)\n",
    "        im_array_sst[i, :, :] = np.array(img)\n",
    "        \n",
    "    except:\n",
    "        print('Plane {0} could not be loaded'.format(p))\n",
    "        print('Size of plane {0} in pixels: {0} X {1}'.format(img.height, img.width))\n",
    "        im_array_sst = np.delete(im_array_sst, i, axis = 0)\n",
    "        plane_nos.remove(p)\n",
    "        i -= 1\n",
    "        n = len(plane_nos)\n",
    "        continue    "
   ]
  },
  {
   "cell_type": "code",
   "execution_count": 6,
   "metadata": {
    "ExecuteTime": {
     "end_time": "2019-11-18T10:34:57.843389Z",
     "start_time": "2019-11-18T10:34:02.821389Z"
    },
    "hidden": true
   },
   "outputs": [
    {
     "name": "stdout",
     "output_type": "stream",
     "text": [
      "Loading image 1\n",
      "Loading image 2\n",
      "Loading image 3\n",
      "Loading image 4\n",
      "Loading image 5\n",
      "Loading image 6\n",
      "Loading image 7\n",
      "Loading image 8\n",
      "Loading image 9\n",
      "Loading image 10\n",
      "Loading image 11\n",
      "Loading image 12\n",
      "Loading image 13\n",
      "Loading image 14\n",
      "Loading image 15\n",
      "Loading image 16\n",
      "Loading image 17\n",
      "Loading image 18\n",
      "Loading image 19\n",
      "Loading image 20\n",
      "Loading image 21\n",
      "Loading image 22\n",
      "Loading image 23\n",
      "Loading image 24\n",
      "Loading image 25\n",
      "Loading image 26\n",
      "Loading image 27\n",
      "Loading image 28\n",
      "Loading image 29\n",
      "Loading image 30\n",
      "Loading image 31\n"
     ]
    }
   ],
   "source": [
    "im_array_ndnf = np.zeros([n, h, w])\n",
    "for i in range(n):\n",
    "    print('Loading image {0}'.format(i + 1))\n",
    "    p = plane_nos[i]\n",
    "    img = Image.open('{0}\\{1}{2}c3_ORG.tif'.format(folder, base_filename,str(p).zfill(2)))\n",
    "    try:\n",
    "        im_array_ndnf[i, :, :] = np.array(img)\n",
    "    except:\n",
    "        print('Plane {0} could not be loaded'.format(p))\n",
    "        print('Size of plane {0} in pixels: {0} X {1}'.format(img.height, img.width))\n",
    "        im_array_ndnf = np.delete(im_array, i, axis = 0)\n",
    "        plane_nos.remove(p)\n",
    "        i -= 1\n",
    "        n = len(plane_nos)\n",
    "        continue"
   ]
  },
  {
   "cell_type": "code",
   "execution_count": 7,
   "metadata": {
    "ExecuteTime": {
     "end_time": "2019-11-18T10:36:08.729389Z",
     "start_time": "2019-11-18T10:34:57.891389Z"
    },
    "hidden": true
   },
   "outputs": [
    {
     "name": "stdout",
     "output_type": "stream",
     "text": [
      "Loading image 1\n",
      "Loading image 2\n",
      "Loading image 3\n",
      "Loading image 4\n",
      "Loading image 5\n",
      "Loading image 6\n",
      "Loading image 7\n",
      "Loading image 8\n",
      "Loading image 9\n",
      "Loading image 10\n",
      "Loading image 11\n",
      "Loading image 12\n",
      "Loading image 13\n",
      "Loading image 14\n",
      "Loading image 15\n",
      "Loading image 16\n",
      "Loading image 17\n",
      "Loading image 18\n",
      "Loading image 19\n",
      "Loading image 20\n",
      "Loading image 21\n",
      "Loading image 22\n",
      "Loading image 23\n",
      "Loading image 24\n",
      "Loading image 25\n",
      "Loading image 26\n",
      "Loading image 27\n",
      "Loading image 28\n",
      "Loading image 29\n",
      "Loading image 30\n",
      "Loading image 31\n"
     ]
    }
   ],
   "source": [
    "im_array_vip = np.zeros([n, h, w])\n",
    "for i in range(n):\n",
    "    print('Loading image {0}'.format(i + 1))\n",
    "    p = plane_nos[i]\n",
    "    img = Image.open('{0}\\{1}{2}c2_ORG.tif'.format(folder, base_filename,str(p).zfill(2)))\n",
    "    try:\n",
    "        im_array_vip[i, :, :] = np.array(img)\n",
    "    except:\n",
    "        print('Plane {0} could not be loaded'.format(p))\n",
    "        print('Size of plane {0} in pixels: {0} X {1}'.format(img.height, img.width))\n",
    "        im_array_vip = np.delete(im_array, i, axis = 0)\n",
    "        plane_nos.remove(p)\n",
    "        i -= 1\n",
    "        n = len(plane_nos)\n",
    "        continue"
   ]
  },
  {
   "cell_type": "code",
   "execution_count": 8,
   "metadata": {
    "ExecuteTime": {
     "end_time": "2019-11-18T10:37:21.401389Z",
     "start_time": "2019-11-18T10:36:09.547389Z"
    },
    "hidden": true
   },
   "outputs": [
    {
     "name": "stdout",
     "output_type": "stream",
     "text": [
      "Loading image 1\n",
      "Loading image 2\n",
      "Loading image 3\n",
      "Loading image 4\n",
      "Loading image 5\n",
      "Loading image 6\n",
      "Loading image 7\n",
      "Loading image 8\n",
      "Loading image 9\n",
      "Loading image 10\n",
      "Loading image 11\n",
      "Loading image 12\n",
      "Loading image 13\n",
      "Loading image 14\n",
      "Loading image 15\n",
      "Loading image 16\n",
      "Loading image 17\n",
      "Loading image 18\n",
      "Loading image 19\n",
      "Loading image 20\n",
      "Loading image 21\n",
      "Loading image 22\n",
      "Loading image 23\n",
      "Loading image 24\n",
      "Loading image 25\n",
      "Loading image 26\n",
      "Loading image 27\n",
      "Loading image 28\n",
      "Loading image 29\n",
      "Loading image 30\n",
      "Loading image 31\n"
     ]
    }
   ],
   "source": [
    "im_array_sst = np.zeros([n, h, w])\n",
    "for i in range(n):\n",
    "    print('Loading image {0}'.format(i + 1))\n",
    "    p = plane_nos[i]\n",
    "    img = Image.open('{0}\\{1}{2}c5_ORG.tif'.format(folder, base_filename,str(p).zfill(2)))\n",
    "    try:\n",
    "        im_array_sst[i, :, :] = np.array(img)\n",
    "    except:\n",
    "        print('Plane {0} could not be loaded'.format(p))\n",
    "        print('Size of plane {0} in pixels: {0} X {1}'.format(img.height, img.width))\n",
    "        im_array_sst = np.delete(im_array, i, axis = 0)\n",
    "        plane_nos.remove(p)\n",
    "        i -= 1\n",
    "        n = len(plane_nos)\n",
    "        continue"
   ]
  },
  {
   "cell_type": "markdown",
   "metadata": {
    "heading_collapsed": true
   },
   "source": [
    "# Annotation"
   ]
  },
  {
   "cell_type": "markdown",
   "metadata": {
    "heading_collapsed": true,
    "hidden": true
   },
   "source": [
    "## Data structure to store information about cells"
   ]
  },
  {
   "cell_type": "code",
   "execution_count": 5,
   "metadata": {
    "ExecuteTime": {
     "end_time": "2019-11-28T22:52:13.495698Z",
     "start_time": "2019-11-28T22:52:13.466698Z"
    },
    "hidden": true,
    "init_cell": true
   },
   "outputs": [],
   "source": [
    "class Cell:\n",
    "    n_cells = 1\n",
    "    cell_data = {}\n",
    "    \n",
    "    def __init__(self, cell_no):\n",
    "        \n",
    "        self.cell_no = cell_no\n",
    "        self.z_planes = []\n",
    "        self.no_planes = 0\n",
    "        self.masks = {}\n",
    "        self.c_vals = np.zeros(1)\n",
    "        print('Cell #{0} created'.format(Cell.n_cells))\n",
    "        \n",
    "    def add_mask(self, z_plane, mask):\n",
    "        self.z_planes.append(z_plane)\n",
    "        self.no_planes += 1\n",
    "        self.masks[z_plane] = mask\n",
    "            \n",
    "    def save_cell(self):\n",
    "        Cell.cell_data[self.cell_no] = {'cell_id': self.cell_no,\n",
    "                                 'z_planes': self.z_planes,\n",
    "                                 'masks': self.masks,\n",
    "                                 'no_planes': self.no_planes,\n",
    "                                 'c_vals':self.c_vals}"
   ]
  },
  {
   "cell_type": "code",
   "execution_count": 6,
   "metadata": {
    "ExecuteTime": {
     "end_time": "2019-11-28T22:52:14.410698Z",
     "start_time": "2019-11-28T22:52:14.224698Z"
    },
    "hidden": true,
    "init_cell": true,
    "run_control": {
     "marked": true
    }
   },
   "outputs": [
    {
     "name": "stdout",
     "output_type": "stream",
     "text": [
      "240 cells found\n"
     ]
    }
   ],
   "source": [
    "# Load masks if they already exist\n",
    "save_loc = 'Z:\\HCR\\HCR_10.17'\n",
    "save_file= 'S2_data.pkl'\n",
    "try:\n",
    "    with open('{0}\\{1}'.format(save_loc, save_file), 'rb') as f:\n",
    "        Cell.cell_data = pkl.load(f)\n",
    "        indices = list(Cell.cell_data.keys())\n",
    "        if not np.max(indices) == len(indices):\n",
    "            print('Re-numbering cells to be consecutive')\n",
    "            Cell.cell_data_temp = {}\n",
    "            for i in range(len(indices)):\n",
    "                Cell.cell_data_temp[i + 1] = Cell.cell_data[indices[i]]\n",
    "                Cell.cell_data_temp[i + 1]['cell_id'] = i + 1\n",
    "            Cell.cell_data = Cell.cell_data_temp \n",
    "            with open('{0}\\{1}'.format(save_loc, save_file), 'wb') as f:\n",
    "                pkl.dump(Cell.cell_data, f)\n",
    "            Cell.n_cells = i + 1\n",
    "        else:\n",
    "            Cell.n_cells = len(indices)\n",
    "    print('{0} cells found'.format(Cell.n_cells))\n",
    "except:\n",
    "    print('No data found')"
   ]
  },
  {
   "cell_type": "markdown",
   "metadata": {
    "hidden": true
   },
   "source": [
    "## Render image in napari GUI"
   ]
  },
  {
   "cell_type": "code",
   "execution_count": 116,
   "metadata": {
    "ExecuteTime": {
     "end_time": "2019-12-04T18:25:51.702698Z",
     "start_time": "2019-12-04T18:25:45.229698Z"
    },
    "hidden": true,
    "scrolled": true
   },
   "outputs": [
    {
     "name": "stderr",
     "output_type": "stream",
     "text": [
      "C:\\Users\\singha\\AppData\\Local\\Continuum\\anaconda3\\envs\\py365\\lib\\site-packages\\vispy\\visuals\\markers.py:564: FutureWarning: Passing (type, 1) or '1type' as a synonym of type is deprecated; in a future version of numpy, it will be understood as (type, (1,)) / '(1,)type'.\n",
      "  ('a_edgewidth', np.float32, 1)])\n"
     ]
    },
    {
     "data": {
      "text/plain": [
       "<Shapes layer 'masks' at 0xee4f668>"
      ]
     },
     "execution_count": 116,
     "metadata": {},
     "output_type": "execute_result"
    }
   ],
   "source": [
    "# Open image in napari viewer - each channel as a separate layer \n",
    "viewer = napari.Viewer()\n",
    "\n",
    "viewer.add_image(im_array[:, :, :], name = 'Channel {0}'.format(i + 1), colormap = 'viridis', \n",
    "                     interpolation = 'nearest')\n",
    "    \n",
    "seg_channel = 0\n",
    "z\n",
    "#c\n",
    "# # Add existing masks\n",
    "# indices = list(Cell.cell_data.keys())\n",
    "# mask_layer = viewer.layers['masks']\n",
    "# for cell in indices:\n",
    "#     plane = Cell.cell_data[cell]['z_planes'][0]\n",
    "#     mask = Cell.cell_data[cell]['masks'][plane]\n",
    "#     mask_layer.add(mask, shape_type = 'polygon', opacity = 0.2, face_color = 'white', edge_color = 'red', edge_width = 3)\n",
    "\n",
    "# # Keybinding functions\n",
    "\n",
    "# @viewer.bind_key('n')\n",
    "# def new_cell(viewer):\n",
    "#     global cell1 \n",
    "#     Cell.n_cells += 1\n",
    "#     cell1 = Cell(Cell.n_cells)\n",
    "\n",
    "# @viewer.bind_key('m')\n",
    "# def add_mask(viewer):\n",
    "#     seg_layer = viewer.layers[seg_channel]\n",
    "#     z_plane = seg_layer.coordinates[0]\n",
    "#     mask = viewer.layers['masks'].data[-1]\n",
    "#     cell1.add_mask(z_plane, mask)\n",
    "    \n",
    "# @viewer.bind_key('k')\n",
    "# def save_cell(viewer):\n",
    "#     cell1.save_cell()\n",
    "    \n",
    "# @viewer.bind_key('Control-s')\n",
    "# def save_all(viewer):\n",
    "#     with open('{0}\\{1}'.format(save_loc, save_file), 'wb') as f:\n",
    "#                 pkl.dump(Cell.cell_data, f)"
   ]
  },
  {
   "cell_type": "markdown",
   "metadata": {
    "heading_collapsed": true,
    "hidden": true
   },
   "source": [
    "## Manual segmentation"
   ]
  },
  {
   "cell_type": "code",
   "execution_count": 21,
   "metadata": {
    "ExecuteTime": {
     "end_time": "2019-11-03T00:51:18.743389Z",
     "start_time": "2019-11-03T00:51:18.739389Z"
    },
    "hidden": true
   },
   "outputs": [
    {
     "data": {
      "text/plain": [
       "1"
      ]
     },
     "execution_count": 21,
     "metadata": {},
     "output_type": "execute_result"
    }
   ],
   "source": [
    "Cell.n_cells"
   ]
  },
  {
   "cell_type": "code",
   "execution_count": 85,
   "metadata": {
    "ExecuteTime": {
     "end_time": "2019-09-19T15:01:01.054394Z",
     "start_time": "2019-09-19T15:01:01.051394Z"
    },
    "hidden": true
   },
   "outputs": [
    {
     "name": "stdout",
     "output_type": "stream",
     "text": [
      "Cell 21 saved\n",
      "Cell #22 created\n"
     ]
    }
   ],
   "source": [
    "if Cell.n_cells > 1:\n",
    "    cell1.save_cell()\n",
    "    print('Cell {0} saved'.format(cell1.cell_no))\n",
    "cell1 = Cell(Cell.n_cells)"
   ]
  },
  {
   "cell_type": "code",
   "execution_count": 87,
   "metadata": {
    "ExecuteTime": {
     "end_time": "2019-09-19T15:01:10.927794Z",
     "start_time": "2019-09-19T15:01:10.914794Z"
    },
    "hidden": true
   },
   "outputs": [
    {
     "name": "stdout",
     "output_type": "stream",
     "text": [
      "mask 2 added in z-plane 11 for cell 22\n"
     ]
    }
   ],
   "source": [
    "seg_layer = viewer.layers[seg_channel]\n",
    "z_plane = seg_layer.coordinates[0]\n",
    "\n",
    "\n",
    "mask = viewer.layers['masks'].data[-1]\n",
    "cell1.add_mask(z_plane, mask)\n",
    "print('mask {0} added in z-plane {1} for cell {2}'.format(cell1.no_planes, z_plane, cell1.cell_no))"
   ]
  },
  {
   "cell_type": "code",
   "execution_count": 88,
   "metadata": {
    "ExecuteTime": {
     "end_time": "2019-09-19T15:01:11.336794Z",
     "start_time": "2019-09-19T15:01:11.320794Z"
    },
    "hidden": true
   },
   "outputs": [],
   "source": [
    "with open('{0}\\{1}'.format(save_loc, save_file), 'wb') as f:\n",
    "    pkl.dump(cell_data, f)"
   ]
  },
  {
   "cell_type": "markdown",
   "metadata": {
    "hidden": true
   },
   "source": [
    "## Calculate intensity in other channels"
   ]
  },
  {
   "cell_type": "code",
   "execution_count": 7,
   "metadata": {
    "ExecuteTime": {
     "end_time": "2019-11-28T22:52:20.965698Z",
     "start_time": "2019-11-28T22:52:20.870698Z"
    },
    "hidden": true
   },
   "outputs": [
    {
     "name": "stdout",
     "output_type": "stream",
     "text": [
      "Data loaded\n"
     ]
    }
   ],
   "source": [
    "try:\n",
    "    with open('F:/HCR/HCR_10.17/S2_mask_vertices.pkl'.format(folder), 'rb') as f:\n",
    "        mask_vertices = pkl.load(f)\n",
    "        print('Data loaded')\n",
    "        \n",
    "except IOError:\n",
    "    print('No saved data found, calculating mask pixels')\n",
    "    xv = range(w)\n",
    "    yv = range(h)\n",
    "    coord_array = np.array(np.meshgrid(xv, yv))\n",
    "\n",
    "    points = np.zeros([h*w, 2])\n",
    "    p = 0\n",
    "    for i in range(h):\n",
    "        for j in range(w):\n",
    "            points[p, 1] = coord_array[0, i, j]\n",
    "            points[p, 0] = coord_array[1, i, j]\n",
    "            p += 1\n",
    "\n",
    "    no_cells = len(Cell.cell_data.keys())\n",
    "    mask_vertices = {}\n",
    "    for cell in range(no_cells):\n",
    "        if np.mod(cell, 10) == 0:\n",
    "            print('Cell {0}'.format(cell))\n",
    "        cell_no = cell + 1\n",
    "        mask_vertices[cell_no] = {}\n",
    "        cell_dict = Cell.cell_data[cell_no]\n",
    "        masks = cell_dict['masks']\n",
    "        z_planes = cell_dict['z_planes']\n",
    "        for plane in z_planes:\n",
    "\n",
    "            vertices = masks[plane]\n",
    "            path = mpltpath.Path(vertices)\n",
    "            mask = path.contains_points(points)\n",
    "            mask = np.reshape(mask, [h, w])\n",
    "            mask_vertices[cell_no][plane] = np.where(mask)\n",
    "\n",
    "    with open('F:/HCR/HCR_10.17/S2_mask_vertices.pkl'.format(folder), 'wb') as f:\n",
    "        pkl.dump(mask_vertices, f)"
   ]
  },
  {
   "cell_type": "code",
   "execution_count": 8,
   "metadata": {
    "ExecuteTime": {
     "end_time": "2019-11-28T22:53:45.277698Z",
     "start_time": "2019-11-28T22:53:45.268698Z"
    },
    "hidden": true
   },
   "outputs": [],
   "source": [
    "with open('F:/HCR/HCR_10.17/S2_data_ndnf_sst_vip.pkl', 'rb') as f:\n",
    "        sig = pkl.load(f)\n",
    "avg_intensity_ndnf = sig['Ndnf']\n",
    "avg_intensity_sst = sig['Sst'] \n",
    "avg_intensity_vip = sig['Vip']"
   ]
  },
  {
   "cell_type": "code",
   "execution_count": 8,
   "metadata": {
    "ExecuteTime": {
     "end_time": "2019-11-26T11:07:03.439698Z",
     "start_time": "2019-11-26T11:07:01.557698Z"
    },
    "hidden": true,
    "run_control": {
     "marked": true
    }
   },
   "outputs": [
    {
     "name": "stdout",
     "output_type": "stream",
     "text": [
      "Cell 0\n",
      "Cell 10\n",
      "Cell 20\n",
      "Cell 30\n",
      "Cell 40\n",
      "Cell 50\n",
      "Cell 60\n",
      "Cell 70\n",
      "Cell 80\n",
      "Cell 90\n",
      "Cell 100\n",
      "Cell 110\n",
      "Cell 120\n",
      "Cell 130\n",
      "Cell 140\n",
      "Cell 150\n",
      "Cell 160\n",
      "Cell 170\n",
      "Cell 180\n",
      "Cell 190\n",
      "Cell 200\n",
      "Cell 210\n",
      "Cell 220\n",
      "Cell 230\n"
     ]
    }
   ],
   "source": [
    "no_cells = len(Cell.cell_data.keys())\n",
    "avg_intensity_ndnf = np.zeros(no_cells)\n",
    "avg_intensity_vip = np.zeros(no_cells)\n",
    "avg_intensity_sst = np.zeros(no_cells)\n",
    "\n",
    "for cell in range(no_cells):\n",
    "    \n",
    "    if np.mod(cell, 10) == 0:\n",
    "        print('Cell {0}'.format(cell))\n",
    "    cell_no = cell + 1\n",
    "    cell_dict = Cell.cell_data[cell_no]\n",
    "    z_planes = cell_dict['z_planes']\n",
    "\n",
    "    intensity_ndnf = np.zeros(cell_dict['no_planes'])\n",
    "    intensity_vip = np.zeros(cell_dict['no_planes'])\n",
    "    intensity_sst = np.zeros(cell_dict['no_planes'])\n",
    "    \n",
    "    i = 0\n",
    "    for plane in z_planes:\n",
    "\n",
    "        xy_coord = mask_vertices[cell_no][plane]\n",
    "        x = xy_coord[0]\n",
    "        y = xy_coord[1]\n",
    "        intensity_ndnf[i] = np.mean(im_array_ndnf[plane, x, y])\n",
    "        intensity_vip[i] = np.mean(im_array_vip[plane, x, y])\n",
    "        intensity_sst[i] = np.mean(im_array_sst[plane, x, y])\n",
    "        i += 1\n",
    "    \n",
    "    avg_intensity_ndnf[cell] = np.mean(intensity_ndnf)\n",
    "    avg_intensity_vip[cell] = np.mean(intensity_vip)\n",
    "    avg_intensity_sst[cell] = np.mean(intensity_sst)\n",
    "\n",
    "    with open('F:/HCR/HCR_10.17/S2_data_ndnf_sst_vip.pkl', 'wb') as f:\n",
    "        pkl.dump({'Ndnf': avg_intensity_ndnf, 'Sst': avg_intensity_sst, 'Vip':avg_intensity_vip}, f)"
   ]
  },
  {
   "cell_type": "markdown",
   "metadata": {
    "heading_collapsed": true,
    "hidden": true
   },
   "source": [
    "### Plotting"
   ]
  },
  {
   "cell_type": "code",
   "execution_count": 25,
   "metadata": {
    "ExecuteTime": {
     "end_time": "2019-10-05T23:00:24.779953Z",
     "start_time": "2019-10-05T23:00:24.353953Z"
    },
    "hidden": true
   },
   "outputs": [
    {
     "data": {
      "text/plain": [
       "(array([ 7., 15., 26., 31., 22., 22., 16., 11., 10.,  5.,  4.,  7.,  4.,\n",
       "         6.,  3.,  0.,  1.,  1.,  2.,  0.,  2.,  0.,  1.,  1.,  0.,  1.,\n",
       "         0.,  0.,  1.,  0.,  1.,  0.,  0.,  0.,  0.,  0.,  1.,  0.,  0.,\n",
       "         0.,  0.,  0.,  0.,  0.,  0.,  0.,  0.,  0.,  1.,  1.]),\n",
       " array([0.01725823, 0.03691306, 0.0565679 , 0.07622273, 0.09587757,\n",
       "        0.11553241, 0.13518724, 0.15484208, 0.17449691, 0.19415175,\n",
       "        0.21380658, 0.23346142, 0.25311625, 0.27277109, 0.29242592,\n",
       "        0.31208076, 0.3317356 , 0.35139043, 0.37104527, 0.3907001 ,\n",
       "        0.41035494, 0.43000977, 0.44966461, 0.46931944, 0.48897428,\n",
       "        0.50862911, 0.52828395, 0.54793879, 0.56759362, 0.58724846,\n",
       "        0.60690329, 0.62655813, 0.64621296, 0.6658678 , 0.68552263,\n",
       "        0.70517747, 0.7248323 , 0.74448714, 0.76414197, 0.78379681,\n",
       "        0.80345165, 0.82310648, 0.84276132, 0.86241615, 0.88207099,\n",
       "        0.90172582, 0.92138066, 0.94103549, 0.96069033, 0.98034516,\n",
       "        1.        ]),\n",
       " <a list of 50 Patch objects>)"
      ]
     },
     "execution_count": 25,
     "metadata": {},
     "output_type": "execute_result"
    },
    {
     "data": {
      "image/png": "[encoded data removed]",
      "text/plain": [
       "<Figure size 432x288 with 1 Axes>"
      ]
     },
     "metadata": {
      "needs_background": "light"
     },
     "output_type": "display_data"
    }
   ],
   "source": [
    "plt.hist(avg_intensity_egln3/np.nanmax(avg_intensity_egln3), 50)\n",
    "plt.hist(avg_intensity_npy/np.nanmax(avg_intensity_npy), 50)"
   ]
  },
  {
   "cell_type": "code",
   "execution_count": 836,
   "metadata": {
    "ExecuteTime": {
     "end_time": "2019-09-19T02:52:37.241628Z",
     "start_time": "2019-09-19T02:52:37.232628Z"
    },
    "hidden": true
   },
   "outputs": [
    {
     "data": {
      "text/plain": [
       "array([24.95022124, 40.51698552, 29.09375251, 29.70655193, 34.28772759,\n",
       "       26.79298246, 32.11151902, 36.66856214, 31.12916451, 30.94487015,\n",
       "       31.73982033, 43.42839613, 32.75322324, 35.283061  , 51.98990961,\n",
       "       31.53225302, 40.76069519, 41.11062645, 40.17823601, 37.93169793,\n",
       "       53.76939491, 42.54205998, 38.89276079, 35.80030759, 29.70721714,\n",
       "       31.29138233, 26.49753248, 33.4169647 , 48.89624381, 35.60775862,\n",
       "       37.37936089, 40.91992248, 38.84522526, 39.96567944, 38.72161887,\n",
       "       36.22450535, 31.1216872 , 32.1789749 , 37.56818182, 31.7029703 ,\n",
       "       25.12078545, 31.4352518 , 32.83067422, 29.86585859, 28.95391335,\n",
       "       25.38526056, 25.26495726, 17.05158859, 32.95391705, 29.29847772,\n",
       "       27.65829146, 29.2310909 , 29.20095163, 26.92653061, 24.15262701,\n",
       "       27.38459205, 23.84102183, 27.70256569, 28.7169158 , 27.32855492,\n",
       "       24.42166442, 29.33239191, 37.91411043, 29.01273972, 22.71582282,\n",
       "       29.10530973, 25.72648526, 31.79910714, 31.79378318, 36.2681383 ,\n",
       "       25.79191574, 29.55269282, 31.07172996, 26.59943878,         nan,\n",
       "       21.6625    , 27.49253731, 25.29310345, 36.12338434, 34.64146868,\n",
       "       31.33633952, 28.06394558, 35.55153061, 35.03365385, 29.95358171,\n",
       "       23.73371648, 29.55075188, 26.38940092, 24.54810496, 31.73542601,\n",
       "       32.50860841, 35.23617021, 27.48291925, 29.27254993, 28.8799435 ,\n",
       "       29.40739154, 33.28968254, 26.95833333, 22.51186791, 31.74090909,\n",
       "       27.67820069, 24.90881459, 20.61803279, 30.20714286, 34.32923077,\n",
       "       30.53811659, 35.41021127, 22.91020408, 23.94836957, 33.42170819,\n",
       "       31.0754717 , 32.01072961, 25.07754011, 26.9010989 , 23.98253275,\n",
       "       29.74908425, 27.09653465, 30.52918288, 27.53333333, 26.86656442,\n",
       "       25.37651822, 25.25889968, 27.9273743 , 20.35142857, 26.52631579,\n",
       "       27.89851485, 24.9516129 , 27.06991525, 30.68373494, 29.50438596,\n",
       "       24.92015209, 29.96713615, 35.28287462, 26.10590858, 27.69542484,\n",
       "       27.43673966, 26.51421189, 32.32504146, 25.03273475, 20.67885673,\n",
       "       37.65824916, 26.87711864, 31.78205128, 27.48484848])"
      ]
     },
     "execution_count": 836,
     "metadata": {},
     "output_type": "execute_result"
    }
   ],
   "source": [
    "avg_intensity"
   ]
  },
  {
   "cell_type": "code",
   "execution_count": 26,
   "metadata": {
    "ExecuteTime": {
     "end_time": "2019-10-05T23:00:53.815953Z",
     "start_time": "2019-10-05T23:00:53.601953Z"
    },
    "hidden": true
   },
   "outputs": [
    {
     "data": {
      "text/plain": [
       "[<matplotlib.lines.Line2D at 0x160eb748>]"
      ]
     },
     "execution_count": 26,
     "metadata": {},
     "output_type": "execute_result"
    },
    {
     "data": {
      "image/png": "[encoded data removed]",
      "text/plain": [
       "<Figure size 432x288 with 1 Axes>"
      ]
     },
     "metadata": {
      "needs_background": "light"
     },
     "output_type": "display_data"
    }
   ],
   "source": [
    "plt.plot(np.sort(avg_intensity_egln3)/np.nanmax(avg_intensity_egln3))\n",
    "plt.plot(np.sort(avg_intensity_npy)/np.nanmax(avg_intensity_npy))"
   ]
  },
  {
   "cell_type": "code",
   "execution_count": 15,
   "metadata": {
    "ExecuteTime": {
     "end_time": "2019-11-18T11:22:24.585389Z",
     "start_time": "2019-11-18T11:22:24.389389Z"
    },
    "hidden": true
   },
   "outputs": [
    {
     "data": {
      "text/plain": [
       "Text(0.8, 1, '0.0 %')"
      ]
     },
     "execution_count": 15,
     "metadata": {},
     "output_type": "execute_result"
    },
    {
     "data": {
      "image/png": "[encoded data removed]",
      "text/plain": [
       "<Figure size 432x288 with 1 Axes>"
      ]
     },
     "metadata": {
      "needs_background": "light"
     },
     "output_type": "display_data"
    }
   ],
   "source": [
    "plt.figure()\n",
    "gene1_level = avg_intensity_sst\n",
    "gene2_level = avg_intensity_vip\n",
    "\n",
    "plt.scatter(gene1_level/np.max(gene1_level), gene2_level/np.max(gene2_level), \n",
    "            color = 'k', marker = 'o',\n",
    "           alpha = 0.2)\n",
    "\n",
    "\n",
    "plt.xlabel('Relative expression of Ndnf')\n",
    "plt.ylabel('Relative expression of Vip')\n",
    "\n",
    "t1 = 0.4\n",
    "t2 = 0.2\n",
    "\n",
    "n_cells = Cell.n_cells\n",
    "plt.plot(np.ones(2)*t1, np.array(range(0, 2)), '--', color = 'r')\n",
    "plt.plot(np.array(range(0, 2)), np.ones(2)*t2, '--',  color = 'r')\n",
    "\n",
    "q1 = np.sum(np.logical_and(gene1_level/np.max(gene1_level) < t1, \n",
    "                    gene2_level/np.max(gene2_level) < t2))\n",
    "plt.text(0, 0, '{0} %'.format(np.round(q1/n_cells*100, decimals = 0)), fontsize = 12)\n",
    "\n",
    "q2 = np.sum(np.logical_and(gene1_level/np.max(gene1_level) < t1, \n",
    "                    gene2_level/np.max(gene2_level) > t2))\n",
    "plt.text(0, 1, '{0} %'.format(np.round(q2/n_cells*100, decimals = 0)), fontsize = 12)\n",
    "\n",
    "q3 = np.sum(np.logical_and(gene1_level/np.max(gene1_level) > t1, \n",
    "                    gene2_level/np.max(gene2_level) < t2))\n",
    "plt.text(0.8, 0, '{0} %'.format(np.round(q3/n_cells*100, decimals = 0)), fontsize = 12)\n",
    "\n",
    "q4 = np.sum(np.logical_and(gene1_level/np.max(gene1_level) > t1, \n",
    "                    gene2_level/np.max(gene2_level) > t2))\n",
    "plt.text(0.8, 1, '{0} %'.format(np.round(q4/n_cells*100, decimals = 0)), fontsize = 12)"
   ]
  },
  {
   "cell_type": "code",
   "execution_count": 801,
   "metadata": {
    "ExecuteTime": {
     "end_time": "2019-09-19T01:15:07.309163Z",
     "start_time": "2019-09-19T01:15:07.085944Z"
    },
    "hidden": true
   },
   "outputs": [
    {
     "data": {
      "text/plain": [
       "[<matplotlib.lines.Line2D at 0x2a8bb7f0>]"
      ]
     },
     "execution_count": 801,
     "metadata": {},
     "output_type": "execute_result"
    },
    {
     "data": {
      "image/png": "[encoded data removed]",
      "text/plain": [
       "<Figure size 432x288 with 1 Axes>"
      ]
     },
     "metadata": {
      "needs_background": "light"
     },
     "output_type": "display_data"
    }
   ],
   "source": [
    "plt.plot(layer.data[plane, mask])"
   ]
  },
  {
   "cell_type": "code",
   "execution_count": 807,
   "metadata": {
    "ExecuteTime": {
     "end_time": "2019-09-19T01:17:45.836569Z",
     "start_time": "2019-09-19T01:17:45.280543Z"
    },
    "hidden": true
   },
   "outputs": [
    {
     "data": {
      "text/plain": [
       "(0, 100)"
      ]
     },
     "execution_count": 807,
     "metadata": {},
     "output_type": "execute_result"
    },
    {
     "data": {
      "image/png": "[encoded data removed]",
      "text/plain": [
       "<Figure size 432x288 with 1 Axes>"
      ]
     },
     "metadata": {
      "needs_background": "light"
     },
     "output_type": "display_data"
    }
   ],
   "source": [
    "fig = plt.figure()\n",
    "plt.hist(np.reshape(layer.data[plane, :, :], [-1]), 100)\n",
    "plt.hist(layer.data[plane, mask], color = 'r')\n",
    "plt.xlim(10, 100)\n",
    "plt.ylim(0, 100)"
   ]
  },
  {
   "cell_type": "code",
   "execution_count": 806,
   "metadata": {
    "ExecuteTime": {
     "end_time": "2019-09-19T01:17:14.314213Z",
     "start_time": "2019-09-19T01:17:14.291210Z"
    },
    "hidden": true
   },
   "outputs": [
    {
     "data": {
      "text/plain": [
       "array([ 11.,  13.,  21.,  19.,  21.,  20.,  27.,  18.,  18.,  17.,  11.,\n",
       "        19.,  16.,  28.,  39.,  25.,  29.,  29.,  15.,  14.,  19.,  21.,\n",
       "        22.,  34.,  38.,  30.,  35.,  29.,  18.,  18.,  23.,  21.,  19.,\n",
       "        23.,  38.,  30.,  32.,  33.,  29.,  29.,  20.,  18.,  20.,  23.,\n",
       "        33.,  27.,  36.,  32.,  23.,  26.,  27.,  26.,  18.,  16.,  17.,\n",
       "        28.,  40.,  25.,  37.,  36.,  31.,  29.,  31.,  20.,  21.,  22.,\n",
       "        20.,  19.,  21.,  35.,  47.,  51.,  73.,  57.,  31.,  21.,  30.,\n",
       "        20.,  13.,  14.,  18.,  28.,  43.,  63.,  81., 105.,  94.,  38.,\n",
       "        28.,  32.,  15.,  15.,  19.,  21.,  33.,  41.,  53.,  93., 100.,\n",
       "        73.,  36.,  32.,  27.,  19.,   9.,  16.,  17.,  14.,  25.,  46.,\n",
       "        39.,  37.,  47.,  55.,  59.,  30.,  29.,  28.,  21.,  18.,  20.,\n",
       "        18.,  20.,  30.,  38.,  37.,  28.,  30.,  48.,  32.,  27.,  29.,\n",
       "        21.,  21.,  21.,  14.,  20.,  31.,  38.,  29.,  27.,  33.,  31.,\n",
       "        28.,  33.,  31.,  23.,  19.,  23.,  14.,  17.,  31.,  30.,  31.,\n",
       "        31.,  27.,  21.,  27.,  29.,  23.,  19.,  18.,  21.,  15.,  17.,\n",
       "        28.,  24.,  26.,  34.,  29.,  30.,  28.,  22.,  17.,  17.,  16.,\n",
       "        19.,  12.,  18.,  22.,  29.,  27.,  21.,  24.,  19.,  23.,  23.,\n",
       "        18.,  15.,  17.,  23.,  20.,  18.,  28.,  27.,  23.,  14.,  18.,\n",
       "        15.,  14.,  14.,  15.,  19.,  18.,  12.,  16.,  20.,  20.,  16.,\n",
       "        16.,  19.,  14.,  14.,  12.,  13.,  13.,  14.,  11.,  20.,  16.,\n",
       "        16.,  15.,  17.,  17.,  19.,  16.])"
      ]
     },
     "execution_count": 806,
     "metadata": {},
     "output_type": "execute_result"
    }
   ],
   "source": [
    "layer.data[plane, mask]"
   ]
  },
  {
   "cell_type": "markdown",
   "metadata": {
    "heading_collapsed": true
   },
   "source": [
    "# View saved masks"
   ]
  },
  {
   "cell_type": "code",
   "execution_count": 22,
   "metadata": {
    "ExecuteTime": {
     "end_time": "2019-11-03T00:51:49.230389Z",
     "start_time": "2019-11-03T00:51:49.219389Z"
    },
    "hidden": true
   },
   "outputs": [],
   "source": [
    "with open('{0}\\{1}'.format(save_loc, save_file), 'wb') as f:\n",
    "    pkl.dump(Cell.cell_data, f)"
   ]
  },
  {
   "cell_type": "code",
   "execution_count": 60,
   "metadata": {
    "ExecuteTime": {
     "end_time": "2019-11-03T03:06:48.663389Z",
     "start_time": "2019-11-03T03:06:48.659389Z"
    },
    "hidden": true
   },
   "outputs": [],
   "source": [
    "Cell.n_cells"
   ]
  },
  {
   "cell_type": "code",
   "execution_count": 58,
   "metadata": {
    "ExecuteTime": {
     "end_time": "2019-11-03T03:05:38.697389Z",
     "start_time": "2019-11-03T03:05:38.691389Z"
    },
    "hidden": true,
    "scrolled": true
   },
   "outputs": [
    {
     "data": {
      "text/plain": [
       "{'cell_id': 138,\n",
       " 'z_planes': [5, 6],\n",
       " 'masks': {5: array([[ 1792.17393846, 10372.95009818],\n",
       "         [ 1789.68810237, 10383.72205456],\n",
       "         [ 1796.59320261, 10392.28437886],\n",
       "         [ 1805.43173093, 10399.74188713],\n",
       "         [ 1817.30850335, 10404.16115128],\n",
       "         [ 1832.77592789, 10407.19939539],\n",
       "         [ 1845.20510833, 10414.65690365],\n",
       "         [ 1855.97706471, 10403.60874326],\n",
       "         [ 1852.66261659, 10388.41752273],\n",
       "         [ 1845.48131234, 10375.15973026],\n",
       "         [ 1835.814172  , 10366.87360997],\n",
       "         [ 1826.14703166, 10363.00675383],\n",
       "         [ 1818.41331938, 10360.24471373],\n",
       "         [ 1805.70793494, 10359.96850972],\n",
       "         [ 1800.46005875, 10362.73054982],\n",
       "         [ 1800.46005875, 10362.73054982]]),\n",
       "  6: array([[ 1806.81275097, 10392.28437886],\n",
       "         [ 1815.09887127, 10401.6753152 ],\n",
       "         [ 1824.76601161, 10409.13282346],\n",
       "         [ 1832.49972388, 10409.13282346],\n",
       "         [ 1839.68102814, 10400.29429515],\n",
       "         [ 1840.50964016, 10385.37927862],\n",
       "         [ 1833.32833591, 10375.71213828],\n",
       "         [ 1820.07054344, 10371.29287412],\n",
       "         [ 1803.49830286, 10372.12148615],\n",
       "         [ 1794.93597856, 10373.22630219],\n",
       "         [ 1794.38357054, 10381.78862649],\n",
       "         [ 1796.3169986 , 10383.44585055]])},\n",
       " 'no_planes': 2,\n",
       " 'c_vals': array([0.])}"
      ]
     },
     "execution_count": 58,
     "metadata": {},
     "output_type": "execute_result"
    }
   ],
   "source": [
    "indices = list(Cell.cell_data.keys())\n",
    "Cell.cell_data[indices[-1]]"
   ]
  },
  {
   "cell_type": "code",
   "execution_count": 52,
   "metadata": {
    "ExecuteTime": {
     "end_time": "2019-11-03T01:34:01.176389Z",
     "start_time": "2019-11-03T01:34:01.170389Z"
    },
    "hidden": true
   },
   "outputs": [
    {
     "data": {
      "text/plain": [
       "{0: array([[ 2503.06063306, 11088.27194031],\n",
       "        [ 2500.96184674, 11094.14854202],\n",
       "        [ 2499.28281768, 11105.06223091],\n",
       "        [ 2499.70257495, 11113.03761894],\n",
       "        [ 2512.29529289, 11115.55616253],\n",
       "        [ 2521.52995272, 11117.65494886],\n",
       "        [ 2531.60412708, 11117.23519159],\n",
       "        [ 2545.45611683, 11113.45737621],\n",
       "        [ 2555.11053392, 11108.42028903],\n",
       "        [ 2559.30810657, 11098.34611467],\n",
       "        [ 2562.66616469, 11088.69169757],\n",
       "        [ 2558.88834931, 11078.61752322],\n",
       "        [ 2548.81417495, 11073.58043604],\n",
       "        [ 2542.93757324, 11071.06189245],\n",
       "        [ 2529.50534076, 11071.06189245],\n",
       "        [ 2521.11019546, 11075.2594651 ],\n",
       "        [ 2507.67796298, 11078.61752322]]),\n",
       " 1: array([[ 2497.60378862, 11095.82757108],\n",
       "        [ 2495.5050023 , 11108.00053176],\n",
       "        [ 2503.48039033, 11113.03761894],\n",
       "        [ 2513.55456469, 11113.45737621],\n",
       "        [ 2525.30776811, 11114.716648  ],\n",
       "        [ 2537.06097153, 11113.03761894],\n",
       "        [ 2545.03635956, 11110.51907535],\n",
       "        [ 2553.85126213, 11102.96344458],\n",
       "        [ 2557.20932025, 11098.76587193],\n",
       "        [ 2547.97466042, 11094.14854202],\n",
       "        [ 2537.48072879, 11094.14854202],\n",
       "        [ 2523.20898178, 11091.21024116],\n",
       "        [ 2513.55456469, 11087.01266851],\n",
       "        [ 2509.7767493 , 11086.17315399]])}"
      ]
     },
     "execution_count": 52,
     "metadata": {},
     "output_type": "execute_result"
    }
   ],
   "source": [
    "cell1.masks"
   ]
  },
  {
   "cell_type": "code",
   "execution_count": 143,
   "metadata": {
    "ExecuteTime": {
     "end_time": "2019-10-04T14:29:52.301426Z",
     "start_time": "2019-10-04T14:29:52.262422Z"
    },
    "hidden": true
   },
   "outputs": [
    {
     "name": "stdout",
     "output_type": "stream",
     "text": [
      "Re-numbering cells to be consecutive\n"
     ]
    }
   ],
   "source": [
    "# Check number of masks per cell, and variance of mask centers\n",
    "indices = list(Cell.cell_data.keys())\n",
    "n_planes = np.zeros(len(indices)).astype(int)\n",
    "var_masks = np.zeros([len(indices), 2])\n",
    "\n",
    "if not np.max(indices) == len(indices):\n",
    "    print('Re-numbering cells to be consecutive')\n",
    "    Cell.cell_data_temp = {}\n",
    "    for i in range(len(indices)):\n",
    "        Cell.cell_data_temp[i + 1] = Cell.cell_data[indices[i]]\n",
    "        Cell.cell_data_temp[i + 1]['cell_id'] = i + 1\n",
    "    Cell.cell_data = Cell.cell_data_temp \n",
    "    with open('{0}\\{1}'.format(save_loc, save_file), 'wb') as f:\n",
    "        pkl.dump(Cell.cell_data, f)\n",
    "        \n",
    "for i in range(len(indices)):\n",
    "    z_planes = Cell.cell_data[i + 1]['z_planes']\n",
    "    n_planes[i] = len(z_planes)\n",
    "    masks = Cell.cell_data[i + 1]['masks']\n",
    "    centers = np.zeros([n_planes[i], 2])\n",
    "    for j in range(n_planes[i]):\n",
    "        centers[j, 0] = np.mean(masks[z_planes[j]][:, 0])\n",
    "        centers[j, 1] = np.mean(masks[z_planes[j]][:, 1])\n",
    "    var_masks[i, 0] = np.var(centers[:, 0])\n",
    "    var_masks[i, 1] = np.var(centers[:, 1])\n",
    "    \n",
    "    "
   ]
  },
  {
   "cell_type": "code",
   "execution_count": 144,
   "metadata": {
    "ExecuteTime": {
     "end_time": "2019-10-04T14:29:55.060702Z",
     "start_time": "2019-10-04T14:29:54.678664Z"
    },
    "hidden": true,
    "scrolled": true
   },
   "outputs": [
    {
     "data": {
      "text/plain": [
       "<matplotlib.legend.Legend at 0x1a146ac8>"
      ]
     },
     "execution_count": 144,
     "metadata": {},
     "output_type": "execute_result"
    },
    {
     "data": {
      "image/png": "[encoded data removed]",
      "text/plain": [
       "<Figure size 1080x360 with 2 Axes>"
      ]
     },
     "metadata": {
      "needs_background": "light"
     },
     "output_type": "display_data"
    }
   ],
   "source": [
    "fig, ax = plt.subplots(nrows = 2, ncols = 1, sharex = True, figsize = [15, 5])\n",
    "ax[0].plot(n_planes)\n",
    "ax[0].set_xlabel('Cell number')\n",
    "ax[0].set_ylabel('Number of masks')\n",
    "ax[1].plot(var_masks[:, 0], label = 'y_values')\n",
    "ax[1].plot(var_masks[:, 1], label = 'x_values')\n",
    "ax[1].set_ylabel('Variance of centers')\n",
    "ax[1].plot(range(len(indices)), np.ones(len(indices))*8, '--', color = 'k')\n",
    "ax[1].legend()"
   ]
  },
  {
   "cell_type": "code",
   "execution_count": 145,
   "metadata": {
    "ExecuteTime": {
     "end_time": "2019-10-04T14:30:21.453341Z",
     "start_time": "2019-10-04T14:30:21.449341Z"
    },
    "hidden": true
   },
   "outputs": [],
   "source": [
    "ind = np.nonzero(var_masks > 50)[0]"
   ]
  },
  {
   "cell_type": "code",
   "execution_count": 146,
   "metadata": {
    "ExecuteTime": {
     "end_time": "2019-10-04T14:30:22.351431Z",
     "start_time": "2019-10-04T14:30:22.345430Z"
    },
    "hidden": true
   },
   "outputs": [
    {
     "data": {
      "text/plain": [
       "array([108, 120, 120], dtype=int64)"
      ]
     },
     "execution_count": 146,
     "metadata": {},
     "output_type": "execute_result"
    }
   ],
   "source": [
    "ind"
   ]
  },
  {
   "cell_type": "code",
   "execution_count": 147,
   "metadata": {
    "ExecuteTime": {
     "end_time": "2019-10-04T14:30:33.171513Z",
     "start_time": "2019-10-04T14:30:33.163512Z"
    },
    "hidden": true,
    "run_control": {
     "marked": true
    }
   },
   "outputs": [
    {
     "data": {
      "text/plain": [
       "{14: array([[763.45916438, 911.99920008],\n",
       "        [758.9540603 , 911.99920008],\n",
       "        [756.79944531, 913.17444462],\n",
       "        [755.23245258, 915.91668188],\n",
       "        [755.23245258, 921.00940823],\n",
       "        [755.82007485, 926.68975685],\n",
       "        [759.54168257, 926.10213458],\n",
       "        [762.47979393, 924.53514186],\n",
       "        [765.61377937, 922.77227505],\n",
       "        [767.37664619, 919.6382896 ],\n",
       "        [767.96426846, 915.13318552],\n",
       "        [767.57252028, 913.17444462]]),\n",
       " 15: array([[799.6958711 , 865.38116656],\n",
       "        [796.95363384, 866.16466292],\n",
       "        [794.79901884, 868.51515201],\n",
       "        [792.44852976, 870.08214473],\n",
       "        [792.84027794, 874.19550063],\n",
       "        [794.79901884, 876.9377379 ],\n",
       "        [797.34538202, 878.30885653],\n",
       "        [799.6958711 , 877.91710835],\n",
       "        [801.65461201, 875.76249335],\n",
       "        [803.61335291, 873.60787836],\n",
       "        [805.18034563, 871.45326336],\n",
       "        [805.18034563, 866.7522852 ],\n",
       "        [804.78859745, 865.18529247],\n",
       "        [804.00510109, 864.40179611]]),\n",
       " 16: array([[762.87154211, 910.04045917],\n",
       "        [758.17056394, 910.04045917],\n",
       "        [755.03657849, 912.97857053],\n",
       "        [754.64483031, 917.09192643],\n",
       "        [756.60357122, 921.20528232],\n",
       "        [760.52105302, 922.96814914],\n",
       "        [763.85091256, 922.57640096],\n",
       "        [766.39727574, 919.24654142],\n",
       "        [767.37664619, 917.48367461],\n",
       "        [766.39727574, 913.17444462],\n",
       "        [768.74776482, 911.80332598]])}"
      ]
     },
     "execution_count": 147,
     "metadata": {},
     "output_type": "execute_result"
    }
   ],
   "source": [
    "cell_no = ind[2] + 1\n",
    "masks = Cell.cell_data[cell_no]['masks']\n",
    "masks"
   ]
  },
  {
   "cell_type": "code",
   "execution_count": 120,
   "metadata": {
    "ExecuteTime": {
     "end_time": "2019-10-03T15:30:24.597312Z",
     "start_time": "2019-10-03T15:30:24.591312Z"
    },
    "hidden": true
   },
   "outputs": [
    {
     "data": {
      "text/plain": [
       "{'cell_id': 30,\n",
       " 'z_planes': [16, 17, 15],\n",
       " 'masks': {16: array([[1080.85613872,  561.65899275],\n",
       "         [1077.43598525,  561.45780725],\n",
       "         [1074.21701728,  562.26254925],\n",
       "         [1072.80871879,  564.87796072],\n",
       "         [1076.22887226,  568.70048519],\n",
       "         [1079.64902573,  572.32182416],\n",
       "         [1081.86206621,  574.33367914],\n",
       "         [1084.67866318,  574.13249364],\n",
       "         [1086.48933267,  571.71826766],\n",
       "         [1087.49526016,  568.29811419],\n",
       "         [1086.69051816,  565.48151722],\n",
       "         [1086.08696167,  564.27440423],\n",
       "         [1085.48340517,  563.26847674]]),\n",
       "  17: array([[1083.87392119,  563.06729124],\n",
       "         [1079.24665473,  562.66492024],\n",
       "         [1074.01583178,  562.86610574],\n",
       "         [1070.79686381,  565.88388821],\n",
       "         [1069.99212181,  568.70048519],\n",
       "         [1072.0039768 ,  572.92538065],\n",
       "         [1076.83242875,  574.93723563],\n",
       "         [1080.45376772,  575.13842113],\n",
       "         [1083.47155019,  574.53486464],\n",
       "         [1085.68459067,  572.92538065],\n",
       "         [1087.09288916,  571.71826766],\n",
       "         [1087.69644565,  569.10285619],\n",
       "         [1087.69644565,  567.2921867 ],\n",
       "         [1087.09288916,  566.08507371]]),\n",
       "  15: array([[1090.71422813,  558.44002478],\n",
       "         [1087.69644565,  558.44002478],\n",
       "         [1084.87984868,  560.45187976],\n",
       "         [1083.0691792 ,  561.86017825],\n",
       "         [1082.2644372 ,  563.46966224],\n",
       "         [1082.0632517 ,  564.67677523],\n",
       "         [1085.48340517,  567.0910012 ],\n",
       "         [1088.30000215,  566.28625921],\n",
       "         [1091.11659912,  564.67677523],\n",
       "         [1092.92726861,  562.06136375],\n",
       "         [1093.12845411,  560.85425076],\n",
       "         [1093.12845411,  560.85425076]])},\n",
       " 'no_planes': 3,\n",
       " 'c_vals': array([0.])}"
      ]
     },
     "execution_count": 120,
     "metadata": {},
     "output_type": "execute_result"
    }
   ],
   "source": [
    "Cell.cell_data.pop(cell_no)"
   ]
  },
  {
   "cell_type": "markdown",
   "metadata": {
    "hidden": true
   },
   "source": [
    "## View saved masks in new napari window"
   ]
  },
  {
   "cell_type": "code",
   "execution_count": 326,
   "metadata": {
    "ExecuteTime": {
     "end_time": "2019-10-02T17:20:11.958895Z",
     "start_time": "2019-10-02T17:20:10.733895Z"
    },
    "hidden": true
   },
   "outputs": [
    {
     "name": "stderr",
     "output_type": "stream",
     "text": [
      "C:\\Users\\singha\\AppData\\Local\\Continuum\\anaconda3\\envs\\py365\\lib\\site-packages\\vispy\\visuals\\markers.py:564: FutureWarning: Passing (type, 1) or '1type' as a synonym of type is deprecated; in a future version of numpy, it will be understood as (type, (1,)) / '(1,)type'.\n",
      "  ('a_edgewidth', np.float32, 1)])\n",
      "C:\\Users\\singha\\AppData\\Local\\Continuum\\anaconda3\\envs\\py365\\lib\\site-packages\\vispy\\visuals\\markers.py:564: FutureWarning: Passing (type, 1) or '1type' as a synonym of type is deprecated; in a future version of numpy, it will be understood as (type, (1,)) / '(1,)type'.\n",
      "  ('a_edgewidth', np.float32, 1)])\n",
      "C:\\Users\\singha\\AppData\\Local\\Continuum\\anaconda3\\envs\\py365\\lib\\site-packages\\vispy\\visuals\\markers.py:564: FutureWarning: Passing (type, 1) or '1type' as a synonym of type is deprecated; in a future version of numpy, it will be understood as (type, (1,)) / '(1,)type'.\n",
      "  ('a_edgewidth', np.float32, 1)])\n",
      "C:\\Users\\singha\\AppData\\Local\\Continuum\\anaconda3\\envs\\py365\\lib\\site-packages\\vispy\\visuals\\markers.py:564: FutureWarning: Passing (type, 1) or '1type' as a synonym of type is deprecated; in a future version of numpy, it will be understood as (type, (1,)) / '(1,)type'.\n",
      "  ('a_edgewidth', np.float32, 1)])\n",
      "C:\\Users\\singha\\AppData\\Local\\Continuum\\anaconda3\\envs\\py365\\lib\\site-packages\\vispy\\visuals\\markers.py:564: FutureWarning: Passing (type, 1) or '1type' as a synonym of type is deprecated; in a future version of numpy, it will be understood as (type, (1,)) / '(1,)type'.\n",
      "  ('a_edgewidth', np.float32, 1)])\n",
      "C:\\Users\\singha\\AppData\\Local\\Continuum\\anaconda3\\envs\\py365\\lib\\site-packages\\vispy\\visuals\\markers.py:564: FutureWarning: Passing (type, 1) or '1type' as a synonym of type is deprecated; in a future version of numpy, it will be understood as (type, (1,)) / '(1,)type'.\n",
      "  ('a_edgewidth', np.float32, 1)])\n",
      "C:\\Users\\singha\\AppData\\Local\\Continuum\\anaconda3\\envs\\py365\\lib\\site-packages\\vispy\\visuals\\markers.py:564: FutureWarning: Passing (type, 1) or '1type' as a synonym of type is deprecated; in a future version of numpy, it will be understood as (type, (1,)) / '(1,)type'.\n",
      "  ('a_edgewidth', np.float32, 1)])\n",
      "C:\\Users\\singha\\AppData\\Local\\Continuum\\anaconda3\\envs\\py365\\lib\\site-packages\\vispy\\visuals\\markers.py:564: FutureWarning: Passing (type, 1) or '1type' as a synonym of type is deprecated; in a future version of numpy, it will be understood as (type, (1,)) / '(1,)type'.\n",
      "  ('a_edgewidth', np.float32, 1)])\n",
      "C:\\Users\\singha\\AppData\\Local\\Continuum\\anaconda3\\envs\\py365\\lib\\site-packages\\vispy\\visuals\\markers.py:564: FutureWarning: Passing (type, 1) or '1type' as a synonym of type is deprecated; in a future version of numpy, it will be understood as (type, (1,)) / '(1,)type'.\n",
      "  ('a_edgewidth', np.float32, 1)])\n",
      "C:\\Users\\singha\\AppData\\Local\\Continuum\\anaconda3\\envs\\py365\\lib\\site-packages\\vispy\\visuals\\markers.py:564: FutureWarning: Passing (type, 1) or '1type' as a synonym of type is deprecated; in a future version of numpy, it will be understood as (type, (1,)) / '(1,)type'.\n",
      "  ('a_edgewidth', np.float32, 1)])\n",
      "C:\\Users\\singha\\AppData\\Local\\Continuum\\anaconda3\\envs\\py365\\lib\\site-packages\\vispy\\visuals\\markers.py:564: FutureWarning: Passing (type, 1) or '1type' as a synonym of type is deprecated; in a future version of numpy, it will be understood as (type, (1,)) / '(1,)type'.\n",
      "  ('a_edgewidth', np.float32, 1)])\n",
      "C:\\Users\\singha\\AppData\\Local\\Continuum\\anaconda3\\envs\\py365\\lib\\site-packages\\vispy\\visuals\\markers.py:564: FutureWarning: Passing (type, 1) or '1type' as a synonym of type is deprecated; in a future version of numpy, it will be understood as (type, (1,)) / '(1,)type'.\n",
      "  ('a_edgewidth', np.float32, 1)])\n",
      "C:\\Users\\singha\\AppData\\Local\\Continuum\\anaconda3\\envs\\py365\\lib\\site-packages\\vispy\\visuals\\markers.py:564: FutureWarning: Passing (type, 1) or '1type' as a synonym of type is deprecated; in a future version of numpy, it will be understood as (type, (1,)) / '(1,)type'.\n",
      "  ('a_edgewidth', np.float32, 1)])\n",
      "C:\\Users\\singha\\AppData\\Local\\Continuum\\anaconda3\\envs\\py365\\lib\\site-packages\\vispy\\visuals\\markers.py:564: FutureWarning: Passing (type, 1) or '1type' as a synonym of type is deprecated; in a future version of numpy, it will be understood as (type, (1,)) / '(1,)type'.\n",
      "  ('a_edgewidth', np.float32, 1)])\n",
      "C:\\Users\\singha\\AppData\\Local\\Continuum\\anaconda3\\envs\\py365\\lib\\site-packages\\vispy\\visuals\\markers.py:564: FutureWarning: Passing (type, 1) or '1type' as a synonym of type is deprecated; in a future version of numpy, it will be understood as (type, (1,)) / '(1,)type'.\n",
      "  ('a_edgewidth', np.float32, 1)])\n",
      "C:\\Users\\singha\\AppData\\Local\\Continuum\\anaconda3\\envs\\py365\\lib\\site-packages\\vispy\\visuals\\markers.py:564: FutureWarning: Passing (type, 1) or '1type' as a synonym of type is deprecated; in a future version of numpy, it will be understood as (type, (1,)) / '(1,)type'.\n",
      "  ('a_edgewidth', np.float32, 1)])\n",
      "C:\\Users\\singha\\AppData\\Local\\Continuum\\anaconda3\\envs\\py365\\lib\\site-packages\\vispy\\visuals\\markers.py:564: FutureWarning: Passing (type, 1) or '1type' as a synonym of type is deprecated; in a future version of numpy, it will be understood as (type, (1,)) / '(1,)type'.\n",
      "  ('a_edgewidth', np.float32, 1)])\n",
      "C:\\Users\\singha\\AppData\\Local\\Continuum\\anaconda3\\envs\\py365\\lib\\site-packages\\vispy\\visuals\\markers.py:564: FutureWarning: Passing (type, 1) or '1type' as a synonym of type is deprecated; in a future version of numpy, it will be understood as (type, (1,)) / '(1,)type'.\n",
      "  ('a_edgewidth', np.float32, 1)])\n",
      "C:\\Users\\singha\\AppData\\Local\\Continuum\\anaconda3\\envs\\py365\\lib\\site-packages\\vispy\\visuals\\markers.py:564: FutureWarning: Passing (type, 1) or '1type' as a synonym of type is deprecated; in a future version of numpy, it will be understood as (type, (1,)) / '(1,)type'.\n",
      "  ('a_edgewidth', np.float32, 1)])\n",
      "C:\\Users\\singha\\AppData\\Local\\Continuum\\anaconda3\\envs\\py365\\lib\\site-packages\\vispy\\visuals\\markers.py:564: FutureWarning: Passing (type, 1) or '1type' as a synonym of type is deprecated; in a future version of numpy, it will be understood as (type, (1,)) / '(1,)type'.\n",
      "  ('a_edgewidth', np.float32, 1)])\n",
      "C:\\Users\\singha\\AppData\\Local\\Continuum\\anaconda3\\envs\\py365\\lib\\site-packages\\vispy\\visuals\\markers.py:564: FutureWarning: Passing (type, 1) or '1type' as a synonym of type is deprecated; in a future version of numpy, it will be understood as (type, (1,)) / '(1,)type'.\n",
      "  ('a_edgewidth', np.float32, 1)])\n",
      "C:\\Users\\singha\\AppData\\Local\\Continuum\\anaconda3\\envs\\py365\\lib\\site-packages\\vispy\\visuals\\markers.py:564: FutureWarning: Passing (type, 1) or '1type' as a synonym of type is deprecated; in a future version of numpy, it will be understood as (type, (1,)) / '(1,)type'.\n",
      "  ('a_edgewidth', np.float32, 1)])\n",
      "C:\\Users\\singha\\AppData\\Local\\Continuum\\anaconda3\\envs\\py365\\lib\\site-packages\\vispy\\visuals\\markers.py:564: FutureWarning: Passing (type, 1) or '1type' as a synonym of type is deprecated; in a future version of numpy, it will be understood as (type, (1,)) / '(1,)type'.\n",
      "  ('a_edgewidth', np.float32, 1)])\n",
      "C:\\Users\\singha\\AppData\\Local\\Continuum\\anaconda3\\envs\\py365\\lib\\site-packages\\vispy\\visuals\\markers.py:564: FutureWarning: Passing (type, 1) or '1type' as a synonym of type is deprecated; in a future version of numpy, it will be understood as (type, (1,)) / '(1,)type'.\n",
      "  ('a_edgewidth', np.float32, 1)])\n",
      "C:\\Users\\singha\\AppData\\Local\\Continuum\\anaconda3\\envs\\py365\\lib\\site-packages\\vispy\\visuals\\markers.py:564: FutureWarning: Passing (type, 1) or '1type' as a synonym of type is deprecated; in a future version of numpy, it will be understood as (type, (1,)) / '(1,)type'.\n",
      "  ('a_edgewidth', np.float32, 1)])\n",
      "C:\\Users\\singha\\AppData\\Local\\Continuum\\anaconda3\\envs\\py365\\lib\\site-packages\\vispy\\visuals\\markers.py:564: FutureWarning: Passing (type, 1) or '1type' as a synonym of type is deprecated; in a future version of numpy, it will be understood as (type, (1,)) / '(1,)type'.\n",
      "  ('a_edgewidth', np.float32, 1)])\n",
      "C:\\Users\\singha\\AppData\\Local\\Continuum\\anaconda3\\envs\\py365\\lib\\site-packages\\vispy\\visuals\\markers.py:564: FutureWarning: Passing (type, 1) or '1type' as a synonym of type is deprecated; in a future version of numpy, it will be understood as (type, (1,)) / '(1,)type'.\n",
      "  ('a_edgewidth', np.float32, 1)])\n",
      "C:\\Users\\singha\\AppData\\Local\\Continuum\\anaconda3\\envs\\py365\\lib\\site-packages\\vispy\\visuals\\markers.py:564: FutureWarning: Passing (type, 1) or '1type' as a synonym of type is deprecated; in a future version of numpy, it will be understood as (type, (1,)) / '(1,)type'.\n",
      "  ('a_edgewidth', np.float32, 1)])\n",
      "C:\\Users\\singha\\AppData\\Local\\Continuum\\anaconda3\\envs\\py365\\lib\\site-packages\\vispy\\visuals\\markers.py:564: FutureWarning: Passing (type, 1) or '1type' as a synonym of type is deprecated; in a future version of numpy, it will be understood as (type, (1,)) / '(1,)type'.\n",
      "  ('a_edgewidth', np.float32, 1)])\n",
      "C:\\Users\\singha\\AppData\\Local\\Continuum\\anaconda3\\envs\\py365\\lib\\site-packages\\vispy\\visuals\\markers.py:564: FutureWarning: Passing (type, 1) or '1type' as a synonym of type is deprecated; in a future version of numpy, it will be understood as (type, (1,)) / '(1,)type'.\n",
      "  ('a_edgewidth', np.float32, 1)])\n",
      "C:\\Users\\singha\\AppData\\Local\\Continuum\\anaconda3\\envs\\py365\\lib\\site-packages\\vispy\\visuals\\markers.py:564: FutureWarning: Passing (type, 1) or '1type' as a synonym of type is deprecated; in a future version of numpy, it will be understood as (type, (1,)) / '(1,)type'.\n",
      "  ('a_edgewidth', np.float32, 1)])\n",
      "C:\\Users\\singha\\AppData\\Local\\Continuum\\anaconda3\\envs\\py365\\lib\\site-packages\\vispy\\visuals\\markers.py:564: FutureWarning: Passing (type, 1) or '1type' as a synonym of type is deprecated; in a future version of numpy, it will be understood as (type, (1,)) / '(1,)type'.\n",
      "  ('a_edgewidth', np.float32, 1)])\n"
     ]
    }
   ],
   "source": [
    "# Open image in napari viewer - each channel as a separate layer \n",
    "viewer2 = napari.Viewer()\n",
    "\n",
    "viewer2.add_image(im_array2[:, :, :], name = 'Channel {0}'.format(i + 1), colormap = 'viridis', \n",
    "                     interpolation = 'nearest')\n",
    "    \n",
    "indices = list(Cell.cell_data.keys())\n",
    "viewer2.add_shapes(mask, shape_type = 'polygon', opacity = 0.2, face_color = 'white', edge_color = 'red', edge_width = 3)\n",
    "mask_layer = viewer2.layers['Shapes']\n",
    "for cell in indices:\n",
    "    plane = Cell.cell_data[cell]['z_planes'][0]\n",
    "    mask = Cell.cell_data[cell]['masks'][plane]\n",
    "    mask_layer.add(mask, shape_type = 'polygon', opacity = 0.2, face_color = 'white', edge_color = 'red', edge_width = 3)\n"
   ]
  },
  {
   "cell_type": "code",
   "execution_count": 303,
   "metadata": {
    "ExecuteTime": {
     "end_time": "2019-10-02T16:46:01.620797Z",
     "start_time": "2019-10-02T16:46:01.553784Z"
    },
    "hidden": true
   },
   "outputs": [
    {
     "data": {
      "text/plain": [
       "{1: {'cell_id': 1,\n",
       "  'z_planes': [1],\n",
       "  'masks': {1: array([[1203.88111044,  337.39930311],\n",
       "          [1200.28185564,  338.59905471],\n",
       "          [1197.08251804,  342.39826811],\n",
       "          [1195.68280784,  345.19768851],\n",
       "          [1199.28206264,  347.79715031],\n",
       "          [1203.08127604,  349.59677772],\n",
       "          [1206.88048944,  350.39661212],\n",
       "          [1209.47995124,  348.99690192],\n",
       "          [1211.47953724,  346.59739871],\n",
       "          [1211.27957864,  342.99814391],\n",
       "          [1208.48015824,  339.19893051],\n",
       "          [1207.68032384,  338.19913751]])},\n",
       "  'no_planes': 1,\n",
       "  'c_vals': array([0.])},\n",
       " 2: {'cell_id': 2,\n",
       "  'z_planes': [1, 2],\n",
       "  'masks': {1: array([[1211.33317027,  392.72244235],\n",
       "          [1208.9794914 ,  393.21279212],\n",
       "          [1208.48914163,  394.87998132],\n",
       "          [1208.88142144,  398.41049963],\n",
       "          [1209.96019093,  401.64680808],\n",
       "          [1211.72545008,  403.41206723],\n",
       "          [1214.17719891,  404.39276676],\n",
       "          [1216.92315759,  405.47153624],\n",
       "          [1220.6498158 ,  405.7657461 ],\n",
       "          [1223.68998435,  405.5696062 ],\n",
       "          [1224.37647402,  403.41206723],\n",
       "          [1224.47454397,  400.27382873],\n",
       "          [1224.18033411,  397.23366019],\n",
       "          [1222.80735477,  395.27226113],\n",
       "          [1220.84595571,  393.99735174],\n",
       "          [1218.00192707,  392.42823249],\n",
       "          [1216.43280782,  391.93788273]]),\n",
       "   2: array([[1212.80421956,  392.03595268],\n",
       "          [1208.9794914 ,  392.03595268],\n",
       "          [1206.72388248,  393.50700198],\n",
       "          [1207.11616229,  397.52787005],\n",
       "          [1208.78335149,  402.72557756],\n",
       "          [1211.43124022,  404.39276676],\n",
       "          [1216.13859797,  404.98118648],\n",
       "          [1219.86525618,  405.37346629],\n",
       "          [1222.1208651 ,  404.19662685],\n",
       "          [1222.41507496,  401.64680808],\n",
       "          [1221.82665524,  397.52787005],\n",
       "          [1220.25753599,  396.35103061],\n",
       "          [1217.90385712,  394.78191137],\n",
       "          [1216.53087778,  393.01665221],\n",
       "          [1216.43280782,  392.91858226]])},\n",
       "  'no_planes': 2,\n",
       "  'c_vals': array([0.])},\n",
       " 3: {'cell_id': 3,\n",
       "  'z_planes': [1, 2],\n",
       "  'masks': {1: array([[1246.6111231 ,  476.78800787],\n",
       "          [1243.30392038,  474.58320605],\n",
       "          [1237.60818235,  476.4205409 ],\n",
       "          [1232.83111175,  478.62534271],\n",
       "          [1234.6684466 ,  484.32108074],\n",
       "          [1236.87324842,  487.07708301],\n",
       "          [1242.20151947,  489.46561831],\n",
       "          [1246.05992265,  489.46561831],\n",
       "          [1249.73459234,  489.09815134],\n",
       "          [1251.93939416,  487.26081649],\n",
       "          [1252.85806158,  484.68854771],\n",
       "          [1251.38819371,  481.01387801],\n",
       "          [1249.55085886,  477.33920832],\n",
       "          [1246.97859007,  476.78800787]]),\n",
       "   2: array([[1243.67138735,  477.89040877],\n",
       "          [1240.36418463,  477.5229418 ],\n",
       "          [1236.87324842,  478.62534271],\n",
       "          [1236.32204796,  483.03494634],\n",
       "          [1237.97564932,  486.89334952],\n",
       "          [1241.28285205,  488.3632174 ],\n",
       "          [1246.42738962,  489.09815134],\n",
       "          [1249.36712537,  488.3632174 ],\n",
       "          [1249.73459234,  486.15841558],\n",
       "          [1250.46952628,  484.68854771],\n",
       "          [1248.81592492,  481.38134498],\n",
       "          [1246.97859007,  479.54401014],\n",
       "          [1246.97859007,  479.54401014]])},\n",
       "  'no_planes': 2,\n",
       "  'c_vals': array([0.])},\n",
       " 4: {'cell_id': 4,\n",
       "  'z_planes': [3, 2, 4],\n",
       "  'masks': {3: array([[1131.28813312,  477.35492342],\n",
       "          [1126.36979768,  477.50396389],\n",
       "          [1122.79282645,  480.48477325],\n",
       "          [1120.2591385 ,  483.16750167],\n",
       "          [1118.91777429,  485.10502775],\n",
       "          [1121.30242177,  490.76856553],\n",
       "          [1124.879393  ,  492.10992974],\n",
       "          [1128.15828329,  493.74937489],\n",
       "          [1131.58621405,  494.34553676],\n",
       "          [1135.31222575,  493.15321301],\n",
       "          [1136.50454949,  488.38391804],\n",
       "          [1136.05742809,  484.65790635],\n",
       "          [1135.01414481,  482.5713398 ],\n",
       "          [1134.11990201,  479.2924495 ]]),\n",
       "   2: array([[1130.54293078,  478.69628763],\n",
       "          [1126.66787861,  479.44148997],\n",
       "          [1123.38898832,  481.08093512],\n",
       "          [1122.04762411,  484.95598728],\n",
       "          [1124.13419066,  487.6387157 ],\n",
       "          [1127.56212142,  488.98007991],\n",
       "          [1130.54293078,  489.87432272],\n",
       "          [1133.37469967,  488.68199898],\n",
       "          [1134.11990201,  487.1915943 ],\n",
       "          [1134.41798294,  484.65790635],\n",
       "          [1133.82182107,  483.0184612 ],\n",
       "          [1132.48045686,  481.08093512]]),\n",
       "   4: array([[1129.0525261 ,  479.73957091],\n",
       "          [1122.19666458,  480.93189465],\n",
       "          [1119.21585522,  484.06174448],\n",
       "          [1119.21585522,  488.23487758],\n",
       "          [1123.09090739,  490.76856553],\n",
       "          [1126.96595955,  493.45129395],\n",
       "          [1130.24484984,  493.45129395],\n",
       "          [1133.6727806 ,  491.66280834],\n",
       "          [1135.75934715,  487.93679664],\n",
       "          [1134.86510434,  485.10502775],\n",
       "          [1132.62949733,  481.37901605],\n",
       "          [1131.73525452,  479.59053044]])},\n",
       "  'no_planes': 3,\n",
       "  'c_vals': array([0.])},\n",
       " 5: {'cell_id': 5,\n",
       "  'z_planes': [2, 3, 4],\n",
       "  'masks': {2: array([[1077.48452423,  530.11524904],\n",
       "          [1075.09987674,  531.75469419],\n",
       "          [1074.20563393,  534.13934167],\n",
       "          [1075.09987674,  538.46151524],\n",
       "          [1078.67684797,  540.69712226],\n",
       "          [1083.59518341,  540.10096038],\n",
       "          [1085.23462855,  537.86535337],\n",
       "          [1085.38366902,  534.43742261],\n",
       "          [1083.74422387,  531.75469419],\n",
       "          [1082.2538192 ,  530.26428951],\n",
       "          [1081.06149545,  529.96620857]]),\n",
       "   3: array([[1072.86426972,  525.79307547],\n",
       "          [1069.58537943,  528.77388483],\n",
       "          [1071.22482458,  532.94701793],\n",
       "          [1073.16235066,  536.22590822],\n",
       "          [1077.33548376,  538.31247477],\n",
       "          [1080.61437405,  540.10096038],\n",
       "          [1084.48942621,  540.69712226],\n",
       "          [1086.27791183,  537.56727243],\n",
       "          [1086.4269523 ,  534.13934167],\n",
       "          [1086.12887136,  531.15853231],\n",
       "          [1084.04230481,  529.51908717],\n",
       "          [1081.65765732,  527.58156109],\n",
       "          [1079.57109077,  526.68731828],\n",
       "          [1076.59028142,  524.7497922 ]]),\n",
       "   4: array([[1072.26810785,  525.1969136 ],\n",
       "          [1070.6286627 ,  527.28348015],\n",
       "          [1071.52290551,  531.45661325],\n",
       "          [1072.71522925,  534.73550354],\n",
       "          [1076.88836235,  538.46151524],\n",
       "          [1080.31629311,  539.50479851],\n",
       "          [1083.148062  ,  539.20671758],\n",
       "          [1085.23462855,  537.56727243],\n",
       "          [1085.97983089,  532.49989652],\n",
       "          [1084.63846668,  526.98539921],\n",
       "          [1080.91245499,  525.34595407],\n",
       "          [1078.37876703,  524.30267079],\n",
       "          [1074.8017958 ,  523.70650892]])},\n",
       "  'no_planes': 3,\n",
       "  'c_vals': array([0.])},\n",
       " 6: {'cell_id': 6,\n",
       "  'z_planes': [4, 5, 3],\n",
       "  'masks': {4: array([[1061.96564055,  530.19137645],\n",
       "          [1059.12161191,  531.46628583],\n",
       "          [1056.66986309,  534.70259428],\n",
       "          [1056.37565323,  537.74276283],\n",
       "          [1058.53319219,  539.70416189],\n",
       "          [1061.86757059,  540.97907128],\n",
       "          [1068.04597763,  541.17521118],\n",
       "          [1069.90930674,  539.50802198],\n",
       "          [1070.30158655,  536.36978348],\n",
       "          [1070.10544665,  533.23154499],\n",
       "          [1069.12474712,  530.77979616],\n",
       "          [1068.04597763,  529.89716659],\n",
       "          [1065.98650862,  529.30874687],\n",
       "          [1064.02510956,  528.8183971 ]]),\n",
       "   5: array([[1061.96564055,  530.19137645],\n",
       "          [1059.12161191,  531.46628583],\n",
       "          [1056.66986309,  534.70259428],\n",
       "          [1056.37565323,  537.74276283],\n",
       "          [1058.53319219,  539.70416189],\n",
       "          [1061.86757059,  540.97907128],\n",
       "          [1068.04597763,  541.17521118],\n",
       "          [1069.90930674,  539.50802198],\n",
       "          [1070.30158655,  536.36978348],\n",
       "          [1070.10544665,  533.23154499],\n",
       "          [1069.12474712,  530.77979616],\n",
       "          [1068.04597763,  529.89716659],\n",
       "          [1065.98650862,  529.30874687],\n",
       "          [1064.02510956,  528.8183971 ]]),\n",
       "   3: array([[1066.37878843,  531.27014593],\n",
       "          [1063.63282975,  532.05470555],\n",
       "          [1061.18108092,  533.6238248 ],\n",
       "          [1059.80810158,  536.56592339],\n",
       "          [1059.71003163,  539.80223184],\n",
       "          [1062.25985041,  541.17521118],\n",
       "          [1066.28071848,  541.17521118],\n",
       "          [1069.02667716,  539.80223184],\n",
       "          [1070.49772646,  536.7620633 ],\n",
       "          [1070.30158655,  535.0948741 ],\n",
       "          [1069.02667716,  532.54505532],\n",
       "          [1068.04597763,  531.66242574]])},\n",
       "  'no_planes': 3,\n",
       "  'c_vals': array([0.])},\n",
       " 8: {'cell_id': 8,\n",
       "  'z_planes': [4, 5, 6],\n",
       "  'masks': {4: array([[1165.4544088 ,  447.94000508],\n",
       "          [1162.67374849,  451.20425848],\n",
       "          [1159.89308819,  453.38042742],\n",
       "          [1157.4751227 ,  457.37007047],\n",
       "          [1157.59602098,  460.63432387],\n",
       "          [1160.13488474,  462.08510316],\n",
       "          [1162.55285022,  462.08510316],\n",
       "          [1164.72901916,  462.08510316],\n",
       "          [1167.26788291,  461.84330661],\n",
       "          [1169.32315358,  460.87612042],\n",
       "          [1171.86201733,  458.45815493],\n",
       "          [1173.19189835,  456.16108772],\n",
       "          [1174.03818627,  454.95210498],\n",
       "          [1173.4336949 ,  452.77593605],\n",
       "          [1172.70830525,  451.32515676],\n",
       "          [1172.22471216,  450.59976711],\n",
       "          [1171.62022079,  449.51168264],\n",
       "          [1170.29033977,  448.42359817],\n",
       "          [1168.96045875,  448.18180163]]),\n",
       "   5: array([[1165.57530707,  447.94000508],\n",
       "          [1162.1901554 ,  450.72066538],\n",
       "          [1159.53039336,  453.74312224],\n",
       "          [1158.32141062,  457.37007047],\n",
       "          [1158.56320717,  461.72240834],\n",
       "          [1161.7065623 ,  463.17318763],\n",
       "          [1166.78428982,  463.17318763],\n",
       "          [1170.53213632,  462.81049281],\n",
       "          [1172.46650871,  461.84330661],\n",
       "          [1174.52177937,  459.30444285],\n",
       "          [1175.36806729,  457.85366356],\n",
       "          [1175.36806729,  455.07300326],\n",
       "          [1174.15908454,  452.0505464 ],\n",
       "          [1173.07100008,  450.72066538],\n",
       "          [1171.98291561,  449.39078437],\n",
       "          [1170.77393287,  448.18180163],\n",
       "          [1170.77393287,  448.18180163]]),\n",
       "   6: array([[1164.60812088,  449.26988609],\n",
       "          [1162.67374849,  453.13863087],\n",
       "          [1163.88273124,  456.7655791 ],\n",
       "          [1166.78428982,  460.27162905],\n",
       "          [1168.35596738,  461.23881524],\n",
       "          [1171.01572941,  461.60151006],\n",
       "          [1173.55459317,  460.99701869],\n",
       "          [1174.40088109,  458.57905321],\n",
       "          [1174.15908454,  455.43569808],\n",
       "          [1172.70830525,  450.96246193],\n",
       "          [1169.92764495,  449.39078437],\n",
       "          [1168.35596738,  448.786293  ]])},\n",
       "  'no_planes': 3,\n",
       "  'c_vals': array([0.])},\n",
       " 9: {'cell_id': 9,\n",
       "  'z_planes': [6, 5, 4],\n",
       "  'masks': {6: array([[1222.64435178,  314.75546498],\n",
       "          [1221.85979216,  318.08984338],\n",
       "          [1220.97716258,  325.64122976],\n",
       "          [1220.68295272,  328.58332835],\n",
       "          [1223.52698136,  328.28911849],\n",
       "          [1226.95942971,  327.50455887],\n",
       "          [1230.48994802,  325.93543962],\n",
       "          [1233.53011656,  324.07211052],\n",
       "          [1234.60888605,  321.03194197],\n",
       "          [1234.31467619,  318.87440301],\n",
       "          [1232.64748699,  317.79563352],\n",
       "          [1230.68608793,  316.81493399],\n",
       "          [1228.13626915,  315.04967484],\n",
       "          [1227.54784943,  314.55932508]]),\n",
       "   5: array([[1225.09610061,  312.99020583],\n",
       "          [1220.29067291,  312.99020583],\n",
       "          [1219.30997338,  315.63809456],\n",
       "          [1220.094533  ,  318.77633305],\n",
       "          [1219.11383347,  323.38562084],\n",
       "          [1217.74085413,  327.70069878],\n",
       "          [1218.2312039 ,  329.85823774],\n",
       "          [1221.17330249,  330.74086732],\n",
       "          [1224.40961094,  330.93700722],\n",
       "          [1226.86135976,  329.76016779],\n",
       "          [1227.64591938,  327.30841896],\n",
       "          [1228.33240905,  322.89527108],\n",
       "          [1229.50924849,  319.95317249],\n",
       "          [1229.60731844,  315.63809456],\n",
       "          [1228.52854896,  314.46125512],\n",
       "          [1226.95942971,  313.57862555]]),\n",
       "   4: array([[1224.01733112,  317.20721381],\n",
       "          [1222.15400202,  318.77633305],\n",
       "          [1220.48681282,  322.99334103],\n",
       "          [1218.4273438 ,  327.50455887],\n",
       "          [1218.81962361,  330.54472741],\n",
       "          [1221.36944239,  330.54472741],\n",
       "          [1224.50768089,  329.66209784],\n",
       "          [1225.58645037,  327.40648892],\n",
       "          [1226.46907995,  324.56246028],\n",
       "          [1226.76328981,  321.32615183],\n",
       "          [1226.66521985,  319.26668282],\n",
       "          [1226.27294004,  317.40335371]])},\n",
       "  'no_planes': 3,\n",
       "  'c_vals': array([0.])},\n",
       " 10: {'cell_id': 10,\n",
       "  'z_planes': [6, 7],\n",
       "  'masks': {6: array([[1239.90466351,  346.4320598 ],\n",
       "          [1240.19887337,  349.66836825],\n",
       "          [1240.68922313,  353.98344618],\n",
       "          [1242.55255224,  355.74870533],\n",
       "          [1246.27921045,  357.31782458],\n",
       "          [1249.319379  ,  357.31782458],\n",
       "          [1252.8498973 ,  355.84677528],\n",
       "          [1254.81129636,  353.78730627],\n",
       "          [1255.89006585,  351.4336274 ],\n",
       "          [1256.67462547,  347.60889923],\n",
       "          [1256.28234566,  345.94171003],\n",
       "          [1255.49778603,  344.86294055],\n",
       "          [1253.34024707,  344.07838093],\n",
       "          [1250.30007853,  343.2938213 ],\n",
       "          [1247.55411984,  342.90154149],\n",
       "          [1245.10237102,  342.90154149],\n",
       "          [1241.47378276,  343.0976814 ],\n",
       "          [1240.29694332,  344.37259078]]),\n",
       "   7: array([[1250.9865682 ,  348.39345886],\n",
       "          [1247.8483297 ,  347.90310909],\n",
       "          [1245.59272078,  349.17801848],\n",
       "          [1243.43518182,  350.25678796],\n",
       "          [1242.45448229,  352.12011707],\n",
       "          [1242.55255224,  354.5718659 ],\n",
       "          [1244.02360153,  356.04291519],\n",
       "          [1246.37728041,  357.21975463],\n",
       "          [1249.5155189 ,  357.21975463],\n",
       "          [1251.96726773,  355.84677528],\n",
       "          [1253.83059683,  354.17958608],\n",
       "          [1254.3209466 ,  352.51239688],\n",
       "          [1254.41901655,  350.74713773],\n",
       "          [1254.41901655,  349.27608843],\n",
       "          [1254.41901655,  349.17801848]])},\n",
       "  'no_planes': 2,\n",
       "  'c_vals': array([0.])},\n",
       " 11: {'cell_id': 11,\n",
       "  'z_planes': [6, 7],\n",
       "  'masks': {6: array([[1295.51913783,  342.84003228],\n",
       "          [1291.4001998 ,  344.40915153],\n",
       "          [1287.28126178,  345.97827078],\n",
       "          [1286.3986322 ,  348.2338797 ],\n",
       "          [1288.0658214 ,  352.45088768],\n",
       "          [1289.92915051,  356.17754589],\n",
       "          [1293.26352891,  358.33508486],\n",
       "          [1296.59790731,  358.92350457],\n",
       "          [1300.22649557,  358.33508486],\n",
       "          [1302.08982468,  355.29491631],\n",
       "          [1302.08982468,  352.45088768],\n",
       "          [1301.30526505,  347.44932007],\n",
       "          [1299.83421576,  345.48792101],\n",
       "          [1299.14772609,  344.31108158]]),\n",
       "   7: array([[1296.30369745,  346.95897031],\n",
       "          [1291.69440966,  345.88020083],\n",
       "          [1288.55617116,  346.17441069],\n",
       "          [1287.96775145,  349.11650928],\n",
       "          [1290.71371013,  352.84316749],\n",
       "          [1293.16545896,  356.07947594],\n",
       "          [1297.77474675,  357.55052523],\n",
       "          [1299.63807585,  357.06017547],\n",
       "          [1300.52070543,  354.80456655],\n",
       "          [1300.71684534,  352.45088768],\n",
       "          [1299.5400059 ,  350.29334871],\n",
       "          [1298.95158618,  349.21457923],\n",
       "          [1298.65737632,  348.52808956]])},\n",
       "  'no_planes': 2,\n",
       "  'c_vals': array([0.])},\n",
       " 12: {'cell_id': 12,\n",
       "  'z_planes': [5, 6],\n",
       "  'masks': {5: array([[1519.81159864,   75.34195379],\n",
       "          [1514.29710133,   72.0630635 ],\n",
       "          [1509.52780636,   72.36114443],\n",
       "          [1507.14315888,   73.40442771],\n",
       "          [1506.69603747,   81.15453204],\n",
       "          [1508.33548262,   86.22190794],\n",
       "          [1512.35957525,   84.28438186],\n",
       "          [1516.23462742,   81.45261297],\n",
       "          [1520.25872005,   80.70741063],\n",
       "          [1523.53761034,   78.62084408],\n",
       "          [1523.83569128,   76.98139894],\n",
       "          [1522.64336753,   75.64003473]]),\n",
       "   6: array([[1513.55189899,   74.89483239],\n",
       "          [1509.3787659 ,   75.64003473],\n",
       "          [1507.59028028,   78.02468221],\n",
       "          [1507.88836122,   82.49589625],\n",
       "          [1510.57108964,   86.07286748],\n",
       "          [1514.59518227,   86.22190794],\n",
       "          [1517.57599163,   84.5824628 ],\n",
       "          [1520.10967958,   81.60165344],\n",
       "          [1520.55680098,   78.91892502],\n",
       "          [1518.76831537,   76.98139894],\n",
       "          [1517.12887022,   75.93811566],\n",
       "          [1516.97982976,   75.78907519]])},\n",
       "  'no_planes': 2,\n",
       "  'c_vals': array([0.])},\n",
       " 13: {'cell_id': 13,\n",
       "  'z_planes': [6, 7, 8],\n",
       "  'masks': {6: array([[1502.37386391,   45.08673882],\n",
       "          [1498.49881174,   47.4713863 ],\n",
       "          [1494.47471911,   49.25987192],\n",
       "          [1492.83527396,   51.04835753],\n",
       "          [1494.92184051,   54.02916689],\n",
       "          [1499.69113549,   54.62532876],\n",
       "          [1502.37386391,   54.47628829],\n",
       "          [1505.35467326,   52.24068128],\n",
       "          [1507.14315888,   50.30315519],\n",
       "          [1508.18644215,   47.17330537],\n",
       "          [1507.73932075,   44.04345554],\n",
       "          [1506.39795654,   43.74537461]]),\n",
       "   7: array([[1503.86426858,   41.65880806],\n",
       "          [1500.43633782,   43.14921274],\n",
       "          [1497.7536094 ,   45.08673882],\n",
       "          [1495.96512379,   48.66371005],\n",
       "          [1494.92184051,   51.94260034],\n",
       "          [1497.60456894,   54.77436923],\n",
       "          [1501.0324997 ,   54.9234097 ],\n",
       "          [1504.31138999,   53.58204549],\n",
       "          [1505.50371373,   51.79355987],\n",
       "          [1507.73932075,   48.66371005],\n",
       "          [1508.33548262,   46.5771435 ],\n",
       "          [1508.18644215,   44.63961742],\n",
       "          [1508.03740168,   43.2982532 ],\n",
       "          [1507.73932075,   42.4040104 ]]),\n",
       "   8: array([[1498.64785221,   39.57224151],\n",
       "          [1497.00840706,   41.95688899],\n",
       "          [1498.34977127,   47.17330537],\n",
       "          [1498.05169034,   54.32724783],\n",
       "          [1500.13825689,   55.96669297],\n",
       "          [1503.41714718,   55.96669297],\n",
       "          [1506.99411841,   54.17820736],\n",
       "          [1509.97492777,   50.89931706],\n",
       "          [1511.46533244,   46.27906256],\n",
       "          [1511.01821104,   43.59633414],\n",
       "          [1507.44123981,   41.21168665],\n",
       "          [1505.05659233,   40.61552478],\n",
       "          [1504.16234952,   40.01936291],\n",
       "          [1503.71522812,   40.01936291]])},\n",
       "  'no_planes': 3,\n",
       "  'c_vals': array([0.])},\n",
       " 15: {'cell_id': 15,\n",
       "  'z_planes': [5, 6],\n",
       "  'masks': {5: array([[1372.11560467,  174.41886106],\n",
       "          [1369.21404609,  176.83682654],\n",
       "          [1368.730453  ,  181.67275751],\n",
       "          [1368.60955472,  185.66240056],\n",
       "          [1369.57674092,  189.53114534],\n",
       "          [1371.9947064 ,  191.586416  ],\n",
       "          [1373.92907879,  190.6192298 ],\n",
       "          [1376.58884082,  188.08036604],\n",
       "          [1377.55602701,  185.42060401],\n",
       "          [1378.03962011,  183.00263853],\n",
       "          [1375.50075635,  177.80401274],\n",
       "          [1374.41267188,  175.02335243]]),\n",
       "   6: array([[1372.11560467,  174.41886106],\n",
       "          [1369.21404609,  176.83682654],\n",
       "          [1368.730453  ,  181.67275751],\n",
       "          [1368.60955472,  185.66240056],\n",
       "          [1369.57674092,  189.53114534],\n",
       "          [1371.9947064 ,  191.586416  ],\n",
       "          [1373.92907879,  190.6192298 ],\n",
       "          [1376.58884082,  188.08036604],\n",
       "          [1377.55602701,  185.42060401],\n",
       "          [1378.03962011,  183.00263853],\n",
       "          [1375.50075635,  177.80401274],\n",
       "          [1374.41267188,  175.02335243]])},\n",
       "  'no_planes': 2,\n",
       "  'c_vals': array([0.])},\n",
       " 16: {'cell_id': 16,\n",
       "  'z_planes': [8, 9],\n",
       "  'masks': {8: array([[1435.92427341,   59.25614424],\n",
       "          [1431.08834245,   61.3114149 ],\n",
       "          [1430.60474935,   66.02644759],\n",
       "          [1430.8465459 ,   68.44441308],\n",
       "          [1436.28696824,   72.31315785],\n",
       "          [1440.15571301,   71.22507338],\n",
       "          [1444.26625434,   69.16980272],\n",
       "          [1444.26625434,   66.63093896],\n",
       "          [1444.26625434,   63.97117693],\n",
       "          [1442.81547505,   60.94872008],\n",
       "          [1441.24379748,   60.10243216],\n",
       "          [1439.06762854,   58.89344941]]),\n",
       "   9: array([[1440.88110266,   58.65165287],\n",
       "          [1438.94673027,   59.73973733],\n",
       "          [1435.92427341,   62.39949937],\n",
       "          [1432.78091829,   63.12488901],\n",
       "          [1432.53912174,   67.23543033],\n",
       "          [1435.56157859,   69.16980272],\n",
       "          [1439.79301819,   69.77429409],\n",
       "          [1445.47523708,   69.77429409],\n",
       "          [1445.71703363,   67.59812516],\n",
       "          [1445.71703363,   65.18015967],\n",
       "          [1444.38715261,   61.795008  ],\n",
       "          [1443.90355951,   60.70692353],\n",
       "          [1443.66176296,   59.86063561]])},\n",
       "  'no_planes': 2,\n",
       "  'c_vals': array([0.])},\n",
       " 20: {'cell_id': 20,\n",
       "  'z_planes': [10, 11],\n",
       "  'masks': {10: array([[1455.38056022,   78.26792592],\n",
       "          [1452.10166993,   78.41696638],\n",
       "          [1449.56798197,   81.39777574],\n",
       "          [1447.03429402,   84.3785851 ],\n",
       "          [1446.43813215,   89.74404194],\n",
       "          [1448.9718201 ,   90.63828475],\n",
       "          [1452.2507104 ,   91.08540615],\n",
       "          [1455.67864116,   89.445961  ],\n",
       "          [1459.55369332,   87.06131352],\n",
       "          [1460.00081472,   82.59009948],\n",
       "          [1460.14985519,   78.56600685],\n",
       "          [1459.55369332,   77.37368311]]),\n",
       "   11: array([[1455.97672209,   79.46024966],\n",
       "          [1450.31318431,   80.95065434],\n",
       "          [1448.22661776,   83.63338276],\n",
       "          [1447.48141543,   88.9988396 ],\n",
       "          [1450.90934619,   91.68156802],\n",
       "          [1455.38056022,   90.78732522],\n",
       "          [1457.02000537,   87.50843492],\n",
       "          [1458.51041005,   84.22954463],\n",
       "          [1458.65945051,   81.84489714],\n",
       "          [1458.65945051,   81.24873527]])},\n",
       "  'no_planes': 2,\n",
       "  'c_vals': array([0.])},\n",
       " 21: {'cell_id': 21,\n",
       "  'z_planes': [10, 11, 12],\n",
       "  'masks': {10: array([[1196.4548987 ,  299.57788444],\n",
       "          [1194.64142459,  298.12710515],\n",
       "          [1190.28908672,  298.12710515],\n",
       "          [1188.23381605,  298.12710515],\n",
       "          [1187.02483331,  302.35854474],\n",
       "          [1187.38752813,  305.8645947 ],\n",
       "          [1188.59651088,  308.645255  ],\n",
       "          [1190.89357809,  310.82142394],\n",
       "          [1192.94884875,  309.97513602],\n",
       "          [1196.09220388,  307.79896708],\n",
       "          [1199.35645728,  305.13920505],\n",
       "          [1200.44454175,  302.1167482 ],\n",
       "          [1200.32364347,  300.18237581],\n",
       "          [1198.87286418,  299.94057926]]),\n",
       "   11: array([[1196.57579697,  297.4017155 ],\n",
       "          [1190.77267981,  296.9181224 ],\n",
       "          [1185.93674884,  297.64351205],\n",
       "          [1183.51878336,  299.94057926],\n",
       "          [1183.51878336,  301.99584992],\n",
       "          [1184.48596955,  307.31537399],\n",
       "          [1186.66213849,  310.82142394],\n",
       "          [1190.16818844,  312.15130496],\n",
       "          [1192.46525565,  312.15130496],\n",
       "          [1194.76232286,  311.54681358],\n",
       "          [1196.9384918 ,  310.09603429],\n",
       "          [1199.35645728,  307.79896708],\n",
       "          [1200.44454175,  306.10639124],\n",
       "          [1200.56544002,  303.20483266],\n",
       "          [1200.32364347,  301.39135855],\n",
       "          [1199.11466073,  300.18237581],\n",
       "          [1198.63106764,  299.33608789]]),\n",
       "   12: array([[1193.91603494,  296.31363103],\n",
       "          [1189.80549362,  297.15991895],\n",
       "          [1186.66213849,  298.24800342],\n",
       "          [1186.90393504,  302.1167482 ],\n",
       "          [1188.71740915,  305.50189987],\n",
       "          [1191.73986601,  307.55717054],\n",
       "          [1194.64142459,  308.28256018],\n",
       "          [1197.42208489,  307.79896708],\n",
       "          [1198.75196591,  304.29291713],\n",
       "          [1198.02657626,  301.149562  ],\n",
       "          [1197.30118662,  299.81968099],\n",
       "          [1197.18028835,  298.97339307]])},\n",
       "  'no_planes': 3,\n",
       "  'c_vals': array([0.])},\n",
       " 22: {'cell_id': 22,\n",
       "  'z_planes': [10, 11, 12],\n",
       "  'masks': {10: array([[1154.52009673,  396.50221673],\n",
       "          [1152.31529491,  397.97208461],\n",
       "          [1149.74302612,  401.27928733],\n",
       "          [1149.37555916,  404.77022354],\n",
       "          [1151.94782794,  406.97502536],\n",
       "          [1154.8875637 ,  409.17982718],\n",
       "          [1156.90863203,  411.56836248],\n",
       "          [1159.11343384,  410.0984946 ],\n",
       "          [1161.31823566,  407.34249233],\n",
       "          [1162.23690308,  404.40275657],\n",
       "          [1162.23690308,  402.38168824],\n",
       "          [1162.0531696 ,  400.72808688],\n",
       "          [1160.76703521,  399.07448552],\n",
       "          [1159.48090081,  398.33955158],\n",
       "          [1158.19476642,  397.78835113]]),\n",
       "   11: array([[1148.45689173,  392.82754704],\n",
       "          [1145.14968901,  392.82754704],\n",
       "          [1143.12862068,  393.56248098],\n",
       "          [1142.20995325,  395.39981582],\n",
       "          [1142.94488719,  399.258219  ],\n",
       "          [1144.96595552,  401.09555385],\n",
       "          [1148.08942476,  404.0352896 ],\n",
       "          [1151.02916052,  406.05635794],\n",
       "          [1155.80623112,  407.89369278],\n",
       "          [1159.11343384,  407.15875884],\n",
       "          [1160.21583475,  404.58649006],\n",
       "          [1160.21583475,  402.19795476],\n",
       "          [1159.48090081,  399.07448552],\n",
       "          [1158.3784999 ,  397.97208461],\n",
       "          [1156.54116506,  396.31848325],\n",
       "          [1155.62249763,  394.84861537],\n",
       "          [1152.86649536,  394.11368143]]),\n",
       "   12: array([[1149.37555916,  395.03234885],\n",
       "          [1146.80329037,  396.68595022],\n",
       "          [1145.51715598,  399.80941946],\n",
       "          [1147.35449082,  403.48408915],\n",
       "          [1151.02916052,  404.21902309],\n",
       "          [1153.96889627,  403.85155612],\n",
       "          [1155.62249763,  402.19795476],\n",
       "          [1156.54116506,  400.5443534 ],\n",
       "          [1155.9899646 ,  397.97208461],\n",
       "          [1154.33636324,  396.31848325],\n",
       "          [1153.96889627,  395.58354931]])},\n",
       "  'no_planes': 3,\n",
       "  'c_vals': array([0.])},\n",
       " 23: {'cell_id': 23,\n",
       "  'z_planes': [10, 11],\n",
       "  'masks': {10: array([[1327.04203617,  424.04051782],\n",
       "          [1322.93149485,  423.55692472],\n",
       "          [1320.27173282,  423.31512817],\n",
       "          [1317.61197078,  423.79872127],\n",
       "          [1316.64478459,  425.61219538],\n",
       "          [1317.00747941,  428.39285569],\n",
       "          [1317.73286906,  431.29441427],\n",
       "          [1319.90903799,  433.83327803],\n",
       "          [1321.84341038,  434.67956595],\n",
       "          [1323.41508794,  434.9213625 ],\n",
       "          [1326.67934135,  434.31687113],\n",
       "          [1329.46000166,  432.62429529],\n",
       "          [1331.63617059,  430.44812635],\n",
       "          [1332.60335679,  428.15105914],\n",
       "          [1332.96605161,  425.73309366],\n",
       "          [1330.78988267,  424.76590746],\n",
       "          [1329.46000166,  423.91961954],\n",
       "          [1329.09730683,  423.31512817]]),\n",
       "   11: array([[1320.02993627,  423.31512817],\n",
       "          [1318.09556388,  424.52411091],\n",
       "          [1317.12837769,  427.18387295],\n",
       "          [1316.88658114,  430.32722808],\n",
       "          [1317.97466561,  435.28405732],\n",
       "          [1320.51352936,  438.1856159 ],\n",
       "          [1323.77778277,  439.51549692],\n",
       "          [1327.40473099,  439.03190382],\n",
       "          [1331.27347577,  437.33932798],\n",
       "          [1332.84515333,  433.9541763 ],\n",
       "          [1332.84515333,  430.56902463],\n",
       "          [1330.78988267,  428.39285569],\n",
       "          [1328.25101891,  425.85399193],\n",
       "          [1327.04203617,  424.52411091],\n",
       "          [1326.07484998,  423.91961954]])},\n",
       "  'no_planes': 2,\n",
       "  'c_vals': array([0.])},\n",
       " 24: {'cell_id': 24,\n",
       "  'z_planes': [11, 10],\n",
       "  'masks': {11: array([[1229.94112323,  492.74952183],\n",
       "          [1225.34698881,  493.8376063 ],\n",
       "          [1224.74249744,  496.13467351],\n",
       "          [1224.13800607,  498.0690459 ],\n",
       "          [1225.46788709,  502.05868895],\n",
       "          [1228.24854739,  503.87216306],\n",
       "          [1230.78741115,  504.59755271],\n",
       "          [1233.93076628,  504.59755271],\n",
       "          [1236.46963004,  503.63036651],\n",
       "          [1237.92040933,  501.93779067],\n",
       "          [1238.88759553,  497.94814762],\n",
       "          [1238.5249007 ,  496.25557178],\n",
       "          [1237.31591796,  494.92569077],\n",
       "          [1236.22783349,  493.71670803],\n",
       "          [1234.65615593,  492.99131838],\n",
       "          [1232.84268181,  492.62862356]]),\n",
       "   10: array([[1231.63369907,  491.54053909],\n",
       "          [1228.97393704,  493.3540132 ],\n",
       "          [1228.00675085,  495.77197869],\n",
       "          [1229.09483531,  497.94814762],\n",
       "          [1231.0292077 ,  500.24521483],\n",
       "          [1233.68896973,  501.8168924 ],\n",
       "          [1235.62334212,  501.93779067],\n",
       "          [1237.31591796,  500.8497062 ],\n",
       "          [1237.55771451,  499.15713037],\n",
       "          [1236.95322314,  497.5854528 ],\n",
       "          [1236.22783349,  496.37647006],\n",
       "          [1235.2606473 ,  494.56299595],\n",
       "          [1234.7770542 ,  493.47491148],\n",
       "          [1234.41435938,  492.74952183]])},\n",
       "  'no_planes': 2,\n",
       "  'c_vals': array([0.])},\n",
       " 25: {'cell_id': 25,\n",
       "  'z_planes': [10, 11],\n",
       "  'masks': {10: array([[1294.205593  ,  333.21803616],\n",
       "          [1290.62862177,  335.30460271],\n",
       "          [1291.82094551,  339.77581674],\n",
       "          [1293.60943113,  341.71334282],\n",
       "          [1297.78256423,  342.7566261 ],\n",
       "          [1300.91241405,  342.7566261 ],\n",
       "          [1304.63842575,  340.52101908],\n",
       "          [1305.38362809,  338.583493  ],\n",
       "          [1304.63842575,  336.94404785],\n",
       "          [1302.9989806 ,  335.15556224],\n",
       "          [1301.21049499,  334.26131943],\n",
       "          [1298.3787261 ,  333.66515756],\n",
       "          [1297.48448329,  333.36707662]]),\n",
       "   11: array([[1291.07574317,  330.53530774],\n",
       "          [1291.37382411,  334.55940037],\n",
       "          [1292.56614785,  337.09308832],\n",
       "          [1294.35463347,  340.22293815],\n",
       "          [1298.22968563,  342.01142376],\n",
       "          [1302.84994013,  342.45854516],\n",
       "          [1305.38362809,  340.22293815],\n",
       "          [1305.68170902,  337.98733113],\n",
       "          [1305.68170902,  335.90076458],\n",
       "          [1304.19130434,  334.55940037],\n",
       "          [1302.9989806 ,  334.55940037],\n",
       "          [1299.86913078,  334.11227896],\n",
       "          [1298.3787261 ,  334.11227896],\n",
       "          [1296.44120002,  333.51611709],\n",
       "          [1295.39791674,  331.57859101],\n",
       "          [1293.90751206,  329.93914586],\n",
       "          [1293.90751206,  329.93914586]])},\n",
       "  'no_planes': 2,\n",
       "  'c_vals': array([0.])},\n",
       " 26: {'cell_id': 26,\n",
       "  'z_planes': [13, 14],\n",
       "  'masks': {13: array([[1332.70874168,  178.27933061],\n",
       "          [1329.76900593,  179.93293198],\n",
       "          [1328.11540456,  184.71000258],\n",
       "          [1327.74793759,  188.75213924],\n",
       "          [1329.76900593,  192.61054242],\n",
       "          [1333.25994213,  193.52920984],\n",
       "          [1334.36234304,  190.58947409],\n",
       "          [1337.11834531,  188.38467227],\n",
       "          [1338.77194668,  183.2401347 ],\n",
       "          [1339.32314713,  179.56546501],\n",
       "          [1338.40447971,  177.54439668],\n",
       "          [1337.3020788 ,  177.17692971],\n",
       "          [1334.9135435 ,  177.72813016]]),\n",
       "   14: array([[1336.75087834,  179.74919849],\n",
       "          [1331.79007426,  181.03533288],\n",
       "          [1329.03407199,  183.79133515],\n",
       "          [1327.93167108,  187.46600485],\n",
       "          [1329.40153896,  192.61054242],\n",
       "          [1332.70874168,  195.91774514],\n",
       "          [1335.46474395,  196.28521211],\n",
       "          [1337.11834531,  193.34547636],\n",
       "          [1338.03701274,  190.77320757],\n",
       "          [1338.77194668,  188.0172053 ],\n",
       "          [1339.32314713,  184.34253561],\n",
       "          [1339.50688061,  183.05640122],\n",
       "          [1339.13941364,  181.40279985],\n",
       "          [1339.13941364,  181.40279985]])},\n",
       "  'no_planes': 2,\n",
       "  'c_vals': array([0.])},\n",
       " 27: {'cell_id': 27,\n",
       "  'z_planes': [15, 16, 14],\n",
       "  'masks': {15: array([[1495.01861496,   88.81906349],\n",
       "          [1499.24448511,   94.51480152],\n",
       "          [1504.02155571,   99.84307258],\n",
       "          [1508.43115934,  101.68040742],\n",
       "          [1513.20822995,  103.51774227],\n",
       "          [1516.51543267,  103.33400878],\n",
       "          [1517.25036661,  101.12920697],\n",
       "          [1517.25036661,   98.3732047 ],\n",
       "          [1516.33169918,   95.61720243],\n",
       "          [1514.86183131,   93.77986758],\n",
       "          [1512.84076298,   91.39133228],\n",
       "          [1509.90102722,   89.55399743],\n",
       "          [1507.87995889,   88.63533001],\n",
       "          [1505.3076901 ,   87.90039607],\n",
       "          [1502.00048738,   87.5329291 ],\n",
       "          [1499.24448511,   86.98172865],\n",
       "          [1499.24448511,   86.98172865]]),\n",
       "   16: array([[1503.47035526,   87.5329291 ],\n",
       "          [1498.1420842 ,   88.08412956],\n",
       "          [1498.32581769,   92.86120016],\n",
       "          [1501.63302041,   94.88226849],\n",
       "          [1504.38902268,   95.06600197],\n",
       "          [1507.32875844,   93.04493364],\n",
       "          [1510.81969464,   92.12626622],\n",
       "          [1511.55462858,   89.37026395],\n",
       "          [1508.61489283,   88.81906349],\n",
       "          [1507.87995889,   88.45159653]]),\n",
       "   14: array([[1507.51249192,   90.84013183],\n",
       "          [1507.51249192,   98.74067167],\n",
       "          [1509.90102722,  103.70147575],\n",
       "          [1515.96423222,  106.27374454],\n",
       "          [1518.72023449,  102.59907485],\n",
       "          [1519.45516842,   99.47560561],\n",
       "          [1517.06663312,   94.88226849],\n",
       "          [1515.96423222,   93.04493364],\n",
       "          [1513.7594304 ,   92.49373319]])},\n",
       "  'no_planes': 3,\n",
       "  'c_vals': array([0.])},\n",
       " 28: {'cell_id': 28,\n",
       "  'z_planes': [15, 14, 16],\n",
       "  'masks': {15: array([[1114.74960238,  506.2735539 ],\n",
       "          [1111.99360011,  509.58075662],\n",
       "          [1113.2797345 ,  513.4391598 ],\n",
       "          [1117.50560465,  517.29756298],\n",
       "          [1122.8338757 ,  519.68609828],\n",
       "          [1127.05974585,  519.86983176],\n",
       "          [1130.18321509,  517.84876343],\n",
       "          [1132.02054994,  515.09276116],\n",
       "          [1131.83681645,  513.07169283],\n",
       "          [1130.36694858,  510.68315753],\n",
       "          [1129.26454767,  508.84582268],\n",
       "          [1126.69227888,  507.37595481],\n",
       "          [1124.1200101 ,  505.72235344],\n",
       "          [1121.7314748 ,  505.35488647],\n",
       "          [1120.07787343,  505.17115299],\n",
       "          [1119.15920601,  505.17115299]]),\n",
       "   14: array([[1117.50560465,  503.51755163],\n",
       "          [1113.46346798,  505.53861996],\n",
       "          [1112.54480056,  510.49942405],\n",
       "          [1113.2797345 ,  513.62289329],\n",
       "          [1115.85200329,  514.35782722],\n",
       "          [1118.97547253,  513.80662677],\n",
       "          [1122.8338757 ,  509.39702314],\n",
       "          [1122.8338757 ,  506.82475435],\n",
       "          [1122.09894176,  504.98741951],\n",
       "          [1122.09894176,  504.98741951]]),\n",
       "   16: array([[1119.34293949,  509.39702314],\n",
       "          [1117.13813768,  510.86689101],\n",
       "          [1118.0568051 ,  515.46022813],\n",
       "          [1120.4453404 ,  518.03249692],\n",
       "          [1123.20134267,  520.42103222],\n",
       "          [1126.5085454 ,  521.8909001 ],\n",
       "          [1130.36694858,  522.993301  ],\n",
       "          [1131.65308297,  521.70716661],\n",
       "          [1133.30668433,  519.31863131],\n",
       "          [1133.85788478,  517.11382949],\n",
       "          [1132.75548388,  515.09276116],\n",
       "          [1129.99948161,  513.07169283],\n",
       "          [1128.34588024,  510.86689101],\n",
       "          [1127.24347934,  509.94822359]])},\n",
       "  'no_planes': 3,\n",
       "  'c_vals': array([0.])},\n",
       " 30: {'cell_id': 30,\n",
       "  'z_planes': [16, 17, 18],\n",
       "  'masks': {16: array([[1272.76334174,  305.33560656],\n",
       "          [1267.99404677,  306.52793031],\n",
       "          [1266.05652069,  310.10490153],\n",
       "          [1264.56611601,  313.68187276],\n",
       "          [1263.52283274,  316.36460118],\n",
       "          [1264.86419695,  318.00404633],\n",
       "          [1268.73924911,  318.45116773],\n",
       "          [1272.61430128,  318.00404633],\n",
       "          [1276.48935344,  316.66268212],\n",
       "          [1279.76824373,  315.61939884],\n",
       "          [1281.10960794,  312.93667042],\n",
       "          [1280.66248654,  310.253942  ],\n",
       "          [1279.61920326,  308.16737545],\n",
       "          [1277.53263671,  307.27313264],\n",
       "          [1275.89319157,  305.33560656]]),\n",
       "   17: array([[1267.99404677,  306.0808089 ],\n",
       "          [1264.11899461,  309.95586107],\n",
       "          [1261.58530666,  313.9799537 ],\n",
       "          [1260.54202338,  316.36460118],\n",
       "          [1262.03242806,  319.34541054],\n",
       "          [1265.46035882,  319.49445101],\n",
       "          [1269.33541098,  319.49445101],\n",
       "          [1273.50854408,  318.30212727],\n",
       "          [1277.83071765,  317.40788446],\n",
       "          [1279.61920326,  316.81172259],\n",
       "          [1280.51344607,  314.8741965 ],\n",
       "          [1280.96056748,  311.89338715],\n",
       "          [1281.10960794,  307.72025405],\n",
       "          [1278.87400093,  303.09999955],\n",
       "          [1274.25374642,  305.03752563],\n",
       "          [1274.25374642,  305.03752563]]),\n",
       "   18: array([[1269.33541098,  306.67697077],\n",
       "          [1265.16227788,  308.46545639],\n",
       "          [1262.18146853,  310.253942  ],\n",
       "          [1260.39298291,  312.63858949],\n",
       "          [1261.73434712,  316.51364165],\n",
       "          [1264.41707554,  317.25884399],\n",
       "          [1266.50364209,  315.32131791],\n",
       "          [1269.18637052,  313.68187276],\n",
       "          [1273.21046315,  310.99914434],\n",
       "          [1274.40278689,  309.06161826],\n",
       "          [1274.55182736,  307.72025405],\n",
       "          [1274.55182736,  306.22984937],\n",
       "          [1274.40278689,  305.93176843]])},\n",
       "  'no_planes': 3,\n",
       "  'c_vals': array([0.])},\n",
       " 31: {'cell_id': 31,\n",
       "  'z_planes': [16, 15, 17],\n",
       "  'masks': {16: array([[1190.22627628,  398.53183793],\n",
       "          [1187.20381943,  399.74082067],\n",
       "          [1185.99483669,  402.64237925],\n",
       "          [1184.5440574 ,  407.35741195],\n",
       "          [1184.5440574 ,  412.19334291],\n",
       "          [1186.96202288,  416.42478251],\n",
       "          [1189.62178491,  416.78747733],\n",
       "          [1192.64424177,  415.69939287],\n",
       "          [1195.42490207,  413.52322393],\n",
       "          [1197.23837619,  409.17088606],\n",
       "          [1197.23837619,  406.87381885],\n",
       "          [1196.39208827,  402.76327753],\n",
       "          [1194.57861416,  400.94980341],\n",
       "          [1192.88603832,  399.74082067]]),\n",
       "   15: array([[1185.51124359,  402.15878615],\n",
       "          [1184.42315912,  405.66483611],\n",
       "          [1184.0604643 ,  410.50076707],\n",
       "          [1184.42315912,  414.00681703],\n",
       "          [1187.68741253,  415.69939287],\n",
       "          [1190.34717456,  415.69939287],\n",
       "          [1194.09502106,  415.09490149],\n",
       "          [1194.69951243,  413.52322393],\n",
       "          [1193.73232624,  411.95154637],\n",
       "          [1192.76514004,  411.10525845],\n",
       "          [1191.79795385,  410.50076707],\n",
       "          [1190.22627628,  410.13807225],\n",
       "          [1189.50088664,  409.29178433],\n",
       "          [1189.25909009,  404.33495509],\n",
       "          [1189.13819182,  401.79609133],\n",
       "          [1188.17100562,  400.70800686],\n",
       "          [1187.56651425,  400.34531204]]),\n",
       "   17: array([[1189.86358146,  400.34531204],\n",
       "          [1188.41280217,  403.24687062],\n",
       "          [1188.89639527,  407.59920849],\n",
       "          [1191.0725642 ,  410.50076707],\n",
       "          [1193.24873314,  408.80819124],\n",
       "          [1194.69951243,  406.99471712],\n",
       "          [1195.7875969 ,  403.97226027],\n",
       "          [1194.94130898,  402.27968443],\n",
       "          [1193.61142796,  400.82890514],\n",
       "          [1192.88603832,  399.98261722]])},\n",
       "  'no_planes': 3,\n",
       "  'c_vals': array([0.])},\n",
       " 32: {'cell_id': 32,\n",
       "  'z_planes': [17, 16, 18],\n",
       "  'masks': {17: array([[1116.09497286,  462.89789022],\n",
       "          [1111.13814362,  462.77699194],\n",
       "          [1108.96197469,  465.3158557 ],\n",
       "          [1107.87389022,  468.09651601],\n",
       "          [1109.44556778,  473.2951418 ],\n",
       "          [1112.58892291,  476.31759865],\n",
       "          [1115.97407459,  477.0429883 ],\n",
       "          [1118.7547349 ,  476.68029348],\n",
       "          [1120.20551419,  474.86681936],\n",
       "          [1121.5353952 ,  471.84436251],\n",
       "          [1122.26078485,  468.5801091 ],\n",
       "          [1122.38168312,  465.43675397],\n",
       "          [1121.5353952 ,  463.13968676],\n",
       "          [1120.08461591,  462.41429712],\n",
       "          [1118.15024353,  462.41429712]]),\n",
       "   16: array([[1115.97407459,  462.65609367],\n",
       "          [1110.53365225,  463.38148331],\n",
       "          [1108.72017814,  465.7994488 ],\n",
       "          [1107.26939885,  467.37112636],\n",
       "          [1107.26939885,  471.11897286],\n",
       "          [1112.22622809,  476.92209002],\n",
       "          [1115.49048149,  476.92209002],\n",
       "          [1118.02934525,  476.07580211],\n",
       "          [1119.23832799,  474.14142972],\n",
       "          [1120.68910728,  472.3279556 ],\n",
       "          [1121.77719175,  469.30549875],\n",
       "          [1121.41449693,  467.00843154],\n",
       "          [1120.81000556,  465.07405915],\n",
       "          [1120.20551419,  463.74417814],\n",
       "          [1119.11742972,  462.89789022]]),\n",
       "   18: array([[1118.15024353,  466.64573672],\n",
       "          [1115.49048149,  465.67855052],\n",
       "          [1114.16060048,  467.37112636],\n",
       "          [1114.16060048,  471.11897286],\n",
       "          [1115.49048149,  473.53693835],\n",
       "          [1118.39204007,  474.74592109],\n",
       "          [1119.84281936,  470.99807459],\n",
       "          [1119.84281936,  469.0637022 ],\n",
       "          [1119.60102282,  468.21741428],\n",
       "          [1119.48012454,  467.73382118]])},\n",
       "  'no_planes': 3,\n",
       "  'c_vals': array([0.])},\n",
       " 33: {'cell_id': 33,\n",
       "  'z_planes': [17, 16],\n",
       "  'masks': {17: array([[1151.15547239,  501.34354142],\n",
       "          [1147.28672761,  504.2451    ],\n",
       "          [1148.13301553,  506.78396376],\n",
       "          [1149.7046931 ,  509.56462406],\n",
       "          [1151.88086203,  511.2571999 ],\n",
       "          [1154.05703097,  513.31247056],\n",
       "          [1156.11230163,  513.91696193],\n",
       "          [1158.28847056,  514.52145331],\n",
       "          [1160.70643605,  514.15875848],\n",
       "          [1161.43182569,  514.03786021],\n",
       "          [1165.05877392,  512.34528437],\n",
       "          [1165.78416357,  510.89450508],\n",
       "          [1164.6960791 ,  507.9929465 ],\n",
       "          [1163.48709636,  506.66306548],\n",
       "          [1162.88260499,  505.33318446],\n",
       "          [1162.27811361,  503.64060863],\n",
       "          [1160.9482326 ,  502.79432071],\n",
       "          [1159.61835158,  501.70623624],\n",
       "          [1157.44218265,  500.85994832],\n",
       "          [1154.90331889,  500.0136604 ],\n",
       "          [1153.4525396 ,  500.0136604 ]]),\n",
       "   16: array([[1152.72714995,  501.46443969],\n",
       "          [1149.34199827,  503.2779138 ],\n",
       "          [1147.04493106,  505.93767584],\n",
       "          [1148.85840518,  509.08103097],\n",
       "          [1152.12265858,  512.82887747],\n",
       "          [1155.38691198,  515.24684295],\n",
       "          [1158.28847056,  516.57672397],\n",
       "          [1162.03631707,  516.21402914],\n",
       "          [1163.60799463,  515.12594468],\n",
       "          [1164.6960791 ,  512.82887747],\n",
       "          [1164.6960791 ,  509.20192924],\n",
       "          [1163.60799463,  507.26755685],\n",
       "          [1161.91541879,  505.81677756],\n",
       "          [1160.9482326 ,  504.48689655],\n",
       "          [1158.40936884,  503.03611725],\n",
       "          [1157.2003861 ,  501.46443969],\n",
       "          [1156.35409818,  501.22264314]])},\n",
       "  'no_planes': 2,\n",
       "  'c_vals': array([0.])},\n",
       " 34: {'cell_id': 34,\n",
       "  'z_planes': [17, 18],\n",
       "  'masks': {17: array([[1550.89683013,  113.47256463],\n",
       "          [1545.56855907,  111.08402933],\n",
       "          [1540.60775499,  111.63522978],\n",
       "          [1539.68908757,  115.12616599],\n",
       "          [1542.99629029,  118.98456917],\n",
       "          [1546.67095998,  121.37310447],\n",
       "          [1550.71309665,  122.65923886],\n",
       "          [1554.02029937,  123.02670583],\n",
       "          [1555.30643376,  121.74057144],\n",
       "          [1556.22510119,  118.6171022 ],\n",
       "          [1555.85763422,  116.41230039],\n",
       "          [1554.93896679,  114.39123205],\n",
       "          [1552.55043149,  114.02376508]]),\n",
       "   18: array([[1543.73122423,  108.32802706],\n",
       "          [1542.62882332,  111.81896327],\n",
       "          [1542.07762287,  116.96350084],\n",
       "          [1542.99629029,  120.27070356],\n",
       "          [1547.58962741,  122.47550538],\n",
       "          [1551.08056362,  123.76163977],\n",
       "          [1554.38776634,  123.76163977],\n",
       "          [1556.40883467,  122.47550538],\n",
       "          [1556.96003512,  121.0056375 ],\n",
       "          [1557.14376861,  118.80083569],\n",
       "          [1556.0413677 ,  116.59603387],\n",
       "          [1553.83656589,  114.94243251],\n",
       "          [1551.08056362,  112.73763069],\n",
       "          [1550.16189619,  110.34909539],\n",
       "          [1549.79442922,  108.51176054],\n",
       "          [1548.69202831,  106.85815918],\n",
       "          [1546.85469347,  107.04189267]])},\n",
       "  'no_planes': 2,\n",
       "  'c_vals': array([0.])},\n",
       " 35: {'cell_id': 35,\n",
       "  'z_planes': [18, 19],\n",
       "  'masks': {18: array([[1539.48232055,    6.21468061],\n",
       "          [1535.75630885,    7.85412576],\n",
       "          [1533.81878277,   11.28205652],\n",
       "          [1536.20343025,   14.85902774],\n",
       "          [1539.33328008,   17.09463476],\n",
       "          [1542.16504897,   18.2869585 ],\n",
       "          [1545.89106066,   17.8398371 ],\n",
       "          [1548.27570815,   16.49847289],\n",
       "          [1549.9151533 ,   14.41190634],\n",
       "          [1549.16995096,   12.17629932],\n",
       "          [1547.08338441,   10.83493511],\n",
       "          [1546.04010113,    9.64261137],\n",
       "          [1545.44393926,    8.59932809],\n",
       "          [1543.95353458,    7.70508529],\n",
       "          [1542.76121084,    7.10892342],\n",
       "          [1542.61217037,    6.95988295]]),\n",
       "   19: array([[1528.15524499,    5.46947827],\n",
       "          [1528.15524499,   11.87821839],\n",
       "          [1531.43413528,   14.26286587],\n",
       "          [1534.86206604,   14.85902774],\n",
       "          [1539.48232055,   15.75327055],\n",
       "          [1544.69873692,   16.20039195],\n",
       "          [1546.48722254,   12.77246119],\n",
       "          [1548.42474862,    9.9406923 ],\n",
       "          [1545.89106066,    7.10892342],\n",
       "          [1542.91025131,    5.91659967],\n",
       "          [1540.22752289,    4.8733164 ],\n",
       "          [1537.395754  ,    4.27715453],\n",
       "          [1533.2226209 ,    4.72427593],\n",
       "          [1532.32837809,    5.02235687]])},\n",
       "  'no_planes': 2,\n",
       "  'c_vals': array([0.])},\n",
       " 36: {'cell_id': 36,\n",
       "  'z_planes': [18, 17, 19],\n",
       "  'masks': {18: array([[1198.38596528,  424.74751888],\n",
       "          [1194.75901705,  425.11021371],\n",
       "          [1193.55003431,  428.61626366],\n",
       "          [1194.39632223,  433.0894998 ],\n",
       "          [1194.87991532,  437.44183768],\n",
       "          [1197.41877908,  440.22249798],\n",
       "          [1201.28752386,  441.552379  ],\n",
       "          [1204.67267553,  441.552379  ],\n",
       "          [1206.48614965,  436.71644803],\n",
       "          [1207.21153929,  432.00141534],\n",
       "          [1206.36525137,  428.61626366],\n",
       "          [1204.43087899,  425.47290853],\n",
       "          [1202.85920142,  424.02212924],\n",
       "          [1201.77111695,  423.53853614],\n",
       "          [1200.92482903,  423.78033269]]),\n",
       "   17: array([[1202.37560832,  428.61626366],\n",
       "          [1198.265067  ,  430.06704295],\n",
       "          [1195.48440669,  433.5730929 ],\n",
       "          [1196.20979634,  437.20004113],\n",
       "          [1197.7814739 ,  439.98070143],\n",
       "          [1200.07854111,  440.5851928 ],\n",
       "          [1202.73830315,  440.82698935],\n",
       "          [1205.27716691,  438.65082042],\n",
       "          [1205.76076   ,  436.11195666],\n",
       "          [1206.2443531 ,  433.5730929 ],\n",
       "          [1205.51896345,  431.39692396],\n",
       "          [1204.91447208,  429.8252464 ],\n",
       "          [1204.79357381,  428.85806021]]),\n",
       "   19: array([[1201.65021868,  424.74751888],\n",
       "          [1198.14416873,  424.26392579],\n",
       "          [1194.75901705,  424.86841716],\n",
       "          [1194.75901705,  428.61626366],\n",
       "          [1195.96799979,  432.36411016],\n",
       "          [1199.47404974,  435.02387219],\n",
       "          [1202.0129135 ,  435.99105838],\n",
       "          [1203.70548934,  435.87016011],\n",
       "          [1206.12345483,  434.41938082],\n",
       "          [1206.84884447,  432.12231361],\n",
       "          [1206.60704792,  429.3416533 ],\n",
       "          [1205.76076   ,  427.52817919],\n",
       "          [1203.94728589,  426.31919645],\n",
       "          [1203.58459107,  425.71470508]])},\n",
       "  'no_planes': 3,\n",
       "  'c_vals': array([0.])},\n",
       " 37: {'cell_id': 37,\n",
       "  'z_planes': [18, 17],\n",
       "  'masks': {18: array([[1068.05762567,  567.89107555],\n",
       "          [1064.06798262,  569.70454967],\n",
       "          [1062.37540678,  572.8479048 ],\n",
       "          [1062.01271196,  576.83754784],\n",
       "          [1062.73810161,  579.13461505],\n",
       "          [1065.15606709,  581.67347881],\n",
       "          [1069.14571014,  583.72874947],\n",
       "          [1072.28906527,  583.84964775],\n",
       "          [1075.31152213,  583.6078512 ],\n",
       "          [1076.76230142,  581.91527536],\n",
       "          [1077.85038588,  579.3764116 ],\n",
       "          [1078.09218243,  576.83754784],\n",
       "          [1077.24589451,  573.08970134],\n",
       "          [1076.52050487,  569.58365139],\n",
       "          [1073.61894629,  567.40748246],\n",
       "          [1070.83828598,  567.28658418]]),\n",
       "   17: array([[1071.44277735,  575.6285651 ],\n",
       "          [1068.17852395,  575.87036165],\n",
       "          [1065.88145674,  577.32114094],\n",
       "          [1065.51876191,  580.46449607],\n",
       "          [1067.57403258,  582.76156328],\n",
       "          [1072.28906527,  583.6078512 ],\n",
       "          [1075.4324204 ,  583.36605465],\n",
       "          [1076.03691177,  581.43168226],\n",
       "          [1075.79511522,  579.98090297],\n",
       "          [1074.9488273 ,  577.92563231],\n",
       "          [1074.58613248,  576.95844612],\n",
       "          [1074.22343766,  575.99125992]])},\n",
       "  'no_planes': 2,\n",
       "  'c_vals': array([0.])},\n",
       " 38: {'cell_id': 38,\n",
       "  'z_planes': [17, 16],\n",
       "  'masks': {17: array([[1078.93847035,  561.1207722 ],\n",
       "          [1075.4324204 ,  561.24167047],\n",
       "          [1073.61894629,  562.93424631],\n",
       "          [1071.56367562,  564.02233078],\n",
       "          [1069.38750669,  566.92388936],\n",
       "          [1069.50840496,  568.85826175],\n",
       "          [1072.65176009,  571.27622723],\n",
       "          [1075.31152213,  573.45239617],\n",
       "          [1079.78475827,  575.38676855],\n",
       "          [1081.84002893,  575.14497201],\n",
       "          [1086.07146853,  573.08970134],\n",
       "          [1088.85212884,  570.55083759],\n",
       "          [1088.97302711,  567.649279  ],\n",
       "          [1088.00584092,  564.74772042],\n",
       "          [1085.95057026,  561.84616184],\n",
       "          [1083.77440132,  560.39538255],\n",
       "          [1081.47733411,  560.03268773]]),\n",
       "   16: array([[1079.90565655,  561.1207722 ],\n",
       "          [1076.27870832,  560.27448428],\n",
       "          [1074.10253938,  561.36256874],\n",
       "          [1072.53086182,  563.05514458],\n",
       "          [1072.53086182,  564.74772042],\n",
       "          [1074.46523421,  567.649279  ],\n",
       "          [1076.64140314,  570.91353241],\n",
       "          [1078.6966738 ,  573.21059962],\n",
       "          [1081.35643584,  573.81509099],\n",
       "          [1084.13709614,  573.81509099],\n",
       "          [1086.07146853,  571.75982033],\n",
       "          [1087.28045127,  569.82544794],\n",
       "          [1087.159553  ,  567.28658418],\n",
       "          [1086.6759599 ,  564.8686187 ],\n",
       "          [1085.46697716,  563.05514458],\n",
       "          [1084.86248579,  562.20885666],\n",
       "          [1084.74158751,  561.96706012]])},\n",
       "  'no_planes': 2,\n",
       "  'c_vals': array([0.])}}"
      ]
     },
     "execution_count": 303,
     "metadata": {},
     "output_type": "execute_result"
    }
   ],
   "source": [
    "mask_layer.add()"
   ]
  },
  {
   "cell_type": "markdown",
   "metadata": {
    "heading_collapsed": true
   },
   "source": [
    "# Find cortex surface and calculate depths"
   ]
  },
  {
   "cell_type": "code",
   "execution_count": 9,
   "metadata": {
    "ExecuteTime": {
     "end_time": "2019-11-26T11:07:33.628698Z",
     "start_time": "2019-11-26T11:07:33.611698Z"
    },
    "hidden": true
   },
   "outputs": [],
   "source": [
    "with open('F:/HCR/HCR_10.17/S2_depths.pkl', 'rb') as f:\n",
    "    depths = pkl.load(f)"
   ]
  },
  {
   "cell_type": "code",
   "execution_count": 13,
   "metadata": {
    "ExecuteTime": {
     "end_time": "2019-11-25T23:08:20.011698Z",
     "start_time": "2019-11-25T23:08:19.965698Z"
    },
    "hidden": true,
    "run_control": {
     "marked": false
    }
   },
   "outputs": [],
   "source": [
    "# Find centroid of each cell mask\n",
    "centers = np.zeros([Cell.n_cells, 2])\n",
    "med_planes = np.zeros(Cell.n_cells)\n",
    "\n",
    "for cell in range(Cell.n_cells):\n",
    "    \n",
    "    cell_id = cell + 1\n",
    "    planes = Cell.cell_data[cell_id]['z_planes']\n",
    "    med_planes[cell] = int(np.median(planes))\n",
    "    \n",
    "    mask = Cell.cell_data[cell_id]['masks'][med_planes[cell]]\n",
    "    centers[cell, :] = np.mean(mask, 0).astype(int)"
   ]
  },
  {
   "cell_type": "code",
   "execution_count": 14,
   "metadata": {
    "ExecuteTime": {
     "end_time": "2019-11-25T23:08:20.720698Z",
     "start_time": "2019-11-25T23:08:20.711698Z"
    },
    "hidden": true
   },
   "outputs": [],
   "source": [
    "def find_depth(d1, d2, cell_center): #d1 and d2 are two points on the surface closest to the cell center\n",
    "    \n",
    "    dx = d2[0] - d1[0]\n",
    "    dy = d2[1] - d1[1]\n",
    "    d1_cell_x = cell_center[0] - d1[0]\n",
    "    d1_cell_y = cell_center[1] - d1[1]\n",
    "    t = (dx * d1_cell_x + dy * d1_cell_y) / (dx * dx + dy * dy)\n",
    "    px = d1[0] + t * dx # Projection of cell center onto line joining d1 and d2\n",
    "    py = d1[1] + t * dy\n",
    "    depth = np.linalg.norm([px - cell_center[0], py - cell_center[1]])\n",
    "    return depth\n"
   ]
  },
  {
   "cell_type": "code",
   "execution_count": 16,
   "metadata": {
    "ExecuteTime": {
     "end_time": "2019-11-25T23:12:40.379698Z",
     "start_time": "2019-11-25T23:12:40.372698Z"
    },
    "hidden": true
   },
   "outputs": [],
   "source": [
    "um_per_px = 0.19"
   ]
  },
  {
   "cell_type": "code",
   "execution_count": 17,
   "metadata": {
    "ExecuteTime": {
     "end_time": "2019-11-25T23:12:46.740698Z",
     "start_time": "2019-11-25T23:12:46.410698Z"
    },
    "hidden": true
   },
   "outputs": [
    {
     "data": {
      "text/plain": [
       "(array([1., 0., 0., 1., 1., 3., 6., 7., 7., 4., 5., 6., 9., 3., 8., 6., 6.,\n",
       "        5., 9., 3., 7., 3., 2., 4., 4., 6., 8., 1., 6., 8., 7., 7., 7., 6.,\n",
       "        4., 8., 9., 8., 5., 3., 7., 8., 4., 3., 3., 1., 4., 3., 3., 1.]),\n",
       " array([ 10.00125855,  14.51361409,  19.02596964,  23.53832518,\n",
       "         28.05068073,  32.56303627,  37.07539182,  41.58774736,\n",
       "         46.10010291,  50.61245845,  55.124814  ,  59.63716955,\n",
       "         64.14952509,  68.66188064,  73.17423618,  77.68659173,\n",
       "         82.19894727,  86.71130282,  91.22365836,  95.73601391,\n",
       "        100.24836945, 104.760725  , 109.27308054, 113.78543609,\n",
       "        118.29779163, 122.81014718, 127.32250272, 131.83485827,\n",
       "        136.34721382, 140.85956936, 145.37192491, 149.88428045,\n",
       "        154.396636  , 158.90899154, 163.42134709, 167.93370263,\n",
       "        172.44605818, 176.95841372, 181.47076927, 185.98312481,\n",
       "        190.49548036, 195.0078359 , 199.52019145, 204.03254699,\n",
       "        208.54490254, 213.05725808, 217.56961363, 222.08196918,\n",
       "        226.59432472, 231.10668027, 235.61903581]),\n",
       " <a list of 50 Patch objects>)"
      ]
     },
     "execution_count": 17,
     "metadata": {},
     "output_type": "execute_result"
    },
    {
     "data": {
      "image/png": "[encoded data removed]",
      "text/plain": [
       "<Figure size 432x288 with 1 Axes>"
      ]
     },
     "metadata": {
      "needs_background": "light"
     },
     "output_type": "display_data"
    }
   ],
   "source": [
    "# Draw surface and calculate depths\n",
    "surface = viewer.layers['masks'].data[-1]\n",
    "depths = np.zeros(Cell.n_cells)\n",
    "\n",
    "for cell in range(Cell.n_cells):\n",
    "    distances = np.linalg.norm(centers[cell, :] - surface, axis = 1)\n",
    "    order = np.argsort(distances)\n",
    "    [p1, p2] = order[0:2]\n",
    "    d1 = surface[p1]\n",
    "    d2 = surface[p2]\n",
    "    depths[cell] = find_depth(d1, d2, centers[cell, :])\n",
    "depths = depths*um_per_px\n",
    "with open('F:/HCR/HCR_10.17/S2_depths.pkl', 'wb') as f:\n",
    "    pkl.dump(depths, f)\n",
    "plt.figure()\n",
    "plt.hist(depths, 50)"
   ]
  },
  {
   "cell_type": "code",
   "execution_count": 35,
   "metadata": {
    "ExecuteTime": {
     "end_time": "2019-11-18T15:59:22.215389Z",
     "start_time": "2019-11-18T15:59:22.210389Z"
    },
    "hidden": true
   },
   "outputs": [],
   "source": [
    "max_depth = 120\n",
    "all_cells = np.array(range(Cell.n_cells))\n",
    "cell_ids = all_cells[depths < max_depth]\n",
    "\n",
    "avg_intensity_shallow_ndnf = avg_intensity_ndnf[cell_ids]\n",
    "avg_intensity_shallow_vip = avg_intensity_vip[cell_ids]\n",
    "avg_intensity_shallow_sst = avg_intensity_sst[cell_ids]"
   ]
  },
  {
   "cell_type": "code",
   "execution_count": 36,
   "metadata": {
    "ExecuteTime": {
     "end_time": "2019-11-18T15:59:22.749389Z",
     "start_time": "2019-11-18T15:59:22.689389Z"
    },
    "hidden": true
   },
   "outputs": [
    {
     "data": {
      "text/plain": [
       "Text(0.8, 1, '0.0 %')"
      ]
     },
     "execution_count": 36,
     "metadata": {},
     "output_type": "execute_result"
    }
   ],
   "source": [
    "plt.figure()\n",
    "gene1_level = avg_intensity_shallow_ndnf\n",
    "gene2_level = avg_intensity_shallow_vip\n",
    "gene1_level_all = avg_intensity_ndnf\n",
    "gene2_level_all = avg_intensity_vip\n",
    "\n",
    "plt.scatter(gene1_level/np.max(gene1_level_all), gene2_level/np.max(gene2_level_all), \n",
    "            color = 'k', marker = 'o',\n",
    "           alpha = 0.2)\n",
    "\n",
    "\n",
    "plt.xlabel('Relative expression of Ndnf')\n",
    "plt.ylabel('Relative expression of Vip')\n",
    "\n",
    "t1 = 0.4\n",
    "t2 = 0.2\n",
    "\n",
    "n_cells = cell_ids.shape[0]\n",
    "plt.plot(np.ones(2)*t1, np.array(range(0, 2)), '--', color = 'r')\n",
    "plt.plot(np.array(range(0, 2)), np.ones(2)*t2, '--',  color = 'r')\n",
    "\n",
    "q1 = np.sum(np.logical_and(gene1_level/np.max(gene1_level_all) < t1, \n",
    "                    gene2_level/np.max(gene2_level_all) < t2))\n",
    "plt.text(0, 0, '{0} %'.format(np.round(q1/n_cells*100, decimals = 0)), fontsize = 12)\n",
    "\n",
    "q2 = np.sum(np.logical_and(gene1_level/np.max(gene1_level_all) < t1, \n",
    "                    gene2_level/np.max(gene2_level_all) > t2))\n",
    "plt.text(0, 1, '{0} %'.format(np.round(q2/n_cells*100, decimals = 0)), fontsize = 12)\n",
    "\n",
    "q3 = np.sum(np.logical_and(gene1_level/np.max(gene1_level_all) > t1, \n",
    "                    gene2_level/np.max(gene2_level_all) < t2))\n",
    "plt.text(0.8, 0, '{0} %'.format(np.round(q3/n_cells*100, decimals = 0)), fontsize = 12)\n",
    "\n",
    "q4 = np.sum(np.logical_and(gene1_level/np.max(gene1_level_all) > t1, \n",
    "                    gene2_level/np.max(gene2_level_all) > t2))\n",
    "plt.text(0.8, 1, '{0} %'.format(np.round(q4/n_cells*100, decimals = 0)), fontsize = 12)"
   ]
  },
  {
   "cell_type": "code",
   "execution_count": 31,
   "metadata": {
    "ExecuteTime": {
     "end_time": "2019-11-18T15:56:16.600389Z",
     "start_time": "2019-11-18T15:56:16.577389Z"
    },
    "hidden": true
   },
   "outputs": [],
   "source": [
    "%matplotlib qt"
   ]
  },
  {
   "cell_type": "code",
   "execution_count": 39,
   "metadata": {
    "ExecuteTime": {
     "end_time": "2019-11-20T20:37:59.864389Z",
     "start_time": "2019-11-20T20:37:59.785389Z"
    },
    "hidden": true
   },
   "outputs": [
    {
     "data": {
      "text/plain": [
       "Text(0.5, 1.0, 'Sst intensity vs depth')"
      ]
     },
     "execution_count": 39,
     "metadata": {},
     "output_type": "execute_result"
    }
   ],
   "source": [
    "# Plot intensity vs depth for all channels\n",
    "fig, ax = plt.subplots(nrows = 1, ncols = 3, figsize = (20, 10))\n",
    "\n",
    "ax[0].scatter(depths, avg_intensity_ndnf, color = 'k', alpha = 0.5)\n",
    "ax[0].set_title('Ndnf intensity vs depth')\n",
    "\n",
    "ax[1].scatter(depths, avg_intensity_vip, color = 'k', alpha = 0.5)\n",
    "ax[1].set_title('Vip intensity vs depth')\n",
    "\n",
    "ax[2].scatter(depths, avg_intensity_sst, color = 'k', alpha = 0.5)\n",
    "ax[2].set_title('Sst intensity vs depth')"
   ]
  },
  {
   "cell_type": "code",
   "execution_count": 10,
   "metadata": {
    "ExecuteTime": {
     "end_time": "2019-11-26T11:07:40.339698Z",
     "start_time": "2019-11-26T11:07:39.664698Z"
    },
    "hidden": true
   },
   "outputs": [
    {
     "data": {
      "text/plain": [
       "Text(0.5, 1.0, 'Max intensity = 28136')"
      ]
     },
     "execution_count": 10,
     "metadata": {},
     "output_type": "execute_result"
    },
    {
     "data": {
      "image/png": "[encoded data removed]",
      "text/plain": [
       "<Figure size 1440x720 with 3 Axes>"
      ]
     },
     "metadata": {
      "needs_background": "light"
     },
     "output_type": "display_data"
    }
   ],
   "source": [
    "# Plot intensity vs depth for all channels\n",
    "fig, ax = plt.subplots(nrows = 1, ncols = 3, figsize = (20, 10))\n",
    "\n",
    "ax[0].scatter(depths, avg_intensity_ndnf/np.max(avg_intensity_ndnf), color = 'k', alpha = 0.5)\n",
    "ax[0].set_xlabel('Depth from pia (um)')\n",
    "ax[0].set_ylabel('Intensity in Ndnf channel, normalized')\n",
    "ax[0].set_title('Max intensity = {0}'.format(int(np.max(avg_intensity_ndnf))))\n",
    "\n",
    "ax[1].scatter(depths, avg_intensity_vip/np.max(avg_intensity_vip), color = 'k', alpha = 0.5)\n",
    "ax[1].set_xlabel('Depth from pia (um)')\n",
    "ax[1].set_ylabel('Intensity in Vip channel, normalized')\n",
    "ax[1].set_title('Max intensity = {0}'.format(int(np.max(avg_intensity_vip))))\n",
    "\n",
    "ax[2].scatter(depths, avg_intensity_sst/np.max(avg_intensity_sst), color = 'k', alpha = 0.5)\n",
    "ax[2].set_xlabel('Depth from pia (um)')\n",
    "ax[2].set_ylabel('Intensity in Sst channel, normalized')\n",
    "ax[2].set_title('Max intensity = {0}'.format(int(np.max(avg_intensity_sst))))"
   ]
  },
  {
   "cell_type": "markdown",
   "metadata": {
    "heading_collapsed": true
   },
   "source": [
    "# View raw images of each cell"
   ]
  },
  {
   "cell_type": "code",
   "execution_count": 13,
   "metadata": {
    "ExecuteTime": {
     "end_time": "2019-11-29T04:06:24.392698Z",
     "start_time": "2019-11-29T04:06:24.356698Z"
    },
    "hidden": true
   },
   "outputs": [],
   "source": [
    "%matplotlib qt"
   ]
  },
  {
   "cell_type": "code",
   "execution_count": 20,
   "metadata": {
    "ExecuteTime": {
     "end_time": "2019-11-26T12:18:45.657698Z",
     "start_time": "2019-11-26T12:18:45.637698Z"
    },
    "hidden": true
   },
   "outputs": [],
   "source": [
    "plt.close('all')"
   ]
  },
  {
   "cell_type": "code",
   "execution_count": 112,
   "metadata": {
    "ExecuteTime": {
     "end_time": "2019-12-04T02:09:36.327698Z",
     "start_time": "2019-12-04T02:08:33.482698Z"
    },
    "hidden": true
   },
   "outputs": [],
   "source": [
    "gene = 'sst'\n",
    "\n",
    "if gene == 'sst':\n",
    "    im_array = im_array_sst\n",
    "    cell_order = np.argsort(avg_intensity_sst - ci_sst - avg_bg_sst)\n",
    "    ylabel = pv_sst\n",
    "elif gene == 'vip':\n",
    "    im_array = im_array_vip\n",
    "    cell_order = np.argsort(avg_intensity_vip - ci_vip - avg_bg_vip)\n",
    "    ylabel = pv_vip\n",
    "elif gene == 'ndnf':\n",
    "    im_array = im_array_ndnf\n",
    "    cell_order = np.argsort(avg_intensity_ndnf - ci_ndnf - avg_bg_ndnf)\n",
    "    ylabel = pv_ndnf\n",
    "    \n",
    "n_rows = 10\n",
    "n_cols = 24\n",
    "plt.style.use('dark_background')\n",
    "fig, ax = plt.subplots(nrows = n_rows, ncols = n_cols, figsize = (30, 20))\n",
    "\n",
    "\n",
    "size_um = 20 # In um\n",
    "um_per_px = 0.19 # Size of a pixel in um\n",
    "\n",
    "size_px = int(size_um/um_per_px/2)\n",
    "mask_dil =  np.zeros([h, w]).astype(bool)\n",
    "\n",
    "max_intensity = np.max(im_array)/15\n",
    "min_intensity = np.min(im_array)\n",
    "\n",
    "for cell in range(Cell.n_cells):\n",
    "    \n",
    "    row = int(cell/n_cols)\n",
    "    col = np.mod(cell, n_cols)\n",
    "    \n",
    "    cell_id = cell_order[cell] + 1\n",
    "    \n",
    "    planes = Cell.cell_data[cell_id]['z_planes']\n",
    "    med_plane = int(np.median(planes))\n",
    "    \n",
    "    mask = Cell.cell_data[cell_id]['masks'][med_plane]\n",
    "    [x_center, y_center] = np.mean(mask, 0).astype(int)\n",
    "    [x1, y1] = [np.max([0, x_center - size_px]), np.max([0, y_center - size_px])]\n",
    "    [x2, y2] = [np.min([h, x_center + size_px]), np.min([w, y_center + size_px])]\n",
    "    mask_dil[x1:x2, y1:y2] = np.ones([x2 - x1, y2 - y1])\n",
    "    \n",
    "    small_im = np.reshape(im_array[med_plane, mask_dil], [np.min([x2 - x1, size_px*2]), np.min([y2 - y1, size_px*2])])\n",
    "    ax[row, col].imshow(small_im, vmin = min_intensity, vmax = max_intensity)\n",
    "    \n",
    "    mask_dil[x1:x2, y1:y2] = np.zeros([x2 - x1, y2 - y1])\n",
    "    \n",
    "    ax[row, col].axis('off')\n",
    "    if col == 0:\n",
    "        ax[row, col].set_ylabel('{0}'.format(np.round(ylabel[cell_id - 1], 3)))\n",
    "        ax[row, col].axis('on')"
   ]
  },
  {
   "cell_type": "markdown",
   "metadata": {},
   "source": [
    "# Local background correction"
   ]
  },
  {
   "cell_type": "markdown",
   "metadata": {},
   "source": [
    "## Define background pixels"
   ]
  },
  {
   "cell_type": "code",
   "execution_count": 9,
   "metadata": {
    "ExecuteTime": {
     "end_time": "2019-11-28T22:54:41.856698Z",
     "start_time": "2019-11-28T22:54:07.153698Z"
    }
   },
   "outputs": [],
   "source": [
    "# All pixels not contained in any cell mask\n",
    "bg_all = np.ones([n, h, w])\n",
    "n_vert_all = {}\n",
    "centers = {}\n",
    "\n",
    "no_cells = len(Cell.cell_data.keys())\n",
    "for cell in range(no_cells):\n",
    "        \n",
    "    cell_no = cell + 1\n",
    "    cell_dict = Cell.cell_data[cell_no]\n",
    "    z_planes = cell_dict['z_planes']\n",
    "    n_vert_all[cell] = {}\n",
    "    centers[cell] = {}\n",
    "    \n",
    "    for plane in z_planes:\n",
    "        \n",
    "        xy_coord = mask_vertices[cell_no][plane]\n",
    "        x = xy_coord[0]\n",
    "        y = xy_coord[1]\n",
    "        z = plane\n",
    "        centers[cell][plane] = np.array([np.mean(x), np.mean(y)]).astype(int)\n",
    "        \n",
    "        \n",
    "        bg_all[z, x, y] = np.zeros([1, len(x)])\n",
    "        \n",
    "        n_vert_all[cell][plane] = len(x) "
   ]
  },
  {
   "cell_type": "markdown",
   "metadata": {},
   "source": [
    "## Calculate local background for each cell"
   ]
  },
  {
   "cell_type": "code",
   "execution_count": 74,
   "metadata": {
    "ExecuteTime": {
     "end_time": "2019-12-03T21:20:27.466698Z",
     "start_time": "2019-12-03T21:20:27.462698Z"
    }
   },
   "outputs": [],
   "source": [
    "with open('F:/HCR/HCR_10.17/S2_background_ndnf_sst_vip.pkl', 'rb') as f:\n",
    "    dict = pkl.load(f)\n",
    "avg_bg_ndnf = dict['Ndnf'] \n",
    "avg_bg_sst = dict['Sst']  \n",
    "avg_bg_vip = dict['Vip'] "
   ]
  },
  {
   "cell_type": "code",
   "execution_count": 25,
   "metadata": {
    "ExecuteTime": {
     "end_time": "2019-11-26T12:30:08.385698Z",
     "start_time": "2019-11-26T12:29:44.504698Z"
    }
   },
   "outputs": [],
   "source": [
    "# fig, ax = plt.subplots(nrows = 3, ncols = 20)\n",
    "um_per_px = 0.19\n",
    "no_cells = len(Cell.cell_data.keys())\n",
    "avg_bg_ndnf = np.zeros(no_cells)\n",
    "avg_bg_vip = np.zeros(no_cells)\n",
    "avg_bg_sst = np.zeros(no_cells)\n",
    "\n",
    "local_region = 50 # in um\n",
    "local_px = int(local_region/um_per_px/2)\n",
    "\n",
    "min_dist = 10 # in um\n",
    "min_dist_px = min_dist/um_per_px\n",
    "\n",
    "for cell in range(no_cells):\n",
    "    cell_no = cell + 1\n",
    "    cell_dict = Cell.cell_data[cell_no]\n",
    "    z_planes = cell_dict['z_planes']\n",
    "\n",
    "    bg_ndnf = np.zeros(len(z_planes))\n",
    "    bg_vip = np.zeros(len(z_planes))\n",
    "    bg_sst = np.zeros(len(z_planes))\n",
    "\n",
    "    p = 0\n",
    "    for plane in z_planes:\n",
    "\n",
    "        center = centers[cell][plane]\n",
    "        n_verts = n_vert_all[cell][plane]\n",
    "\n",
    "        x1 = np.max([0, center[0] - local_px])\n",
    "        x2 = np.min([h, center[0] + local_px])\n",
    "        y1 = np.max([0, center[1] - local_px])\n",
    "        y2 = np.min([w, center[1] + local_px])\n",
    "\n",
    "        center_local = [local_px, local_px]\n",
    "\n",
    "        local_bg = bg_all[plane, x1:x2, y1:y2].astype(bool)\n",
    "        local_im_ndnf = im_array_ndnf[plane, x1:x2, y1:y2]\n",
    "        local_im_sst = im_array_sst[plane, x1:x2, y1:y2]\n",
    "        local_im_vip = im_array_vip[plane, x1:x2, y1:y2]\n",
    "        local_im = im_array[plane, x1:x2, y1:y2]\n",
    "\n",
    "#         ax[0, cell].imshow(local_im, vmin = np.min(local_im), vmax = np.max(local_im)/2)\n",
    "\n",
    "#         ax[1, cell].imshow(local_bg)\n",
    "        \n",
    "        verts = np.array(np.where(local_bg))\n",
    "        dist_from_center = np.linalg.norm(verts - np.reshape(center_local, [2, 1]), axis = 0)\n",
    "        verts = verts[:, dist_from_center > min_dist_px]\n",
    "        dist_from_center = dist_from_center[dist_from_center > min_dist_px]\n",
    "        \n",
    "        order = np.argsort(dist_from_center)\n",
    "        n_verts = np.min([n_verts, len(order)])\n",
    "        \n",
    "        x_bg = verts[0][order[0:n_verts]]\n",
    "        y_bg = verts[1][order[0:n_verts]]\n",
    "\n",
    "        local_bg = np.zeros(local_bg.shape).astype(bool)\n",
    "        local_bg[x_bg, y_bg] = np.ones(n_verts)\n",
    "\n",
    "#         ax[2, cell].imshow(local_bg)\n",
    "\n",
    "        bg_ndnf[p] = np.mean(local_im_ndnf[local_bg])\n",
    "        bg_vip[p] = np.mean(local_im_vip[local_bg])\n",
    "        bg_sst[p] = np.mean(local_im_sst[local_bg])\n",
    "\n",
    "        p += 1\n",
    "\n",
    "\n",
    "\n",
    "    avg_bg_ndnf[cell] = np.mean(bg_ndnf)\n",
    "    avg_bg_vip[cell] = np.mean(bg_vip)\n",
    "    avg_bg_sst[cell] = np.mean(bg_sst)\n",
    "    \n",
    "with open('F:/HCR/HCR_10.17/S2_background_ndnf_sst_vip.pkl', 'wb') as f:\n",
    "    pkl.dump({'Ndnf': avg_bg_ndnf, 'Sst': avg_bg_sst, 'Vip':avg_bg_vip}, f)"
   ]
  },
  {
   "cell_type": "markdown",
   "metadata": {
    "heading_collapsed": true
   },
   "source": [
    "# Use background to estimate significance of signal"
   ]
  },
  {
   "cell_type": "markdown",
   "metadata": {
    "hidden": true
   },
   "source": [
    "## Calculate p value and 95% confidence interval for each cell by bootstrapping background"
   ]
  },
  {
   "cell_type": "code",
   "execution_count": 100,
   "metadata": {
    "ExecuteTime": {
     "end_time": "2019-12-04T01:56:16.482698Z",
     "start_time": "2019-12-04T01:56:16.475698Z"
    },
    "hidden": true
   },
   "outputs": [],
   "source": [
    "with open('F:/HCR/HCR_10.17/S2_p_values_ndnf_sst_vip.pkl', 'rb') as f:\n",
    "    d = pkl.load(f)\n",
    "pv_ndnf = d['Ndnf']\n",
    "pv_sst = d['Sst']\n",
    "pv_vip = d['Vip']"
   ]
  },
  {
   "cell_type": "code",
   "execution_count": 75,
   "metadata": {
    "ExecuteTime": {
     "end_time": "2019-12-03T21:24:02.102698Z",
     "start_time": "2019-12-03T21:21:16.584698Z"
    },
    "hidden": true
   },
   "outputs": [
    {
     "name": "stdout",
     "output_type": "stream",
     "text": [
      "Cell 0\n",
      "Cell 10\n",
      "Cell 20\n",
      "Cell 30\n",
      "Cell 40\n",
      "Cell 50\n",
      "Cell 60\n",
      "Cell 70\n",
      "Cell 80\n",
      "Cell 90\n",
      "Cell 100\n",
      "Cell 110\n",
      "Cell 120\n",
      "Cell 130\n",
      "Cell 140\n",
      "Cell 150\n",
      "Cell 160\n",
      "Cell 170\n",
      "Cell 180\n",
      "Cell 190\n",
      "Cell 200\n",
      "Cell 210\n",
      "Cell 220\n",
      "Cell 230\n"
     ]
    }
   ],
   "source": [
    "n_sample = 1000 # Number of samples to calculate bootstrap confidence interval\n",
    "p_value = 0.05 # Threshold for calling signal significantly different from background\n",
    "\n",
    "no_cells = len(Cell.cell_data.keys())\n",
    "\n",
    "ci_ndnf = np.zeros(no_cells)\n",
    "ci_vip = np.zeros(no_cells)\n",
    "ci_sst = np.zeros(no_cells)\n",
    "\n",
    "pv_ndnf = np.zeros(no_cells)\n",
    "pv_vip = np.zeros(no_cells)\n",
    "pv_sst = np.zeros(no_cells)\n",
    "\n",
    "um_per_px = 0.19\n",
    "\n",
    "local_region = 50 # in um\n",
    "local_px = int(local_region/um_per_px/2)\n",
    "\n",
    "min_dist = 10 # in um\n",
    "min_dist_px = min_dist/um_per_px\n",
    "\n",
    "for cell in range(no_cells):\n",
    "\n",
    "    if np.mod(cell, 10) == 0:\n",
    "        print('Cell {0}'.format(cell))\n",
    "        \n",
    "    cell_no = cell + 1\n",
    "    cell_dict = Cell.cell_data[cell_no]\n",
    "    z_planes = cell_dict['z_planes']\n",
    "    \n",
    "    bs_means = np.zeros([n_sample, 3, len(z_planes)])\n",
    "    p = 0\n",
    "    \n",
    "    for plane in z_planes:\n",
    "\n",
    "        center = centers[cell][plane]\n",
    "        n_verts = n_vert_all[cell][plane]\n",
    "\n",
    "        x1 = np.max([0, center[0] - local_px])\n",
    "        x2 = np.min([h, center[0] + local_px])\n",
    "        y1 = np.max([0, center[1] - local_px])\n",
    "        y2 = np.min([w, center[1] + local_px])\n",
    "\n",
    "        center_local = [local_px, local_px]\n",
    "\n",
    "        local_bg = bg_all[plane, x1:x2, y1:y2].astype(bool)\n",
    "\n",
    "        verts = np.array(np.where(local_bg))\n",
    "        dist_from_center = np.linalg.norm(verts - np.reshape(center_local, [2, 1]), \n",
    "                                          axis = 0)\n",
    "        verts = verts[:, dist_from_center > min_dist_px]\n",
    "        dist_from_center = dist_from_center[dist_from_center > min_dist_px]\n",
    "\n",
    "        order = np.argsort(dist_from_center)\n",
    "        # Take 4x the number of pixels in the mask of the cell, for local background - it will still be local but you'll\n",
    "        # get a better estimate of background by averaging over more pixels.\n",
    "        n_verts_bg = np.min([4*n_verts, len(order)])\n",
    "\n",
    "        verts = verts[:, order[0:n_verts_bg]]\n",
    "        samples = np.random.choice(np.linspace(0, n_verts_bg - 1, n_verts_bg).astype(int), \n",
    "                                   (n_verts, n_sample), replace = True)\n",
    "        x_bs = verts[0][samples]\n",
    "        y_bs = verts[1][samples]\n",
    "\n",
    "        local_im_ndnf = im_array_ndnf[plane, x1:x2, y1:y2]\n",
    "        local_im_sst = im_array_sst[plane, x1:x2, y1:y2]\n",
    "        local_im_vip = im_array_vip[plane, x1:x2, y1:y2]\n",
    "\n",
    "\n",
    "        local_bg_bs = np.zeros([x2 - x1, y2 - y1]).astype(bool)\n",
    "        for s in range(n_sample):\n",
    "            local_bg_bs[x_bs[:, s], y_bs[:, s]] = np.ones(n_verts)\n",
    "            bs_means[s, 0, p] = np.mean(local_im_ndnf[local_bg_bs])\n",
    "            bs_means[s, 1, p] = np.mean(local_im_vip[local_bg_bs])\n",
    "            bs_means[s, 2, p] = np.mean(local_im_sst[local_bg_bs])\n",
    "\n",
    "        p += 1\n",
    "\n",
    "        pv_ndnf[cell] = np.sum(bs_means[:, 0, :] > avg_intensity_ndnf[cell] - avg_bg_ndnf[cell])/n_sample/len(z_planes)\n",
    "        pv_vip[cell] = np.sum(bs_means[:, 1, :] > avg_intensity_vip[cell] - avg_bg_vip[cell])/n_sample/len(z_planes)\n",
    "        pv_sst[cell] = np.sum(bs_means[:, 2, :] > avg_intensity_sst[cell] - avg_bg_sst[cell])/n_sample/len(z_planes)\n",
    "        \n",
    "        ci_ndnf[cell] = np.mean(np.percentile(bs_means[:, 0, :], (1 - p_value)*100, axis = 0))\n",
    "        ci_vip[cell] = np.mean(np.percentile(bs_means[:, 1, :], (1 - p_value)*100, axis = 0))\n",
    "        ci_sst[cell] = np.mean(np.percentile(bs_means[:, 2, :], (1 - p_value)*100, axis = 0))\n",
    "\n",
    "with open('F:/HCR/HCR_10.17/S2_confidence_intervals_ndnf_sst_vip.pkl', 'wb') as f:\n",
    "    pkl.dump({'Ndnf': ci_ndnf, 'Sst': ci_sst, 'Vip':ci_vip}, f)\n",
    "    \n",
    "with open('F:/HCR/HCR_10.17/S2_p_values_ndnf_sst_vip.pkl', 'wb') as f:\n",
    "    pkl.dump({'Ndnf': pv_ndnf, 'Sst': pv_sst, 'Vip':pv_vip}, f)"
   ]
  },
  {
   "cell_type": "code",
   "execution_count": 113,
   "metadata": {
    "ExecuteTime": {
     "end_time": "2019-12-04T02:09:37.900698Z",
     "start_time": "2019-12-04T02:09:37.860698Z"
    },
    "hidden": true,
    "run_control": {
     "marked": true
    }
   },
   "outputs": [
    {
     "data": {
      "text/plain": [
       "[<matplotlib.lines.Line2D at 0x25e14668>]"
      ]
     },
     "execution_count": 113,
     "metadata": {},
     "output_type": "execute_result"
    }
   ],
   "source": [
    "cell_order = np.argsort(avg_intensity_sst - avg_bg_sst - ci_sst)\n",
    "\n",
    "plt.figure()\n",
    "plt.plot(pv_sst[cell_order], marker = 'o')"
   ]
  },
  {
   "cell_type": "code",
   "execution_count": 115,
   "metadata": {
    "ExecuteTime": {
     "end_time": "2019-12-04T02:11:04.445698Z",
     "start_time": "2019-12-04T02:11:04.441698Z"
    },
    "hidden": true
   },
   "outputs": [
    {
     "data": {
      "text/plain": [
       "216"
      ]
     },
     "execution_count": 115,
     "metadata": {},
     "output_type": "execute_result"
    }
   ],
   "source": [
    "24*9"
   ]
  },
  {
   "cell_type": "code",
   "execution_count": 114,
   "metadata": {
    "ExecuteTime": {
     "end_time": "2019-12-04T02:10:49.470698Z",
     "start_time": "2019-12-04T02:10:49.467698Z"
    },
    "hidden": true
   },
   "outputs": [
    {
     "data": {
      "text/plain": [
       "8.916666666666666"
      ]
     },
     "execution_count": 114,
     "metadata": {},
     "output_type": "execute_result"
    }
   ],
   "source": [
    "214/24"
   ]
  },
  {
   "cell_type": "markdown",
   "metadata": {
    "heading_collapsed": true,
    "hidden": true
   },
   "source": [
    "### Try larger sample size on cells near boundary of ROC curve"
   ]
  },
  {
   "cell_type": "code",
   "execution_count": 103,
   "metadata": {
    "ExecuteTime": {
     "end_time": "2019-12-04T01:59:35.924698Z",
     "start_time": "2019-12-04T01:57:54.217698Z"
    },
    "hidden": true
   },
   "outputs": [
    {
     "name": "stdout",
     "output_type": "stream",
     "text": [
      "Cell 160\n",
      "Cell 161\n",
      "Cell 162\n",
      "Cell 163\n",
      "Cell 164\n",
      "Cell 165\n",
      "Cell 166\n",
      "Cell 167\n",
      "Cell 168\n",
      "Cell 169\n",
      "Cell 170\n",
      "Cell 171\n",
      "Cell 172\n",
      "Cell 173\n",
      "Cell 174\n"
     ]
    }
   ],
   "source": [
    "n_sample = 10000 # Number of samples to calculate bootstrap confidence interval\n",
    "\n",
    "cell_order = np.argsort(avg_intensity_ndnf - avg_bg_ndnf - ci_ndnf)\n",
    "# Choose cells near boundary of ROC curve by looking at sorted signal - noise\n",
    "cell1 = 160\n",
    "cell2 = 175\n",
    "no_cells = cell2 - cell1\n",
    "pv_ndnf2 = np.zeros(no_cells)\n",
    "pv_vip2 = np.zeros(no_cells)\n",
    "pv_sst2 = np.zeros(no_cells)\n",
    "\n",
    "um_per_px = 0.19\n",
    "\n",
    "local_region = 50 # in um\n",
    "local_px = int(local_region/um_per_px/2)\n",
    "\n",
    "min_dist = 10 # in um\n",
    "min_dist_px = min_dist/um_per_px\n",
    "\n",
    "for cell in range(cell1, cell2):\n",
    "\n",
    "    \n",
    "    print('Cell {0}'.format(cell))\n",
    "        \n",
    "    cell_no = cell_order[cell] + 1\n",
    "    cell_dict = Cell.cell_data[cell_no]\n",
    "    z_planes = cell_dict['z_planes']\n",
    "    \n",
    "    bs_means = np.zeros([n_sample, 3, len(z_planes)])\n",
    "    p = 0\n",
    "    \n",
    "    for plane in z_planes:\n",
    "\n",
    "        center = centers[cell_order[cell]][plane]\n",
    "        n_verts = n_vert_all[cell_order[cell]][plane]\n",
    "\n",
    "        x1 = np.max([0, center[0] - local_px])\n",
    "        x2 = np.min([h, center[0] + local_px])\n",
    "        y1 = np.max([0, center[1] - local_px])\n",
    "        y2 = np.min([w, center[1] + local_px])\n",
    "\n",
    "        center_local = [local_px, local_px]\n",
    "\n",
    "        local_bg = bg_all[plane, x1:x2, y1:y2].astype(bool)\n",
    "\n",
    "        verts = np.array(np.where(local_bg))\n",
    "        dist_from_center = np.linalg.norm(verts - np.reshape(center_local, [2, 1]), \n",
    "                                          axis = 0)\n",
    "        verts = verts[:, dist_from_center > min_dist_px]\n",
    "        dist_from_center = dist_from_center[dist_from_center > min_dist_px]\n",
    "\n",
    "        order = np.argsort(dist_from_center)\n",
    "        # Take 4x the number of pixels in the mask of the cell, for local background - it will still be local but you'll\n",
    "        # get a better estimate of background by averaging over more pixels.\n",
    "        n_verts_bg = np.min([4*n_verts, len(order)])\n",
    "\n",
    "        verts = verts[:, order[0:n_verts_bg]]\n",
    "        samples = np.random.choice(np.linspace(0, n_verts_bg - 1, n_verts_bg).astype(int), \n",
    "                                   (n_verts, n_sample), replace = True)\n",
    "        x_bs = verts[0][samples]\n",
    "        y_bs = verts[1][samples]\n",
    "\n",
    "        local_im_ndnf = im_array_ndnf[plane, x1:x2, y1:y2]\n",
    "        local_im_sst = im_array_sst[plane, x1:x2, y1:y2]\n",
    "        local_im_vip = im_array_vip[plane, x1:x2, y1:y2]\n",
    "\n",
    "\n",
    "        local_bg_bs = np.zeros([x2 - x1, y2 - y1]).astype(bool)\n",
    "        for s in range(n_sample):\n",
    "            local_bg_bs[x_bs[:, s], y_bs[:, s]] = np.ones(n_verts)\n",
    "            bs_means[s, 0, p] = np.mean(local_im_ndnf[local_bg_bs])\n",
    "            bs_means[s, 1, p] = np.mean(local_im_vip[local_bg_bs])\n",
    "            bs_means[s, 2, p] = np.mean(local_im_sst[local_bg_bs])\n",
    "\n",
    "        p += 1\n",
    "\n",
    "        pv_ndnf2[cell - cell1] = np.sum(bs_means[:, 0, :] > avg_intensity_ndnf[cell_order[cell]] - avg_bg_ndnf[cell_order[cell]])/n_sample/len(z_planes)\n",
    "        pv_vip2[cell - cell1] = np.sum(bs_means[:, 1, :] > avg_intensity_vip[cell_order[cell]] - avg_bg_vip[cell_order[cell]])/n_sample/len(z_planes)\n",
    "        pv_sst2[cell - cell1] = np.sum(bs_means[:, 2, :] > avg_intensity_sst[cell_order[cell]] - avg_bg_sst[cell_order[cell]])/n_sample/len(z_planes)\n",
    "        \n",
    "\n",
    "# with open('F:/HCR/HCR_10.17/S2_p_values_ndnf_sst_vip.pkl', 'wb') as f:\n",
    "#     pkl.dump({'Ndnf': pv_ndnf, 'Sst': pv_sst, 'Vip':pv_vip}, f)"
   ]
  },
  {
   "cell_type": "code",
   "execution_count": 104,
   "metadata": {
    "ExecuteTime": {
     "end_time": "2019-12-04T01:59:40.943698Z",
     "start_time": "2019-12-04T01:59:40.905698Z"
    },
    "hidden": true,
    "run_control": {
     "marked": true
    }
   },
   "outputs": [
    {
     "data": {
      "text/plain": [
       "[<matplotlib.lines.Line2D at 0x1f3c2588>]"
      ]
     },
     "execution_count": 104,
     "metadata": {},
     "output_type": "execute_result"
    }
   ],
   "source": [
    "plt.figure()\n",
    "plt.plot(pv_ndnf2)"
   ]
  },
  {
   "cell_type": "code",
   "execution_count": null,
   "metadata": {
    "hidden": true
   },
   "outputs": [],
   "source": []
  }
 ],
 "metadata": {
  "celltoolbar": "Initialization Cell",
  "kernelspec": {
   "display_name": "Python 3",
   "language": "python",
   "name": "python3"
  },
  "language_info": {
   "codemirror_mode": {
    "name": "ipython",
    "version": 3
   },
   "file_extension": ".py",
   "mimetype": "text/x-python",
   "name": "python",
   "nbconvert_exporter": "python",
   "pygments_lexer": "ipython3",
   "version": "3.7.4"
  },
  "toc": {
   "base_numbering": 1,
   "nav_menu": {},
   "number_sections": true,
   "sideBar": true,
   "skip_h1_title": false,
   "title_cell": "Table of Contents",
   "title_sidebar": "Contents",
   "toc_cell": false,
   "toc_position": {},
   "toc_section_display": false,
   "toc_window_display": true
  },
  "varInspector": {
   "cols": {
    "lenName": 16,
    "lenType": 16,
    "lenVar": 40
   },
   "kernels_config": {
    "python": {
     "delete_cmd_postfix": "",
     "delete_cmd_prefix": "del ",
     "library": "var_list.py",
     "varRefreshCmd": "print(var_dic_list())"
    },
    "r": {
     "delete_cmd_postfix": ") ",
     "delete_cmd_prefix": "rm(",
     "library": "var_list.r",
     "varRefreshCmd": "cat(var_dic_list()) "
    }
   },
   "oldHeight": 557.333666,
   "position": {
    "height": "578.667px",
    "left": "1830.67px",
    "right": "20px",
    "top": "139px",
    "width": "277.667px"
   },
   "types_to_exclude": [
    "module",
    "function",
    "builtin_function_or_method",
    "instance",
    "_Feature"
   ],
   "varInspector_section_display": "block",
   "window_display": true
  }
 },
 "nbformat": 4,
 "nbformat_minor": 2
}
