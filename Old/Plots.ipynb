{
 "cells": [
  {
   "cell_type": "code",
   "execution_count": 1,
   "metadata": {
    "ExecuteTime": {
     "end_time": "2019-08-19T06:51:43.356258Z",
     "start_time": "2019-08-19T06:51:42.909658Z"
    }
   },
   "outputs": [],
   "source": [
    "import matplotlib.pyplot as plt"
   ]
  },
  {
   "cell_type": "code",
   "execution_count": 13,
   "metadata": {
    "ExecuteTime": {
     "end_time": "2019-08-19T07:00:20.541144Z",
     "start_time": "2019-08-19T07:00:20.411335Z"
    }
   },
   "outputs": [
    {
     "data": {
      "text/plain": [
       "([<matplotlib.axis.XTick at 0xbf3b0b8>,\n",
       "  <matplotlib.axis.XTick at 0xc25bc18>,\n",
       "  <matplotlib.axis.XTick at 0xc27e630>,\n",
       "  <matplotlib.axis.XTick at 0xbf366a0>],\n",
       " <a list of 4 Text xticklabel objects>)"
      ]
     },
     "execution_count": 13,
     "metadata": {},
     "output_type": "execute_result"
    }
   ],
   "source": [
    "%matplotlib qt\n",
    "# Experiment: 6/27 FISH, Egln3-Npy\n",
    "vec1 = {1: 3, 2:7, 3:7, 4:0}\n",
    "vec2 = {1:2, 2:8, 3:6, 4:0}\n",
    "plt.figure()\n",
    "plt.grid(linestyle = '--', linewidth = 0.5)\n",
    "plt.bar([1, 2, 3, 4], [3, 7, 7, 0], width = 0.6, color = ['orange', 'g', 'r', 'b'])\n",
    "plt.xticks([1, 2, 3, 4])\n"
   ]
  },
  {
   "cell_type": "code",
   "execution_count": 14,
   "metadata": {
    "ExecuteTime": {
     "end_time": "2019-08-19T07:02:15.964467Z",
     "start_time": "2019-08-19T07:02:15.931464Z"
    }
   },
   "outputs": [
    {
     "data": {
      "text/plain": [
       "([<matplotlib.axis.XTick at 0xc25fe10>,\n",
       "  <matplotlib.axis.XTick at 0xb64e198>,\n",
       "  <matplotlib.axis.XTick at 0xb4e9dd8>,\n",
       "  <matplotlib.axis.XTick at 0xea264a8>],\n",
       " <a list of 4 Text xticklabel objects>)"
      ]
     },
     "execution_count": 14,
     "metadata": {},
     "output_type": "execute_result"
    }
   ],
   "source": [
    "plt.figure()\n",
    "plt.grid(linestyle = '--', linewidth = 0.5)\n",
    "plt.bar([1, 2, 3, 4], [2, 8, 6, 0], width = 0.6, color = ['orange', 'g', 'r', 'b'])\n",
    "plt.xticks([1, 2, 3, 4])\n"
   ]
  },
  {
   "cell_type": "code",
   "execution_count": 15,
   "metadata": {
    "ExecuteTime": {
     "end_time": "2019-08-19T07:09:26.066835Z",
     "start_time": "2019-08-19T07:09:26.019830Z"
    }
   },
   "outputs": [
    {
     "data": {
      "text/plain": [
       "([<matplotlib.axis.XTick at 0xc27ceb8>,\n",
       "  <matplotlib.axis.XTick at 0xc27c940>,\n",
       "  <matplotlib.axis.XTick at 0xb643dd8>,\n",
       "  <matplotlib.axis.XTick at 0xc2f67f0>],\n",
       " <a list of 4 Text xticklabel objects>)"
      ]
     },
     "execution_count": 15,
     "metadata": {},
     "output_type": "execute_result"
    }
   ],
   "source": [
    "# Experiment: 6/16 FISH, Tac2-Npy2r\n",
    "vec1 = {1: 0, 2:10, 3:7, 4:5}\n",
    "vec2 = {1:1, 2:10, 3:6, 4:5}\n",
    "plt.figure()\n",
    "plt.grid(linestyle = '--', linewidth = 0.5)\n",
    "plt.bar([1, 2, 3, 4], [0, 10, 7, 5], width = 0.6, color = ['orange', 'r', 'g', 'b'])\n",
    "plt.xticks([1, 2, 3, 4])"
   ]
  },
  {
   "cell_type": "code",
   "execution_count": 16,
   "metadata": {
    "ExecuteTime": {
     "end_time": "2019-08-19T07:10:27.003300Z",
     "start_time": "2019-08-19T07:10:26.961296Z"
    }
   },
   "outputs": [
    {
     "data": {
      "text/plain": [
       "([<matplotlib.axis.XTick at 0xb636b38>,\n",
       "  <matplotlib.axis.XTick at 0xc2b4320>,\n",
       "  <matplotlib.axis.XTick at 0xd514358>,\n",
       "  <matplotlib.axis.XTick at 0xd523828>],\n",
       " <a list of 4 Text xticklabel objects>)"
      ]
     },
     "execution_count": 16,
     "metadata": {},
     "output_type": "execute_result"
    }
   ],
   "source": [
    "plt.figure()\n",
    "plt.grid(linestyle = '--', linewidth = 0.5)\n",
    "plt.bar([1, 2, 3, 4], [1, 10, 6, 5], width = 0.6, color = ['orange', 'r', 'g', 'b'])\n",
    "plt.xticks([1, 2, 3, 4])"
   ]
  },
  {
   "cell_type": "code",
   "execution_count": null,
   "metadata": {},
   "outputs": [],
   "source": []
  }
 ],
 "metadata": {
  "kernelspec": {
   "display_name": "Python 3",
   "language": "python",
   "name": "python3"
  },
  "language_info": {
   "codemirror_mode": {
    "name": "ipython",
    "version": 3
   },
   "file_extension": ".py",
   "mimetype": "text/x-python",
   "name": "python",
   "nbconvert_exporter": "python",
   "pygments_lexer": "ipython3",
   "version": "3.5.4"
  },
  "toc": {
   "nav_menu": {},
   "number_sections": true,
   "sideBar": true,
   "skip_h1_title": false,
   "toc_cell": false,
   "toc_position": {},
   "toc_section_display": "block",
   "toc_window_display": true
  },
  "varInspector": {
   "cols": {
    "lenName": 16,
    "lenType": 16,
    "lenVar": 40
   },
   "kernels_config": {
    "python": {
     "delete_cmd_postfix": "",
     "delete_cmd_prefix": "del ",
     "library": "var_list.py",
     "varRefreshCmd": "print(var_dic_list())"
    },
    "r": {
     "delete_cmd_postfix": ") ",
     "delete_cmd_prefix": "rm(",
     "library": "var_list.r",
     "varRefreshCmd": "cat(var_dic_list()) "
    }
   },
   "types_to_exclude": [
    "module",
    "function",
    "builtin_function_or_method",
    "instance",
    "_Feature"
   ],
   "window_display": true
  }
 },
 "nbformat": 4,
 "nbformat_minor": 2
}
