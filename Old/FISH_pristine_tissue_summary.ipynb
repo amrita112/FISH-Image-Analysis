{
 "cells": [
  {
   "cell_type": "markdown",
   "metadata": {},
   "source": [
    "# Imports"
   ]
  },
  {
   "cell_type": "code",
   "execution_count": 1,
   "metadata": {
    "ExecuteTime": {
     "end_time": "2019-11-17T19:25:36.547389Z",
     "start_time": "2019-11-17T19:25:36.033389Z"
    }
   },
   "outputs": [],
   "source": [
    "from PIL import Image\n",
    "import numpy as np\n",
    "import pickle as pkl\n",
    "import matplotlib.path as mpltpath\n",
    "import matplotlib.pyplot as plt\n",
    "import time"
   ]
  },
  {
   "cell_type": "markdown",
   "metadata": {},
   "source": [
    "# Load data"
   ]
  },
  {
   "cell_type": "code",
   "execution_count": 2,
   "metadata": {
    "ExecuteTime": {
     "end_time": "2019-11-17T19:25:37.593389Z",
     "start_time": "2019-11-17T19:25:37.568389Z"
    }
   },
   "outputs": [],
   "source": [
    "n_sections = 5\n",
    "section_names = ['9.2_S1', # Ndnf-Npy-Egln3\n",
    "                 '9.13_S1', # Ndnf-Npy-Egln3\n",
    "                 '9.13_S2', # Ndnf-Npy-Egln3\n",
    "                 '9.2_S5', # Vip-Tac2-Npy2r \n",
    "                 '9.2_S6' #Vip-Tac2-Npy2r\n",
    "                ]\n",
    "section_folders = ['Z:\\HCR\\9.2_FISH', 'Z:\\HCR\\HCR_9.13', 'Z:\\HCR\\HCR_9.13', 'Z:\\HCR\\9.2_FISH', 'Z:\\HCR\\9.2_FISH']\n",
    "section_files = ['S1_data.pkl', 'S1_data.pkl', 'S2_data.pkl', 'S5_data.pkl', 'S6_data.pkl']\n",
    "image_folders = ['Z:\\HCR\\9.2_FISH\\S1_16bit\\S1_dapi_546_488_647',\n",
    "                 'Z:\\HCR\\HCR_9.13\\S1_546_647_dapi_514_z-stack_tiles_2019_09_16__22_04_08-Rotate 2D-01',\n",
    "                 'Z:\\HCR\\HCR_9.13\\S2_546_647_dapi_514_z-stack_tiles_2019_09_17__00_55_58',\n",
    "                 'Z:\\HCR\\9.2_FISH\\S5_dapi_546_488_647',\n",
    "                 'Z:\\HCR\\9.2_FISH\\S6_488_647_dapi_546_z-stack_tiles_2019_09_14__00_22_08']\n",
    "image_files = ['S1_dapi_546_488_647_s2z',\n",
    "              'S1_546_647_dapi_514_z-stack_tiles_2019_09_16__22_04_08-Rotate 2D-01_z',\n",
    "              'S2_546_647_dapi_514_z-stack_tiles_2019_09_17__00_55_58_z',\n",
    "              'S5_dapi_546_488_647_z',\n",
    "              'S6_488_647_dapi_546_z-stack_tiles_2019_09_14__00_22_08_z']\n",
    "first_plane = [1, 1, 1, 16, 1]\n",
    "last_plane = [29, 19, 19, 33, 30]\n",
    "seg_channel = [0, 0, 0, 3, 1]\n",
    "gene1 = ['Npy', 'Npy', 'Npy', 'Tac2', 'Tac2']\n",
    "gene2 = ['Egln3', 'Egln3', 'Egln3', 'Npy2r', 'Npy2r']\n",
    "gene1_channel = [2, 3, 3, 1, 0]\n",
    "gene2_channel = [3, 1, 1, 2, 3]\n",
    "plane_nos = {s: range(first_plane[s], last_plane[s]) for s in range(n_sections)}\n",
    "\n"
   ]
  },
  {
   "cell_type": "code",
   "execution_count": 3,
   "metadata": {
    "ExecuteTime": {
     "end_time": "2019-11-17T19:25:38.367389Z",
     "start_time": "2019-11-17T19:25:38.319389Z"
    }
   },
   "outputs": [],
   "source": [
    "cell_masks = {}\n",
    "n_cells = np.zeros(n_sections).astype(int)\n",
    "for section in range(n_sections):\n",
    "    with open('{0}/{1}'.format(section_folders[section], section_files[section]), 'rb') as f:\n",
    "        cell_masks[section] = pkl.load(f)\n",
    "        n_cells[section] = len(cell_masks[section].keys())"
   ]
  },
  {
   "cell_type": "code",
   "execution_count": 4,
   "metadata": {
    "ExecuteTime": {
     "end_time": "2019-11-17T19:25:39.282389Z",
     "start_time": "2019-11-17T19:25:39.276389Z"
    }
   },
   "outputs": [
    {
     "data": {
      "text/plain": [
       "200"
      ]
     },
     "execution_count": 4,
     "metadata": {},
     "output_type": "execute_result"
    }
   ],
   "source": [
    "len(cell_masks[3].keys())"
   ]
  },
  {
   "cell_type": "code",
   "execution_count": 5,
   "metadata": {
    "ExecuteTime": {
     "end_time": "2019-11-17T19:25:40.306389Z",
     "start_time": "2019-11-17T19:25:40.301389Z"
    }
   },
   "outputs": [],
   "source": [
    "indices = list(cell_masks[3].keys())\n",
    "if not np.max(indices) == len(indices):\n",
    "    print('Re-numbering cells to be consecutive')\n",
    "    cell_data_temp = {}\n",
    "    for i in range(len(indices)):\n",
    "        cell_data_temp[i + 1] = cell_masks[3][indices[i]]\n",
    "        cell_data_temp[i + 1]['cell_id'] = i + 1\n",
    "    cell_masks[3] = cell_data_temp "
   ]
  },
  {
   "cell_type": "markdown",
   "metadata": {
    "heading_collapsed": true
   },
   "source": [
    "# Calculate intensities"
   ]
  },
  {
   "cell_type": "code",
   "execution_count": 6,
   "metadata": {
    "ExecuteTime": {
     "end_time": "2019-11-17T19:25:41.303389Z",
     "start_time": "2019-11-17T19:25:41.299389Z"
    },
    "hidden": true
   },
   "outputs": [],
   "source": [
    "gene1_intensity = {s: np.zeros(n_cells[s]) for s in range(n_sections)}\n",
    "gene2_intensity = {s: np.zeros(n_cells[s]) for s in range(n_sections)}"
   ]
  },
  {
   "cell_type": "code",
   "execution_count": 10,
   "metadata": {
    "ExecuteTime": {
     "end_time": "2019-11-17T19:30:34.596389Z",
     "start_time": "2019-11-17T19:30:34.561389Z"
    },
    "hidden": true,
    "scrolled": true
   },
   "outputs": [
    {
     "name": "stdout",
     "output_type": "stream",
     "text": [
      "Section 9.2_S1\n",
      "Section 9.13_S1\n",
      "Section 9.13_S2\n",
      "Section 9.2_S5\n",
      "Section 9.2_S6\n"
     ]
    }
   ],
   "source": [
    "start = time.time()\n",
    "for s in range(0, n_sections):\n",
    "    print('Section {0}'.format(section_names[s]))\n",
    "    try:\n",
    "        # Load data if previously calculated\n",
    "        with open('{0}/{1}_{2}_intensities'.format(section_folders[s], section_names[s], gene1[s]), 'rb') as f:\n",
    "                gene1_intensity[s] = pkl.load(f)\n",
    "        with open('{0}/{1}_{2}_intensities'.format(section_folders[s], section_names[s], gene2[s]), 'rb') as f:\n",
    "            gene2_intensity[s] = pkl.load(f)\n",
    "    except:\n",
    "        print('No data found, intensities need to be calculated')\n",
    "    \n",
    "        img = Image.open('{0}\\{1}{2}c{3}_ORG.tif'.format(image_folders[s], image_files[s], str(plane_nos[s][0]).zfill(2), \n",
    "                                                         seg_channel[s] + 1))\n",
    "        h = img.height\n",
    "        w = img.width\n",
    "        print('Size of each image in pixels: {0} X {1}'.format(h, w))\n",
    "        print('Creating coordinate array')\n",
    "        xv = range(w)\n",
    "        yv = range(h)\n",
    "        coord_array = np.array(np.meshgrid(xv, yv))\n",
    "\n",
    "        points = np.zeros([h*w, 2])\n",
    "        p = 0\n",
    "        for i in range(h):\n",
    "            for j in range(w):\n",
    "                points[p, 1] = coord_array[0, i, j]\n",
    "                points[p, 0] = coord_array[1, i, j]\n",
    "                p += 1\n",
    "\n",
    "        print('Loading images for gene 1')\n",
    "        n = len(plane_nos[s])\n",
    "        im_array = np.zeros([n, h, w])\n",
    "        for i in range(n):\n",
    "            p = plane_nos[s][i]\n",
    "            img = Image.open('{0}\\{1}{2}c{3}_ORG.tif'.format(image_folders[s], image_files[s], str(p).zfill(2), \n",
    "                                                             gene1_channel[s] + 1))\n",
    "            try:\n",
    "                im_array[i, :, :] = np.array(img)\n",
    "            except:\n",
    "                print('Plane {0} could not be loaded'.format(p))\n",
    "                print('Size of plane {0} in pixels: {0} X {1}'.format(img.height, img.width))\n",
    "                im_array = np.delete(im_array, i, axis = 0)\n",
    "                plane_nos.remove(p)\n",
    "                i -= 1\n",
    "                n = len(plane_nos)\n",
    "                continue\n",
    "\n",
    "        print('Loading images for gene 2')\n",
    "        im_array2 = np.zeros([n, h, w])\n",
    "        for i in range(n):\n",
    "            p = plane_nos[s][i]\n",
    "            img = Image.open('{0}\\{1}{2}c{3}_ORG.tif'.format(image_folders[s], image_files[s], str(p).zfill(2), \n",
    "                                                             gene2_channel[s] + 1))\n",
    "            try:\n",
    "                im_array2[i, :, :] = np.array(img)\n",
    "            except:\n",
    "                print('Plane {0} could not be loaded'.format(p))\n",
    "                print('{0}\\{1}{2}c{3}_ORG.tif'.format(image_folders[s], image_files[s], str(p).zfill(2), \n",
    "                                                             gene2_channel[s] + 1))\n",
    "                print('Size of plane {0} in pixels: {1} X {2}'.format(p, img.height, img.width))\n",
    "                im_array = np.delete(im_array, i, axis = 0)\n",
    "                plane_nos.remove(p)\n",
    "                i -= 1\n",
    "                n = len(plane_nos)\n",
    "                continue\n",
    "\n",
    "        print('Calculating intensities')\n",
    "        for cell in range(n_cells[s]):\n",
    "\n",
    "            if np.mod(cell, 50) == 0:\n",
    "                print('Cell {0}'.format(cell))\n",
    "                print('Elapsed time = {0}'.format(time.time() - start))\n",
    "            cell_no = cell + 1\n",
    "            cell_dict = cell_masks[s][cell_no]\n",
    "            masks = cell_dict['masks']\n",
    "            z_planes = cell_dict['z_planes']\n",
    "\n",
    "            intensity_gene1 = np.zeros(cell_dict['no_planes'])\n",
    "            intensity_gene2 = np.zeros(cell_dict['no_planes'])\n",
    "\n",
    "            i = 0\n",
    "            for plane in z_planes:\n",
    "\n",
    "                vertices = masks[plane]\n",
    "                path = mpltpath.Path(vertices)\n",
    "                mask = path.contains_points(points)\n",
    "                mask = np.reshape(mask, [h, w])\n",
    "\n",
    "                intensity_gene1[i] = np.mean(im_array[plane, mask])\n",
    "                intensity_gene2[i] = np.mean(im_array2[plane, mask])\n",
    "                i += 1\n",
    "\n",
    "            gene1_intensity[s][cell] = np.mean(intensity_gene1)\n",
    "            gene2_intensity[s][cell] = np.mean(intensity_gene2)\n",
    "\n",
    "        with open('{0}/{1}_{2}_intensities'.format(section_folders[s], section_names[s], gene1[s]), 'wb') as f:\n",
    "            pkl.dump(gene1_intensity[s], f)\n",
    "\n",
    "        with open('{0}/{1}_{2}_intensities'.format(section_folders[s], section_names[s], gene2[s]), 'wb') as f:\n",
    "            pkl.dump(gene2_intensity[s], f)\n"
   ]
  },
  {
   "cell_type": "code",
   "execution_count": null,
   "metadata": {
    "ExecuteTime": {
     "end_time": "2019-11-17T19:25:48.597389Z",
     "start_time": "2019-11-17T19:25:42.042Z"
    },
    "hidden": true
   },
   "outputs": [],
   "source": [
    "s = 1\n",
    "with open('{0}/{1}_{2}_intensities'.format(section_folders[s], section_names[s], gene1[s]), 'wb') as f:\n",
    "        pkl.dump(gene1_intensity[s], f)\n",
    "\n",
    "with open('{0}/{1}_{2}_intensities'.format(section_folders[s], section_names[s], gene2[s]), 'wb') as f:\n",
    "    pkl.dump(gene2_intensity[s], f)"
   ]
  },
  {
   "cell_type": "markdown",
   "metadata": {},
   "source": [
    "# Scatter plots"
   ]
  },
  {
   "cell_type": "code",
   "execution_count": 12,
   "metadata": {
    "ExecuteTime": {
     "end_time": "2019-11-17T19:31:55.234389Z",
     "start_time": "2019-11-17T19:31:55.231389Z"
    }
   },
   "outputs": [],
   "source": [
    "gene1_thresh = [0.29309731117890503, 0.29309731117890503, 0.29309731117890503, 0.34034559717672858, 0.34034559717672858]\n",
    "gene2_thresh = [0.25769369405765008, 0.25769369405765008, 0.25769369405765008, 0.21459618544027878, 0.21459618544027878]"
   ]
  },
  {
   "cell_type": "code",
   "execution_count": 49,
   "metadata": {
    "ExecuteTime": {
     "end_time": "2019-10-11T20:32:46.302265Z",
     "start_time": "2019-10-11T20:32:46.143265Z"
    }
   },
   "outputs": [],
   "source": [
    "%matplotlib qt"
   ]
  },
  {
   "cell_type": "code",
   "execution_count": 13,
   "metadata": {
    "ExecuteTime": {
     "end_time": "2019-11-17T19:32:00.346389Z",
     "start_time": "2019-11-17T19:31:59.439389Z"
    }
   },
   "outputs": [
    {
     "name": "stderr",
     "output_type": "stream",
     "text": [
      "C:\\Users\\singha\\AppData\\Local\\Continuum\\anaconda3\\envs\\py365\\lib\\site-packages\\ipykernel_launcher.py:15: RuntimeWarning: invalid value encountered in less\n",
      "  from ipykernel import kernelapp as app\n",
      "C:\\Users\\singha\\AppData\\Local\\Continuum\\anaconda3\\envs\\py365\\lib\\site-packages\\ipykernel_launcher.py:16: RuntimeWarning: invalid value encountered in less\n",
      "  app.launch_new_instance()\n",
      "C:\\Users\\singha\\AppData\\Local\\Continuum\\anaconda3\\envs\\py365\\lib\\site-packages\\ipykernel_launcher.py:19: RuntimeWarning: invalid value encountered in less\n",
      "C:\\Users\\singha\\AppData\\Local\\Continuum\\anaconda3\\envs\\py365\\lib\\site-packages\\ipykernel_launcher.py:20: RuntimeWarning: invalid value encountered in greater\n",
      "C:\\Users\\singha\\AppData\\Local\\Continuum\\anaconda3\\envs\\py365\\lib\\site-packages\\ipykernel_launcher.py:23: RuntimeWarning: invalid value encountered in greater\n",
      "C:\\Users\\singha\\AppData\\Local\\Continuum\\anaconda3\\envs\\py365\\lib\\site-packages\\ipykernel_launcher.py:24: RuntimeWarning: invalid value encountered in less\n",
      "C:\\Users\\singha\\AppData\\Local\\Continuum\\anaconda3\\envs\\py365\\lib\\site-packages\\ipykernel_launcher.py:27: RuntimeWarning: invalid value encountered in greater\n",
      "C:\\Users\\singha\\AppData\\Local\\Continuum\\anaconda3\\envs\\py365\\lib\\site-packages\\ipykernel_launcher.py:28: RuntimeWarning: invalid value encountered in greater\n"
     ]
    },
    {
     "data": {
      "image/png": "[encoded data removed]",
      "text/plain": [
       "<Figure size 432x288 with 1 Axes>"
      ]
     },
     "metadata": {
      "needs_background": "light"
     },
     "output_type": "display_data"
    },
    {
     "data": {
      "image/png": "[encoded data removed]",
      "text/plain": [
       "<Figure size 432x288 with 1 Axes>"
      ]
     },
     "metadata": {
      "needs_background": "light"
     },
     "output_type": "display_data"
    },
    {
     "data": {
      "image/png": "[encoded data removed]",
      "text/plain": [
       "<Figure size 432x288 with 1 Axes>"
      ]
     },
     "metadata": {
      "needs_background": "light"
     },
     "output_type": "display_data"
    },
    {
     "data": {
      "image/png": "[encoded data removed]",
      "text/plain": [
       "<Figure size 432x288 with 1 Axes>"
      ]
     },
     "metadata": {
      "needs_background": "light"
     },
     "output_type": "display_data"
    },
    {
     "data": {
      "image/png": "[encoded data removed]",
      "text/plain": [
       "<Figure size 432x288 with 1 Axes>"
      ]
     },
     "metadata": {
      "needs_background": "light"
     },
     "output_type": "display_data"
    }
   ],
   "source": [
    "for s in range(n_sections):\n",
    "    gene1_level = gene1_intensity[s] \n",
    "    gene1_level = gene1_level - np.min(gene1_level)\n",
    "    gene2_level = gene2_intensity[s]\n",
    "    gene2_level = gene2_level - np.min(gene2_level)\n",
    "    plt.figure()\n",
    "    plt.scatter(gene1_level/np.max(gene1_level), gene2_level/np.max(gene2_level), alpha = 0.5, color = 'k')\n",
    "    plt.xlabel('{0} expression'.format(gene1[s]))\n",
    "    plt.ylabel('{0} expression'.format(gene2[s]))\n",
    "    t1 = gene1_thresh[s]\n",
    "    t2 = gene2_thresh[s]\n",
    "    plt.plot(np.ones(2)*gene1_thresh[s], np.array(range(0, 2)), '--', color = 'r')\n",
    "    plt.plot(np.array(range(0, 2)), np.ones(2)*gene2_thresh[s], '--',  color = 'r')\n",
    "    \n",
    "    q1 = np.sum(np.logical_and(gene1_level/np.max(gene1_level) < gene1_thresh[s], \n",
    "                        gene2_level/np.max(gene2_level) < gene2_thresh[s]))\n",
    "    plt.text(0, 0, '{0} %'.format(np.round(q1/n_cells[s]*100, decimals = 0)), fontsize = 12)\n",
    "    \n",
    "    q2 = np.sum(np.logical_and(gene1_level/np.max(gene1_level) < gene1_thresh[s], \n",
    "                        gene2_level/np.max(gene2_level) > gene2_thresh[s]))\n",
    "    plt.text(0, 1, '{0} %'.format(np.round(q2/n_cells[s]*100, decimals = 0)), fontsize = 12)\n",
    "    \n",
    "    q3 = np.sum(np.logical_and(gene1_level/np.max(gene1_level) > gene1_thresh[s], \n",
    "                        gene2_level/np.max(gene2_level) < gene2_thresh[s]))\n",
    "    plt.text(0.8, 0, '{0} %'.format(np.round(q3/n_cells[s]*100, decimals = 0)), fontsize = 12)\n",
    "    \n",
    "    q4 = np.sum(np.logical_and(gene1_level/np.max(gene1_level) > gene1_thresh[s], \n",
    "                        gene2_level/np.max(gene2_level) > gene2_thresh[s]))\n",
    "    plt.text(0.8, 1, '{0} %'.format(np.round(q4/n_cells[s]*100, decimals = 0)), fontsize = 12)\n",
    "    \n",
    "    plt.title('Section {0}'.format(section_names[s]))\n",
    "    "
   ]
  },
  {
   "cell_type": "code",
   "execution_count": 75,
   "metadata": {
    "ExecuteTime": {
     "end_time": "2019-10-11T21:00:29.010265Z",
     "start_time": "2019-10-11T21:00:29.004265Z"
    }
   },
   "outputs": [],
   "source": [
    "gene1_intensity[1] = gene1_intensity[1][:169]"
   ]
  },
  {
   "cell_type": "code",
   "execution_count": 76,
   "metadata": {
    "ExecuteTime": {
     "end_time": "2019-10-11T21:00:39.409265Z",
     "start_time": "2019-10-11T21:00:39.403265Z"
    }
   },
   "outputs": [],
   "source": [
    "gene2_intensity[1] = gene2_intensity[1][:169]"
   ]
  },
  {
   "cell_type": "code",
   "execution_count": 69,
   "metadata": {
    "ExecuteTime": {
     "end_time": "2019-10-11T20:49:30.578265Z",
     "start_time": "2019-10-11T20:49:30.573265Z"
    }
   },
   "outputs": [
    {
     "data": {
      "text/plain": [
       "598"
      ]
     },
     "execution_count": 69,
     "metadata": {},
     "output_type": "execute_result"
    }
   ],
   "source": [
    "203 + 195 + 200"
   ]
  },
  {
   "cell_type": "code",
   "execution_count": 66,
   "metadata": {
    "ExecuteTime": {
     "end_time": "2019-10-11T20:41:48.637265Z",
     "start_time": "2019-10-11T20:41:48.634265Z"
    }
   },
   "outputs": [],
   "source": [
    "plt.close('all')"
   ]
  },
  {
   "cell_type": "code",
   "execution_count": 64,
   "metadata": {
    "ExecuteTime": {
     "end_time": "2019-10-11T20:41:42.239265Z",
     "start_time": "2019-10-11T20:41:42.233265Z"
    }
   },
   "outputs": [],
   "source": [
    "gene2_intensity[3] = gene2_intensity[3][:-1]"
   ]
  },
  {
   "cell_type": "code",
   "execution_count": 65,
   "metadata": {
    "ExecuteTime": {
     "end_time": "2019-10-11T20:41:43.505265Z",
     "start_time": "2019-10-11T20:41:43.502265Z"
    }
   },
   "outputs": [
    {
     "data": {
      "text/plain": [
       "(199,)"
      ]
     },
     "execution_count": 65,
     "metadata": {},
     "output_type": "execute_result"
    }
   ],
   "source": [
    "gene2_intensity[3].shape"
   ]
  },
  {
   "cell_type": "code",
   "execution_count": 63,
   "metadata": {
    "ExecuteTime": {
     "end_time": "2019-10-11T20:41:38.914265Z",
     "start_time": "2019-10-11T20:41:38.905265Z"
    }
   },
   "outputs": [
    {
     "data": {
      "text/plain": [
       "(199,)"
      ]
     },
     "execution_count": 63,
     "metadata": {},
     "output_type": "execute_result"
    }
   ],
   "source": [
    "gene1_intensity[3].shape"
   ]
  },
  {
   "cell_type": "code",
   "execution_count": 50,
   "metadata": {
    "ExecuteTime": {
     "end_time": "2019-10-11T20:33:04.501265Z",
     "start_time": "2019-10-11T20:33:04.492265Z"
    }
   },
   "outputs": [
    {
     "data": {
      "text/plain": [
       "array([0, 1])"
      ]
     },
     "execution_count": 50,
     "metadata": {},
     "output_type": "execute_result"
    }
   ],
   "source": [
    "np.array(range(0, 2))"
   ]
  },
  {
   "cell_type": "code",
   "execution_count": 51,
   "metadata": {
    "ExecuteTime": {
     "end_time": "2019-10-11T20:33:09.373265Z",
     "start_time": "2019-10-11T20:33:09.367265Z"
    }
   },
   "outputs": [
    {
     "data": {
      "text/plain": [
       "array([ 1.,  1.])"
      ]
     },
     "execution_count": 51,
     "metadata": {},
     "output_type": "execute_result"
    }
   ],
   "source": [
    "np.ones(2)"
   ]
  },
  {
   "cell_type": "code",
   "execution_count": null,
   "metadata": {},
   "outputs": [],
   "source": [
    "gene1_thes"
   ]
  }
 ],
 "metadata": {
  "kernelspec": {
   "display_name": "Python 3",
   "language": "python",
   "name": "python3"
  },
  "language_info": {
   "codemirror_mode": {
    "name": "ipython",
    "version": 3
   },
   "file_extension": ".py",
   "mimetype": "text/x-python",
   "name": "python",
   "nbconvert_exporter": "python",
   "pygments_lexer": "ipython3",
   "version": "3.6.5"
  },
  "toc": {
   "nav_menu": {},
   "number_sections": true,
   "sideBar": true,
   "skip_h1_title": false,
   "toc_cell": false,
   "toc_position": {},
   "toc_section_display": "block",
   "toc_window_display": true
  },
  "varInspector": {
   "cols": {
    "lenName": 16,
    "lenType": 16,
    "lenVar": 40
   },
   "kernels_config": {
    "python": {
     "delete_cmd_postfix": "",
     "delete_cmd_prefix": "del ",
     "library": "var_list.py",
     "varRefreshCmd": "print(var_dic_list())"
    },
    "r": {
     "delete_cmd_postfix": ") ",
     "delete_cmd_prefix": "rm(",
     "library": "var_list.r",
     "varRefreshCmd": "cat(var_dic_list()) "
    }
   },
   "types_to_exclude": [
    "module",
    "function",
    "builtin_function_or_method",
    "instance",
    "_Feature"
   ],
   "window_display": true
  }
 },
 "nbformat": 4,
 "nbformat_minor": 2
}
