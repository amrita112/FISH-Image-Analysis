{
 "cells": [
  {
   "cell_type": "markdown",
   "metadata": {},
   "source": [
    "# Setup"
   ]
  },
  {
   "cell_type": "code",
   "execution_count": 86,
   "metadata": {
    "ExecuteTime": {
     "end_time": "2019-11-26T13:07:59.047698Z",
     "start_time": "2019-11-26T13:07:59.038698Z"
    }
   },
   "outputs": [],
   "source": [
    "from IPython.display import display\n",
    "from PIL import Image, ImageDraw\n",
    "import numpy as np\n",
    "import pickle as pkl\n",
    "import matplotlib.path as mpltpath\n",
    "import matplotlib.pyplot as plt"
   ]
  },
  {
   "cell_type": "markdown",
   "metadata": {
    "heading_collapsed": true
   },
   "source": [
    "# Load data"
   ]
  },
  {
   "cell_type": "code",
   "execution_count": 172,
   "metadata": {
    "ExecuteTime": {
     "end_time": "2019-11-28T19:52:40.004698Z",
     "start_time": "2019-11-28T19:52:39.999698Z"
    },
    "hidden": true
   },
   "outputs": [],
   "source": [
    "n_sections = 4\n",
    "signal = {}\n",
    "bg = {}\n",
    "ci = {}\n",
    "depth = {}\n",
    "pv = {}"
   ]
  },
  {
   "cell_type": "code",
   "execution_count": 173,
   "metadata": {
    "ExecuteTime": {
     "end_time": "2019-11-28T19:52:40.374698Z",
     "start_time": "2019-11-28T19:52:40.368698Z"
    },
    "hidden": true
   },
   "outputs": [],
   "source": [
    "# Signal\n",
    "with open('F:/HCR/HCR_10.17/S1_data_ndnf_sst_vip.pkl', 'rb') as f:\n",
    "    signal[1] = pkl.load(f)\n",
    "with open('F:/HCR/HCR_10.17/S2_data_ndnf_sst_vip.pkl', 'rb') as f:\n",
    "    signal[2] = pkl.load(f)\n",
    "with open('F:/HCR/HCR_10.17/S3_data_ndnf_sst_vip.pkl', 'rb') as f:\n",
    "    signal[3] = pkl.load(f)\n",
    "with open('F:/HCR/HCR_10.17/TW_data_ndnf_sst_vip.pkl', 'rb') as f:\n",
    "    signal[4] = pkl.load(f)"
   ]
  },
  {
   "cell_type": "code",
   "execution_count": 174,
   "metadata": {
    "ExecuteTime": {
     "end_time": "2019-11-28T19:52:40.703698Z",
     "start_time": "2019-11-28T19:52:40.697698Z"
    },
    "hidden": true
   },
   "outputs": [],
   "source": [
    "# Background\n",
    "with open('F:/HCR/HCR_10.17/S1_background_ndnf_sst_vip.pkl', 'rb') as f:\n",
    "    bg[1] = pkl.load(f)\n",
    "with open('F:/HCR/HCR_10.17/S2_background_ndnf_sst_vip.pkl', 'rb') as f:\n",
    "    bg[2] = pkl.load(f)\n",
    "with open('F:/HCR/HCR_10.17/S3_background_ndnf_sst_vip.pkl', 'rb') as f:\n",
    "    bg[3] = pkl.load(f)\n",
    "with open('F:/HCR/HCR_10.17/TW_background_ndnf_sst_vip.pkl', 'rb') as f:\n",
    "    bg[4] = pkl.load(f)"
   ]
  },
  {
   "cell_type": "code",
   "execution_count": 205,
   "metadata": {
    "ExecuteTime": {
     "end_time": "2019-12-03T21:24:31.709698Z",
     "start_time": "2019-12-03T21:24:31.704698Z"
    },
    "hidden": true
   },
   "outputs": [],
   "source": [
    "# 95% confidence interval from background\n",
    "with open('F:/HCR/HCR_10.17/S1_confidence_intervals_ndnf_sst_vip.pkl', 'rb') as f:\n",
    "    ci[1] = pkl.load(f)\n",
    "with open('F:/HCR/HCR_10.17/S2_confidence_intervals_ndnf_sst_vip.pkl', 'rb') as f:\n",
    "    ci[2] = pkl.load(f)"
   ]
  },
  {
   "cell_type": "code",
   "execution_count": 206,
   "metadata": {
    "ExecuteTime": {
     "end_time": "2019-12-03T21:24:32.276698Z",
     "start_time": "2019-12-03T21:24:32.271698Z"
    },
    "hidden": true
   },
   "outputs": [],
   "source": [
    "# P-value from bootstrapping background\n",
    "with open('F:/HCR/HCR_10.17/S1_p_values_ndnf_sst_vip.pkl', 'rb') as f:\n",
    "    pv[1] = pkl.load(f)\n",
    "with open('F:/HCR/HCR_10.17/S2_p_values_ndnf_sst_vip.pkl', 'rb') as f:\n",
    "    pv[2] = pkl.load(f)"
   ]
  },
  {
   "cell_type": "code",
   "execution_count": 177,
   "metadata": {
    "ExecuteTime": {
     "end_time": "2019-11-28T19:52:42.087698Z",
     "start_time": "2019-11-28T19:52:42.081698Z"
    },
    "hidden": true
   },
   "outputs": [],
   "source": [
    "# Depths\n",
    "with open('F:/HCR/HCR_10.17/S1_depths.pkl', 'rb') as f:\n",
    "    depth[1] = pkl.load(f)\n",
    "with open('F:/HCR/HCR_10.17/S2_depths.pkl', 'rb') as f:\n",
    "    depth[2] = pkl.load(f)\n",
    "with open('F:/HCR/HCR_10.17/S3_depths.pkl', 'rb') as f:\n",
    "    depth[3] = pkl.load(f)\n",
    "with open('F:/HCR/HCR_10.17/TW_depths.pkl', 'rb') as f:\n",
    "    depth[4] = pkl.load(f)"
   ]
  },
  {
   "cell_type": "code",
   "execution_count": 142,
   "metadata": {
    "ExecuteTime": {
     "end_time": "2019-11-28T17:37:57.410698Z",
     "start_time": "2019-11-28T17:37:57.407698Z"
    },
    "hidden": true
   },
   "outputs": [],
   "source": [
    "colors = ['r', 'b', 'darkgreen', 'k']"
   ]
  },
  {
   "cell_type": "code",
   "execution_count": 210,
   "metadata": {
    "ExecuteTime": {
     "end_time": "2019-12-03T21:26:37.033698Z",
     "start_time": "2019-12-03T21:26:37.028698Z"
    },
    "hidden": true
   },
   "outputs": [],
   "source": [
    "plt.close('all')"
   ]
  },
  {
   "cell_type": "markdown",
   "metadata": {
    "heading_collapsed": true
   },
   "source": [
    "# Plot signal intensity vs depth"
   ]
  },
  {
   "cell_type": "code",
   "execution_count": 54,
   "metadata": {
    "ExecuteTime": {
     "end_time": "2019-11-26T12:36:28.729698Z",
     "start_time": "2019-11-26T12:36:28.685698Z"
    },
    "hidden": true
   },
   "outputs": [],
   "source": [
    "%matplotlib qt"
   ]
  },
  {
   "cell_type": "code",
   "execution_count": 45,
   "metadata": {
    "ExecuteTime": {
     "end_time": "2019-11-26T11:54:05.158698Z",
     "start_time": "2019-11-26T11:54:05.009698Z"
    },
    "hidden": true,
    "run_control": {
     "marked": true
    }
   },
   "outputs": [],
   "source": [
    "# Plot intensity vs depth for all channels\n",
    "fig, ax = plt.subplots(nrows = 1, ncols = 3)\n",
    "\n",
    "\n",
    "for section in range(n_sections):\n",
    "    \n",
    "    sig = signal[section + 1]\n",
    "    n = sig['Ndnf']\n",
    "    v = sig['Vip']\n",
    "    s = sig['Sst']\n",
    "    \n",
    "    d = depth[section + 1]\n",
    "    \n",
    "    ax[0].scatter(d, n, color = colors[section], alpha = 0.5, marker = '.')\n",
    "    ax[0].set_xlabel('Depth from pia (um)')\n",
    "    ax[0].set_ylabel('Intensity in Ndnf channel')\n",
    "    #ax[0].set_title('Max intensity = {0}'.format(int(np.max(n))))\n",
    "\n",
    "    ax[1].scatter(d, v, color = colors[section], alpha = 0.5, marker = '.')\n",
    "    ax[1].set_xlabel('Depth from pia (um)')\n",
    "    ax[1].set_ylabel('Intensity in Vip channel')\n",
    "    #ax[1].set_title('Max intensity = {0}'.format(int(np.max(avg_intensity_vip))))\n",
    "\n",
    "    ax[2].scatter(d, s, color = colors[section], alpha = 0.5, marker = '.')\n",
    "    ax[2].set_xlabel('Depth from pia (um)')\n",
    "    ax[2].set_ylabel('Intensity in Sst channel')\n",
    "    #ax[2].set_title('Max intensity = {0}'.format(int(np.max(avg_intensity_sst))))"
   ]
  },
  {
   "cell_type": "markdown",
   "metadata": {
    "ExecuteTime": {
     "end_time": "2019-11-26T11:53:23.032698Z",
     "start_time": "2019-11-26T11:53:23.021698Z"
    },
    "heading_collapsed": true
   },
   "source": [
    "# Plot signal vs depth with confidence intervals from background"
   ]
  },
  {
   "cell_type": "markdown",
   "metadata": {
    "heading_collapsed": true,
    "hidden": true
   },
   "source": [
    "## Confidence interval from bootstrapping background (95th percentile)"
   ]
  },
  {
   "cell_type": "code",
   "execution_count": 207,
   "metadata": {
    "ExecuteTime": {
     "end_time": "2019-12-03T21:24:35.748698Z",
     "start_time": "2019-12-03T21:24:35.637698Z"
    },
    "hidden": true
   },
   "outputs": [],
   "source": [
    "# Plot intensity vs depth for all channels\n",
    "fig, ax = plt.subplots(nrows = 1, ncols = 3)\n",
    "\n",
    "\n",
    "for section in range(2):\n",
    "    \n",
    "    sig = signal[section + 1]\n",
    "    n = sig['Ndnf']\n",
    "    v = sig['Vip']\n",
    "    s = sig['Sst']\n",
    "    \n",
    "    b = bg[section + 1]\n",
    "    bn = b['Ndnf']\n",
    "    bv = b['Vip']\n",
    "    bs = b['Sst']\n",
    "    \n",
    "    c = ci[section + 1]\n",
    "    cn = c['Ndnf']\n",
    "    cv = c['Vip']\n",
    "    cs = c['Sst']\n",
    "    \n",
    "    d = depth[section + 1]\n",
    "    \n",
    "    npos = n - bn > cn\n",
    "    vpos = v - bv > cv\n",
    "    spos = s - bs > cs\n",
    "    \n",
    "    ax[0].scatter(d, n, color = colors[section], alpha = 0.3, marker = 'o')\n",
    "    ax[0].scatter(d[npos], n[npos], color = 'k', marker = '.')\n",
    "    ax[0].set_xlabel('Depth from pia (um)')\n",
    "    ax[0].set_ylabel('Intensity in Ndnf channel (black => p < 0.05)')\n",
    "\n",
    "    ax[1].scatter(d, v, color = colors[section], alpha = 0.3, marker = 'o')\n",
    "    ax[1].scatter(d[vpos], v[vpos], color = 'k', marker = '.')\n",
    "    ax[1].set_xlabel('Depth from pia (um)')\n",
    "    ax[1].set_ylabel('Intensity in Vip channel (black => p < 0.05)')\n",
    "\n",
    "    ax[2].scatter(d, s, color = colors[section], alpha = 0.3, marker = 'o')\n",
    "    ax[2].scatter(d[spos], s[spos], color = 'k', marker = '.')\n",
    "    ax[2].set_xlabel('Depth from pia (um)')\n",
    "    ax[2].set_ylabel('Intensity in Sst channel (black => p < 0.05)')"
   ]
  },
  {
   "cell_type": "markdown",
   "metadata": {
    "heading_collapsed": true,
    "hidden": true
   },
   "source": [
    "## P value from bootstrapping background"
   ]
  },
  {
   "cell_type": "code",
   "execution_count": 211,
   "metadata": {
    "ExecuteTime": {
     "end_time": "2019-12-03T21:55:31.077698Z",
     "start_time": "2019-12-03T21:55:30.966698Z"
    },
    "hidden": true
   },
   "outputs": [],
   "source": [
    "# Plot intensity vs depth for all channels\n",
    "fig, ax = plt.subplots(nrows = 1, ncols = 3)\n",
    "\n",
    "\n",
    "for section in range(1, 2):\n",
    "    \n",
    "    sig = signal[section + 1]\n",
    "    n = sig['Ndnf']\n",
    "    v = sig['Vip']\n",
    "    s = sig['Sst']\n",
    "    \n",
    "    b = bg[section + 1]\n",
    "    bn = b['Ndnf']\n",
    "    bv = b['Vip']\n",
    "    bs = b['Sst']\n",
    "    \n",
    "    p = pv[section + 1]\n",
    "    pv_ndnf = p['Ndnf']\n",
    "    pv_vip = p['Vip']\n",
    "    pv_sst = p['Sst']\n",
    "    \n",
    "    d = depth[section + 1]\n",
    "    \n",
    "    npos = pv_ndnf < 0.05\n",
    "    vpos = pv_vip < 0.05\n",
    "    spos = pv_sst < 0.05\n",
    "    \n",
    "    ax[0].scatter(d, n - bn, color = colors[section], alpha = 0.5, marker = 'o')\n",
    "    ax[0].scatter(d[npos], n[npos] - bn[npos], color = 'k', marker = '.')\n",
    "    ax[0].set_xlabel('Depth from pia (um)')\n",
    "    ax[0].set_ylabel('Intensity in Ndnf channel (black => p < 0.05)')\n",
    "\n",
    "    ax[1].scatter(d, v - bv, color = colors[section], alpha = 0.5, marker = 'o')\n",
    "    ax[1].scatter(d[vpos], v[vpos] - bv[vpos], color = 'k', marker = '.')\n",
    "    ax[1].set_xlabel('Depth from pia (um)')\n",
    "    ax[1].set_ylabel('Intensity in Vip channel (black => p < 0.05)')\n",
    "\n",
    "    ax[2].scatter(d, s - bs, color = colors[section], alpha = 0.5, marker = 'o')\n",
    "    ax[2].scatter(d[spos], s[spos] - bs[spos], color = 'k', marker = '.')\n",
    "    ax[2].set_xlabel('Depth from pia (um)')\n",
    "    ax[2].set_ylabel('Intensity in Sst channel (black => p < 0.05)')"
   ]
  },
  {
   "cell_type": "markdown",
   "metadata": {
    "heading_collapsed": true,
    "hidden": true
   },
   "source": [
    "## Confidence interval = 2*std(background)"
   ]
  },
  {
   "cell_type": "code",
   "execution_count": 109,
   "metadata": {
    "ExecuteTime": {
     "end_time": "2019-11-28T03:53:29.837698Z",
     "start_time": "2019-11-28T03:53:29.653698Z"
    },
    "hidden": true
   },
   "outputs": [],
   "source": [
    "# Plot intensity vs depth for all channels\n",
    "fig, ax = plt.subplots(nrows = 2, ncols = 3)\n",
    "\n",
    "\n",
    "for section in range(2):\n",
    "    \n",
    "    sig = signal[section + 1]\n",
    "    n = sig['Ndnf']\n",
    "    v = sig['Vip']\n",
    "    s = sig['Sst']\n",
    "    \n",
    "    b = bg[section + 1]\n",
    "    bn = b['Ndnf']\n",
    "    bv = b['Vip']\n",
    "    bs = b['Sst']\n",
    "    \n",
    "    d = depth[section + 1]\n",
    "    \n",
    "    section = section\n",
    "    \n",
    "    ax[section, 0].scatter(d, n, color = colors[section], alpha = 0.5, marker = '.')\n",
    "    [x1, x2] = ax[section, 0].get_xlim()\n",
    "    ax[section, 0].plot(np.linspace(x1, x2, 10), np.ones(10)*(np.mean(bn) + 2*np.std(bn)), linestyle = '--', color = 'k')\n",
    "    ax[section, 0].plot(np.linspace(x1, x2, 10), np.ones(10)*(np.mean(bn) - 2*np.std(bn)), linestyle = '--', color = 'k')\n",
    "    \n",
    "    ax[section, 0].set_xlabel('Depth from pia (um)')\n",
    "    ax[section, 0].set_ylabel('Intensity in Ndnf channel')\n",
    "    #ax[0].set_title('Max intensity = {0}'.format(int(np.max(n))))\n",
    "\n",
    "    ax[section, 1].scatter(d, v, color = colors[section], alpha = 0.5, marker = '.')\n",
    "    ax[section, 1].plot(np.linspace(x1, x2, 10), np.ones(10)*(np.mean(bv) + 2*np.std(bv)), linestyle = '--', color = 'k')\n",
    "    ax[section, 1].plot(np.linspace(x1, x2, 10), np.ones(10)*(np.mean(bv) - 2*np.std(bv)), linestyle = '--', color = 'k')\n",
    "    ax[section, 1].set_xlabel('Depth from pia (um)')\n",
    "    ax[section, 1].set_ylabel('Intensity in Vip channel')\n",
    "    #ax[1].set_title('Max intensity = {0}'.format(int(np.max(avg_intensity_vip))))\n",
    "\n",
    "    ax[section, 2].scatter(d, s, color = colors[section], alpha = 0.5, marker = '.')\n",
    "    ax[section ,2].plot(np.linspace(x1, x2, 10), np.ones(10)*(np.mean(bs) + 2*np.std(bs)), linestyle = '--', color = 'k')\n",
    "    ax[section, 2].plot(np.linspace(x1, x2, 10), np.ones(10)*(np.mean(bs) - 2*np.std(bs)), linestyle = '--', color = 'k')\n",
    "    ax[section, 2].set_xlabel('Depth from pia (um)')\n",
    "    ax[section, 2].set_ylabel('Intensity in Sst channel')\n",
    "    #ax[2].set_title('Max intensity = {0}'.format(int(np.max(avg_intensity_sst))))"
   ]
  },
  {
   "cell_type": "markdown",
   "metadata": {
    "heading_collapsed": true
   },
   "source": [
    "# Plot signal vs background"
   ]
  },
  {
   "cell_type": "code",
   "execution_count": 103,
   "metadata": {
    "ExecuteTime": {
     "end_time": "2019-11-28T03:50:12.962698Z",
     "start_time": "2019-11-28T03:50:12.837698Z"
    },
    "hidden": true
   },
   "outputs": [],
   "source": [
    "# Plot intensity vs depth for all channels\n",
    "fig, ax = plt.subplots(nrows = 1, ncols = 3, figsize = (20, 10))\n",
    "# colors = ['r', 'b', 'g']\n",
    "\n",
    "for section in range(n_sections):\n",
    "    \n",
    "    sig = signal[section + 1]\n",
    "    n = sig['Ndnf']\n",
    "    v = sig['Vip']\n",
    "    s = sig['Sst']\n",
    "    \n",
    "    b = bg[section + 1]\n",
    "    n1 = b['Ndnf']\n",
    "    v1 = b['Vip']\n",
    "    s1 = b['Sst']\n",
    "    \n",
    "    ax[0].scatter(n, n1, color = colors[section], alpha = 0.5, marker = '.')\n",
    "    ax[0].set_ylabel('Local background in Ndnf channel')\n",
    "    ax[0].set_xlabel('Intensity in Ndnf channel')\n",
    "\n",
    "    ax[1].scatter(v, v1, color = colors[section], alpha = 0.5, marker = '.')\n",
    "    ax[1].set_ylabel('Local background in Vip channel')\n",
    "    ax[1].set_xlabel('Intensity in Vip channel')\n",
    "    \n",
    "    ax[2].scatter(s, s1, color = colors[section], alpha = 0.5, marker = '.')\n",
    "    ax[2].set_ylabel('Local background in Sst channel')\n",
    "    ax[2].set_xlabel('Intensity in Sst channel')"
   ]
  },
  {
   "cell_type": "code",
   "execution_count": 48,
   "metadata": {
    "ExecuteTime": {
     "end_time": "2019-11-26T11:59:02.834698Z",
     "start_time": "2019-11-26T11:59:02.815698Z"
    },
    "hidden": true
   },
   "outputs": [],
   "source": [
    "plt.close('all')"
   ]
  },
  {
   "cell_type": "markdown",
   "metadata": {
    "heading_collapsed": true
   },
   "source": [
    "# Plot true signal (raw - bg) vs bg"
   ]
  },
  {
   "cell_type": "code",
   "execution_count": 122,
   "metadata": {
    "ExecuteTime": {
     "end_time": "2019-11-28T04:44:18.685698Z",
     "start_time": "2019-11-28T04:44:18.568698Z"
    },
    "hidden": true
   },
   "outputs": [],
   "source": [
    "# Plot intensity vs depth for all channels\n",
    "fig, ax = plt.subplots(nrows = 1, ncols = 3, figsize = (20, 10))\n",
    "#colors = ['r', 'b', 'g']\n",
    "\n",
    "for section in range(n_sections):\n",
    "    \n",
    "    sig = signal[section + 1]\n",
    "    n = sig['Ndnf']\n",
    "    v = sig['Vip']\n",
    "    s = sig['Sst']\n",
    "    \n",
    "    b = bg[section + 1]\n",
    "    n1 = b['Ndnf']\n",
    "    v1 = b['Vip']\n",
    "    s1 = b['Sst']\n",
    "    \n",
    "    ax[0].scatter(n1, n - n1, color = colors[section], alpha = 0.5, marker = '.')\n",
    "    ax[0].set_ylabel('Signal - local background in Ndnf channel')\n",
    "    ax[0].set_xlabel('Local background in Ndnf channel')\n",
    "\n",
    "    ax[1].scatter(v1, v - v1, color = colors[section], alpha = 0.5, marker = '.')\n",
    "    ax[1].set_ylabel('Signal - local background in Vip channel')\n",
    "    ax[1].set_xlabel('Local background in Vip channel')\n",
    "    \n",
    "    ax[2].scatter(s1, s - s1, color = colors[section], alpha = 0.5, marker = '.')\n",
    "    ax[2].set_ylabel('Signal - local background in Sst channel')\n",
    "    ax[2].set_xlabel('Local background in Sst channel')"
   ]
  },
  {
   "cell_type": "markdown",
   "metadata": {
    "heading_collapsed": true
   },
   "source": [
    "# Plot signal - background vs p value"
   ]
  },
  {
   "cell_type": "code",
   "execution_count": 209,
   "metadata": {
    "ExecuteTime": {
     "end_time": "2019-12-03T21:26:09.216698Z",
     "start_time": "2019-12-03T21:26:09.110698Z"
    },
    "hidden": true
   },
   "outputs": [],
   "source": [
    "# Plot intensity vs depth for all channels\n",
    "fig, ax = plt.subplots(nrows = 1, ncols = 3, figsize = (20, 10))\n",
    "#colors = ['r', 'b', 'g']\n",
    "\n",
    "for section in range(2):\n",
    "    \n",
    "    sig = signal[section + 1]\n",
    "    n = sig['Ndnf']\n",
    "    v = sig['Vip']\n",
    "    s = sig['Sst']\n",
    "    \n",
    "    b = bg[section + 1]\n",
    "    n1 = b['Ndnf']\n",
    "    v1 = b['Vip']\n",
    "    s1 = b['Sst']\n",
    "    \n",
    "    p = pv[section + 1]\n",
    "    pv_ndnf = p['Ndnf']\n",
    "    pv_vip = p['Vip']\n",
    "    pv_sst = p['Sst']\n",
    "    \n",
    "    ax[0].scatter(pv_ndnf, n - n1, color = colors[section], alpha = 0.5, marker = '.')\n",
    "    ax[0].set_ylabel('Signal - local background in Ndnf channel')\n",
    "    ax[0].set_xlabel('p value of signal in Ndnf channel')\n",
    "\n",
    "    ax[1].scatter(pv_vip, v - v1, color = colors[section], alpha = 0.5, marker = '.')\n",
    "    ax[1].set_ylabel('Signal - local background in Vip channel')\n",
    "    ax[1].set_xlabel('p value of signal in Vip channel')\n",
    "    \n",
    "    ax[2].scatter(pv_sst, s - s1, color = colors[section], alpha = 0.5, marker = '.')\n",
    "    ax[2].set_ylabel('Signal - local background in Sst channel')\n",
    "    ax[2].set_xlabel('p value of signal in Sst channel')"
   ]
  },
  {
   "cell_type": "markdown",
   "metadata": {
    "heading_collapsed": true
   },
   "source": [
    "# Plot signal - background vs depth"
   ]
  },
  {
   "cell_type": "code",
   "execution_count": 104,
   "metadata": {
    "ExecuteTime": {
     "end_time": "2019-11-28T03:51:13.517698Z",
     "start_time": "2019-11-28T03:51:13.381698Z"
    },
    "hidden": true
   },
   "outputs": [],
   "source": [
    "# Plot intensity vs depth for all channels\n",
    "fig, ax = plt.subplots(nrows = 1, ncols = 3, figsize = (20, 10))\n",
    "# colors = ['r', 'b', 'g']\n",
    "\n",
    "for section in range(n_sections):\n",
    "    \n",
    "    sig = signal[section + 1]\n",
    "    b = bg[section + 1]\n",
    "    n = sig['Ndnf'] - b['Ndnf']\n",
    "    v = sig['Vip'] - b['Vip']\n",
    "    s = sig['Sst'] - b['Sst']\n",
    "    \n",
    "    d = depth[section + 1]\n",
    "    \n",
    "    ax[0].scatter(d, n, color = colors[section], alpha = 0.5, marker = '.')\n",
    "    ax[0].set_xlabel('Depth from pia (um)')\n",
    "    ax[0].set_ylabel('Signal - background in Ndnf channel')\n",
    "    #ax[0].set_title('Max intensity = {0}'.format(int(np.max(n))))\n",
    "\n",
    "    ax[1].scatter(d, v, color = colors[section], alpha = 0.5, marker = '.')\n",
    "    ax[1].set_xlabel('Depth from pia (um)')\n",
    "    ax[1].set_ylabel('Signal - background in Vip channel')\n",
    "    #ax[1].set_title('Max intensity = {0}'.format(int(np.max(avg_intensity_vip))))\n",
    "\n",
    "    ax[2].scatter(d, s, color = colors[section], alpha = 0.5, marker = '.')\n",
    "    ax[2].set_xlabel('Depth from pia (um)')\n",
    "    ax[2].set_ylabel('Signal - background in Sst channel')\n",
    "    #ax[2].set_title('Max intensity = {0}'.format(int(np.max(avg_intensity_sst))))"
   ]
  },
  {
   "cell_type": "markdown",
   "metadata": {
    "heading_collapsed": true
   },
   "source": [
    "# Plot background vs depth"
   ]
  },
  {
   "cell_type": "code",
   "execution_count": 105,
   "metadata": {
    "ExecuteTime": {
     "end_time": "2019-11-28T03:51:40.784698Z",
     "start_time": "2019-11-28T03:51:40.661698Z"
    },
    "hidden": true
   },
   "outputs": [],
   "source": [
    "# Plot intensity vs depth for all channels\n",
    "fig, ax = plt.subplots(nrows = 1, ncols = 3, figsize = (20, 10))\n",
    "# colors = ['r', 'b', 'g']\n",
    "\n",
    "for section in range(n_sections):\n",
    "    \n",
    "    b = bg[section + 1]\n",
    "    n = b['Ndnf']\n",
    "    v = b['Vip']\n",
    "    s = b['Sst']\n",
    "    \n",
    "    d = depth[section + 1]\n",
    "    \n",
    "    ax[0].scatter(d, n, color = colors[section], alpha = 0.5, marker = '.')\n",
    "    ax[0].set_xlabel('Depth from pia (um)')\n",
    "    ax[0].set_ylabel('Background in Ndnf channel')\n",
    "    #ax[0].set_title('Max intensity = {0}'.format(int(np.max(n))))\n",
    "\n",
    "    ax[1].scatter(d, v, color = colors[section], alpha = 0.5, marker = '.')\n",
    "    ax[1].set_xlabel('Depth from pia (um)')\n",
    "    ax[1].set_ylabel('Background in Vip channel')\n",
    "    #ax[1].set_title('Max intensity = {0}'.format(int(np.max(avg_intensity_vip))))\n",
    "\n",
    "    ax[2].scatter(d, s, color = colors[section], alpha = 0.5, marker = '.')\n",
    "    ax[2].set_xlabel('Depth from pia (um)')\n",
    "    ax[2].set_ylabel('Background in Sst channel')\n",
    "    #ax[2].set_title('Max intensity = {0}'.format(int(np.max(avg_intensity_sst))))"
   ]
  },
  {
   "cell_type": "markdown",
   "metadata": {
    "heading_collapsed": true
   },
   "source": [
    "# Plot gene1 vs gene2"
   ]
  },
  {
   "cell_type": "code",
   "execution_count": 27,
   "metadata": {
    "ExecuteTime": {
     "end_time": "2019-11-26T11:34:12.394698Z",
     "start_time": "2019-11-26T11:34:12.253698Z"
    },
    "hidden": true
   },
   "outputs": [],
   "source": [
    "# Plot intensity vs depth for all channels\n",
    "fig, ax = plt.subplots(nrows = 1, ncols = 3, figsize = (20, 10))\n",
    "colors = ['r', 'b', 'g']\n",
    "\n",
    "for section in range(n_sections):\n",
    "    \n",
    "    sig = signal[section + 1]\n",
    "    n = sig['Ndnf']\n",
    "    v = sig['Vip']\n",
    "    s = sig['Sst']\n",
    "    \n",
    "    d = depth[section + 1]\n",
    "    \n",
    "    ax[0].scatter(v, n, color = colors[section], alpha = 0.5)\n",
    "    ax[0].set_xlabel('Intensity in Vip channel')\n",
    "    ax[0].set_ylabel('Intensity in Ndnf channel')\n",
    "    #ax[0].set_title('Max intensity = {0}'.format(int(np.max(n))))\n",
    "\n",
    "    ax[1].scatter(v, s, color = colors[section], alpha = 0.5)\n",
    "    ax[1].set_xlabel('Intensity in Vip channel')\n",
    "    ax[1].set_ylabel('Intensity in Sst channel')\n",
    "    #ax[1].set_title('Max intensity = {0}'.format(int(np.max(avg_intensity_vip))))\n",
    "\n",
    "    ax[2].scatter(s, n, color = colors[section], alpha = 0.5)\n",
    "    ax[2].set_xlabel('Intensity in Sst channel')\n",
    "    ax[2].set_ylabel('Intensity in Ndnf channel')\n",
    "    #ax[2].set_title('Max intensity = {0}'.format(int(np.max(avg_intensity_sst))))"
   ]
  },
  {
   "cell_type": "markdown",
   "metadata": {},
   "source": [
    "# Classify cells"
   ]
  },
  {
   "cell_type": "code",
   "execution_count": 93,
   "metadata": {
    "ExecuteTime": {
     "end_time": "2019-11-26T13:16:24.863698Z",
     "start_time": "2019-11-26T13:16:24.857698Z"
    }
   },
   "outputs": [],
   "source": [
    "def moving_average(a, n=3) :\n",
    "    ret = np.cumsum(a, dtype=float)\n",
    "    ret[n:] = ret[n:] - ret[:-n]\n",
    "    return ret / n"
   ]
  },
  {
   "cell_type": "code",
   "execution_count": 121,
   "metadata": {
    "ExecuteTime": {
     "end_time": "2019-11-28T04:36:28.936698Z",
     "start_time": "2019-11-28T04:36:28.797698Z"
    },
    "run_control": {
     "marked": true
    }
   },
   "outputs": [
    {
     "name": "stderr",
     "output_type": "stream",
     "text": [
      "No handles with labels found to put in legend.\n",
      "No handles with labels found to put in legend.\n",
      "No handles with labels found to put in legend.\n"
     ]
    }
   ],
   "source": [
    "fig, ax = plt.subplots(nrows = 2, ncols = 2)\n",
    "\n",
    "for section in range(n_sections):\n",
    "    \n",
    "    sig = signal[section + 1]\n",
    "    n = sig['Ndnf']\n",
    "    v = sig['Vip']\n",
    "    s = sig['Sst']\n",
    "    \n",
    "    b = bg[section + 1]\n",
    "    n1 = b['Ndnf']\n",
    "    v1 = b['Vip']\n",
    "    s1 = b['Sst']\n",
    "    \n",
    "    d = depth[section + 1]\n",
    "        \n",
    "    #npos = n > np.mean(n1) + 2*np.std(n1)\n",
    "    npos = n > 1000\n",
    "    vpos = v > np.mean(v1) + 2*np.std(v1)\n",
    "    spos = s > np.mean(s1) + 2*np.std(s1)\n",
    "    \n",
    "    row = int(section/2)\n",
    "    col = np.mod(section, 2)\n",
    "    \n",
    "    order = np.argsort(d)\n",
    "    \n",
    "    ax[row, col].plot(d[order], moving_average(npos[order], n = 20)*10, color = 'gold', label = 'Ndnf')\n",
    "    ax[row, col].plot(d[order], moving_average(vpos[order], n = 20)*10, color = 'g', label = 'Vip')\n",
    "    ax[row, col].plot(d[order], moving_average(spos[order], n = 20)*10, color = 'r', label = 'Sst')\n",
    "    \n",
    "    plt.legend()\n",
    "    \n",
    "    #ax[row, col].set_title('Section {0}'.format(section + 1))\n",
    "    if row == 1:\n",
    "        ax[row, col].set_xlabel('Depth from pia (um)')\n",
    "    \n",
    "    if col == 0:\n",
    "        ax[row, col].set_ylabel('# of cells positive for gene')"
   ]
  },
  {
   "cell_type": "code",
   "execution_count": null,
   "metadata": {},
   "outputs": [],
   "source": []
  },
  {
   "cell_type": "code",
   "execution_count": 136,
   "metadata": {
    "ExecuteTime": {
     "end_time": "2019-11-28T16:07:31.218698Z",
     "start_time": "2019-11-28T16:07:31.191698Z"
    }
   },
   "outputs": [],
   "source": [
    "plt.close('all')"
   ]
  },
  {
   "cell_type": "code",
   "execution_count": null,
   "metadata": {},
   "outputs": [],
   "source": []
  }
 ],
 "metadata": {
  "kernelspec": {
   "display_name": "Python 3",
   "language": "python",
   "name": "python3"
  },
  "language_info": {
   "codemirror_mode": {
    "name": "ipython",
    "version": 3
   },
   "file_extension": ".py",
   "mimetype": "text/x-python",
   "name": "python",
   "nbconvert_exporter": "python",
   "pygments_lexer": "ipython3",
   "version": "3.7.4"
  },
  "toc": {
   "base_numbering": 1,
   "nav_menu": {},
   "number_sections": true,
   "sideBar": true,
   "skip_h1_title": false,
   "title_cell": "Table of Contents",
   "title_sidebar": "Contents",
   "toc_cell": false,
   "toc_position": {},
   "toc_section_display": "block",
   "toc_window_display": true
  },
  "varInspector": {
   "cols": {
    "lenName": 16,
    "lenType": 16,
    "lenVar": 40
   },
   "kernels_config": {
    "python": {
     "delete_cmd_postfix": "",
     "delete_cmd_prefix": "del ",
     "library": "var_list.py",
     "varRefreshCmd": "print(var_dic_list())"
    },
    "r": {
     "delete_cmd_postfix": ") ",
     "delete_cmd_prefix": "rm(",
     "library": "var_list.r",
     "varRefreshCmd": "cat(var_dic_list()) "
    }
   },
   "oldHeight": 580.656,
   "position": {
    "height": "40px",
    "left": "1592px",
    "right": "20px",
    "top": "200px",
    "width": "622.656px"
   },
   "types_to_exclude": [
    "module",
    "function",
    "builtin_function_or_method",
    "instance",
    "_Feature"
   ],
   "varInspector_section_display": "none",
   "window_display": true
  }
 },
 "nbformat": 4,
 "nbformat_minor": 2
}
